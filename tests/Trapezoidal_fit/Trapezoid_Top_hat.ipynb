{
 "cells": [
  {
   "cell_type": "markdown",
   "metadata": {
    "collapsed": true
   },
   "source": [
    "# Fitting a tophat function to data\n",
    "# The goal is to detect free-floating planets microlensing events using this function, because they most resemble this function due to finite source effect"
   ]
  },
  {
   "cell_type": "code",
   "execution_count": 1,
   "metadata": {
    "collapsed": true
   },
   "outputs": [],
   "source": [
    "import numpy as np\n",
    "import matplotlib.pyplot as plt\n",
    "from tqdm import tqdm\n",
    "import os\n",
    "import pandas as pd\n",
    "import matplotlib.patches as patches\n",
    "import random\n",
    "from matplotlib.lines import Line2D\n",
    "import scipy.optimize as opt\n",
    "from scipy.interpolate import interp1d\n",
    "from scipy.optimize import curve_fit\n",
    "from matplotlib.patches import Patch\n",
    "\n",
    "%matplotlib inline"
   ]
  },
  {
   "cell_type": "code",
   "execution_count": 2,
   "metadata": {
    "collapsed": true
   },
   "outputs": [],
   "source": [
    "def med_med (true,fitted):\n",
    "    temp = fitted - true\n",
    "    return (np.median(np.abs(temp-np.median(temp))))"
   ]
  },
  {
   "cell_type": "code",
   "execution_count": 3,
   "metadata": {
    "collapsed": true
   },
   "outputs": [],
   "source": [
    "# Low-pass filter to smooth out the noise\n",
    "\n",
    "def low_pass_filter(y, box_pts, mode='same', base=1):\n",
    "    box = base*(np.ones(box_pts)/box_pts)\n",
    "    y_filtered = np.convolve(y, box, mode=mode)\n",
    "    if mode=='same':\n",
    "        y_filtered[0:int(box_pts/2)]=y_filtered[int(box_pts/2)]\n",
    "        y_filtered[len(y_filtered)-int(box_pts/2):len(y_filtered)]=y_filtered[len(y_filtered)-int(box_pts/2)]\n",
    "    return y_filtered"
   ]
  },
  {
   "cell_type": "code",
   "execution_count": 4,
   "metadata": {
    "collapsed": true
   },
   "outputs": [],
   "source": [
    "def calc_chisq(lightcurve,fx):\n",
    "    \"\"\"Function to calculate the chi squared of the fit of the lightcurve\n",
    "    data to the function provided\"\"\"\n",
    "    \n",
    "    chisq = ((lightcurve - fx)**2 / fx).sum()\n",
    "    \n",
    "    return chisq"
   ]
  },
  {
   "cell_type": "code",
   "execution_count": 5,
   "metadata": {
    "collapsed": true
   },
   "outputs": [],
   "source": [
    "def calc_chisq2(lightcurve,fx,ferror):\n",
    "    \"\"\"Function to calculate the chi squared of the fit of the lightcurve\n",
    "    data to the function provided\"\"\"\n",
    "    \n",
    "    chisq = ((lightcurve - fx)**2 / (ferror**2)).sum()\n",
    "    \n",
    "    return chisq"
   ]
  },
  {
   "cell_type": "code",
   "execution_count": 6,
   "metadata": {
    "collapsed": true
   },
   "outputs": [],
   "source": [
    "# ASSUMPTION = t and m are panda dataframes\n",
    "# Create a function that: \n",
    "# 1- Smoothes the lightcurve\n",
    "# 2- Divides it into bins of arbitrary sizes\n",
    "# 3- Calculates (m - mean)/std(m)\n",
    "# 4- Counts the number of outliers in each bin with deviations larger than threshold*sigma\n",
    "\n",
    "def find_peaks (t, m, smooth='yes', bin_size = 30, threshold = 3):\n",
    "    \n",
    "    if smooth == 'yes':\n",
    "        m = low_pass_filter(m,8)\n",
    "    else:\n",
    "        pass\n",
    "    \n",
    "    bins = np.linspace(t.min(),t.max(),int((t.max()-t.min())/bin_size))\n",
    "    groups = df.groupby(np.digitize(t, bins))\n",
    "    \n",
    "    std_ = np.std(m)\n",
    "    delta_m = []\n",
    "    t__ = []\n",
    "    c=0\n",
    "    for i in groups.indices:\n",
    "        #print c\n",
    "        c = c+1\n",
    "        #print i\n",
    "        m_ = m[groups.indices[i]]\n",
    "        t_ = t[groups.indices[i]]\n",
    "        #print t,m\n",
    "        del_m = np.asarray((np.abs(m_- m_.mean())/std_))\n",
    "        delta_m.append(del_m)\n",
    "        t__.append(np.asarray(t_))\n",
    "        \n",
    "    n_outliers = []\n",
    "    t_mean_in_each_bin = []\n",
    "    for j in range(len(delta_m)):\n",
    "    \n",
    "        n_outliers.append(len(np.where(delta_m[j]>threshold)[0])) \n",
    "        t_mean_in_each_bin.append(np.mean(t__[j]))\n",
    "        \n",
    "    return n_outliers, t_mean_in_each_bin"
   ]
  },
  {
   "cell_type": "code",
   "execution_count": 7,
   "metadata": {
    "collapsed": true
   },
   "outputs": [],
   "source": [
    "def tophat_fitter (xdata, ydata, yerr): #ydata is magnitude, baseline of xdata is set on zero\n",
    "    \n",
    "    \n",
    "    # give p0 [t0, tE, am]\n",
    "    t0_ini = xdata[np.argmax(ydata[ydata <np.percentile(ydata,[0,99.95] )[0]])]\n",
    "    tE_ini = 0.5*(xdata.values[1]-xdata.values[0])*len(np.where(abs(ydata-np.median(ydata))>2*np.std(ydata))[0])\n",
    "    am_ini = np.max(ydata[ydata <np.percentile(ydata,[0,99.95] )[0]]) \n",
    "\n",
    "    print t0_ini,tE_ini,am_ini\n",
    "\n",
    "\n",
    "    paramt = [t0_ini, tE_ini, am_ini]\n",
    "    #paramt = [2456161.49889, 2, -0.08]\n",
    "    #print paramt\n",
    "\n",
    "\n",
    "\n",
    "    # optmizing\n",
    "\n",
    "    nll = lambda *args: -lnlike(*args)\n",
    "    result = opt.minimize(nll, paramt, args=(np.asarray(xdata),np.asarray(ydata), np.asarray(yerr)),method = 'Nelder-Mead')\n",
    "    t0_ml, tE_ml, am_ml = result['x']\n",
    "\n",
    "    print t0_ml, tE_ml, am_ml\n",
    "\n",
    "    guess    = rect1(xdata,*paramt)\n",
    "    solution = rect1(xdata,*result['x'])\n",
    "    \n",
    "    return t0_ml, tE_ml, am_ml, guess, solution\n",
    "\n",
    "    "
   ]
  },
  {
   "cell_type": "code",
   "execution_count": 8,
   "metadata": {
    "collapsed": true
   },
   "outputs": [],
   "source": [
    "home = os.path.expanduser(\"~\")"
   ]
  },
  {
   "cell_type": "code",
   "execution_count": 9,
   "metadata": {
    "collapsed": true
   },
   "outputs": [],
   "source": [
    "direc = os.listdir(home+'/Library/Mobile Documents/com~apple~CloudDocs/Microlensing_Data_Challeng/data-challenge-1/lc')"
   ]
  },
  {
   "cell_type": "code",
   "execution_count": 10,
   "metadata": {
    "collapsed": true
   },
   "outputs": [],
   "source": [
    "# Path to the larger dataset\n",
    "home = os.path.expanduser(\"~\")\n",
    "\n",
    "temp = home+'/Library/Mobile Documents/com~apple~CloudDocs/Microlensing_Data_Challeng/data-challenge-1/alldclc/'#lc/'\n",
    "direc = os.listdir(temp)"
   ]
  },
  {
   "cell_type": "code",
   "execution_count": 11,
   "metadata": {
    "collapsed": true
   },
   "outputs": [],
   "source": [
    "'''\n",
    "Defining the tophat function, a function that has a constant baseline \n",
    "except for a short interval at which it has another constant value\n",
    "# x is the time baseline\n",
    "# t0 is the time of the center of the tophat\n",
    "# tE is half of the duration of the tophat\n",
    "# am is the amplitude of the tophat\n",
    "'''\n",
    "def rect1(x,t0, tE, am):\n",
    "    '''\n",
    "    x  = time array\n",
    "    t0 = time of center of the top-hat\n",
    "    tE = half duration of the top-hat\n",
    "    am = amplitude\n",
    "    '''\n",
    "    x0 = x - t0\n",
    "    return am*np.where(np.abs(x0)<=tE, 1, 0)\n",
    "\n",
    "\n",
    "\n",
    "\n",
    "\n",
    "\n",
    "def sinusoid(x, amp, off,P):\n",
    "    '''\n",
    "    amp = amplitude\n",
    "    off = offset\n",
    "    '''\n",
    "    x0 = (x-off)\n",
    "    return amp*np.sin(x0)\n",
    "\n",
    "\n",
    "def trapezoid(x, a, b, tau1, tau2, tau3, tau4):\n",
    "    # a and c are slopes\n",
    "    #tau1 and tau2 mark the beginning and end of the flat top\n",
    "#     y = np.zeros(len(x))\n",
    "#     c = -np.abs(c)\n",
    "#     a = np.abs(a)\n",
    "#     #(tau1,tau2) = (min(tau1,tau2),max(tau1,tau2))\n",
    "#     y[:int(tau1)] = base\n",
    "#     y[int(tau1):int(tau2)] =  a*x[:int(tau1)] + b\n",
    "#     y[int(tau2):int(tau3)] =  a*tau1 + b \n",
    "#     y[int(tau2):int(tau4)] = c*(x[int(tau2):]-tau2) + (a*tau1 + b)\n",
    "#     y[int(tau4):] = base\n",
    "\n",
    "    y = np.zeros(len(x))\n",
    "    df_trap = pd.DataFrame({'x': x, 'y': y})\n",
    "    \n",
    "    c1 = np.abs((b-a)/(tau2-tau1))\n",
    "    c2 = -1 * np.abs((a-b)/(tau4-tau3))\n",
    "    \n",
    "    df_trap['y'][df_trap['x']<tau1] = a\n",
    "    df_trap['y'][(df_trap['x']>tau1) & (df_trap['x']<tau2)] =  c1*df_trap['x'][(df_trap['x']>tau1) & (df_trap['x']<tau2)] + (a- c1 * tau1)\n",
    "    df_trap['y'][(df_trap['x']>tau2) & (df_trap['x']<tau3)] =  b\n",
    "    df_trap['y'][(df_trap['x']>tau3) & (df_trap['x']<tau4)] = c2*df_trap['x'][(df_trap['x']>tau3) & (df_trap['x']<tau4)] + (a- c2 * tau4)\n",
    "    df_trap['y'][df_trap['x']>tau4] = a\n",
    "\n",
    "    return df_trap['y']\n",
    "\n",
    "# calculating the likelihood function\n",
    "\n",
    "def lnlike(theta, t, f, f_err):\n",
    "    t0, tE, amp  = theta\n",
    "    model = rect1(t,t0, tE,amp)\n",
    "    inv_sigma2 = 1.0/(f_err**2)\n",
    "    return -0.5*(np.sum((f-model)**2*inv_sigma2))\n",
    "\n"
   ]
  },
  {
   "cell_type": "code",
   "execution_count": 12,
   "metadata": {
    "collapsed": true
   },
   "outputs": [],
   "source": [
    "def localize_event(lightcurve,t0,tE):\n",
    "    \"\"\"Function to estimate roughly the area around the peak of an event, \n",
    "    and identify which timestamps in the array belong to the event versus\n",
    "    the baseline\n",
    "    \"\"\"\n",
    "    \n",
    "    idx1 = np.where(lightcurve >= t0-tE)[0]\n",
    "    idx2 = np.where(lightcurve <= t0+tE)[0]\n",
    "    event = list(set(idx1).intersection(set(idx2)))\n",
    "    \n",
    "    baseline = np.arange(0,len(lightcurve),1)\n",
    "    baseline = np.delete(baseline,event)\n",
    "    \n",
    "    it0 = np.where(lightcurve == t0)[0][0]\n",
    "    \n",
    "    #print min(lightcurve)\n",
    "    #print it0\n",
    "    return baseline, event, it0"
   ]
  },
  {
   "cell_type": "code",
   "execution_count": 13,
   "metadata": {
    "collapsed": true
   },
   "outputs": [],
   "source": [
    "def prepare(t,m,err):\n",
    "    \n",
    "    df = pd.DataFrame({'t': t, 'magnitude': m, 'm_err': err})\n",
    "    peaks = np.array([t[np.argmin(m)]])\n",
    "    baseline, event, it0 = localize_event(df['t'], peaks[0],50)\n",
    "    \n",
    "    base_mag = np.median(df['magnitude'][baseline])\n",
    "    df['A'] = 10 ** (0.4*(base_mag - df['magnitude']))\n",
    "    \n",
    "    interpol = interp1d(df['t'],df['A'], kind='cubic')\n",
    "    dt = np.abs(df['t'][np.argmin(np.abs(interpol(df['t'])-1.06))]-peaks[0])\n",
    "    #print dt\n",
    "    \n",
    "    if dt==0.0:\n",
    "        dt = 50\n",
    "\n",
    "\n",
    "        \n",
    "    \n",
    "    #dt = 50\n",
    "    baseline, event, it0 = localize_event(df['t'], peaks[0],dt)\n",
    "\n",
    "    while (np.abs((df['t'][event]).diff())).max() > 0.1:\n",
    "        \n",
    "        if dt>20:\n",
    "            dt = dt - 10\n",
    "            baseline, event, it0 = localize_event(df['t'], peaks[0],dt)\n",
    "        else:\n",
    "            break\n",
    "    #print dt    \n",
    "    return df, interpol,baseline, event, it0, dt\n",
    "\n",
    "\n"
   ]
  },
  {
   "cell_type": "code",
   "execution_count": 681,
   "metadata": {
    "collapsed": false
   },
   "outputs": [],
   "source": [
    "name = 'mag.dcnormffp_0_82_162.det.lc.W149'\n",
    "f = home+'/Library/Mobile Documents/com~apple~CloudDocs/Microlensing_Data_Challeng/data-challenge-1/alldclc/'+str(name)"
   ]
  },
  {
   "cell_type": "code",
   "execution_count": 682,
   "metadata": {
    "collapsed": true
   },
   "outputs": [],
   "source": [
    "# Testing the fit on an OGLE free-floating candidate with a large value of rho\n",
    "\n",
    "# f = 'data/OGLE_2012_BLG_1323/phot.dat'"
   ]
  },
  {
   "cell_type": "code",
   "execution_count": 683,
   "metadata": {
    "collapsed": false
   },
   "outputs": [],
   "source": [
    "t,m,e = np.loadtxt(f,unpack=True, usecols=(0,1, 2))\n",
    "\n",
    "df, interpol,baseline, event, it0, dt = prepare(t,m,e)\n",
    "\n",
    "df['magnitude_modified'] = np.median(df['magnitude'][baseline]) - df['magnitude']\n",
    "\n",
    "xdata = df['t']\n",
    "ydata = df['magnitude_modified']\n",
    "\n",
    "t0_ini = xdata[np.argmax(ydata[ydata <np.percentile(ydata,[0,100] )[1]])]\n",
    "#tE_ini1 = 0.5*(xdata.values[1]-xdata.values[0])*len(np.where(abs(ydata-np.median(ydata))>2*np.std(ydata))[0])\n",
    "am_ini = np.max(ydata[ydata <np.percentile(ydata,[0,100] )[1]]) \n",
    "\n",
    "tE_ini = [10., 1., 0.1, 0.01]\n",
    "\n",
    "chisqr = []\n",
    "popt_final = []\n",
    "\n",
    "for tE_i in tE_ini:\n",
    "\n",
    "\n",
    "    a, b, tau1, tau2, tau3, tau4 = 0, am_ini, t0_ini-1*tE_i, t0_ini-0.5*tE_i, t0_ini+0.5*tE_i, t0_ini+1*tE_i\n",
    "\n",
    "\n",
    "\n",
    "    paramt = [a, b, tau1, tau2, tau3, tau4]\n",
    "\n",
    "    # optmizing\n",
    "    popt, pcov = opt.curve_fit(trapezoid, xdata, ydata, p0=paramt)\n",
    "\n",
    "    chisqr.append(calc_chisq2(ydata,trapezoid(xdata, *popt),e))\n",
    "    popt_final.append(popt)\n",
    "\n",
    "\n",
    "    chisqr_final = min(chisqr)\n",
    "    popt = popt_final[np.argmin(chisqr)]\n",
    "\n",
    "guess    = trapezoid(xdata, *paramt)\n",
    "solution = trapezoid(xdata, *popt)\n",
    "\n"
   ]
  },
  {
   "cell_type": "code",
   "execution_count": 684,
   "metadata": {
    "collapsed": true
   },
   "outputs": [],
   "source": [
    "guess = np.median(df['magnitude'][baseline])-guess\n",
    "solution = np.median(df['magnitude'][baseline])-solution\n",
    "\n"
   ]
  },
  {
   "cell_type": "code",
   "execution_count": 685,
   "metadata": {
    "collapsed": true
   },
   "outputs": [],
   "source": [
    "t0_ml = xdata[np.argmin(np.abs(xdata-(popt[2]+(popt[5]-popt[2])/2)))]\n",
    "tE_ml = (popt[5]-popt[2])\n",
    "tE_flat = np.abs(popt[4]-popt[3])\n",
    "tE_flat_ratio = tE_flat/tE_ml\n",
    "am_ml = popt[1]"
   ]
  },
  {
   "cell_type": "code",
   "execution_count": 686,
   "metadata": {
    "collapsed": false
   },
   "outputs": [
    {
     "name": "stdout",
     "output_type": "stream",
     "text": [
      "1620.5398809998296\n"
     ]
    }
   ],
   "source": [
    "print t0_ml-2458234"
   ]
  },
  {
   "cell_type": "code",
   "execution_count": 687,
   "metadata": {
    "collapsed": false
   },
   "outputs": [
    {
     "name": "stdout",
     "output_type": "stream",
     "text": [
      "1.6586947944015265 20.749742601385343\n"
     ]
    },
    {
     "data": {
      "image/png": "[encoded data removed]",
      "text/plain": [
       "<matplotlib.figure.Figure at 0x494f4bd10>"
      ]
     },
     "metadata": {},
     "output_type": "display_data"
    }
   ],
   "source": [
    "# tE_ini = 0.5*(xdata.values[1]-xdata.values[0])*len(np.where(abs(ydata-np.median(ydata))>3*np.std(ydata))[0])\n",
    "\n",
    "\n",
    "plt.figure(1)\n",
    "plt.plot(df['t']-2458234, df['magnitude'],'.',color='grey', markersize = 15)\n",
    "plt.plot(df['t']-2458234, solution,'g-', linewidth= 3)\n",
    "\n",
    "\n",
    "plt.xlim(t0_ml-2458234-2*tE_ml, t0_ml-2458234+2*tE_ml)\n",
    "\n",
    "print tE_ml, tE_flat_ratio\n",
    "\n",
    "plt.gca().invert_yaxis()\n",
    "fig = plt.gcf()\n",
    "fig.set_size_inches(12.0,10.0)"
   ]
  },
  {
   "cell_type": "markdown",
   "metadata": {},
   "source": []
  },
  {
   "cell_type": "code",
   "execution_count": 139,
   "metadata": {
    "collapsed": false
   },
   "outputs": [],
   "source": [
    "# #Fitting trapezoid to Data Challenge light curves\n",
    "\n",
    "\n",
    "# direc.sort()\n",
    "# result = {'name':[], 't0_ml':[], 'tE_ml':[], 'a':[], 'b':[], 'tau1':[],'tau2':[], 'tau3':[],\n",
    "#           'tau4':[], 'mag_med':[], 'guess':[], 'solution':[], 'xdata': [], 'ydata': [], 'yerr': [],\n",
    "#          'second?': []}\n",
    "# c = 0 \n",
    "\n",
    "# for f in tqdm(direc):\n",
    "#     #print f\n",
    "    \n",
    "#     if  f.endswith('.W149') and f.startswith('mag.'):\n",
    "        \n",
    "#         sec = 0\n",
    "#         c = c +1\n",
    "        \n",
    "#         try:\n",
    "#             t,m,e = np.loadtxt(temp+str(f),unpack=True, usecols=(0,1, 2))\n",
    "\n",
    "#             df, interpol,baseline, event, it0, dt = prepare(t,m,e)\n",
    "            \n",
    "#             df['magnitude_modified'] = np.median(df['magnitude'][baseline]) - df['magnitude']\n",
    "            \n",
    "#             xdata = df['t']\n",
    "#             ydata = df['magnitude_modified']\n",
    "            \n",
    "#             t0_ini = xdata[np.argmax(ydata[ydata <np.percentile(ydata,[0,99.95] )[1]])]\n",
    "#             tE_ini = 0.5*(xdata.values[1]-xdata.values[0])*len(np.where(abs(ydata-np.median(ydata))>2*np.std(ydata))[0])\n",
    "#             am_ini = np.max(ydata[ydata <np.percentile(ydata,[0,99.95] )[1]]) \n",
    "\n",
    "#             a, b, tau1, tau2, tau3, tau4 = 0, am_ini, t0_ini-1*tE_ini, t0_ini-0.5*tE_ini, t0_ini+0.5*tE_ini, t0_ini+1*tE_ini\n",
    "\n",
    "#             #print a, b, tau1, tau2, tau3, tau4\n",
    "\n",
    "\n",
    "#             paramt = [a, b, tau1, tau2, tau3, tau4]\n",
    "\n",
    "#             # optmizing\n",
    "#             popt, pcov = opt.curve_fit(trapezoid, xdata, ydata, p0=paramt)\n",
    "            \n",
    "            \n",
    "#             # For very short events, the above setting doesn't work and we add another turn of fits to fix that:\n",
    "# #             if np.abs(popt[5]-popt[2]) > 0.7:\n",
    "                \n",
    "#             t0_ini = xdata[np.argmax(ydata[ydata <np.percentile(ydata,[0,100] )[1]])]\n",
    "#             tE_ini = 0.5 #0.5*(xdata.values[1]-xdata.values[0])*len(np.where(abs(ydata-np.median(ydata))>2*np.std(ydata))[0])\n",
    "#             am_ini = np.max(ydata[ydata <np.percentile(ydata,[0,100] )[1]]) \n",
    "\n",
    "#             a, b, tau1, tau2, tau3, tau4 = 0, am_ini, t0_ini-1*tE_ini, t0_ini-0.5*tE_ini, t0_ini+0.5*tE_ini, t0_ini+1*tE_ini\n",
    "\n",
    "#             #print f\n",
    "\n",
    "\n",
    "#             paramt = [a, b, tau1, tau2, tau3, tau4]\n",
    "\n",
    "#             # optmizing\n",
    "                \n",
    "                \n",
    "#             popt2, pcov2 = opt.curve_fit(trapezoid, xdata, ydata, p0=paramt)\n",
    "                \n",
    "#             if calc_chisq2(ydata,trapezoid(xdata, *popt2),e) < calc_chisq2(ydata,trapezoid(xdata, *popt),e):\n",
    "                \n",
    "#                 popt = popt2\n",
    "#                 sec = 1\n",
    "\n",
    "#             guess    = trapezoid(xdata, *paramt)\n",
    "#             solution = trapezoid(xdata, *popt)\n",
    "            \n",
    "#             t0_ml = xdata[np.argmin(xdata-((popt[5]-popt[2])/2))]\n",
    "#             tE_ml = (popt[5]-popt[2])\n",
    "#             tE_flat = (popt[4]-popt[3])\n",
    "#             tE_flat_ratio = tE_flat/tE_ml\n",
    "#             am_ml = popt[1]\n",
    "            \n",
    "            \n",
    "#             result['name'].append(f)\n",
    "#             result['t0_ml'].append(t0_ml)\n",
    "#             result['tE_ml'].append(tE_ml)\n",
    "#             result['a'].append(popt[0])\n",
    "#             result['b'].append(popt[1])\n",
    "#             result['tau1'].append(popt[2])\n",
    "#             result['tau2'].append(popt[3])\n",
    "#             result['tau3'].append(popt[4])\n",
    "#             result['tau4'].append(popt[5])\n",
    "#             result['mag_med'].append(np.median(df['magnitude'][baseline]))\n",
    "#             result['guess'].append(np.median(df['magnitude'][baseline])-guess)\n",
    "#             result['solution'].append(np.median(df['magnitude'][baseline])-solution)\n",
    "#             result['xdata'].append(df['t'])\n",
    "#             result['ydata'].append(df['magnitude'])\n",
    "#             result['yerr'].append(df['m_err'])\n",
    "#             result['second?'].append(sec)\n",
    "            \n",
    "#         except (RuntimeError, TypeError, NameError, ValueError):\n",
    "#             print 'error:'+str(f)\n",
    "#             pass\n",
    "# #     if c == 4:\n",
    "# #         break\n",
    "\n",
    "# print 'done'\n",
    "\n",
    "\n",
    "\n",
    "\n",
    "\n",
    "\n"
   ]
  },
  {
   "cell_type": "code",
   "execution_count": 66,
   "metadata": {
    "collapsed": false
   },
   "outputs": [
    {
     "ename": "NameError",
     "evalue": "name 'result' is not defined",
     "output_type": "error",
     "traceback": [
      "\u001b[0;31m---------------------------------------------------------------------------\u001b[0m",
      "\u001b[0;31mNameError\u001b[0m                                 Traceback (most recent call last)",
      "\u001b[0;32m<ipython-input-66-c9245f2c3af6>\u001b[0m in \u001b[0;36m<module>\u001b[0;34m()\u001b[0m\n\u001b[1;32m      1\u001b[0m \u001b[0mi\u001b[0m \u001b[0;34m=\u001b[0m \u001b[0;36m0\u001b[0m\u001b[0;34m\u001b[0m\u001b[0m\n\u001b[1;32m      2\u001b[0m \u001b[0;34m\u001b[0m\u001b[0m\n\u001b[0;32m----> 3\u001b[0;31m \u001b[0;32mfor\u001b[0m \u001b[0mj\u001b[0m \u001b[0;32min\u001b[0m \u001b[0mrange\u001b[0m\u001b[0;34m(\u001b[0m\u001b[0mlen\u001b[0m\u001b[0;34m(\u001b[0m\u001b[0mresult\u001b[0m\u001b[0;34m[\u001b[0m\u001b[0;34m'name'\u001b[0m\u001b[0;34m]\u001b[0m\u001b[0;34m)\u001b[0m\u001b[0;34m)\u001b[0m\u001b[0;34m:\u001b[0m\u001b[0;34m\u001b[0m\u001b[0m\n\u001b[0m\u001b[1;32m      4\u001b[0m \u001b[0;34m\u001b[0m\u001b[0m\n\u001b[1;32m      5\u001b[0m     \u001b[0;32mif\u001b[0m \u001b[0mresult\u001b[0m\u001b[0;34m[\u001b[0m\u001b[0;34m'name'\u001b[0m\u001b[0;34m]\u001b[0m\u001b[0;34m[\u001b[0m\u001b[0mj\u001b[0m\u001b[0;34m]\u001b[0m \u001b[0;34m==\u001b[0m \u001b[0;34m'mag.dcnormffp_0_82_581.det.lc.W149'\u001b[0m\u001b[0;34m:\u001b[0m\u001b[0;34m\u001b[0m\u001b[0m\n",
      "\u001b[0;31mNameError\u001b[0m: name 'result' is not defined"
     ]
    }
   ],
   "source": [
    "i = 0\n",
    "\n",
    "for j in range(len(result['name'])):\n",
    "    \n",
    "    if result['name'][j] == 'mag.dcnormffp_0_82_581.det.lc.W149':\n",
    "        \n",
    "        i = j\n",
    "\n",
    "print result['name'][i]\n",
    "print result['t0_ml'][i]-2458234-4390, result['tE_ml'][i]\n",
    "plt.figure()\n",
    "plt.title('Fitting a Trapezoidal Function to a FFP Lightcurve', size=25)\n",
    "plt.xlabel('$t - t_0 (days)$',size=29)\n",
    "plt.ylabel('$Magnitude$',size=29)\n",
    "plt.tick_params(axis='y',labelsize=18)\n",
    "plt.tick_params(axis='x',labelsize=20)\n",
    "plt.plot(result['xdata'][i]-2454000-4391.2, result['ydata'][i], 'k.', markersize=15)\n",
    "plt.plot(result['xdata'][i]-2454000-4391.2,result['solution'][i],'g-', linewidth=3)\n",
    "plt.xlim(-1,1)\n",
    "plt.gca().invert_yaxis()\n",
    "fig = plt.gcf()\n",
    "fig.set_size_inches(12.0,10.0)\n",
    "# fig.savefig('Trapezoid_FFP.png')"
   ]
  },
  {
   "cell_type": "code",
   "execution_count": 22,
   "metadata": {
    "collapsed": false
   },
   "outputs": [],
   "source": [
    "info1 = pd.read_csv('ombin.CSV')\n",
    "info2 = pd.read_csv('omcassan.CSV')\n",
    "info3 = pd.read_csv('dccv.CSV')\n",
    "info4 = pd.read_csv('dcnormffp.CSV')"
   ]
  },
  {
   "cell_type": "code",
   "execution_count": 23,
   "metadata": {
    "collapsed": true
   },
   "outputs": [],
   "source": [
    "frames = [info1, info2, info3, info4]\n",
    "\n",
    "info = pd.concat(frames)"
   ]
  },
  {
   "cell_type": "code",
   "execution_count": 24,
   "metadata": {
    "collapsed": false
   },
   "outputs": [],
   "source": [
    "info['tE_trapezoid'] = np.zeros(len(info))\n",
    "info['t0_trapezoid'] = np.zeros(len(info))\n",
    "info['baseline_trapezoid'] = np.zeros(len(info))\n",
    "info['max_trapezoid'] = np.zeros(len(info))\n",
    "info['tau1'] = np.zeros(len(info))\n",
    "info['tau2'] = np.zeros(len(info))\n",
    "info['tau3'] = np.zeros(len(info))\n",
    "info['tau4'] = np.zeros(len(info))\n",
    "info['second?'] = np.zeros(len(info))\n",
    "info['baseline_magnitude_median'] = np.zeros(len(info))\n",
    "info['chisqr_trapezoid'] = np.zeros(len(info))\n",
    "info['reduced_chisqr'] = np.zeros(len(info))\n",
    "\n",
    "\n",
    "\n"
   ]
  },
  {
   "cell_type": "code",
   "execution_count": 25,
   "metadata": {
    "collapsed": false
   },
   "outputs": [],
   "source": [
    "info = info.rename(columns={\"index\": \"name\"})"
   ]
  },
  {
   "cell_type": "code",
   "execution_count": 26,
   "metadata": {
    "collapsed": false
   },
   "outputs": [],
   "source": [
    "for i in range(len(result['name'])):\n",
    "\n",
    "    if result['name'][i].split('.lc')[0].endswith('all'): \n",
    "        result['name'][i] = result['name'][i].split('all')[0]+'det'+result['name'][i].split('all')[1]"
   ]
  },
  {
   "cell_type": "code",
   "execution_count": 28,
   "metadata": {
    "collapsed": false
   },
   "outputs": [
    {
     "name": "stderr",
     "output_type": "stream",
     "text": [
      " 79%|███████▉  | 3681/4649 [03:32<00:55, 17.32it/s]"
     ]
    },
    {
     "name": "stdout",
     "output_type": "stream",
     "text": [
      "mag.omcassan_0_100_1197.det.lc.W149\n",
      "mag.omcassan_0_100_3114.det.lc.W149\n"
     ]
    },
    {
     "name": "stderr",
     "output_type": "stream",
     "text": [
      " 79%|███████▉  | 3685/4649 [03:32<00:55, 17.32it/s]"
     ]
    },
    {
     "name": "stdout",
     "output_type": "stream",
     "text": [
      "mag.omcassan_0_100_66.det.lc.W149\n"
     ]
    },
    {
     "name": "stderr",
     "output_type": "stream",
     "text": [
      " 79%|███████▉  | 3691/4649 [03:33<00:55, 17.32it/s]"
     ]
    },
    {
     "name": "stdout",
     "output_type": "stream",
     "text": [
      "mag.omcassan_0_10_1228.det.lc.W149\n"
     ]
    },
    {
     "name": "stderr",
     "output_type": "stream",
     "text": [
      " 80%|███████▉  | 3703/4649 [03:33<00:54, 17.31it/s]"
     ]
    },
    {
     "name": "stdout",
     "output_type": "stream",
     "text": [
      "mag.omcassan_0_21_2040.det.lc.W149\n",
      "mag.omcassan_0_21_414.det.lc.W149\n"
     ]
    },
    {
     "name": "stderr",
     "output_type": "stream",
     "text": [
      " 80%|███████▉  | 3707/4649 [03:34<00:54, 17.31it/s]"
     ]
    },
    {
     "name": "stdout",
     "output_type": "stream",
     "text": [
      "mag.omcassan_0_22_3213.det.lc.W149\n"
     ]
    },
    {
     "name": "stderr",
     "output_type": "stream",
     "text": [
      " 80%|████████  | 3721/4649 [03:35<00:53, 17.30it/s]"
     ]
    },
    {
     "name": "stdout",
     "output_type": "stream",
     "text": [
      "mag.omcassan_0_34_1491.det.lc.W149\n",
      "mag.omcassan_0_35_2018.det.lc.W149\n"
     ]
    },
    {
     "name": "stderr",
     "output_type": "stream",
     "text": [
      " 80%|████████  | 3729/4649 [03:35<00:53, 17.30it/s]"
     ]
    },
    {
     "name": "stdout",
     "output_type": "stream",
     "text": [
      "mag.omcassan_0_44_669.det.lc.W149\n",
      "mag.omcassan_0_46_400.det.lc.W149\n"
     ]
    },
    {
     "name": "stderr",
     "output_type": "stream",
     "text": [
      " 80%|████████  | 3735/4649 [03:35<00:52, 17.29it/s]"
     ]
    },
    {
     "name": "stdout",
     "output_type": "stream",
     "text": [
      "mag.omcassan_0_48_1719.det.lc.W149\n",
      "mag.omcassan_0_49_1633.det.lc.W149\n"
     ]
    },
    {
     "name": "stderr",
     "output_type": "stream",
     "text": [
      " 80%|████████  | 3739/4649 [03:36<00:52, 17.29it/s]"
     ]
    },
    {
     "name": "stdout",
     "output_type": "stream",
     "text": [
      "mag.omcassan_0_58_1019.det.lc.W149\n"
     ]
    },
    {
     "name": "stderr",
     "output_type": "stream",
     "text": [
      "\r",
      " 80%|████████  | 3741/4649 [03:36<00:52, 17.29it/s]"
     ]
    },
    {
     "name": "stdout",
     "output_type": "stream",
     "text": [
      "mag.omcassan_0_59_1633.det.lc.W149\n",
      "mag.omcassan_0_59_2013.det.lc.W149\n"
     ]
    },
    {
     "name": "stderr",
     "output_type": "stream",
     "text": [
      " 81%|████████  | 3747/4649 [03:36<00:52, 17.29it/s]"
     ]
    },
    {
     "name": "stdout",
     "output_type": "stream",
     "text": [
      "mag.omcassan_0_61_1201.det.lc.W149\n",
      "mag.omcassan_0_61_384.det.lc.W149\n",
      "mag.omcassan_0_61_681.det.lc.W149\n",
      "mag.omcassan_0_63_316.det.lc.W149\n"
     ]
    },
    {
     "name": "stderr",
     "output_type": "stream",
     "text": [
      " 81%|████████  | 3751/4649 [03:37<00:51, 17.28it/s]"
     ]
    },
    {
     "name": "stdout",
     "output_type": "stream",
     "text": [
      "mag.omcassan_0_6_1191.det.lc.W149\n"
     ]
    },
    {
     "name": "stderr",
     "output_type": "stream",
     "text": [
      " 81%|████████  | 3755/4649 [03:37<00:51, 17.28it/s]"
     ]
    },
    {
     "name": "stdout",
     "output_type": "stream",
     "text": [
      "mag.omcassan_0_71_259.det.lc.W149\n"
     ]
    },
    {
     "name": "stderr",
     "output_type": "stream",
     "text": [
      " 81%|████████  | 3771/4649 [03:38<00:50, 17.28it/s]"
     ]
    },
    {
     "name": "stdout",
     "output_type": "stream",
     "text": [
      "mag.omcassan_0_7_534.det.lc.W149\n",
      "mag.omcassan_0_83_241.det.lc.W149\n",
      "mag.omcassan_0_84_720.det.lc.W149\n"
     ]
    },
    {
     "name": "stderr",
     "output_type": "stream",
     "text": [
      " 81%|████████  | 3777/4649 [03:38<00:50, 17.28it/s]"
     ]
    },
    {
     "name": "stdout",
     "output_type": "stream",
     "text": [
      "mag.omcassan_0_86_2143.det.lc.W149\n",
      "mag.omcassan_0_86_2152.det.lc.W149\n",
      "mag.omcassan_0_87_1718.det.lc.W149\n"
     ]
    },
    {
     "name": "stderr",
     "output_type": "stream",
     "text": [
      " 81%|████████▏ | 3781/4649 [03:38<00:50, 17.28it/s]"
     ]
    },
    {
     "name": "stdout",
     "output_type": "stream",
     "text": [
      "mag.omcassan_0_87_2127.det.lc.W149\n",
      "mag.omcassan_0_88_2050.det.lc.W149\n"
     ]
    },
    {
     "name": "stderr",
     "output_type": "stream",
     "text": [
      " 81%|████████▏ | 3785/4649 [03:39<00:50, 17.28it/s]"
     ]
    },
    {
     "name": "stdout",
     "output_type": "stream",
     "text": [
      "mag.omcassan_0_89_114.det.lc.W149\n"
     ]
    },
    {
     "name": "stderr",
     "output_type": "stream",
     "text": [
      " 82%|████████▏ | 3791/4649 [03:39<00:49, 17.28it/s]"
     ]
    },
    {
     "name": "stdout",
     "output_type": "stream",
     "text": [
      "mag.omcassan_0_97_1005.det.lc.W149\n",
      "mag.omcassan_0_97_964.det.lc.W149\n",
      "mag.omcassan_0_98_1251.det.lc.W149\n"
     ]
    },
    {
     "name": "stderr",
     "output_type": "stream",
     "text": [
      " 82%|████████▏ | 3795/4649 [03:39<00:49, 17.28it/s]"
     ]
    },
    {
     "name": "stdout",
     "output_type": "stream",
     "text": [
      "mag.omcassan_0_98_1412.det.lc.W149\n",
      "mag.omcassan_0_99_1601.det.lc.W149\n"
     ]
    },
    {
     "name": "stderr",
     "output_type": "stream",
     "text": [
      " 82%|████████▏ | 3803/4649 [03:40<00:48, 17.28it/s]"
     ]
    },
    {
     "name": "stdout",
     "output_type": "stream",
     "text": [
      "mag.omcassan_10_18_463.det.lc.W149\n"
     ]
    },
    {
     "name": "stderr",
     "output_type": "stream",
     "text": [
      " 82%|████████▏ | 3809/4649 [03:40<00:48, 17.28it/s]"
     ]
    },
    {
     "name": "stdout",
     "output_type": "stream",
     "text": [
      "mag.omcassan_10_44_787.det.lc.W149\n",
      "mag.omcassan_10_47_126.det.lc.W149\n",
      "mag.omcassan_10_50_253.det.lc.W149\n"
     ]
    },
    {
     "name": "stderr",
     "output_type": "stream",
     "text": [
      " 82%|████████▏ | 3813/4649 [03:40<00:48, 17.28it/s]"
     ]
    },
    {
     "name": "stdout",
     "output_type": "stream",
     "text": [
      "mag.omcassan_10_5_594.det.lc.W149\n",
      "mag.omcassan_10_6_423.det.lc.W149\n"
     ]
    },
    {
     "name": "stderr",
     "output_type": "stream",
     "text": [
      " 82%|████████▏ | 3819/4649 [03:40<00:48, 17.28it/s]"
     ]
    },
    {
     "name": "stdout",
     "output_type": "stream",
     "text": [
      "mag.omcassan_10_72_1307.det.lc.W149\n",
      "mag.omcassan_10_73_847.det.lc.W149\n"
     ]
    },
    {
     "name": "stderr",
     "output_type": "stream",
     "text": [
      " 82%|████████▏ | 3825/4649 [03:41<00:47, 17.28it/s]"
     ]
    },
    {
     "name": "stdout",
     "output_type": "stream",
     "text": [
      "mag.omcassan_10_89_385.det.lc.W149\n",
      "mag.omcassan_10_98_148.det.lc.W149\n"
     ]
    },
    {
     "name": "stderr",
     "output_type": "stream",
     "text": [
      " 83%|████████▎ | 3839/4649 [03:42<00:46, 17.28it/s]"
     ]
    },
    {
     "name": "stdout",
     "output_type": "stream",
     "text": [
      "mag.omcassan_1_110_551.det.lc.W149\n"
     ]
    },
    {
     "name": "stderr",
     "output_type": "stream",
     "text": [
      " 83%|████████▎ | 3843/4649 [03:42<00:46, 17.28it/s]"
     ]
    },
    {
     "name": "stdout",
     "output_type": "stream",
     "text": [
      "mag.omcassan_1_111_474.det.lc.W149\n",
      "mag.omcassan_1_112_1070.det.lc.W149\n",
      "mag.omcassan_1_112_65.det.lc.W149\n"
     ]
    },
    {
     "name": "stderr",
     "output_type": "stream",
     "text": [
      " 83%|████████▎ | 3847/4649 [03:42<00:46, 17.28it/s]"
     ]
    },
    {
     "name": "stdout",
     "output_type": "stream",
     "text": [
      "mag.omcassan_1_113_1809.det.lc.W149\n"
     ]
    },
    {
     "name": "stderr",
     "output_type": "stream",
     "text": [
      " 83%|████████▎ | 3855/4649 [03:43<00:45, 17.28it/s]"
     ]
    },
    {
     "name": "stdout",
     "output_type": "stream",
     "text": [
      "mag.omcassan_1_11_182.det.lc.W149\n",
      "mag.omcassan_1_18_442.det.lc.W149\n",
      "mag.omcassan_1_18_674.det.lc.W149\n"
     ]
    },
    {
     "name": "stderr",
     "output_type": "stream",
     "text": [
      " 83%|████████▎ | 3861/4649 [03:43<00:45, 17.28it/s]"
     ]
    },
    {
     "name": "stdout",
     "output_type": "stream",
     "text": [
      "mag.omcassan_1_20_288.det.lc.W149\n",
      "mag.omcassan_1_20_979.det.lc.W149\n",
      "mag.omcassan_1_23_1262.det.lc.W149\n"
     ]
    },
    {
     "name": "stderr",
     "output_type": "stream",
     "text": [
      " 83%|████████▎ | 3865/4649 [03:43<00:45, 17.28it/s]"
     ]
    },
    {
     "name": "stdout",
     "output_type": "stream",
     "text": [
      "mag.omcassan_1_23_1397.det.lc.W149\n",
      "mag.omcassan_1_23_990.det.lc.W149\n"
     ]
    },
    {
     "name": "stderr",
     "output_type": "stream",
     "text": [
      " 83%|████████▎ | 3869/4649 [03:43<00:45, 17.28it/s]"
     ]
    },
    {
     "name": "stdout",
     "output_type": "stream",
     "text": [
      "mag.omcassan_1_31_529.det.lc.W149\n"
     ]
    },
    {
     "name": "stderr",
     "output_type": "stream",
     "text": [
      " 83%|████████▎ | 3879/4649 [03:44<00:44, 17.28it/s]"
     ]
    },
    {
     "name": "stdout",
     "output_type": "stream",
     "text": [
      "mag.omcassan_1_48_1401.det.lc.W149\n"
     ]
    },
    {
     "name": "stderr",
     "output_type": "stream",
     "text": [
      " 84%|████████▎ | 3883/4649 [03:44<00:44, 17.28it/s]"
     ]
    },
    {
     "name": "stdout",
     "output_type": "stream",
     "text": [
      "mag.omcassan_1_57_2109.det.lc.W149\n"
     ]
    },
    {
     "name": "stderr",
     "output_type": "stream",
     "text": [
      " 84%|████████▎ | 3891/4649 [03:45<00:43, 17.28it/s]"
     ]
    },
    {
     "name": "stdout",
     "output_type": "stream",
     "text": [
      "mag.omcassan_1_5_2403.det.lc.W149\n",
      "mag.omcassan_1_5_2609.det.lc.W149\n",
      "mag.omcassan_1_60_992.det.lc.W149\n"
     ]
    },
    {
     "name": "stderr",
     "output_type": "stream",
     "text": [
      " 84%|████████▍ | 3895/4649 [03:45<00:43, 17.28it/s]"
     ]
    },
    {
     "name": "stdout",
     "output_type": "stream",
     "text": [
      "mag.omcassan_1_62_1260.det.lc.W149\n",
      "mag.omcassan_1_63_1559.det.lc.W149\n"
     ]
    },
    {
     "name": "stderr",
     "output_type": "stream",
     "text": [
      " 84%|████████▍ | 3901/4649 [03:45<00:43, 17.28it/s]"
     ]
    },
    {
     "name": "stdout",
     "output_type": "stream",
     "text": [
      "mag.omcassan_1_70_1516.det.lc.W149\n"
     ]
    },
    {
     "name": "stderr",
     "output_type": "stream",
     "text": [
      " 84%|████████▍ | 3905/4649 [03:45<00:43, 17.28it/s]"
     ]
    },
    {
     "name": "stdout",
     "output_type": "stream",
     "text": [
      "mag.omcassan_1_73_1372.det.lc.W149\n"
     ]
    },
    {
     "name": "stderr",
     "output_type": "stream",
     "text": [
      " 84%|████████▍ | 3911/4649 [03:46<00:42, 17.28it/s]"
     ]
    },
    {
     "name": "stdout",
     "output_type": "stream",
     "text": [
      "mag.omcassan_1_75_1206.det.lc.W149\n",
      "mag.omcassan_1_75_250.det.lc.W149\n"
     ]
    },
    {
     "name": "stderr",
     "output_type": "stream",
     "text": [
      " 84%|████████▍ | 3921/4649 [03:46<00:42, 17.28it/s]"
     ]
    },
    {
     "name": "stdout",
     "output_type": "stream",
     "text": [
      "mag.omcassan_1_84_1418.det.lc.W149\n",
      "mag.omcassan_1_89_1387.det.lc.W149\n",
      "mag.omcassan_1_89_1625.det.lc.W149\n"
     ]
    },
    {
     "name": "stderr",
     "output_type": "stream",
     "text": [
      " 84%|████████▍ | 3925/4649 [03:47<00:41, 17.28it/s]"
     ]
    },
    {
     "name": "stdout",
     "output_type": "stream",
     "text": [
      "mag.omcassan_1_89_565.det.lc.W149\n"
     ]
    },
    {
     "name": "stderr",
     "output_type": "stream",
     "text": [
      " 85%|████████▍ | 3931/4649 [03:47<00:41, 17.28it/s]"
     ]
    },
    {
     "name": "stdout",
     "output_type": "stream",
     "text": [
      "mag.omcassan_1_98_479.det.lc.W149\n"
     ]
    },
    {
     "name": "stderr",
     "output_type": "stream",
     "text": [
      " 85%|████████▍ | 3943/4649 [03:48<00:40, 17.28it/s]"
     ]
    },
    {
     "name": "stdout",
     "output_type": "stream",
     "text": [
      "mag.omcassan_2_10_214.det.lc.W149\n",
      "mag.omcassan_2_110_1013.det.lc.W149\n",
      "mag.omcassan_2_110_1407.det.lc.W149\n",
      "mag.omcassan_2_110_2700.det.lc.W149\n"
     ]
    },
    {
     "name": "stderr",
     "output_type": "stream",
     "text": [
      " 85%|████████▍ | 3949/4649 [03:48<00:40, 17.28it/s]"
     ]
    },
    {
     "name": "stdout",
     "output_type": "stream",
     "text": [
      "mag.omcassan_2_112_3277.det.lc.W149\n"
     ]
    },
    {
     "name": "stderr",
     "output_type": "stream",
     "text": [
      " 85%|████████▌ | 3955/4649 [03:48<00:40, 17.28it/s]"
     ]
    },
    {
     "name": "stdout",
     "output_type": "stream",
     "text": [
      "mag.omcassan_2_115_1010.det.lc.W149\n"
     ]
    },
    {
     "name": "stderr",
     "output_type": "stream",
     "text": [
      " 85%|████████▌ | 3961/4649 [03:49<00:39, 17.28it/s]"
     ]
    },
    {
     "name": "stdout",
     "output_type": "stream",
     "text": [
      "mag.omcassan_2_20_1425.det.lc.W149\n",
      "mag.omcassan_2_20_253.det.lc.W149\n"
     ]
    },
    {
     "name": "stderr",
     "output_type": "stream",
     "text": [
      " 85%|████████▌ | 3967/4649 [03:49<00:39, 17.27it/s]"
     ]
    },
    {
     "name": "stdout",
     "output_type": "stream",
     "text": [
      "mag.omcassan_2_24_1036.det.lc.W149\n",
      "mag.omcassan_2_31_1443.det.lc.W149\n",
      "mag.omcassan_2_31_37.det.lc.W149\n"
     ]
    },
    {
     "name": "stderr",
     "output_type": "stream",
     "text": [
      " 85%|████████▌ | 3971/4649 [03:49<00:39, 17.27it/s]"
     ]
    },
    {
     "name": "stdout",
     "output_type": "stream",
     "text": [
      "mag.omcassan_2_31_832.det.lc.W149\n",
      "mag.omcassan_2_33_54.det.lc.W149\n"
     ]
    },
    {
     "name": "stderr",
     "output_type": "stream",
     "text": [
      " 86%|████████▌ | 3983/4649 [03:50<00:38, 17.27it/s]"
     ]
    },
    {
     "name": "stdout",
     "output_type": "stream",
     "text": [
      "mag.omcassan_2_50_216.det.lc.W149\n",
      "mag.omcassan_2_50_726.det.lc.W149\n"
     ]
    },
    {
     "name": "stderr",
     "output_type": "stream",
     "text": [
      " 86%|████████▌ | 3987/4649 [03:50<00:38, 17.27it/s]"
     ]
    },
    {
     "name": "stdout",
     "output_type": "stream",
     "text": [
      "mag.omcassan_2_58_1579.det.lc.W149\n"
     ]
    },
    {
     "name": "stderr",
     "output_type": "stream",
     "text": [
      " 86%|████████▌ | 4005/4649 [03:51<00:37, 17.26it/s]"
     ]
    },
    {
     "name": "stdout",
     "output_type": "stream",
     "text": [
      "mag.omcassan_2_76_219.det.lc.W149\n"
     ]
    },
    {
     "name": "stderr",
     "output_type": "stream",
     "text": [
      " 86%|████████▋ | 4019/4649 [03:52<00:36, 17.26it/s]"
     ]
    },
    {
     "name": "stdout",
     "output_type": "stream",
     "text": [
      "mag.omcassan_2_87_970.det.lc.W149\n",
      "mag.omcassan_2_88_1615.det.lc.W149\n",
      "mag.omcassan_2_96_1919.det.lc.W149\n"
     ]
    },
    {
     "name": "stderr",
     "output_type": "stream",
     "text": [
      " 87%|████████▋ | 4025/4649 [03:53<00:36, 17.26it/s]"
     ]
    },
    {
     "name": "stdout",
     "output_type": "stream",
     "text": [
      "mag.omcassan_2_98_1355.det.lc.W149\n",
      "mag.omcassan_3_101_1518.det.lc.W149\n"
     ]
    },
    {
     "name": "stderr",
     "output_type": "stream",
     "text": [
      " 87%|████████▋ | 4037/4649 [03:53<00:35, 17.27it/s]"
     ]
    },
    {
     "name": "stdout",
     "output_type": "stream",
     "text": [
      "mag.omcassan_3_10_404.det.lc.W149\n",
      "mag.omcassan_3_10_486.det.lc.W149\n",
      "mag.omcassan_3_10_628.det.lc.W149\n"
     ]
    },
    {
     "name": "stderr",
     "output_type": "stream",
     "text": [
      " 87%|████████▋ | 4041/4649 [03:53<00:35, 17.27it/s]"
     ]
    },
    {
     "name": "stdout",
     "output_type": "stream",
     "text": [
      "mag.omcassan_3_110_1304.det.lc.W149\n"
     ]
    },
    {
     "name": "stderr",
     "output_type": "stream",
     "text": [
      " 87%|████████▋ | 4051/4649 [03:54<00:34, 17.27it/s]"
     ]
    },
    {
     "name": "stdout",
     "output_type": "stream",
     "text": [
      "mag.omcassan_3_11_2077.det.lc.W149\n",
      "mag.omcassan_3_11_3148.det.lc.W149\n",
      "mag.omcassan_3_18_3023.det.lc.W149\n"
     ]
    },
    {
     "name": "stderr",
     "output_type": "stream",
     "text": [
      " 87%|████████▋ | 4059/4649 [03:54<00:34, 17.27it/s]"
     ]
    },
    {
     "name": "stdout",
     "output_type": "stream",
     "text": [
      "mag.omcassan_3_20_1560.det.lc.W149\n",
      "mag.omcassan_3_20_1641.det.lc.W149\n"
     ]
    },
    {
     "name": "stderr",
     "output_type": "stream",
     "text": [
      " 87%|████████▋ | 4065/4649 [03:55<00:33, 17.28it/s]"
     ]
    },
    {
     "name": "stdout",
     "output_type": "stream",
     "text": [
      "mag.omcassan_3_21_3178.det.lc.W149\n"
     ]
    },
    {
     "name": "stderr",
     "output_type": "stream",
     "text": [
      " 88%|████████▊ | 4071/4649 [03:55<00:33, 17.28it/s]"
     ]
    },
    {
     "name": "stdout",
     "output_type": "stream",
     "text": [
      "mag.omcassan_3_24_1912.det.lc.W149\n",
      "mag.omcassan_3_31_677.det.lc.W149\n"
     ]
    },
    {
     "name": "stderr",
     "output_type": "stream",
     "text": [
      " 88%|████████▊ | 4075/4649 [03:55<00:33, 17.27it/s]"
     ]
    },
    {
     "name": "stdout",
     "output_type": "stream",
     "text": [
      "mag.omcassan_3_33_976.det.lc.W149\n"
     ]
    },
    {
     "name": "stderr",
     "output_type": "stream",
     "text": [
      " 88%|████████▊ | 4081/4649 [03:56<00:32, 17.27it/s]"
     ]
    },
    {
     "name": "stdout",
     "output_type": "stream",
     "text": [
      "mag.omcassan_3_49_397.det.lc.W149\n"
     ]
    },
    {
     "name": "stderr",
     "output_type": "stream",
     "text": [
      " 88%|████████▊ | 4091/4649 [03:56<00:32, 17.28it/s]"
     ]
    },
    {
     "name": "stdout",
     "output_type": "stream",
     "text": [
      "mag.omcassan_3_60_1155.det.lc.W149\n",
      "mag.omcassan_3_60_610.det.lc.W149\n",
      "mag.omcassan_3_61_1090.det.lc.W149\n"
     ]
    },
    {
     "name": "stderr",
     "output_type": "stream",
     "text": [
      " 88%|████████▊ | 4101/4649 [03:57<00:31, 17.28it/s]"
     ]
    },
    {
     "name": "stdout",
     "output_type": "stream",
     "text": [
      "mag.omcassan_3_70_2948.det.lc.W149\n"
     ]
    },
    {
     "name": "stderr",
     "output_type": "stream",
     "text": [
      " 88%|████████▊ | 4105/4649 [03:57<00:31, 17.28it/s]"
     ]
    },
    {
     "name": "stdout",
     "output_type": "stream",
     "text": [
      "mag.omcassan_3_72_1843.det.lc.W149\n",
      "mag.omcassan_3_72_2269.det.lc.W149\n"
     ]
    },
    {
     "name": "stderr",
     "output_type": "stream",
     "text": [
      " 89%|████████▊ | 4115/4649 [03:58<00:30, 17.29it/s]"
     ]
    },
    {
     "name": "stdout",
     "output_type": "stream",
     "text": [
      "mag.omcassan_3_75_2250.det.lc.W149\n",
      "mag.omcassan_3_76_472.det.lc.W149\n"
     ]
    },
    {
     "name": "stderr",
     "output_type": "stream",
     "text": [
      " 89%|████████▊ | 4119/4649 [03:58<00:30, 17.29it/s]"
     ]
    },
    {
     "name": "stdout",
     "output_type": "stream",
     "text": [
      "mag.omcassan_3_83_382.det.lc.W149\n",
      "mag.omcassan_3_84_119.det.lc.W149\n"
     ]
    },
    {
     "name": "stderr",
     "output_type": "stream",
     "text": [
      " 89%|████████▉ | 4127/4649 [03:58<00:30, 17.29it/s]"
     ]
    },
    {
     "name": "stdout",
     "output_type": "stream",
     "text": [
      "mag.omcassan_3_86_862.det.lc.W149\n",
      "mag.omcassan_3_87_49.det.lc.W149\n"
     ]
    },
    {
     "name": "stderr",
     "output_type": "stream",
     "text": [
      " 89%|████████▉ | 4135/4649 [03:59<00:29, 17.29it/s]"
     ]
    },
    {
     "name": "stdout",
     "output_type": "stream",
     "text": [
      "mag.omcassan_3_89_51.det.lc.W149\n",
      "mag.omcassan_3_89_57.det.lc.W149\n",
      "mag.omcassan_3_96_1862.det.lc.W149\n"
     ]
    },
    {
     "name": "stderr",
     "output_type": "stream",
     "text": [
      " 89%|████████▉ | 4141/4649 [03:59<00:29, 17.29it/s]"
     ]
    },
    {
     "name": "stdout",
     "output_type": "stream",
     "text": [
      "mag.omcassan_3_97_694.det.lc.W149\n"
     ]
    },
    {
     "name": "stderr",
     "output_type": "stream",
     "text": [
      " 89%|████████▉ | 4146/4649 [03:59<00:29, 17.30it/s]"
     ]
    },
    {
     "name": "stdout",
     "output_type": "stream",
     "text": [
      "mag.omcassan_3_9_165.det.lc.W149\n",
      "mag.omcassan_4_100_282.det.lc.W149\n"
     ]
    },
    {
     "name": "stderr",
     "output_type": "stream",
     "text": [
      " 89%|████████▉ | 4152/4649 [04:00<00:28, 17.30it/s]"
     ]
    },
    {
     "name": "stdout",
     "output_type": "stream",
     "text": [
      "mag.omcassan_4_100_393.det.lc.W149\n"
     ]
    },
    {
     "name": "stderr",
     "output_type": "stream",
     "text": [
      " 89%|████████▉ | 4156/4649 [04:00<00:28, 17.30it/s]"
     ]
    },
    {
     "name": "stdout",
     "output_type": "stream",
     "text": [
      "mag.omcassan_4_102_2853.det.lc.W149\n",
      "mag.omcassan_4_102_369.det.lc.W149\n"
     ]
    },
    {
     "name": "stderr",
     "output_type": "stream",
     "text": [
      " 89%|████████▉ | 4160/4649 [04:00<00:28, 17.30it/s]"
     ]
    },
    {
     "name": "stdout",
     "output_type": "stream",
     "text": [
      "mag.omcassan_4_111_506.det.lc.W149\n",
      "mag.omcassan_4_112_1245.det.lc.W149\n"
     ]
    },
    {
     "name": "stderr",
     "output_type": "stream",
     "text": [
      " 90%|████████▉ | 4164/4649 [04:00<00:28, 17.30it/s]"
     ]
    },
    {
     "name": "stdout",
     "output_type": "stream",
     "text": [
      "mag.omcassan_4_112_585.det.lc.W149\n"
     ]
    },
    {
     "name": "stderr",
     "output_type": "stream",
     "text": [
      " 90%|████████▉ | 4172/4649 [04:01<00:27, 17.31it/s]"
     ]
    },
    {
     "name": "stdout",
     "output_type": "stream",
     "text": [
      "mag.omcassan_4_115_3069.det.lc.W149\n",
      "mag.omcassan_4_115_510.det.lc.W149\n"
     ]
    },
    {
     "name": "stderr",
     "output_type": "stream",
     "text": [
      " 90%|████████▉ | 4178/4649 [04:01<00:27, 17.31it/s]"
     ]
    },
    {
     "name": "stdout",
     "output_type": "stream",
     "text": [
      "mag.omcassan_4_18_1719.det.lc.W149\n"
     ]
    },
    {
     "name": "stderr",
     "output_type": "stream",
     "text": [
      " 90%|████████▉ | 4184/4649 [04:01<00:26, 17.31it/s]"
     ]
    },
    {
     "name": "stdout",
     "output_type": "stream",
     "text": [
      "mag.omcassan_4_20_1994.det.lc.W149\n"
     ]
    },
    {
     "name": "stderr",
     "output_type": "stream",
     "text": [
      " 90%|█████████ | 4190/4649 [04:02<00:26, 17.31it/s]"
     ]
    },
    {
     "name": "stdout",
     "output_type": "stream",
     "text": [
      "mag.omcassan_4_22_1056.det.lc.W149\n",
      "mag.omcassan_4_22_117.det.lc.W149\n"
     ]
    },
    {
     "name": "stderr",
     "output_type": "stream",
     "text": [
      " 90%|█████████ | 4198/4649 [04:02<00:26, 17.31it/s]"
     ]
    },
    {
     "name": "stdout",
     "output_type": "stream",
     "text": [
      "mag.omcassan_4_32_2432.det.lc.W149\n",
      "mag.omcassan_4_32_2978.det.lc.W149\n",
      "mag.omcassan_4_34_1702.det.lc.W149\n"
     ]
    },
    {
     "name": "stderr",
     "output_type": "stream",
     "text": [
      " 90%|█████████ | 4204/4649 [04:02<00:25, 17.31it/s]"
     ]
    },
    {
     "name": "stdout",
     "output_type": "stream",
     "text": [
      "mag.omcassan_4_35_120.det.lc.W149\n",
      "mag.omcassan_4_36_1502.det.lc.W149\n"
     ]
    },
    {
     "name": "stderr",
     "output_type": "stream",
     "text": [
      " 91%|█████████ | 4208/4649 [04:03<00:25, 17.32it/s]"
     ]
    },
    {
     "name": "stdout",
     "output_type": "stream",
     "text": [
      "mag.omcassan_4_45_2664.det.lc.W149\n",
      "mag.omcassan_4_46_1589.det.lc.W149\n"
     ]
    },
    {
     "name": "stderr",
     "output_type": "stream",
     "text": [
      " 91%|█████████ | 4212/4649 [04:03<00:25, 17.32it/s]"
     ]
    },
    {
     "name": "stdout",
     "output_type": "stream",
     "text": [
      "mag.omcassan_4_48_1128.det.lc.W149\n",
      "mag.omcassan_4_48_41.det.lc.W149\n",
      "mag.omcassan_4_49_18.det.lc.W149\n"
     ]
    },
    {
     "name": "stderr",
     "output_type": "stream",
     "text": [
      " 91%|█████████ | 4218/4649 [04:03<00:24, 17.32it/s]"
     ]
    },
    {
     "name": "stdout",
     "output_type": "stream",
     "text": [
      "mag.omcassan_4_50_713.det.lc.W149\n",
      "mag.omcassan_4_57_3017.det.lc.W149\n"
     ]
    },
    {
     "name": "stderr",
     "output_type": "stream",
     "text": [
      " 91%|█████████ | 4226/4649 [04:03<00:24, 17.32it/s]"
     ]
    },
    {
     "name": "stdout",
     "output_type": "stream",
     "text": [
      "mag.omcassan_4_58_965.det.lc.W149\n",
      "mag.omcassan_4_59_1960.det.lc.W149\n"
     ]
    },
    {
     "name": "stderr",
     "output_type": "stream",
     "text": [
      " 91%|█████████ | 4232/4649 [04:04<00:24, 17.32it/s]"
     ]
    },
    {
     "name": "stdout",
     "output_type": "stream",
     "text": [
      "mag.omcassan_4_5_2136.det.lc.W149\n",
      "mag.omcassan_4_5_2998.det.lc.W149\n",
      "mag.omcassan_4_5_3035.det.lc.W149\n"
     ]
    },
    {
     "name": "stderr",
     "output_type": "stream",
     "text": [
      " 91%|█████████ | 4238/4649 [04:04<00:23, 17.32it/s]"
     ]
    },
    {
     "name": "stdout",
     "output_type": "stream",
     "text": [
      "mag.omcassan_4_61_1408.det.lc.W149\n",
      "mag.omcassan_4_61_1697.det.lc.W149\n",
      "mag.omcassan_4_61_418.det.lc.W149\n"
     ]
    },
    {
     "name": "stderr",
     "output_type": "stream",
     "text": [
      " 91%|█████████▏| 4248/4649 [04:05<00:23, 17.33it/s]"
     ]
    },
    {
     "name": "stdout",
     "output_type": "stream",
     "text": [
      "mag.omcassan_4_71_388.det.lc.W149\n"
     ]
    },
    {
     "name": "stderr",
     "output_type": "stream",
     "text": [
      " 92%|█████████▏| 4256/4649 [04:05<00:22, 17.33it/s]"
     ]
    },
    {
     "name": "stdout",
     "output_type": "stream",
     "text": [
      "mag.omcassan_4_76_1183.det.lc.W149\n",
      "mag.omcassan_4_7_1120.det.lc.W149\n",
      "mag.omcassan_4_7_1389.det.lc.W149\n",
      "mag.omcassan_4_7_2334.det.lc.W149\n"
     ]
    },
    {
     "name": "stderr",
     "output_type": "stream",
     "text": [
      " 92%|█████████▏| 4261/4649 [04:05<00:22, 17.33it/s]"
     ]
    },
    {
     "name": "stdout",
     "output_type": "stream",
     "text": [
      "mag.omcassan_4_85_882.det.lc.W149\n",
      "mag.omcassan_4_86_3148.det.lc.W149\n",
      "mag.omcassan_4_88_147.det.lc.W149\n"
     ]
    },
    {
     "name": "stderr",
     "output_type": "stream",
     "text": [
      " 92%|█████████▏| 4267/4649 [04:06<00:22, 17.34it/s]"
     ]
    },
    {
     "name": "stdout",
     "output_type": "stream",
     "text": [
      "mag.omcassan_4_89_26.det.lc.W149\n"
     ]
    },
    {
     "name": "stderr",
     "output_type": "stream",
     "text": [
      " 92%|█████████▏| 4276/4649 [04:06<00:21, 17.34it/s]"
     ]
    },
    {
     "name": "stdout",
     "output_type": "stream",
     "text": [
      "mag.omcassan_4_98_2078.det.lc.W149\n",
      "mag.omcassan_4_99_747.det.lc.W149\n"
     ]
    },
    {
     "name": "stderr",
     "output_type": "stream",
     "text": [
      " 92%|█████████▏| 4291/4649 [04:07<00:20, 17.35it/s]"
     ]
    },
    {
     "name": "stdout",
     "output_type": "stream",
     "text": [
      "mag.omcassan_5_109_1444.det.lc.W149\n"
     ]
    },
    {
     "name": "stderr",
     "output_type": "stream",
     "text": [
      " 93%|█████████▎| 4302/4649 [04:07<00:19, 17.35it/s]"
     ]
    },
    {
     "name": "stdout",
     "output_type": "stream",
     "text": [
      "mag.omcassan_5_115_1345.det.lc.W149\n"
     ]
    },
    {
     "name": "stderr",
     "output_type": "stream",
     "text": [
      " 93%|█████████▎| 4313/4649 [04:08<00:19, 17.36it/s]"
     ]
    },
    {
     "name": "stdout",
     "output_type": "stream",
     "text": [
      "mag.omcassan_5_20_827.det.lc.W149\n"
     ]
    },
    {
     "name": "stderr",
     "output_type": "stream",
     "text": [
      " 93%|█████████▎| 4321/4649 [04:08<00:18, 17.36it/s]"
     ]
    },
    {
     "name": "stdout",
     "output_type": "stream",
     "text": [
      "mag.omcassan_5_22_702.det.lc.W149\n",
      "mag.omcassan_5_24_2829.det.lc.W149\n"
     ]
    },
    {
     "name": "stderr",
     "output_type": "stream",
     "text": [
      " 93%|█████████▎| 4326/4649 [04:09<00:18, 17.36it/s]"
     ]
    },
    {
     "name": "stdout",
     "output_type": "stream",
     "text": [
      "mag.omcassan_5_31_1788.det.lc.W149\n",
      "mag.omcassan_5_32_2780.det.lc.W149\n",
      "mag.omcassan_5_32_901.det.lc.W149\n",
      "mag.omcassan_5_33_1030.det.lc.W149\n"
     ]
    },
    {
     "name": "stderr",
     "output_type": "stream",
     "text": [
      " 93%|█████████▎| 4333/4649 [04:09<00:18, 17.37it/s]"
     ]
    },
    {
     "name": "stdout",
     "output_type": "stream",
     "text": [
      "mag.omcassan_5_33_2063.det.lc.W149\n",
      "mag.omcassan_5_33_494.det.lc.W149\n",
      "mag.omcassan_5_35_1368.det.lc.W149\n"
     ]
    },
    {
     "name": "stderr",
     "output_type": "stream",
     "text": [
      " 93%|█████████▎| 4338/4649 [04:09<00:17, 17.37it/s]"
     ]
    },
    {
     "name": "stdout",
     "output_type": "stream",
     "text": [
      "mag.omcassan_5_36_594.det.lc.W149\n"
     ]
    },
    {
     "name": "stderr",
     "output_type": "stream",
     "text": [
      " 94%|█████████▎| 4347/4649 [04:10<00:17, 17.37it/s]"
     ]
    },
    {
     "name": "stdout",
     "output_type": "stream",
     "text": [
      "mag.omcassan_5_48_2673.det.lc.W149\n"
     ]
    },
    {
     "name": "stderr",
     "output_type": "stream",
     "text": [
      " 94%|█████████▎| 4353/4649 [04:10<00:17, 17.38it/s]"
     ]
    },
    {
     "name": "stdout",
     "output_type": "stream",
     "text": [
      "mag.omcassan_5_58_943.det.lc.W149\n",
      "mag.omcassan_5_59_364.det.lc.W149\n",
      "mag.omcassan_5_59_423.det.lc.W149\n"
     ]
    },
    {
     "name": "stderr",
     "output_type": "stream",
     "text": [
      " 94%|█████████▍| 4359/4649 [04:10<00:16, 17.38it/s]"
     ]
    },
    {
     "name": "stdout",
     "output_type": "stream",
     "text": [
      "mag.omcassan_5_59_58.det.lc.W149\n"
     ]
    },
    {
     "name": "stderr",
     "output_type": "stream",
     "text": [
      " 94%|█████████▍| 4367/4649 [04:11<00:16, 17.38it/s]"
     ]
    },
    {
     "name": "stdout",
     "output_type": "stream",
     "text": [
      "mag.omcassan_5_63_1267.det.lc.W149\n"
     ]
    },
    {
     "name": "stderr",
     "output_type": "stream",
     "text": [
      " 94%|█████████▍| 4373/4649 [04:11<00:15, 17.39it/s]"
     ]
    },
    {
     "name": "stdout",
     "output_type": "stream",
     "text": [
      "mag.omcassan_5_70_1893.det.lc.W149\n",
      "mag.omcassan_5_72_771.det.lc.W149\n"
     ]
    },
    {
     "name": "stderr",
     "output_type": "stream",
     "text": [
      "\r",
      " 94%|█████████▍| 4376/4649 [04:11<00:15, 17.39it/s]"
     ]
    },
    {
     "name": "stdout",
     "output_type": "stream",
     "text": [
      "mag.omcassan_5_73_1293.det.lc.W149\n",
      "mag.omcassan_5_76_1362.det.lc.W149\n"
     ]
    },
    {
     "name": "stderr",
     "output_type": "stream",
     "text": [
      " 94%|█████████▍| 4382/4649 [04:11<00:15, 17.39it/s]"
     ]
    },
    {
     "name": "stdout",
     "output_type": "stream",
     "text": [
      "mag.omcassan_5_86_510.det.lc.W149\n"
     ]
    },
    {
     "name": "stderr",
     "output_type": "stream",
     "text": [
      " 94%|█████████▍| 4388/4649 [04:12<00:15, 17.40it/s]"
     ]
    },
    {
     "name": "stdout",
     "output_type": "stream",
     "text": [
      "mag.omcassan_5_96_2508.det.lc.W149\n",
      "mag.omcassan_5_98_680.det.lc.W149\n"
     ]
    },
    {
     "name": "stderr",
     "output_type": "stream",
     "text": [
      " 95%|█████████▍| 4397/4649 [04:12<00:14, 17.40it/s]"
     ]
    },
    {
     "name": "stdout",
     "output_type": "stream",
     "text": [
      "mag.omcassan_6_100_449.det.lc.W149\n",
      "mag.omcassan_6_101_674.det.lc.W149\n",
      "mag.omcassan_6_109_1439.det.lc.W149\n"
     ]
    },
    {
     "name": "stderr",
     "output_type": "stream",
     "text": [
      " 95%|█████████▍| 4403/4649 [04:12<00:14, 17.40it/s]"
     ]
    },
    {
     "name": "stdout",
     "output_type": "stream",
     "text": [
      "mag.omcassan_6_110_1017.det.lc.W149\n",
      "mag.omcassan_6_113_876.det.lc.W149\n"
     ]
    },
    {
     "name": "stderr",
     "output_type": "stream",
     "text": [
      " 95%|█████████▍| 4409/4649 [04:13<00:13, 17.41it/s]"
     ]
    },
    {
     "name": "stdout",
     "output_type": "stream",
     "text": [
      "mag.omcassan_6_18_778.det.lc.W149\n",
      "mag.omcassan_6_19_780.det.lc.W149\n",
      "mag.omcassan_6_21_1422.det.lc.W149\n"
     ]
    },
    {
     "name": "stderr",
     "output_type": "stream",
     "text": [
      " 95%|█████████▍| 4415/4649 [04:13<00:13, 17.41it/s]"
     ]
    },
    {
     "name": "stdout",
     "output_type": "stream",
     "text": [
      "mag.omcassan_6_22_143.det.lc.W149\n",
      "mag.omcassan_6_31_1211.det.lc.W149\n",
      "mag.omcassan_6_32_1161.det.lc.W149\n"
     ]
    },
    {
     "name": "stderr",
     "output_type": "stream",
     "text": [
      " 95%|█████████▌| 4424/4649 [04:14<00:12, 17.42it/s]"
     ]
    },
    {
     "name": "stdout",
     "output_type": "stream",
     "text": [
      "mag.omcassan_6_37_515.det.lc.W149\n",
      "mag.omcassan_6_44_718.det.lc.W149\n"
     ]
    },
    {
     "name": "stderr",
     "output_type": "stream",
     "text": [
      " 95%|█████████▌| 4430/4649 [04:14<00:12, 17.42it/s]"
     ]
    },
    {
     "name": "stdout",
     "output_type": "stream",
     "text": [
      "mag.omcassan_6_48_1044.det.lc.W149\n",
      "mag.omcassan_6_48_138.det.lc.W149\n"
     ]
    },
    {
     "name": "stderr",
     "output_type": "stream",
     "text": [
      " 95%|█████████▌| 4439/4649 [04:14<00:12, 17.43it/s]"
     ]
    },
    {
     "name": "stdout",
     "output_type": "stream",
     "text": [
      "mag.omcassan_6_61_1145.det.lc.W149\n",
      "mag.omcassan_6_63_275.det.lc.W149\n",
      "mag.omcassan_6_6_1121.det.lc.W149\n",
      "mag.omcassan_6_6_1314.det.lc.W149\n"
     ]
    },
    {
     "name": "stderr",
     "output_type": "stream",
     "text": [
      " 96%|█████████▌| 4445/4649 [04:15<00:11, 17.43it/s]"
     ]
    },
    {
     "name": "stdout",
     "output_type": "stream",
     "text": [
      "mag.omcassan_6_71_1009.det.lc.W149\n",
      "mag.omcassan_6_73_1158.det.lc.W149\n",
      "mag.omcassan_6_74_46.det.lc.W149\n",
      "mag.omcassan_6_74_69.det.lc.W149\n"
     ]
    },
    {
     "name": "stderr",
     "output_type": "stream",
     "text": [
      " 96%|█████████▌| 4451/4649 [04:15<00:11, 17.43it/s]"
     ]
    },
    {
     "name": "stdout",
     "output_type": "stream",
     "text": [
      "mag.omcassan_6_83_728.det.lc.W149\n"
     ]
    },
    {
     "name": "stderr",
     "output_type": "stream",
     "text": [
      " 96%|█████████▌| 4463/4649 [04:15<00:10, 17.44it/s]"
     ]
    },
    {
     "name": "stdout",
     "output_type": "stream",
     "text": [
      "mag.omcassan_6_9_342.det.lc.W149\n",
      "mag.omcassan_6_9_665.det.lc.W149\n"
     ]
    },
    {
     "name": "stderr",
     "output_type": "stream",
     "text": [
      " 96%|█████████▌| 4469/4649 [04:16<00:10, 17.44it/s]"
     ]
    },
    {
     "name": "stdout",
     "output_type": "stream",
     "text": [
      "mag.omcassan_7_109_476.det.lc.W149\n",
      "mag.omcassan_7_10_1028.det.lc.W149\n",
      "mag.omcassan_7_110_397.det.lc.W149\n"
     ]
    },
    {
     "name": "stderr",
     "output_type": "stream",
     "text": [
      " 96%|█████████▋| 4483/4649 [04:16<00:09, 17.45it/s]"
     ]
    },
    {
     "name": "stdout",
     "output_type": "stream",
     "text": [
      "mag.omcassan_7_18_1025.det.lc.W149\n",
      "mag.omcassan_7_18_1395.det.lc.W149\n"
     ]
    },
    {
     "name": "stderr",
     "output_type": "stream",
     "text": [
      " 97%|█████████▋| 4489/4649 [04:17<00:09, 17.45it/s]"
     ]
    },
    {
     "name": "stdout",
     "output_type": "stream",
     "text": [
      "mag.omcassan_7_19_321.det.lc.W149\n"
     ]
    },
    {
     "name": "stderr",
     "output_type": "stream",
     "text": [
      " 97%|█████████▋| 4507/4649 [04:18<00:08, 17.47it/s]"
     ]
    },
    {
     "name": "stdout",
     "output_type": "stream",
     "text": [
      "mag.omcassan_7_35_1480.det.lc.W149\n",
      "mag.omcassan_7_35_1849.det.lc.W149\n"
     ]
    },
    {
     "name": "stderr",
     "output_type": "stream",
     "text": [
      " 97%|█████████▋| 4513/4649 [04:18<00:07, 17.47it/s]"
     ]
    },
    {
     "name": "stdout",
     "output_type": "stream",
     "text": [
      "mag.omcassan_7_45_1506.det.lc.W149\n",
      "mag.omcassan_7_46_132.det.lc.W149\n",
      "mag.omcassan_7_47_674.det.lc.W149\n"
     ]
    },
    {
     "name": "stderr",
     "output_type": "stream",
     "text": [
      " 97%|█████████▋| 4525/4649 [04:18<00:07, 17.47it/s]"
     ]
    },
    {
     "name": "stdout",
     "output_type": "stream",
     "text": [
      "mag.omcassan_7_61_349.det.lc.W149\n",
      "mag.omcassan_7_6_217.det.lc.W149\n"
     ]
    },
    {
     "name": "stderr",
     "output_type": "stream",
     "text": [
      " 97%|█████████▋| 4531/4649 [04:19<00:06, 17.48it/s]"
     ]
    },
    {
     "name": "stdout",
     "output_type": "stream",
     "text": [
      "mag.omcassan_7_70_805.det.lc.W149\n",
      "mag.omcassan_7_76_1006.det.lc.W149\n"
     ]
    },
    {
     "name": "stderr",
     "output_type": "stream",
     "text": [
      " 98%|█████████▊| 4539/4649 [04:19<00:06, 17.48it/s]"
     ]
    },
    {
     "name": "stdout",
     "output_type": "stream",
     "text": [
      "mag.omcassan_7_86_1057.det.lc.W149\n"
     ]
    },
    {
     "name": "stderr",
     "output_type": "stream",
     "text": [
      " 98%|█████████▊| 4545/4649 [04:19<00:05, 17.48it/s]"
     ]
    },
    {
     "name": "stdout",
     "output_type": "stream",
     "text": [
      "mag.omcassan_8_111_1331.det.lc.W149\n",
      "mag.omcassan_8_112_591.det.lc.W149\n"
     ]
    },
    {
     "name": "stderr",
     "output_type": "stream",
     "text": [
      " 98%|█████████▊| 4551/4649 [04:20<00:05, 17.48it/s]"
     ]
    },
    {
     "name": "stdout",
     "output_type": "stream",
     "text": [
      "mag.omcassan_8_11_1083.det.lc.W149\n",
      "mag.omcassan_8_11_432.det.lc.W149\n",
      "mag.omcassan_8_20_529.det.lc.W149\n"
     ]
    },
    {
     "name": "stderr",
     "output_type": "stream",
     "text": [
      " 98%|█████████▊| 4557/4649 [04:20<00:05, 17.49it/s]"
     ]
    },
    {
     "name": "stdout",
     "output_type": "stream",
     "text": [
      "mag.omcassan_8_23_988.det.lc.W149\n",
      "mag.omcassan_8_24_844.det.lc.W149\n",
      "mag.omcassan_8_24_947.det.lc.W149\n"
     ]
    },
    {
     "name": "stderr",
     "output_type": "stream",
     "text": [
      " 98%|█████████▊| 4563/4649 [04:20<00:04, 17.49it/s]"
     ]
    },
    {
     "name": "stdout",
     "output_type": "stream",
     "text": [
      "mag.omcassan_8_36_245.det.lc.W149\n"
     ]
    },
    {
     "name": "stderr",
     "output_type": "stream",
     "text": [
      " 98%|█████████▊| 4572/4649 [04:21<00:04, 17.50it/s]"
     ]
    },
    {
     "name": "stdout",
     "output_type": "stream",
     "text": [
      "mag.omcassan_8_50_222.det.lc.W149\n"
     ]
    },
    {
     "name": "stderr",
     "output_type": "stream",
     "text": [
      "\r",
      " 98%|█████████▊| 4575/4649 [04:21<00:04, 17.50it/s]"
     ]
    },
    {
     "name": "stdout",
     "output_type": "stream",
     "text": [
      "mag.omcassan_8_61_714.det.lc.W149\n"
     ]
    },
    {
     "name": "stderr",
     "output_type": "stream",
     "text": [
      " 99%|█████████▊| 4581/4649 [04:21<00:03, 17.50it/s]"
     ]
    },
    {
     "name": "stdout",
     "output_type": "stream",
     "text": [
      "mag.omcassan_8_75_1283.det.lc.W149\n"
     ]
    },
    {
     "name": "stderr",
     "output_type": "stream",
     "text": [
      " 99%|█████████▊| 4587/4649 [04:22<00:03, 17.50it/s]"
     ]
    },
    {
     "name": "stdout",
     "output_type": "stream",
     "text": [
      "mag.omcassan_8_83_234.det.lc.W149\n",
      "mag.omcassan_8_8_1306.det.lc.W149\n",
      "mag.omcassan_8_96_617.det.lc.W149\n"
     ]
    },
    {
     "name": "stderr",
     "output_type": "stream",
     "text": [
      " 99%|█████████▉| 4594/4649 [04:22<00:03, 17.51it/s]"
     ]
    },
    {
     "name": "stdout",
     "output_type": "stream",
     "text": [
      "mag.omcassan_9_100_1029.det.lc.W149\n",
      "mag.omcassan_9_109_347.det.lc.W149\n",
      "mag.omcassan_9_110_116.det.lc.W149\n"
     ]
    },
    {
     "name": "stderr",
     "output_type": "stream",
     "text": [
      " 99%|█████████▉| 4603/4649 [04:22<00:02, 17.51it/s]"
     ]
    },
    {
     "name": "stdout",
     "output_type": "stream",
     "text": [
      "mag.omcassan_9_112_145.det.lc.W149\n"
     ]
    },
    {
     "name": "stderr",
     "output_type": "stream",
     "text": [
      " 99%|█████████▉| 4609/4649 [04:23<00:02, 17.51it/s]"
     ]
    },
    {
     "name": "stdout",
     "output_type": "stream",
     "text": [
      "mag.omcassan_9_24_504.det.lc.W149\n",
      "mag.omcassan_9_24_563.det.lc.W149\n",
      "mag.omcassan_9_31_743.det.lc.W149\n"
     ]
    },
    {
     "name": "stderr",
     "output_type": "stream",
     "text": [
      " 99%|█████████▉| 4621/4649 [04:23<00:01, 17.52it/s]"
     ]
    },
    {
     "name": "stdout",
     "output_type": "stream",
     "text": [
      "mag.omcassan_9_46_840.det.lc.W149\n"
     ]
    },
    {
     "name": "stderr",
     "output_type": "stream",
     "text": [
      "100%|█████████▉| 4630/4649 [04:24<00:01, 17.53it/s]"
     ]
    },
    {
     "name": "stdout",
     "output_type": "stream",
     "text": [
      "mag.omcassan_9_59_130.det.lc.W149\n",
      "mag.omcassan_9_5_426.det.lc.W149\n",
      "mag.omcassan_9_60_557.det.lc.W149\n"
     ]
    },
    {
     "name": "stderr",
     "output_type": "stream",
     "text": [
      "100%|█████████▉| 4645/4649 [04:24<00:00, 17.53it/s]"
     ]
    },
    {
     "name": "stdout",
     "output_type": "stream",
     "text": [
      "mag.omcassan_9_84_1101.det.lc.W149\n"
     ]
    },
    {
     "name": "stderr",
     "output_type": "stream",
     "text": [
      "100%|██████████| 4649/4649 [04:25<00:00, 17.54it/s]"
     ]
    },
    {
     "name": "stdout",
     "output_type": "stream",
     "text": [
      "mag.omcassan_9_89_499.det.lc.W149\n",
      "mag.omcassan_9_99_932.det.lc.W149\n"
     ]
    },
    {
     "name": "stderr",
     "output_type": "stream",
     "text": [
      "\n"
     ]
    }
   ],
   "source": [
    "\n",
    "for i in tqdm(range(len(result['name']))):\n",
    "     \n",
    "    \n",
    "    info.loc[info.name == result['name'][i], 'tE_trapezoid'] = result['tE_ml'][i]\n",
    "    info.loc[info.name == result['name'][i], 'baseline_trapezoid'] = result['a'][i]\n",
    "    info.loc[info.name == result['name'][i], 'max_trapezoid'] = result['b'][i]\n",
    "    info.loc[info.name == result['name'][i], 't0_trapezoid'] = result['t0_ml'][i]\n",
    "    info.loc[info.name == result['name'][i], 'tau1'] = result['tau1'][i]\n",
    "    info.loc[info.name == result['name'][i], 'tau2'] = result['tau2'][i]\n",
    "    info.loc[info.name == result['name'][i], 'tau3'] = result['tau3'][i]\n",
    "    info.loc[info.name == result['name'][i], 'tau4'] = result['tau4'][i]\n",
    "    info.loc[info.name == result['name'][i], 'second?'] = result['second?'][i]\n",
    "    info.loc[info.name == result['name'][i], 'baseline_magnitude_median'] = result['mag_med'][i]\n",
    "    info.loc[info.name == result['name'][i], 'chisqr_trapezoid'] = calc_chisq2(result['ydata'][i], result['solution'][i], result['yerr'][i])\n",
    "    info.loc[info.name == result['name'][i], 'reduced_chisqr'] = calc_chisq2(result['ydata'][i], result['solution'][i], result['yerr'][i])/(len(result['ydata'][i])-7)\n",
    "\n",
    "\n",
    "    \n",
    "    if not result['name'][i] in info.name.values:\n",
    "        print result['name'][i]"
   ]
  },
  {
   "cell_type": "code",
   "execution_count": 29,
   "metadata": {
    "collapsed": false
   },
   "outputs": [],
   "source": [
    "info = info.reset_index()"
   ]
  },
  {
   "cell_type": "code",
   "execution_count": 30,
   "metadata": {
    "collapsed": false,
    "scrolled": true
   },
   "outputs": [
    {
     "data": {
      "text/plain": [
       "'mag.ombin_0_0_9.det.lc.W149'"
      ]
     },
     "execution_count": 30,
     "metadata": {},
     "output_type": "execute_result"
    }
   ],
   "source": [
    "info['name'][0]"
   ]
  },
  {
   "cell_type": "code",
   "execution_count": 31,
   "metadata": {
    "collapsed": false
   },
   "outputs": [
    {
     "name": "stderr",
     "output_type": "stream",
     "text": [
      "  0%|          | 0/4770 [00:00<?, ?it/s]/Users/Research/Library/Enthought/Canopy_64bit/User/lib/python2.7/site-packages/ipykernel/__main__.py:7: FutureWarning: set_value is deprecated and will be removed in a future release. Please use .at[] or .iat[] accessors instead\n",
      " 30%|██▉       | 1408/4770 [00:00<00:00, 14072.80it/s]/Users/Research/Library/Enthought/Canopy_64bit/User/lib/python2.7/site-packages/ipykernel/__main__.py:19: FutureWarning: set_value is deprecated and will be removed in a future release. Please use .at[] or .iat[] accessors instead\n",
      "/Users/Research/Library/Enthought/Canopy_64bit/User/lib/python2.7/site-packages/ipykernel/__main__.py:11: FutureWarning: set_value is deprecated and will be removed in a future release. Please use .at[] or .iat[] accessors instead\n",
      " 55%|█████▍    | 2604/4770 [00:00<00:00, 13014.52it/s]/Users/Research/Library/Enthought/Canopy_64bit/User/lib/python2.7/site-packages/ipykernel/__main__.py:15: FutureWarning: set_value is deprecated and will be removed in a future release. Please use .at[] or .iat[] accessors instead\n",
      "100%|██████████| 4770/4770 [00:00<00:00, 13082.97it/s]\n"
     ]
    }
   ],
   "source": [
    "info['type'] = np.zeros(len(info))\n",
    "\n",
    "for i in tqdm(range(len(info))):\n",
    "    \n",
    "    if info['name'][i].split('mag')[1].startswith('.ombin'):\n",
    "        \n",
    "        info.set_value(i, 'type', 1)\n",
    "        \n",
    "    if info['name'][i].split('mag')[1].startswith('.dccv'):\n",
    "        \n",
    "        info.set_value(i, 'type', 0)\n",
    "        \n",
    "    if info['name'][i].split('mag')[1].startswith('.dcnormffp'):\n",
    "        \n",
    "        info.set_value(i, 'type', 3)\n",
    "        \n",
    "    if info['name'][i].split('mag')[1].startswith('.omcassan'):\n",
    "        \n",
    "        info.set_value(i, 'type', 2)"
   ]
  },
  {
   "cell_type": "code",
   "execution_count": 46,
   "metadata": {
    "collapsed": false
   },
   "outputs": [],
   "source": [
    "# info.to_csv('Trapezoidal_all_lc.CSV')"
   ]
  },
  {
   "cell_type": "code",
   "execution_count": 17,
   "metadata": {
    "collapsed": false
   },
   "outputs": [],
   "source": [
    "info = pd.read_csv('test_result/Trapezoid/Trapezoidal_PSPL_Results.CSV')"
   ]
  },
  {
   "cell_type": "code",
   "execution_count": 507,
   "metadata": {
    "collapsed": false
   },
   "outputs": [
    {
     "name": "stderr",
     "output_type": "stream",
     "text": [
      "100%|██████████| 273/273 [23:53<00:00,  5.25s/it]"
     ]
    },
    {
     "name": "stdout",
     "output_type": "stream",
     "text": [
      "done\n"
     ]
    },
    {
     "name": "stderr",
     "output_type": "stream",
     "text": [
      "\n"
     ]
    }
   ],
   "source": [
    "# fitting Trapezoidal function to only PSPL light curves\n",
    "\n",
    "\n",
    "direc.sort()\n",
    "result = {'name':[], 't0_ml':[], 'tE_ml':[], 'a':[], 'b':[], 'tau1':[],'tau2':[], 'tau3':[],\n",
    "          'tau4':[], 'mag_med':[], 'guess':[], 'solution':[], 'xdata': [], 'ydata': [], 'yerr': [],\n",
    "         'chisqr': []}\n",
    "c = 0 \n",
    "up_lim = 100 #99.95\n",
    "\n",
    "for f in tqdm(direc):\n",
    "    #print f\n",
    "    \n",
    "    if  f.endswith('.W149') and f.split('ag')[1].startswith('.dcnormffp'):#f.endswith('.txt') and f.split('_')[2].startswith('W'):\n",
    "        \n",
    "        #print f\n",
    "        sec = 0\n",
    "        c = c +1\n",
    "        \n",
    "#         try:\n",
    "        t,m,e = np.loadtxt(temp+str(f),unpack=True, usecols=(0,1, 2))\n",
    "\n",
    "        df, interpol,baseline, event, it0, dt = prepare(t,m,e)\n",
    "\n",
    "        df['magnitude_modified'] = np.median(df['magnitude'][baseline]) - df['magnitude']\n",
    "\n",
    "        xdata = df['t']\n",
    "        ydata = df['magnitude_modified']\n",
    "\n",
    "        t0_ini = xdata[np.argmax(ydata[ydata <np.percentile(ydata,[0,up_lim] )[1]])]\n",
    "        #tE_ini1 = 0.5*(xdata.values[1]-xdata.values[0])*len(np.where(abs(ydata-np.median(ydata))>2*np.std(ydata))[0])\n",
    "        am_ini = np.max(ydata[ydata <np.percentile(ydata,[0,up_lim] )[1]]) \n",
    "\n",
    "        tE_ini = [10., 1., 0.1, 0.01]\n",
    "        \n",
    "        chisqr = []\n",
    "        popt_final = []\n",
    "        \n",
    "        for tE_i in tE_ini:\n",
    "            \n",
    "            \n",
    "            a, b, tau1, tau2, tau3, tau4 = 0, am_ini, t0_ini-1*tE_i, t0_ini-0.5*tE_i, t0_ini+0.5*tE_i, t0_ini+1*tE_i\n",
    "\n",
    "\n",
    "\n",
    "            paramt = [a, b, tau1, tau2, tau3, tau4]\n",
    "\n",
    "            # optmizing\n",
    "            popt, pcov = opt.curve_fit(trapezoid, xdata, ydata, p0=paramt)\n",
    "            \n",
    "            chisqr.append(calc_chisq2(ydata,trapezoid(xdata, *popt),e))\n",
    "            popt_final.append(popt)\n",
    "\n",
    "\n",
    "            chisqr_final = min(chisqr)\n",
    "            popt = popt_final[np.argmin(chisqr)]\n",
    "\n",
    "        guess    = trapezoid(xdata, *paramt)\n",
    "        solution = trapezoid(xdata, *popt)\n",
    "\n",
    "        t0_ml = xdata[np.argmin(np.abs(xdata-(popt[2]+(popt[5]-popt[2])/2)))]\n",
    "        tE_ml = (popt[5]-popt[2])\n",
    "        tE_flat = (popt[4]-popt[3])\n",
    "        tE_flat_ratio = tE_flat/tE_ml\n",
    "        am_ml = popt[1]\n",
    "\n",
    "\n",
    "        result['name'].append(f)\n",
    "        result['t0_ml'].append(t0_ml)\n",
    "        result['tE_ml'].append(tE_ml)\n",
    "        result['a'].append(popt[0])\n",
    "        result['b'].append(popt[1])\n",
    "        result['tau1'].append(popt[2])\n",
    "        result['tau2'].append(popt[3])\n",
    "        result['tau3'].append(popt[4])\n",
    "        result['tau4'].append(popt[5])\n",
    "        result['mag_med'].append(np.median(df['magnitude'][baseline]))\n",
    "        result['guess'].append(np.median(df['magnitude'][baseline])-guess)\n",
    "        result['solution'].append(np.median(df['magnitude'][baseline])-solution)\n",
    "        result['xdata'].append(df['t'])\n",
    "        result['ydata'].append(df['magnitude'])\n",
    "        result['yerr'].append(df['m_err'])\n",
    "        result['chisqr'].append(chisqr_final)\n",
    "\n",
    "#         except (RuntimeError, TypeError, NameError, ValueError):\n",
    "#             print 'error:'+str(f)\n",
    "#             pass\n",
    "#     if c == 4:\n",
    "#         break\n",
    "\n",
    "print 'done'\n",
    "\n",
    "\n"
   ]
  },
  {
   "cell_type": "code",
   "execution_count": 511,
   "metadata": {
    "collapsed": false
   },
   "outputs": [
    {
     "name": "stderr",
     "output_type": "stream",
     "text": [
      "100%|██████████| 273/273 [00:10<00:00, 24.84it/s]\n"
     ]
    }
   ],
   "source": [
    "\n",
    "for i in tqdm(range(len(result['name']))):\n",
    "     \n",
    "    \n",
    "    temp_info.loc[temp_info.name == result['name'][i], 'tE_trapezoid'] = result['tE_ml'][i]\n",
    "    temp_info.loc[temp_info.name == result['name'][i], 'tau1'] = result['tau1'][i]\n",
    "    temp_info.loc[temp_info.name == result['name'][i], 'tau2'] = result['tau2'][i]\n",
    "    temp_info.loc[temp_info.name == result['name'][i], 'tau3'] = result['tau3'][i]\n",
    "    temp_info.loc[temp_info.name == result['name'][i], 'tau4'] = result['tau4'][i]\n",
    "    temp_info.loc[temp_info.name == result['name'][i], 't0_trapezoid'] = result['t0_ml'][i]\n",
    "    temp_info.loc[temp_info.name == result['name'][i], 'a_trapezoid'] = result['a'][i]\n",
    "    temp_info.loc[temp_info.name == result['name'][i], 'b_trapezoid'] = result['b'][i]\n",
    "    temp_info.loc[temp_info.name == result['name'][i], 'mag_med'] = result['mag_med'][i]\n",
    "    temp_info.loc[temp_info.name == result['name'][i], 'chi_squared'] = calc_chisq2(result['ydata'][i], result['solution'][i], result['yerr'][i])\n",
    "    temp_info.loc[temp_info.name == result['name'][i], 'reduced_chi_squared'] = calc_chisq2(result['ydata'][i], result['solution'][i], result['yerr'][i])/(len(result['ydata'][i])-7)\n",
    "    \n",
    "    if not result['name'][i] in temp_info.name.values:\n",
    "        print result['name'][i]"
   ]
  },
  {
   "cell_type": "code",
   "execution_count": 512,
   "metadata": {
    "collapsed": true
   },
   "outputs": [],
   "source": [
    "temp_info['tE_trapezoid_ratio'] = (temp_info.tau3 - temp_info.tau2)/(temp_info.tau4- temp_info.tau1)"
   ]
  },
  {
   "cell_type": "code",
   "execution_count": 521,
   "metadata": {
    "collapsed": false
   },
   "outputs": [
    {
     "data": {
      "image/png": "[encoded data removed]",
      "text/plain": [
       "<matplotlib.figure.Figure at 0x118a26ad0>"
      ]
     },
     "metadata": {},
     "output_type": "display_data"
    }
   ],
   "source": [
    "# plt.plot(temp_info.tE_trapezoid, temp_info.tE_trapezoid_ratio, 'b.')\n",
    "plt.plot(temp_info.tE, temp_info.tE_trapezoid/2., 'k.')\n",
    "plt.plot(temp_info.tE, temp_info.tE, 'g-')\n",
    "plt.plot(info.tE[(info.tE_trapezoid <0.1) & (info.tE_trapezoid != 0)], \n",
    "         info.tE_trapezoid[(info.tE_trapezoid <0.1) & (info.tE_trapezoid != 0)]/2., 'r.')\n",
    "\n",
    "\n",
    "\n",
    "plt.xscale('log')\n",
    "plt.yscale('log')"
   ]
  },
  {
   "cell_type": "code",
   "execution_count": 523,
   "metadata": {
    "collapsed": false
   },
   "outputs": [
    {
     "name": "stderr",
     "output_type": "stream",
     "text": [
      "100%|██████████| 273/273 [00:10<00:00, 25.45it/s]\n"
     ]
    }
   ],
   "source": [
    "\n",
    "for i in tqdm(range(len(temp_info.name))):\n",
    "     \n",
    "    \n",
    "    info.loc[info.name == temp_info.name[i], 'tE_trapezoid'] = temp_info['tE_trapezoid'][i]\n",
    "    info.loc[info.name == temp_info.name[i], 'tE_trapezoid_ratio'] = temp_info['tE_trapezoid_ratio'][i]\n",
    "    info.loc[info.name == temp_info.name[i], 'tau1'] = temp_info['tau1'][i]\n",
    "    info.loc[info.name == temp_info.name[i], 'tau2'] = temp_info['tau2'][i]\n",
    "    info.loc[info.name == temp_info.name[i], 'tau3'] = temp_info['tau3'][i]\n",
    "    info.loc[info.name == temp_info.name[i], 'tau4'] = temp_info['tau4'][i]\n",
    "    info.loc[info.name == temp_info.name[i], 't0_trapezoid'] = temp_info['t0_trapezoid'][i]\n",
    "    info.loc[info.name == temp_info.name[i], 'a_trapezoid'] = temp_info['a_trapezoid'][i]\n",
    "    info.loc[info.name == temp_info.name[i], 'b_trapezoid'] = temp_info['b_trapezoid'][i]\n",
    "    info.loc[info.name == temp_info.name[i], 'mag_med'] = temp_info['mag_med'][i]\n",
    "    info.loc[info.name == temp_info.name[i], 'chi_squared'] = temp_info['chi_squared'][i]\n",
    "    info.loc[info.name == temp_info.name[i], 'reduced_chi_squared'] = temp_info['reduced_chi_squared'][i]\n",
    "    "
   ]
  },
  {
   "cell_type": "code",
   "execution_count": 70,
   "metadata": {
    "collapsed": false
   },
   "outputs": [],
   "source": [
    "info2 = pd.read_csv('answer_keys/dcnormffp.CSV')"
   ]
  },
  {
   "cell_type": "code",
   "execution_count": 51,
   "metadata": {
    "collapsed": true
   },
   "outputs": [],
   "source": [
    "info['tE_trapezoid'] = np.zeros(len(info))\n",
    "info['tau1'] = np.zeros(len(info))\n",
    "info['tau2'] = np.zeros(len(info))\n",
    "info['tau3'] = np.zeros(len(info))\n",
    "info['tau4'] = np.zeros(len(info))\n",
    "info['mag_med'] = np.zeros(len(info))\n",
    "info['a_trapezoid'] = np.zeros(len(info))\n",
    "info['b_trapezoid'] = np.zeros(len(info))\n",
    "info['reduced_chi_squared'] = np.zeros(len(info))\n",
    "info['chi_squared'] = np.zeros(len(info))\n"
   ]
  },
  {
   "cell_type": "code",
   "execution_count": 433,
   "metadata": {
    "collapsed": false
   },
   "outputs": [],
   "source": [
    "t = result['xdata'][2]"
   ]
  },
  {
   "cell_type": "code",
   "execution_count": 449,
   "metadata": {
    "collapsed": false
   },
   "outputs": [],
   "source": [
    "for i in range (len(info.name)):\n",
    "    \n",
    "    info.loc[info.index == i, 't0_trapezoid'] = t[np.argmin(np.abs(t-(info['tau1'][i]+(info['tau4'][i]-info['tau1'][i])/2)))]-2458234"
   ]
  },
  {
   "cell_type": "code",
   "execution_count": 52,
   "metadata": {
    "collapsed": true
   },
   "outputs": [],
   "source": [
    "info = info.rename(columns={\"index\": \"name\"})"
   ]
  },
  {
   "cell_type": "code",
   "execution_count": 53,
   "metadata": {
    "collapsed": false
   },
   "outputs": [],
   "source": [
    "for i in range(len(result['name'])):\n",
    "\n",
    "    if result['name'][i].split('.lc')[0].endswith('all'): \n",
    "        result['name'][i] = result['name'][i].split('all')[0]+'det'+result['name'][i].split('all')[1]"
   ]
  },
  {
   "cell_type": "code",
   "execution_count": 54,
   "metadata": {
    "collapsed": false
   },
   "outputs": [
    {
     "name": "stderr",
     "output_type": "stream",
     "text": [
      "100%|██████████| 1642/1642 [01:08<00:00, 24.10it/s]\n"
     ]
    }
   ],
   "source": [
    "\n",
    "for i in tqdm(range(len(result['name']))):\n",
    "     \n",
    "    \n",
    "    info.loc[info.name == result['name'][i], 'tE_trapezoid'] = result['tE_ml'][i]\n",
    "    info.loc[info.name == result['name'][i], 'tau1'] = result['tau1'][i]\n",
    "    info.loc[info.name == result['name'][i], 'tau2'] = result['tau2'][i]\n",
    "    info.loc[info.name == result['name'][i], 'tau3'] = result['tau3'][i]\n",
    "    info.loc[info.name == result['name'][i], 'tau4'] = result['tau4'][i]\n",
    "    info.loc[info.name == result['name'][i], 't0_trapezoid'] = result['t0_ml'][i]\n",
    "    info.loc[info.name == result['name'][i], 'a_trapezoid'] = result['a'][i]\n",
    "    info.loc[info.name == result['name'][i], 'b_trapezoid'] = result['b'][i]\n",
    "    info.loc[info.name == result['name'][i], 'mag_med'] = result['mag_med'][i]\n",
    "    info.loc[info.name == result['name'][i], 'chi_squared'] = calc_chisq2(result['ydata'][i], result['solution'][i], result['yerr'][i])\n",
    "    info.loc[info.name == result['name'][i], 'reduced_chi_squared'] = calc_chisq2(result['ydata'][i], result['solution'][i], result['yerr'][i])/(len(result['ydata'][i])-7)\n",
    "    \n",
    "    if not result['name'][i] in info.name.values:\n",
    "        print result['name'][i]"
   ]
  },
  {
   "cell_type": "code",
   "execution_count": 56,
   "metadata": {
    "collapsed": true
   },
   "outputs": [],
   "source": [
    "info['tE_trapezoid_ratio'] = (info.tau3 - info.tau2)/(info.tau4- info.tau1)"
   ]
  },
  {
   "cell_type": "code",
   "execution_count": 20,
   "metadata": {
    "collapsed": false
   },
   "outputs": [
    {
     "data": {
      "image/png": "[encoded data removed]",
      "text/plain": [
       "<matplotlib.figure.Figure at 0x118d8cc50>"
      ]
     },
     "metadata": {},
     "output_type": "display_data"
    }
   ],
   "source": [
    "fig, axs = plt.subplots(1, 2)\n",
    "\n",
    "c = 0.5\n",
    "b = 1#2458234\n",
    "rho_lim = 0.1\n",
    "tE_trap_lim = 2\n",
    "kappa_lim = 0.03\n",
    "legend_elements = []\n",
    "\n",
    "axs[0].plot(c*info['tE_trapezoid'][(info.rho<rho_lim)&(info.tE_trapezoid>0)&(np.abs(info.tE_trapezoid_ratio)<1)],\n",
    "         np.abs(info['tE_trapezoid_ratio'][(info.rho<rho_lim)&(info.tE_trapezoid>0)&(np.abs(info.tE_trapezoid_ratio)<1)]),\n",
    "         '.',color= 'blue', markersize=22,alpha = 0.3, label = r'$\\rho<0.1$')\n",
    "# axs[0].plot(info['tE'][(info.tE_trapezoid !=0)],\n",
    "#          np.abs(info['tE_trapezoid_ratio'][(info.tE_trapezoid !=0)]),\n",
    "#          'k.', markersize=22,alpha = 0.3, label = 'All lc')\n",
    "axs[0].plot(info['tE_trapezoid'][(info.rho>rho_lim)&(info.tE_trapezoid >0)&(np.abs(info.tE_trapezoid_ratio)<1)],\n",
    "         np.abs(info['tE_trapezoid_ratio'][(info.rho>rho_lim) & (info.tE_trapezoid >0)& (np.abs(info.tE_trapezoid_ratio)<1)]),\n",
    "         '.',color='green', markersize=22,alpha = 0.8, label = r'$\\rho>0.1$')\n",
    "legend_elements.append(Line2D([0], [0], lw=8, color = 'b' , label = r'$\\rho<0.1$'))\n",
    "\n",
    "# axs[0].plot(c*info['tE_trapezoid'][(info.tE_trapezoid>0.1)&(np.abs(info.tE_trapezoid_ratio)>kappa_lim)&(info.tE_trapezoid<tE_trap_lim)&(np.abs(info.tE_trapezoid_ratio)<1)],\n",
    "#          np.abs(info['tE_trapezoid_ratio'][(info.tE_trapezoid>0.1)&(np.abs(info.tE_trapezoid_ratio)>kappa_lim)&(info.tE_trapezoid<tE_trap_lim)&(np.abs(info.tE_trapezoid_ratio)<1)]),\n",
    "#          'g.', markersize=22,alpha=0.6, label = '$tE_{trap}\\;<\\;1 \\; Days$')\n",
    "# axs[0].axvline(tE_trap_lim/2, color = 'black', linewidth = 3)\n",
    "\n",
    "\n",
    "legend_elements.append(Line2D([0], [0], lw=8, color = 'g', label = r'$\\rho>0.1$'))\n",
    "\n",
    "\n",
    "axs[0].grid()\n",
    "axs[0].legend(bbox_to_anchor=(0., 1.02, 1., .102),handles=legend_elements, loc='lower left',\n",
    "           ncol=2, mode=\"expand\", borderaxespad=0. ,prop={'size': 22})\n",
    "\n",
    "rect = patches.Rectangle((0.082,0.03), 0.92, 0.94, linewidth=2 ,edgecolor='k',facecolor='none')\n",
    "axs[0].add_patch(rect)\n",
    "\n",
    "axs[0].set_xlabel('$t_{E,trap}$'+' (days)', size = 30)\n",
    "axs[0].set_ylabel('$ \\kappa$', size = 36)\n",
    "\n",
    "axs[0].set_xscale('log')\n",
    "axs[0].set_yscale('log')\n",
    "\n",
    "axs[0].set_ylim(5e-5, 1)\n",
    "axs[0].set_xlim(0.08, 1e3)\n",
    "\n",
    "\n",
    "legend_elements = []\n",
    "\n",
    "\n",
    "\n",
    "\n",
    "axs[1].hist(info['rho'][(info.tE_trapezoid>0.1)&(np.abs(info.tE_trapezoid_ratio)<1)&\\\n",
    "                        ((np.abs(info.tE_trapezoid_ratio)<kappa_lim)|(info.tE_trapezoid>tE_trap_lim))],\\\n",
    "                          bins=np.logspace(np.log10(1e-5), np.log10(5), 30),color = 'white', hatch='/',\\\n",
    "                          label='Outside the Box')\n",
    "\n",
    "legend_elements.append(Patch(facecolor='white', edgecolor='k',hatch = '/',\n",
    "                         label='Outside the Box')) #Line2D([0], [0], lw=8, color = 'white' ,edgecolor = 'black', label = '$tE_{trap}\\;>\\;1 \\; Days$'))\n",
    "\n",
    "\n",
    "axs[1].hist(info['rho'][(info.tE_trapezoid>0.1)&(np.abs(info.tE_trapezoid_ratio)<1)&\\\n",
    "                        (np.abs(info.tE_trapezoid_ratio)>kappa_lim)&(info.tE_trapezoid<tE_trap_lim) ],\\\n",
    "                        bins=np.logspace(np.log10(1e-5), np.log10(5), 30), color = 'grey', \n",
    "                        label='Inside the Box', alpha = 0.4)\n",
    "\n",
    "legend_elements.append(Patch(facecolor='grey', edgecolor='k',\n",
    "                         label='Inside the Box', alpha =0.4))#Line2D([0], [0], lw=8, color = 'grey' , label= '$tE_{trap}<\\;1\\; \\; Days$'))\n",
    "\n",
    "\n",
    "\n",
    "axs[1].grid()\n",
    "axs[1].legend(bbox_to_anchor=(0., 1.02, 1., .102),handles=legend_elements, loc='lower left',\n",
    "           ncol=2, mode=\"expand\", borderaxespad=0. ,prop={'size': 22})\n",
    "\n",
    "axs[1].set_xlabel('True Value of '+r'$\\rho$', size = 30)\n",
    "axs[1].set_ylabel('Number', size = 30)\n",
    "\n",
    "plt.subplots_adjust(left=None, bottom=None, right=None, top=None,\n",
    "                    wspace=0.2, hspace=0.08) \n",
    "\n",
    "axs[1].set_ylim(1, 200)\n",
    "axs[1].set_xlim(2e-4, 3)\n",
    "\n",
    "\n",
    "\n",
    "axs[0].tick_params(axis='both',which='both', labelsize=20)\n",
    "axs[1].tick_params(axis='both',which='both', labelsize=20)\n",
    "\n",
    "plt.xscale('log')\n",
    "plt.yscale('log')\n",
    "\n",
    "\n",
    "fig = plt.gcf()\n",
    "fig.set_size_inches(20.0,10.0)\n",
    "fig.savefig('test_result/Trapezoid/rho_of_tE_less_than_1_V3.png')"
   ]
  },
  {
   "cell_type": "code",
   "execution_count": 648,
   "metadata": {
    "collapsed": false
   },
   "outputs": [
    {
     "data": {
      "text/html": [
       "<div>\n",
       "<style scoped>\n",
       "    .dataframe tbody tr th:only-of-type {\n",
       "        vertical-align: middle;\n",
       "    }\n",
       "\n",
       "    .dataframe tbody tr th {\n",
       "        vertical-align: top;\n",
       "    }\n",
       "\n",
       "    .dataframe thead th {\n",
       "        text-align: right;\n",
       "    }\n",
       "</style>\n",
       "<table border=\"1\" class=\"dataframe\">\n",
       "  <thead>\n",
       "    <tr style=\"text-align: right;\">\n",
       "      <th></th>\n",
       "      <th>name</th>\n",
       "      <th>rho</th>\n",
       "      <th>tE</th>\n",
       "      <th>tE_trapezoid</th>\n",
       "    </tr>\n",
       "  </thead>\n",
       "  <tbody>\n",
       "    <tr>\n",
       "      <th>748</th>\n",
       "      <td>mag.dcnormffp_0_82_748.det.lc.W149</td>\n",
       "      <td>0.540243</td>\n",
       "      <td>0.897282</td>\n",
       "      <td>3.461219</td>\n",
       "    </tr>\n",
       "    <tr>\n",
       "      <th>1169</th>\n",
       "      <td>mag.dcnormffp_0_82_1169.det.lc.W149</td>\n",
       "      <td>0.478099</td>\n",
       "      <td>0.973918</td>\n",
       "      <td>3.596862</td>\n",
       "    </tr>\n",
       "  </tbody>\n",
       "</table>\n",
       "</div>"
      ],
      "text/plain": [
       "                                     name       rho        tE  tE_trapezoid\n",
       "748    mag.dcnormffp_0_82_748.det.lc.W149  0.540243  0.897282      3.461219\n",
       "1169  mag.dcnormffp_0_82_1169.det.lc.W149  0.478099  0.973918      3.596862"
      ]
     },
     "execution_count": 648,
     "metadata": {},
     "output_type": "execute_result"
    }
   ],
   "source": [
    "(info[['name','rho','tE','tE_trapezoid']][ (info.tE_trapezoid>0.1)&(np.abs(info.tE_trapezoid_ratio)<1)&((np.abs(info.tE_trapezoid_ratio)<kappa_lim)|(info.tE_trapezoid>tE_trap_lim))&(info.rho>0.3)] )"
   ]
  },
  {
   "cell_type": "code",
   "execution_count": 96,
   "metadata": {
    "collapsed": false
   },
   "outputs": [
    {
     "name": "stdout",
     "output_type": "stream",
     "text": [
      "0.882075471698\n",
      "0.024395153000864374\n"
     ]
    },
    {
     "data": {
      "image/png": "[encoded data removed]",
      "text/plain": [
       "<matplotlib.figure.Figure at 0x11baf7b10>"
      ]
     },
     "metadata": {},
     "output_type": "display_data"
    }
   ],
   "source": [
    "# General format for plotting different parameters versus each other \n",
    "\n",
    "plt.figure()\n",
    "ax = plt.gca()\n",
    "x = 'tE'\n",
    "y = 'tE_trapezoid'\n",
    "C =0.5\n",
    "#plt.plot(np.abs(info[x][info.tE_trapezoid>2]), np.abs(info[y][info.tE_trapezoid>2]),'r.', markersize=25)\n",
    "\n",
    "\n",
    "plt.plot(np.abs(info[x][ (info.tE_trapezoid !=0) & (np.abs(info.t0-info.t0_exp)<10)]), C*np.abs(info[y][ (info.tE_trapezoid != 0)& (np.abs(info.t0-info.t0_exp)<10)]),'g.', markersize=25)\n",
    "plt.plot(np.abs(info[x][ (info.tE_trapezoid != 0)& (np.abs(info.t0-info.t0_exp)<10)]), np.abs(info[x][ (info.tE_trapezoid != 0)& (np.abs(info.t0-info.t0_exp)<10)]),'k-', markersize=25)\n",
    "# plt.plot(np.abs(info[x][(info.tE<2)& (info.tE_trapezoid >0) & (np.abs(info.t0-info.t0_exp)>10)]), np.abs(info[y][(info.tE<2)& (info.tE_trapezoid >0)& (np.abs(info.t0-info.t0_exp)>10)]),'r.', markersize=25)\n",
    "\n",
    "\n",
    "\n",
    "# plt.plot(np.abs(info[x]), np.abs(info[x])+0.05,'k-', markersize=25)\n",
    "# plt.plot(np.abs(info[x]), np.abs(info[x])-0.05,'k-', markersize=25)\n",
    "\n",
    "\n",
    "\n",
    "# plt.plot(np.abs(info[x][(info.tE<0.1) & (np.abs(info.tE_trapezoid/4.)<(np.abs(info.tE)+0.05)) & (np.abs(info.tE_trapezoid/4.)>(np.abs(info.tE)-0.05)) & (info.tE_trapezoid !=0)]), \n",
    "#          C*np.abs(info[y][(info.tE<0.1) & (np.abs(info.tE_trapezoid/4.)<(np.abs(info.tE)+0.05)) & (np.abs(info.tE_trapezoid/4.)>(np.abs(info.tE)-0.05)) & (info.tE_trapezoid !=0)]),'b.', markersize=25)\n",
    "\n",
    "\n",
    "print (float(len(info[y][(info.tE<0.1) & (np.abs(info.tE_trapezoid/4.)<(np.abs(info.tE)+0.05)) & \n",
    "                         (np.abs(info.tE_trapezoid/4.)>(np.abs(info.tE)-0.05)) & \n",
    "                         (info.tE_trapezoid !=0)]))/float(len(info[y][(info.tE<0.1)& (info.tE_trapezoid !=0)])))\n",
    "\n",
    "print med_med( np.abs(info[x][(info.tE<0.1) & (np.abs(info.tE_trapezoid/4.)<(np.abs(info.tE)+0.05)) & (np.abs(info.tE_trapezoid/4.)>(np.abs(info.tE)-0.05)) & (info.tE_trapezoid !=0)]),\n",
    "             C*np.abs(info[y][(info.tE<0.1) & (np.abs(info.tE_trapezoid/4.)<(np.abs(info.tE)+0.05)) & (np.abs(info.tE_trapezoid/4.)>(np.abs(info.tE)-0.05)) & (info.tE_trapezoid !=0)]))\n",
    "# axs[0, 1].tick_params(axis='x',which='both', bottom='off', top='off',labelbottom='off')\n",
    "# axs[0, 1].tick_params(axis='y',which='both', bottom='right', top='left',labelleft='off',length=0)\n",
    "\n",
    "plt.gca().tick_params(axis='y',which='both', labelsize=20)\n",
    "plt.gca().tick_params(axis='x',which='both', labelsize=20)\n",
    "\n",
    "\n",
    "# axs[1, 0].tick_params(axis='both',which='both', labelsize=12)\n",
    "# axs[1, 1].tick_params(axis='x',which='both', labelsize=12)\n",
    "\n",
    "# plt.yscale('log')\n",
    "# plt.xscale('log')\n",
    "\n",
    "# ax.set_xticklabels( ['', 0.5, 1.0, 1.5,2.0],rotation = 0, fontsize = 22)\n",
    "# ax.set_yticklabels( ['',0.5, 0.1,1.5,2.0,2.5,3],rotation = 90, fontsize = 22)\n",
    "\n",
    "\n",
    "# axs[0, 0].tick_params(axis='x',which='both', bottom='off', top='off',labelbottom='off')\n",
    "# axs[1, 1].tick_params(axis='y',which='both', bottom='right', top='left',labelleft='off', length=0)\n",
    "\n",
    "plt.xlim(0.03,2)\n",
    "plt.ylim(0.03,2)\n",
    "\n",
    "plt.grid()\n",
    "\n",
    "# plt.axvline(0.17)\n",
    "# plt.axhline(0.3)\n",
    "\n",
    "\n",
    "plt.title('Trapezoidal Estimation of $t_E$ Versus True Values of $t_E$', size=30) \n",
    "\n",
    "plt.xlabel('$True \\; t_E \\; (Days)$',size=30)\n",
    "plt.ylabel( '$t_{E,trap} \\; (Days)$',size=30)\n",
    "\n",
    "fig = plt.gcf()\n",
    "fig.set_size_inches(15.0,10.0)\n",
    "# fig.savefig('tE_FFP_Trapezoid_log_scale.png')"
   ]
  },
  {
   "cell_type": "code",
   "execution_count": 693,
   "metadata": {
    "collapsed": false
   },
   "outputs": [],
   "source": [
    "# info[['name', 'tE', 'tE_trapezoid','tE_trapezoid_ratio']][(info.tE<0.2) & (info.tE_trapezoid>0.5)& (np.abs(info.t0-info.t0_exp)>10)]"
   ]
  },
  {
   "cell_type": "code",
   "execution_count": 671,
   "metadata": {
    "collapsed": true
   },
   "outputs": [],
   "source": [
    "info.loc[info.name == 'mag.dcnormffp_0_82_1541.det.lc.W149', 'tE_trapezoid'] = 0.22833129903301597       \n",
    "info.loc[info.name == 'mag.dcnormffp_0_82_1541.det.lc.W149', 'tE_trapezoid_ratio'] = 0.08987250870971625"
   ]
  },
  {
   "cell_type": "code",
   "execution_count": 74,
   "metadata": {
    "collapsed": true
   },
   "outputs": [],
   "source": [
    "# info.to_csv('test_result/Tophat:Trapezoid/Trapezoidal_PSPL_Results.CSV')"
   ]
  },
  {
   "cell_type": "code",
   "execution_count": 95,
   "metadata": {
    "collapsed": false
   },
   "outputs": [],
   "source": [
    "info = pd.read_csv('test_result/Tophat:Trapezoid/Trapezoidal_PSPL_Results.CSV')"
   ]
  },
  {
   "cell_type": "code",
   "execution_count": 689,
   "metadata": {
    "collapsed": false
   },
   "outputs": [
    {
     "data": {
      "text/plain": [
       "0.45936001273006205"
      ]
     },
     "execution_count": 689,
     "metadata": {},
     "output_type": "execute_result"
    }
   ],
   "source": [
    "med_med(np.abs(info[x][ (info.tE_trapezoid !=0) & (np.abs(info.t0-info.t0_exp)<10)]),\n",
    "       C*np.abs(info[y][ (info.tE_trapezoid != 0)& (np.abs(info.t0-info.t0_exp)<10)]))"
   ]
  },
  {
   "cell_type": "code",
   "execution_count": 690,
   "metadata": {
    "collapsed": false
   },
   "outputs": [
    {
     "data": {
      "text/plain": [
       "0.06260338371684851"
      ]
     },
     "execution_count": 690,
     "metadata": {},
     "output_type": "execute_result"
    }
   ],
   "source": [
    "med_med(np.abs(info[x][ (info.tE_trapezoid !=0) & (np.abs(info.t0-info.t0_exp)<10) & (info.tE_trapezoid<1)]),\n",
    "       C*np.abs(info[y][ (info.tE_trapezoid != 0)& (np.abs(info.t0-info.t0_exp)<10)& (info.tE_trapezoid<1)]))"
   ]
  },
  {
   "cell_type": "code",
   "execution_count": 691,
   "metadata": {
    "collapsed": false
   },
   "outputs": [
    {
     "data": {
      "text/plain": [
       "0.8209994192967578"
      ]
     },
     "execution_count": 691,
     "metadata": {},
     "output_type": "execute_result"
    }
   ],
   "source": [
    "med_med(np.abs(info[x][ (info.tE_trapezoid !=0) & (np.abs(info.t0-info.t0_exp)<10) & (info.tE_trapezoid>1)]),\n",
    "       C*np.abs(info[y][ (info.tE_trapezoid != 0)& (np.abs(info.t0-info.t0_exp)<10)& (info.tE_trapezoid>1)]))"
   ]
  },
  {
   "cell_type": "code",
   "execution_count": 81,
   "metadata": {
    "collapsed": false
   },
   "outputs": [
    {
     "data": {
      "image/png": "[encoded data removed]",
      "text/plain": [
       "<matplotlib.figure.Figure at 0x1192bd410>"
      ]
     },
     "metadata": {},
     "output_type": "display_data"
    }
   ],
   "source": [
    "plt.plot(info['rho'], info['tE'],'b.')\n",
    "plt.xscale('log')\n",
    "plt.yscale('log')"
   ]
  },
  {
   "cell_type": "code",
   "execution_count": null,
   "metadata": {
    "collapsed": true
   },
   "outputs": [],
   "source": []
  }
 ],
 "metadata": {
  "kernelspec": {
   "display_name": "Python 2",
   "language": "python",
   "name": "python2"
  },
  "language_info": {
   "codemirror_mode": {
    "name": "ipython",
    "version": 2
   },
   "file_extension": ".py",
   "mimetype": "text/x-python",
   "name": "python",
   "nbconvert_exporter": "python",
   "pygments_lexer": "ipython2",
   "version": "2.7.11"
  }
 },
 "nbformat": 4,
 "nbformat_minor": 1
}
