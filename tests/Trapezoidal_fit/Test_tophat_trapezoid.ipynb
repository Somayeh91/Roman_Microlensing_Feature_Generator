{
 "cells": [
  {
   "cell_type": "code",
   "execution_count": 1,
   "metadata": {
    "collapsed": true
   },
   "outputs": [],
   "source": [
    "import numpy as np\n",
    "import matplotlib.pyplot as plt\n",
    "from tqdm import tqdm\n",
    "import os\n",
    "import pandas as pd\n",
    "import random\n",
    "import scipy.optimize as opt\n",
    "from scipy.interpolate import interp1d\n",
    "from scipy.optimize import curve_fit\n",
    "\n",
    "%matplotlib inline"
   ]
  },
  {
   "cell_type": "code",
   "execution_count": 2,
   "metadata": {
    "collapsed": true
   },
   "outputs": [],
   "source": [
    "def med_med (true,fitted):\n",
    "    temp = fitted - true\n",
    "    return (np.median(np.abs(temp-np.median(temp))))"
   ]
  },
  {
   "cell_type": "code",
   "execution_count": 3,
   "metadata": {
    "collapsed": true
   },
   "outputs": [],
   "source": [
    "# Low-pass filter to smooth out the noise\n",
    "\n",
    "def low_pass_filter(y, box_pts, mode='same', base=1):\n",
    "    box = base*(np.ones(box_pts)/box_pts)\n",
    "    y_filtered = np.convolve(y, box, mode=mode)\n",
    "    if mode=='same':\n",
    "        y_filtered[0:int(box_pts/2)]=y_filtered[int(box_pts/2)]\n",
    "        y_filtered[len(y_filtered)-int(box_pts/2):len(y_filtered)]=y_filtered[len(y_filtered)-int(box_pts/2)]\n",
    "    return y_filtered"
   ]
  },
  {
   "cell_type": "code",
   "execution_count": 4,
   "metadata": {
    "collapsed": true
   },
   "outputs": [],
   "source": [
    "def calc_chisq(lightcurve,fx):\n",
    "    \"\"\"Function to calculate the chi squared of the fit of the lightcurve\n",
    "    data to the function provided\"\"\"\n",
    "    \n",
    "    chisq = ((lightcurve - fx)**2 / fx).sum()\n",
    "    \n",
    "    return chisq"
   ]
  },
  {
   "cell_type": "code",
   "execution_count": 5,
   "metadata": {
    "collapsed": true
   },
   "outputs": [],
   "source": [
    "def calc_chisq2(lightcurve,fx,ferror):\n",
    "    \"\"\"Function to calculate the chi squared of the fit of the lightcurve\n",
    "    data to the function provided\"\"\"\n",
    "    \n",
    "    chisq = ((lightcurve - fx)**2 / (ferror**2)).sum()\n",
    "    \n",
    "    return chisq"
   ]
  },
  {
   "cell_type": "code",
   "execution_count": 6,
   "metadata": {
    "collapsed": true
   },
   "outputs": [],
   "source": [
    "# ASSUMPTION = t and m are panda dataframes\n",
    "# Create a function that: \n",
    "# 1- Smoothes the lightcurve\n",
    "# 2- Divides it into bins of arbitrary sizes\n",
    "# 3- Calculates (m - mean)/std(m)\n",
    "# 4- Counts the number of outliers in each bin with deviations larger than threshold*sigma\n",
    "\n",
    "def find_peaks (t, m, smooth='yes', bin_size = 30, threshold = 3):\n",
    "    \n",
    "    if smooth == 'yes':\n",
    "        m = low_pass_filter(m,8)\n",
    "    else:\n",
    "        pass\n",
    "    \n",
    "    bins = np.linspace(t.min(),t.max(),int((t.max()-t.min())/bin_size))\n",
    "    groups = df.groupby(np.digitize(t, bins))\n",
    "    \n",
    "    std_ = np.std(m)\n",
    "    delta_m = []\n",
    "    t__ = []\n",
    "    c=0\n",
    "    for i in groups.indices:\n",
    "        #print c\n",
    "        c = c+1\n",
    "        #print i\n",
    "        m_ = m[groups.indices[i]]\n",
    "        t_ = t[groups.indices[i]]\n",
    "        #print t,m\n",
    "        del_m = np.asarray((np.abs(m_- m_.mean())/std_))\n",
    "        delta_m.append(del_m)\n",
    "        t__.append(np.asarray(t_))\n",
    "        \n",
    "    n_outliers = []\n",
    "    t_mean_in_each_bin = []\n",
    "    for j in range(len(delta_m)):\n",
    "    \n",
    "        n_outliers.append(len(np.where(delta_m[j]>threshold)[0])) \n",
    "        t_mean_in_each_bin.append(np.mean(t__[j]))\n",
    "        \n",
    "    return n_outliers, t_mean_in_each_bin"
   ]
  },
  {
   "cell_type": "code",
   "execution_count": 7,
   "metadata": {
    "collapsed": true
   },
   "outputs": [],
   "source": [
    "# An example baseline for creating a tophat function\n",
    "\n",
    "xt = np.linspace(-1,2,100)"
   ]
  },
  {
   "cell_type": "code",
   "execution_count": 8,
   "metadata": {
    "collapsed": true
   },
   "outputs": [],
   "source": [
    "home = os.path.expanduser(\"~\")"
   ]
  },
  {
   "cell_type": "code",
   "execution_count": null,
   "metadata": {
    "collapsed": true
   },
   "outputs": [],
   "source": []
  },
  {
   "cell_type": "code",
   "execution_count": null,
   "metadata": {
    "collapsed": true
   },
   "outputs": [],
   "source": [
    "direc = os.listdir(home+'/Library/Mobile Documents/com~apple~CloudDocs/Microlensing_Data_Challeng/data-challenge-1/lc')"
   ]
  },
  {
   "cell_type": "code",
   "execution_count": 9,
   "metadata": {
    "collapsed": true
   },
   "outputs": [],
   "source": [
    "# Path to the larger dataset\n",
    "home = os.path.expanduser(\"~\")\n",
    "\n",
    "temp = home+'/Library/Mobile Documents/com~apple~CloudDocs/Microlensing_Data_Challeng/data-challenge-1/alldclc/'#lc/'\n",
    "direc = os.listdir(temp)"
   ]
  },
  {
   "cell_type": "code",
   "execution_count": 10,
   "metadata": {
    "collapsed": true
   },
   "outputs": [],
   "source": [
    "'''\n",
    "Defining the tophat function, a function that has a constant baseline \n",
    "except for a short interval at which it has another constant value\n",
    "# x is the time baseline\n",
    "# t0 is the time of the center of the tophat\n",
    "# tE is half of the duration of the tophat\n",
    "# am is the amplitude of the tophat\n",
    "'''\n",
    "def rect1(x,t0, tE, am):\n",
    "    '''\n",
    "    x  = time array\n",
    "    t0 = time of center of the top-hat\n",
    "    tE = half duration of the top-hat\n",
    "    am = amplitude\n",
    "    '''\n",
    "    x0 = x - t0\n",
    "    return am*np.where(np.abs(x0)<=tE, 1, 0)\n",
    "\n",
    "\n",
    "\n",
    "\n",
    "\n",
    "\n",
    "def sinusoid(x, amp, off,P):\n",
    "    '''\n",
    "    amp = amplitude\n",
    "    off = offset\n",
    "    '''\n",
    "    x0 = (x-off)\n",
    "    return amp*np.sin(x0)\n",
    "\n",
    "\n",
    "def trapezoid(x, a, b, tau1, tau2, tau3, tau4):\n",
    "    # a and c are slopes\n",
    "    #tau1 and tau2 mark the beginning and end of the flat top\n",
    "#     y = np.zeros(len(x))\n",
    "#     c = -np.abs(c)\n",
    "#     a = np.abs(a)\n",
    "#     #(tau1,tau2) = (min(tau1,tau2),max(tau1,tau2))\n",
    "#     y[:int(tau1)] = base\n",
    "#     y[int(tau1):int(tau2)] =  a*x[:int(tau1)] + b\n",
    "#     y[int(tau2):int(tau3)] =  a*tau1 + b \n",
    "#     y[int(tau2):int(tau4)] = c*(x[int(tau2):]-tau2) + (a*tau1 + b)\n",
    "#     y[int(tau4):] = base\n",
    "\n",
    "    y = np.zeros(len(x))\n",
    "    df_trap = pd.DataFrame({'x': x, 'y': y})\n",
    "    \n",
    "    c1 = np.abs((b-a)/(tau2-tau1))\n",
    "    c2 = -1 * np.abs((a-b)/(tau4-tau3))\n",
    "    \n",
    "    df_trap['y'][df_trap['x']<tau1] = a\n",
    "    df_trap['y'][(df_trap['x']>tau1) & (df_trap['x']<tau2)] =  c1*df_trap['x'][(df_trap['x']>tau1) & (df_trap['x']<tau2)] + (a- c1 * tau1)\n",
    "    df_trap['y'][(df_trap['x']>tau2) & (df_trap['x']<tau3)] =  b\n",
    "    df_trap['y'][(df_trap['x']>tau3) & (df_trap['x']<tau4)] = c2*df_trap['x'][(df_trap['x']>tau3) & (df_trap['x']<tau4)] + (a- c2 * tau4)\n",
    "    df_trap['y'][df_trap['x']>tau4] = a\n",
    "\n",
    "    return df_trap['y']\n",
    "\n",
    "# calculating the likelihood function\n",
    "\n",
    "def lnlike(theta, t, f, f_err):\n",
    "    t0, tE, amp  = theta\n",
    "    model = rect1(t,t0, tE,amp)\n",
    "    inv_sigma2 = 1.0/(f_err**2)\n",
    "    return -0.5*(np.sum((f-model)**2*inv_sigma2))\n",
    "\n",
    "\n"
   ]
  },
  {
   "cell_type": "code",
   "execution_count": 12,
   "metadata": {
    "collapsed": true
   },
   "outputs": [],
   "source": [
    "def localize_event(lightcurve,t0,tE):\n",
    "    \"\"\"Function to estimate roughly the area around the peak of an event, \n",
    "    and identify which timestamps in the array belong to the event versus\n",
    "    the baseline\n",
    "    \"\"\"\n",
    "    \n",
    "    idx1 = np.where(lightcurve >= t0-tE)[0]\n",
    "    idx2 = np.where(lightcurve <= t0+tE)[0]\n",
    "    event = list(set(idx1).intersection(set(idx2)))\n",
    "    \n",
    "    baseline = np.arange(0,len(lightcurve),1)\n",
    "    baseline = np.delete(baseline,event)\n",
    "    \n",
    "    it0 = np.where(lightcurve == t0)[0][0]\n",
    "    \n",
    "    #print min(lightcurve)\n",
    "    #print it0\n",
    "    return baseline, event, it0"
   ]
  },
  {
   "cell_type": "code",
   "execution_count": 13,
   "metadata": {
    "collapsed": true
   },
   "outputs": [],
   "source": [
    "def prepare(t,m,err):\n",
    "    \n",
    "    df = pd.DataFrame({'t': t, 'magnitude': m, 'm_err': err})\n",
    "    peaks = np.array([t[np.argmin(m)]])\n",
    "    baseline, event, it0 = localize_event(df['t'], peaks[0],50)\n",
    "    \n",
    "    base_mag = np.median(df['magnitude'][baseline])\n",
    "    df['A'] = 10 ** (0.4*(base_mag - df['magnitude']))\n",
    "    \n",
    "    interpol = interp1d(df['t'],df['A'], kind='cubic')\n",
    "    dt = np.abs(df['t'][np.argmin(np.abs(interpol(df['t'])-1.06))]-peaks[0])\n",
    "    #print dt\n",
    "    \n",
    "    if dt==0.0:\n",
    "        dt = 50\n",
    "\n",
    "\n",
    "        \n",
    "    \n",
    "    #dt = 50\n",
    "    baseline, event, it0 = localize_event(df['t'], peaks[0],dt)\n",
    "\n",
    "    while (np.abs((df['t'][event]).diff())).max() > 0.1:\n",
    "        \n",
    "        if dt>20:\n",
    "            dt = dt - 10\n",
    "            baseline, event, it0 = localize_event(df['t'], peaks[0],dt)\n",
    "        else:\n",
    "            break\n",
    "    #print dt    \n",
    "    return df, interpol,baseline, event, it0, dt\n",
    "\n",
    "\n",
    "\n"
   ]
  },
  {
   "cell_type": "code",
   "execution_count": 15,
   "metadata": {
    "collapsed": false
   },
   "outputs": [
    {
     "data": {
      "text/plain": [
       "(0, 4)"
      ]
     },
     "execution_count": 15,
     "metadata": {},
     "output_type": "execute_result"
    },
    {
     "data": {
      "image/png": "[encoded data removed]",
      "text/plain": [
       "<matplotlib.figure.Figure at 0x10be5cf50>"
      ]
     },
     "metadata": {},
     "output_type": "display_data"
    }
   ],
   "source": [
    "# example of the trapezoid function\n",
    "\n",
    "x = np.linspace(-10,10,100)\n",
    "y = trapezoid(x, 1, 3,-3,-1,0.4,3 )\n",
    "plt.plot(x,y)\n",
    "plt.xlim(-10,10)\n",
    "plt.ylim(0,4)"
   ]
  },
  {
   "cell_type": "code",
   "execution_count": 17,
   "metadata": {
    "collapsed": false
   },
   "outputs": [
    {
     "data": {
      "text/plain": [
       "(-0.5, 2.5)"
      ]
     },
     "execution_count": 17,
     "metadata": {},
     "output_type": "execute_result"
    },
    {
     "data": {
      "image/png": "[encoded data removed]",
      "text/plain": [
       "<matplotlib.figure.Figure at 0x10c05fd90>"
      ]
     },
     "metadata": {},
     "output_type": "display_data"
    }
   ],
   "source": [
    "# example of the tophat function\n",
    "\n",
    "xt = np.linspace(-1,2,100)\n",
    "yt = rect1(xt, 0.5, 0.5,2)\n",
    "plt.plot(xt,yt)\n",
    "plt.xlim(-1,2)\n",
    "plt.ylim(-0.5,2.5)"
   ]
  },
  {
   "cell_type": "code",
   "execution_count": 18,
   "metadata": {
    "collapsed": false
   },
   "outputs": [
    {
     "name": "stdout",
     "output_type": "stream",
     "text": [
      "0.5\n"
     ]
    },
    {
     "data": {
      "image/png": "[encoded data removed]",
      "text/plain": [
       "<matplotlib.figure.Figure at 0x10c14d650>"
      ]
     },
     "metadata": {},
     "output_type": "display_data"
    }
   ],
   "source": [
    "# Adding noise to the example tophat function\n",
    "\n",
    "xdata = xt\n",
    "yerror = np.random.normal(0.0, 0.2, len(yt))\n",
    "ydata = yt + yerror\n",
    "\n",
    "#ydata = low_pass_filter(ydata,10)\n",
    "\n",
    "plt.plot(xdata, ydata, 'b.')\n",
    "plt.plot(xdata[ydata>1*np.std(ydata)], ydata[ydata>1*np.std(ydata)], 'r.')\n",
    "print np.median(xdata[ydata>1*np.std(ydata)])"
   ]
  },
  {
   "cell_type": "code",
   "execution_count": 19,
   "metadata": {
    "collapsed": false
   },
   "outputs": [
    {
     "name": "stdout",
     "output_type": "stream",
     "text": [
      "0 2.3965083879974927 0.27272727272727315 0.4848484848484851 0.909090909090909 1.1212121212121209\n",
      "[-0.01978196  1.98470341 -0.01487412 -0.01164961  1.0065212   1.02036512]\n"
     ]
    },
    {
     "name": "stderr",
     "output_type": "stream",
     "text": [
      "/Users/Research/Library/Enthought/Canopy_64bit/User/lib/python2.7/site-packages/scipy/optimize/minpack.py:787: OptimizeWarning: Covariance of the parameters could not be estimated\n",
      "  category=OptimizeWarning)\n"
     ]
    },
    {
     "data": {
      "text/plain": [
       "[<matplotlib.lines.Line2D at 0x11673db50>]"
      ]
     },
     "execution_count": 19,
     "metadata": {},
     "output_type": "execute_result"
    },
    {
     "data": {
      "image/png": "[encoded data removed]",
      "text/plain": [
       "<matplotlib.figure.Figure at 0x116631e10>"
      ]
     },
     "metadata": {},
     "output_type": "display_data"
    }
   ],
   "source": [
    "# Fitting a trapezoid function\n",
    "\n",
    "t0_ini = xdata[np.argmax(ydata[ydata <np.percentile(ydata,[0,99.95] )[1]])]\n",
    "tE_ini = 0.5*(xdata[1]-xdata[0])*len(np.where(abs(ydata-np.median(ydata))>2*np.std(ydata))[0])\n",
    "am_ini = np.max(ydata[ydata <np.percentile(ydata,[0,99.95] )[1]]) \n",
    "\n",
    "a, b, tau1, tau2, tau3, tau4 = 0, am_ini, t0_ini-2*tE_ini, t0_ini-1*tE_ini, t0_ini+1*tE_ini, t0_ini+2*tE_ini\n",
    "\n",
    "print a, b, tau1, tau2, tau3, tau4\n",
    "\n",
    "\n",
    "paramt = [a, b, tau1, tau2, tau3, tau4]\n",
    "\n",
    "# optmizing\n",
    "popt, pcov = opt.curve_fit(trapezoid, xdata, ydata, p0=paramt)\n",
    "\n",
    "guess    = trapezoid(xdata, *paramt)\n",
    "solution = trapezoid(xdata, *popt)\n",
    "\n",
    "print popt \n",
    "\n",
    "plt.figure()\n",
    "plt.plot(xt, solution,'g')\n",
    "plt.plot(xt, guess,'r')\n",
    "plt.plot(xt, ydata, 'b.')"
   ]
  },
  {
   "cell_type": "code",
   "execution_count": 20,
   "metadata": {
    "collapsed": false
   },
   "outputs": [
    {
     "name": "stdout",
     "output_type": "stream",
     "text": [
      "0.5 0.5151515151515147 2.4630154281769476\n"
     ]
    },
    {
     "data": {
      "text/plain": [
       "[<matplotlib.lines.Line2D at 0x117129ad0>]"
      ]
     },
     "execution_count": 20,
     "metadata": {},
     "output_type": "execute_result"
    },
    {
     "data": {
      "image/png": "[encoded data removed]",
      "text/plain": [
       "<matplotlib.figure.Figure at 0x1163f1d50>"
      ]
     },
     "metadata": {},
     "output_type": "display_data"
    }
   ],
   "source": [
    "# give p0 [t0, tE, am]\n",
    "\n",
    "t0_ini = np.median(xdata[ydata>1*np.std(ydata)])#xdata[np.argmax(ydata)]\n",
    "tE_ini = 0.5*(xt[1]-xt[0])*len(np.where(abs(ydata-np.median(ydata))>1*np.std(ydata))[0])\n",
    "am_ini = np.max(ydata)\n",
    "\n",
    "print t0_ini,tE_ini,am_ini\n",
    "\n",
    "\n",
    "paramt = [t0_ini, tE_ini, am_ini]\n",
    "\n",
    "# optmizing\n",
    "popt, pcov = opt.curve_fit(rect1, xdata, ydata, p0=paramt)\n",
    "\n",
    "guess    = rect1(xdata, *paramt)\n",
    "solution = rect1(xdata, *popt)\n",
    "\n",
    "plt.figure()\n",
    "plt.plot(xt, solution,'g')\n",
    "plt.plot(xt, guess,'r')\n",
    "plt.plot(xt, ydata, 'b.')"
   ]
  },
  {
   "cell_type": "code",
   "execution_count": null,
   "metadata": {
    "collapsed": true
   },
   "outputs": [],
   "source": []
  }
 ],
 "metadata": {
  "kernelspec": {
   "display_name": "Python 2",
   "language": "python",
   "name": "python2"
  },
  "language_info": {
   "codemirror_mode": {
    "name": "ipython",
    "version": 2
   },
   "file_extension": ".py",
   "mimetype": "text/x-python",
   "name": "python",
   "nbconvert_exporter": "python",
   "pygments_lexer": "ipython2",
   "version": "2.7.11"
  }
 },
 "nbformat": 4,
 "nbformat_minor": 0
}
