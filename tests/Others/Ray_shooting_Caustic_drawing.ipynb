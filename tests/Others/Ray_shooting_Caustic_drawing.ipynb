{
 "cells": [
  {
   "cell_type": "code",
   "execution_count": 1,
   "metadata": {
    "collapsed": true
   },
   "outputs": [],
   "source": [
    "import glob,os,sys\n",
    "import numpy as np\n",
    "import matplotlib.pyplot as plt\n",
    "import matplotlib as mat\n",
    "from numpy import *\n",
    "import re\n",
    "import scipy.stats as st\n",
    "from os.path import expanduser\n",
    "import cmath"
   ]
  },
  {
   "cell_type": "code",
   "execution_count": 2,
   "metadata": {
    "collapsed": true
   },
   "outputs": [],
   "source": [
    "m_1 = 0.001\n",
    "m_2 = 1 - m_1\n",
    "phi = 0\n",
    "d = 0.9\n",
    "x= [i for i in arange(-2,2,0.01)]\n",
    "y= [i for i in arange(-2,2,0.01)]\n",
    "z = []\n",
    "for i in arange(len(x)):\n",
    "    for k in arange(len(y)):\n",
    "        z.append(complex(x[i],y[k]))"
   ]
  },
  {
   "cell_type": "code",
   "execution_count": 3,
   "metadata": {
    "collapsed": true
   },
   "outputs": [],
   "source": [
    "z1 = -d*np.cos(phi)+(np.sin(phi)*d*1j)\n",
    "z2 = d*np.cos(phi)-(np.sin(phi)*d*1j)"
   ]
  },
  {
   "cell_type": "code",
   "execution_count": 4,
   "metadata": {
    "collapsed": true
   },
   "outputs": [],
   "source": [
    "z_s = z - ((m_1/(np.conjugate(z)-np.conjugate(z1)))+(m_2/(np.conjugate(z)-np.conjugate(z2))))\n"
   ]
  },
  {
   "cell_type": "code",
   "execution_count": 5,
   "metadata": {
    "collapsed": false
   },
   "outputs": [
    {
     "name": "stdout",
     "output_type": "stream",
     "text": [
      "1000\n"
     ]
    }
   ],
   "source": [
    "z_s_x = z_s.real\n",
    "z_s_y = z_s.imag\n",
    "\n",
    "xedges, yedges = np.linspace(-2, 2, 1000), np.linspace(-2, 2, 1000)\n",
    "hist, xedges, yedges = np.histogram2d(z_s_y, z_s_x, (xedges, yedges))\n",
    "print len(xedges)"
   ]
  },
  {
   "cell_type": "code",
   "execution_count": null,
   "metadata": {
    "collapsed": true
   },
   "outputs": [],
   "source": [
    "X, Y = np.meshgrid(xedges, yedges)\n",
    "plt.pcolormesh(X, Y, hist)\n",
    "\n",
    "plt.show()"
   ]
  },
  {
   "cell_type": "code",
   "execution_count": null,
   "metadata": {
    "collapsed": true
   },
   "outputs": [],
   "source": []
  }
 ],
 "metadata": {
  "kernelspec": {
   "display_name": "Python 2",
   "language": "python",
   "name": "python2"
  },
  "language_info": {
   "codemirror_mode": {
    "name": "ipython",
    "version": 2
   },
   "file_extension": ".py",
   "mimetype": "text/x-python",
   "name": "python",
   "nbconvert_exporter": "python",
   "pygments_lexer": "ipython2",
   "version": "2.7.11"
  }
 },
 "nbformat": 4,
 "nbformat_minor": 0
}
