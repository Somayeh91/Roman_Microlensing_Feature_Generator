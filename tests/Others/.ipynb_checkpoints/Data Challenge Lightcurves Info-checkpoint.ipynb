{
 "cells": [
  {
   "cell_type": "markdown",
   "metadata": {},
   "source": [
    "# Data Chellenge lightcurves info "
   ]
  },
  {
   "cell_type": "code",
   "execution_count": 2,
   "metadata": {},
   "outputs": [],
   "source": [
    "import numpy as np\n",
    "import matplotlib.pyplot as plt\n",
    "\n",
    "import os\n",
    "import pandas as pd\n",
    "import random\n",
    "import scipy.optimize as opt\n",
    "%matplotlib inline"
   ]
  },
  {
   "cell_type": "code",
   "execution_count": 3,
   "metadata": {},
   "outputs": [],
   "source": [
    "home = os.path.expanduser(\"~\")"
   ]
  },
  {
   "cell_type": "code",
   "execution_count": 4,
   "metadata": {},
   "outputs": [],
   "source": [
    "# Set up te directory where all microlensing data challenge lightcurves are\n",
    "\n",
    "temp = home+'/Library/Mobile Documents/com~apple~CloudDocs/Microlensing_Data_Challeng/data-challenge-1/lc/'\n",
    "direc = os.listdir(temp)"
   ]
  },
  {
   "cell_type": "code",
   "execution_count": 5,
   "metadata": {},
   "outputs": [],
   "source": [
    "# Reading in the answer key file for data challenge\n",
    "\n",
    "answers_direc= home+'/Library/Mobile Documents/com~apple~CloudDocs/Microlensing_Data_Challeng/data-challenge-1/Answers'"
   ]
  },
  {
   "cell_type": "code",
   "execution_count": 6,
   "metadata": {},
   "outputs": [
    {
     "name": "stdout",
     "output_type": "stream",
     "text": [
      " u0        alpha       t0         tE        rE       thetaE    piE     rhos                      \n"
     ]
    }
   ],
   "source": [
    "link = answers_direc+'/master_file.txt'\n",
    "f= open(link,\"r\")\n",
    "\n",
    "print (f.readlines()[0].split('|'))[3]\n"
   ]
  },
  {
   "cell_type": "code",
   "execution_count": 7,
   "metadata": {},
   "outputs": [
    {
     "name": "stdout",
     "output_type": "stream",
     "text": [
      " 0.234453 83.4397 1767.01716721 0.0864145 0.021388 0.00232554 5.34462 0.158284 9.83452 428.766 0 \n"
     ]
    }
   ],
   "source": [
    "link = answers_direc+'/master_file.txt'\n",
    "f= open(link,\"r\")\n",
    "\n",
    "print (f.readlines()[1].split('|'))[3]\n",
    "\n"
   ]
  },
  {
   "cell_type": "code",
   "execution_count": 8,
   "metadata": {},
   "outputs": [],
   "source": [
    "# Reading in the answer key file for data challenge\n",
    "\n",
    "link = answers_direc+'/master_file.txt'\n",
    "f= open(link,\"r\")\n",
    "info = [[],[],[],[]]\n",
    "c=0\n",
    "\n",
    "for line in f.readlines():\n",
    "    \n",
    "    c=c+1 \n",
    "    \n",
    "    # saving t0\n",
    "    info[3].append(line.split('|')[3].split(' ')[3])\n",
    "    \n",
    "    # saving rho\n",
    "    info[1].append(line.split('|')[3].split(' ')[8])\n",
    "    \n",
    "    # saving tE\n",
    "    info[2].append(line.split('|')[3].split(' ')[4])\n",
    "    \n",
    "    # saving type\n",
    "    if line.split(' ')[76]=='dccv': #Cataclysmic Variables\n",
    "        info[0].append(0)\n",
    "    if line.split(' ')[78]=='ombin': #Binary-lens\n",
    "        info[0].append(1)\n",
    "    if line.split(' ')[78]=='omcassan': #Planetary-lens\n",
    "        info[0].append(2)\n",
    "    if len(line.split(' '))>92 and line.split(' ')[92]=='dcnormffp': #PSPL/FFP\n",
    "        info[0].append(3)"
   ]
  },
  {
   "cell_type": "code",
   "execution_count": 115,
   "metadata": {},
   "outputs": [
    {
     "name": "stdout",
     "output_type": "stream",
     "text": [
      "(4, 2, '0.0363199', '0.299024', '523.762571812')\n",
      "(8, 2, '0.0644367', '0.376711', '515.980855823')\n",
      "(12, 2, '0.00301356', '1.79864', '1398.10311198')\n",
      "(25, 2, '0.0176152', '1.89652', '360.865802318')\n",
      "(32, 2, '0.00369283', '1.27081', '169.991132319')\n",
      "(40, 2, '0.000601221', '45.7435', '550.660606921')\n",
      "(47, 2, '0.00231032', '12.6867', '297.958476394')\n",
      "(50, 2, '0.00646918', '0.581232', '327.187264413')\n",
      "(53, 2, '0.0108646', '64.4353', '1655.79827964')\n",
      "(62, 2, '0.00948632', '0.25349', '117.917428538')\n",
      "(66, 2, '0.000402089', '8.05587', '498.504102677')\n",
      "(69, 2, '0.00110412', '87.6558', '1375.1056391')\n",
      "(74, 2, '0.000383328', '9.06909', '1419.43301439')\n",
      "(78, 2, '0.000708479', '5.06178', '1823.45003307')\n",
      "(81, 2, '0.0133115', '16.8215', '1422.37818897')\n",
      "(92, 2, '0.000428588', '8.64191', '549.509876668')\n",
      "(95, 2, '0.00108485', '10.8', '1413.44382584')\n",
      "(99, 2, '0.026543', '0.264182', '1766.75695002')\n",
      "(100, 2, '0.0032949', '7.92005', '116.801089905')\n",
      "(103, 2, '0.000740003', '8.31178', '362.018000185')\n",
      "(107, 2, '0.0183381', '0.42664', '1586.28614545')\n",
      "(124, 2, '0.000863296', '7.88762', '533.471955657')\n",
      "(128, 2, '0.000889887', '8.3039', '1608.84249508')\n",
      "(131, 2, '0.110926', '0.0341694', '340.626997054')\n",
      "(139, 2, '0.0153852', '1.31236', '1598.33209276')\n",
      "(152, 2, '0.0102138', '4.47218', '1403.96842182')\n",
      "(163, 2, '0.0121907', '0.267566', '1422.83680379')\n",
      "(186, 2, '0.000164269', '23.2238', '484.603419006')\n",
      "(193, 2, '0.00233623', '6.52319', '488.526294976')\n",
      "(194, 2, '0.000372243', '31.2206', '163.911146298')\n",
      "(199, 2, '0.000621108', '23.8268', '1451.6163218')\n",
      "(208, 2, '0.00122543', '9.49124', '1624.75875378')\n",
      "(214, 2, '0.00217405', '22.904', '1614.51707482')\n",
      "(217, 2, '0.00938194', '2.03735', '1821.4793551')\n",
      "(218, 2, '0.00250447', '30.9822', '305.141944438')\n",
      "(223, 2, '0.00117864', '7.71946', '300.00849545')\n",
      "(226, 2, '0.00284527', '1.22718', '363.142523021')\n",
      "(227, 2, '0.000533096', '17.8099', '1724.95303452')\n",
      "(250, 2, '0.000787933', '38.5751', '476.697075516')\n",
      "(253, 2, '0.00111591', '12.9398', '1759.81003761')\n",
      "(258, 2, '0.00426786', '3.63635', '143.551741987')\n",
      "(267, 2, '0.00016618', '14.5994', '504.184642732')\n",
      "(289, 2, '0.00281794', '2.6426', '1449.51853037')\n"
     ]
    }
   ],
   "source": [
    "for counter, value in enumerate(info[0]):\n",
    "    if value == 2:\n",
    "        print(counter+1, value, info[1][counter], info[2][counter],info[3][counter])\n",
    "        "
   ]
  },
  {
   "cell_type": "code",
   "execution_count": 111,
   "metadata": {},
   "outputs": [],
   "source": [
    "# Reading in one single lightcurve\n",
    "\n",
    "f = '/ulwdc1_124_W149.txt'\n",
    "t,m,e = np.loadtxt(temp+f,unpack=True)\n",
    "\n",
    "df = pd.DataFrame({'t': t, 'magnitude': m, 'm_err': e})\n",
    "peaks = np.array([t[np.argmin(m)]])-2458000"
   ]
  },
  {
   "cell_type": "code",
   "execution_count": 113,
   "metadata": {},
   "outputs": [
    {
     "data": {
      "image/png": "[encoded data removed]",
      "text/plain": [
       "<Figure size 864x720 with 1 Axes>"
      ]
     },
     "metadata": {},
     "output_type": "display_data"
    }
   ],
   "source": [
    "# Plotting one single light curve\n",
    "dt = 50\n",
    "plt.figure(1)\n",
    "plt.plot(df['t']-2458000, df['magnitude'],'b.')\n",
    "plt.gca().invert_yaxis()\n",
    "plt.xlim(peaks[0]-dt, peaks[0]+dt)\n",
    "fig = plt.gcf()\n",
    "fig.set_size_inches(12.0,10.0)\n",
    "#fig.savefig('Non-microlensing.png')"
   ]
  },
  {
   "cell_type": "code",
   "execution_count": 23,
   "metadata": {},
   "outputs": [
    {
     "data": {
      "text/plain": [
       "2458346.505461"
      ]
     },
     "execution_count": 23,
     "metadata": {},
     "output_type": "execute_result"
    }
   ],
   "source": [
    "min(df['t'])"
   ]
  },
  {
   "cell_type": "code",
   "execution_count": null,
   "metadata": {
    "collapsed": true
   },
   "outputs": [],
   "source": [
    "# Free-floating candidates:\n",
    "# ulwdc1_089_W149.txt\n",
    "#"
   ]
  }
 ],
 "metadata": {
  "kernelspec": {
   "display_name": "Python 2",
   "language": "python",
   "name": "python2"
  },
  "language_info": {
   "codemirror_mode": {
    "name": "ipython",
    "version": 2
   },
   "file_extension": ".py",
   "mimetype": "text/x-python",
   "name": "python",
   "nbconvert_exporter": "python",
   "pygments_lexer": "ipython2",
   "version": "2.7.14"
  }
 },
 "nbformat": 4,
 "nbformat_minor": 1
}
