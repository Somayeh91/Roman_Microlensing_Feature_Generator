{
 "cells": [
  {
   "cell_type": "code",
   "execution_count": 1,
   "metadata": {
    "collapsed": true
   },
   "outputs": [],
   "source": [
    "from Common_functions import *"
   ]
  },
  {
   "cell_type": "code",
   "execution_count": 2,
   "metadata": {
    "collapsed": false
   },
   "outputs": [],
   "source": [
    "from Planetary_fits import *"
   ]
  },
  {
   "cell_type": "code",
   "execution_count": 3,
   "metadata": {
    "collapsed": true
   },
   "outputs": [],
   "source": [
    "import glob,os,sys\n",
    "import numpy as np\n",
    "import matplotlib.pyplot as plt\n",
    "import matplotlib\n",
    "from numpy import *\n",
    "import re\n",
    "from tqdm import tqdm\n",
    "import scipy.stats as st\n",
    "from os.path import expanduser\n",
    "import cmath\n",
    "import scipy.optimize as op\n",
    "import time\n",
    "import gzip\n",
    "from scipy.interpolate import interp1d\n",
    "import pandas as pd\n",
    "from scipy.interpolate import interp1d\n",
    "from mpl_toolkits.axes_grid1.inset_locator import zoomed_inset_axes\n",
    "from mpl_toolkits.axes_grid1.inset_locator import (mark_inset,inset_axes,InsetPosition) \n",
    "import traceback\n",
    "from lmfit import minimize, Parameters, Parameter, report_fit\n",
    "import math\n",
    "from sympy.solvers import solve\n",
    "from sympy import Symbol\n",
    "import sympy\n",
    "\n",
    "\n",
    "%matplotlib inline\n",
    "home = os.path.expanduser(\"~\")"
   ]
  },
  {
   "cell_type": "code",
   "execution_count": 4,
   "metadata": {
    "collapsed": true
   },
   "outputs": [],
   "source": [
    "def PSPL_data (params, t, A_data):\n",
    "    \n",
    "    t0 = params['t0'].value\n",
    "    tE = params['tE'].value\n",
    "    u0 = params['u0'].value\n",
    "    fs = params['fs'].value\n",
    "#     fb = params['fb'].value\n",
    "\n",
    "    u = np.sqrt(u0**2+((t-t0)/tE)**2)\n",
    "    A = ((u**2)+2)/(u*np.sqrt(u**2+4))\n",
    "    F = (fs * (A-1)) +1\n",
    "    return A - A_data\n",
    "\n",
    "def PSPL (t0, tE, u0,fs, t):\n",
    "    \n",
    "    u = np.sqrt(u0**2+((t-t0)/tE)**2)\n",
    "    A = ((u**2)+2)/(u*np.sqrt(u**2+4))\n",
    "    F = (fs * (A-1)) +1\n",
    "    return F\n",
    "\n",
    "\n",
    "def PSPL_Gaussian (t0,tE, u0,fs,tp, tEp,amp, t):\n",
    "#     u = np.sqrt(u0**2+((t-t0)/tE)**2)\n",
    "    F = PSPL (t0, tE, u0,fs, t) + Gaussian (tp, tEp,amp, t)\n",
    "    #= (((amp/np.sqrt(2*pi*(sigma**2)))*np.exp(-((t-mean)**2)/(2*(sigma**2)))))+((u**2)+2)/(u*np.sqrt((u**2)+4))\n",
    "    #F = (fs * (A-1)) +1\n",
    "    return F\n",
    "\n",
    "def PSPL_Gaussian_data (params, t, A_data):\n",
    "    \n",
    "    t0 = params['t0'].value\n",
    "    tE = params['tE'].value\n",
    "    u0 = params['u0'].value\n",
    "    tp = params['tp'].value\n",
    "    tEp = params['tEp'].value\n",
    "    amp = params['amp'].value\n",
    "    fs = params['fs'].value\n",
    "#     fb = params['fb'].value\n",
    "    \n",
    "    u = np.sqrt(u0**2+((t-t0)/tE)**2)\n",
    "    #A = (((amp/np.sqrt(2*pi*(tEp**2)))*np.exp(-((t-tp)**2)/(2*(tEp**2)))))+((u**2)+2)/(u*np.sqrt((u**2)+4))\n",
    "    #F = (fs * (A-1)) +1\n",
    "    F = PSPL (t0, tE, u0,fs, t) + Gaussian (tp, tEp,amp, t)\n",
    "\n",
    "    return F - A_data\n",
    "\n",
    "\n",
    "def Gaussian (tp, tEp,amp, t):\n",
    "    A = amp*np.exp(-1*((t-tp)**2)/(2*(tEp**2)))\n",
    "    #(((amp/np.sqrt(2*pi*(sigma**2)))\n",
    "#     F = (fs * (A-1)) +1\n",
    "    return A\n",
    "\n",
    "def Gaussian_data (params, t, A_data):\n",
    "    \n",
    "\n",
    "    tp = params['tp'].value\n",
    "    tEp = params['tEp'].value\n",
    "    amp = params['amp'].value\n",
    "#     fs = params['fs'].value\n",
    "#     fb = params['fb'].value\n",
    "    \n",
    "    A = amp*np.exp(-1*((t-tp)**2)/(2*(tEp**2)))\n",
    "    #(((amp/np.sqrt(2*pi*(sigma**2)))\n",
    "\n",
    "    return A- A_data"
   ]
  },
  {
   "cell_type": "code",
   "execution_count": 5,
   "metadata": {
    "collapsed": false
   },
   "outputs": [],
   "source": [
    "# def deviation_finder (t, A_residual, PSPL_params,  binsize_initial = 600, threshold_default = 3):\n",
    "    \n",
    "#     std_base = np.std(A_residual[(t > PSPL_params[0]+10*PSPL_params[1]) | (t < PSPL_params[0]-10*PSPL_params[1]) ])\n",
    "#     std_all = np.std(A_residual)\n",
    "#     percent_diff = (np.abs(std_base-std_all)/float(std_all))*100\n",
    "    \n",
    "#     if percent_diff < 50:\n",
    "#         smoothie ='yes'\n",
    "# #         print 'Smooth'\n",
    "#     else:\n",
    "#         smoothie ='no'\n",
    "# #         print 'Do not smooth'\n",
    "        \n",
    "#     b_s = binsize_initial\n",
    "    \n",
    "#     n_out, peaks = count_peaks (t, A_residual, smooth=smoothie, bin_size =b_s, threshold = threshold_default)\n",
    "\n",
    "#     n_peaks = len(peaks)\n",
    "#     temp_peaks = peaks\n",
    "# #     print n_peaks\n",
    "    \n",
    "#     c = 0\n",
    "    \n",
    "#     if (c != 2) & (percent_diff > 5):\n",
    "    \n",
    "#         while c != 2 :\n",
    "#             if b_s < 0.2:\n",
    "# #                 print 'No two peaks were found!'\n",
    "#                 break\n",
    "\n",
    "#             b_s = b_s/2.\n",
    "# #             print b_s\n",
    "#             n_out2, temp_peaks = count_peaks (t, A_residual, smooth=smoothie, bin_size =b_s, threshold = 3)\n",
    "#             c = len(temp_peaks)\n",
    "\n",
    "#     if len(temp_peaks) == 2 :\n",
    "#         if np.abs(temp_peaks[0]-temp_peaks[1])<100:\n",
    "#             peaks = temp_peaks\n",
    "#             n_peaks = len(temp_peaks)\n",
    "\n",
    "    \n",
    "# #     if (np.abs(temp_peaks[1]-temp_peaks[0]) <0.1) or (np.abs(temp_peaks[1]-temp_peaks[0]) > 10):\n",
    "# #             b_s_ = [4,3,2, 1, 0.5]\n",
    "# #             # print '<0.1 or >10'\n",
    "# #             for b in b_s_:\n",
    "                \n",
    "# #                 n_out, temp_peaks = count_peaks (t, A_residual, smooth='yes', bin_size =b, threshold = 3)\n",
    "\n",
    "# #                 if (len(temp_peaks) == 2):\n",
    "# #                     if (np.abs(temp_peaks[1]-temp_peaks[0]) >0.1) and (np.abs(temp_peaks[1]-temp_peaks[0]) < 10):\n",
    "# #                         # print '>0.1 and <10'\n",
    "# #                         peaks = temp_peaks\n",
    "# #                         n_peaks = len(temp_peaks)\n",
    "                        \n",
    "#     if (np.abs(temp_peaks[1]-temp_peaks[0]) <0.2):\n",
    "        \n",
    "#         peaks = [temp_peaks[0]]\n",
    "#         n_peaks = 1\n",
    "# #     print n_peaks\n",
    "    \n",
    "    \n",
    "#     return n_peaks, peaks"
   ]
  },
  {
   "cell_type": "code",
   "execution_count": 6,
   "metadata": {
    "collapsed": true
   },
   "outputs": [],
   "source": [
    "def tE_finder (t, A, t0, u0, dt):\n",
    "    print t0, u0, dt\n",
    "    duration = [0.01, 1, 10,100,1000]\n",
    "    temp = [[], []]\n",
    "\n",
    "    for tEp in duration:\n",
    "    #     for a in range(0,2):\n",
    "\n",
    "    #     print tEp, f_ris__[a]\n",
    "        params2 = Parameters()\n",
    "        params2.add('tp', value= t0, min=t0-1, max=t0+1)\n",
    "        params2.add('tEp', value= tEp, min=tEp/1.1, max=tEp*1.1)\n",
    "        params2.add('amp', value= max(A),  min=max(A)/1.1, max=max(A)*1.1)\n",
    "        # params.add('fs', value= 1, min=0, max=1)\n",
    "        # params.add('fb', value= 0, min=0, max=1)\n",
    "        result2 = minimize(Gaussian_data, params2, args=(t, A))\n",
    "        temp[0].append(result2.params)\n",
    "        temp[1].append(result2.chisqr)\n",
    "        print tEp\n",
    "        print result2.params\n",
    "        print result2.chisqr\n",
    "\n",
    "    tE = temp[0][np.argmin(temp[1])]['tEp'].value\n",
    "#     if tE > 3798:\n",
    "#         tE = dt\n",
    "    \n",
    "\n",
    "    return tE"
   ]
  },
  {
   "cell_type": "code",
   "execution_count": 7,
   "metadata": {
    "collapsed": true
   },
   "outputs": [],
   "source": [
    "# Set up te directory where all microlensing data challenge lightcurves are\n",
    "\n",
    "temp_dir = home+'/Library/Mobile Documents/com~apple~CloudDocs/Microlensing_Data_Challeng/data-challenge-1/alldclc/'\n",
    "direc = os.listdir(temp_dir)"
   ]
  },
  {
   "cell_type": "code",
   "execution_count": 22,
   "metadata": {
    "collapsed": false
   },
   "outputs": [
    {
     "name": "stdout",
     "output_type": "stream",
     "text": [
      "5.979964000172913\n",
      "1804.332622999791\n",
      "0.1608201067705366 1.56341200042516\n"
     ]
    },
    {
     "data": {
      "text/plain": [
       "array([ 112.505461,  112.515987,  112.526513, ..., 1825.220391,\n",
       "       1825.230917, 1825.241444])"
      ]
     },
     "execution_count": 22,
     "metadata": {},
     "output_type": "execute_result"
    }
   ],
   "source": [
    "# Reading in one single lightcurve from the small sample of data challenge light curves\n",
    "\n",
    "f = '/mag.omcassan_0_32_977.det.lc.W149' #non-binary\n",
    "\n",
    "t,m,e = np.loadtxt(temp_dir+f,unpack=True)\n",
    "\n",
    "lightcurve = np.zeros((len(t),4))\n",
    "lightcurve[:,0] = t\n",
    "lightcurve[:,1] = m\n",
    "lightcurve[:,2] = e\n",
    "peak = t[np.argmin(m)]\n",
    "\n",
    "t = t-2458234\n",
    "\n",
    "# (baseline, event, it0) = localize_event(lightcurve, peak,50)\n",
    "\n",
    "df, baseline, event, it0, dt = prepare(t,m,e)\n",
    "print dt\n",
    "\n",
    "A_max = df['A'][np.argmin(m[m>np.percentile(m, [0.0,99.4])[0]])] #np.max(df['A']) #1.0/(float(f_s_true)/(max(df['f'])-1+float(f_s_true)))\n",
    "u0_true = np.sqrt( ( (1+np.sqrt(1+16*(A_max**2)))/(2* A_max) ) - 2 )\n",
    "t0_true =  df['t'][np.argmin(m[m>np.percentile(m, [0.0,99.4])[0]])] \n",
    "print t0_true\n",
    "if u0_true <0.5 :\n",
    "    A_lim = 1.34\n",
    "else:\n",
    "    A_lim = 1.06\n",
    "interpol = interp1d(df['t'],df['A'], kind='cubic')\n",
    "dt = np.abs(df['t'][np.argmin(np.abs(interpol(df['t'])-A_lim))]-t0_true)\n",
    "tE_true = dt\n",
    "\n",
    "print u0_true, tE_true\n",
    "t"
   ]
  },
  {
   "cell_type": "code",
   "execution_count": 9,
   "metadata": {
    "collapsed": false
   },
   "outputs": [],
   "source": [
    "# name = 'cassan_0_19_2049.det.lc.gz'  \n",
    "# tempdata = '/Users/Research/Desktop/alllc1/'+str(name)\n",
    "# #'data/WFIRST_simulated/Multi_caustic_crossing/'+str(name)\n",
    "\n",
    "# t,f,f_err,f_true,code = np.loadtxt(tempdata,usecols=(0,1,2,3,5),unpack=True)\n",
    "# df = pd.DataFrame({'t':t , 'A':f , 'A_err' : f_err , 'A_true': f_true, 'code':code})\n",
    "# df = df[df['code']==0]\n",
    "\n",
    "# A_max = df['A'][ np.argmax( df['A'][df['A'] < np.percentile( df['A'], [0.0,100] )[1]])] \n",
    "# u0_true = np.sqrt( ( ( 1 + np.sqrt( 1 + 16 *( A_max ** 2 )))/( 2 * A_max ) ) - 2 )\n",
    "# t0_true =  df['t'][np.argmax( df['A'][df['A'] < np.percentile( df['A'], [0.0,100] )[1]])] \n",
    "# print t0_true\n",
    "# if u0_true <0.5 :\n",
    "#     A_lim = 1.34\n",
    "# else:\n",
    "#     A_lim = 1.06\n",
    "# interpol = interp1d(df['t'],df['A'], kind='cubic')\n",
    "# dt = np.abs(df['t'][np.argmin(np.abs(interpol(df['t'])-A_lim))]-t0_true)\n",
    "# tE_true = dt\n",
    "\n",
    "# print u0_true, tE_true"
   ]
  },
  {
   "cell_type": "code",
   "execution_count": 10,
   "metadata": {
    "collapsed": false
   },
   "outputs": [],
   "source": [
    "# name = 'cassan_30_6_1468.det.lc.gz'  \n",
    "# tempdata = '/Users/Research/Desktop/alllc1/'+str(name)\n",
    "# #'data/WFIRST_simulated/Multi_caustic_crossing/'+str(name)\n",
    "\n",
    "# t,f,f_err,f_true,code = np.loadtxt(tempdata,usecols=(0,1,2,3,5),unpack=True)\n",
    "# df = pd.DataFrame({'t':t , 'A':f , 'A_err' : f_err , 'A_true': f_true, 'code':code})\n",
    "# df = df[df['code']==0]\n",
    "\n",
    "\n",
    "# A_max = df['A'][np.argmax(df['A'][df['A']<np.percentile(df['A'], [0.0,100])[1]])] #np.max(df['A']) #1.0/(float(f_s_true)/(max(df['f'])-1+float(f_s_true)))\n",
    "# u0_true = np.sqrt( ( (1+np.sqrt(1+16*(A_max**2)))/(2* A_max) ) - 2 )\n",
    "# t0_true =  df['t'][np.argmax(df['A'][df['A']<np.percentile(df['A'], [0.0,100])[1]])] #it0 #t[A.argmax()] #float(t0_theo)\n",
    "# print t0_true\n",
    "# if u0_true <0.5 :\n",
    "#     A_lim = 1.34\n",
    "# else:\n",
    "#     A_lim = 1.06\n",
    "# interpol = interp1d(df['t'],df['A'], kind='cubic')\n",
    "# dt = np.abs(df['t'][np.argmin(np.abs(interpol(df['t'])-A_lim))]-t0_true)\n",
    "# tE_true = dt\n",
    "# print u0_true\n"
   ]
  },
  {
   "cell_type": "code",
   "execution_count": 23,
   "metadata": {
    "collapsed": false
   },
   "outputs": [
    {
     "name": "stdout",
     "output_type": "stream",
     "text": [
      "37367475.709327996 39117.773618877996 442.3174871748663 [1804.332622999791, 1.56341200042516, 0.1608201067705366]\n"
     ]
    }
   ],
   "source": [
    "print sum(df['t']), sum(df['A']), sum(df['A_err']), [t0_true,tE_true, u0_true]\n",
    "tE_ = [[],[]]\n",
    "nll = lambda *args: -lnlike(*args)\n",
    "res_scipy = op.minimize(nll, [t0_true,tE_true, u0_true, 0.5], args=(df['t'],df['A'], df['A_err']),method = 'Nelder-Mead')\n",
    "t0_ml, tE_ml, u0_ml,fs_ml = res_scipy['x']\n",
    "tE_[0].append(lnlike([t0_ml, tE_ml, u0_ml,fs_ml],df['t'],df['A'], df['A_err']))\n",
    "tE_[1].append([t0_ml, tE_ml, u0_ml,fs_ml])\n",
    "        \n",
    "#print tE_[1]\n",
    "mm = np.asarray(tE_[0]) #tE_[0])\n",
    "params = tE_[1][0] #[mm.argmax()]"
   ]
  },
  {
   "cell_type": "code",
   "execution_count": 24,
   "metadata": {
    "collapsed": false
   },
   "outputs": [
    {
     "data": {
      "text/plain": [
       "1804.3694409130649"
      ]
     },
     "execution_count": 24,
     "metadata": {},
     "output_type": "execute_result"
    }
   ],
   "source": [
    "params[0]#-2458234"
   ]
  },
  {
   "cell_type": "code",
   "execution_count": 25,
   "metadata": {
    "collapsed": false
   },
   "outputs": [
    {
     "data": {
      "image/png": "[encoded data removed]",
      "text/plain": [
       "<matplotlib.figure.Figure at 0x119761c50>"
      ]
     },
     "metadata": {},
     "output_type": "display_data"
    }
   ],
   "source": [
    "dtt = 50\n",
    "\n",
    "plt.plot(df['t'],df['A'],'.',color='gray', markersize=20, label='Lightcurve Data')\n",
    "# plt.plot(df['t']-2458234,PSPL(result1[0].value,result1[1].value,result1[2].value,\n",
    "#                       result1[3].value, df['t']),'r.', Label='Chebyshev Approximation')\n",
    "plt.plot(df['t'],PSPL(params[0],params[1],params[2],params[3], df['t']),'g.', Label='PSPL Fit')\n",
    "# plt.plot(df['t']-2458234, Gaussian(2459559.085540818, 1338.1274574555948, 1.307063624033818, df['t']), 'r.')\n",
    "plt.ylabel('Magnification', size=25)\n",
    "plt.xlabel('Time - 2458234', size=25)\n",
    "#plt.title('Chebyshev approximation of a Binary-lens Microlensing Lightcurve',size=25)\n",
    "plt.xlim(t0_true-dtt, t0_true+dtt)\n",
    "plt.legend(loc=2,fontsize=20)\n",
    "\n",
    "plt.xticks(fontsize=20)\n",
    "plt.yticks(fontsize=20)\n",
    "\n",
    "# print result.params\n",
    "\n",
    "fig = plt.gcf()\n",
    "fig.set_size_inches(15.0,12.0)\n",
    "# plt.savefig('Chebyshevfit_success.png')"
   ]
  },
  {
   "cell_type": "code",
   "execution_count": 26,
   "metadata": {
    "collapsed": false
   },
   "outputs": [],
   "source": [
    "df['A_residual'] = df['A'] - PSPL(params[0],params[1],params[2],params[3], df['t'])"
   ]
  },
  {
   "cell_type": "code",
   "execution_count": 27,
   "metadata": {
    "collapsed": false
   },
   "outputs": [
    {
     "data": {
      "text/plain": [
       "(1754.3694409130649, 1854.3694409130649)"
      ]
     },
     "execution_count": 27,
     "metadata": {},
     "output_type": "execute_result"
    },
    {
     "data": {
      "image/png": "[encoded data removed]",
      "text/plain": [
       "<matplotlib.figure.Figure at 0x11976c8d0>"
      ]
     },
     "metadata": {},
     "output_type": "display_data"
    }
   ],
   "source": [
    "dtt = 50\n",
    "\n",
    "plt.plot(df['t'], df['A_residual'] ,'.',color='gray', markersize=10)\n",
    "\n",
    "plt.xlim(params[0]-dtt, params[0]+dtt)\n",
    "\n"
   ]
  },
  {
   "cell_type": "code",
   "execution_count": 28,
   "metadata": {
    "collapsed": false
   },
   "outputs": [
    {
     "name": "stdout",
     "output_type": "stream",
     "text": [
      "1\n"
     ]
    }
   ],
   "source": [
    "b_s = 700\n",
    "n_out, peaks = count_peaks (df['t'], df['A_residual'], smooth='yes', bin_size =b_s, threshold = 3)\n",
    "\n",
    "n_peaks = len(peaks)\n",
    "print n_peaks"
   ]
  },
  {
   "cell_type": "code",
   "execution_count": 29,
   "metadata": {
    "collapsed": false
   },
   "outputs": [
    {
     "name": "stdout",
     "output_type": "stream",
     "text": [
      "350.0\n",
      "175.0\n",
      "87.5\n",
      "43.75\n",
      "21.875\n",
      "10.9375\n",
      "5.46875\n",
      "2.734375\n",
      "1.3671875\n",
      "0.68359375\n",
      "2\n"
     ]
    }
   ],
   "source": [
    "if n_peaks != 2:\n",
    "    \n",
    "    while n_peaks != 2 :\n",
    "        if b_s<0.5:\n",
    "            print 'No two peaks were found!'\n",
    "            break\n",
    "        \n",
    "        b_s = b_s/2.\n",
    "        print b_s\n",
    "        n_out, peaks = count_peaks (df['t'], df['A_residual'], smooth='yes', bin_size =b_s, threshold = 3)\n",
    "\n",
    "        n_peaks = len(peaks)\n",
    "print n_peaks"
   ]
  },
  {
   "cell_type": "code",
   "execution_count": 31,
   "metadata": {
    "collapsed": false
   },
   "outputs": [],
   "source": [
    "n_peaks, peaks = deviation_finder (df['t'], df['A_residual'] , params)"
   ]
  },
  {
   "cell_type": "code",
   "execution_count": 19,
   "metadata": {
    "collapsed": false
   },
   "outputs": [],
   "source": [
    "# if np.abs(peaks[1]-peaks[0]) >10:\n",
    "#     n_out, peaks = count_peaks (df['t'], df['A_residual'], smooth='yes', bin_size =2, threshold = 3)"
   ]
  },
  {
   "cell_type": "code",
   "execution_count": 32,
   "metadata": {
    "collapsed": false
   },
   "outputs": [
    {
     "data": {
      "text/plain": [
       "0.24210699973627925"
      ]
     },
     "execution_count": 32,
     "metadata": {},
     "output_type": "execute_result"
    }
   ],
   "source": [
    "np.abs(peaks[0]-peaks[1])"
   ]
  },
  {
   "cell_type": "code",
   "execution_count": 33,
   "metadata": {
    "collapsed": false
   },
   "outputs": [
    {
     "data": {
      "text/plain": [
       "(-2456430.909484, -2456428.909484)"
      ]
     },
     "execution_count": 33,
     "metadata": {},
     "output_type": "execute_result"
    },
    {
     "data": {
      "image/png": "[encoded data removed]",
      "text/plain": [
       "<matplotlib.figure.Figure at 0x1191abc10>"
      ]
     },
     "metadata": {},
     "output_type": "display_data"
    }
   ],
   "source": [
    "dtt = 1\n",
    "\n",
    "\n",
    "\n",
    "plt.plot(df['t']-2458234, df['A_residual'] ,'.',color='gray', markersize=10)\n",
    "for peak in peaks:\n",
    "    plt.axvline(peak-2458234)\n",
    "plt.xlim(peaks[0]-2458234-dtt, peaks[0]-2458234+dtt)\n",
    "\n"
   ]
  },
  {
   "cell_type": "code",
   "execution_count": 211,
   "metadata": {
    "collapsed": false
   },
   "outputs": [
    {
     "name": "stdout",
     "output_type": "stream",
     "text": [
      "-3.447512544575204\n"
     ]
    }
   ],
   "source": [
    "print params[0]-peak"
   ]
  },
  {
   "cell_type": "code",
   "execution_count": 264,
   "metadata": {
    "collapsed": false
   },
   "outputs": [],
   "source": [
    "std_base = np.std(df['A_residual'][(df.t > params[0]+10*params[1]) | (df.t < params[0]-10*params[1]) ])"
   ]
  },
  {
   "cell_type": "code",
   "execution_count": 265,
   "metadata": {
    "collapsed": false
   },
   "outputs": [],
   "source": [
    "std_all = np.std(df['A_residual'])"
   ]
  },
  {
   "cell_type": "code",
   "execution_count": 266,
   "metadata": {
    "collapsed": false
   },
   "outputs": [
    {
     "data": {
      "text/plain": [
       "10.65020381740833"
      ]
     },
     "execution_count": 266,
     "metadata": {},
     "output_type": "execute_result"
    }
   ],
   "source": [
    "(np.abs(std_base-std_all)/float(std_all))*100"
   ]
  },
  {
   "cell_type": "code",
   "execution_count": 64,
   "metadata": {
    "collapsed": false
   },
   "outputs": [
    {
     "data": {
      "text/plain": [
       "0.03475395225342216"
      ]
     },
     "execution_count": 64,
     "metadata": {},
     "output_type": "execute_result"
    }
   ],
   "source": [
    "params[2]"
   ]
  },
  {
   "cell_type": "code",
   "execution_count": 267,
   "metadata": {
    "collapsed": false
   },
   "outputs": [
    {
     "data": {
      "text/plain": [
       "(4.59409504579627, 6.258929386460773e-05)"
      ]
     },
     "execution_count": 267,
     "metadata": {},
     "output_type": "execute_result"
    }
   ],
   "source": [
    "calculate_s_q_double(params[0], params[1], params[2], peaks)"
   ]
  },
  {
   "cell_type": "code",
   "execution_count": 269,
   "metadata": {
    "collapsed": false
   },
   "outputs": [
    {
     "name": "stdout",
     "output_type": "stream",
     "text": [
      "[1456.1978110000491, 1456.2504429998808]\n",
      "-0.00036423181088144133\n",
      "4.59409504579627\n",
      "6.258929386460773e-05\n"
     ]
    }
   ],
   "source": [
    "t0, tE, u0 = params[0], params[1], params[2]\n",
    "print peaks\n",
    "\n",
    "u1 = np.sqrt( ((peaks[0]-t0)/tE)**2 + (u0)**2 )\n",
    "u2 = np.sqrt( ((peaks[1]-t0)/tE)**2 + (u0)**2 )\n",
    "\n",
    "s0s1 = np.sqrt( (u1)**2 - (u0)**2 )\n",
    "s0s2 = np.sqrt( (u2)**2 - (u0)**2 )\n",
    "s1s2 = s0s1 - s0s2\n",
    "xs1 = (s1s2 * s0s1) / u1\n",
    "print xs1\n",
    "Lx = u1 - xs1\n",
    "\n",
    "\n",
    "s0 = Symbol('s0')\n",
    "s_final = (solve(s0-(1/s0)-Lx, s0))[1]\n",
    "\n",
    "print s_final\n",
    "\n",
    "if (xs1<0) or (xs1 > (2./(float(s_final)*np.sqrt(float(s_final)**2 -1)))):\n",
    "\n",
    "\n",
    "    q_final\t = ((peaks[1]-peaks[0])/tE)**2\n",
    "\n",
    "else:\n",
    "\n",
    "\n",
    "    q_final = ( xs1*float(s_final)*np.sqrt(float(s_final**2 -1))/2. )**2\n",
    "print q_final"
   ]
  },
  {
   "cell_type": "code",
   "execution_count": null,
   "metadata": {
    "collapsed": true
   },
   "outputs": [],
   "source": []
  }
 ],
 "metadata": {
  "kernelspec": {
   "display_name": "Python 2",
   "language": "python",
   "name": "python2"
  },
  "language_info": {
   "codemirror_mode": {
    "name": "ipython",
    "version": 2
   },
   "file_extension": ".py",
   "mimetype": "text/x-python",
   "name": "python",
   "nbconvert_exporter": "python",
   "pygments_lexer": "ipython2",
   "version": "2.7.11"
  }
 },
 "nbformat": 4,
 "nbformat_minor": 0
}
