{
 "cells": [
  {
   "cell_type": "markdown",
   "metadata": {},
   "source": [
    "# Data Chellenge lightcurves info "
   ]
  },
  {
   "cell_type": "code",
   "execution_count": 2,
   "metadata": {},
   "outputs": [],
   "source": [
    "import numpy as np\n",
    "import matplotlib.pyplot as plt\n",
    "\n",
    "import os\n",
    "import pandas as pd\n",
    "import random\n",
    "import scipy.optimize as opt\n",
    "from scipy.interpolate import interp1d\n",
    "from Common_functions import *\n",
    "\n",
    "%matplotlib inline"
   ]
  },
  {
   "cell_type": "code",
   "execution_count": 3,
   "metadata": {
    "collapsed": true
   },
   "outputs": [],
   "source": [
    "def fun (t,t0,u0,tE,base):\n",
    "    u = np.sqrt(u0**2+((t-t0)/tE)**2)\n",
    "    A = ((u**2)+2)/(u*np.sqrt(u**2+4))\n",
    "    return base- 2.5*np.log10(A)"
   ]
  },
  {
   "cell_type": "code",
   "execution_count": 4,
   "metadata": {
    "collapsed": true
   },
   "outputs": [],
   "source": [
    "home = os.path.expanduser(\"~\")"
   ]
  },
  {
   "cell_type": "code",
   "execution_count": 5,
   "metadata": {
    "collapsed": true
   },
   "outputs": [],
   "source": [
    "def smooth(y, box_pts):\n",
    "    box = np.ones(box_pts)/box_pts\n",
    "    y_smooth = np.convolve(y, box, mode='same')\n",
    "    return y_smooth"
   ]
  },
  {
   "cell_type": "code",
   "execution_count": 27,
   "metadata": {
    "collapsed": true
   },
   "outputs": [],
   "source": [
    "# Set up te directory where all microlensing data challenge lightcurves are\n",
    "\n",
    "temp = home+'/Library/Mobile Documents/com~apple~CloudDocs/Microlensing_Data_Challeng/data-challenge-1/lc/'\n",
    "direc = os.listdir(temp)"
   ]
  },
  {
   "cell_type": "code",
   "execution_count": 28,
   "metadata": {
    "collapsed": true
   },
   "outputs": [],
   "source": [
    "# Reading in the answer key file for data challenge\n",
    "\n",
    "answers_direc= home+'/Library/Mobile Documents/com~apple~CloudDocs/Microlensing_Data_Challeng/data-challenge-1/Answers'"
   ]
  },
  {
   "cell_type": "code",
   "execution_count": 29,
   "metadata": {},
   "outputs": [
    {
     "name": "stdout",
     "output_type": "stream",
     "text": [
      "DL\n"
     ]
    }
   ],
   "source": [
    "link = answers_direc+'/master_file.txt'\n",
    "f= open(link,\"r\")\n",
    "\n",
    "print (f.readlines()[0].split(' ')[78])\n",
    "#print (f.readlines()[1].split(' '))[78]"
   ]
  },
  {
   "cell_type": "code",
   "execution_count": 9,
   "metadata": {},
   "outputs": [
    {
     "ename": "IndexError",
     "evalue": "string index out of range",
     "output_type": "error",
     "traceback": [
      "\u001b[0;31m---------------------------------------------------------------------------\u001b[0m",
      "\u001b[0;31mIndexError\u001b[0m                                Traceback (most recent call last)",
      "\u001b[0;32m<ipython-input-9-db34ab2a7c8e>\u001b[0m in \u001b[0;36m<module>\u001b[0;34m()\u001b[0m\n\u001b[0;32m----> 1\u001b[0;31m \u001b[0;34m(\u001b[0m\u001b[0;34m' '\u001b[0m\u001b[0;34m)\u001b[0m\u001b[0;34m[\u001b[0m\u001b[0;36m76\u001b[0m\u001b[0;34m]\u001b[0m\u001b[0;34m\u001b[0m\u001b[0m\n\u001b[0m",
      "\u001b[0;31mIndexError\u001b[0m: string index out of range"
     ]
    }
   ],
   "source": [
    "(' ')[76]"
   ]
  },
  {
   "cell_type": "code",
   "execution_count": 13,
   "metadata": {},
   "outputs": [
    {
     "name": "stdout",
     "output_type": "stream",
     "text": [
      "0.337147\n"
     ]
    }
   ],
   "source": [
    "link = answers_direc+'/master_file.txt'\n",
    "f= open(link,\"r\")\n",
    "\n",
    "#print (f.readlines()[1].split('|'))[3]\n",
    "print ((f.readlines()[1].split('|'))[8].split(' ')[2])\n"
   ]
  },
  {
   "cell_type": "code",
   "execution_count": 51,
   "metadata": {},
   "outputs": [],
   "source": [
    "# Reading in the answer key file for data challenge\n",
    "\n",
    "link = answers_direc+'/master_file.txt'\n",
    "f= open(link,\"r\")\n",
    "info = [[],[],[],[],[],[], [], [], [], []]\n",
    "c=0\n",
    "\n",
    "for line in f.readlines():\n",
    "    \n",
    "     \n",
    "    c=c+1\n",
    "    \n",
    "    \n",
    "    # saving type\n",
    "    if line.split(' ')[76]=='dccv': #Cataclysmic Variables\n",
    "        info[0].append(0)\n",
    "    elif line.split(' ')[78]=='ombin': #Binary-lens\n",
    "        info[0].append(1)\n",
    "    elif line.split(' ')[78]=='omcassan': #Planetary-lens\n",
    "        info[0].append(2)\n",
    "    elif len(line.split(' '))>92 and line.split(' ')[92]=='dcnormffp': #PSPL/FFP\n",
    "        info[0].append(3)\n",
    "    else:\n",
    "        info[0].append('')\n",
    "        \n",
    "    # saving rho\n",
    "    info[1].append(line.split('|')[3].split(' ')[8])\n",
    "    \n",
    "    # saving tE\n",
    "    info[2].append(line.split('|')[3].split(' ')[4])\n",
    "    \n",
    "    # saving t0\n",
    "    info[3].append(line.split('|')[3].split(' ')[3])\n",
    "    \n",
    "    #saving index\n",
    "    info[4].append(c)\n",
    "    \n",
    "    # saving u0\n",
    "    info[5].append(line.split('|')[3].split(' ')[1])\n",
    "    \n",
    "    #saving q\n",
    "    info[6].append(line.split('|')[4].split(' ')[5])\n",
    "    \n",
    "    #saving s\n",
    "    info[7].append(line.split('|')[4].split(' ')[6])\n",
    "    \n",
    "    #saving mL\n",
    "    info[8].append(line.split('|')[4].split(' ')[3])\n",
    "    \n",
    "    #saving mp\n",
    "    info[9].append(line.split('|')[4].split(' ')[1])\n",
    "    "
   ]
  },
  {
   "cell_type": "code",
   "execution_count": 52,
   "metadata": {},
   "outputs": [],
   "source": [
    "name = []\n",
    "for counter, value in enumerate(info[0]):\n",
    "\n",
    "    if counter<10:\n",
    "        name.append('ulwdc1_00'+str(counter)+'_W149.txt')\n",
    "    elif (counter>9) & (counter<100):\n",
    "        name.append('ulwdc1_0'+str(counter)+'_W149.txt')\n",
    "    else:\n",
    "        name.append('ulwdc1_'+str(counter)+'_W149.txt')\n",
    "    "
   ]
  },
  {
   "cell_type": "code",
   "execution_count": 53,
   "metadata": {},
   "outputs": [],
   "source": [
    "df = pd.DataFrame({'name': name, 't0':info[3], 'rho': info[1], 'tE': info[2], 'type':info[0], 'index':info[4], 'u0': info[5], 'q':info[6], 's':info[7]})"
   ]
  },
  {
   "cell_type": "code",
   "execution_count": 54,
   "metadata": {},
   "outputs": [],
   "source": [
    "# df.to_csv('small_dataset_info.csv')"
   ]
  },
  {
   "cell_type": "code",
   "execution_count": 55,
   "metadata": {},
   "outputs": [
    {
     "data": {
      "text/html": [
       "<div>\n",
       "<style>\n",
       "    .dataframe thead tr:only-child th {\n",
       "        text-align: right;\n",
       "    }\n",
       "\n",
       "    .dataframe thead th {\n",
       "        text-align: left;\n",
       "    }\n",
       "\n",
       "    .dataframe tbody tr th {\n",
       "        vertical-align: top;\n",
       "    }\n",
       "</style>\n",
       "<table border=\"1\" class=\"dataframe\">\n",
       "  <thead>\n",
       "    <tr style=\"text-align: right;\">\n",
       "      <th></th>\n",
       "      <th>index</th>\n",
       "      <th>name</th>\n",
       "      <th>q</th>\n",
       "      <th>rho</th>\n",
       "      <th>s</th>\n",
       "      <th>t0</th>\n",
       "      <th>tE</th>\n",
       "      <th>type</th>\n",
       "      <th>u0</th>\n",
       "    </tr>\n",
       "  </thead>\n",
       "  <tbody>\n",
       "    <tr>\n",
       "      <th>1</th>\n",
       "      <td>2</td>\n",
       "      <td>ulwdc1_001_W149.txt</td>\n",
       "      <td>0.000267075</td>\n",
       "      <td>0.158284</td>\n",
       "      <td>45.5602</td>\n",
       "      <td>1767.01716721</td>\n",
       "      <td>0.0864145</td>\n",
       "      <td>0</td>\n",
       "      <td>0.234453</td>\n",
       "    </tr>\n",
       "  </tbody>\n",
       "</table>\n",
       "</div>"
      ],
      "text/plain": [
       "   index                 name            q       rho        s             t0  \\\n",
       "1      2  ulwdc1_001_W149.txt  0.000267075  0.158284  45.5602  1767.01716721   \n",
       "\n",
       "          tE type        u0  \n",
       "1  0.0864145    0  0.234453  "
      ]
     },
     "execution_count": 55,
     "metadata": {},
     "output_type": "execute_result"
    }
   ],
   "source": [
    "df[df.index==1]"
   ]
  },
  {
   "cell_type": "code",
   "execution_count": 57,
   "metadata": {},
   "outputs": [
    {
     "name": "stdout",
     "output_type": "stream",
     "text": [
      "1 ulwdc1_001_W149.txt 0 0.158284 0.0864145 1767.01716721 0.234453\n",
      "3 ulwdc1_003_W149.txt 0 0.0363199 0.299024 523.762571812 -0.530593\n",
      "7 ulwdc1_007_W149.txt 0 0.0644367 0.376711 515.980855823 -0.632731\n",
      "10 ulwdc1_010_W149.txt 0 0.0161338 0.340629 501.317970604 -0.801512\n",
      "11 ulwdc1_011_W149.txt 0 0.00301356 1.79864 1398.10311198 0.255116\n",
      "13 ulwdc1_013_W149.txt 0 0.00236214 1.71325 1636.31613493 -0.0761741\n",
      "15 ulwdc1_015_W149.txt 0 0.0491172 0.494798 1640.10701537 -0.355046\n",
      "16 ulwdc1_016_W149.txt 0 0.00303882 6.14771 546.427345276 -0.654962\n",
      "19 ulwdc1_019_W149.txt 0 0.0120158 0.273079 165.386803597 -0.033205\n",
      "23 ulwdc1_023_W149.txt 0 0.0116641 0.232372 1397.31838703 -0.271711\n",
      "24 ulwdc1_024_W149.txt 0 0.0176152 1.89652 360.865802318 -0.64254\n",
      "26 ulwdc1_026_W149.txt 0 0.00323606 1.56653 1421.89729035 0.624132\n",
      "30 ulwdc1_030_W149.txt 0 0.0602295 0.217997 1452.42788315 -0.429354\n",
      "34 ulwdc1_034_W149.txt 0 0.166489 0.125473 1768.39684546 -0.965848\n",
      "35 ulwdc1_035_W149.txt 0 0.00706149 0.70726 1621.63710594 -0.651325\n",
      "36 ulwdc1_036_W149.txt 0 0.208302 0.107568 1775.43612778 0.139412\n",
      "37 ulwdc1_037_W149.txt 0 0.00569847 1.67535 1608.00134182 0.895535\n",
      "44 ulwdc1_044_W149.txt 0 0.0123196 0.993312 535.313124061 -0.758043\n",
      "48 ulwdc1_048_W149.txt 0 0.000485844 12.622 1627.63132632 -0.826626\n",
      "49 ulwdc1_049_W149.txt 0 0.00646918 0.581232 327.187264413 -0.236897\n",
      "51 ulwdc1_051_W149.txt 0 0.00125513 7.72688 164.495976046 0.237385\n",
      "55 ulwdc1_055_W149.txt 0 0.0193264 0.790004 1771.07737005 -0.367363\n",
      "61 ulwdc1_061_W149.txt 0 0.00948632 0.25349 117.917428538 0.792938\n",
      "64 ulwdc1_064_W149.txt 0 0.0211161 2.23157 520.715203285 0.529586\n",
      "75 ulwdc1_075_W149.txt 0 0.124891 0.122356 1390.59850574 -0.341223\n",
      "82 ulwdc1_082_W149.txt 0 0.0684099 0.555388 165.559473038 0.675999\n",
      "83 ulwdc1_083_W149.txt 0 0.0147572 13.6769 1753.29310656 -0.988535\n",
      "86 ulwdc1_086_W149.txt 0 0.000730158 5.05983 334.592881501 -0.694452\n",
      "88 ulwdc1_088_W149.txt 0 0.19817 0.072249 1390.45869291 0.834904\n",
      "90 ulwdc1_090_W149.txt 0 0.00117229 18.4557 1418.85423481 0.534348\n",
      "96 ulwdc1_096_W149.txt 0 0.00232847 1.29459 1778.74299467 -0.0351712\n",
      "98 ulwdc1_098_W149.txt 0 0.026543 0.264182 1766.75695002 0.0610435\n",
      "106 ulwdc1_106_W149.txt 0 0.0183381 0.42664 1586.28614545 -0.439036\n",
      "109 ulwdc1_109_W149.txt 0 0.318313 0.0178673 1409.41477239 -0.215786\n",
      "110 ulwdc1_110_W149.txt 0 0.0637375 0.811679 1416.67809069 0.0358589\n",
      "112 ulwdc1_112_W149.txt 0 0.0162623 1.28834 1814.08556879 0.176694\n",
      "122 ulwdc1_122_W149.txt 0 0.538378 0.0282973 1771.54077709 -0.913384\n",
      "126 ulwdc1_126_W149.txt 0 0.00519407 5.39012 533.94195199 -0.948891\n",
      "129 ulwdc1_129_W149.txt 0 0.044962 0.514472 1640.66758454 -0.312192\n",
      "130 ulwdc1_130_W149.txt 0 0.110926 0.0341694 340.626997054 -0.361763\n",
      "132 ulwdc1_132_W149.txt 0 0.00709155 0.433842 1771.87455475 0.818153\n",
      "134 ulwdc1_134_W149.txt 0 0.0420051 0.361944 298.26149404 0.0481466\n",
      "135 ulwdc1_135_W149.txt 0 0.0241444 0.188234 293.210980296 -0.997259\n",
      "137 ulwdc1_137_W149.txt 0 0.0219796 0.504796 1388.31837058 -0.0170217\n",
      "138 ulwdc1_138_W149.txt 0 0.0153852 1.31236 1598.33209276 -0.298163\n",
      "141 ulwdc1_141_W149.txt 0 0.445561 0.569282 1596.92186415 -0.694108\n",
      "145 ulwdc1_145_W149.txt 0 0.00497284 11.5471 1621.95854366 0.958546\n",
      "155 ulwdc1_155_W149.txt 0 0.0429807 0.481615 1391.63925469 0.199288\n",
      "161 ulwdc1_161_W149.txt 0 0.119603 0.199336 520.748329461 0.628092\n",
      "164 ulwdc1_164_W149.txt 0 0.00234005 4.98431 1810.37795305 -0.467993\n",
      "165 ulwdc1_165_W149.txt 0 0.0958395 0.204945 1820.07583559 -0.35592\n",
      "173 ulwdc1_173_W149.txt 0 0.00437996 2.23885 182.527637556 0.283561\n",
      "176 ulwdc1_176_W149.txt 0 0.0559824 0.368591 513.782068491 0.273612\n",
      "177 ulwdc1_177_W149.txt 0 0.00850365 1.29324 1759.24287915 -0.238022\n",
      "178 ulwdc1_178_W149.txt 0 0.0415084 0.061467 119.595429562 0.718069\n",
      "180 ulwdc1_180_W149.txt 0 0.0118723 1.64201 1595.28412521 -0.563287\n",
      "183 ulwdc1_183_W149.txt 0 0.00104255 59.7942 162.797930092 0.23746\n",
      "187 ulwdc1_187_W149.txt 0 1.50022 0.270515 496.159302592 0.125421\n",
      "195 ulwdc1_195_W149.txt 0 0.00164015 6.92497 1600.84105611 0.280234\n",
      "196 ulwdc1_196_W149.txt 0 0.0706238 0.216773 146.481356844 -0.524748\n",
      "197 ulwdc1_197_W149.txt 0 0.0123674 1.28885 1766.24705851 -0.84742\n",
      "200 ulwdc1_200_W149.txt 0 0.00383728 2.89525 1808.92040133 0.589712\n",
      "201 ulwdc1_201_W149.txt 0 0.0167485 0.621949 545.083428919 -0.428165\n",
      "202 ulwdc1_202_W149.txt 0 0.177341 0.0332914 1410.16990542 0.642659\n",
      "203 ulwdc1_203_W149.txt 0 0.428668 0.281396 311.317340434 0.49772\n",
      "206 ulwdc1_206_W149.txt 0 0.000417928 7.85877 540.722694397 0.538378\n",
      "209 ulwdc1_209_W149.txt 0 0.0131492 1.93682 533.439548314 -0.657066\n",
      "212 ulwdc1_212_W149.txt 0 0.0016536 22.7625 120.201711953 -0.49815\n",
      "215 ulwdc1_215_W149.txt 0 0.696229 0.0646574 306.071034819 -0.358685\n",
      "216 ulwdc1_216_W149.txt 0 0.00938194 2.03735 1821.4793551 -0.728711\n",
      "219 ulwdc1_219_W149.txt 0 0.0637047 0.116676 119.45819255 0.110269\n",
      "220 ulwdc1_220_W149.txt 0 0.0374076 0.177516 1815.91511607 0.572385\n",
      "224 ulwdc1_224_W149.txt 0 0.00417855 2.90188 1758.82799327 0.331692\n",
      "225 ulwdc1_225_W149.txt 0 0.00284527 1.22718 363.142523021 0.627565\n",
      "229 ulwdc1_229_W149.txt 0 0.0943465 0.055614 363.373028487 -0.868989\n",
      "230 ulwdc1_230_W149.txt 0 0.0163185 0.486727 334.859118909 0.852412\n",
      "232 ulwdc1_232_W149.txt 0 0.00890876 2.72049 1583.70889306 -0.339442\n",
      "237 ulwdc1_237_W149.txt 0 0.168962 0.0632685 1451.59343898 0.726101\n",
      "238 ulwdc1_238_W149.txt 0 0.00180504 3.18241 1793.0412823 -0.323886\n",
      "241 ulwdc1_241_W149.txt 0 0.00539064 3.3655 1416.73703492 0.903258\n",
      "243 ulwdc1_243_W149.txt 0 0.0195288 0.423726 1639.8494339 -0.946965\n",
      "244 ulwdc1_244_W149.txt 0 0.000468436 8.40709 545.946806073 -0.295884\n",
      "251 ulwdc1_251_W149.txt 0 0.200738 0.0804842 113.189116269 0.457423\n",
      "255 ulwdc1_255_W149.txt 0 0.200426 0.0395396 340.439801216 -0.438623\n",
      "256 ulwdc1_256_W149.txt 0 0.03663 0.1257 1614.81119692 0.689006\n",
      "261 ulwdc1_261_W149.txt 0 0.00251013 4.24419 117.330247611 0.794422\n",
      "263 ulwdc1_263_W149.txt 0 0.000232162 29.1447 487.376523167 -0.119635\n",
      "266 ulwdc1_266_W149.txt 0 0.00016618 14.5994 504.184642732 0.913309\n",
      "268 ulwdc1_268_W149.txt 0 0.032543 2.38582 533.842573464 0.00834715\n",
      "271 ulwdc1_271_W149.txt 0 0.104916 0.0558572 533.43900919 0.996975\n",
      "272 ulwdc1_272_W149.txt 0 0.0678689 0.0482842 1404.19856787 0.797518\n",
      "274 ulwdc1_274_W149.txt 0 0.0550299 0.163618 1795.47764361 -0.463161\n",
      "292 ulwdc1_292_W149.txt 0 0.0143147 0.624973 161.3606105 0.163535\n"
     ]
    }
   ],
   "source": [
    "for counter, value in enumerate(info[0]):\n",
    "    if value == 0:\n",
    "        print(counter,name[counter], value, info[1][counter], info[2][counter],info[3][counter],info[5][counter])\n",
    "        "
   ]
  },
  {
   "cell_type": "code",
   "execution_count": 190,
   "metadata": {},
   "outputs": [],
   "source": [
    "# Reading in one single lightcurve\n",
    "\n",
    "f = '/ulwdc1_106_W149.txt'\n",
    "t,m,e = np.loadtxt(temp+f,unpack=True)\n",
    "\n",
    "df = pd.DataFrame({'t': t, 'magnitude': m, 'm_err': e})\n",
    "peaks = np.array([t[np.argmin(m)]])-2458000"
   ]
  },
  {
   "cell_type": "code",
   "execution_count": 191,
   "metadata": {},
   "outputs": [],
   "source": [
    "interpol = interp1d(df['t'],df['magnitude'], kind='zero')"
   ]
  },
  {
   "cell_type": "code",
   "execution_count": 192,
   "metadata": {},
   "outputs": [
    {
     "name": "stdout",
     "output_type": "stream",
     "text": [
      "1\n"
     ]
    }
   ],
   "source": [
    "n_outliers, peaks = count_peaks (t, m, smooth='yes', bin_size = 75, threshold = 3)\n",
    "print (len(peaks))"
   ]
  },
  {
   "cell_type": "code",
   "execution_count": 193,
   "metadata": {},
   "outputs": [
    {
     "data": {
      "image/png": "[encoded data removed]",
      "text/plain": [
       "<matplotlib.figure.Figure at 0x10e37e908>"
      ]
     },
     "metadata": {},
     "output_type": "display_data"
    }
   ],
   "source": [
    "# Plotting one single light curve\n",
    "# t = np.linspace(min(df['t']),max(df['t']),20000)\n",
    "\n",
    "dt = 1000\n",
    "plt.figure(1)\n",
    "plt.plot(df['t']-2458000, interpol(df['t']),'b.')\n",
    "#plt.plot(t-2458000, interpol(t),'r-')\n",
    "plt.gca().invert_yaxis()\n",
    "\n",
    "if len(peaks)==1:\n",
    "    plt.axvline(peaks[0]-2458000,color='red', linewidth = 3)\n",
    "    plt.xlim(peaks[0]-2458000-1*dt, peaks[0]-2458000+1*dt)\n",
    "elif (len(peaks)>1):\n",
    "    for i in peaks:\n",
    "        plt.axvline(i-2458000, color='red', linewidth = 3)\n",
    "    plt.xlim(peaks[0]-2458000-1*dt, peaks[0]-2458000+1*dt)\n",
    "        \n",
    "elif len(peaks) == 0:\n",
    "    pass\n",
    "    \n",
    "\n",
    "fig = plt.gcf()\n",
    "fig.set_size_inches(12.0,10.0)\n",
    "#fig.savefig('Non-microlensing.png')"
   ]
  },
  {
   "cell_type": "code",
   "execution_count": 53,
   "metadata": {},
   "outputs": [
    {
     "data": {
      "text/plain": [
       "2458346.505461"
      ]
     },
     "execution_count": 53,
     "metadata": {},
     "output_type": "execute_result"
    }
   ],
   "source": [
    "min(t)"
   ]
  },
  {
   "cell_type": "code",
   "execution_count": 16,
   "metadata": {},
   "outputs": [
    {
     "data": {
      "text/plain": [
       "4.692427350685307"
      ]
     },
     "execution_count": 16,
     "metadata": {},
     "output_type": "execute_result"
    }
   ],
   "source": [
    "(df['t'][int(len(df))-1]-df['t'][0])/365"
   ]
  },
  {
   "cell_type": "markdown",
   "metadata": {},
   "source": [
    "# Reading the larger dataset"
   ]
  },
  {
   "cell_type": "code",
   "execution_count": 16,
   "metadata": {},
   "outputs": [],
   "source": [
    "temp2 = home+'/Library/Mobile Documents/com~apple~CloudDocs/Microlensing_Data_Challeng/data-challenge-1/alldclc/'#lc/'"
   ]
  },
  {
   "cell_type": "code",
   "execution_count": 17,
   "metadata": {
    "collapsed": true
   },
   "outputs": [],
   "source": [
    "name = 'omcassan'\n",
    "dir_name = 'omcassan.160.NRO'\n",
    "answers_direc2= home+'/Library/Mobile Documents/com~apple~CloudDocs/Microlensing_Data_Challeng/data-challenge-1/Answers/alllc_params/'+str(name)\n"
   ]
  },
  {
   "cell_type": "code",
   "execution_count": 20,
   "metadata": {},
   "outputs": [
    {
     "name": "stdout",
     "output_type": "stream",
     "text": [
      "['', '9307', '7.214', '0.35', '-0.792245', '3.82068', '10', '5', '7.1', '9.085', '3920', '4.93', '0.328', '']\n"
     ]
    }
   ],
   "source": [
    "link = answers_direc2+'/analysis/'+str(dir_name)\n",
    "f= open(link,\"r\")\n",
    "\n",
    "#print (f.readlines()[0].split('|'))\n",
    "#print (f.readlines()[1].split(' '))[78]\n",
    "temp =(f.readlines()[0].split('|'))[2].split(' ') \n",
    "print (temp)\n",
    "#print ('mag.'+str(name)+'_'+temp[2]+'_'+temp[1]+'_'+temp[0]+'.det.lc.W149')"
   ]
  },
  {
   "cell_type": "code",
   "execution_count": 21,
   "metadata": {},
   "outputs": [],
   "source": [
    "# Reading in the answer key file for data challenge\n",
    "\n",
    "link = answers_direc2+'/analysis/'+str(dir_name)\n",
    "f= open(link,\"r\")\n",
    "info = [[],[],[],[],[],[], [], [], [], [], [],[], [], [], [],[], [], [], []]\n",
    "c=0\n",
    "\n",
    "for line in f.readlines():\n",
    "    \n",
    "     \n",
    "    \n",
    "#     saving index\n",
    "#     info[0].append(c)\n",
    "    \n",
    "    #Saving name\n",
    "    temp =(line.split('|'))[0].split(' ') \n",
    "    info[0].append('mag.'+str(name)+'_'+temp[1]+'_'+temp[2]+'_'+temp[0]+'.det.lc.W149')\n",
    "    \n",
    "    c=c+1\n",
    "    \n",
    "    # saving t0\n",
    "    info[3].append(line.split('|')[3].split(' ')[3])\n",
    "    \n",
    "    # saving rho\n",
    "    info[1].append(line.split('|')[3].split(' ')[8])\n",
    "    \n",
    "    # saving tE\n",
    "    info[2].append(line.split('|')[3].split(' ')[4])\n",
    "    \n",
    "    # saving piE\n",
    "    info[8].append(line.split('|')[3].split(' ')[7])\n",
    "    \n",
    "    # saving u0\n",
    "    \n",
    "    info[4].append(line.split('|')[3].split(' ')[1])\n",
    "    \n",
    "    # saving baseline magnitude\n",
    "    \n",
    "    info[5].append(line.split('|')[6].split(' ')[4])\n",
    "    \n",
    "    # saving q\n",
    "    info[6].append(line.split('|')[4].split(' ')[5])\n",
    "    \n",
    "    # saving s\n",
    "    info[7].append(line.split('|')[4].split(' ')[6])\n",
    "    \n",
    "    # saving mL in units of mSun\n",
    "    info[9].append(line.split('|')[2].split(' ')[3])\n",
    "    \n",
    "    # saving dL in units of kpc\n",
    "    info[10].append(line.split('|')[2].split(' ')[2])\n",
    "    \n",
    "    # saving alpha\n",
    "    info[11].append(line.split('|')[3].split(' ')[2])\n",
    "    \n",
    "    # saving rE\n",
    "    info[12].append(line.split('|')[3].split(' ')[5])\n",
    "\n",
    "    # saving thetaE\n",
    "    info[13].append(line.split('|')[3].split(' ')[6])\n",
    "    \n",
    "    # saving murel\n",
    "    info[14].append(line.split('|')[3].split(' ')[9])\n",
    "    \n",
    "    # saving mp\n",
    "    info[15].append(line.split('|')[4].split(' ')[1])\n",
    "    \n",
    "    # saving fs0\n",
    "    info[16].append(line.split('|')[8].split(' ')[1])\n",
    "    \n",
    "    # saving fs1\n",
    "    info[17].append(line.split('|')[8].split(' ')[1])\n",
    "    \n",
    "    # saving type\n",
    "#     if line.split(' ')[76]=='dccv': #Cataclysmic Variables\n",
    "#         info[0].append(0)\n",
    "#     elif line.split(' ')[78]=='ombin': #Binary-lens\n",
    "#         info[0].append(1)\n",
    "#     elif line.split(' ')[78]=='omcassan': #Planetary-lens\n",
    "#         info[0].append(2)\n",
    "#     if len(line.split(' '))>92 and line.split(' ')[92]=='dcnormffp': #PSPL/FFP\n",
    "#         info[0].append(3)\n",
    "#     else:\n",
    "#         info[0].append('')"
   ]
  },
  {
   "cell_type": "code",
   "execution_count": 22,
   "metadata": {},
   "outputs": [],
   "source": [
    "df_info = pd.DataFrame({'name': np.array(info[0],dtype=str), 'rho': np.array(info[1],dtype=float), \n",
    "                        'tE': np.array(info[2],dtype=float), 't0': np.array(info[3],dtype=float), \n",
    "                        'u0': np.array(info[4],dtype=float),'base': np.array(info[5],dtype=float),\n",
    "                        'q':np.array(info[6],dtype=float), 's': np.array(info[7],dtype=float),\n",
    "                       'piE': np.array(info[8],dtype=float), 'mL': np.array(info[9],dtype=float),\n",
    "                       'dL': np.array(info[10],dtype=float), 'alpha': np.array(info[11],dtype=float),\n",
    "                       'rE': np.array(info[12],dtype=float), 'thetaE': np.array(info[13],dtype=float),\n",
    "                       'murel': np.array(info[14],dtype=float), 'Mp': np.array(info[15],dtype=float),\n",
    "                       'fs0': np.array(info[16], dtype=float), 'fs1': np.array(info[17], dtype=float)})\n"
   ]
  },
  {
   "cell_type": "code",
   "execution_count": 165,
   "metadata": {},
   "outputs": [],
   "source": [
    "# frames = [df_info, df_info2]\n",
    "\n",
    "# info = pd.concat(frames)"
   ]
  },
  {
   "cell_type": "code",
   "execution_count": 166,
   "metadata": {},
   "outputs": [],
   "source": [
    "# info = info.reset_index()"
   ]
  },
  {
   "cell_type": "code",
   "execution_count": 23,
   "metadata": {},
   "outputs": [],
   "source": [
    "# df_info.to_csv('answer_keys/'+str(name)+'.CSV')"
   ]
  },
  {
   "cell_type": "code",
   "execution_count": 25,
   "metadata": {},
   "outputs": [
    {
     "data": {
      "text/html": [
       "<div>\n",
       "<style>\n",
       "    .dataframe thead tr:only-child th {\n",
       "        text-align: right;\n",
       "    }\n",
       "\n",
       "    .dataframe thead th {\n",
       "        text-align: left;\n",
       "    }\n",
       "\n",
       "    .dataframe tbody tr th {\n",
       "        vertical-align: top;\n",
       "    }\n",
       "</style>\n",
       "<table border=\"1\" class=\"dataframe\">\n",
       "  <thead>\n",
       "    <tr style=\"text-align: right;\">\n",
       "      <th></th>\n",
       "      <th>Mp</th>\n",
       "      <th>alpha</th>\n",
       "      <th>base</th>\n",
       "      <th>dL</th>\n",
       "      <th>fs0</th>\n",
       "      <th>fs1</th>\n",
       "      <th>mL</th>\n",
       "      <th>murel</th>\n",
       "      <th>name</th>\n",
       "      <th>piE</th>\n",
       "      <th>q</th>\n",
       "      <th>rE</th>\n",
       "      <th>rho</th>\n",
       "      <th>s</th>\n",
       "      <th>t0</th>\n",
       "      <th>tE</th>\n",
       "      <th>thetaE</th>\n",
       "      <th>u0</th>\n",
       "    </tr>\n",
       "  </thead>\n",
       "  <tbody>\n",
       "    <tr>\n",
       "      <th>20</th>\n",
       "      <td>0.000025</td>\n",
       "      <td>16.361</td>\n",
       "      <td>19.8491</td>\n",
       "      <td>9.305</td>\n",
       "      <td>0.624967</td>\n",
       "      <td>0.624967</td>\n",
       "      <td>0.2</td>\n",
       "      <td>1.45818</td>\n",
       "      <td>mag.omcassan_0_22_526.det.lc.W149</td>\n",
       "      <td>0.086704</td>\n",
       "      <td>0.000127</td>\n",
       "      <td>1.31457</td>\n",
       "      <td>0.011161</td>\n",
       "      <td>0.623442</td>\n",
       "      <td>311.407644</td>\n",
       "      <td>35.2199</td>\n",
       "      <td>0.141276</td>\n",
       "      <td>0.958763</td>\n",
       "    </tr>\n",
       "  </tbody>\n",
       "</table>\n",
       "</div>"
      ],
      "text/plain": [
       "          Mp   alpha     base     dL       fs0       fs1   mL    murel  \\\n",
       "20  0.000025  16.361  19.8491  9.305  0.624967  0.624967  0.2  1.45818   \n",
       "\n",
       "                                 name       piE         q       rE       rho  \\\n",
       "20  mag.omcassan_0_22_526.det.lc.W149  0.086704  0.000127  1.31457  0.011161   \n",
       "\n",
       "           s          t0       tE    thetaE        u0  \n",
       "20  0.623442  311.407644  35.2199  0.141276  0.958763  "
      ]
     },
     "execution_count": 25,
     "metadata": {},
     "output_type": "execute_result"
    }
   ],
   "source": [
    "df_info[df_info.name == 'mag.omcassan_0_22_526.det.lc.W149' ]"
   ]
  },
  {
   "cell_type": "code",
   "execution_count": 386,
   "metadata": {},
   "outputs": [
    {
     "name": "stdout",
     "output_type": "stream",
     "text": [
      "(3, 3, '0.2559', '0.15356', '1774.0108037')\n"
     ]
    }
   ],
   "source": [
    "for counter, value in enumerate(info[0]):\n",
    "    if value == 3:\n",
    "        print(counter, value, info[1][counter], info[2][counter],info[3][counter])\n",
    "        "
   ]
  },
  {
   "cell_type": "code",
   "execution_count": 387,
   "metadata": {
    "collapsed": true
   },
   "outputs": [],
   "source": [
    "# Free-floating candidates:\n",
    "# ulwdc1_089_W149.txt\n",
    "#"
   ]
  },
  {
   "cell_type": "code",
   "execution_count": 178,
   "metadata": {},
   "outputs": [],
   "source": [
    "# Reading in one single lightcurve\n",
    "\n",
    "f = 'mag.omcassan_0_32_977.det.lc.W149'\n",
    "t,m,e = np.loadtxt(temp2+f,unpack=True, usecols=(0,1, 2))\n",
    "\n",
    "df = pd.DataFrame({'t': t, 'magnitude': m, 'm_err': e})\n",
    "peaks = np.array([t[np.argmin(m)]])-2458234"
   ]
  },
  {
   "cell_type": "code",
   "execution_count": 179,
   "metadata": {},
   "outputs": [
    {
     "data": {
      "text/plain": [
       "0.159807692995435"
      ]
     },
     "execution_count": 179,
     "metadata": {},
     "output_type": "execute_result"
    }
   ],
   "source": [
    "np.std(y-df['magnitude'])"
   ]
  },
  {
   "cell_type": "code",
   "execution_count": 180,
   "metadata": {},
   "outputs": [
    {
     "data": {
      "image/png": "[encoded data removed]",
      "text/plain": [
       "<matplotlib.figure.Figure at 0x11a427f50>"
      ]
     },
     "metadata": {},
     "output_type": "display_data"
    }
   ],
   "source": [
    "# Plotting one single light curve\n",
    "dt = 5\n",
    "plt.figure(1)\n",
    "y = interp1d(df['t'],smooth(df['magnitude'],20), kind='next')(df['t'])\n",
    "\n",
    "# plt.plot(df['t']- 2458234, y, 'b-')\n",
    "plt.plot(df['t']- 2458234,  df['magnitude'], 'b.')\n",
    "# plt.plot(df['t'][(df.t>157+2458234) & (df.t<157.4+2458234)]-2458234, y[(df.t>157+2458234) & (df.t<157.4+2458234)],'b.')\n",
    "# plt.plot(df['t'][(df.t>157.3+2458234)]-2458234, smooth(y[(df.t>157.3+2458234)],5),'b-')\n",
    "# plt.plot(df['t'][(df.t<157.1+2458234)][0:-8]-2458234, smooth(y[(df.t<157.1+2458234)],10)[0:-8],'b-')\n",
    "\n",
    "\n",
    "\n",
    "#plt.plot(df['t']-2458000-peaks[0], fun(df['t']-2458000-peaks[0],0, 0.061569, 25.4193 , 20.129112),'r.')\n",
    "# plt.ylim(19.2,20.6)\n",
    "# print min(df['magnitude']), max(df['magnitude'])\n",
    "\n",
    "plt.gca().invert_yaxis()\n",
    "# plt.axvline(peaks[0])\n",
    "plt.xlim(peaks[0]-2*dt, peaks[0]+2*dt)\n",
    "# plt.xlim(510, 563)\n",
    "fig = plt.gcf()\n",
    "fig.set_size_inches(12.0,10.0)\n",
    "#fig.savefig('Non-microlensing.png')"
   ]
  },
  {
   "cell_type": "code",
   "execution_count": 426,
   "metadata": {},
   "outputs": [],
   "source": [
    "df_model = pd.read_csv('dcnormffp_0_82_1921_Cauchy_fitted.CSV')"
   ]
  },
  {
   "cell_type": "code",
   "execution_count": 704,
   "metadata": {},
   "outputs": [
    {
     "data": {
      "text/plain": [
       "2460059.241444"
      ]
     },
     "execution_count": 704,
     "metadata": {},
     "output_type": "execute_result"
    }
   ],
   "source": [
    "max(t)"
   ]
  },
  {
   "cell_type": "markdown",
   "metadata": {
    "collapsed": true
   },
   "source": []
  },
  {
   "cell_type": "code",
   "execution_count": null,
   "metadata": {
    "collapsed": true
   },
   "outputs": [],
   "source": []
  }
 ],
 "metadata": {
  "kernelspec": {
   "display_name": "Python 3",
   "language": "python",
   "name": "python3"
  },
  "language_info": {
   "codemirror_mode": {
    "name": "ipython",
    "version": 3
   },
   "file_extension": ".py",
   "mimetype": "text/x-python",
   "name": "python",
   "nbconvert_exporter": "python",
   "pygments_lexer": "ipython3",
   "version": "3.6.1"
  }
 },
 "nbformat": 4,
 "nbformat_minor": 1
}
