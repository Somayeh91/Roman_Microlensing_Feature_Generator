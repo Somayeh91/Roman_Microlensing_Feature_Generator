{
 "cells": [
  {
   "cell_type": "code",
   "execution_count": 1,
   "metadata": {
    "collapsed": true
   },
   "outputs": [],
   "source": [
    "from lmfit import minimize, Parameters, Parameter, report_fit\n",
    "import numpy as np\n",
    "import glob,os,sys\n",
    "import numpy as np\n",
    "import matplotlib.pyplot as plt\n",
    "import matplotlib\n",
    "from numpy import *\n",
    "import re\n",
    "from tqdm import tqdm\n",
    "import scipy.stats as st\n",
    "from os.path import expanduser\n",
    "import cmath\n",
    "import scipy.optimize as op\n",
    "import time\n",
    "import gzip\n",
    "import pandas as pd\n",
    "from scipy.interpolate import interp1d\n",
    "from mpl_toolkits.axes_grid1.inset_locator import zoomed_inset_axes\n",
    "from mpl_toolkits.axes_grid1.inset_locator import (mark_inset,inset_axes,InsetPosition) \n",
    "%matplotlib inline"
   ]
  },
  {
   "cell_type": "code",
   "execution_count": 2,
   "metadata": {
    "collapsed": true
   },
   "outputs": [],
   "source": [
    "home = os.path.expanduser(\"~\")"
   ]
  },
  {
   "cell_type": "code",
   "execution_count": 3,
   "metadata": {},
   "outputs": [],
   "source": [
    "# Path to the larger dataset\n",
    "home = os.path.expanduser(\"~\")\n",
    "\n",
    "temp = home+'/Library/Mobile Documents/com~apple~CloudDocs/Microlensing_Data_Challeng/data-challenge-1/alldclc/'\n",
    "direc = os.listdir(temp)"
   ]
  },
  {
   "cell_type": "code",
   "execution_count": 4,
   "metadata": {
    "collapsed": true
   },
   "outputs": [],
   "source": [
    "def empty(df):\n",
    "    return len(df.index) == 0\n",
    "\n",
    "def PSPL_data (params, t, A_data):\n",
    "    \n",
    "    t0 = params['t0'].value\n",
    "    tE = params['tE'].value\n",
    "    u0 = params['u0'].value\n",
    "    u = np.sqrt(u0**2+((t-t0)/tE)**2)\n",
    "    A = ((u**2)+2)/(u*np.sqrt(u**2+4))\n",
    "    return A - A_data\n",
    "\n",
    "def PSPL (t0, tE, u0, t):\n",
    "    \n",
    "    u = np.sqrt(u0**2+((t-t0)/tE)**2)\n",
    "    A = ((u**2)+2)/(u*np.sqrt(u**2+4))\n",
    "    return A\n",
    "        \n",
    "def PSPL_Gaussian (mean, sigma,amp, t0,u0,tE, t):\n",
    "    u = np.sqrt(u0**2+((t-t0)/tE)**2)\n",
    "    A = (((amp/np.sqrt(2*pi*(sigma**2)))*np.exp(-((t-mean)**2)/(2*(sigma**2)))))+((u**2)+2)/(u*np.sqrt((u**2)+4))\n",
    "    return A\n",
    "\n",
    "def PSPL_Gaussian_data (params, t, A_data):\n",
    "    \n",
    "    t0 = params['t0'].value\n",
    "    tE = params['tE'].value\n",
    "    u0 = params['u0'].value\n",
    "    tp = params['tp'].value\n",
    "    tEp = params['tEp'].value\n",
    "    amp = params['amp'].value\n",
    "    \n",
    "    u = np.sqrt(u0**2+((t-t0)/tE)**2)\n",
    "    A = (((amp/np.sqrt(2*pi*(tEp**2)))*np.exp(-((t-tp)**2)/(2*(tEp**2)))))+((u**2)+2)/(u*np.sqrt((u**2)+4))\n",
    "    \n",
    "    return A\n",
    "\n",
    "def lnlike(theta, t, f, f_err):\n",
    "    t0, u0, tE = theta\n",
    "    model = fun(t, t0, u0, tE)\n",
    "    inv_sigma2 = 1.0/(f_err**2)\n",
    "    return -0.5*(np.sum((f-model)**2*inv_sigma2))\n",
    "\n",
    "def lnlike2(theta, t, f, f_err):\n",
    "    mean, sigma,amp, t0,u0,tE = theta\n",
    "    model = fun2(t,mean, sigma,amp, t0,u0,tE)\n",
    "    inv_sigma2 = 1.0/(f_err**2)\n",
    "    return -0.5*(np.sum((f-model)**2*inv_sigma2))\n",
    "\n",
    "def smooth(y, box_pts):\n",
    "    box = np.ones(box_pts)/box_pts\n",
    "    y_smooth = np.convolve(y, box, mode='same')\n",
    "    return y_smooth\n",
    "\n",
    "\n",
    "def calc_chisq2(lightcurve,fx,ferror):\n",
    "    \"\"\"Function to calculate the chi squared of the fit of the lightcurve\n",
    "    data to the function provided\"\"\"\n",
    "\n",
    "    chisq = ((lightcurve - fx)**2 / (ferror**2)).sum()\n",
    "\n",
    "    return chisq"
   ]
  },
  {
   "cell_type": "code",
   "execution_count": 5,
   "metadata": {
    "collapsed": true
   },
   "outputs": [],
   "source": [
    "def localize_event(lightcurve,t0,tE):\n",
    "    \"\"\"Function to estimate roughly the area around the peak of an event, \n",
    "    and identify which timestamps in the array belong to the event versus\n",
    "    the baseline\n",
    "    \"\"\"\n",
    "    \n",
    "    idx1 = np.where(lightcurve >= t0-tE)[0]\n",
    "    idx2 = np.where(lightcurve <= t0+tE)[0]\n",
    "    event = list(set(idx1).intersection(set(idx2)))\n",
    "    \n",
    "    baseline = np.arange(0,len(lightcurve),1)\n",
    "    baseline = np.delete(baseline,event)\n",
    "    \n",
    "    it0 = np.where(lightcurve == t0)[0][0]\n",
    "    \n",
    "    #print min(lightcurve)\n",
    "    #print it0\n",
    "    return baseline, event, it0"
   ]
  },
  {
   "cell_type": "code",
   "execution_count": 6,
   "metadata": {
    "collapsed": true
   },
   "outputs": [],
   "source": [
    "def prepare(t,m,err):\n",
    "    \n",
    "    df = pd.DataFrame({'t': t, 'magnitude': m, 'm_err': err})\n",
    "    peaks = np.array([t[np.argmin(m)]])\n",
    "    baseline, event, it0 = localize_event(df['t'], peaks[0],50)\n",
    "    \n",
    "    base_mag = np.median(df['magnitude'][baseline])\n",
    "    df['A'] = 10 ** (0.4*(base_mag - df['magnitude']))\n",
    "    \n",
    "    interpol = interp1d(df['t'],df['A'], kind='cubic')\n",
    "    dt = np.abs(df['t'][np.argmin(np.abs(interpol(df['t'])-1.06))]-peaks[0])\n",
    "    #print dt\n",
    "    \n",
    "    if dt==0.0:\n",
    "        dt = 50\n",
    "\n",
    "\n",
    "        \n",
    "    \n",
    "    #dt = 50\n",
    "    baseline, event, it0 = localize_event(df['t'], peaks[0],dt)\n",
    "\n",
    "    while (np.abs((df['t'][event]).diff())).max() > 0.1:\n",
    "        \n",
    "        if dt>20:\n",
    "            dt = dt - 10\n",
    "            baseline, event, it0 = localize_event(df['t'], peaks[0],dt)\n",
    "        else:\n",
    "            break\n",
    "    #print dt    \n",
    "    return df, baseline, event, it0, dt\n",
    "\n",
    "\n",
    "\n"
   ]
  },
  {
   "cell_type": "code",
   "execution_count": 7,
   "metadata": {},
   "outputs": [],
   "source": [
    "# Reading in one single lightcurve from the small sample of data challenge light curves\n",
    "\n",
    "f = '/mag.dcnormffp_0_82_3.det.lc.W149' #non-binary\n",
    "\n",
    "t,m,e = np.loadtxt(temp+f,unpack=True)\n",
    "\n"
   ]
  },
  {
   "cell_type": "code",
   "execution_count": 8,
   "metadata": {},
   "outputs": [],
   "source": [
    "df, baseline, event, it0, dt = prepare(t,m,e)"
   ]
  },
  {
   "cell_type": "code",
   "execution_count": 10,
   "metadata": {},
   "outputs": [
    {
     "name": "stdout",
     "output_type": "stream",
     "text": [
      "2460007.99237\n"
     ]
    }
   ],
   "source": [
    "A_max = df['A'][np.argmin(m[m>np.percentile(m, [0.01,100])[0]])] #np.max(df['A']) #1.0/(float(f_s_true)/(max(df['f'])-1+float(f_s_true)))\n",
    "u0_true = np.sqrt( ( (1+np.sqrt(1+16*(A_max**2)))/(2* A_max) ) - 2 )\n",
    "t0_true = df['t'][np.argmin(m[m>np.percentile(m, [0.01,100])[0]])] #it0 #t[A.argmax()] #float(t0_theo)\n",
    "print (t0_true)"
   ]
  },
  {
   "cell_type": "code",
   "execution_count": 20,
   "metadata": {},
   "outputs": [
    {
     "data": {
      "text/plain": [
       "(2460002.9923680001, 2460012.9923680001)"
      ]
     },
     "execution_count": 20,
     "metadata": {},
     "output_type": "execute_result"
    },
    {
     "data": {
      "image/png": "[encoded data removed]",
      "text/plain": [
       "<matplotlib.figure.Figure at 0x1142c0588>"
      ]
     },
     "metadata": {},
     "output_type": "display_data"
    }
   ],
   "source": [
    "plt.plot(df['t'], df['A'],'b.')\n",
    "plt.axvline(t0_true)\n",
    "plt.xlim(t0_true-5, t0_true+5)"
   ]
  },
  {
   "cell_type": "code",
   "execution_count": 12,
   "metadata": {},
   "outputs": [],
   "source": [
    "\n",
    "#ind1, ind2 = fwhm(A,A.argmax(),1)\n",
    "#tE_true = t[ind2]-t[ind1]\n",
    "tE_true = 10 #[tE_finder (t,A),t[ind2]-t[ind1]]\n",
    "#print 'tE_true = '+ str( tE_true)\n",
    "\n",
    "params = Parameters()\n",
    "params.add('t0', value= t0_true, min=min(df['t']), max=max(df['t']))\n",
    "params.add('tE', value= tE_true, min=0.001, max=1000)\n",
    "params.add('u0', value= u0_true, min=0, max=5)\n",
    "\n",
    "result = minimize(PSPL_data, params, args=(df['t'].values, df['A'].values))\n",
    "\n"
   ]
  },
  {
   "cell_type": "code",
   "execution_count": 13,
   "metadata": {},
   "outputs": [
    {
     "data": {
      "text/html": [
       "<table><tr><th> name </th><th> value </th><th> initial value </th><th> min </th><th> max </th><th> vary </th></tr><tr><td> t0 </td><td>  2460007.99 </td><td> 2460007.99237 </td><td>  2458346.51 </td><td>  2460059.24 </td><td> True </td></tr><tr><td> tE </td><td>  10.0000000 </td><td> 10 </td><td>  1.0000e-03 </td><td>  1000.00000 </td><td> True </td></tr><tr><td> u0 </td><td>  0.63949039 </td><td> 0.639490390277 </td><td>  0.00000000 </td><td>  5.00000000 </td><td> True </td></tr></table>"
      ],
      "text/plain": [
       "Parameters([('t0',\n",
       "             <Parameter 't0', 2460007.9923680001, bounds=[2458346.5054609999:2460059.241444]>),\n",
       "            ('tE', <Parameter 'tE', 10, bounds=[0.001:1000]>),\n",
       "            ('u0', <Parameter 'u0', 0.63949039027698151, bounds=[0:5]>)])"
      ]
     },
     "execution_count": 13,
     "metadata": {},
     "output_type": "execute_result"
    }
   ],
   "source": [
    "params"
   ]
  },
  {
   "cell_type": "code",
   "execution_count": 14,
   "metadata": {},
   "outputs": [
    {
     "data": {
      "text/html": [
       "<table><tr><th> name </th><th> value </th><th> standard error </th><th> relative error </th><th> initial value </th><th> min </th><th> max </th><th> vary </th></tr><tr><td> t0 </td><td>  2460008.01 </td><td>  6.9976e-04 </td><td> 0.00% </td><td> 2460007.99237 </td><td>  2458346.51 </td><td>  2460059.24 </td><td> True </td></tr><tr><td> tE </td><td>  0.14545696 </td><td>  8.8334e-04 </td><td> 0.61% </td><td> 10 </td><td>  1.0000e-03 </td><td>  1000.00000 </td><td> True </td></tr><tr><td> u0 </td><td>  1.00843121 </td><td>  0.00248686 </td><td> 0.25% </td><td> 0.639490390277 </td><td>  0.00000000 </td><td>  5.00000000 </td><td> True </td></tr></table>"
      ],
      "text/plain": [
       "Parameters([('t0',\n",
       "             <Parameter 't0', value=2460008.0111090345 +/- 0.0007, bounds=[2458346.5054609999:2460059.241444]>),\n",
       "            ('tE',\n",
       "             <Parameter 'tE', value=0.14545695943383424 +/- 0.000883, bounds=[0.001:1000]>),\n",
       "            ('u0',\n",
       "             <Parameter 'u0', value=1.0084312124543242 +/- 0.00249, bounds=[0:5]>)])"
      ]
     },
     "execution_count": 14,
     "metadata": {},
     "output_type": "execute_result"
    }
   ],
   "source": [
    "result.params"
   ]
  },
  {
   "cell_type": "code",
   "execution_count": 15,
   "metadata": {},
   "outputs": [
    {
     "data": {
      "text/html": [
       "<h2>Fit Statistics</h2><table><tr><td>fitting method</td><td>leastsq</td><td></td></tr><tr><td># function evals</td><td>49</td><td></td></tr><tr><td># data points</td><td>38568</td><td></td></tr><tr><td># variables</td><td>3</td><td></td></tr><tr><td>chi-square</td><td> 1.25405447</td><td></td></tr><tr><td>reduced chi-square</td><td> 3.2518e-05</td><td></td></tr><tr><td>Akaike info crit.</td><td>-398547.856</td><td></td></tr><tr><td>Bayesian info crit.</td><td>-398522.176</td><td></td></tr></table><h2>Variables</h2><table><tr><th> name </th><th> value </th><th> standard error </th><th> relative error </th><th> initial value </th><th> min </th><th> max </th><th> vary </th></tr><tr><td> t0 </td><td>  2460008.01 </td><td>  6.9976e-04 </td><td> 0.00% </td><td> 2460007.99237 </td><td>  2458346.51 </td><td>  2460059.24 </td><td> True </td></tr><tr><td> tE </td><td>  0.14545696 </td><td>  8.8334e-04 </td><td> 0.61% </td><td> 10 </td><td>  1.0000e-03 </td><td>  1000.00000 </td><td> True </td></tr><tr><td> u0 </td><td>  1.00843121 </td><td>  0.00248686 </td><td> 0.25% </td><td> 0.639490390277 </td><td>  0.00000000 </td><td>  5.00000000 </td><td> True </td></tr></table><h2>Correlations (unreported correlations are < 0.100)</h2><table><tr><td>tE</td><td>u0</td><td>0.4961</td></tr></table>"
      ],
      "text/plain": [
       "<lmfit.minimizer.MinimizerResult at 0x11390cd30>"
      ]
     },
     "execution_count": 15,
     "metadata": {},
     "output_type": "execute_result"
    }
   ],
   "source": [
    "result"
   ]
  },
  {
   "cell_type": "code",
   "execution_count": 23,
   "metadata": {},
   "outputs": [
    {
     "data": {
      "image/png": "[encoded data removed]",
      "text/plain": [
       "<matplotlib.figure.Figure at 0x113c05780>"
      ]
     },
     "metadata": {},
     "output_type": "display_data"
    }
   ],
   "source": [
    "dt = 1\n",
    "\n",
    "xplot = np.linspace(min(df['t'].values), max(df['t'].values), 1000)\n",
    "yplot = PSPL(result.params['t0'],result.params['tE'],result.params['u0'], df['t'])\n",
    "#plot results\n",
    "\n",
    "import pylab\n",
    "pylab.plot(df['t'], df['A'], 'k.')\n",
    "pylab.plot(df['t'], yplot, 'r')\n",
    "plt.axvline(result.params['t0'])\n",
    "plt.xlim(result.params['t0'].value-dt, result.params['t0'].value+dt)\n",
    "pylab.show()\n"
   ]
  },
  {
   "cell_type": "code",
   "execution_count": null,
   "metadata": {
    "collapsed": true
   },
   "outputs": [],
   "source": []
  },
  {
   "cell_type": "code",
   "execution_count": 16,
   "metadata": {
    "collapsed": true
   },
   "outputs": [],
   "source": [
    "def PSPL_lm_fitter (t, A, error):\n",
    "    \n",
    "    df, baseline, event, it0, dt = prepare(t,m,e)\n",
    "    \n",
    "    A_max = df['A'][np.argmin(m[m>np.percentile(m, [0.01,100])[0]])] #np.max(df['A']) #1.0/(float(f_s_true)/(max(df['f'])-1+float(f_s_true)))\n",
    "    u0_true = np.sqrt( ( (1+np.sqrt(1+16*(A_max**2)))/(2* A_max) ) - 2 )\n",
    "    t0_true =  df['t'][np.argmin(m[m>np.percentile(m, [0.01,100])[0]])] #it0 #t[A.argmax()] #float(t0_theo)\n",
    "\n",
    "    tE_true = 10\n",
    "\n",
    "    params = Parameters()\n",
    "    params.add('t0', value= t0_true, min=min(df['t']), max=max(df['t']))\n",
    "    params.add('tE', value= tE_true, min=0.001, max=1000)\n",
    "    params.add('u0', value= u0_true, min=0, max=5)\n",
    "\n",
    "    result = minimize(PSPL_data, params, args=(df['t'].values, df['A'].values))\n",
    "    \n",
    "    return result.params['t0'].value, result.params['tE'].value, result.params['u0'].value, result.chisqr\n",
    "    "
   ]
  },
  {
   "cell_type": "code",
   "execution_count": 143,
   "metadata": {},
   "outputs": [
    {
     "name": "stderr",
     "output_type": "stream",
     "text": [
      "100%|██████████| 9948/9948 [1:48:50<00:00,  1.52it/s]"
     ]
    },
    {
     "name": "stdout",
     "output_type": "stream",
     "text": [
      "done\n"
     ]
    },
    {
     "name": "stderr",
     "output_type": "stream",
     "text": [
      "\n"
     ]
    }
   ],
   "source": [
    "# Trying it on all light curves of the large sample of data challenge light curves\n",
    "\n",
    "direc.sort()\n",
    "result_n = {'name':[], 't':[], 'A':[], 'event':[], 't0':[], 'tE':[],'u0':[], 'chisqr':[], 'reduced_chisqr_ratio': []}\n",
    "for f in tqdm(direc):\n",
    "    #print f\n",
    "    \n",
    "    if f.endswith('.W149') and f.startswith('mag.'):\n",
    "        #print f\n",
    "        \n",
    "        try:\n",
    "            t,m,e = np.loadtxt(temp+str(f),unpack=True)\n",
    "            df, baseline, event, it0, dt = prepare(t,m,e)\n",
    "\n",
    "            t0, tE, u0, chisqr = PSPL_lm_fitter(df['t'].values, df['A'].values, df['m_err'].values)       \n",
    "\n",
    "            right = (np.sum((df['A'][(df.t > t0) ]-PSPL(t0,tE,u0, df['t'][df.t > t0]))**2))/float(len(df['t'])-3)\n",
    "            left = (np.sum((df['A'][(df.t < t0) ]-PSPL(t0,tE,u0, df['t'][df.t < t0]))**2))/float(len(df['t'])-3)\n",
    "            \n",
    "            reduced_chisqr_ratio = left/right\n",
    "            \n",
    "            result_n['name'].append(f)\n",
    "            result_n['t'].append(t)\n",
    "            result_n['A'].append(df['A'].values)\n",
    "            result_n['event'].append(event)\n",
    "            result_n['t0'].append(t0)\n",
    "            result_n['tE'].append(tE)\n",
    "            result_n['u0'].append(u0)\n",
    "            result_n['chisqr'].append(chisqr)\n",
    "            result_n['reduced_chisqr_ratio'].append(reduced_chisqr_ratio)\n",
    "        \n",
    "        except (RuntimeError, TypeError, NameError, ValueError):\n",
    "            \n",
    "            #print f\n",
    "            pass\n",
    "        \n",
    "\n",
    "\n",
    "print 'done'"
   ]
  },
  {
   "cell_type": "code",
   "execution_count": 18,
   "metadata": {},
   "outputs": [
    {
     "data": {
      "text/plain": [
       "4648"
      ]
     },
     "execution_count": 18,
     "metadata": {},
     "output_type": "execute_result"
    }
   ],
   "source": [
    "len(result_n['name'])"
   ]
  },
  {
   "cell_type": "code",
   "execution_count": 19,
   "metadata": {
    "collapsed": true
   },
   "outputs": [],
   "source": [
    "info1 = pd.read_csv('ombin.CSV')\n",
    "info2 = pd.read_csv('omcassan.CSV')\n",
    "info3 = pd.read_csv('dccv.CSV')\n",
    "info4 = pd.read_csv('dcnormffp.CSV')"
   ]
  },
  {
   "cell_type": "code",
   "execution_count": 20,
   "metadata": {
    "collapsed": true
   },
   "outputs": [],
   "source": [
    "frames = [info1, info2, info3, info4]\n",
    "\n",
    "info = pd.concat(frames)"
   ]
  },
  {
   "cell_type": "code",
   "execution_count": 21,
   "metadata": {
    "collapsed": true
   },
   "outputs": [],
   "source": [
    "info['t0_exp'] = np.zeros(len(info))\n",
    "info['tE_exp'] = np.zeros(len(info))\n",
    "info['u0_exp'] = np.zeros(len(info))\n",
    "info['chisqr'] = np.zeros(len(info))\n",
    "# info['f0_exp'] = np.zeros(len(info))\n",
    "# info['min_chi_sqr'] = np.zeros(len(info))\n",
    "# info['chi_sqr_base'] = np.zeros(len(info))\n",
    "# info['chi_sqr_right'] = np.zeros(len(info))\n",
    "# info['chi_sqr_left'] = np.zeros(len(info))"
   ]
  },
  {
   "cell_type": "code",
   "execution_count": 22,
   "metadata": {
    "collapsed": true
   },
   "outputs": [],
   "source": [
    "info = info.rename(columns={\"index\": \"name\"})"
   ]
  },
  {
   "cell_type": "code",
   "execution_count": 24,
   "metadata": {},
   "outputs": [],
   "source": [
    "for i in range(len(result_n['name'])):\n",
    "\n",
    "    if result_n['name'][i].split('.lc')[0].endswith('all'): \n",
    "        result_n['name'][i] = result_n['name'][i].split('all')[0]+'det'+result_n['name'][i].split('all')[1]"
   ]
  },
  {
   "cell_type": "code",
   "execution_count": 25,
   "metadata": {},
   "outputs": [
    {
     "name": "stderr",
     "output_type": "stream",
     "text": [
      " 79%|███████▉  | 3685/4648 [01:00<00:15, 60.80it/s]"
     ]
    },
    {
     "name": "stdout",
     "output_type": "stream",
     "text": [
      "mag.omcassan_0_100_1197.det.lc.W149\n",
      "mag.omcassan_0_100_3114.det.lc.W149\n",
      "mag.omcassan_0_100_66.det.lc.W149\n",
      "mag.omcassan_0_10_1228.det.lc.W149\n"
     ]
    },
    {
     "name": "stderr",
     "output_type": "stream",
     "text": [
      " 80%|███████▉  | 3713/4648 [01:01<00:15, 60.83it/s]"
     ]
    },
    {
     "name": "stdout",
     "output_type": "stream",
     "text": [
      "mag.omcassan_0_21_2040.det.lc.W149\n",
      "mag.omcassan_0_21_414.det.lc.W149\n",
      "mag.omcassan_0_22_3213.det.lc.W149\n"
     ]
    },
    {
     "name": "stderr",
     "output_type": "stream",
     "text": [
      " 80%|████████  | 3727/4648 [01:01<00:15, 60.83it/s]"
     ]
    },
    {
     "name": "stdout",
     "output_type": "stream",
     "text": [
      "mag.omcassan_0_34_1491.det.lc.W149\n",
      "mag.omcassan_0_35_2018.det.lc.W149\n",
      "mag.omcassan_0_44_669.det.lc.W149\n",
      "mag.omcassan_0_46_400.det.lc.W149\n"
     ]
    },
    {
     "name": "stderr",
     "output_type": "stream",
     "text": [
      " 80%|████████  | 3741/4648 [01:01<00:14, 60.85it/s]"
     ]
    },
    {
     "name": "stdout",
     "output_type": "stream",
     "text": [
      "mag.omcassan_0_48_1719.det.lc.W149\n",
      "mag.omcassan_0_49_1633.det.lc.W149\n",
      "mag.omcassan_0_58_1019.det.lc.W149\n",
      "mag.omcassan_0_59_1633.det.lc.W149\n",
      "mag.omcassan_0_59_2013.det.lc.W149\n",
      "mag.omcassan_0_61_1201.det.lc.W149\n",
      "mag.omcassan_0_61_384.det.lc.W149\n"
     ]
    },
    {
     "name": "stderr",
     "output_type": "stream",
     "text": [
      " 81%|████████  | 3755/4648 [01:01<00:14, 60.86it/s]"
     ]
    },
    {
     "name": "stdout",
     "output_type": "stream",
     "text": [
      "mag.omcassan_0_61_681.det.lc.W149\n",
      "mag.omcassan_0_63_316.det.lc.W149\n",
      "mag.omcassan_0_6_1191.det.lc.W149\n",
      "mag.omcassan_0_71_259.det.lc.W149\n"
     ]
    },
    {
     "name": "stderr",
     "output_type": "stream",
     "text": [
      " 81%|████████  | 3776/4648 [01:02<00:14, 60.88it/s]"
     ]
    },
    {
     "name": "stdout",
     "output_type": "stream",
     "text": [
      "mag.omcassan_0_7_534.det.lc.W149\n",
      "mag.omcassan_0_83_241.det.lc.W149\n",
      "mag.omcassan_0_84_720.det.lc.W149\n",
      "mag.omcassan_0_86_2143.det.lc.W149\n",
      "mag.omcassan_0_86_2152.det.lc.W149\n",
      "mag.omcassan_0_87_1718.det.lc.W149\n",
      "mag.omcassan_0_87_2127.det.lc.W149\n"
     ]
    },
    {
     "name": "stderr",
     "output_type": "stream",
     "text": [
      " 82%|████████▏ | 3790/4648 [01:02<00:14, 60.89it/s]"
     ]
    },
    {
     "name": "stdout",
     "output_type": "stream",
     "text": [
      "mag.omcassan_0_88_2050.det.lc.W149\n",
      "mag.omcassan_0_89_114.det.lc.W149\n",
      "mag.omcassan_0_97_1005.det.lc.W149\n",
      "mag.omcassan_0_97_964.det.lc.W149\n",
      "mag.omcassan_0_98_1251.det.lc.W149\n",
      "mag.omcassan_0_98_1412.det.lc.W149\n",
      "mag.omcassan_0_99_1601.det.lc.W149\n"
     ]
    },
    {
     "name": "stderr",
     "output_type": "stream",
     "text": [
      " 82%|████████▏ | 3811/4648 [01:02<00:13, 60.90it/s]"
     ]
    },
    {
     "name": "stdout",
     "output_type": "stream",
     "text": [
      "mag.omcassan_10_18_463.det.lc.W149\n",
      "mag.omcassan_10_44_787.det.lc.W149\n",
      "mag.omcassan_10_47_126.det.lc.W149\n",
      "mag.omcassan_10_50_253.det.lc.W149\n",
      "mag.omcassan_10_5_594.det.lc.W149\n"
     ]
    },
    {
     "name": "stderr",
     "output_type": "stream",
     "text": [
      " 82%|████████▏ | 3825/4648 [01:02<00:13, 60.90it/s]"
     ]
    },
    {
     "name": "stdout",
     "output_type": "stream",
     "text": [
      "mag.omcassan_10_6_423.det.lc.W149\n",
      "mag.omcassan_10_72_1307.det.lc.W149\n",
      "mag.omcassan_10_73_847.det.lc.W149\n",
      "mag.omcassan_10_89_385.det.lc.W149\n",
      "mag.omcassan_10_98_148.det.lc.W149\n"
     ]
    },
    {
     "name": "stderr",
     "output_type": "stream",
     "text": [
      " 83%|████████▎ | 3846/4648 [01:03<00:13, 60.92it/s]"
     ]
    },
    {
     "name": "stdout",
     "output_type": "stream",
     "text": [
      "mag.omcassan_1_110_551.det.lc.W149\n",
      "mag.omcassan_1_111_474.det.lc.W149\n",
      "mag.omcassan_1_112_1070.det.lc.W149\n",
      "mag.omcassan_1_112_65.det.lc.W149\n",
      "mag.omcassan_1_113_1809.det.lc.W149\n"
     ]
    },
    {
     "name": "stderr",
     "output_type": "stream",
     "text": [
      " 83%|████████▎ | 3860/4648 [01:03<00:12, 60.93it/s]"
     ]
    },
    {
     "name": "stdout",
     "output_type": "stream",
     "text": [
      "mag.omcassan_1_11_182.det.lc.W149\n",
      "mag.omcassan_1_18_442.det.lc.W149\n",
      "mag.omcassan_1_18_674.det.lc.W149\n",
      "mag.omcassan_1_20_288.det.lc.W149\n",
      "mag.omcassan_1_20_979.det.lc.W149\n",
      "mag.omcassan_1_23_1262.det.lc.W149\n",
      "mag.omcassan_1_23_1397.det.lc.W149\n",
      "mag.omcassan_1_23_990.det.lc.W149\n"
     ]
    },
    {
     "name": "stderr",
     "output_type": "stream",
     "text": [
      " 83%|████████▎ | 3874/4648 [01:03<00:12, 60.94it/s]"
     ]
    },
    {
     "name": "stdout",
     "output_type": "stream",
     "text": [
      "mag.omcassan_1_31_529.det.lc.W149\n",
      "mag.omcassan_1_48_1401.det.lc.W149\n"
     ]
    },
    {
     "name": "stderr",
     "output_type": "stream",
     "text": [
      " 84%|████████▎ | 3888/4648 [01:03<00:12, 60.96it/s]"
     ]
    },
    {
     "name": "stdout",
     "output_type": "stream",
     "text": [
      "mag.omcassan_1_57_2109.det.lc.W149\n",
      "mag.omcassan_1_5_2403.det.lc.W149\n",
      "mag.omcassan_1_5_2609.det.lc.W149\n",
      "mag.omcassan_1_60_992.det.lc.W149\n",
      "mag.omcassan_1_62_1260.det.lc.W149\n",
      "mag.omcassan_1_63_1559.det.lc.W149\n"
     ]
    },
    {
     "name": "stderr",
     "output_type": "stream",
     "text": [
      " 84%|████████▍ | 3909/4648 [01:04<00:12, 60.97it/s]"
     ]
    },
    {
     "name": "stdout",
     "output_type": "stream",
     "text": [
      "mag.omcassan_1_70_1516.det.lc.W149\n",
      "mag.omcassan_1_73_1372.det.lc.W149\n",
      "mag.omcassan_1_75_1206.det.lc.W149\n",
      "mag.omcassan_1_75_250.det.lc.W149\n"
     ]
    },
    {
     "name": "stderr",
     "output_type": "stream",
     "text": [
      " 85%|████████▍ | 3930/4648 [01:04<00:11, 60.99it/s]"
     ]
    },
    {
     "name": "stdout",
     "output_type": "stream",
     "text": [
      "mag.omcassan_1_84_1418.det.lc.W149\n",
      "mag.omcassan_1_89_1387.det.lc.W149\n",
      "mag.omcassan_1_89_1625.det.lc.W149\n",
      "mag.omcassan_1_89_565.det.lc.W149\n",
      "mag.omcassan_1_98_479.det.lc.W149\n"
     ]
    },
    {
     "name": "stderr",
     "output_type": "stream",
     "text": [
      " 85%|████████▌ | 3951/4648 [01:04<00:11, 61.00it/s]"
     ]
    },
    {
     "name": "stdout",
     "output_type": "stream",
     "text": [
      "mag.omcassan_2_10_214.det.lc.W149\n",
      "mag.omcassan_2_110_1013.det.lc.W149\n",
      "mag.omcassan_2_110_1407.det.lc.W149\n",
      "mag.omcassan_2_110_2700.det.lc.W149\n",
      "mag.omcassan_2_112_3277.det.lc.W149\n",
      "mag.omcassan_2_115_1010.det.lc.W149\n"
     ]
    },
    {
     "name": "stderr",
     "output_type": "stream",
     "text": [
      " 85%|████████▌ | 3965/4648 [01:04<00:11, 61.02it/s]"
     ]
    },
    {
     "name": "stdout",
     "output_type": "stream",
     "text": [
      "mag.omcassan_2_20_1425.det.lc.W149\n",
      "mag.omcassan_2_20_253.det.lc.W149\n",
      "mag.omcassan_2_24_1036.det.lc.W149\n",
      "mag.omcassan_2_31_1443.det.lc.W149\n",
      "mag.omcassan_2_31_37.det.lc.W149\n",
      "mag.omcassan_2_31_832.det.lc.W149\n",
      "mag.omcassan_2_33_54.det.lc.W149\n"
     ]
    },
    {
     "name": "stderr",
     "output_type": "stream",
     "text": [
      " 86%|████████▌ | 3986/4648 [01:05<00:10, 61.04it/s]"
     ]
    },
    {
     "name": "stdout",
     "output_type": "stream",
     "text": [
      "mag.omcassan_2_50_216.det.lc.W149\n",
      "mag.omcassan_2_50_726.det.lc.W149\n",
      "mag.omcassan_2_58_1579.det.lc.W149\n"
     ]
    },
    {
     "name": "stderr",
     "output_type": "stream",
     "text": [
      " 86%|████████▋ | 4014/4648 [01:05<00:10, 61.06it/s]"
     ]
    },
    {
     "name": "stdout",
     "output_type": "stream",
     "text": [
      "mag.omcassan_2_76_219.det.lc.W149\n"
     ]
    },
    {
     "name": "stderr",
     "output_type": "stream",
     "text": [
      "\r",
      " 87%|████████▋ | 4021/4648 [01:05<00:10, 61.06it/s]"
     ]
    },
    {
     "name": "stdout",
     "output_type": "stream",
     "text": [
      "mag.omcassan_2_87_970.det.lc.W149\n",
      "mag.omcassan_2_88_1615.det.lc.W149\n",
      "mag.omcassan_2_96_1919.det.lc.W149\n",
      "mag.omcassan_2_98_1355.det.lc.W149\n",
      "mag.omcassan_3_101_1518.det.lc.W149\n"
     ]
    },
    {
     "name": "stderr",
     "output_type": "stream",
     "text": [
      " 87%|████████▋ | 4042/4648 [01:06<00:09, 61.07it/s]"
     ]
    },
    {
     "name": "stdout",
     "output_type": "stream",
     "text": [
      "mag.omcassan_3_10_404.det.lc.W149\n",
      "mag.omcassan_3_10_486.det.lc.W149\n",
      "mag.omcassan_3_10_628.det.lc.W149\n",
      "mag.omcassan_3_110_1304.det.lc.W149\n"
     ]
    },
    {
     "name": "stderr",
     "output_type": "stream",
     "text": [
      " 87%|████████▋ | 4056/4648 [01:06<00:09, 61.08it/s]"
     ]
    },
    {
     "name": "stdout",
     "output_type": "stream",
     "text": [
      "mag.omcassan_3_11_2077.det.lc.W149\n",
      "mag.omcassan_3_11_3148.det.lc.W149\n",
      "mag.omcassan_3_18_3023.det.lc.W149\n",
      "mag.omcassan_3_20_1560.det.lc.W149\n",
      "mag.omcassan_3_20_1641.det.lc.W149\n"
     ]
    },
    {
     "name": "stderr",
     "output_type": "stream",
     "text": [
      " 88%|████████▊ | 4070/4648 [01:06<00:09, 61.10it/s]"
     ]
    },
    {
     "name": "stdout",
     "output_type": "stream",
     "text": [
      "mag.omcassan_3_21_3178.det.lc.W149\n",
      "mag.omcassan_3_24_1912.det.lc.W149\n",
      "mag.omcassan_3_31_677.det.lc.W149\n",
      "mag.omcassan_3_33_976.det.lc.W149\n"
     ]
    },
    {
     "name": "stderr",
     "output_type": "stream",
     "text": [
      " 88%|████████▊ | 4091/4648 [01:06<00:09, 61.12it/s]"
     ]
    },
    {
     "name": "stdout",
     "output_type": "stream",
     "text": [
      "mag.omcassan_3_49_397.det.lc.W149\n",
      "mag.omcassan_3_60_1155.det.lc.W149\n",
      "mag.omcassan_3_60_610.det.lc.W149\n",
      "mag.omcassan_3_61_1090.det.lc.W149\n"
     ]
    },
    {
     "name": "stderr",
     "output_type": "stream",
     "text": [
      " 88%|████████▊ | 4105/4648 [01:07<00:08, 61.13it/s]"
     ]
    },
    {
     "name": "stdout",
     "output_type": "stream",
     "text": [
      "mag.omcassan_3_70_2948.det.lc.W149\n",
      "mag.omcassan_3_72_1843.det.lc.W149\n",
      "mag.omcassan_3_72_2269.det.lc.W149\n"
     ]
    },
    {
     "name": "stderr",
     "output_type": "stream",
     "text": [
      " 89%|████████▊ | 4119/4648 [01:07<00:08, 61.15it/s]"
     ]
    },
    {
     "name": "stdout",
     "output_type": "stream",
     "text": [
      "mag.omcassan_3_75_2250.det.lc.W149\n",
      "mag.omcassan_3_76_472.det.lc.W149\n",
      "mag.omcassan_3_83_382.det.lc.W149\n",
      "mag.omcassan_3_84_119.det.lc.W149\n",
      "mag.omcassan_3_86_862.det.lc.W149\n"
     ]
    },
    {
     "name": "stderr",
     "output_type": "stream",
     "text": [
      " 89%|████████▉ | 4133/4648 [01:07<00:08, 61.16it/s]"
     ]
    },
    {
     "name": "stdout",
     "output_type": "stream",
     "text": [
      "mag.omcassan_3_87_49.det.lc.W149\n",
      "mag.omcassan_3_89_51.det.lc.W149\n",
      "mag.omcassan_3_89_57.det.lc.W149\n",
      "mag.omcassan_3_96_1862.det.lc.W149\n",
      "mag.omcassan_3_97_694.det.lc.W149\n"
     ]
    },
    {
     "name": "stderr",
     "output_type": "stream",
     "text": [
      " 89%|████████▉ | 4154/4648 [01:07<00:08, 61.18it/s]"
     ]
    },
    {
     "name": "stdout",
     "output_type": "stream",
     "text": [
      "mag.omcassan_3_9_165.det.lc.W149\n",
      "mag.omcassan_4_100_282.det.lc.W149\n",
      "mag.omcassan_4_100_393.det.lc.W149\n",
      "mag.omcassan_4_102_2853.det.lc.W149\n",
      "mag.omcassan_4_102_369.det.lc.W149\n"
     ]
    },
    {
     "name": "stderr",
     "output_type": "stream",
     "text": [
      " 90%|████████▉ | 4168/4648 [01:08<00:07, 61.19it/s]"
     ]
    },
    {
     "name": "stdout",
     "output_type": "stream",
     "text": [
      "mag.omcassan_4_111_506.det.lc.W149\n",
      "mag.omcassan_4_112_1245.det.lc.W149\n",
      "mag.omcassan_4_112_585.det.lc.W149\n",
      "mag.omcassan_4_115_3069.det.lc.W149\n"
     ]
    },
    {
     "name": "stderr",
     "output_type": "stream",
     "text": [
      " 90%|████████▉ | 4182/4648 [01:08<00:07, 61.19it/s]"
     ]
    },
    {
     "name": "stdout",
     "output_type": "stream",
     "text": [
      "mag.omcassan_4_115_510.det.lc.W149\n",
      "mag.omcassan_4_18_1719.det.lc.W149\n",
      "mag.omcassan_4_20_1994.det.lc.W149\n"
     ]
    },
    {
     "name": "stderr",
     "output_type": "stream",
     "text": [
      " 90%|█████████ | 4196/4648 [01:08<00:07, 61.21it/s]"
     ]
    },
    {
     "name": "stdout",
     "output_type": "stream",
     "text": [
      "mag.omcassan_4_22_1056.det.lc.W149\n",
      "mag.omcassan_4_22_117.det.lc.W149\n",
      "mag.omcassan_4_32_2432.det.lc.W149\n",
      "mag.omcassan_4_32_2978.det.lc.W149\n",
      "mag.omcassan_4_34_1702.det.lc.W149\n"
     ]
    },
    {
     "name": "stderr",
     "output_type": "stream",
     "text": [
      " 91%|█████████ | 4210/4648 [01:08<00:07, 61.22it/s]"
     ]
    },
    {
     "name": "stdout",
     "output_type": "stream",
     "text": [
      "mag.omcassan_4_35_120.det.lc.W149\n",
      "mag.omcassan_4_36_1502.det.lc.W149\n",
      "mag.omcassan_4_45_2664.det.lc.W149\n",
      "mag.omcassan_4_46_1589.det.lc.W149\n",
      "mag.omcassan_4_48_1128.det.lc.W149\n",
      "mag.omcassan_4_48_41.det.lc.W149\n",
      "mag.omcassan_4_49_18.det.lc.W149\n"
     ]
    },
    {
     "name": "stderr",
     "output_type": "stream",
     "text": [
      " 91%|█████████ | 4224/4648 [01:08<00:06, 61.22it/s]"
     ]
    },
    {
     "name": "stdout",
     "output_type": "stream",
     "text": [
      "mag.omcassan_4_50_713.det.lc.W149\n",
      "mag.omcassan_4_57_3017.det.lc.W149\n",
      "mag.omcassan_4_58_965.det.lc.W149\n",
      "mag.omcassan_4_59_1960.det.lc.W149\n"
     ]
    },
    {
     "name": "stderr",
     "output_type": "stream",
     "text": [
      " 91%|█████████ | 4238/4648 [01:09<00:06, 61.22it/s]"
     ]
    },
    {
     "name": "stdout",
     "output_type": "stream",
     "text": [
      "mag.omcassan_4_5_2136.det.lc.W149\n",
      "mag.omcassan_4_5_2998.det.lc.W149\n",
      "mag.omcassan_4_5_3035.det.lc.W149\n",
      "mag.omcassan_4_61_1408.det.lc.W149\n",
      "mag.omcassan_4_61_1697.det.lc.W149\n",
      "mag.omcassan_4_61_418.det.lc.W149\n"
     ]
    },
    {
     "name": "stderr",
     "output_type": "stream",
     "text": [
      " 91%|█████████▏| 4252/4648 [01:09<00:06, 61.24it/s]"
     ]
    },
    {
     "name": "stdout",
     "output_type": "stream",
     "text": [
      "mag.omcassan_4_71_388.det.lc.W149\n",
      "mag.omcassan_4_76_1183.det.lc.W149\n",
      "mag.omcassan_4_7_1120.det.lc.W149\n",
      "mag.omcassan_4_7_1389.det.lc.W149\n",
      "mag.omcassan_4_7_2334.det.lc.W149\n",
      "mag.omcassan_4_85_882.det.lc.W149\n"
     ]
    },
    {
     "name": "stderr",
     "output_type": "stream",
     "text": [
      " 92%|█████████▏| 4266/4648 [01:09<00:06, 61.26it/s]"
     ]
    },
    {
     "name": "stdout",
     "output_type": "stream",
     "text": [
      "mag.omcassan_4_86_3148.det.lc.W149\n",
      "mag.omcassan_4_88_147.det.lc.W149\n",
      "mag.omcassan_4_89_26.det.lc.W149\n"
     ]
    },
    {
     "name": "stderr",
     "output_type": "stream",
     "text": [
      " 92%|█████████▏| 4280/4648 [01:09<00:06, 61.23it/s]"
     ]
    },
    {
     "name": "stdout",
     "output_type": "stream",
     "text": [
      "mag.omcassan_4_98_2078.det.lc.W149\n",
      "mag.omcassan_4_99_747.det.lc.W149\n"
     ]
    },
    {
     "name": "stderr",
     "output_type": "stream",
     "text": [
      " 92%|█████████▏| 4294/4648 [01:10<00:05, 61.23it/s]"
     ]
    },
    {
     "name": "stdout",
     "output_type": "stream",
     "text": [
      "mag.omcassan_5_109_1444.det.lc.W149\n",
      "mag.omcassan_5_115_1345.det.lc.W149\n"
     ]
    },
    {
     "name": "stderr",
     "output_type": "stream",
     "text": [
      " 93%|█████████▎| 4322/4648 [01:10<00:05, 61.26it/s]"
     ]
    },
    {
     "name": "stdout",
     "output_type": "stream",
     "text": [
      "mag.omcassan_5_20_827.det.lc.W149\n",
      "mag.omcassan_5_22_702.det.lc.W149\n",
      "mag.omcassan_5_24_2829.det.lc.W149\n",
      "mag.omcassan_5_31_1788.det.lc.W149\n",
      "mag.omcassan_5_32_2780.det.lc.W149\n"
     ]
    },
    {
     "name": "stderr",
     "output_type": "stream",
     "text": [
      " 93%|█████████▎| 4336/4648 [01:10<00:05, 61.27it/s]"
     ]
    },
    {
     "name": "stdout",
     "output_type": "stream",
     "text": [
      "mag.omcassan_5_32_901.det.lc.W149\n",
      "mag.omcassan_5_33_1030.det.lc.W149\n",
      "mag.omcassan_5_33_2063.det.lc.W149\n",
      "mag.omcassan_5_33_494.det.lc.W149\n",
      "mag.omcassan_5_35_1368.det.lc.W149\n",
      "mag.omcassan_5_36_594.det.lc.W149\n"
     ]
    },
    {
     "name": "stderr",
     "output_type": "stream",
     "text": [
      " 94%|█████████▎| 4350/4648 [01:10<00:04, 61.28it/s]"
     ]
    },
    {
     "name": "stdout",
     "output_type": "stream",
     "text": [
      "mag.omcassan_5_48_2673.det.lc.W149\n",
      "mag.omcassan_5_58_943.det.lc.W149\n",
      "mag.omcassan_5_59_364.det.lc.W149\n",
      "mag.omcassan_5_59_423.det.lc.W149\n"
     ]
    },
    {
     "name": "stderr",
     "output_type": "stream",
     "text": [
      " 94%|█████████▍| 4364/4648 [01:11<00:04, 61.28it/s]"
     ]
    },
    {
     "name": "stdout",
     "output_type": "stream",
     "text": [
      "mag.omcassan_5_59_58.det.lc.W149\n",
      "mag.omcassan_5_63_1267.det.lc.W149\n",
      "mag.omcassan_5_70_1893.det.lc.W149\n"
     ]
    },
    {
     "name": "stderr",
     "output_type": "stream",
     "text": [
      " 94%|█████████▍| 4378/4648 [01:11<00:04, 61.29it/s]"
     ]
    },
    {
     "name": "stdout",
     "output_type": "stream",
     "text": [
      "mag.omcassan_5_72_771.det.lc.W149\n",
      "mag.omcassan_5_73_1293.det.lc.W149\n",
      "mag.omcassan_5_76_1362.det.lc.W149\n",
      "mag.omcassan_5_86_510.det.lc.W149\n"
     ]
    },
    {
     "name": "stderr",
     "output_type": "stream",
     "text": [
      " 94%|█████████▍| 4392/4648 [01:11<00:04, 61.30it/s]"
     ]
    },
    {
     "name": "stdout",
     "output_type": "stream",
     "text": [
      "mag.omcassan_5_96_2508.det.lc.W149\n",
      "mag.omcassan_5_98_680.det.lc.W149\n",
      "mag.omcassan_6_100_449.det.lc.W149\n",
      "mag.omcassan_6_101_674.det.lc.W149\n",
      "mag.omcassan_6_109_1439.det.lc.W149\n"
     ]
    },
    {
     "name": "stderr",
     "output_type": "stream",
     "text": [
      " 95%|█████████▍| 4406/4648 [01:11<00:03, 61.32it/s]"
     ]
    },
    {
     "name": "stdout",
     "output_type": "stream",
     "text": [
      "mag.omcassan_6_110_1017.det.lc.W149\n",
      "mag.omcassan_6_113_876.det.lc.W149\n",
      "mag.omcassan_6_18_778.det.lc.W149\n",
      "mag.omcassan_6_19_780.det.lc.W149\n",
      "mag.omcassan_6_21_1422.det.lc.W149\n",
      "mag.omcassan_6_22_143.det.lc.W149\n"
     ]
    },
    {
     "name": "stderr",
     "output_type": "stream",
     "text": [
      " 95%|█████████▌| 4427/4648 [01:12<00:03, 61.33it/s]"
     ]
    },
    {
     "name": "stdout",
     "output_type": "stream",
     "text": [
      "mag.omcassan_6_31_1211.det.lc.W149\n",
      "mag.omcassan_6_32_1161.det.lc.W149\n",
      "mag.omcassan_6_37_515.det.lc.W149\n",
      "mag.omcassan_6_44_718.det.lc.W149\n",
      "mag.omcassan_6_48_1044.det.lc.W149\n"
     ]
    },
    {
     "name": "stderr",
     "output_type": "stream",
     "text": [
      "\r",
      " 95%|█████████▌| 4434/4648 [01:12<00:03, 61.33it/s]"
     ]
    },
    {
     "name": "stdout",
     "output_type": "stream",
     "text": [
      "mag.omcassan_6_48_138.det.lc.W149\n",
      "mag.omcassan_6_61_1145.det.lc.W149\n",
      "mag.omcassan_6_63_275.det.lc.W149\n",
      "mag.omcassan_6_6_1121.det.lc.W149\n",
      "mag.omcassan_6_6_1314.det.lc.W149\n"
     ]
    },
    {
     "name": "stderr",
     "output_type": "stream",
     "text": [
      " 96%|█████████▌| 4455/4648 [01:12<00:03, 61.34it/s]"
     ]
    },
    {
     "name": "stdout",
     "output_type": "stream",
     "text": [
      "mag.omcassan_6_71_1009.det.lc.W149\n",
      "mag.omcassan_6_73_1158.det.lc.W149\n",
      "mag.omcassan_6_74_46.det.lc.W149\n",
      "mag.omcassan_6_74_69.det.lc.W149\n",
      "mag.omcassan_6_83_728.det.lc.W149\n"
     ]
    },
    {
     "name": "stderr",
     "output_type": "stream",
     "text": [
      " 96%|█████████▌| 4469/4648 [01:12<00:02, 61.34it/s]"
     ]
    },
    {
     "name": "stdout",
     "output_type": "stream",
     "text": [
      "mag.omcassan_6_9_342.det.lc.W149\n",
      "mag.omcassan_6_9_665.det.lc.W149\n",
      "mag.omcassan_7_109_476.det.lc.W149\n",
      "mag.omcassan_7_10_1028.det.lc.W149\n",
      "mag.omcassan_7_110_397.det.lc.W149\n"
     ]
    },
    {
     "name": "stderr",
     "output_type": "stream",
     "text": [
      " 97%|█████████▋| 4490/4648 [01:13<00:02, 61.35it/s]"
     ]
    },
    {
     "name": "stdout",
     "output_type": "stream",
     "text": [
      "mag.omcassan_7_18_1025.det.lc.W149\n",
      "mag.omcassan_7_18_1395.det.lc.W149\n",
      "mag.omcassan_7_19_321.det.lc.W149\n"
     ]
    },
    {
     "name": "stderr",
     "output_type": "stream",
     "text": [
      " 97%|█████████▋| 4511/4648 [01:13<00:02, 61.37it/s]"
     ]
    },
    {
     "name": "stdout",
     "output_type": "stream",
     "text": [
      "mag.omcassan_7_35_1480.det.lc.W149\n",
      "mag.omcassan_7_35_1849.det.lc.W149\n",
      "mag.omcassan_7_45_1506.det.lc.W149\n",
      "mag.omcassan_7_46_132.det.lc.W149\n",
      "mag.omcassan_7_47_674.det.lc.W149\n"
     ]
    },
    {
     "name": "stderr",
     "output_type": "stream",
     "text": [
      " 98%|█████████▊| 4532/4648 [01:13<00:01, 61.37it/s]"
     ]
    },
    {
     "name": "stdout",
     "output_type": "stream",
     "text": [
      "mag.omcassan_7_61_349.det.lc.W149\n",
      "mag.omcassan_7_6_217.det.lc.W149\n",
      "mag.omcassan_7_70_805.det.lc.W149\n",
      "mag.omcassan_7_76_1006.det.lc.W149\n"
     ]
    },
    {
     "name": "stderr",
     "output_type": "stream",
     "text": [
      " 98%|█████████▊| 4546/4648 [01:14<00:01, 61.38it/s]"
     ]
    },
    {
     "name": "stdout",
     "output_type": "stream",
     "text": [
      "mag.omcassan_7_86_1057.det.lc.W149\n",
      "mag.omcassan_8_111_1331.det.lc.W149\n",
      "mag.omcassan_8_112_591.det.lc.W149\n",
      "mag.omcassan_8_11_1083.det.lc.W149\n",
      "mag.omcassan_8_11_432.det.lc.W149\n"
     ]
    },
    {
     "name": "stderr",
     "output_type": "stream",
     "text": [
      " 98%|█████████▊| 4560/4648 [01:14<00:01, 61.39it/s]"
     ]
    },
    {
     "name": "stdout",
     "output_type": "stream",
     "text": [
      "mag.omcassan_8_20_529.det.lc.W149\n",
      "mag.omcassan_8_23_988.det.lc.W149\n",
      "mag.omcassan_8_24_844.det.lc.W149\n",
      "mag.omcassan_8_24_947.det.lc.W149\n",
      "mag.omcassan_8_36_245.det.lc.W149\n"
     ]
    },
    {
     "name": "stderr",
     "output_type": "stream",
     "text": [
      " 98%|█████████▊| 4574/4648 [01:14<00:01, 61.39it/s]"
     ]
    },
    {
     "name": "stdout",
     "output_type": "stream",
     "text": [
      "mag.omcassan_8_50_222.det.lc.W149\n",
      "mag.omcassan_8_61_714.det.lc.W149\n",
      "mag.omcassan_8_75_1283.det.lc.W149\n"
     ]
    },
    {
     "name": "stderr",
     "output_type": "stream",
     "text": [
      " 99%|█████████▉| 4595/4648 [01:14<00:00, 61.40it/s]"
     ]
    },
    {
     "name": "stdout",
     "output_type": "stream",
     "text": [
      "mag.omcassan_8_83_234.det.lc.W149\n",
      "mag.omcassan_8_8_1306.det.lc.W149\n",
      "mag.omcassan_8_96_617.det.lc.W149\n",
      "mag.omcassan_9_100_1029.det.lc.W149\n",
      "mag.omcassan_9_109_347.det.lc.W149\n",
      "mag.omcassan_9_110_116.det.lc.W149\n"
     ]
    },
    {
     "name": "stderr",
     "output_type": "stream",
     "text": [
      " 99%|█████████▉| 4609/4648 [01:15<00:00, 61.41it/s]"
     ]
    },
    {
     "name": "stdout",
     "output_type": "stream",
     "text": [
      "mag.omcassan_9_112_145.det.lc.W149\n",
      "mag.omcassan_9_24_504.det.lc.W149\n",
      "mag.omcassan_9_24_563.det.lc.W149\n",
      "mag.omcassan_9_31_743.det.lc.W149\n"
     ]
    },
    {
     "name": "stderr",
     "output_type": "stream",
     "text": [
      "100%|█████████▉| 4630/4648 [01:15<00:00, 61.43it/s]"
     ]
    },
    {
     "name": "stdout",
     "output_type": "stream",
     "text": [
      "mag.omcassan_9_46_840.det.lc.W149\n",
      "mag.omcassan_9_59_130.det.lc.W149\n",
      "mag.omcassan_9_5_426.det.lc.W149\n",
      "mag.omcassan_9_60_557.det.lc.W149\n"
     ]
    },
    {
     "name": "stderr",
     "output_type": "stream",
     "text": [
      "100%|██████████| 4648/4648 [01:15<00:00, 61.45it/s]"
     ]
    },
    {
     "name": "stdout",
     "output_type": "stream",
     "text": [
      "mag.omcassan_9_84_1101.det.lc.W149\n",
      "mag.omcassan_9_89_499.det.lc.W149\n",
      "mag.omcassan_9_99_932.det.lc.W149\n"
     ]
    },
    {
     "name": "stderr",
     "output_type": "stream",
     "text": [
      "\n"
     ]
    }
   ],
   "source": [
    "\n",
    "for i in tqdm(range(len(result_n['name']))):\n",
    "     \n",
    "    \n",
    "    info.loc[info.name == result_n['name'][i], 't0_exp'] = result_n['t0'][i]\n",
    "    info.loc[info.name == result_n['name'][i], 'tE_exp'] = result_n['tE'][i]\n",
    "    info.loc[info.name == result_n['name'][i], 'u0_exp'] = result_n['u0'][i]\n",
    "    info.loc[info.name == result_n['name'][i], 'chisqr'] = result_n['chisqr'][i]\n",
    "#     info.loc[info.name == result['name'][i], 'f0_exp'] = result['f0_exp'][i]\n",
    "#     info.loc[info.name == result['name'][i], 'min_chi_sqr'] = result['min_chi_sqr'][i]\n",
    "#     info.loc[info.name == result['name'][i], 'chi_sqr_base'] = result['chi_sqr_base'][i]\n",
    "#     info.loc[info.name == result['name'][i], 'chi_sqr_right'] = result['chi_sqr_right'][i]\n",
    "#     info.loc[info.name == result['name'][i], 'chi_sqr_left'] = result['chi_sqr_left'][i]\n",
    "\n",
    "\n",
    "\n",
    "    \n",
    "    if not result_n['name'][i] in info.name.values:\n",
    "        print result_n['name'][i]"
   ]
  },
  {
   "cell_type": "code",
   "execution_count": 26,
   "metadata": {
    "collapsed": true
   },
   "outputs": [],
   "source": [
    "info = info.reset_index()"
   ]
  },
  {
   "cell_type": "code",
   "execution_count": 27,
   "metadata": {},
   "outputs": [
    {
     "name": "stderr",
     "output_type": "stream",
     "text": [
      "  0%|          | 0/4769 [00:00<?, ?it/s]/Users/Research/Library/Enthought/Canopy_64bit/User/lib/python2.7/site-packages/ipykernel/__main__.py:7: FutureWarning: set_value is deprecated and will be removed in a future release. Please use .at[] or .iat[] accessors instead\n",
      " 26%|██▌       | 1222/4769 [00:00<00:00, 12212.32it/s]/Users/Research/Library/Enthought/Canopy_64bit/User/lib/python2.7/site-packages/ipykernel/__main__.py:19: FutureWarning: set_value is deprecated and will be removed in a future release. Please use .at[] or .iat[] accessors instead\n",
      "/Users/Research/Library/Enthought/Canopy_64bit/User/lib/python2.7/site-packages/ipykernel/__main__.py:11: FutureWarning: set_value is deprecated and will be removed in a future release. Please use .at[] or .iat[] accessors instead\n",
      " 57%|█████▋    | 2704/4769 [00:00<00:00, 13488.79it/s]/Users/Research/Library/Enthought/Canopy_64bit/User/lib/python2.7/site-packages/ipykernel/__main__.py:15: FutureWarning: set_value is deprecated and will be removed in a future release. Please use .at[] or .iat[] accessors instead\n",
      "100%|██████████| 4769/4769 [00:00<00:00, 13099.96it/s]\n"
     ]
    }
   ],
   "source": [
    "info['type'] = np.zeros(len(info))\n",
    "\n",
    "for i in tqdm(range(len(info))):\n",
    "    \n",
    "    if info['name'][i].split('mag')[1].startswith('.ombin'):\n",
    "        \n",
    "        info.set_value(i, 'type', 1)\n",
    "        \n",
    "    if info['name'][i].split('mag')[1].startswith('.dccv'):\n",
    "        \n",
    "        info.set_value(i, 'type', 0)\n",
    "        \n",
    "    if info['name'][i].split('mag')[1].startswith('.dcnormffp'):\n",
    "        \n",
    "        info.set_value(i, 'type', 3)\n",
    "        \n",
    "    if info['name'][i].split('mag')[1].startswith('.omcassan'):\n",
    "        \n",
    "        info.set_value(i, 'type', 2)"
   ]
  },
  {
   "cell_type": "code",
   "execution_count": 56,
   "metadata": {
    "collapsed": true
   },
   "outputs": [],
   "source": [
    "info['t0_exp'] = info.t0_exp - 2458234"
   ]
  },
  {
   "cell_type": "code",
   "execution_count": 80,
   "metadata": {
    "collapsed": true
   },
   "outputs": [],
   "source": [
    "info = info[np.abs((info.t0_exp)-(info.t0))<10]"
   ]
  },
  {
   "cell_type": "code",
   "execution_count": 90,
   "metadata": {},
   "outputs": [
    {
     "data": {
      "image/png": "[encoded data removed]",
      "text/plain": [
       "<matplotlib.figure.Figure at 0x29e123410>"
      ]
     },
     "metadata": {},
     "output_type": "display_data"
    }
   ],
   "source": [
    "# General format for plotting different parameters versus each other \n",
    "\n",
    "fig, axs = plt.subplots(2, 2, sharex=True, sharey=True)\n",
    "\n",
    "x = 'tE_exp'\n",
    "y = 'chisqr'\n",
    "c = 1\n",
    "\n",
    "axs[0,0].plot((info[x][info['type']==0]).astype(float).abs(),c*(info[y][info['type']==0]).astype(float).abs(), '.',markersize=18, label= 'CV',color='r')\n",
    "axs[0,0].grid()\n",
    "axs[0,0].legend()\n",
    "axs[0,1].plot((info[x][info['type']==1]).astype(float).abs(),c*(info[y][info['type']==1]).astype(float).abs(), '.',markersize=18, label= 'Binary', color='g')\n",
    "axs[0,1].plot((info[x][info['type']==1]).astype(float).abs(),(info[x][info['type']==1]).astype(float).abs(), 'r-')\n",
    "axs[0,1].grid()\n",
    "axs[0,1].legend()\n",
    "axs[1,0].plot((info[x][info['type']==2]).astype(float).abs(),c*(info[y][info['type']==2]).astype(float).abs(), '.',markersize=18, label= 'Planetary',  color = 'orange')\n",
    "axs[1,0].plot((info[x][info['type']==2]).astype(float).abs(),(info[x][info['type']==2]).astype(float).abs(), 'g-')\n",
    "axs[1,0].grid()\n",
    "axs[1,0].legend()\n",
    "axs[1,1].plot((info[x][info['type']==3]).astype(float).abs(),c*(info[y][info['type']==3]).astype(float).abs(), '.',markersize=18, label= 'PSPL/FFP', color='blue')\n",
    "axs[1,1].plot((info[x][info['type']==3]).astype(float).abs(),(info[x][info['type']==3]).astype(float).abs(), 'g-')\n",
    "axs[1,1].grid()\n",
    "axs[1,1].legend()\n",
    "\n",
    "\n",
    "axs[0, 1].tick_params(axis='x',which='both', bottom='off', top='off',labelbottom='off')\n",
    "axs[0, 1].tick_params(axis='y',which='both', bottom='right', top='left',labelleft='off',length=0)\n",
    "\n",
    "axs[0, 0].tick_params(axis='y',which='both', labelsize=12)\n",
    "axs[1, 0].tick_params(axis='both',which='both', labelsize=12)\n",
    "axs[1, 1].tick_params(axis='x',which='both', labelsize=12)\n",
    "\n",
    "plt.yscale('log')\n",
    "plt.xscale('log')\n",
    "\n",
    "\n",
    "\n",
    "axs[0, 0].tick_params(axis='x',which='both', bottom='off', top='off',labelbottom='off')\n",
    "axs[1, 1].tick_params(axis='y',which='both', bottom='right', top='left',labelleft='off', length=0)\n",
    "\n",
    "xlim = (0,0.1)\n",
    "ylim = (0,2)\n",
    "\n",
    "# axs[0,0].set_ylim(ylim)\n",
    "# axs[0,0].set_xlim(xlim)\n",
    "# axs[0,1].set_ylim(ylim)\n",
    "# axs[0,1].set_xlim(xlim)\n",
    "# axs[1,0].set_ylim(ylim)\n",
    "# axs[1,0].set_xlim(xlim)\n",
    "# axs[1,1].set_ylim(ylim)\n",
    "# axs[1,1].set_xlim(xlim)\n",
    "\n",
    "#axs[0,0].set_xscale('log')\n",
    "\n",
    "plt.subplots_adjust(left=None, bottom=None, right=None, top=None,\n",
    "                    wspace=0.05, hspace=0.08) \n",
    "\n",
    "fig.text(0.5, 0.07, x, ha='center',size=30)\n",
    "fig.text(0.07, 0.5, y, va='center', rotation='vertical',size=30)\n",
    "\n",
    "fig = plt.gcf()\n",
    "fig.set_size_inches(20.0,15.0)\n",
    "#fig.savefig('a4-a2.png')"
   ]
  },
  {
   "cell_type": "code",
   "execution_count": 86,
   "metadata": {},
   "outputs": [
    {
     "data": {
      "image/png": "[encoded data removed]",
      "text/plain": [
       "<matplotlib.figure.Figure at 0x21e8824d0>"
      ]
     },
     "metadata": {},
     "output_type": "display_data"
    }
   ],
   "source": [
    "x = 'tE_exp'\n",
    "# plt.plot(info[x][info.type==0], info['chisqr'][info.type==0],'r.')\n",
    "plt.plot(info[x][info.type==1], info['chisqr'][info.type==1],'b.')\n",
    "# plt.plot(info[x][info.type==2], info['chisqr'][info.type==2],'g.')\n",
    "# plt.plot(info[x][info.type==3], info['chisqr'][info.type==3],'k.')\n",
    "\n",
    "plt.plot(info[x][(info.type==1)& (info.tE_exp<1)], info['chisqr'][(info.type==1)& (info.tE_exp<1)],'g.')\n",
    "\n",
    "\n",
    "\n",
    "\n",
    "plt.yscale('log')\n",
    "plt.xscale('log')\n",
    "\n",
    "\n"
   ]
  },
  {
   "cell_type": "code",
   "execution_count": 107,
   "metadata": {},
   "outputs": [
    {
     "data": {
      "text/html": [
       "<div>\n",
       "<style scoped>\n",
       "    .dataframe tbody tr th:only-of-type {\n",
       "        vertical-align: middle;\n",
       "    }\n",
       "\n",
       "    .dataframe tbody tr th {\n",
       "        vertical-align: top;\n",
       "    }\n",
       "\n",
       "    .dataframe thead th {\n",
       "        text-align: right;\n",
       "    }\n",
       "</style>\n",
       "<table border=\"1\" class=\"dataframe\">\n",
       "  <thead>\n",
       "    <tr style=\"text-align: right;\">\n",
       "      <th></th>\n",
       "      <th>name</th>\n",
       "      <th>t0</th>\n",
       "      <th>t0_exp</th>\n",
       "      <th>tE</th>\n",
       "      <th>tE_exp</th>\n",
       "      <th>u0</th>\n",
       "    </tr>\n",
       "  </thead>\n",
       "  <tbody>\n",
       "    <tr>\n",
       "      <th>2</th>\n",
       "      <td>mag.ombin_0_0_60.det.lc.W149</td>\n",
       "      <td>169.019466</td>\n",
       "      <td>176.358484</td>\n",
       "      <td>7.50919</td>\n",
       "      <td>1.207512</td>\n",
       "      <td>2.967330</td>\n",
       "    </tr>\n",
       "    <tr>\n",
       "      <th>3</th>\n",
       "      <td>mag.ombin_0_0_132.det.lc.W149</td>\n",
       "      <td>319.655103</td>\n",
       "      <td>325.040223</td>\n",
       "      <td>3.33592</td>\n",
       "      <td>0.710735</td>\n",
       "      <td>0.977095</td>\n",
       "    </tr>\n",
       "    <tr>\n",
       "      <th>4</th>\n",
       "      <td>mag.ombin_0_0_140.det.lc.W149</td>\n",
       "      <td>1619.996012</td>\n",
       "      <td>1618.989138</td>\n",
       "      <td>42.96330</td>\n",
       "      <td>35.685233</td>\n",
       "      <td>2.071580</td>\n",
       "    </tr>\n",
       "    <tr>\n",
       "      <th>5</th>\n",
       "      <td>mag.ombin_0_0_192.det.lc.W149</td>\n",
       "      <td>332.052409</td>\n",
       "      <td>327.873854</td>\n",
       "      <td>18.52240</td>\n",
       "      <td>15.233037</td>\n",
       "      <td>-0.780478</td>\n",
       "    </tr>\n",
       "    <tr>\n",
       "      <th>6</th>\n",
       "      <td>mag.ombin_0_0_203.det.lc.W149</td>\n",
       "      <td>1596.450909</td>\n",
       "      <td>1597.777695</td>\n",
       "      <td>19.87870</td>\n",
       "      <td>21.076187</td>\n",
       "      <td>1.606100</td>\n",
       "    </tr>\n",
       "    <tr>\n",
       "      <th>7</th>\n",
       "      <td>mag.ombin_0_0_232.det.lc.W149</td>\n",
       "      <td>1377.841993</td>\n",
       "      <td>1383.947279</td>\n",
       "      <td>12.17630</td>\n",
       "      <td>6.635292</td>\n",
       "      <td>-2.557920</td>\n",
       "    </tr>\n",
       "    <tr>\n",
       "      <th>10</th>\n",
       "      <td>mag.ombin_0_0_366.det.lc.W149</td>\n",
       "      <td>1446.730780</td>\n",
       "      <td>1446.729923</td>\n",
       "      <td>10.92700</td>\n",
       "      <td>10.103709</td>\n",
       "      <td>-0.683501</td>\n",
       "    </tr>\n",
       "    <tr>\n",
       "      <th>13</th>\n",
       "      <td>mag.ombin_0_1_49.det.lc.W149</td>\n",
       "      <td>1582.142678</td>\n",
       "      <td>1576.031840</td>\n",
       "      <td>7.51422</td>\n",
       "      <td>4.656136</td>\n",
       "      <td>-1.577730</td>\n",
       "    </tr>\n",
       "    <tr>\n",
       "      <th>14</th>\n",
       "      <td>mag.ombin_0_1_58.det.lc.W149</td>\n",
       "      <td>311.890669</td>\n",
       "      <td>303.728166</td>\n",
       "      <td>7.21004</td>\n",
       "      <td>5.032805</td>\n",
       "      <td>1.197610</td>\n",
       "    </tr>\n",
       "    <tr>\n",
       "      <th>18</th>\n",
       "      <td>mag.ombin_0_1_234.det.lc.W149</td>\n",
       "      <td>1407.159796</td>\n",
       "      <td>1407.465057</td>\n",
       "      <td>40.34530</td>\n",
       "      <td>11.459269</td>\n",
       "      <td>0.246509</td>\n",
       "    </tr>\n",
       "    <tr>\n",
       "      <th>19</th>\n",
       "      <td>mag.ombin_0_1_305.det.lc.W149</td>\n",
       "      <td>1582.161128</td>\n",
       "      <td>1586.028734</td>\n",
       "      <td>5.69711</td>\n",
       "      <td>4.379145</td>\n",
       "      <td>0.308362</td>\n",
       "    </tr>\n",
       "    <tr>\n",
       "      <th>20</th>\n",
       "      <td>mag.ombin_0_1_339.det.lc.W149</td>\n",
       "      <td>358.600493</td>\n",
       "      <td>357.997702</td>\n",
       "      <td>18.48490</td>\n",
       "      <td>16.384190</td>\n",
       "      <td>0.652415</td>\n",
       "    </tr>\n",
       "    <tr>\n",
       "      <th>21</th>\n",
       "      <td>mag.ombin_0_1_354.det.lc.W149</td>\n",
       "      <td>1806.052381</td>\n",
       "      <td>1805.153189</td>\n",
       "      <td>15.74250</td>\n",
       "      <td>5.053577</td>\n",
       "      <td>0.694878</td>\n",
       "    </tr>\n",
       "    <tr>\n",
       "      <th>23</th>\n",
       "      <td>mag.ombin_0_1_428.det.lc.W149</td>\n",
       "      <td>166.254194</td>\n",
       "      <td>164.742927</td>\n",
       "      <td>18.20090</td>\n",
       "      <td>10.351651</td>\n",
       "      <td>0.210047</td>\n",
       "    </tr>\n",
       "    <tr>\n",
       "      <th>24</th>\n",
       "      <td>mag.ombin_0_1_449.det.lc.W149</td>\n",
       "      <td>253.493325</td>\n",
       "      <td>260.009864</td>\n",
       "      <td>17.00790</td>\n",
       "      <td>16.874203</td>\n",
       "      <td>-0.535092</td>\n",
       "    </tr>\n",
       "    <tr>\n",
       "      <th>28</th>\n",
       "      <td>mag.ombin_0_10_100.det.lc.W149</td>\n",
       "      <td>289.519269</td>\n",
       "      <td>282.433361</td>\n",
       "      <td>22.47660</td>\n",
       "      <td>17.161906</td>\n",
       "      <td>-0.072667</td>\n",
       "    </tr>\n",
       "    <tr>\n",
       "      <th>38</th>\n",
       "      <td>mag.ombin_0_10_472.det.lc.W149</td>\n",
       "      <td>128.634046</td>\n",
       "      <td>128.687595</td>\n",
       "      <td>5.70492</td>\n",
       "      <td>3.259555</td>\n",
       "      <td>-0.356362</td>\n",
       "    </tr>\n",
       "    <tr>\n",
       "      <th>40</th>\n",
       "      <td>mag.ombin_0_10_494.det.lc.W149</td>\n",
       "      <td>302.759525</td>\n",
       "      <td>302.869734</td>\n",
       "      <td>11.20060</td>\n",
       "      <td>3.389945</td>\n",
       "      <td>0.214324</td>\n",
       "    </tr>\n",
       "    <tr>\n",
       "      <th>43</th>\n",
       "      <td>mag.ombin_0_11_107.det.lc.W149</td>\n",
       "      <td>1603.695538</td>\n",
       "      <td>1603.659073</td>\n",
       "      <td>11.60120</td>\n",
       "      <td>1.056235</td>\n",
       "      <td>-0.037466</td>\n",
       "    </tr>\n",
       "    <tr>\n",
       "      <th>58</th>\n",
       "      <td>mag.ombin_0_12_259.det.lc.W149</td>\n",
       "      <td>139.785736</td>\n",
       "      <td>139.797158</td>\n",
       "      <td>68.01140</td>\n",
       "      <td>68.337484</td>\n",
       "      <td>0.488124</td>\n",
       "    </tr>\n",
       "    <tr>\n",
       "      <th>63</th>\n",
       "      <td>mag.ombin_0_12_424.det.lc.W149</td>\n",
       "      <td>323.904418</td>\n",
       "      <td>315.863067</td>\n",
       "      <td>18.81320</td>\n",
       "      <td>18.164440</td>\n",
       "      <td>1.887480</td>\n",
       "    </tr>\n",
       "    <tr>\n",
       "      <th>67</th>\n",
       "      <td>mag.ombin_0_13_20.det.lc.W149</td>\n",
       "      <td>1597.666454</td>\n",
       "      <td>1597.780761</td>\n",
       "      <td>11.93120</td>\n",
       "      <td>7.929815</td>\n",
       "      <td>0.616197</td>\n",
       "    </tr>\n",
       "    <tr>\n",
       "      <th>70</th>\n",
       "      <td>mag.ombin_0_13_77.det.lc.W149</td>\n",
       "      <td>1581.781824</td>\n",
       "      <td>1574.259081</td>\n",
       "      <td>9.43119</td>\n",
       "      <td>9.641251</td>\n",
       "      <td>2.430580</td>\n",
       "    </tr>\n",
       "    <tr>\n",
       "      <th>71</th>\n",
       "      <td>mag.ombin_0_13_103.det.lc.W149</td>\n",
       "      <td>1428.170897</td>\n",
       "      <td>1430.695682</td>\n",
       "      <td>12.81420</td>\n",
       "      <td>9.768631</td>\n",
       "      <td>1.371670</td>\n",
       "    </tr>\n",
       "    <tr>\n",
       "      <th>72</th>\n",
       "      <td>mag.ombin_0_13_148.det.lc.W149</td>\n",
       "      <td>112.625140</td>\n",
       "      <td>112.505461</td>\n",
       "      <td>18.85520</td>\n",
       "      <td>3.537869</td>\n",
       "      <td>1.833020</td>\n",
       "    </tr>\n",
       "    <tr>\n",
       "      <th>73</th>\n",
       "      <td>mag.ombin_0_13_189.det.lc.W149</td>\n",
       "      <td>318.900629</td>\n",
       "      <td>318.980619</td>\n",
       "      <td>20.82850</td>\n",
       "      <td>2.693288</td>\n",
       "      <td>0.154889</td>\n",
       "    </tr>\n",
       "    <tr>\n",
       "      <th>74</th>\n",
       "      <td>mag.ombin_0_13_194.det.lc.W149</td>\n",
       "      <td>1709.879007</td>\n",
       "      <td>1705.782911</td>\n",
       "      <td>76.01040</td>\n",
       "      <td>63.736205</td>\n",
       "      <td>2.557880</td>\n",
       "    </tr>\n",
       "    <tr>\n",
       "      <th>75</th>\n",
       "      <td>mag.ombin_0_13_208.det.lc.W149</td>\n",
       "      <td>345.210510</td>\n",
       "      <td>344.757149</td>\n",
       "      <td>11.58460</td>\n",
       "      <td>1.594893</td>\n",
       "      <td>0.076795</td>\n",
       "    </tr>\n",
       "    <tr>\n",
       "      <th>76</th>\n",
       "      <td>mag.ombin_0_13_216.det.lc.W149</td>\n",
       "      <td>309.742619</td>\n",
       "      <td>309.792326</td>\n",
       "      <td>13.55460</td>\n",
       "      <td>13.004812</td>\n",
       "      <td>0.544644</td>\n",
       "    </tr>\n",
       "    <tr>\n",
       "      <th>77</th>\n",
       "      <td>mag.ombin_0_13_250.det.lc.W149</td>\n",
       "      <td>356.281331</td>\n",
       "      <td>349.651352</td>\n",
       "      <td>40.16770</td>\n",
       "      <td>33.967745</td>\n",
       "      <td>-0.296111</td>\n",
       "    </tr>\n",
       "    <tr>\n",
       "      <th>...</th>\n",
       "      <td>...</td>\n",
       "      <td>...</td>\n",
       "      <td>...</td>\n",
       "      <td>...</td>\n",
       "      <td>...</td>\n",
       "      <td>...</td>\n",
       "    </tr>\n",
       "    <tr>\n",
       "      <th>1366</th>\n",
       "      <td>mag.ombin_0_94_138.det.lc.W149</td>\n",
       "      <td>1755.479434</td>\n",
       "      <td>1758.356623</td>\n",
       "      <td>10.70990</td>\n",
       "      <td>1.406451</td>\n",
       "      <td>-0.607357</td>\n",
       "    </tr>\n",
       "    <tr>\n",
       "      <th>1377</th>\n",
       "      <td>mag.ombin_0_94_471.det.lc.W149</td>\n",
       "      <td>1613.814656</td>\n",
       "      <td>1607.977279</td>\n",
       "      <td>18.68700</td>\n",
       "      <td>14.910776</td>\n",
       "      <td>1.162910</td>\n",
       "    </tr>\n",
       "    <tr>\n",
       "      <th>1381</th>\n",
       "      <td>mag.ombin_0_95_50.det.lc.W149</td>\n",
       "      <td>161.681269</td>\n",
       "      <td>161.423151</td>\n",
       "      <td>11.74240</td>\n",
       "      <td>9.150729</td>\n",
       "      <td>0.878402</td>\n",
       "    </tr>\n",
       "    <tr>\n",
       "      <th>1382</th>\n",
       "      <td>mag.ombin_0_95_181.det.lc.W149</td>\n",
       "      <td>1597.122898</td>\n",
       "      <td>1599.046014</td>\n",
       "      <td>6.20827</td>\n",
       "      <td>5.325546</td>\n",
       "      <td>2.124320</td>\n",
       "    </tr>\n",
       "    <tr>\n",
       "      <th>1386</th>\n",
       "      <td>mag.ombin_0_95_489.det.lc.W149</td>\n",
       "      <td>1593.995499</td>\n",
       "      <td>1595.368533</td>\n",
       "      <td>16.73720</td>\n",
       "      <td>8.664663</td>\n",
       "      <td>0.591039</td>\n",
       "    </tr>\n",
       "    <tr>\n",
       "      <th>1389</th>\n",
       "      <td>mag.ombin_0_96_171.det.lc.W149</td>\n",
       "      <td>513.619253</td>\n",
       "      <td>514.903171</td>\n",
       "      <td>20.28450</td>\n",
       "      <td>7.420876</td>\n",
       "      <td>-2.142910</td>\n",
       "    </tr>\n",
       "    <tr>\n",
       "      <th>1392</th>\n",
       "      <td>mag.ombin_0_96_247.det.lc.W149</td>\n",
       "      <td>1423.147699</td>\n",
       "      <td>1424.807156</td>\n",
       "      <td>4.64040</td>\n",
       "      <td>0.647714</td>\n",
       "      <td>-0.231439</td>\n",
       "    </tr>\n",
       "    <tr>\n",
       "      <th>1395</th>\n",
       "      <td>mag.ombin_0_96_367.det.lc.W149</td>\n",
       "      <td>1389.429685</td>\n",
       "      <td>1392.418446</td>\n",
       "      <td>8.46926</td>\n",
       "      <td>2.699694</td>\n",
       "      <td>-0.897137</td>\n",
       "    </tr>\n",
       "    <tr>\n",
       "      <th>1396</th>\n",
       "      <td>mag.ombin_0_96_447.det.lc.W149</td>\n",
       "      <td>1602.818443</td>\n",
       "      <td>1603.252536</td>\n",
       "      <td>9.49234</td>\n",
       "      <td>5.481192</td>\n",
       "      <td>0.962080</td>\n",
       "    </tr>\n",
       "    <tr>\n",
       "      <th>1397</th>\n",
       "      <td>mag.ombin_0_96_448.det.lc.W149</td>\n",
       "      <td>1753.034207</td>\n",
       "      <td>1749.345615</td>\n",
       "      <td>33.29070</td>\n",
       "      <td>5.752708</td>\n",
       "      <td>0.024795</td>\n",
       "    </tr>\n",
       "    <tr>\n",
       "      <th>1399</th>\n",
       "      <td>mag.ombin_0_96_472.det.lc.W149</td>\n",
       "      <td>1616.248861</td>\n",
       "      <td>1618.651650</td>\n",
       "      <td>104.18800</td>\n",
       "      <td>104.405461</td>\n",
       "      <td>0.912464</td>\n",
       "    </tr>\n",
       "    <tr>\n",
       "      <th>1402</th>\n",
       "      <td>mag.ombin_0_97_165.det.lc.W149</td>\n",
       "      <td>1671.062438</td>\n",
       "      <td>1673.555088</td>\n",
       "      <td>36.37560</td>\n",
       "      <td>10.210005</td>\n",
       "      <td>0.368738</td>\n",
       "    </tr>\n",
       "    <tr>\n",
       "      <th>1408</th>\n",
       "      <td>mag.ombin_0_97_247.det.lc.W149</td>\n",
       "      <td>1779.833822</td>\n",
       "      <td>1779.994859</td>\n",
       "      <td>16.41680</td>\n",
       "      <td>13.443876</td>\n",
       "      <td>-0.567055</td>\n",
       "    </tr>\n",
       "    <tr>\n",
       "      <th>1411</th>\n",
       "      <td>mag.ombin_0_97_406.det.lc.W149</td>\n",
       "      <td>1457.796839</td>\n",
       "      <td>1457.461617</td>\n",
       "      <td>4.83067</td>\n",
       "      <td>4.197078</td>\n",
       "      <td>-1.007920</td>\n",
       "    </tr>\n",
       "    <tr>\n",
       "      <th>1412</th>\n",
       "      <td>mag.ombin_0_97_444.det.lc.W149</td>\n",
       "      <td>357.393993</td>\n",
       "      <td>357.321638</td>\n",
       "      <td>5.51340</td>\n",
       "      <td>3.954065</td>\n",
       "      <td>-0.339838</td>\n",
       "    </tr>\n",
       "    <tr>\n",
       "      <th>1413</th>\n",
       "      <td>mag.ombin_0_97_473.det.lc.W149</td>\n",
       "      <td>1650.858466</td>\n",
       "      <td>1647.757077</td>\n",
       "      <td>11.43400</td>\n",
       "      <td>9.630741</td>\n",
       "      <td>1.418850</td>\n",
       "    </tr>\n",
       "    <tr>\n",
       "      <th>1414</th>\n",
       "      <td>mag.ombin_0_97_479.det.lc.W149</td>\n",
       "      <td>115.807230</td>\n",
       "      <td>112.505461</td>\n",
       "      <td>2.10408</td>\n",
       "      <td>2.741394</td>\n",
       "      <td>-2.691160</td>\n",
       "    </tr>\n",
       "    <tr>\n",
       "      <th>1415</th>\n",
       "      <td>mag.ombin_0_97_494.det.lc.W149</td>\n",
       "      <td>335.751070</td>\n",
       "      <td>338.991597</td>\n",
       "      <td>49.00360</td>\n",
       "      <td>6.208475</td>\n",
       "      <td>0.328875</td>\n",
       "    </tr>\n",
       "    <tr>\n",
       "      <th>1417</th>\n",
       "      <td>mag.ombin_0_98_162.det.lc.W149</td>\n",
       "      <td>537.904513</td>\n",
       "      <td>532.415346</td>\n",
       "      <td>15.09860</td>\n",
       "      <td>11.204486</td>\n",
       "      <td>-2.853660</td>\n",
       "    </tr>\n",
       "    <tr>\n",
       "      <th>1418</th>\n",
       "      <td>mag.ombin_0_98_245.det.lc.W149</td>\n",
       "      <td>289.289542</td>\n",
       "      <td>291.782942</td>\n",
       "      <td>59.47150</td>\n",
       "      <td>43.412950</td>\n",
       "      <td>-0.413542</td>\n",
       "    </tr>\n",
       "    <tr>\n",
       "      <th>1421</th>\n",
       "      <td>mag.ombin_0_98_317.det.lc.W149</td>\n",
       "      <td>489.016269</td>\n",
       "      <td>493.132086</td>\n",
       "      <td>22.45700</td>\n",
       "      <td>12.773910</td>\n",
       "      <td>-0.037032</td>\n",
       "    </tr>\n",
       "    <tr>\n",
       "      <th>1422</th>\n",
       "      <td>mag.ombin_0_98_334.det.lc.W149</td>\n",
       "      <td>357.864110</td>\n",
       "      <td>356.838193</td>\n",
       "      <td>16.21340</td>\n",
       "      <td>9.284638</td>\n",
       "      <td>-0.880945</td>\n",
       "    </tr>\n",
       "    <tr>\n",
       "      <th>1424</th>\n",
       "      <td>mag.ombin_0_98_392.det.lc.W149</td>\n",
       "      <td>129.033956</td>\n",
       "      <td>128.672801</td>\n",
       "      <td>11.92570</td>\n",
       "      <td>8.503871</td>\n",
       "      <td>0.254364</td>\n",
       "    </tr>\n",
       "    <tr>\n",
       "      <th>1428</th>\n",
       "      <td>mag.ombin_0_99_1.det.lc.W149</td>\n",
       "      <td>122.302304</td>\n",
       "      <td>123.283322</td>\n",
       "      <td>40.02310</td>\n",
       "      <td>8.104614</td>\n",
       "      <td>-0.218109</td>\n",
       "    </tr>\n",
       "    <tr>\n",
       "      <th>1429</th>\n",
       "      <td>mag.ombin_0_99_4.det.lc.W149</td>\n",
       "      <td>164.092591</td>\n",
       "      <td>165.516005</td>\n",
       "      <td>10.64810</td>\n",
       "      <td>10.762961</td>\n",
       "      <td>0.964897</td>\n",
       "    </tr>\n",
       "    <tr>\n",
       "      <th>1430</th>\n",
       "      <td>mag.ombin_0_99_66.det.lc.W149</td>\n",
       "      <td>166.658882</td>\n",
       "      <td>161.959997</td>\n",
       "      <td>18.38350</td>\n",
       "      <td>5.058304</td>\n",
       "      <td>-1.192480</td>\n",
       "    </tr>\n",
       "    <tr>\n",
       "      <th>1432</th>\n",
       "      <td>mag.ombin_0_99_107.det.lc.W149</td>\n",
       "      <td>347.150997</td>\n",
       "      <td>347.256440</td>\n",
       "      <td>8.75883</td>\n",
       "      <td>7.809982</td>\n",
       "      <td>1.579070</td>\n",
       "    </tr>\n",
       "    <tr>\n",
       "      <th>1435</th>\n",
       "      <td>mag.ombin_0_99_188.det.lc.W149</td>\n",
       "      <td>1802.860528</td>\n",
       "      <td>1802.860188</td>\n",
       "      <td>20.18690</td>\n",
       "      <td>18.474397</td>\n",
       "      <td>0.680908</td>\n",
       "    </tr>\n",
       "    <tr>\n",
       "      <th>1438</th>\n",
       "      <td>mag.ombin_0_99_333.det.lc.W149</td>\n",
       "      <td>341.784586</td>\n",
       "      <td>343.120808</td>\n",
       "      <td>37.84320</td>\n",
       "      <td>24.487496</td>\n",
       "      <td>0.954590</td>\n",
       "    </tr>\n",
       "    <tr>\n",
       "      <th>1439</th>\n",
       "      <td>mag.ombin_0_99_339.det.lc.W149</td>\n",
       "      <td>1418.817934</td>\n",
       "      <td>1419.870544</td>\n",
       "      <td>7.63227</td>\n",
       "      <td>4.757771</td>\n",
       "      <td>-0.597031</td>\n",
       "    </tr>\n",
       "  </tbody>\n",
       "</table>\n",
       "<p>400 rows × 6 columns</p>\n",
       "</div>"
      ],
      "text/plain": [
       "                                name           t0       t0_exp         tE  \\\n",
       "2       mag.ombin_0_0_60.det.lc.W149   169.019466   176.358484    7.50919   \n",
       "3      mag.ombin_0_0_132.det.lc.W149   319.655103   325.040223    3.33592   \n",
       "4      mag.ombin_0_0_140.det.lc.W149  1619.996012  1618.989138   42.96330   \n",
       "5      mag.ombin_0_0_192.det.lc.W149   332.052409   327.873854   18.52240   \n",
       "6      mag.ombin_0_0_203.det.lc.W149  1596.450909  1597.777695   19.87870   \n",
       "7      mag.ombin_0_0_232.det.lc.W149  1377.841993  1383.947279   12.17630   \n",
       "10     mag.ombin_0_0_366.det.lc.W149  1446.730780  1446.729923   10.92700   \n",
       "13      mag.ombin_0_1_49.det.lc.W149  1582.142678  1576.031840    7.51422   \n",
       "14      mag.ombin_0_1_58.det.lc.W149   311.890669   303.728166    7.21004   \n",
       "18     mag.ombin_0_1_234.det.lc.W149  1407.159796  1407.465057   40.34530   \n",
       "19     mag.ombin_0_1_305.det.lc.W149  1582.161128  1586.028734    5.69711   \n",
       "20     mag.ombin_0_1_339.det.lc.W149   358.600493   357.997702   18.48490   \n",
       "21     mag.ombin_0_1_354.det.lc.W149  1806.052381  1805.153189   15.74250   \n",
       "23     mag.ombin_0_1_428.det.lc.W149   166.254194   164.742927   18.20090   \n",
       "24     mag.ombin_0_1_449.det.lc.W149   253.493325   260.009864   17.00790   \n",
       "28    mag.ombin_0_10_100.det.lc.W149   289.519269   282.433361   22.47660   \n",
       "38    mag.ombin_0_10_472.det.lc.W149   128.634046   128.687595    5.70492   \n",
       "40    mag.ombin_0_10_494.det.lc.W149   302.759525   302.869734   11.20060   \n",
       "43    mag.ombin_0_11_107.det.lc.W149  1603.695538  1603.659073   11.60120   \n",
       "58    mag.ombin_0_12_259.det.lc.W149   139.785736   139.797158   68.01140   \n",
       "63    mag.ombin_0_12_424.det.lc.W149   323.904418   315.863067   18.81320   \n",
       "67     mag.ombin_0_13_20.det.lc.W149  1597.666454  1597.780761   11.93120   \n",
       "70     mag.ombin_0_13_77.det.lc.W149  1581.781824  1574.259081    9.43119   \n",
       "71    mag.ombin_0_13_103.det.lc.W149  1428.170897  1430.695682   12.81420   \n",
       "72    mag.ombin_0_13_148.det.lc.W149   112.625140   112.505461   18.85520   \n",
       "73    mag.ombin_0_13_189.det.lc.W149   318.900629   318.980619   20.82850   \n",
       "74    mag.ombin_0_13_194.det.lc.W149  1709.879007  1705.782911   76.01040   \n",
       "75    mag.ombin_0_13_208.det.lc.W149   345.210510   344.757149   11.58460   \n",
       "76    mag.ombin_0_13_216.det.lc.W149   309.742619   309.792326   13.55460   \n",
       "77    mag.ombin_0_13_250.det.lc.W149   356.281331   349.651352   40.16770   \n",
       "...                              ...          ...          ...        ...   \n",
       "1366  mag.ombin_0_94_138.det.lc.W149  1755.479434  1758.356623   10.70990   \n",
       "1377  mag.ombin_0_94_471.det.lc.W149  1613.814656  1607.977279   18.68700   \n",
       "1381   mag.ombin_0_95_50.det.lc.W149   161.681269   161.423151   11.74240   \n",
       "1382  mag.ombin_0_95_181.det.lc.W149  1597.122898  1599.046014    6.20827   \n",
       "1386  mag.ombin_0_95_489.det.lc.W149  1593.995499  1595.368533   16.73720   \n",
       "1389  mag.ombin_0_96_171.det.lc.W149   513.619253   514.903171   20.28450   \n",
       "1392  mag.ombin_0_96_247.det.lc.W149  1423.147699  1424.807156    4.64040   \n",
       "1395  mag.ombin_0_96_367.det.lc.W149  1389.429685  1392.418446    8.46926   \n",
       "1396  mag.ombin_0_96_447.det.lc.W149  1602.818443  1603.252536    9.49234   \n",
       "1397  mag.ombin_0_96_448.det.lc.W149  1753.034207  1749.345615   33.29070   \n",
       "1399  mag.ombin_0_96_472.det.lc.W149  1616.248861  1618.651650  104.18800   \n",
       "1402  mag.ombin_0_97_165.det.lc.W149  1671.062438  1673.555088   36.37560   \n",
       "1408  mag.ombin_0_97_247.det.lc.W149  1779.833822  1779.994859   16.41680   \n",
       "1411  mag.ombin_0_97_406.det.lc.W149  1457.796839  1457.461617    4.83067   \n",
       "1412  mag.ombin_0_97_444.det.lc.W149   357.393993   357.321638    5.51340   \n",
       "1413  mag.ombin_0_97_473.det.lc.W149  1650.858466  1647.757077   11.43400   \n",
       "1414  mag.ombin_0_97_479.det.lc.W149   115.807230   112.505461    2.10408   \n",
       "1415  mag.ombin_0_97_494.det.lc.W149   335.751070   338.991597   49.00360   \n",
       "1417  mag.ombin_0_98_162.det.lc.W149   537.904513   532.415346   15.09860   \n",
       "1418  mag.ombin_0_98_245.det.lc.W149   289.289542   291.782942   59.47150   \n",
       "1421  mag.ombin_0_98_317.det.lc.W149   489.016269   493.132086   22.45700   \n",
       "1422  mag.ombin_0_98_334.det.lc.W149   357.864110   356.838193   16.21340   \n",
       "1424  mag.ombin_0_98_392.det.lc.W149   129.033956   128.672801   11.92570   \n",
       "1428    mag.ombin_0_99_1.det.lc.W149   122.302304   123.283322   40.02310   \n",
       "1429    mag.ombin_0_99_4.det.lc.W149   164.092591   165.516005   10.64810   \n",
       "1430   mag.ombin_0_99_66.det.lc.W149   166.658882   161.959997   18.38350   \n",
       "1432  mag.ombin_0_99_107.det.lc.W149   347.150997   347.256440    8.75883   \n",
       "1435  mag.ombin_0_99_188.det.lc.W149  1802.860528  1802.860188   20.18690   \n",
       "1438  mag.ombin_0_99_333.det.lc.W149   341.784586   343.120808   37.84320   \n",
       "1439  mag.ombin_0_99_339.det.lc.W149  1418.817934  1419.870544    7.63227   \n",
       "\n",
       "          tE_exp        u0  \n",
       "2       1.207512  2.967330  \n",
       "3       0.710735  0.977095  \n",
       "4      35.685233  2.071580  \n",
       "5      15.233037 -0.780478  \n",
       "6      21.076187  1.606100  \n",
       "7       6.635292 -2.557920  \n",
       "10     10.103709 -0.683501  \n",
       "13      4.656136 -1.577730  \n",
       "14      5.032805  1.197610  \n",
       "18     11.459269  0.246509  \n",
       "19      4.379145  0.308362  \n",
       "20     16.384190  0.652415  \n",
       "21      5.053577  0.694878  \n",
       "23     10.351651  0.210047  \n",
       "24     16.874203 -0.535092  \n",
       "28     17.161906 -0.072667  \n",
       "38      3.259555 -0.356362  \n",
       "40      3.389945  0.214324  \n",
       "43      1.056235 -0.037466  \n",
       "58     68.337484  0.488124  \n",
       "63     18.164440  1.887480  \n",
       "67      7.929815  0.616197  \n",
       "70      9.641251  2.430580  \n",
       "71      9.768631  1.371670  \n",
       "72      3.537869  1.833020  \n",
       "73      2.693288  0.154889  \n",
       "74     63.736205  2.557880  \n",
       "75      1.594893  0.076795  \n",
       "76     13.004812  0.544644  \n",
       "77     33.967745 -0.296111  \n",
       "...          ...       ...  \n",
       "1366    1.406451 -0.607357  \n",
       "1377   14.910776  1.162910  \n",
       "1381    9.150729  0.878402  \n",
       "1382    5.325546  2.124320  \n",
       "1386    8.664663  0.591039  \n",
       "1389    7.420876 -2.142910  \n",
       "1392    0.647714 -0.231439  \n",
       "1395    2.699694 -0.897137  \n",
       "1396    5.481192  0.962080  \n",
       "1397    5.752708  0.024795  \n",
       "1399  104.405461  0.912464  \n",
       "1402   10.210005  0.368738  \n",
       "1408   13.443876 -0.567055  \n",
       "1411    4.197078 -1.007920  \n",
       "1412    3.954065 -0.339838  \n",
       "1413    9.630741  1.418850  \n",
       "1414    2.741394 -2.691160  \n",
       "1415    6.208475  0.328875  \n",
       "1417   11.204486 -2.853660  \n",
       "1418   43.412950 -0.413542  \n",
       "1421   12.773910 -0.037032  \n",
       "1422    9.284638 -0.880945  \n",
       "1424    8.503871  0.254364  \n",
       "1428    8.104614 -0.218109  \n",
       "1429   10.762961  0.964897  \n",
       "1430    5.058304 -1.192480  \n",
       "1432    7.809982  1.579070  \n",
       "1435   18.474397  0.680908  \n",
       "1438   24.487496  0.954590  \n",
       "1439    4.757771 -0.597031  \n",
       "\n",
       "[400 rows x 6 columns]"
      ]
     },
     "execution_count": 107,
     "metadata": {},
     "output_type": "execute_result"
    }
   ],
   "source": [
    "info[['name', 't0', 't0_exp', 'tE', 'tE_exp','u0']][(info.type==1)& (info.chisqr<10)]"
   ]
  },
  {
   "cell_type": "code",
   "execution_count": 113,
   "metadata": {},
   "outputs": [],
   "source": [
    "t0_ml, u0_ml, tE_ml = result.params['t0'],result.params['tE'],result.params['u0']\n",
    "\n",
    "f_ris = df['A'] - PSPL(t0_ml, u0_ml, tE_ml, df['t'].values)\n",
    "    \n",
    "duration = [0.01,0.1,1]  \n",
    "\n",
    "f_res = f_ris\n",
    "f_res = smooth(f_ris,10)\n",
    "\n"
   ]
  },
  {
   "cell_type": "code",
   "execution_count": 159,
   "metadata": {},
   "outputs": [
    {
     "name": "stderr",
     "output_type": "stream",
     "text": [
      "/Users/Research/Library/Enthought/Canopy_64bit/User/lib/python2.7/site-packages/ipykernel/__main__.py:3: FutureWarning: \n",
      "The current behaviour of 'Series.argmax' is deprecated, use 'idxmax'\n",
      "instead.\n",
      "The behavior of 'argmax' will be corrected to return the positional\n",
      "maximum in the future. For now, use 'series.values.argmax' or\n",
      "'np.argmax(np.array(values))' to get the position of the maximum\n",
      "row.\n",
      "  app.launch_new_instance()\n"
     ]
    },
    {
     "data": {
      "text/plain": [
       "(2459973.208736708, 2460073.208736708)"
      ]
     },
     "execution_count": 159,
     "metadata": {},
     "output_type": "execute_result"
    },
    {
     "data": {
      "image/png": "[encoded data removed]",
      "text/plain": [
       "<matplotlib.figure.Figure at 0x117b28ed0>"
      ]
     },
     "metadata": {},
     "output_type": "display_data"
    }
   ],
   "source": [
    "t_ = np.asarray(df['t'].values)\n",
    "plt.plot(df['t'], f_ris, 'b.')\n",
    "plt.axvline(t_[f_ris.argmax()])\n",
    "plt.xlim(result.params['t0'].value-50, result.params['t0'].value+50)\n",
    "\n"
   ]
  },
  {
   "cell_type": "code",
   "execution_count": null,
   "metadata": {
    "collapsed": true
   },
   "outputs": [],
   "source": [
    "params2 = Parameters()\n",
    "params2.add('tp', value= t_[f_ris.argmax()], min=min(df['t']), max=max(df['t']))\n",
    "params2.add('tEp', value= 1, min=0.00001, max=3)\n",
    "params2.add('amp', value= f_ris.max()* sigma * np.sqrt(2*pi), min=0.00001, max=5)\n",
    "\n",
    "result2 = minimize(PSPL_Gaussian_data, params2, args=(df['t'].values, df['A'].values))"
   ]
  },
  {
   "cell_type": "code",
   "execution_count": 115,
   "metadata": {},
   "outputs": [
    {
     "name": "stderr",
     "output_type": "stream",
     "text": [
      "/Users/Research/Library/Enthought/Canopy_64bit/User/lib/python2.7/site-packages/ipykernel/__main__.py:2: FutureWarning: \n",
      "The current behaviour of 'Series.argmax' is deprecated, use 'idxmax'\n",
      "instead.\n",
      "The behavior of 'argmax' will be corrected to return the positional\n",
      "maximum in the future. For now, use 'series.values.argmax' or\n",
      "'np.argmax(np.array(values))' to get the position of the maximum\n",
      "row.\n",
      "  from ipykernel import kernelapp as app\n",
      "/Users/Research/Library/Enthought/Canopy_64bit/User/lib/python2.7/site-packages/ipykernel/__main__.py:2: FutureWarning: \n",
      "The current behaviour of 'Series.argmin' is deprecated, use 'idxmin'\n",
      "instead.\n",
      "The behavior of 'argmin' will be corrected to return the positional\n",
      "minimum in the future. For now, use 'series.values.argmin' or\n",
      "'np.argmin(np.array(values))' to get the position of the minimum\n",
      "row.\n",
      "  from ipykernel import kernelapp as app\n"
     ]
    }
   ],
   "source": [
    "f_ris__ = [f_ris.max(),f_ris.min()]\n",
    "t_ris__ = [t_[f_ris.argmax()],t_[f_ris.argmin()]]\n"
   ]
  },
  {
   "cell_type": "code",
   "execution_count": 157,
   "metadata": {},
   "outputs": [
    {
     "name": "stderr",
     "output_type": "stream",
     "text": [
      "/Users/Research/Library/Enthought/Canopy_64bit/User/lib/python2.7/site-packages/ipykernel/__main__.py:5: FutureWarning: \n",
      "The current behaviour of 'Series.argmax' is deprecated, use 'idxmax'\n",
      "instead.\n",
      "The behavior of 'argmax' will be corrected to return the positional\n",
      "maximum in the future. For now, use 'series.values.argmax' or\n",
      "'np.argmax(np.array(values))' to get the position of the maximum\n",
      "row.\n"
     ]
    }
   ],
   "source": [
    "params2 = Parameters()\n",
    "params2.add('t0', value= result.params['t0'].value, min=min(df['t']), max=max(df['t']))\n",
    "params2.add('tE', value= 10, min=0.001, max=1000)\n",
    "params2.add('u0', value= result.params['u0'], min=0, max=5)\n",
    "params2.add('tp', value= t_[f_ris.argmax()], min=min(df['t']), max=max(df['t']))\n",
    "params2.add('tEp', value= 1, min=0.00001, max=3)\n",
    "params2.add('amp', value= f_ris.max()* sigma * np.sqrt(2*pi), min=0.00001, max=5)\n",
    "\n",
    "result2 = minimize(PSPL_Gaussian_data, params2, args=(df['t'].values, df['A'].values))"
   ]
  },
  {
   "cell_type": "code",
   "execution_count": 158,
   "metadata": {},
   "outputs": [
    {
     "data": {
      "text/html": [
       "<h2>Fit Statistics</h2><table><tr><td>fitting method</td><td>leastsq</td><td></td></tr><tr><td># function evals</td><td>888</td><td></td></tr><tr><td># data points</td><td>38568</td><td></td></tr><tr><td># variables</td><td>6</td><td></td></tr><tr><td>chi-square</td><td> 38568.0064</td><td></td></tr><tr><td>reduced chi-square</td><td> 1.00015576</td><td></td></tr><tr><td>Akaike info crit.</td><td> 12.0064416</td><td></td></tr><tr><td>Bayesian info crit.</td><td> 63.3675108</td><td></td></tr></table><h2>Variables</h2><table><tr><th> name </th><th> value </th><th> initial value </th><th> min </th><th> max </th><th> vary </th></tr><tr><td> t0 </td><td>  2460049.45 </td><td> 2460023.208736708 </td><td>  2458346.51 </td><td>  2460059.24 </td><td> True </td></tr><tr><td> tE </td><td>  0.00108734 </td><td> 10 </td><td>  1.0000e-03 </td><td>  1000.00000 </td><td> True </td></tr><tr><td> u0 </td><td>  5.00000000 </td><td> <Parameter 'u0', value=1.8379033826547126 +/- 0.00344, bounds=[0:5]> </td><td>  0.00000000 </td><td>  5.00000000 </td><td> True </td></tr><tr><td> tp </td><td>  2460015.76 </td><td> 2460017.644856 </td><td>  2458346.51 </td><td>  2460059.24 </td><td> True </td></tr><tr><td> tEp </td><td>  0.53547616 </td><td> 1 </td><td>  1.0000e-05 </td><td>  3.00000000 </td><td> True </td></tr><tr><td> amp </td><td>  1.6292e-05 </td><td> 0.2638754170479926 </td><td>  1.0000e-05 </td><td>  5.00000000 </td><td> True </td></tr></table>"
      ],
      "text/plain": [
       "<lmfit.minimizer.MinimizerResult at 0x118eaef90>"
      ]
     },
     "execution_count": 158,
     "metadata": {},
     "output_type": "execute_result"
    }
   ],
   "source": [
    "result2"
   ]
  },
  {
   "cell_type": "code",
   "execution_count": 150,
   "metadata": {},
   "outputs": [
    {
     "name": "stdout",
     "output_type": "stream",
     "text": [
      "2460017.644856 0.01 0.10527106061900526\n",
      "2460021.315707 0.01 -0.0446342874602772\n",
      "2460017.644856 0.1 0.10527106061900526\n",
      "2460021.315707 0.1 -0.0446342874602772\n",
      "2460017.644856 1 0.10527106061900526\n",
      "2460021.315707 1 -0.0446342874602772\n"
     ]
    }
   ],
   "source": [
    "min_model_ = [[],[]]\n",
    "\n",
    "for sigma in duration:\n",
    "\n",
    "    for a in range(0,2):\n",
    "        \n",
    "        \n",
    "        print t_ris__[a], sigma, f_ris__[a]\n",
    "        params2 = Parameters()\n",
    "        params2.add('t0', value= result.params['t0'].value, min=min(df['t']), max=max(df['t']))\n",
    "        params2.add('tE', value= result.params['tE'].value, min=0.001, max=1000)\n",
    "        params2.add('u0', value= result.params['u0'], min=0, max=5)\n",
    "        params2.add('tp', value= t_ris__[a], min=min(df['t']), max=max(df['t']))\n",
    "        params2.add('tEp', value= sigma, min=0.00001, max=3)\n",
    "        params2.add('amp', value= f_ris__[a]* sigma * np.sqrt(2*pi), min=0.00001, max=5)\n",
    "\n",
    "        result2 = minimize(PSPL_Gaussian_data, params2, args=(df['t'].values, df['A'].values))\n",
    "\n",
    "        min_model_[0].append(result2.chisqr)\n",
    "        min_model_[1].append([result2.params['t0'],result2.params['tE'],result2.params['u0'],\n",
    "                             result2.params['tp'],result2.params['tEp'],result2.params['amp']])\n",
    "\n",
    "\n",
    "min_chisqr = np.asarray( min_model_[0])\n",
    "best_fit_params= min_model_[1][min_chisqr.argmax()]  "
   ]
  },
  {
   "cell_type": "code",
   "execution_count": 151,
   "metadata": {},
   "outputs": [
    {
     "data": {
      "text/plain": [
       "[<Parameter 't0', value=2460023.208736708 +/- 4.35, bounds=[2458346.505461:2460059.241444]>,\n",
       " <Parameter 'tE', value=6.179472379474114 +/- 3.5, bounds=[0.001:1000]>,\n",
       " <Parameter 'u0', value=1.8379033826547126 +/- 0.325, bounds=[0:5]>,\n",
       " <Parameter 'tp', value=2460021.315707 +/- 27.5, bounds=[2458346.505461:2460059.241444]>,\n",
       " <Parameter 'tEp', value=0.01 +/- 27, bounds=[1e-05:3]>,\n",
       " <Parameter 'amp', value=1e-05 +/- 1.53e-10, bounds=[1e-05:5]>]"
      ]
     },
     "execution_count": 151,
     "metadata": {},
     "output_type": "execute_result"
    }
   ],
   "source": [
    "best_fit_params"
   ]
  },
  {
   "cell_type": "code",
   "execution_count": 154,
   "metadata": {},
   "outputs": [
    {
     "data": {
      "image/png": "[encoded data removed]",
      "text/plain": [
       "<matplotlib.figure.Figure at 0x117e08950>"
      ]
     },
     "metadata": {},
     "output_type": "display_data"
    }
   ],
   "source": [
    "plt.plot(df['t']-2458234,df['A'],'b.', markersize=25, label='Lightcurve Data')\n",
    "plt.plot(df['t']-2458234,PSPL_Gaussian(result2.params['t0'].value,result2.params['tE'].value,result2.params['u0'].value,\n",
    "         result2.params['tp'].value,result2.params['tEp'].value,result2.params['amp'].value, df['t']),'r-', label='Lightcurve Data')\n",
    "plt.ylabel('Magnification', size=25)\n",
    "plt.xlabel('Time - 2458520', size=25)\n",
    "#plt.xlim(400,550)\n",
    "plt.legend(loc=2,fontsize=20)\n",
    "\n",
    "plt.xticks(fontsize=20)\n",
    "plt.yticks(fontsize=20)\n",
    "\n",
    "\n",
    "fig = plt.gcf()\n",
    "fig.set_size_inches(15.0,12.0)\n",
    "# plt.savefig('Chebyshevfit_success.png')"
   ]
  },
  {
   "cell_type": "code",
   "execution_count": null,
   "metadata": {
    "collapsed": true
   },
   "outputs": [],
   "source": []
  }
 ],
 "metadata": {
  "kernelspec": {
   "display_name": "Python 3",
   "language": "python",
   "name": "python3"
  },
  "language_info": {
   "codemirror_mode": {
    "name": "ipython",
    "version": 3
   },
   "file_extension": ".py",
   "mimetype": "text/x-python",
   "name": "python",
   "nbconvert_exporter": "python",
   "pygments_lexer": "ipython3",
   "version": "3.6.1"
  }
 },
 "nbformat": 4,
 "nbformat_minor": 1
}
