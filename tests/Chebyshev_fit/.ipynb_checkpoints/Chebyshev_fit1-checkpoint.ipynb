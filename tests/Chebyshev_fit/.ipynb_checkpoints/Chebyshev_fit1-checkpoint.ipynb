{
 "cells": [
  {
   "cell_type": "markdown",
   "metadata": {},
   "source": [
    "# Chebyshev fit to light curves"
   ]
  },
  {
   "cell_type": "code",
   "execution_count": null,
   "metadata": {},
   "outputs": [],
   "source": [
    "import glob,os,sys\n",
    "import numpy as np\n",
    "import matplotlib.pyplot as plt\n",
    "import matplotlib\n",
    "from numpy import *\n",
    "import re\n",
    "import scipy.stats as st\n",
    "from os.path import expanduser\n",
    "import cmath\n",
    "import scipy.optimize as op\n",
    "import time\n",
    "import gzip\n",
    "import pandas as pd\n",
    "from mpl_toolkits.axes_grid1.inset_locator import zoomed_inset_axes\n",
    "from mpl_toolkits.axes_grid1.inset_locator import (mark_inset,inset_axes,InsetPosition)\n",
    "from sympy.solvers import solve\n",
    "from sympy import Symbol\n",
    "import sympy\n",
    "from numpy.polynomial.chebyshev import chebfit,Chebyshev, chebval"
   ]
  },
  {
   "cell_type": "code",
   "execution_count": 3,
   "metadata": {},
   "outputs": [],
   "source": [
    "\n",
    "home = os.path.expanduser(\"~\")\n",
    "\n",
    "temp = home+'/Library/Mobile Documents/com~apple~CloudDocs/Microlensing_Data_Challeng/data-challenge-1/lc/'\n",
    "direc = os.listdir(temp)"
   ]
  },
  {
   "cell_type": "code",
   "execution_count": 187,
   "metadata": {},
   "outputs": [],
   "source": [
    "def calc_chisq(lightcurve,fx):\n",
    "    \"\"\"Function to calculate the chi squared of the fit of the lightcurve\n",
    "    data to the function provided\"\"\"\n",
    "    \n",
    "    chisq = ((lightcurve - fx)**2 / fx).sum()\n",
    "    \n",
    "    return chisq"
   ]
  },
  {
   "cell_type": "code",
   "execution_count": 4,
   "metadata": {},
   "outputs": [],
   "source": [
    "# Smoothing the data\n",
    "\n",
    "def low_pass_filter(y, box_pts, mode='same', base=1):\n",
    "    box = base*(np.ones(box_pts)/box_pts)\n",
    "    y_filtered = np.convolve(y, box, mode=mode)\n",
    "    if mode=='same':\n",
    "        y_filtered[0:int(box_pts/2)]=y_filtered[int(box_pts/2)]\n",
    "        y_filtered[len(y_filtered)-int(box_pts/2):len(y_filtered)]=y_filtered[len(y_filtered)-int(box_pts/2)]\n",
    "    return y_filtered"
   ]
  },
  {
   "cell_type": "code",
   "execution_count": 5,
   "metadata": {},
   "outputs": [],
   "source": [
    "def localize_event(lightcurve,t0,tE):\n",
    "    \"\"\"Function to estimate roughly the area around the peak of an event, \n",
    "    and identify which timestamps in the array belong to the event versus\n",
    "    the baseline\n",
    "    \"\"\"\n",
    "    \n",
    "    idx1 = np.where(lightcurve >= t0-tE)[0]\n",
    "    idx2 = np.where(lightcurve <= t0+tE)[0]\n",
    "    event = list(set(idx1).intersection(set(idx2)))\n",
    "    \n",
    "    baseline = np.arange(0,len(lightcurve),1)\n",
    "    baseline = np.delete(baseline,event)\n",
    "    \n",
    "    it0 = np.where(lightcurve == t0)[0][0]\n",
    "    \n",
    "    return baseline, event, it0"
   ]
  },
  {
   "cell_type": "code",
   "execution_count": 216,
   "metadata": {},
   "outputs": [],
   "source": [
    "# Reading in one single lightcurve\n",
    "\n",
    "f = '/ulwdc1_018_W149.txt'\n",
    "f2 = '/ulwdc1_118_W149.txt'\n",
    "\n",
    "t,m,e = np.loadtxt(temp+f,unpack=True)\n",
    "t2,m2,e2 = np.loadtxt(temp+f2,unpack=True)\n",
    "\n",
    "\n",
    "df = pd.DataFrame({'t': t, 'magnitude': m, 'm_err': e})\n",
    "peaks = np.array([t[np.argmin(m)]])\n",
    "\n",
    "df2 = pd.DataFrame({'t': t2, 'magnitude': m2, 'm_err': e2})\n",
    "peaks2 = np.array([t2[np.argmin(m2)]])\n",
    "\n",
    "dt =50"
   ]
  },
  {
   "cell_type": "code",
   "execution_count": 217,
   "metadata": {},
   "outputs": [],
   "source": [
    "baseline, event, it0 = localize_event(df['t'], peaks[0],dt)\n",
    "baseline2, event2, it02 = localize_event(df2['t'], peaks2[0],dt)"
   ]
  },
  {
   "cell_type": "code",
   "execution_count": 218,
   "metadata": {},
   "outputs": [],
   "source": [
    "base_mag = np.median(df['magnitude'][baseline])\n",
    "df['A'] = 10 ** (0.4*(base_mag - df['magnitude']))\n",
    "\n",
    "base_mag2 = np.median(df2['magnitude'][baseline2])\n",
    "df2['A'] = 10 ** (0.4*(base_mag2 - df2['magnitude']))"
   ]
  },
  {
   "cell_type": "code",
   "execution_count": 219,
   "metadata": {},
   "outputs": [
    {
     "data": {
      "text/plain": [
       "[<matplotlib.lines.Line2D at 0x115862ed0>]"
      ]
     },
     "execution_count": 219,
     "metadata": {},
     "output_type": "execute_result"
    },
    {
     "data": {
      "image/png": "[encoded data removed]",
      "text/plain": [
       "<Figure size 432x288 with 1 Axes>"
      ]
     },
     "metadata": {},
     "output_type": "display_data"
    }
   ],
   "source": [
    "plt.plot(df['t'][event],df['A'][event],'b.')\n",
    "#plt.gca().invert_yaxis()\n"
   ]
  },
  {
   "cell_type": "code",
   "execution_count": 220,
   "metadata": {},
   "outputs": [
    {
     "data": {
      "text/plain": [
       "[<matplotlib.lines.Line2D at 0x113e3f9d0>]"
      ]
     },
     "execution_count": 220,
     "metadata": {},
     "output_type": "execute_result"
    },
    {
     "data": {
      "image/png": "[encoded data removed]",
      "text/plain": [
       "<Figure size 432x288 with 1 Axes>"
      ]
     },
     "metadata": {},
     "output_type": "display_data"
    }
   ],
   "source": [
    "plt.plot(df2['t'][event2],df2['A'][event2],'b.')\n",
    "#plt.gca().invert_yaxis()"
   ]
  },
  {
   "cell_type": "code",
   "execution_count": 221,
   "metadata": {},
   "outputs": [],
   "source": [
    "t_new = df['t'][event]#df['t'][(df['t']>peaks[0]-dt) & (df['t']<peaks[0]+dt)]\n",
    "m_new = df['A'][event]#df['magnitude'][(df['t']>peaks[0]-dt) & (df['t']<peaks[0]+dt)]\n",
    "\n",
    "t_new2 = df2['t'][event2]#df['t'][(df['t']>peaks[0]-dt) & (df['t']<peaks[0]+dt)]\n",
    "m_new2 = df2['A'][event2]#df['magnitude'][(df['t']>peaks[0]-dt) & (df['t']<peaks[0]+dt)]"
   ]
  },
  {
   "cell_type": "code",
   "execution_count": 222,
   "metadata": {},
   "outputs": [],
   "source": [
    "t_scaled = np.interp(t_new, (t_new.min(), t_new.max()), (-1, +1))\n",
    "m_scaled = np.interp(m_new, (m_new.min(), m_new.max()), (-1, +1))\n",
    "\n",
    "t_scaled2 = np.interp(t_new2, (t_new2.min(), t_new2.max()), (-1, +1))\n",
    "m_scaled2 = np.interp(m_new2, (m_new2.min(), m_new2.max()), (-1, +1))"
   ]
  },
  {
   "cell_type": "code",
   "execution_count": 223,
   "metadata": {},
   "outputs": [],
   "source": [
    "res = chebfit(t_scaled,m_new,50)\n",
    "res2 = chebfit(t_scaled2,m_new2,50)"
   ]
  },
  {
   "cell_type": "code",
   "execution_count": 224,
   "metadata": {},
   "outputs": [
    {
     "data": {
      "text/plain": [
       "[<matplotlib.lines.Line2D at 0x112284dd0>]"
      ]
     },
     "execution_count": 224,
     "metadata": {},
     "output_type": "execute_result"
    },
    {
     "data": {
      "image/png": "[encoded data removed]",
      "text/plain": [
       "<Figure size 432x288 with 1 Axes>"
      ]
     },
     "metadata": {},
     "output_type": "display_data"
    }
   ],
   "source": [
    "plt.plot(t_scaled,m_new,'b.')\n",
    "plt.plot(t_scaled,chebval(t_scaled,res),'r-')\n",
    "#plt.plot(t_scaled,chebval(t_scaled,res)-(res[0]/2),'g-')\n",
    "\n",
    "#plt.gca().invert_yaxis()\n"
   ]
  },
  {
   "cell_type": "code",
   "execution_count": 225,
   "metadata": {},
   "outputs": [
    {
     "data": {
      "text/plain": [
       "[<matplotlib.lines.Line2D at 0x112291e10>]"
      ]
     },
     "execution_count": 225,
     "metadata": {},
     "output_type": "execute_result"
    },
    {
     "data": {
      "image/png": "[encoded data removed]",
      "text/plain": [
       "<Figure size 432x288 with 1 Axes>"
      ]
     },
     "metadata": {},
     "output_type": "display_data"
    }
   ],
   "source": [
    "plt.plot(t_scaled2,m_new2,'b.')\n",
    "plt.plot(t_scaled2,chebval(t_scaled2,res2),'r-')\n",
    "#plt.plot(t_scaled,chebval(t_scaled,res)-(res[0]/2),'g-')\n",
    "\n",
    "#plt.gca().invert_yaxis()\n",
    "\n"
   ]
  },
  {
   "cell_type": "code",
   "execution_count": 235,
   "metadata": {},
   "outputs": [],
   "source": [
    "# Defining the function to fit Chebyshev light curves\n",
    "\n",
    "def chebyshevfit (t,m, base, order= 50):\n",
    "    \n",
    "    # x's should be converted to the interval [-1,1]\n",
    "    \n",
    "    t_scaled = np.interp(t, (t.min(), t.max()), (-1, +1))\n",
    "    #m_scaled = np.interp(m, (m.min(), m.max()), (-1, +1))\n",
    "    \n",
    "    res = chebfit(t_scaled,m,order)\n",
    "    \n",
    "    metric = np.sum(((res)-(base))**2)\n",
    "    \n",
    "    chi_2 = calc_chisq(m_new, chebval(t_scaled,base) )\n",
    "    \n",
    "    a_n_sq = np.sum(res**2)\n",
    "    \n",
    "    ave = np.average(res[1:49])\n",
    "    \n",
    "    return res, metric, chi_2, a_n_sq, ave"
   ]
  },
  {
   "cell_type": "code",
   "execution_count": 236,
   "metadata": {},
   "outputs": [
    {
     "name": "stdout",
     "output_type": "stream",
     "text": [
      "done\n"
     ]
    }
   ],
   "source": [
    "#Trying it on Data Challenge light curves\n",
    "\n",
    "\n",
    "# Res_base is a base light curve whose Chebyshev coefficients will be compared to other light curve fits\n",
    "res_base = res2\n",
    "\n",
    "direc.sort()\n",
    "result = {'name':[], 'a_n':[], 'metric':[], 'chi_2':[], 'a_n_sq':[], 'ave':[]}\n",
    "dt = 50\n",
    "\n",
    "for f in direc:\n",
    "    \n",
    "    if f.endswith('.txt') and f.split('_')[2].startswith('W'):\n",
    "        \n",
    "        t,m,e = np.loadtxt(temp+str(f),unpack=True)\n",
    "        \n",
    "        df = pd.DataFrame({'t': t, 'magnitude': m, 'm_err': e})\n",
    "        \n",
    "        peaks = t[np.argmin(m)]\n",
    "        \n",
    "        baseline, event, it0 = localize_event(df['t'], peaks,dt)\n",
    "        \n",
    "        base_mag = np.median(df['magnitude'][baseline])\n",
    "        df['A'] = 10 ** (0.4*(base_mag - df['magnitude']))\n",
    "\n",
    "        t_new = df['t'][event]#df['t'][(df['t']>peaks-dt) & (df['t']<peaks+dt)]\n",
    "        m_new = df['A'][event]#df['magnitude'][(df['t']>peaks-dt) & (df['t']<peaks+dt)] \n",
    "        \n",
    "        res, metric, chi_2, a_n_sq, ave = chebyshevfit(t_new,m_new,  res_base, order=50)\n",
    "        \n",
    "        \n",
    "        \n",
    "        result['name'].append(f)\n",
    "        result['a_n'].append(res)\n",
    "        result['metric'].append(metric)\n",
    "        result['chi_2'].append(chi_2)\n",
    "        result['a_n_sq'].append(a_n_sq)\n",
    "        result['ave'].append(ave)\n",
    "\n",
    "print 'done'\n",
    "\n",
    "\n"
   ]
  },
  {
   "cell_type": "code",
   "execution_count": null,
   "metadata": {},
   "outputs": [],
   "source": [
    "temp = home+'/Des/Mobile Documents/com~apple~CloudDocs/Microlensing_Data_Challeng/data-challenge-1/lc/'\n",
    "direc = os.listdir(temp)"
   ]
  }
 ],
 "metadata": {
  "kernelspec": {
   "display_name": "Python 2",
   "language": "python",
   "name": "python2"
  }
 },
 "nbformat": 4,
 "nbformat_minor": 2
}
