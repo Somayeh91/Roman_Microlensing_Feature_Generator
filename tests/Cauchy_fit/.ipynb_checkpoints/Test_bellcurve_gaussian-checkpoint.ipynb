{
 "cells": [
  {
   "cell_type": "code",
   "execution_count": 1,
   "metadata": {
    "collapsed": true
   },
   "outputs": [],
   "source": [
    "# Test Rachel's code functions\n",
    "\n",
    "import matplotlib\n",
    "import numpy as np\n",
    "from scipy import optimize\n",
    "from matplotlib import pyplot as plt\n",
    "import os\n",
    "import pandas as pd\n",
    "from mpl_toolkits.axes_grid1.inset_locator import (mark_inset,inset_axes,InsetPosition)\n",
    "import sys\n",
    "from tqdm import tqdm\n",
    "\n",
    "\n",
    "\n",
    "%matplotlib inline"
   ]
  },
  {
   "cell_type": "code",
   "execution_count": 2,
   "metadata": {
    "collapsed": true
   },
   "outputs": [],
   "source": [
    "home = os.path.expanduser(\"~\")"
   ]
  },
  {
   "cell_type": "code",
   "execution_count": 3,
   "metadata": {
    "collapsed": true
   },
   "outputs": [],
   "source": [
    "# Set up te directory where all microlensing data challenge lightcurves are\n",
    "\n",
    "temp = home+'/Library/Mobile Documents/com~apple~CloudDocs/Microlensing_Data_Challeng/data-challenge-1/lc/'\n",
    "direc = os.listdir(temp)"
   ]
  },
  {
   "cell_type": "code",
   "execution_count": 4,
   "metadata": {
    "collapsed": true
   },
   "outputs": [],
   "source": [
    "def calc_chisq(lightcurve,fx):\n",
    "    \"\"\"Function to calculate the chi squared of the fit of the lightcurve\n",
    "    data to the function provided\"\"\"\n",
    "    \n",
    "    chisq = ((lightcurve[:,1] - fx)**2 / fx).sum()\n",
    "    \n",
    "    return chisq\n",
    "    \n",
    "def bell_curve(x,a,b,c,d):\n",
    "    \"\"\"Function describing a bell curve of the form:\n",
    "    f(x; a,b,c,d) = d / [1 + |(x-c)/a|^(2b)]\n",
    "    \n",
    "    Inputs:\n",
    "    :param  np.array x: Series of intervals at which the function should\n",
    "                        be evaluated\n",
    "    :param float a,b,c: Coefficients of the bell curve function\n",
    "    \n",
    "    Returns:\n",
    "    :param np.array f(x): Series of function values at the intervals in x\n",
    "    \"\"\"\n",
    "    \n",
    "    fx = d / ( 1.0 + (abs( (x-c)/a ))**(2.0*b) )\n",
    "    \n",
    "    return fx\n",
    "\n",
    "def gaussian(x,a,b,c):\n",
    "    \"\"\"Function describing a Gaussian of the form:\n",
    "    f(x; a,b,c) = a * exp(-(x-b)**2/2c*2)\n",
    "    \n",
    "    Inputs:\n",
    "    :param  np.array x: Series of intervals at which the function should\n",
    "                        be evaluated\n",
    "    :param float a,b,c: Coefficients of the bell curve function\n",
    "    \n",
    "    Returns:\n",
    "    :param np.array f(x): Series of function values at the intervals in x\n",
    "    \"\"\"\n",
    "    \n",
    "    fx = a * np.exp(-( (x-b)**2 / (2*c*c) ))\n",
    "    \n",
    "    return fx\n",
    "\n",
    "def PSPL (x,t0,u0,tE,base):\n",
    "    u = np.sqrt(u0**2+((x-t0)/tE)**2)\n",
    "    A = ((u**2)+2)/(u*np.sqrt(u**2+4))\n",
    "    fx = base*np.ones(len(x)) + (-2.5 * np.log10(A))\n",
    "\n",
    "    return fx\n",
    "\n",
    "def localize_event(lightcurve,t0, dt=10):\n",
    "    \"\"\"Function to estimate roughly the area around the peak of an event, \n",
    "    and identify which timestamps in the array belong to the event versus\n",
    "    the baseline\n",
    "    \"\"\"\n",
    "    \n",
    "    idx1 = np.where(lightcurve[:,0] >= t0-dt)[0]\n",
    "    idx2 = np.where(lightcurve[:,0] <= t0+dt)[0]\n",
    "    event = list(set(idx1).intersection(set(idx2)))\n",
    "    \n",
    "    baseline = np.arange(0,len(lightcurve),1)\n",
    "    baseline = np.delete(baseline,event)\n",
    "    \n",
    "    it0 = np.where(lightcurve[:,0] == t0)[0][0]\n",
    "    \n",
    "    return baseline, event, it0\n",
    "    \n",
    "def estimate_init_param(lightcurve, t0, model, baseline,event,it0):\n",
    "    \"\"\"Function to provide rough estimates of the model parameters\n",
    "    prior to fitting.\n",
    "    \n",
    "    Model parameter indicates which order in the coefficients array\n",
    "    should be used, appropriate to model = { gaussian, bellcurve }\n",
    "    options.\n",
    "    \"\"\"\n",
    "    \n",
    "    a = np.median(lightcurve[baseline,1]) - lightcurve[it0,1]\n",
    "\n",
    "    half_mag = np.median(lightcurve[baseline,1]) - (a/1.2)\n",
    "    dm = abs(lightcurve[:,1] - half_mag)\n",
    "    idx = dm.argsort()\n",
    "    base = np.round(np.median(lightcurve[baseline,1]),4)\n",
    "    \n",
    "    dt = abs(lightcurve[idx[0],0] - lightcurve[idx[1],0])\n",
    "    \n",
    "    if model == 'gaussian':\n",
    "        g_init_par = [ a, 0.0, dt ]\n",
    "    \n",
    "    elif model == 'bellcurve':\n",
    "        g_init_par = [ dt, 1.0, 0.0, a]\n",
    "        \n",
    "    elif model == 'PSPL':\n",
    "        g_init_par = [ 0.0, 0.1, dt, base]\n",
    "      \n",
    "        \n",
    "    else:\n",
    "        raise RuntimeError('Unrecognised model type '+model)\n",
    "        \n",
    "    return g_init_par"
   ]
  },
  {
   "cell_type": "code",
   "execution_count": 5,
   "metadata": {
    "collapsed": true
   },
   "outputs": [],
   "source": [
    "def generate_microlensing_lightcurve(u0, ndp, diagnostics=False):\n",
    "    \"\"\"Function to generate a microlensing lightcurve for testing purposes.\n",
    "    \n",
    "    WARNING: Full photometric uncertainties not implemented as not currently\n",
    "    necessary for testing purposes.\n",
    "    \n",
    "    Inputs:\n",
    "    :param float u0: Event impact parameter\n",
    "    :param int ndp:  Number of datapoints in the lightcurve\n",
    "    \n",
    "    Returns:\n",
    "    :param np.array lightcurve: Timeseries photmetry 3-column array\n",
    "                                (timestamp, mag/flux, mag error/flux error)\n",
    "                                for N datapoints\n",
    "    \"\"\"\n",
    "\n",
    "    lightcurve = np.zeros((ndp,3))\n",
    "    \n",
    "    lightcurve[:,0] = np.linspace(2459000.0, 2459040.0, ndp)\n",
    "    \n",
    "    u = np.linspace(0.01, 10.0, int(float(ndp)/2))\n",
    "    u = np.concatenate([u[::-1],u])\n",
    "\n",
    "    lightcurve[:,1] = np.random.normal(16.0, 0.003, size=ndp)\n",
    "    lightcurve[:,1] += -2.5 * np.log10(microlensing_magnification(u))\n",
    "    \n",
    "    peaks = np.zeros(1)\n",
    "    peaks[0] = lightcurve[int(float(ndp)/2),0]\n",
    "    \n",
    "    lightcurve[:,2] = np.random.normal(lightcurve[:,1],0.001)\n",
    "\n",
    "    if diagnostics:\n",
    "        fig = plt.figure(1,(10,10))\n",
    "        plt.plot(lightcurve[:,0],microlensing_magnification(u))\n",
    "        plt.xlabel('HJD')\n",
    "        plt.ylabel('Mag')\n",
    "        plt.show()\n",
    "    \n",
    "    return lightcurve, peaks\n",
    "    \n",
    "def microlensing_magnification(u):\n",
    "    \"\"\"Function to calculate the microlensing magnification for a range of \n",
    "    angular projected separations between lens and source, u\"\"\"\n",
    "    \n",
    "    A = ((u*u) + 2) / (u * np.sqrt(u*u + 4))\n",
    "    \n",
    "    return A\n",
    "\n"
   ]
  },
  {
   "cell_type": "code",
   "execution_count": 6,
   "metadata": {
    "collapsed": true
   },
   "outputs": [],
   "source": [
    "lightcurve, peaks = generate_microlensing_lightcurve(0.6, 400)"
   ]
  },
  {
   "cell_type": "code",
   "execution_count": 7,
   "metadata": {
    "collapsed": false
   },
   "outputs": [
    {
     "data": {
      "image/png": "[encoded data removed]",
      "text/plain": [
       "<matplotlib.figure.Figure at 0x115aa2ad0>"
      ]
     },
     "metadata": {},
     "output_type": "display_data"
    }
   ],
   "source": [
    "plt.plot(lightcurve[:,0], lightcurve[:,1],'b.')\n",
    "plt.gca().invert_yaxis()"
   ]
  },
  {
   "cell_type": "code",
   "execution_count": 8,
   "metadata": {
    "collapsed": true
   },
   "outputs": [],
   "source": [
    "(baseline, event, it0) = localize_event(lightcurve,peaks[0])"
   ]
  },
  {
   "cell_type": "code",
   "execution_count": 9,
   "metadata": {
    "collapsed": false
   },
   "outputs": [
    {
     "data": {
      "image/png": "[encoded data removed]",
      "text/plain": [
       "<matplotlib.figure.Figure at 0x103c0f1d0>"
      ]
     },
     "metadata": {},
     "output_type": "display_data"
    }
   ],
   "source": [
    "plt.plot(lightcurve[event,0], lightcurve[event,1],'b.')\n",
    "plt.gca().invert_yaxis()"
   ]
  },
  {
   "cell_type": "code",
   "execution_count": 10,
   "metadata": {
    "collapsed": false
   },
   "outputs": [
    {
     "data": {
      "image/png": "[encoded data removed]",
      "text/plain": [
       "<matplotlib.figure.Figure at 0x115e2f7d0>"
      ]
     },
     "metadata": {},
     "output_type": "display_data"
    }
   ],
   "source": [
    "plt.plot(lightcurve[baseline,0], lightcurve[baseline,1],'b.')\n",
    "plt.gca().invert_yaxis()"
   ]
  },
  {
   "cell_type": "code",
   "execution_count": 11,
   "metadata": {
    "collapsed": false
   },
   "outputs": [],
   "source": [
    "g_init_par = estimate_init_param(lightcurve, peaks[0], 'gaussian',\n",
    "                                         baseline, event, it0)"
   ]
  },
  {
   "cell_type": "code",
   "execution_count": 12,
   "metadata": {
    "collapsed": false
   },
   "outputs": [
    {
     "data": {
      "text/plain": [
       "[4.994272009055065, 0.0, 0.10025062691420317]"
      ]
     },
     "execution_count": 12,
     "metadata": {},
     "output_type": "execute_result"
    }
   ],
   "source": [
    "g_init_par"
   ]
  },
  {
   "cell_type": "code",
   "execution_count": 13,
   "metadata": {
    "collapsed": true
   },
   "outputs": [],
   "source": [
    "gfx = gaussian(lightcurve[:,0]-peaks[0],g_init_par[0],g_init_par[1],g_init_par[2])\n",
    "gfx = np.median(lightcurve[baseline,1]) - gfx"
   ]
  },
  {
   "cell_type": "code",
   "execution_count": 14,
   "metadata": {
    "collapsed": false
   },
   "outputs": [
    {
     "data": {
      "image/png": "[encoded data removed]",
      "text/plain": [
       "<matplotlib.figure.Figure at 0x115f71310>"
      ]
     },
     "metadata": {},
     "output_type": "display_data"
    }
   ],
   "source": [
    "plt.plot(lightcurve[:,0]-peaks[0],lightcurve[:,1],'m.')\n",
    "plt.plot(lightcurve[:,0]-peaks[0],gfx,'g-.')\n",
    "plt.gca().invert_yaxis()"
   ]
  },
  {
   "cell_type": "code",
   "execution_count": 15,
   "metadata": {
    "collapsed": false
   },
   "outputs": [
    {
     "data": {
      "text/plain": [
       "[4.994272009055065, 0.0, 0.10025062691420317]"
      ]
     },
     "execution_count": 15,
     "metadata": {},
     "output_type": "execute_result"
    }
   ],
   "source": [
    "g_init_par"
   ]
  },
  {
   "cell_type": "code",
   "execution_count": 16,
   "metadata": {
    "collapsed": false
   },
   "outputs": [],
   "source": [
    "(gfit,gcov) = optimize.curve_fit(gaussian,lightcurve[event,0]-peaks[0],\n",
    "                                          -lightcurve[event,1]+np.median(lightcurve[baseline,1]),\n",
    "                                         p0=g_init_par)"
   ]
  },
  {
   "cell_type": "code",
   "execution_count": 17,
   "metadata": {
    "collapsed": false
   },
   "outputs": [
    {
     "data": {
      "text/plain": [
       "array([ 3.29749672, -0.04980528,  0.53189025])"
      ]
     },
     "execution_count": 17,
     "metadata": {},
     "output_type": "execute_result"
    }
   ],
   "source": [
    "gfit"
   ]
  },
  {
   "cell_type": "code",
   "execution_count": 18,
   "metadata": {
    "collapsed": true
   },
   "outputs": [],
   "source": [
    "gfx2 = gaussian(lightcurve[:,0]-peaks[0],gfit[0],gfit[1],gfit[2])\n",
    "gfx2 = -gfx2+np.median(lightcurve[baseline,1])"
   ]
  },
  {
   "cell_type": "code",
   "execution_count": 19,
   "metadata": {
    "collapsed": false
   },
   "outputs": [
    {
     "data": {
      "image/png": "[encoded data removed]",
      "text/plain": [
       "<matplotlib.figure.Figure at 0x115f71650>"
      ]
     },
     "metadata": {},
     "output_type": "display_data"
    }
   ],
   "source": [
    "plt.plot(lightcurve[:,0]-peaks[0],lightcurve[:,1],'m.')\n",
    "#plt.plot(lightcurve[:,0],gfx,'g-.')\n",
    "plt.plot(lightcurve[:,0]-peaks[0],gfx2,'g-')\n",
    "plt.gca().invert_yaxis()"
   ]
  },
  {
   "cell_type": "code",
   "execution_count": 21,
   "metadata": {
    "collapsed": true
   },
   "outputs": [],
   "source": [
    "g_chisq = calc_chisq(lightcurve,gfx2)"
   ]
  },
  {
   "cell_type": "code",
   "execution_count": 22,
   "metadata": {
    "collapsed": true
   },
   "outputs": [],
   "source": [
    "b_init_par = estimate_init_param(lightcurve, peaks[0], 'bellcurve',\n",
    "                                         baseline, event, it0)\n",
    "\n",
    "#b_init_par = [3.0,1.0,0.0,4.0]\n",
    "\n",
    "(bfit,bcov) = optimize.curve_fit(bell_curve,lightcurve[event,0]-peaks[0],\n",
    "                                                -lightcurve[event,1]+np.median(lightcurve[baseline,1]),\n",
    "                                                 p0=b_init_par)        "
   ]
  },
  {
   "cell_type": "code",
   "execution_count": 23,
   "metadata": {
    "collapsed": false
   },
   "outputs": [
    {
     "data": {
      "text/plain": [
       "(4,)"
      ]
     },
     "execution_count": 23,
     "metadata": {},
     "output_type": "execute_result"
    }
   ],
   "source": [
    "np.shape(b_init_par)"
   ]
  },
  {
   "cell_type": "code",
   "execution_count": 24,
   "metadata": {
    "collapsed": true
   },
   "outputs": [],
   "source": [
    "bfx = bell_curve(lightcurve[:,0]-peaks[0],bfit[0],bfit[1],bfit[2],bfit[3])\n",
    "bfx = np.median(lightcurve[baseline,1]) - bfx"
   ]
  },
  {
   "cell_type": "code",
   "execution_count": 25,
   "metadata": {
    "collapsed": false
   },
   "outputs": [
    {
     "data": {
      "text/plain": [
       "array([ 0.22617204,  0.63586939, -0.05013527,  5.50140738])"
      ]
     },
     "execution_count": 25,
     "metadata": {},
     "output_type": "execute_result"
    }
   ],
   "source": [
    "bfit"
   ]
  },
  {
   "cell_type": "code",
   "execution_count": 26,
   "metadata": {
    "collapsed": true
   },
   "outputs": [],
   "source": [
    "b_chisq = calc_chisq(lightcurve,bfx)"
   ]
  },
  {
   "cell_type": "code",
   "execution_count": 27,
   "metadata": {
    "collapsed": false
   },
   "outputs": [
    {
     "data": {
      "image/png": "[encoded data removed]",
      "text/plain": [
       "<matplotlib.figure.Figure at 0x118b76810>"
      ]
     },
     "metadata": {},
     "output_type": "display_data"
    }
   ],
   "source": [
    "plt.plot(lightcurve[:,0]-peaks[0],lightcurve[:,1],'m.')\n",
    "#plt.plot(lightcurve[:,0],bfx,'g-.')\n",
    "plt.plot(lightcurve[:,0]-peaks[0],np.median(lightcurve[baseline,1]) -bell_curve(lightcurve[:,0]-peaks[0]\n",
    "                                            , b_init_par[0], b_init_par[1],\n",
    "                                             b_init_par[2], b_init_par[3]),'b-')\n",
    "\n",
    "plt.plot(lightcurve[:,0]-peaks[0],bfx,'g-')\n",
    "plt.gca().invert_yaxis()"
   ]
  },
  {
   "cell_type": "code",
   "execution_count": 28,
   "metadata": {
    "collapsed": false
   },
   "outputs": [
    {
     "data": {
      "text/plain": [
       "0.9743626394712301"
      ]
     },
     "execution_count": 28,
     "metadata": {},
     "output_type": "execute_result"
    }
   ],
   "source": [
    "g_chisq"
   ]
  },
  {
   "cell_type": "code",
   "execution_count": 29,
   "metadata": {
    "collapsed": false
   },
   "outputs": [
    {
     "data": {
      "text/plain": [
       "0.11180698725367955"
      ]
     },
     "execution_count": 29,
     "metadata": {},
     "output_type": "execute_result"
    }
   ],
   "source": [
    "b_chisq"
   ]
  },
  {
   "cell_type": "code",
   "execution_count": 30,
   "metadata": {
    "collapsed": false
   },
   "outputs": [
    {
     "data": {
      "text/plain": [
       "2.9142368678435155"
      ]
     },
     "execution_count": 30,
     "metadata": {},
     "output_type": "execute_result"
    }
   ],
   "source": [
    "calc_chisq(lightcurve,np.median(lightcurve[baseline,1]) -bell_curve(lightcurve[:,0]-peaks[0]\n",
    "                                            , b_init_par[0], b_init_par[1],\n",
    "                                             b_init_par[2], b_init_par[3]))"
   ]
  },
  {
   "cell_type": "code",
   "execution_count": 31,
   "metadata": {
    "collapsed": false
   },
   "outputs": [
    {
     "name": "stderr",
     "output_type": "stream",
     "text": [
      "/Users/Research/Library/Enthought/Canopy_64bit/User/lib/python2.7/site-packages/scipy/optimize/minpack.py:787: OptimizeWarning: Covariance of the parameters could not be estimated\n",
      "  category=OptimizeWarning)\n"
     ]
    }
   ],
   "source": [
    "PSPL_init_par = estimate_init_param(lightcurve, peaks[0], 'PSPL',\n",
    "                                         baseline, event, it0)\n",
    "\n",
    "(PSPLfit,PSPLcov) = optimize.curve_fit(PSPL,lightcurve[event,0]-peaks[0],\n",
    "                                                lightcurve[event,1],\n",
    "                                                 p0=PSPL_init_par)\n",
    "        \n",
    "PSPLfx = PSPL(lightcurve[:,0]-peaks[0],PSPLfit[0],PSPLfit[1],PSPLfit[2],PSPLfit[3])\n",
    "#PSPLfx = np.median(lightcurve[baseline,1]) - PSPLfx\n",
    "        \n",
    "PSPL_chisq = calc_chisq(lightcurve,PSPLfx)"
   ]
  },
  {
   "cell_type": "code",
   "execution_count": 32,
   "metadata": {
    "collapsed": false
   },
   "outputs": [
    {
     "data": {
      "image/png": "[encoded data removed]",
      "text/plain": [
       "<matplotlib.figure.Figure at 0x118b76050>"
      ]
     },
     "metadata": {},
     "output_type": "display_data"
    }
   ],
   "source": [
    "plt.plot(lightcurve[:,0]-peaks[0],lightcurve[:,1],'m.')\n",
    "#plt.plot(lightcurve[:,0],bfx,'g-.')\n",
    "plt.plot(lightcurve[:,0]-peaks[0],PSPL(lightcurve[:,0]-peaks[0]\n",
    "                                            , PSPL_init_par[0], PSPL_init_par[1],\n",
    "                                             PSPL_init_par[2], PSPL_init_par[3]),'b-')\n",
    "\n",
    "plt.plot(lightcurve[:,0]-peaks[0],PSPLfx,'g-')\n",
    "plt.gca().invert_yaxis()"
   ]
  },
  {
   "cell_type": "code",
   "execution_count": 33,
   "metadata": {
    "collapsed": false
   },
   "outputs": [
    {
     "data": {
      "text/plain": [
       "0.14801384116854127"
      ]
     },
     "execution_count": 33,
     "metadata": {},
     "output_type": "execute_result"
    }
   ],
   "source": [
    "PSPL_chisq"
   ]
  },
  {
   "cell_type": "code",
   "execution_count": 12,
   "metadata": {
    "collapsed": true
   },
   "outputs": [],
   "source": [
    "# Reading in one single lightcurve\n",
    "\n",
    "f = '/ulwdc1_004_W149.txt'\n",
    "t,m,e = np.loadtxt(temp+f,unpack=True)\n",
    "\n",
    "df = pd.DataFrame({'t': t, 'magnitude': m, 'm_err': e})"
   ]
  },
  {
   "cell_type": "code",
   "execution_count": 11,
   "metadata": {
    "collapsed": true
   },
   "outputs": [],
   "source": [
    "# Testing the fit on an OGLE free-floating candidate with a large value of rho\n",
    "\n",
    "f = 'data/OGLE_2012_BLG_1323/phot.dat'\n",
    "t,m,e = np.loadtxt(f,unpack=True, usecols=(0,1,2))\n",
    "\n",
    "df = pd.DataFrame({'t': t, 'magnitude': m, 'm_err': e})\n",
    "df['del_m'] = df['magnitude']-np.median(df['magnitude'])"
   ]
  },
  {
   "cell_type": "code",
   "execution_count": 13,
   "metadata": {
    "collapsed": true
   },
   "outputs": [],
   "source": [
    "lightcurve = np.zeros((len(t),3))\n",
    "lightcurve[:,0] = t\n",
    "lightcurve[:,1] = m\n",
    "lightcurve[:,2] = e\n",
    "peaks = np.array([t[np.argmin(m)]])"
   ]
  },
  {
   "cell_type": "code",
   "execution_count": 14,
   "metadata": {
    "collapsed": false
   },
   "outputs": [
    {
     "data": {
      "image/png": "[encoded data removed]",
      "text/plain": [
       "<matplotlib.figure.Figure at 0x115d5aa10>"
      ]
     },
     "metadata": {},
     "output_type": "display_data"
    }
   ],
   "source": [
    "# Plotting one single light curve\n",
    "dt = 50\n",
    "plt.figure(1)\n",
    "plt.plot(df['t'], df['magnitude'],'b.')\n",
    "plt.gca().invert_yaxis()\n",
    "#plt.axvline(1767.01716721)\n",
    "plt.xlim(peaks[0]-dt, peaks[0]+dt)\n",
    "fig = plt.gcf()\n",
    "fig.set_size_inches(12.0,10.0)\n",
    "#fig.savefig('Non-microlensing.png')"
   ]
  },
  {
   "cell_type": "code",
   "execution_count": 15,
   "metadata": {
    "collapsed": true
   },
   "outputs": [],
   "source": [
    "(baseline, event, it0) = localize_event(lightcurve, peaks[0],50)\n",
    "\n"
   ]
  },
  {
   "cell_type": "code",
   "execution_count": 40,
   "metadata": {
    "collapsed": false
   },
   "outputs": [
    {
     "data": {
      "image/png": "[encoded data removed]",
      "text/plain": [
       "<matplotlib.figure.Figure at 0x1163b21d0>"
      ]
     },
     "metadata": {},
     "output_type": "display_data"
    }
   ],
   "source": [
    "#Fitting Gaussian\n",
    "\n",
    "(baseline, event, it0) = localize_event(lightcurve, peaks[0],50)\n",
    "g_init_par = estimate_init_param(lightcurve, peaks[0], 'gaussian',\n",
    "                                         baseline, event, it0)\n",
    "\n",
    "(gfit,gcov) = optimize.curve_fit(gaussian,lightcurve[event,0]-peaks[0],\n",
    "                                          -lightcurve[event,1]+np.median(lightcurve[baseline,1]),\n",
    "                                         p0=g_init_par)\n",
    "\n",
    "gfx = gaussian(lightcurve[:,0]-peaks[0],g_init_par[0],g_init_par[1],g_init_par[2])\n",
    "gfx = np.median(lightcurve[baseline,1]) - gfx\n",
    "\n",
    "gfx2 = gaussian(lightcurve[:,0]-peaks[0],gfit[0],gfit[1],gfit[2])\n",
    "gfx2 = -gfx2+np.median(lightcurve[baseline,1])\n",
    "\n",
    "plt.plot(lightcurve[:,0]-peaks[0],lightcurve[:,1],'m.')\n",
    "plt.plot(lightcurve[:,0]-peaks[0],gfx,'g-.')\n",
    "plt.plot(lightcurve[:,0]-peaks[0],gfx2,'g-')\n",
    "plt.xlim(-50,50)\n",
    "plt.gca().invert_yaxis()"
   ]
  },
  {
   "cell_type": "code",
   "execution_count": 48,
   "metadata": {
    "collapsed": false
   },
   "outputs": [
    {
     "name": "stdout",
     "output_type": "stream",
     "text": [
      "[ 0.71798875  3.86213173 -0.38667902  0.08443272]\n"
     ]
    },
    {
     "data": {
      "image/png": "[encoded data removed]",
      "text/plain": [
       "<matplotlib.figure.Figure at 0x1167ea7d0>"
      ]
     },
     "metadata": {},
     "output_type": "display_data"
    }
   ],
   "source": [
    "#Fitting bellcurve\n",
    "\n",
    "b_init_par = estimate_init_param(lightcurve, peaks[0], 'bellcurve',\n",
    "                                         baseline, event, it0)\n",
    "b_init_par[1] = 1\n",
    "#b_init_par = [3.0,1.0,0.0,4.0]\n",
    "\n",
    "try: \n",
    "    (bfit,bcov) = optimize.curve_fit(bell_curve,lightcurve[:,0]-peaks[0],\n",
    "                                                -lightcurve[:,1]+np.median(lightcurve[baseline,1]),\n",
    "                                                 p0=b_init_par)\n",
    "except RuntimeError:\n",
    "        (baseline, event, it0) = localize_event(lightcurve, peaks[0],10)\n",
    "        b_init_par = estimate_init_param(lightcurve, t0, 'bellcurve', baseline, event, it0)\n",
    "        print b_init_par\n",
    "\n",
    "\n",
    "        (bfit,bcov) = optimize.curve_fit(bell_curve,lightcurve[:,0]-t0,\n",
    "                                                -lightcurve[:,1]+np.median(lightcurve[baseline,1]),\n",
    "                                                 p0=b_init_par)\n",
    "\n",
    "print bfit\n",
    "\n",
    "bfx = bell_curve(lightcurve[:,0]-peaks[0],bfit[0],bfit[1],bfit[2],bfit[3])\n",
    "bfx = np.median(lightcurve[baseline,1]) - bfx\n",
    "\n",
    "plt.plot(lightcurve[:,0]-peaks[0],lightcurve[:,1],'m.')\n",
    "plt.plot(lightcurve[:,0],bfx,'g-.')\n",
    "plt.plot(lightcurve[:,0]-peaks[0],np.median(lightcurve[baseline,1]) -bell_curve(lightcurve[:,0]-peaks[0]\n",
    "                                            , b_init_par[0], b_init_par[1],\n",
    "                                             b_init_par[2], b_init_par[3]),'b-')\n",
    "\n",
    "plt.plot(lightcurve[:,0]-peaks[0],bfx,'g-')\n",
    "plt.xlim(-50,50)\n",
    "\n",
    "\n",
    "plt.gca().invert_yaxis()"
   ]
  },
  {
   "cell_type": "code",
   "execution_count": 243,
   "metadata": {
    "collapsed": false
   },
   "outputs": [
    {
     "data": {
      "text/plain": [
       "[7.164426000323147, 1.0, 0.0, 0.039794999999998026]"
      ]
     },
     "execution_count": 243,
     "metadata": {},
     "output_type": "execute_result"
    }
   ],
   "source": [
    "b_init_par\n"
   ]
  },
  {
   "cell_type": "code",
   "execution_count": 244,
   "metadata": {
    "collapsed": true
   },
   "outputs": [],
   "source": [
    "g_chisq = calc_chisq(lightcurve,gfx2)\n",
    "b_chisq = calc_chisq(lightcurve,bfx)"
   ]
  },
  {
   "cell_type": "code",
   "execution_count": 288,
   "metadata": {
    "collapsed": false
   },
   "outputs": [
    {
     "data": {
      "text/plain": [
       "-0.001694448758235892"
      ]
     },
     "execution_count": 288,
     "metadata": {},
     "output_type": "execute_result"
    }
   ],
   "source": [
    "g_chisq-b_chisq"
   ]
  },
  {
   "cell_type": "code",
   "execution_count": 246,
   "metadata": {
    "collapsed": false
   },
   "outputs": [
    {
     "data": {
      "text/plain": [
       "0.05849773917165134"
      ]
     },
     "execution_count": 246,
     "metadata": {},
     "output_type": "execute_result"
    }
   ],
   "source": [
    "b_chisq"
   ]
  },
  {
   "cell_type": "code",
   "execution_count": 185,
   "metadata": {
    "collapsed": false
   },
   "outputs": [
    {
     "name": "stdout",
     "output_type": "stream",
     "text": [
      "38568\n"
     ]
    }
   ],
   "source": [
    "name = 'mag.dcnormffp_0_82_1594.det.lc.W149'\n",
    "f = home+'/Library/Mobile Documents/com~apple~CloudDocs/Microlensing_Data_Challeng/data-challenge-1/alldclc/'+str(name)\n",
    "t,m,e = np.loadtxt(f,unpack=True)\n",
    "\n",
    "print len(t)\n",
    "\n",
    "F = 100**((np.max(m)-m)/5)\n",
    "\n",
    "df = pd.DataFrame({'t': t, 'Flux_Ratio': F, 'magnitude': m, 'm_err': e})\n"
   ]
  },
  {
   "cell_type": "code",
   "execution_count": 186,
   "metadata": {
    "collapsed": true
   },
   "outputs": [],
   "source": [
    "lightcurve = np.zeros((len(t),3))\n",
    "lightcurve[:,0] = t\n",
    "lightcurve[:,1] = m\n",
    "lightcurve[:,2] = e\n",
    "peak = t[np.argmin(m)]\n",
    "\n",
    "(baseline, event, it0) = localize_event(lightcurve, peak,50)"
   ]
  },
  {
   "cell_type": "code",
   "execution_count": 191,
   "metadata": {
    "collapsed": false
   },
   "outputs": [
    {
     "data": {
      "text/plain": [
       "1636.4759249999188"
      ]
     },
     "execution_count": 191,
     "metadata": {},
     "output_type": "execute_result"
    }
   ],
   "source": [
    "peak-2458234"
   ]
  },
  {
   "cell_type": "code",
   "execution_count": null,
   "metadata": {
    "collapsed": true
   },
   "outputs": [],
   "source": []
  },
  {
   "cell_type": "code",
   "execution_count": 187,
   "metadata": {
    "collapsed": true
   },
   "outputs": [],
   "source": [
    "b_init_par = estimate_init_param(lightcurve, peak, 'bellcurve',\n",
    "                             baseline, event, it0)"
   ]
  },
  {
   "cell_type": "code",
   "execution_count": 188,
   "metadata": {
    "collapsed": true
   },
   "outputs": [],
   "source": [
    "(bfit,bcov) = optimize.curve_fit(bell_curve,lightcurve[:,0]-peak,\n",
    "                                            -lightcurve[:,1]+np.median(lightcurve[baseline,1]),\n",
    "                                             p0=b_init_par)"
   ]
  },
  {
   "cell_type": "code",
   "execution_count": 177,
   "metadata": {
    "collapsed": false
   },
   "outputs": [],
   "source": [
    "b_init_par[0]=1\n"
   ]
  },
  {
   "cell_type": "code",
   "execution_count": 189,
   "metadata": {
    "collapsed": false
   },
   "outputs": [
    {
     "data": {
      "image/png": "[encoded data removed]",
      "text/plain": [
       "<matplotlib.figure.Figure at 0x2d45967d0>"
      ]
     },
     "metadata": {},
     "output_type": "display_data"
    }
   ],
   "source": [
    "plt.figure()\n",
    "plt.title('Fitting Cauchy Distribution PSPL to a Lightcurve', size=25)\n",
    "plt.xlabel('$t - t_0 (days)$',size=29)\n",
    "plt.ylabel('$Magnitude$',size=29)\n",
    "plt.tick_params(axis='y',labelsize=18)\n",
    "plt.tick_params(axis='x',labelsize=20)\n",
    "plt.plot(t[event]-peak, m[event], 'b.', markersize=15)\n",
    "#print param['t_eff=5']\n",
    "plt.plot(t[event]-peak, np.median(lightcurve[baseline,1])-bell_curve(t[event]-peak, *b_init_par ), 'r-')\n",
    "plt.plot(t[event]-peak, np.median(lightcurve[baseline,1])-bell_curve(t[event]-peak, *bfit ), 'k-')\n",
    "plt.axvline(b_init_par[2])\n",
    "\n",
    "\n",
    "#plt.xlim(100,200)\n",
    "plt.gca().invert_yaxis()\n",
    "fig = plt.gcf()\n",
    "fig.set_size_inches(12.0,10.0)\n",
    "#fig.savefig('Trapezoid_FFP.png')"
   ]
  },
  {
   "cell_type": "code",
   "execution_count": 159,
   "metadata": {
    "collapsed": false
   },
   "outputs": [],
   "source": [
    "# Path to the larger dataset\n",
    "home = os.path.expanduser(\"~\")\n",
    "\n",
    "temp = home+'/Library/Mobile Documents/com~apple~CloudDocs/Microlensing_Data_Challeng/data-challenge-1/alldclc/'#lc/'\n",
    "direc = os.listdir(temp)"
   ]
  },
  {
   "cell_type": "code",
   "execution_count": 160,
   "metadata": {
    "collapsed": false
   },
   "outputs": [
    {
     "name": "stderr",
     "output_type": "stream",
     "text": [
      "  1%|          | 56/9948 [00:23<1:10:36,  2.34it/s]/Users/Research/Library/Enthought/Canopy_64bit/User/lib/python2.7/site-packages/ipykernel/__main__.py:22: RuntimeWarning: overflow encountered in power\n",
      "100%|██████████| 9948/9948 [56:16<00:00,  2.95it/s]"
     ]
    },
    {
     "name": "stdout",
     "output_type": "stream",
     "text": [
      "done\n"
     ]
    },
    {
     "name": "stderr",
     "output_type": "stream",
     "text": [
      "\n"
     ]
    }
   ],
   "source": [
    "#Fitting Cauchy to Data Challenge light curves\n",
    "\n",
    "\n",
    "direc.sort()\n",
    "result = {'name':[], 't0_ml':[], 'tE_ml':[], 'b_ml':[],'am_ml':[],'guess':[],\n",
    "          'solution':[], 'xdata': [], 'ydata': [], 'yerr': [], 'event': []}\n",
    "c = 0 \n",
    "\n",
    "for f in tqdm(direc):\n",
    "    #print f\n",
    "    \n",
    "    if  f.endswith('.W149') and f.startswith('mag.'):#f.endswith('.txt') and f.split('_')[2].startswith('W'):\n",
    "        \n",
    "        \n",
    "#         print c\n",
    "        c = c +1\n",
    "        \n",
    "        try:\n",
    "            t,m,e = np.loadtxt(temp+str(f),unpack=True, usecols=(0,1, 2))\n",
    "\n",
    "            lightcurve = np.zeros((len(t),3))\n",
    "            lightcurve[:,0] = t\n",
    "            lightcurve[:,1] = m\n",
    "            lightcurve[:,2] = e\n",
    "            peak = t[np.argmin(m)]\n",
    "\n",
    "            (baseline, event, it0) = localize_event(lightcurve, peak,50)\n",
    "\n",
    "\n",
    "\n",
    "            b_init_par = estimate_init_param(lightcurve, peak, 'bellcurve',\n",
    "                                         baseline, event, it0)\n",
    "            b_init_par[1] = 1\n",
    "            #b_init_par = [3.0,1.0,0.0,4.0]\n",
    "\n",
    "            try: \n",
    "                (bfit,bcov) = optimize.curve_fit(bell_curve,lightcurve[:,0]-peak,\n",
    "                                                            -lightcurve[:,1]+np.median(lightcurve[baseline,1]),\n",
    "                                                             p0=b_init_par)\n",
    "            except RuntimeError:\n",
    "                    (baseline, event, it0) = localize_event(lightcurve, peak,10)\n",
    "                    b_init_par = estimate_init_param(lightcurve, peak, 'bellcurve', baseline, event, it0)\n",
    "                    #print b_init_par\n",
    "\n",
    "\n",
    "                    (bfit,bcov) = optimize.curve_fit(bell_curve,lightcurve[:,0]-peak,\n",
    "                                                            -lightcurve[:,1]+np.median(lightcurve[baseline,1]),\n",
    "                                                             p0=b_init_par)\n",
    "\n",
    "            #print bfit\n",
    "\n",
    "            guess = np.median(lightcurve[baseline,1]) -bell_curve(lightcurve[:,0]-peaks[0]\n",
    "                                            , b_init_par[0], b_init_par[1],\n",
    "                                             b_init_par[2], b_init_par[3])\n",
    "\n",
    "            bfx = bell_curve(lightcurve[:,0]-peak,bfit[0],bfit[1],bfit[2],bfit[3])\n",
    "            bfx = np.median(lightcurve[baseline,1]) - bfx\n",
    "\n",
    "\n",
    "            result['name'].append(f)\n",
    "            result['t0_ml'].append(bfit[2]+peak)\n",
    "            result['tE_ml'].append(bfit[0])\n",
    "            result['b_ml'].append(bfit[1])\n",
    "            result['am_ml'].append(bfit[3])\n",
    "            result['guess'].append(guess)\n",
    "            result['solution'].append(bfx)\n",
    "            result['xdata'].append(t)\n",
    "            result['ydata'].append(m)\n",
    "            result['yerr'].append(e)\n",
    "            result['event'].append(event)\n",
    "            \n",
    "        except (RuntimeError, TypeError, NameError, ValueError):\n",
    "            #print 'error: '+f\n",
    "            pass\n",
    "#     if c == 4:\n",
    "#         break\n",
    "\n",
    "print 'done'\n",
    "\n",
    "\n",
    "\n",
    "\n",
    "\n",
    "\n",
    "\n"
   ]
  },
  {
   "cell_type": "code",
   "execution_count": 162,
   "metadata": {
    "collapsed": false
   },
   "outputs": [],
   "source": [
    "info1 = pd.read_csv('ombin.CSV')\n",
    "info2 = pd.read_csv('omcassan.CSV')\n",
    "info3 = pd.read_csv('dccv.CSV')\n",
    "info4 = pd.read_csv('dcnormffp.CSV')"
   ]
  },
  {
   "cell_type": "code",
   "execution_count": 163,
   "metadata": {
    "collapsed": true
   },
   "outputs": [],
   "source": [
    "frames = [info1, info2, info3, info4]\n",
    "\n",
    "info = pd.concat(frames)"
   ]
  },
  {
   "cell_type": "code",
   "execution_count": 164,
   "metadata": {
    "collapsed": true
   },
   "outputs": [],
   "source": [
    "info['tE_ml'] = np.zeros(len(info))\n",
    "info['t0_ml'] = np.zeros(len(info))\n",
    "info['am_ml'] = np.zeros(len(info))\n",
    "info['b_ml'] = np.zeros(len(info))"
   ]
  },
  {
   "cell_type": "code",
   "execution_count": 165,
   "metadata": {
    "collapsed": true
   },
   "outputs": [],
   "source": [
    "info = info.rename(columns={\"index\": \"name\"})"
   ]
  },
  {
   "cell_type": "code",
   "execution_count": 166,
   "metadata": {
    "collapsed": true
   },
   "outputs": [],
   "source": [
    "for i in range(len(result['name'])):\n",
    "\n",
    "    if result['name'][i].split('.lc')[0].endswith('all'): \n",
    "        result['name'][i] = result['name'][i].split('all')[0]+'det'+result['name'][i].split('all')[1]"
   ]
  },
  {
   "cell_type": "code",
   "execution_count": 167,
   "metadata": {
    "collapsed": false
   },
   "outputs": [
    {
     "name": "stderr",
     "output_type": "stream",
     "text": [
      " 79%|███████▉  | 3581/4536 [01:02<00:16, 57.63it/s]"
     ]
    },
    {
     "name": "stdout",
     "output_type": "stream",
     "text": [
      "mag.omcassan_0_100_1197.det.lc.W149\n",
      "mag.omcassan_0_100_3114.det.lc.W149\n",
      "mag.omcassan_0_100_66.det.lc.W149\n",
      "mag.omcassan_0_10_1228.det.lc.W149\n"
     ]
    },
    {
     "name": "stderr",
     "output_type": "stream",
     "text": [
      " 80%|███████▉  | 3608/4536 [01:02<00:16, 57.62it/s]"
     ]
    },
    {
     "name": "stdout",
     "output_type": "stream",
     "text": [
      "mag.omcassan_0_21_2040.det.lc.W149\n",
      "mag.omcassan_0_21_414.det.lc.W149\n",
      "mag.omcassan_0_22_3213.det.lc.W149\n"
     ]
    },
    {
     "name": "stderr",
     "output_type": "stream",
     "text": [
      " 80%|███████▉  | 3628/4536 [01:02<00:15, 57.63it/s]"
     ]
    },
    {
     "name": "stdout",
     "output_type": "stream",
     "text": [
      "mag.omcassan_0_34_1491.det.lc.W149\n",
      "mag.omcassan_0_35_2018.det.lc.W149\n",
      "mag.omcassan_0_44_669.det.lc.W149\n",
      "mag.omcassan_0_46_400.det.lc.W149\n"
     ]
    },
    {
     "name": "stderr",
     "output_type": "stream",
     "text": [
      " 80%|████████  | 3641/4536 [01:03<00:15, 57.64it/s]"
     ]
    },
    {
     "name": "stdout",
     "output_type": "stream",
     "text": [
      "mag.omcassan_0_48_1719.det.lc.W149\n",
      "mag.omcassan_0_49_1633.det.lc.W149\n",
      "mag.omcassan_0_58_1019.det.lc.W149\n",
      "mag.omcassan_0_59_1633.det.lc.W149\n",
      "mag.omcassan_0_59_2013.det.lc.W149\n",
      "mag.omcassan_0_61_1201.det.lc.W149\n"
     ]
    },
    {
     "name": "stderr",
     "output_type": "stream",
     "text": [
      " 81%|████████  | 3653/4536 [01:03<00:15, 57.63it/s]"
     ]
    },
    {
     "name": "stdout",
     "output_type": "stream",
     "text": [
      "mag.omcassan_0_61_384.det.lc.W149\n",
      "mag.omcassan_0_61_681.det.lc.W149\n",
      "mag.omcassan_0_63_316.det.lc.W149\n",
      "mag.omcassan_0_6_1191.det.lc.W149\n",
      "mag.omcassan_0_71_259.det.lc.W149\n"
     ]
    },
    {
     "name": "stderr",
     "output_type": "stream",
     "text": [
      " 81%|████████  | 3672/4536 [01:03<00:15, 57.57it/s]"
     ]
    },
    {
     "name": "stdout",
     "output_type": "stream",
     "text": [
      "mag.omcassan_0_7_534.det.lc.W149\n",
      "mag.omcassan_0_83_241.det.lc.W149\n",
      "mag.omcassan_0_84_720.det.lc.W149\n",
      "mag.omcassan_0_86_2143.det.lc.W149\n"
     ]
    },
    {
     "name": "stderr",
     "output_type": "stream",
     "text": [
      "\r",
      " 81%|████████  | 3678/4536 [01:03<00:14, 57.52it/s]"
     ]
    },
    {
     "name": "stdout",
     "output_type": "stream",
     "text": [
      "mag.omcassan_0_86_2152.det.lc.W149\n",
      "mag.omcassan_0_87_1718.det.lc.W149\n",
      "mag.omcassan_0_87_2127.det.lc.W149\n",
      "mag.omcassan_0_88_2050.det.lc.W149\n",
      "mag.omcassan_0_89_114.det.lc.W149\n"
     ]
    },
    {
     "name": "stderr",
     "output_type": "stream",
     "text": [
      " 81%|████████▏ | 3696/4536 [01:04<00:14, 57.51it/s]"
     ]
    },
    {
     "name": "stdout",
     "output_type": "stream",
     "text": [
      "mag.omcassan_0_97_1005.det.lc.W149\n",
      "mag.omcassan_0_97_964.det.lc.W149\n",
      "mag.omcassan_0_98_1251.det.lc.W149\n",
      "mag.omcassan_0_98_1412.det.lc.W149\n",
      "mag.omcassan_0_99_1601.det.lc.W149\n"
     ]
    },
    {
     "name": "stderr",
     "output_type": "stream",
     "text": [
      " 82%|████████▏ | 3708/4536 [01:04<00:14, 57.45it/s]"
     ]
    },
    {
     "name": "stdout",
     "output_type": "stream",
     "text": [
      "mag.omcassan_10_18_463.det.lc.W149\n",
      "mag.omcassan_10_44_787.det.lc.W149\n",
      "mag.omcassan_10_47_126.det.lc.W149\n",
      "mag.omcassan_10_50_253.det.lc.W149\n"
     ]
    },
    {
     "name": "stderr",
     "output_type": "stream",
     "text": [
      " 82%|████████▏ | 3720/4536 [01:04<00:14, 57.46it/s]"
     ]
    },
    {
     "name": "stdout",
     "output_type": "stream",
     "text": [
      "mag.omcassan_10_5_594.det.lc.W149\n",
      "mag.omcassan_10_6_423.det.lc.W149\n",
      "mag.omcassan_10_72_1307.det.lc.W149\n",
      "mag.omcassan_10_73_847.det.lc.W149\n"
     ]
    },
    {
     "name": "stderr",
     "output_type": "stream",
     "text": [
      " 82%|████████▏ | 3733/4536 [01:04<00:13, 57.47it/s]"
     ]
    },
    {
     "name": "stdout",
     "output_type": "stream",
     "text": [
      "mag.omcassan_10_89_385.det.lc.W149\n",
      "mag.omcassan_10_98_148.det.lc.W149\n"
     ]
    },
    {
     "name": "stderr",
     "output_type": "stream",
     "text": [
      " 83%|████████▎ | 3745/4536 [01:05<00:13, 57.47it/s]"
     ]
    },
    {
     "name": "stdout",
     "output_type": "stream",
     "text": [
      "mag.omcassan_1_110_551.det.lc.W149\n",
      "mag.omcassan_1_111_474.det.lc.W149\n",
      "mag.omcassan_1_112_1070.det.lc.W149\n",
      "mag.omcassan_1_112_65.det.lc.W149\n",
      "mag.omcassan_1_113_1809.det.lc.W149\n"
     ]
    },
    {
     "name": "stderr",
     "output_type": "stream",
     "text": [
      " 83%|████████▎ | 3757/4536 [01:05<00:13, 57.46it/s]"
     ]
    },
    {
     "name": "stdout",
     "output_type": "stream",
     "text": [
      "mag.omcassan_1_11_182.det.lc.W149\n",
      "mag.omcassan_1_18_442.det.lc.W149\n",
      "mag.omcassan_1_18_674.det.lc.W149\n",
      "mag.omcassan_1_20_288.det.lc.W149\n",
      "mag.omcassan_1_20_979.det.lc.W149\n",
      "mag.omcassan_1_23_1262.det.lc.W149\n",
      "mag.omcassan_1_23_1397.det.lc.W149\n"
     ]
    },
    {
     "name": "stderr",
     "output_type": "stream",
     "text": [
      " 83%|████████▎ | 3770/4536 [01:05<00:13, 57.47it/s]"
     ]
    },
    {
     "name": "stdout",
     "output_type": "stream",
     "text": [
      "mag.omcassan_1_23_990.det.lc.W149\n",
      "mag.omcassan_1_31_529.det.lc.W149\n",
      "mag.omcassan_1_48_1401.det.lc.W149\n"
     ]
    },
    {
     "name": "stderr",
     "output_type": "stream",
     "text": [
      " 84%|████████▎ | 3788/4536 [01:05<00:13, 57.47it/s]"
     ]
    },
    {
     "name": "stdout",
     "output_type": "stream",
     "text": [
      "mag.omcassan_1_57_2109.det.lc.W149\n",
      "mag.omcassan_1_5_2403.det.lc.W149\n",
      "mag.omcassan_1_5_2609.det.lc.W149\n",
      "mag.omcassan_1_60_992.det.lc.W149\n"
     ]
    },
    {
     "name": "stderr",
     "output_type": "stream",
     "text": [
      " 84%|████████▍ | 3801/4536 [01:06<00:12, 57.48it/s]"
     ]
    },
    {
     "name": "stdout",
     "output_type": "stream",
     "text": [
      "mag.omcassan_1_62_1260.det.lc.W149\n",
      "mag.omcassan_1_63_1559.det.lc.W149\n",
      "mag.omcassan_1_70_1516.det.lc.W149\n",
      "mag.omcassan_1_73_1372.det.lc.W149\n"
     ]
    },
    {
     "name": "stderr",
     "output_type": "stream",
     "text": [
      " 84%|████████▍ | 3813/4536 [01:06<00:12, 57.45it/s]"
     ]
    },
    {
     "name": "stdout",
     "output_type": "stream",
     "text": [
      "mag.omcassan_1_75_1206.det.lc.W149\n",
      "mag.omcassan_1_75_250.det.lc.W149\n",
      "mag.omcassan_1_84_1418.det.lc.W149\n"
     ]
    },
    {
     "name": "stderr",
     "output_type": "stream",
     "text": [
      " 84%|████████▍ | 3826/4536 [01:06<00:12, 57.46it/s]"
     ]
    },
    {
     "name": "stdout",
     "output_type": "stream",
     "text": [
      "mag.omcassan_1_89_1625.det.lc.W149\n",
      "mag.omcassan_1_89_565.det.lc.W149\n",
      "mag.omcassan_1_98_479.det.lc.W149\n"
     ]
    },
    {
     "name": "stderr",
     "output_type": "stream",
     "text": [
      " 85%|████████▍ | 3844/4536 [01:06<00:12, 57.44it/s]"
     ]
    },
    {
     "name": "stdout",
     "output_type": "stream",
     "text": [
      "mag.omcassan_2_10_214.det.lc.W149\n",
      "mag.omcassan_2_110_1013.det.lc.W149\n",
      "mag.omcassan_2_110_1407.det.lc.W149\n",
      "mag.omcassan_2_110_2700.det.lc.W149\n",
      "mag.omcassan_2_112_3277.det.lc.W149\n"
     ]
    },
    {
     "name": "stderr",
     "output_type": "stream",
     "text": [
      " 85%|████████▌ | 3856/4536 [01:07<00:11, 57.42it/s]"
     ]
    },
    {
     "name": "stdout",
     "output_type": "stream",
     "text": [
      "mag.omcassan_2_115_1010.det.lc.W149\n",
      "mag.omcassan_2_20_1425.det.lc.W149\n",
      "mag.omcassan_2_20_253.det.lc.W149\n",
      "mag.omcassan_2_24_1036.det.lc.W149\n"
     ]
    },
    {
     "name": "stderr",
     "output_type": "stream",
     "text": [
      " 85%|████████▌ | 3870/4536 [01:07<00:11, 57.43it/s]"
     ]
    },
    {
     "name": "stdout",
     "output_type": "stream",
     "text": [
      "mag.omcassan_2_31_1443.det.lc.W149\n",
      "mag.omcassan_2_31_37.det.lc.W149\n",
      "mag.omcassan_2_31_832.det.lc.W149\n",
      "mag.omcassan_2_33_54.det.lc.W149\n"
     ]
    },
    {
     "name": "stderr",
     "output_type": "stream",
     "text": [
      " 86%|████████▌ | 3883/4536 [01:07<00:11, 57.42it/s]"
     ]
    },
    {
     "name": "stdout",
     "output_type": "stream",
     "text": [
      "mag.omcassan_2_50_216.det.lc.W149\n",
      "mag.omcassan_2_50_726.det.lc.W149\n",
      "mag.omcassan_2_58_1579.det.lc.W149\n"
     ]
    },
    {
     "name": "stderr",
     "output_type": "stream",
     "text": [
      " 86%|████████▌ | 3903/4536 [01:07<00:11, 57.43it/s]"
     ]
    },
    {
     "name": "stdout",
     "output_type": "stream",
     "text": [
      "mag.omcassan_2_76_219.det.lc.W149\n"
     ]
    },
    {
     "name": "stderr",
     "output_type": "stream",
     "text": [
      " 86%|████████▋ | 3921/4536 [01:08<00:10, 57.36it/s]"
     ]
    },
    {
     "name": "stdout",
     "output_type": "stream",
     "text": [
      "mag.omcassan_2_87_970.det.lc.W149\n",
      "mag.omcassan_2_88_1615.det.lc.W149\n",
      "mag.omcassan_2_96_1919.det.lc.W149\n",
      "mag.omcassan_2_98_1355.det.lc.W149\n",
      "mag.omcassan_3_101_1518.det.lc.W149\n"
     ]
    },
    {
     "name": "stderr",
     "output_type": "stream",
     "text": [
      " 87%|████████▋ | 3938/4536 [01:08<00:10, 57.33it/s]"
     ]
    },
    {
     "name": "stdout",
     "output_type": "stream",
     "text": [
      "mag.omcassan_3_10_404.det.lc.W149\n",
      "mag.omcassan_3_10_486.det.lc.W149\n",
      "mag.omcassan_3_10_628.det.lc.W149\n",
      "mag.omcassan_3_110_1304.det.lc.W149\n"
     ]
    },
    {
     "name": "stderr",
     "output_type": "stream",
     "text": [
      " 87%|████████▋ | 3956/4536 [01:08<00:10, 57.33it/s]"
     ]
    },
    {
     "name": "stdout",
     "output_type": "stream",
     "text": [
      "mag.omcassan_3_11_2077.det.lc.W149\n",
      "mag.omcassan_3_11_3148.det.lc.W149\n",
      "mag.omcassan_3_18_3023.det.lc.W149\n",
      "mag.omcassan_3_20_1560.det.lc.W149\n",
      "mag.omcassan_3_20_1641.det.lc.W149\n"
     ]
    },
    {
     "name": "stderr",
     "output_type": "stream",
     "text": [
      "\r",
      " 87%|████████▋ | 3962/4536 [01:09<00:10, 57.30it/s]"
     ]
    },
    {
     "name": "stdout",
     "output_type": "stream",
     "text": [
      "mag.omcassan_3_21_3178.det.lc.W149\n",
      "mag.omcassan_3_24_1912.det.lc.W149\n",
      "mag.omcassan_3_31_677.det.lc.W149\n"
     ]
    },
    {
     "name": "stderr",
     "output_type": "stream",
     "text": [
      " 88%|████████▊ | 3974/4536 [01:09<00:09, 57.24it/s]"
     ]
    },
    {
     "name": "stdout",
     "output_type": "stream",
     "text": [
      "mag.omcassan_3_33_976.det.lc.W149\n",
      "mag.omcassan_3_49_397.det.lc.W149\n"
     ]
    },
    {
     "name": "stderr",
     "output_type": "stream",
     "text": [
      " 88%|████████▊ | 3989/4536 [01:09<00:09, 57.18it/s]"
     ]
    },
    {
     "name": "stdout",
     "output_type": "stream",
     "text": [
      "mag.omcassan_3_60_1155.det.lc.W149\n",
      "mag.omcassan_3_60_610.det.lc.W149\n",
      "mag.omcassan_3_61_1090.det.lc.W149\n"
     ]
    },
    {
     "name": "stderr",
     "output_type": "stream",
     "text": [
      " 88%|████████▊ | 3999/4536 [01:09<00:09, 57.15it/s]"
     ]
    },
    {
     "name": "stdout",
     "output_type": "stream",
     "text": [
      "mag.omcassan_3_70_2948.det.lc.W149\n",
      "mag.omcassan_3_72_1843.det.lc.W149\n",
      "mag.omcassan_3_72_2269.det.lc.W149\n"
     ]
    },
    {
     "name": "stderr",
     "output_type": "stream",
     "text": [
      " 89%|████████▊ | 4017/4536 [01:10<00:09, 57.14it/s]"
     ]
    },
    {
     "name": "stdout",
     "output_type": "stream",
     "text": [
      "mag.omcassan_3_75_2250.det.lc.W149\n",
      "mag.omcassan_3_76_472.det.lc.W149\n",
      "mag.omcassan_3_83_382.det.lc.W149\n",
      "mag.omcassan_3_84_119.det.lc.W149\n"
     ]
    },
    {
     "name": "stderr",
     "output_type": "stream",
     "text": [
      " 89%|████████▉ | 4029/4536 [01:10<00:08, 57.11it/s]"
     ]
    },
    {
     "name": "stdout",
     "output_type": "stream",
     "text": [
      "mag.omcassan_3_86_862.det.lc.W149\n",
      "mag.omcassan_3_87_49.det.lc.W149\n",
      "mag.omcassan_3_89_51.det.lc.W149\n",
      "mag.omcassan_3_89_57.det.lc.W149\n",
      "mag.omcassan_3_96_1862.det.lc.W149\n"
     ]
    },
    {
     "name": "stderr",
     "output_type": "stream",
     "text": [
      " 89%|████████▉ | 4042/4536 [01:10<00:08, 57.12it/s]"
     ]
    },
    {
     "name": "stdout",
     "output_type": "stream",
     "text": [
      "mag.omcassan_3_97_694.det.lc.W149\n",
      "mag.omcassan_3_9_165.det.lc.W149\n",
      "mag.omcassan_4_100_282.det.lc.W149\n",
      "mag.omcassan_4_100_393.det.lc.W149\n"
     ]
    },
    {
     "name": "stderr",
     "output_type": "stream",
     "text": [
      " 89%|████████▉ | 4055/4536 [01:10<00:08, 57.12it/s]"
     ]
    },
    {
     "name": "stdout",
     "output_type": "stream",
     "text": [
      "mag.omcassan_4_102_2853.det.lc.W149\n",
      "mag.omcassan_4_102_369.det.lc.W149\n",
      "mag.omcassan_4_111_506.det.lc.W149\n",
      "mag.omcassan_4_112_1245.det.lc.W149\n",
      "mag.omcassan_4_112_585.det.lc.W149\n"
     ]
    },
    {
     "name": "stderr",
     "output_type": "stream",
     "text": [
      " 90%|████████▉ | 4067/4536 [01:11<00:08, 57.07it/s]"
     ]
    },
    {
     "name": "stdout",
     "output_type": "stream",
     "text": [
      "mag.omcassan_4_115_3069.det.lc.W149\n",
      "mag.omcassan_4_115_510.det.lc.W149\n",
      "mag.omcassan_4_18_1719.det.lc.W149\n"
     ]
    },
    {
     "name": "stderr",
     "output_type": "stream",
     "text": [
      " 90%|█████████ | 4086/4536 [01:11<00:07, 57.05it/s]"
     ]
    },
    {
     "name": "stdout",
     "output_type": "stream",
     "text": [
      "mag.omcassan_4_20_1994.det.lc.W149\n",
      "mag.omcassan_4_22_1056.det.lc.W149\n",
      "mag.omcassan_4_22_117.det.lc.W149\n"
     ]
    },
    {
     "name": "stderr",
     "output_type": "stream",
     "text": [
      " 90%|█████████ | 4100/4536 [01:11<00:07, 57.06it/s]"
     ]
    },
    {
     "name": "stdout",
     "output_type": "stream",
     "text": [
      "mag.omcassan_4_32_2432.det.lc.W149\n",
      "mag.omcassan_4_32_2978.det.lc.W149\n",
      "mag.omcassan_4_34_1702.det.lc.W149\n",
      "mag.omcassan_4_35_120.det.lc.W149\n",
      "mag.omcassan_4_36_1502.det.lc.W149\n",
      "mag.omcassan_4_45_2664.det.lc.W149\n"
     ]
    },
    {
     "name": "stderr",
     "output_type": "stream",
     "text": [
      " 91%|█████████ | 4112/4536 [01:12<00:07, 57.07it/s]"
     ]
    },
    {
     "name": "stdout",
     "output_type": "stream",
     "text": [
      "mag.omcassan_4_46_1589.det.lc.W149\n",
      "mag.omcassan_4_48_1128.det.lc.W149\n",
      "mag.omcassan_4_48_41.det.lc.W149\n",
      "mag.omcassan_4_49_18.det.lc.W149\n",
      "mag.omcassan_4_50_713.det.lc.W149\n",
      "mag.omcassan_4_57_3017.det.lc.W149\n"
     ]
    },
    {
     "name": "stderr",
     "output_type": "stream",
     "text": [
      " 91%|█████████ | 4125/4536 [01:12<00:07, 57.08it/s]"
     ]
    },
    {
     "name": "stdout",
     "output_type": "stream",
     "text": [
      "mag.omcassan_4_58_965.det.lc.W149\n",
      "mag.omcassan_4_59_1960.det.lc.W149\n",
      "mag.omcassan_4_5_2136.det.lc.W149\n",
      "mag.omcassan_4_5_2998.det.lc.W149\n",
      "mag.omcassan_4_5_3035.det.lc.W149\n"
     ]
    },
    {
     "name": "stderr",
     "output_type": "stream",
     "text": [
      " 91%|█████████ | 4139/4536 [01:12<00:06, 57.09it/s]"
     ]
    },
    {
     "name": "stdout",
     "output_type": "stream",
     "text": [
      "mag.omcassan_4_61_1408.det.lc.W149\n",
      "mag.omcassan_4_61_1697.det.lc.W149\n",
      "mag.omcassan_4_61_418.det.lc.W149\n",
      "mag.omcassan_4_71_388.det.lc.W149\n"
     ]
    },
    {
     "name": "stderr",
     "output_type": "stream",
     "text": [
      " 92%|█████████▏| 4152/4536 [01:12<00:06, 57.09it/s]"
     ]
    },
    {
     "name": "stdout",
     "output_type": "stream",
     "text": [
      "mag.omcassan_4_76_1183.det.lc.W149\n",
      "mag.omcassan_4_7_1120.det.lc.W149\n",
      "mag.omcassan_4_7_1389.det.lc.W149\n",
      "mag.omcassan_4_7_2334.det.lc.W149\n",
      "mag.omcassan_4_85_882.det.lc.W149\n",
      "mag.omcassan_4_86_3148.det.lc.W149\n",
      "mag.omcassan_4_88_147.det.lc.W149\n"
     ]
    },
    {
     "name": "stderr",
     "output_type": "stream",
     "text": [
      " 92%|█████████▏| 4165/4536 [01:12<00:06, 57.10it/s]"
     ]
    },
    {
     "name": "stdout",
     "output_type": "stream",
     "text": [
      "mag.omcassan_4_89_26.det.lc.W149\n",
      "mag.omcassan_4_98_2078.det.lc.W149\n"
     ]
    },
    {
     "name": "stderr",
     "output_type": "stream",
     "text": [
      " 92%|█████████▏| 4177/4536 [01:13<00:06, 57.10it/s]"
     ]
    },
    {
     "name": "stdout",
     "output_type": "stream",
     "text": [
      "mag.omcassan_4_99_747.det.lc.W149\n",
      "mag.omcassan_5_109_1444.det.lc.W149\n"
     ]
    },
    {
     "name": "stderr",
     "output_type": "stream",
     "text": [
      " 93%|█████████▎| 4198/4536 [01:13<00:05, 57.12it/s]"
     ]
    },
    {
     "name": "stdout",
     "output_type": "stream",
     "text": [
      "mag.omcassan_5_115_1345.det.lc.W149\n"
     ]
    },
    {
     "name": "stderr",
     "output_type": "stream",
     "text": [
      " 93%|█████████▎| 4212/4536 [01:13<00:05, 57.13it/s]"
     ]
    },
    {
     "name": "stdout",
     "output_type": "stream",
     "text": [
      "mag.omcassan_5_20_827.det.lc.W149\n",
      "mag.omcassan_5_22_702.det.lc.W149\n",
      "mag.omcassan_5_24_2829.det.lc.W149\n"
     ]
    },
    {
     "name": "stderr",
     "output_type": "stream",
     "text": [
      " 93%|█████████▎| 4226/4536 [01:13<00:05, 57.14it/s]"
     ]
    },
    {
     "name": "stdout",
     "output_type": "stream",
     "text": [
      "mag.omcassan_5_31_1788.det.lc.W149\n",
      "mag.omcassan_5_32_2780.det.lc.W149\n",
      "mag.omcassan_5_32_901.det.lc.W149\n",
      "mag.omcassan_5_33_1030.det.lc.W149\n",
      "mag.omcassan_5_33_2063.det.lc.W149\n",
      "mag.omcassan_5_33_494.det.lc.W149\n",
      "mag.omcassan_5_35_1368.det.lc.W149\n",
      "mag.omcassan_5_36_594.det.lc.W149\n"
     ]
    },
    {
     "name": "stderr",
     "output_type": "stream",
     "text": [
      " 94%|█████████▎| 4246/4536 [01:14<00:05, 57.16it/s]"
     ]
    },
    {
     "name": "stdout",
     "output_type": "stream",
     "text": [
      "mag.omcassan_5_48_2673.det.lc.W149\n",
      "mag.omcassan_5_58_943.det.lc.W149\n",
      "mag.omcassan_5_59_364.det.lc.W149\n",
      "mag.omcassan_5_59_423.det.lc.W149\n",
      "mag.omcassan_5_59_58.det.lc.W149\n"
     ]
    },
    {
     "name": "stderr",
     "output_type": "stream",
     "text": [
      " 94%|█████████▍| 4260/4536 [01:14<00:04, 57.17it/s]"
     ]
    },
    {
     "name": "stdout",
     "output_type": "stream",
     "text": [
      "mag.omcassan_5_63_1267.det.lc.W149\n",
      "mag.omcassan_5_70_1893.det.lc.W149\n",
      "mag.omcassan_5_72_771.det.lc.W149\n",
      "mag.omcassan_5_73_1293.det.lc.W149\n"
     ]
    },
    {
     "name": "stderr",
     "output_type": "stream",
     "text": [
      " 94%|█████████▍| 4274/4536 [01:14<00:04, 57.18it/s]"
     ]
    },
    {
     "name": "stdout",
     "output_type": "stream",
     "text": [
      "mag.omcassan_5_76_1362.det.lc.W149\n",
      "mag.omcassan_5_86_510.det.lc.W149\n",
      "mag.omcassan_5_96_2508.det.lc.W149\n"
     ]
    },
    {
     "name": "stderr",
     "output_type": "stream",
     "text": [
      " 95%|█████████▍| 4288/4536 [01:14<00:04, 57.19it/s]"
     ]
    },
    {
     "name": "stdout",
     "output_type": "stream",
     "text": [
      "mag.omcassan_5_98_680.det.lc.W149\n",
      "mag.omcassan_6_100_449.det.lc.W149\n",
      "mag.omcassan_6_101_674.det.lc.W149\n",
      "mag.omcassan_6_109_1439.det.lc.W149\n",
      "mag.omcassan_6_110_1017.det.lc.W149\n"
     ]
    },
    {
     "name": "stderr",
     "output_type": "stream",
     "text": [
      " 95%|█████████▍| 4302/4536 [01:15<00:04, 57.20it/s]"
     ]
    },
    {
     "name": "stdout",
     "output_type": "stream",
     "text": [
      "mag.omcassan_6_113_876.det.lc.W149\n",
      "mag.omcassan_6_18_778.det.lc.W149\n",
      "mag.omcassan_6_19_780.det.lc.W149\n",
      "mag.omcassan_6_21_1422.det.lc.W149\n",
      "mag.omcassan_6_22_143.det.lc.W149\n",
      "mag.omcassan_6_31_1211.det.lc.W149\n"
     ]
    },
    {
     "name": "stderr",
     "output_type": "stream",
     "text": [
      " 95%|█████████▌| 4316/4536 [01:15<00:03, 57.22it/s]"
     ]
    },
    {
     "name": "stdout",
     "output_type": "stream",
     "text": [
      "mag.omcassan_6_32_1161.det.lc.W149\n",
      "mag.omcassan_6_37_515.det.lc.W149\n",
      "mag.omcassan_6_44_718.det.lc.W149\n",
      "mag.omcassan_6_48_138.det.lc.W149\n"
     ]
    },
    {
     "name": "stderr",
     "output_type": "stream",
     "text": [
      " 96%|█████████▌| 4337/4536 [01:15<00:03, 57.24it/s]"
     ]
    },
    {
     "name": "stdout",
     "output_type": "stream",
     "text": [
      "mag.omcassan_6_61_1145.det.lc.W149\n",
      "mag.omcassan_6_63_275.det.lc.W149\n",
      "mag.omcassan_6_6_1121.det.lc.W149\n",
      "mag.omcassan_6_6_1314.det.lc.W149\n",
      "mag.omcassan_6_71_1009.det.lc.W149\n",
      "mag.omcassan_6_73_1158.det.lc.W149\n",
      "mag.omcassan_6_74_46.det.lc.W149\n",
      "mag.omcassan_6_74_69.det.lc.W149\n"
     ]
    },
    {
     "name": "stderr",
     "output_type": "stream",
     "text": [
      "\r",
      " 96%|█████████▌| 4344/4536 [01:15<00:03, 57.23it/s]"
     ]
    },
    {
     "name": "stdout",
     "output_type": "stream",
     "text": [
      "mag.omcassan_6_83_728.det.lc.W149\n",
      "mag.omcassan_6_9_342.det.lc.W149\n"
     ]
    },
    {
     "name": "stderr",
     "output_type": "stream",
     "text": [
      " 96%|█████████▌| 4357/4536 [01:16<00:03, 57.24it/s]"
     ]
    },
    {
     "name": "stdout",
     "output_type": "stream",
     "text": [
      "mag.omcassan_6_9_665.det.lc.W149\n",
      "mag.omcassan_7_109_476.det.lc.W149\n",
      "mag.omcassan_7_10_1028.det.lc.W149\n",
      "mag.omcassan_7_110_397.det.lc.W149\n"
     ]
    },
    {
     "name": "stderr",
     "output_type": "stream",
     "text": [
      " 97%|█████████▋| 4378/4536 [01:16<00:02, 57.26it/s]"
     ]
    },
    {
     "name": "stdout",
     "output_type": "stream",
     "text": [
      "mag.omcassan_7_18_1025.det.lc.W149\n",
      "mag.omcassan_7_18_1395.det.lc.W149\n",
      "mag.omcassan_7_19_321.det.lc.W149\n"
     ]
    },
    {
     "name": "stderr",
     "output_type": "stream",
     "text": [
      " 97%|█████████▋| 4399/4536 [01:16<00:02, 57.27it/s]"
     ]
    },
    {
     "name": "stdout",
     "output_type": "stream",
     "text": [
      "mag.omcassan_7_35_1480.det.lc.W149\n",
      "mag.omcassan_7_35_1849.det.lc.W149\n",
      "mag.omcassan_7_45_1506.det.lc.W149\n",
      "mag.omcassan_7_46_132.det.lc.W149\n",
      "mag.omcassan_7_47_674.det.lc.W149\n"
     ]
    },
    {
     "name": "stderr",
     "output_type": "stream",
     "text": [
      " 97%|█████████▋| 4420/4536 [01:17<00:02, 57.29it/s]"
     ]
    },
    {
     "name": "stdout",
     "output_type": "stream",
     "text": [
      "mag.omcassan_7_61_349.det.lc.W149\n",
      "mag.omcassan_7_6_217.det.lc.W149\n",
      "mag.omcassan_7_70_805.det.lc.W149\n",
      "mag.omcassan_7_76_1006.det.lc.W149\n"
     ]
    },
    {
     "name": "stderr",
     "output_type": "stream",
     "text": [
      " 98%|█████████▊| 4433/4536 [01:17<00:01, 57.28it/s]"
     ]
    },
    {
     "name": "stdout",
     "output_type": "stream",
     "text": [
      "mag.omcassan_7_86_1057.det.lc.W149\n",
      "mag.omcassan_8_111_1331.det.lc.W149\n",
      "mag.omcassan_8_112_591.det.lc.W149\n",
      "mag.omcassan_8_11_1083.det.lc.W149\n",
      "mag.omcassan_8_11_432.det.lc.W149\n"
     ]
    },
    {
     "name": "stderr",
     "output_type": "stream",
     "text": [
      " 98%|█████████▊| 4447/4536 [01:17<00:01, 57.30it/s]"
     ]
    },
    {
     "name": "stdout",
     "output_type": "stream",
     "text": [
      "mag.omcassan_8_20_529.det.lc.W149\n",
      "mag.omcassan_8_23_988.det.lc.W149\n",
      "mag.omcassan_8_24_844.det.lc.W149\n",
      "mag.omcassan_8_24_947.det.lc.W149\n",
      "mag.omcassan_8_36_245.det.lc.W149\n"
     ]
    },
    {
     "name": "stderr",
     "output_type": "stream",
     "text": [
      " 99%|█████████▊| 4468/4536 [01:17<00:01, 57.32it/s]"
     ]
    },
    {
     "name": "stdout",
     "output_type": "stream",
     "text": [
      "mag.omcassan_8_50_222.det.lc.W149\n",
      "mag.omcassan_8_61_714.det.lc.W149\n",
      "mag.omcassan_8_75_1283.det.lc.W149\n"
     ]
    },
    {
     "name": "stderr",
     "output_type": "stream",
     "text": [
      " 99%|█████████▉| 4482/4536 [01:18<00:00, 57.33it/s]"
     ]
    },
    {
     "name": "stdout",
     "output_type": "stream",
     "text": [
      "mag.omcassan_8_83_234.det.lc.W149\n",
      "mag.omcassan_8_8_1306.det.lc.W149\n",
      "mag.omcassan_8_96_617.det.lc.W149\n",
      "mag.omcassan_9_100_1029.det.lc.W149\n",
      "mag.omcassan_9_109_347.det.lc.W149\n",
      "mag.omcassan_9_110_116.det.lc.W149\n"
     ]
    },
    {
     "name": "stderr",
     "output_type": "stream",
     "text": [
      " 99%|█████████▉| 4496/4536 [01:18<00:00, 57.34it/s]"
     ]
    },
    {
     "name": "stdout",
     "output_type": "stream",
     "text": [
      "mag.omcassan_9_112_145.det.lc.W149\n",
      "mag.omcassan_9_24_504.det.lc.W149\n",
      "mag.omcassan_9_24_563.det.lc.W149\n",
      "mag.omcassan_9_31_743.det.lc.W149\n"
     ]
    },
    {
     "name": "stderr",
     "output_type": "stream",
     "text": [
      "100%|█████████▉| 4517/4536 [01:18<00:00, 57.36it/s]"
     ]
    },
    {
     "name": "stdout",
     "output_type": "stream",
     "text": [
      "mag.omcassan_9_46_840.det.lc.W149\n",
      "mag.omcassan_9_59_130.det.lc.W149\n",
      "mag.omcassan_9_5_426.det.lc.W149\n",
      "mag.omcassan_9_60_557.det.lc.W149\n"
     ]
    },
    {
     "name": "stderr",
     "output_type": "stream",
     "text": [
      "100%|██████████| 4536/4536 [01:19<00:00, 57.38it/s]"
     ]
    },
    {
     "name": "stdout",
     "output_type": "stream",
     "text": [
      "mag.omcassan_9_89_499.det.lc.W149\n",
      "mag.omcassan_9_99_932.det.lc.W149\n"
     ]
    },
    {
     "name": "stderr",
     "output_type": "stream",
     "text": [
      "\n"
     ]
    }
   ],
   "source": [
    "\n",
    "for i in tqdm(range(len(result['name']))):\n",
    "     \n",
    "    \n",
    "    info.loc[info.name == result['name'][i], 'tE_ml'] = result['tE_ml'][i]\n",
    "    info.loc[info.name == result['name'][i], 't0_ml'] = result['t0_ml'][i]\n",
    "    info.loc[info.name == result['name'][i], 'am_ml'] = result['am_ml'][i]\n",
    "    info.loc[info.name == result['name'][i], 'b_ml'] = result['b_ml'][i]\n",
    "    \n",
    "    if not result['name'][i] in info.name.values:\n",
    "        print result['name'][i]"
   ]
  },
  {
   "cell_type": "code",
   "execution_count": 168,
   "metadata": {
    "collapsed": true
   },
   "outputs": [],
   "source": [
    "info = info.reset_index()"
   ]
  },
  {
   "cell_type": "code",
   "execution_count": 169,
   "metadata": {
    "collapsed": false
   },
   "outputs": [
    {
     "name": "stderr",
     "output_type": "stream",
     "text": [
      "  0%|          | 0/4769 [00:00<?, ?it/s]/Users/Research/Library/Enthought/Canopy_64bit/User/lib/python2.7/site-packages/ipykernel/__main__.py:7: FutureWarning: set_value is deprecated and will be removed in a future release. Please use .at[] or .iat[] accessors instead\n",
      " 19%|█▉        | 910/4769 [00:00<00:00, 9095.54it/s]/Users/Research/Library/Enthought/Canopy_64bit/User/lib/python2.7/site-packages/ipykernel/__main__.py:19: FutureWarning: set_value is deprecated and will be removed in a future release. Please use .at[] or .iat[] accessors instead\n",
      "/Users/Research/Library/Enthought/Canopy_64bit/User/lib/python2.7/site-packages/ipykernel/__main__.py:11: FutureWarning: set_value is deprecated and will be removed in a future release. Please use .at[] or .iat[] accessors instead\n",
      " 46%|████▌     | 2196/4769 [00:00<00:00, 10976.65it/s]/Users/Research/Library/Enthought/Canopy_64bit/User/lib/python2.7/site-packages/ipykernel/__main__.py:15: FutureWarning: set_value is deprecated and will be removed in a future release. Please use .at[] or .iat[] accessors instead\n",
      "100%|██████████| 4769/4769 [00:00<00:00, 12098.66it/s]\n"
     ]
    }
   ],
   "source": [
    "info['type'] = np.zeros(len(info))\n",
    "\n",
    "for i in tqdm(range(len(info))):\n",
    "    \n",
    "    if info['name'][i].split('mag')[1].startswith('.ombin'):\n",
    "        \n",
    "        info.set_value(i, 'type', 1)\n",
    "        \n",
    "    if info['name'][i].split('mag')[1].startswith('.dccv'):\n",
    "        \n",
    "        info.set_value(i, 'type', 0)\n",
    "        \n",
    "    if info['name'][i].split('mag')[1].startswith('.dcnormffp'):\n",
    "        \n",
    "        info.set_value(i, 'type', 3)\n",
    "        \n",
    "    if info['name'][i].split('mag')[1].startswith('.omcassan'):\n",
    "        \n",
    "        info.set_value(i, 'type', 2)"
   ]
  },
  {
   "cell_type": "code",
   "execution_count": 170,
   "metadata": {
    "collapsed": false,
    "scrolled": true
   },
   "outputs": [
    {
     "data": {
      "image/png": "[encoded data removed]",
      "text/plain": [
       "<matplotlib.figure.Figure at 0x356d9a850>"
      ]
     },
     "metadata": {},
     "output_type": "display_data"
    }
   ],
   "source": [
    "# General format for plotting different parameters versus each other \n",
    "\n",
    "fig, axs = plt.subplots(2, 2, sharex=True, sharey=True)\n",
    "\n",
    "x = 't0'\n",
    "y = 't0_ml'\n",
    "c = 1\n",
    "b = 2458234\n",
    "\n",
    "axs[0,0].plot((info[x][info['type']==0]).astype(float).abs()+b,c*(info[y][info['type']==0]).astype(float).abs(), '.',markersize=18, label= 'CV',color='r')\n",
    "axs[0,0].grid()\n",
    "axs[0,0].legend()\n",
    "axs[0,1].plot((info[x][info['type']==1]).astype(float).abs()+b,c*(info[y][info['type']==1]).astype(float).abs(), '.',markersize=18, label= 'Binary', color='g')\n",
    "#axs[0,1].plot((info[x][info['type']==1]).astype(float).abs(),(info[x][info['type']==1]).astype(float).abs(), 'r-')\n",
    "axs[0,1].grid()\n",
    "axs[0,1].legend()\n",
    "axs[1,0].plot((info[x][info['type']==2]).astype(float).abs()+b,c*(info[y][info['type']==2]).astype(float).abs(), '.',markersize=18, label= 'Planetary',  color = 'orange')\n",
    "#axs[1,0].plot((info[x][info['type']==2]).astype(float).abs(),(info[x][info['type']==2]).astype(float).abs(), 'g-')\n",
    "axs[1,0].grid()\n",
    "axs[1,0].legend()\n",
    "axs[1,1].plot((info[x][info['type']==3]).astype(float).abs()+b,c*(info[y][info['type']==3]).astype(float).abs(), '.',markersize=18, label= 'PSPL/FFP', color='blue')\n",
    "#axs[1,1].plot((info[x][info['type']==3]).astype(float).abs(),(info[x][info['type']==3]).astype(float).abs(), 'r-')\n",
    "axs[1,1].grid()\n",
    "axs[1,1].legend()\n",
    "\n",
    "\n",
    "axs[0, 1].tick_params(axis='x',which='both', bottom='off', top='off',labelbottom='off')\n",
    "axs[0, 1].tick_params(axis='y',which='both', bottom='right', top='left',labelleft='off',length=0)\n",
    "\n",
    "axs[0, 0].tick_params(axis='y',which='both', labelsize=12)\n",
    "axs[1, 0].tick_params(axis='both',which='both', labelsize=12)\n",
    "axs[1, 1].tick_params(axis='x',which='both', labelsize=12)\n",
    "\n",
    "#plt.yscale('log')\n",
    "#plt.xscale('log')\n",
    "\n",
    "\n",
    "\n",
    "axs[0, 0].tick_params(axis='x',which='both', bottom='off', top='off',labelbottom='off')\n",
    "axs[1, 1].tick_params(axis='y',which='both', bottom='right', top='left',labelleft='off', length=0)\n",
    "\n",
    "xlim = (min(info.t0+2458234),max(info.t0+2458234))\n",
    "ylim = (min(info.t0+2458234),max(info.t0+2458234))\n",
    "\n",
    "axs[0,0].set_ylim(ylim)\n",
    "axs[0,0].set_xlim(xlim)\n",
    "axs[0,1].set_ylim(ylim)\n",
    "axs[0,1].set_xlim(xlim)\n",
    "axs[1,0].set_ylim(ylim)\n",
    "axs[1,0].set_xlim(xlim)\n",
    "axs[1,1].set_ylim(ylim)\n",
    "axs[1,1].set_xlim(xlim)\n",
    "\n",
    "plt.subplots_adjust(left=None, bottom=None, right=None, top=None,\n",
    "                    wspace=0.05, hspace=0.08) \n",
    "\n",
    "fig.text(0.5, 0.02, x, ha='center',size=30)\n",
    "fig.text(0.02, 0.5, y, va='center', rotation='vertical',size=30)\n",
    "\n",
    "fig = plt.gcf()\n",
    "fig.set_size_inches(10.0,10.0)\n",
    "#fig.savefig('a4-a2.png')"
   ]
  },
  {
   "cell_type": "code",
   "execution_count": 171,
   "metadata": {
    "collapsed": false
   },
   "outputs": [
    {
     "data": {
      "text/plain": [
       "838.2657770002261"
      ]
     },
     "execution_count": 171,
     "metadata": {},
     "output_type": "execute_result"
    }
   ],
   "source": [
    "max(np.abs(np.diff(t)))"
   ]
  },
  {
   "cell_type": "code",
   "execution_count": 172,
   "metadata": {
    "collapsed": false
   },
   "outputs": [
    {
     "data": {
      "text/html": [
       "<div>\n",
       "<style scoped>\n",
       "    .dataframe tbody tr th:only-of-type {\n",
       "        vertical-align: middle;\n",
       "    }\n",
       "\n",
       "    .dataframe tbody tr th {\n",
       "        vertical-align: top;\n",
       "    }\n",
       "\n",
       "    .dataframe thead th {\n",
       "        text-align: right;\n",
       "    }\n",
       "</style>\n",
       "<table border=\"1\" class=\"dataframe\">\n",
       "  <thead>\n",
       "    <tr style=\"text-align: right;\">\n",
       "      <th></th>\n",
       "      <th>name</th>\n",
       "      <th>t0</th>\n",
       "      <th>tE</th>\n",
       "      <th>u0</th>\n",
       "      <th>rho</th>\n",
       "      <th>tE_ml</th>\n",
       "      <th>b_ml</th>\n",
       "    </tr>\n",
       "  </thead>\n",
       "  <tbody>\n",
       "    <tr>\n",
       "      <th>2809</th>\n",
       "      <td>mag.dcnormffp_0_82_40.det.lc.W149</td>\n",
       "      <td>1808.006167</td>\n",
       "      <td>0.021642</td>\n",
       "      <td>0.084908</td>\n",
       "      <td>0.346065</td>\n",
       "      <td>0.009387</td>\n",
       "      <td>2.231813</td>\n",
       "    </tr>\n",
       "    <tr>\n",
       "      <th>2871</th>\n",
       "      <td>mag.dcnormffp_0_82_102.det.lc.W149</td>\n",
       "      <td>1584.730593</td>\n",
       "      <td>0.301991</td>\n",
       "      <td>-0.343847</td>\n",
       "      <td>0.068595</td>\n",
       "      <td>7.887440</td>\n",
       "      <td>5.414898</td>\n",
       "    </tr>\n",
       "    <tr>\n",
       "      <th>2930</th>\n",
       "      <td>mag.dcnormffp_0_82_161.det.lc.W149</td>\n",
       "      <td>124.800095</td>\n",
       "      <td>0.019782</td>\n",
       "      <td>-0.298482</td>\n",
       "      <td>0.695438</td>\n",
       "      <td>0.014649</td>\n",
       "      <td>2.057514</td>\n",
       "    </tr>\n",
       "    <tr>\n",
       "      <th>2965</th>\n",
       "      <td>mag.dcnormffp_0_82_196.det.lc.W149</td>\n",
       "      <td>115.746661</td>\n",
       "      <td>26.032300</td>\n",
       "      <td>0.831347</td>\n",
       "      <td>0.000972</td>\n",
       "      <td>47.010433</td>\n",
       "      <td>2.203154</td>\n",
       "    </tr>\n",
       "    <tr>\n",
       "      <th>3107</th>\n",
       "      <td>mag.dcnormffp_0_82_338.det.lc.W149</td>\n",
       "      <td>549.509877</td>\n",
       "      <td>8.641910</td>\n",
       "      <td>0.494002</td>\n",
       "      <td>0.000429</td>\n",
       "      <td>371.077821</td>\n",
       "      <td>46.180136</td>\n",
       "    </tr>\n",
       "    <tr>\n",
       "      <th>3117</th>\n",
       "      <td>mag.dcnormffp_0_82_348.det.lc.W149</td>\n",
       "      <td>1445.981637</td>\n",
       "      <td>0.321181</td>\n",
       "      <td>-0.813185</td>\n",
       "      <td>0.011998</td>\n",
       "      <td>7828.467831</td>\n",
       "      <td>35.097981</td>\n",
       "    </tr>\n",
       "    <tr>\n",
       "      <th>3149</th>\n",
       "      <td>mag.dcnormffp_0_82_380.det.lc.W149</td>\n",
       "      <td>514.154483</td>\n",
       "      <td>0.074449</td>\n",
       "      <td>-0.461553</td>\n",
       "      <td>0.126334</td>\n",
       "      <td>177.826943</td>\n",
       "      <td>4.286107</td>\n",
       "    </tr>\n",
       "    <tr>\n",
       "      <th>3190</th>\n",
       "      <td>mag.dcnormffp_0_82_421.det.lc.W149</td>\n",
       "      <td>304.758268</td>\n",
       "      <td>0.018393</td>\n",
       "      <td>0.330163</td>\n",
       "      <td>0.231795</td>\n",
       "      <td>0.013408</td>\n",
       "      <td>2.244347</td>\n",
       "    </tr>\n",
       "    <tr>\n",
       "      <th>3196</th>\n",
       "      <td>mag.dcnormffp_0_82_427.det.lc.W149</td>\n",
       "      <td>1404.483705</td>\n",
       "      <td>24.160900</td>\n",
       "      <td>0.643089</td>\n",
       "      <td>0.015132</td>\n",
       "      <td>23.503399</td>\n",
       "      <td>2.075478</td>\n",
       "    </tr>\n",
       "    <tr>\n",
       "      <th>3329</th>\n",
       "      <td>mag.dcnormffp_0_82_560.det.lc.W149</td>\n",
       "      <td>142.781214</td>\n",
       "      <td>0.030432</td>\n",
       "      <td>0.273085</td>\n",
       "      <td>0.050094</td>\n",
       "      <td>-21.928339</td>\n",
       "      <td>8.905259</td>\n",
       "    </tr>\n",
       "    <tr>\n",
       "      <th>3409</th>\n",
       "      <td>mag.dcnormffp_0_82_640.det.lc.W149</td>\n",
       "      <td>1443.168488</td>\n",
       "      <td>0.058597</td>\n",
       "      <td>0.889730</td>\n",
       "      <td>0.157197</td>\n",
       "      <td>-23.129137</td>\n",
       "      <td>4.905579</td>\n",
       "    </tr>\n",
       "    <tr>\n",
       "      <th>3509</th>\n",
       "      <td>mag.dcnormffp_0_82_740.det.lc.W149</td>\n",
       "      <td>180.540411</td>\n",
       "      <td>0.173245</td>\n",
       "      <td>0.283578</td>\n",
       "      <td>0.044916</td>\n",
       "      <td>87.563249</td>\n",
       "      <td>3.756378</td>\n",
       "    </tr>\n",
       "    <tr>\n",
       "      <th>3592</th>\n",
       "      <td>mag.dcnormffp_0_82_823.det.lc.W149</td>\n",
       "      <td>1763.253962</td>\n",
       "      <td>0.157397</td>\n",
       "      <td>0.564635</td>\n",
       "      <td>0.060920</td>\n",
       "      <td>-4.857587</td>\n",
       "      <td>19.206221</td>\n",
       "    </tr>\n",
       "    <tr>\n",
       "      <th>3615</th>\n",
       "      <td>mag.dcnormffp_0_82_846.det.lc.W149</td>\n",
       "      <td>358.877842</td>\n",
       "      <td>0.217171</td>\n",
       "      <td>0.979547</td>\n",
       "      <td>0.011416</td>\n",
       "      <td>682.302594</td>\n",
       "      <td>5.961637</td>\n",
       "    </tr>\n",
       "    <tr>\n",
       "      <th>3618</th>\n",
       "      <td>mag.dcnormffp_0_82_849.det.lc.W149</td>\n",
       "      <td>1812.962154</td>\n",
       "      <td>0.708549</td>\n",
       "      <td>-0.669917</td>\n",
       "      <td>0.013902</td>\n",
       "      <td>-276.560223</td>\n",
       "      <td>21.309935</td>\n",
       "    </tr>\n",
       "    <tr>\n",
       "      <th>3749</th>\n",
       "      <td>mag.dcnormffp_0_82_980.det.lc.W149</td>\n",
       "      <td>1452.761062</td>\n",
       "      <td>0.075020</td>\n",
       "      <td>-0.440940</td>\n",
       "      <td>0.099140</td>\n",
       "      <td>88.338665</td>\n",
       "      <td>13.997055</td>\n",
       "    </tr>\n",
       "    <tr>\n",
       "      <th>3800</th>\n",
       "      <td>mag.dcnormffp_0_82_1031.det.lc.W149</td>\n",
       "      <td>297.174590</td>\n",
       "      <td>0.793504</td>\n",
       "      <td>0.632465</td>\n",
       "      <td>0.003755</td>\n",
       "      <td>7911.919882</td>\n",
       "      <td>14.540945</td>\n",
       "    </tr>\n",
       "    <tr>\n",
       "      <th>3829</th>\n",
       "      <td>mag.dcnormffp_0_82_1060.det.lc.W149</td>\n",
       "      <td>174.753125</td>\n",
       "      <td>0.025653</td>\n",
       "      <td>0.009682</td>\n",
       "      <td>0.246621</td>\n",
       "      <td>0.012971</td>\n",
       "      <td>11.931355</td>\n",
       "    </tr>\n",
       "    <tr>\n",
       "      <th>3869</th>\n",
       "      <td>mag.dcnormffp_0_82_1100.det.lc.W149</td>\n",
       "      <td>167.022611</td>\n",
       "      <td>0.054475</td>\n",
       "      <td>0.951715</td>\n",
       "      <td>0.156106</td>\n",
       "      <td>790.673058</td>\n",
       "      <td>8.341594</td>\n",
       "    </tr>\n",
       "    <tr>\n",
       "      <th>3891</th>\n",
       "      <td>mag.dcnormffp_0_82_1122.det.lc.W149</td>\n",
       "      <td>522.391340</td>\n",
       "      <td>0.054887</td>\n",
       "      <td>0.422859</td>\n",
       "      <td>0.077454</td>\n",
       "      <td>7805.873429</td>\n",
       "      <td>25.533408</td>\n",
       "    </tr>\n",
       "    <tr>\n",
       "      <th>3951</th>\n",
       "      <td>mag.dcnormffp_0_82_1182.det.lc.W149</td>\n",
       "      <td>542.798681</td>\n",
       "      <td>0.195231</td>\n",
       "      <td>-0.534698</td>\n",
       "      <td>0.049662</td>\n",
       "      <td>-165.422510</td>\n",
       "      <td>11.801709</td>\n",
       "    </tr>\n",
       "    <tr>\n",
       "      <th>4032</th>\n",
       "      <td>mag.dcnormffp_0_82_1263.det.lc.W149</td>\n",
       "      <td>1803.157884</td>\n",
       "      <td>0.110364</td>\n",
       "      <td>-0.458370</td>\n",
       "      <td>0.030964</td>\n",
       "      <td>7599.891513</td>\n",
       "      <td>9.088815</td>\n",
       "    </tr>\n",
       "    <tr>\n",
       "      <th>4102</th>\n",
       "      <td>mag.dcnormffp_0_82_1333.det.lc.W149</td>\n",
       "      <td>302.868548</td>\n",
       "      <td>124.197000</td>\n",
       "      <td>-0.495921</td>\n",
       "      <td>0.002647</td>\n",
       "      <td>70.963403</td>\n",
       "      <td>2.258979</td>\n",
       "    </tr>\n",
       "    <tr>\n",
       "      <th>4184</th>\n",
       "      <td>mag.dcnormffp_0_82_1415.det.lc.W149</td>\n",
       "      <td>295.628053</td>\n",
       "      <td>7.084210</td>\n",
       "      <td>0.746715</td>\n",
       "      <td>0.000415</td>\n",
       "      <td>-53.709253</td>\n",
       "      <td>11.458892</td>\n",
       "    </tr>\n",
       "    <tr>\n",
       "      <th>4343</th>\n",
       "      <td>mag.dcnormffp_0_82_1574.det.lc.W149</td>\n",
       "      <td>168.934704</td>\n",
       "      <td>4.862630</td>\n",
       "      <td>-0.262021</td>\n",
       "      <td>0.003664</td>\n",
       "      <td>734.217511</td>\n",
       "      <td>25.857547</td>\n",
       "    </tr>\n",
       "    <tr>\n",
       "      <th>4356</th>\n",
       "      <td>mag.dcnormffp_0_82_1587.det.lc.W149</td>\n",
       "      <td>480.598416</td>\n",
       "      <td>0.143922</td>\n",
       "      <td>0.904450</td>\n",
       "      <td>0.035415</td>\n",
       "      <td>1122.107394</td>\n",
       "      <td>3.090236</td>\n",
       "    </tr>\n",
       "    <tr>\n",
       "      <th>4363</th>\n",
       "      <td>mag.dcnormffp_0_82_1594.det.lc.W149</td>\n",
       "      <td>547.737357</td>\n",
       "      <td>6.350670</td>\n",
       "      <td>0.328912</td>\n",
       "      <td>0.001930</td>\n",
       "      <td>-2.819787</td>\n",
       "      <td>7.808085</td>\n",
       "    </tr>\n",
       "    <tr>\n",
       "      <th>4458</th>\n",
       "      <td>mag.dcnormffp_0_82_1689.det.lc.W149</td>\n",
       "      <td>119.019151</td>\n",
       "      <td>0.784532</td>\n",
       "      <td>0.969780</td>\n",
       "      <td>0.012898</td>\n",
       "      <td>15.716904</td>\n",
       "      <td>20.147091</td>\n",
       "    </tr>\n",
       "    <tr>\n",
       "      <th>4583</th>\n",
       "      <td>mag.dcnormffp_0_82_1814.det.lc.W149</td>\n",
       "      <td>149.027834</td>\n",
       "      <td>5.343730</td>\n",
       "      <td>0.343778</td>\n",
       "      <td>0.001741</td>\n",
       "      <td>120.935955</td>\n",
       "      <td>4.771267</td>\n",
       "    </tr>\n",
       "  </tbody>\n",
       "</table>\n",
       "</div>"
      ],
      "text/plain": [
       "                                     name           t0          tE        u0  \\\n",
       "2809    mag.dcnormffp_0_82_40.det.lc.W149  1808.006167    0.021642  0.084908   \n",
       "2871   mag.dcnormffp_0_82_102.det.lc.W149  1584.730593    0.301991 -0.343847   \n",
       "2930   mag.dcnormffp_0_82_161.det.lc.W149   124.800095    0.019782 -0.298482   \n",
       "2965   mag.dcnormffp_0_82_196.det.lc.W149   115.746661   26.032300  0.831347   \n",
       "3107   mag.dcnormffp_0_82_338.det.lc.W149   549.509877    8.641910  0.494002   \n",
       "3117   mag.dcnormffp_0_82_348.det.lc.W149  1445.981637    0.321181 -0.813185   \n",
       "3149   mag.dcnormffp_0_82_380.det.lc.W149   514.154483    0.074449 -0.461553   \n",
       "3190   mag.dcnormffp_0_82_421.det.lc.W149   304.758268    0.018393  0.330163   \n",
       "3196   mag.dcnormffp_0_82_427.det.lc.W149  1404.483705   24.160900  0.643089   \n",
       "3329   mag.dcnormffp_0_82_560.det.lc.W149   142.781214    0.030432  0.273085   \n",
       "3409   mag.dcnormffp_0_82_640.det.lc.W149  1443.168488    0.058597  0.889730   \n",
       "3509   mag.dcnormffp_0_82_740.det.lc.W149   180.540411    0.173245  0.283578   \n",
       "3592   mag.dcnormffp_0_82_823.det.lc.W149  1763.253962    0.157397  0.564635   \n",
       "3615   mag.dcnormffp_0_82_846.det.lc.W149   358.877842    0.217171  0.979547   \n",
       "3618   mag.dcnormffp_0_82_849.det.lc.W149  1812.962154    0.708549 -0.669917   \n",
       "3749   mag.dcnormffp_0_82_980.det.lc.W149  1452.761062    0.075020 -0.440940   \n",
       "3800  mag.dcnormffp_0_82_1031.det.lc.W149   297.174590    0.793504  0.632465   \n",
       "3829  mag.dcnormffp_0_82_1060.det.lc.W149   174.753125    0.025653  0.009682   \n",
       "3869  mag.dcnormffp_0_82_1100.det.lc.W149   167.022611    0.054475  0.951715   \n",
       "3891  mag.dcnormffp_0_82_1122.det.lc.W149   522.391340    0.054887  0.422859   \n",
       "3951  mag.dcnormffp_0_82_1182.det.lc.W149   542.798681    0.195231 -0.534698   \n",
       "4032  mag.dcnormffp_0_82_1263.det.lc.W149  1803.157884    0.110364 -0.458370   \n",
       "4102  mag.dcnormffp_0_82_1333.det.lc.W149   302.868548  124.197000 -0.495921   \n",
       "4184  mag.dcnormffp_0_82_1415.det.lc.W149   295.628053    7.084210  0.746715   \n",
       "4343  mag.dcnormffp_0_82_1574.det.lc.W149   168.934704    4.862630 -0.262021   \n",
       "4356  mag.dcnormffp_0_82_1587.det.lc.W149   480.598416    0.143922  0.904450   \n",
       "4363  mag.dcnormffp_0_82_1594.det.lc.W149   547.737357    6.350670  0.328912   \n",
       "4458  mag.dcnormffp_0_82_1689.det.lc.W149   119.019151    0.784532  0.969780   \n",
       "4583  mag.dcnormffp_0_82_1814.det.lc.W149   149.027834    5.343730  0.343778   \n",
       "\n",
       "           rho        tE_ml       b_ml  \n",
       "2809  0.346065     0.009387   2.231813  \n",
       "2871  0.068595     7.887440   5.414898  \n",
       "2930  0.695438     0.014649   2.057514  \n",
       "2965  0.000972    47.010433   2.203154  \n",
       "3107  0.000429   371.077821  46.180136  \n",
       "3117  0.011998  7828.467831  35.097981  \n",
       "3149  0.126334   177.826943   4.286107  \n",
       "3190  0.231795     0.013408   2.244347  \n",
       "3196  0.015132    23.503399   2.075478  \n",
       "3329  0.050094   -21.928339   8.905259  \n",
       "3409  0.157197   -23.129137   4.905579  \n",
       "3509  0.044916    87.563249   3.756378  \n",
       "3592  0.060920    -4.857587  19.206221  \n",
       "3615  0.011416   682.302594   5.961637  \n",
       "3618  0.013902  -276.560223  21.309935  \n",
       "3749  0.099140    88.338665  13.997055  \n",
       "3800  0.003755  7911.919882  14.540945  \n",
       "3829  0.246621     0.012971  11.931355  \n",
       "3869  0.156106   790.673058   8.341594  \n",
       "3891  0.077454  7805.873429  25.533408  \n",
       "3951  0.049662  -165.422510  11.801709  \n",
       "4032  0.030964  7599.891513   9.088815  \n",
       "4102  0.002647    70.963403   2.258979  \n",
       "4184  0.000415   -53.709253  11.458892  \n",
       "4343  0.003664   734.217511  25.857547  \n",
       "4356  0.035415  1122.107394   3.090236  \n",
       "4363  0.001930    -2.819787   7.808085  \n",
       "4458  0.012898    15.716904  20.147091  \n",
       "4583  0.001741   120.935955   4.771267  "
      ]
     },
     "execution_count": 172,
     "metadata": {},
     "output_type": "execute_result"
    }
   ],
   "source": [
    "info[['name','t0','tE', 'u0', 'rho', 'tE_ml', 'b_ml']][(info.b_ml>2) & (info.rho<1) & (info.type ==3)]"
   ]
  },
  {
   "cell_type": "code",
   "execution_count": 173,
   "metadata": {
    "collapsed": false
   },
   "outputs": [
    {
     "data": {
      "image/png": "[encoded data removed]",
      "text/plain": [
       "<matplotlib.figure.Figure at 0x2e3d28d50>"
      ]
     },
     "metadata": {},
     "output_type": "display_data"
    }
   ],
   "source": [
    "# General format for plotting different parameters versus each other \n",
    "\n",
    "plt.figure()\n",
    "\n",
    "x = 'tE_ml'\n",
    "y = 'b_ml'\n",
    "c = 1\n",
    "\n",
    "\n",
    "plt.plot((info[x][info['type']==3]).astype(float).abs(),c*(info[y][info['type']==3]).astype(float).abs(), '.', label= 'PSPL/FFP')\n",
    "plt.plot((info[x][(info['type']==3) &(info.rho>0.5)]).astype(float).abs(),c*(info[y][(info['type']==3) &(info.rho>0.5)]).astype(float).abs(), '.', label= 'Large Rho')\n",
    "plt.plot(info['tE_ml'][(info['type']==3)], info['rho'][(info['type']==3) ], 'r.')\n",
    "\n",
    "#plt.plot((info[x][info['type']==0]).astype(float).abs(),c*(info[y][info['type']==0]).astype(float).abs(), '.',markersize=18, label= 'CV')\n",
    "#plt.plot((info[x][info['type']==1]).astype(float).abs(),c*(info[y][info['type']==1]).astype(float).abs(), '.',markersize=18, label= 'Binary')\n",
    "#plt.plot((info[x][info['type']==2]).astype(float).abs(),c*(info[y][info['type']==2]).astype(float).abs(), '.',markersize=18, label= 'Planetary')\n",
    "\n",
    "\n",
    "\n",
    "\n",
    "\n",
    "\n",
    "plt.grid()\n",
    "plt.legend()\n",
    "\n",
    "\n",
    "plt.tick_params(axis='both',which='both', labelsize=12)\n",
    "\n",
    "plt.yscale('log')\n",
    "plt.xscale('log')\n",
    "\n",
    "#plt.xlim(2458346.505461,2460059.241444)\n",
    "# plt.ylim (0,500)\n",
    "\n",
    "\n",
    "plt.xlabel(x, size=25)\n",
    "plt.ylabel(y, size=25)\n",
    "\n",
    "\n",
    "fig = plt.gcf()\n",
    "fig.set_size_inches(10.0,10.0)\n",
    "#fig.savefig('a4-a2.png')"
   ]
  },
  {
   "cell_type": "code",
   "execution_count": 174,
   "metadata": {
    "collapsed": false
   },
   "outputs": [],
   "source": [
    "info_FFP = (info[(info.tE<2) &(info.type==3)])"
   ]
  },
  {
   "cell_type": "code",
   "execution_count": 175,
   "metadata": {
    "collapsed": true
   },
   "outputs": [],
   "source": [
    "info_FFP = info_FFP.reset_index()"
   ]
  },
  {
   "cell_type": "code",
   "execution_count": 176,
   "metadata": {
    "collapsed": false
   },
   "outputs": [
    {
     "data": {
      "text/html": [
       "<div>\n",
       "<style scoped>\n",
       "    .dataframe tbody tr th:only-of-type {\n",
       "        vertical-align: middle;\n",
       "    }\n",
       "\n",
       "    .dataframe tbody tr th {\n",
       "        vertical-align: top;\n",
       "    }\n",
       "\n",
       "    .dataframe thead th {\n",
       "        text-align: right;\n",
       "    }\n",
       "</style>\n",
       "<table border=\"1\" class=\"dataframe\">\n",
       "  <thead>\n",
       "    <tr style=\"text-align: right;\">\n",
       "      <th></th>\n",
       "      <th>level_0</th>\n",
       "      <th>index</th>\n",
       "      <th>Unnamed: 0</th>\n",
       "      <th>base</th>\n",
       "      <th>name</th>\n",
       "      <th>q</th>\n",
       "      <th>rho</th>\n",
       "      <th>s</th>\n",
       "      <th>t0</th>\n",
       "      <th>tE</th>\n",
       "      <th>u0</th>\n",
       "      <th>tE_ml</th>\n",
       "      <th>t0_ml</th>\n",
       "      <th>am_ml</th>\n",
       "      <th>b_ml</th>\n",
       "      <th>type</th>\n",
       "    </tr>\n",
       "  </thead>\n",
       "  <tbody>\n",
       "    <tr>\n",
       "      <th>0</th>\n",
       "      <td>2770</td>\n",
       "      <td>0</td>\n",
       "      <td>1</td>\n",
       "      <td>24.6738</td>\n",
       "      <td>mag.dcnormffp_0_82_1.det.lc.W149</td>\n",
       "      <td>0.000063</td>\n",
       "      <td>0.234729</td>\n",
       "      <td>133.30300</td>\n",
       "      <td>329.022772</td>\n",
       "      <td>0.026695</td>\n",
       "      <td>-0.075500</td>\n",
       "      <td>0.001000</td>\n",
       "      <td>2.458563e+06</td>\n",
       "      <td>1.696108</td>\n",
       "      <td>0.907314</td>\n",
       "      <td>3.0</td>\n",
       "    </tr>\n",
       "    <tr>\n",
       "      <th>1</th>\n",
       "      <td>2771</td>\n",
       "      <td>1</td>\n",
       "      <td>2</td>\n",
       "      <td>24.3677</td>\n",
       "      <td>mag.dcnormffp_0_82_2.det.lc.W149</td>\n",
       "      <td>0.000040</td>\n",
       "      <td>0.045620</td>\n",
       "      <td>51.62650</td>\n",
       "      <td>484.187275</td>\n",
       "      <td>0.591330</td>\n",
       "      <td>0.362461</td>\n",
       "      <td>0.267712</td>\n",
       "      <td>2.458718e+06</td>\n",
       "      <td>0.021232</td>\n",
       "      <td>1.134451</td>\n",
       "      <td>3.0</td>\n",
       "    </tr>\n",
       "    <tr>\n",
       "      <th>2</th>\n",
       "      <td>2772</td>\n",
       "      <td>2</td>\n",
       "      <td>3</td>\n",
       "      <td>20.0949</td>\n",
       "      <td>mag.dcnormffp_0_82_3.det.lc.W149</td>\n",
       "      <td>0.000120</td>\n",
       "      <td>0.255900</td>\n",
       "      <td>67.70350</td>\n",
       "      <td>1774.010804</td>\n",
       "      <td>0.153560</td>\n",
       "      <td>0.923523</td>\n",
       "      <td>0.147162</td>\n",
       "      <td>2.460008e+06</td>\n",
       "      <td>0.303402</td>\n",
       "      <td>1.312291</td>\n",
       "      <td>3.0</td>\n",
       "    </tr>\n",
       "    <tr>\n",
       "      <th>3</th>\n",
       "      <td>2773</td>\n",
       "      <td>3</td>\n",
       "      <td>4</td>\n",
       "      <td>25.5147</td>\n",
       "      <td>mag.dcnormffp_0_82_4.det.lc.W149</td>\n",
       "      <td>0.000072</td>\n",
       "      <td>0.019235</td>\n",
       "      <td>27.71800</td>\n",
       "      <td>1593.232339</td>\n",
       "      <td>0.366821</td>\n",
       "      <td>0.077952</td>\n",
       "      <td>0.045619</td>\n",
       "      <td>2.459827e+06</td>\n",
       "      <td>0.259728</td>\n",
       "      <td>0.791035</td>\n",
       "      <td>3.0</td>\n",
       "    </tr>\n",
       "    <tr>\n",
       "      <th>4</th>\n",
       "      <td>2774</td>\n",
       "      <td>4</td>\n",
       "      <td>5</td>\n",
       "      <td>25.0752</td>\n",
       "      <td>mag.dcnormffp_0_82_5.det.lc.W149</td>\n",
       "      <td>0.000408</td>\n",
       "      <td>0.029176</td>\n",
       "      <td>34.17960</td>\n",
       "      <td>1396.736013</td>\n",
       "      <td>0.865141</td>\n",
       "      <td>0.625127</td>\n",
       "      <td>0.613256</td>\n",
       "      <td>2.459631e+06</td>\n",
       "      <td>0.061272</td>\n",
       "      <td>1.333160</td>\n",
       "      <td>3.0</td>\n",
       "    </tr>\n",
       "    <tr>\n",
       "      <th>5</th>\n",
       "      <td>2775</td>\n",
       "      <td>5</td>\n",
       "      <td>6</td>\n",
       "      <td>21.4929</td>\n",
       "      <td>mag.dcnormffp_0_82_6.det.lc.W149</td>\n",
       "      <td>0.000294</td>\n",
       "      <td>0.048696</td>\n",
       "      <td>14.32510</td>\n",
       "      <td>1601.832206</td>\n",
       "      <td>1.005480</td>\n",
       "      <td>0.414674</td>\n",
       "      <td>0.599989</td>\n",
       "      <td>2.459836e+06</td>\n",
       "      <td>0.721208</td>\n",
       "      <td>1.148326</td>\n",
       "      <td>3.0</td>\n",
       "    </tr>\n",
       "    <tr>\n",
       "      <th>6</th>\n",
       "      <td>2776</td>\n",
       "      <td>6</td>\n",
       "      <td>7</td>\n",
       "      <td>21.8158</td>\n",
       "      <td>mag.dcnormffp_0_82_7.det.lc.W149</td>\n",
       "      <td>0.002002</td>\n",
       "      <td>0.058220</td>\n",
       "      <td>17.23190</td>\n",
       "      <td>1419.633569</td>\n",
       "      <td>0.378760</td>\n",
       "      <td>0.239063</td>\n",
       "      <td>0.143291</td>\n",
       "      <td>2.459654e+06</td>\n",
       "      <td>0.494367</td>\n",
       "      <td>1.040354</td>\n",
       "      <td>3.0</td>\n",
       "    </tr>\n",
       "    <tr>\n",
       "      <th>7</th>\n",
       "      <td>2777</td>\n",
       "      <td>7</td>\n",
       "      <td>8</td>\n",
       "      <td>25.5214</td>\n",
       "      <td>mag.dcnormffp_0_82_8.det.lc.W149</td>\n",
       "      <td>0.002137</td>\n",
       "      <td>0.009961</td>\n",
       "      <td>13.11770</td>\n",
       "      <td>512.863581</td>\n",
       "      <td>0.705796</td>\n",
       "      <td>0.885716</td>\n",
       "      <td>0.000000</td>\n",
       "      <td>0.000000e+00</td>\n",
       "      <td>0.000000</td>\n",
       "      <td>0.000000</td>\n",
       "      <td>3.0</td>\n",
       "    </tr>\n",
       "    <tr>\n",
       "      <th>8</th>\n",
       "      <td>2778</td>\n",
       "      <td>8</td>\n",
       "      <td>9</td>\n",
       "      <td>24.0037</td>\n",
       "      <td>mag.dcnormffp_0_82_9.det.lc.W149</td>\n",
       "      <td>0.001275</td>\n",
       "      <td>0.010971</td>\n",
       "      <td>7.49398</td>\n",
       "      <td>1791.459133</td>\n",
       "      <td>0.705971</td>\n",
       "      <td>-0.843985</td>\n",
       "      <td>0.000000</td>\n",
       "      <td>0.000000e+00</td>\n",
       "      <td>0.000000</td>\n",
       "      <td>0.000000</td>\n",
       "      <td>3.0</td>\n",
       "    </tr>\n",
       "    <tr>\n",
       "      <th>9</th>\n",
       "      <td>2784</td>\n",
       "      <td>14</td>\n",
       "      <td>15</td>\n",
       "      <td>24.6988</td>\n",
       "      <td>mag.dcnormffp_0_82_15.det.lc.W149</td>\n",
       "      <td>0.200249</td>\n",
       "      <td>0.002066</td>\n",
       "      <td>2.24134</td>\n",
       "      <td>1626.389784</td>\n",
       "      <td>1.449490</td>\n",
       "      <td>0.703754</td>\n",
       "      <td>1.096182</td>\n",
       "      <td>2.459860e+06</td>\n",
       "      <td>0.083388</td>\n",
       "      <td>1.203081</td>\n",
       "      <td>3.0</td>\n",
       "    </tr>\n",
       "    <tr>\n",
       "      <th>10</th>\n",
       "      <td>2789</td>\n",
       "      <td>19</td>\n",
       "      <td>20</td>\n",
       "      <td>24.3481</td>\n",
       "      <td>mag.dcnormffp_0_82_20.det.lc.W149</td>\n",
       "      <td>0.000006</td>\n",
       "      <td>0.166729</td>\n",
       "      <td>91.43900</td>\n",
       "      <td>1392.635915</td>\n",
       "      <td>0.049625</td>\n",
       "      <td>-0.035285</td>\n",
       "      <td>0.006032</td>\n",
       "      <td>2.459627e+06</td>\n",
       "      <td>0.226715</td>\n",
       "      <td>0.852105</td>\n",
       "      <td>3.0</td>\n",
       "    </tr>\n",
       "    <tr>\n",
       "      <th>11</th>\n",
       "      <td>2790</td>\n",
       "      <td>20</td>\n",
       "      <td>21</td>\n",
       "      <td>22.0713</td>\n",
       "      <td>mag.dcnormffp_0_82_21.det.lc.W149</td>\n",
       "      <td>0.000047</td>\n",
       "      <td>0.359628</td>\n",
       "      <td>23.93690</td>\n",
       "      <td>523.527394</td>\n",
       "      <td>0.144267</td>\n",
       "      <td>-0.470671</td>\n",
       "      <td>0.085114</td>\n",
       "      <td>2.458758e+06</td>\n",
       "      <td>0.597173</td>\n",
       "      <td>1.148842</td>\n",
       "      <td>3.0</td>\n",
       "    </tr>\n",
       "    <tr>\n",
       "      <th>12</th>\n",
       "      <td>2791</td>\n",
       "      <td>21</td>\n",
       "      <td>22</td>\n",
       "      <td>21.1978</td>\n",
       "      <td>mag.dcnormffp_0_82_22.det.lc.W149</td>\n",
       "      <td>0.000068</td>\n",
       "      <td>0.214925</td>\n",
       "      <td>37.94490</td>\n",
       "      <td>1770.752698</td>\n",
       "      <td>0.042794</td>\n",
       "      <td>-0.351542</td>\n",
       "      <td>0.022668</td>\n",
       "      <td>2.460005e+06</td>\n",
       "      <td>0.878284</td>\n",
       "      <td>1.129103</td>\n",
       "      <td>3.0</td>\n",
       "    </tr>\n",
       "    <tr>\n",
       "      <th>13</th>\n",
       "      <td>2792</td>\n",
       "      <td>22</td>\n",
       "      <td>23</td>\n",
       "      <td>23.2773</td>\n",
       "      <td>mag.dcnormffp_0_82_23.det.lc.W149</td>\n",
       "      <td>0.000215</td>\n",
       "      <td>0.034087</td>\n",
       "      <td>36.76530</td>\n",
       "      <td>1814.833993</td>\n",
       "      <td>0.273165</td>\n",
       "      <td>-0.214056</td>\n",
       "      <td>0.089481</td>\n",
       "      <td>2.460049e+06</td>\n",
       "      <td>0.355829</td>\n",
       "      <td>0.991808</td>\n",
       "      <td>3.0</td>\n",
       "    </tr>\n",
       "    <tr>\n",
       "      <th>14</th>\n",
       "      <td>2793</td>\n",
       "      <td>23</td>\n",
       "      <td>24</td>\n",
       "      <td>21.3298</td>\n",
       "      <td>mag.dcnormffp_0_82_24.det.lc.W149</td>\n",
       "      <td>0.000097</td>\n",
       "      <td>0.453858</td>\n",
       "      <td>122.92000</td>\n",
       "      <td>313.939460</td>\n",
       "      <td>0.040370</td>\n",
       "      <td>-0.693130</td>\n",
       "      <td>0.029335</td>\n",
       "      <td>2.458548e+06</td>\n",
       "      <td>0.129586</td>\n",
       "      <td>1.306517</td>\n",
       "      <td>3.0</td>\n",
       "    </tr>\n",
       "    <tr>\n",
       "      <th>15</th>\n",
       "      <td>2794</td>\n",
       "      <td>24</td>\n",
       "      <td>25</td>\n",
       "      <td>22.4432</td>\n",
       "      <td>mag.dcnormffp_0_82_25.det.lc.W149</td>\n",
       "      <td>0.000122</td>\n",
       "      <td>0.031232</td>\n",
       "      <td>9.22328</td>\n",
       "      <td>1796.998932</td>\n",
       "      <td>0.232677</td>\n",
       "      <td>-0.537212</td>\n",
       "      <td>0.145254</td>\n",
       "      <td>2.460031e+06</td>\n",
       "      <td>0.042968</td>\n",
       "      <td>1.206467</td>\n",
       "      <td>3.0</td>\n",
       "    </tr>\n",
       "    <tr>\n",
       "      <th>16</th>\n",
       "      <td>2795</td>\n",
       "      <td>25</td>\n",
       "      <td>26</td>\n",
       "      <td>24.2186</td>\n",
       "      <td>mag.dcnormffp_0_82_26.det.lc.W149</td>\n",
       "      <td>0.000845</td>\n",
       "      <td>0.038566</td>\n",
       "      <td>22.92630</td>\n",
       "      <td>1395.860835</td>\n",
       "      <td>0.333861</td>\n",
       "      <td>-0.062701</td>\n",
       "      <td>0.038688</td>\n",
       "      <td>2.459630e+06</td>\n",
       "      <td>0.569705</td>\n",
       "      <td>0.800924</td>\n",
       "      <td>3.0</td>\n",
       "    </tr>\n",
       "    <tr>\n",
       "      <th>17</th>\n",
       "      <td>2796</td>\n",
       "      <td>26</td>\n",
       "      <td>27</td>\n",
       "      <td>20.6072</td>\n",
       "      <td>mag.dcnormffp_0_82_27.det.lc.W149</td>\n",
       "      <td>0.000720</td>\n",
       "      <td>0.052816</td>\n",
       "      <td>12.39580</td>\n",
       "      <td>295.899232</td>\n",
       "      <td>0.493913</td>\n",
       "      <td>-0.232742</td>\n",
       "      <td>0.174540</td>\n",
       "      <td>2.458530e+06</td>\n",
       "      <td>0.358123</td>\n",
       "      <td>1.020639</td>\n",
       "      <td>3.0</td>\n",
       "    </tr>\n",
       "    <tr>\n",
       "      <th>18</th>\n",
       "      <td>2797</td>\n",
       "      <td>27</td>\n",
       "      <td>28</td>\n",
       "      <td>24.4002</td>\n",
       "      <td>mag.dcnormffp_0_82_28.det.lc.W149</td>\n",
       "      <td>0.003237</td>\n",
       "      <td>0.024295</td>\n",
       "      <td>20.20320</td>\n",
       "      <td>326.977006</td>\n",
       "      <td>0.859044</td>\n",
       "      <td>-0.911618</td>\n",
       "      <td>0.798193</td>\n",
       "      <td>2.458561e+06</td>\n",
       "      <td>0.061267</td>\n",
       "      <td>1.494346</td>\n",
       "      <td>3.0</td>\n",
       "    </tr>\n",
       "    <tr>\n",
       "      <th>19</th>\n",
       "      <td>2798</td>\n",
       "      <td>28</td>\n",
       "      <td>29</td>\n",
       "      <td>23.2703</td>\n",
       "      <td>mag.dcnormffp_0_82_29.det.lc.W149</td>\n",
       "      <td>0.004749</td>\n",
       "      <td>0.017927</td>\n",
       "      <td>12.25680</td>\n",
       "      <td>297.212059</td>\n",
       "      <td>0.770687</td>\n",
       "      <td>-0.602371</td>\n",
       "      <td>0.471208</td>\n",
       "      <td>2.458531e+06</td>\n",
       "      <td>0.065293</td>\n",
       "      <td>1.123211</td>\n",
       "      <td>3.0</td>\n",
       "    </tr>\n",
       "    <tr>\n",
       "      <th>20</th>\n",
       "      <td>2799</td>\n",
       "      <td>29</td>\n",
       "      <td>30</td>\n",
       "      <td>20.6520</td>\n",
       "      <td>mag.dcnormffp_0_82_30.det.lc.W149</td>\n",
       "      <td>0.005630</td>\n",
       "      <td>0.084669</td>\n",
       "      <td>16.42180</td>\n",
       "      <td>1429.963185</td>\n",
       "      <td>0.362145</td>\n",
       "      <td>0.634891</td>\n",
       "      <td>0.275404</td>\n",
       "      <td>2.459664e+06</td>\n",
       "      <td>0.482132</td>\n",
       "      <td>1.217570</td>\n",
       "      <td>3.0</td>\n",
       "    </tr>\n",
       "    <tr>\n",
       "      <th>21</th>\n",
       "      <td>2800</td>\n",
       "      <td>30</td>\n",
       "      <td>31</td>\n",
       "      <td>25.2038</td>\n",
       "      <td>mag.dcnormffp_0_82_31.det.lc.W149</td>\n",
       "      <td>0.012015</td>\n",
       "      <td>0.004605</td>\n",
       "      <td>4.58072</td>\n",
       "      <td>1781.291973</td>\n",
       "      <td>1.829200</td>\n",
       "      <td>0.256893</td>\n",
       "      <td>0.672403</td>\n",
       "      <td>2.460015e+06</td>\n",
       "      <td>0.184645</td>\n",
       "      <td>1.029274</td>\n",
       "      <td>3.0</td>\n",
       "    </tr>\n",
       "    <tr>\n",
       "      <th>22</th>\n",
       "      <td>2809</td>\n",
       "      <td>39</td>\n",
       "      <td>40</td>\n",
       "      <td>24.7836</td>\n",
       "      <td>mag.dcnormffp_0_82_40.det.lc.W149</td>\n",
       "      <td>0.000027</td>\n",
       "      <td>0.346065</td>\n",
       "      <td>279.66700</td>\n",
       "      <td>1808.006167</td>\n",
       "      <td>0.021642</td>\n",
       "      <td>0.084908</td>\n",
       "      <td>0.009387</td>\n",
       "      <td>2.460042e+06</td>\n",
       "      <td>0.320256</td>\n",
       "      <td>2.231813</td>\n",
       "      <td>3.0</td>\n",
       "    </tr>\n",
       "    <tr>\n",
       "      <th>23</th>\n",
       "      <td>2810</td>\n",
       "      <td>40</td>\n",
       "      <td>41</td>\n",
       "      <td>25.6059</td>\n",
       "      <td>mag.dcnormffp_0_82_41.det.lc.W149</td>\n",
       "      <td>0.000032</td>\n",
       "      <td>0.457328</td>\n",
       "      <td>552.58900</td>\n",
       "      <td>1619.507686</td>\n",
       "      <td>0.012854</td>\n",
       "      <td>-0.395793</td>\n",
       "      <td>0.000000</td>\n",
       "      <td>0.000000e+00</td>\n",
       "      <td>0.000000</td>\n",
       "      <td>0.000000</td>\n",
       "      <td>3.0</td>\n",
       "    </tr>\n",
       "    <tr>\n",
       "      <th>24</th>\n",
       "      <td>2811</td>\n",
       "      <td>41</td>\n",
       "      <td>42</td>\n",
       "      <td>21.4964</td>\n",
       "      <td>mag.dcnormffp_0_82_42.det.lc.W149</td>\n",
       "      <td>0.000044</td>\n",
       "      <td>0.110455</td>\n",
       "      <td>62.03100</td>\n",
       "      <td>483.461614</td>\n",
       "      <td>0.460651</td>\n",
       "      <td>0.346785</td>\n",
       "      <td>0.234277</td>\n",
       "      <td>2.458717e+06</td>\n",
       "      <td>0.647252</td>\n",
       "      <td>1.095497</td>\n",
       "      <td>3.0</td>\n",
       "    </tr>\n",
       "    <tr>\n",
       "      <th>25</th>\n",
       "      <td>2812</td>\n",
       "      <td>42</td>\n",
       "      <td>43</td>\n",
       "      <td>22.3641</td>\n",
       "      <td>mag.dcnormffp_0_82_43.det.lc.W149</td>\n",
       "      <td>0.000100</td>\n",
       "      <td>0.107742</td>\n",
       "      <td>37.31730</td>\n",
       "      <td>334.883679</td>\n",
       "      <td>0.128474</td>\n",
       "      <td>-0.014672</td>\n",
       "      <td>0.017746</td>\n",
       "      <td>2.458569e+06</td>\n",
       "      <td>0.414263</td>\n",
       "      <td>1.099434</td>\n",
       "      <td>3.0</td>\n",
       "    </tr>\n",
       "    <tr>\n",
       "      <th>26</th>\n",
       "      <td>2813</td>\n",
       "      <td>43</td>\n",
       "      <td>44</td>\n",
       "      <td>24.0543</td>\n",
       "      <td>mag.dcnormffp_0_82_44.det.lc.W149</td>\n",
       "      <td>0.000054</td>\n",
       "      <td>0.076745</td>\n",
       "      <td>28.25260</td>\n",
       "      <td>352.143435</td>\n",
       "      <td>0.096863</td>\n",
       "      <td>0.678541</td>\n",
       "      <td>0.000000</td>\n",
       "      <td>0.000000e+00</td>\n",
       "      <td>0.000000</td>\n",
       "      <td>0.000000</td>\n",
       "      <td>3.0</td>\n",
       "    </tr>\n",
       "    <tr>\n",
       "      <th>27</th>\n",
       "      <td>2814</td>\n",
       "      <td>44</td>\n",
       "      <td>45</td>\n",
       "      <td>25.4617</td>\n",
       "      <td>mag.dcnormffp_0_82_45.det.lc.W149</td>\n",
       "      <td>0.000896</td>\n",
       "      <td>0.015674</td>\n",
       "      <td>19.51150</td>\n",
       "      <td>1771.041548</td>\n",
       "      <td>0.349616</td>\n",
       "      <td>0.598839</td>\n",
       "      <td>0.000000</td>\n",
       "      <td>0.000000e+00</td>\n",
       "      <td>0.000000</td>\n",
       "      <td>0.000000</td>\n",
       "      <td>3.0</td>\n",
       "    </tr>\n",
       "    <tr>\n",
       "      <th>28</th>\n",
       "      <td>2815</td>\n",
       "      <td>45</td>\n",
       "      <td>46</td>\n",
       "      <td>25.6108</td>\n",
       "      <td>mag.dcnormffp_0_82_46.det.lc.W149</td>\n",
       "      <td>0.000197</td>\n",
       "      <td>0.024188</td>\n",
       "      <td>29.41010</td>\n",
       "      <td>1574.604646</td>\n",
       "      <td>0.284158</td>\n",
       "      <td>0.356891</td>\n",
       "      <td>0.000000</td>\n",
       "      <td>0.000000e+00</td>\n",
       "      <td>0.000000</td>\n",
       "      <td>0.000000</td>\n",
       "      <td>3.0</td>\n",
       "    </tr>\n",
       "    <tr>\n",
       "      <th>29</th>\n",
       "      <td>2816</td>\n",
       "      <td>46</td>\n",
       "      <td>47</td>\n",
       "      <td>22.4459</td>\n",
       "      <td>mag.dcnormffp_0_82_47.det.lc.W149</td>\n",
       "      <td>0.002002</td>\n",
       "      <td>0.032093</td>\n",
       "      <td>12.43930</td>\n",
       "      <td>1425.764127</td>\n",
       "      <td>0.508383</td>\n",
       "      <td>0.999458</td>\n",
       "      <td>0.462731</td>\n",
       "      <td>2.459660e+06</td>\n",
       "      <td>0.053916</td>\n",
       "      <td>1.334768</td>\n",
       "      <td>3.0</td>\n",
       "    </tr>\n",
       "    <tr>\n",
       "      <th>...</th>\n",
       "      <td>...</td>\n",
       "      <td>...</td>\n",
       "      <td>...</td>\n",
       "      <td>...</td>\n",
       "      <td>...</td>\n",
       "      <td>...</td>\n",
       "      <td>...</td>\n",
       "      <td>...</td>\n",
       "      <td>...</td>\n",
       "      <td>...</td>\n",
       "      <td>...</td>\n",
       "      <td>...</td>\n",
       "      <td>...</td>\n",
       "      <td>...</td>\n",
       "      <td>...</td>\n",
       "      <td>...</td>\n",
       "    </tr>\n",
       "    <tr>\n",
       "      <th>1236</th>\n",
       "      <td>4717</td>\n",
       "      <td>1947</td>\n",
       "      <td>1948</td>\n",
       "      <td>24.6308</td>\n",
       "      <td>mag.dcnormffp_0_82_1948.det.lc.W149</td>\n",
       "      <td>0.001206</td>\n",
       "      <td>0.024861</td>\n",
       "      <td>10.78620</td>\n",
       "      <td>119.700184</td>\n",
       "      <td>0.399707</td>\n",
       "      <td>-0.919199</td>\n",
       "      <td>0.000000</td>\n",
       "      <td>0.000000e+00</td>\n",
       "      <td>0.000000</td>\n",
       "      <td>0.000000</td>\n",
       "      <td>3.0</td>\n",
       "    </tr>\n",
       "    <tr>\n",
       "      <th>1237</th>\n",
       "      <td>4718</td>\n",
       "      <td>1948</td>\n",
       "      <td>1949</td>\n",
       "      <td>25.3182</td>\n",
       "      <td>mag.dcnormffp_0_82_1949.det.lc.W149</td>\n",
       "      <td>0.003166</td>\n",
       "      <td>0.003661</td>\n",
       "      <td>1.80898</td>\n",
       "      <td>1583.475632</td>\n",
       "      <td>1.103290</td>\n",
       "      <td>0.916040</td>\n",
       "      <td>0.000000</td>\n",
       "      <td>0.000000e+00</td>\n",
       "      <td>0.000000</td>\n",
       "      <td>0.000000</td>\n",
       "      <td>3.0</td>\n",
       "    </tr>\n",
       "    <tr>\n",
       "      <th>1238</th>\n",
       "      <td>4719</td>\n",
       "      <td>1949</td>\n",
       "      <td>1950</td>\n",
       "      <td>24.4806</td>\n",
       "      <td>mag.dcnormffp_0_82_1950.det.lc.W149</td>\n",
       "      <td>0.006757</td>\n",
       "      <td>0.009902</td>\n",
       "      <td>8.14825</td>\n",
       "      <td>1615.118378</td>\n",
       "      <td>1.397540</td>\n",
       "      <td>-0.246714</td>\n",
       "      <td>0.523587</td>\n",
       "      <td>2.459849e+06</td>\n",
       "      <td>0.301024</td>\n",
       "      <td>1.010406</td>\n",
       "      <td>3.0</td>\n",
       "    </tr>\n",
       "    <tr>\n",
       "      <th>1239</th>\n",
       "      <td>4720</td>\n",
       "      <td>1950</td>\n",
       "      <td>1951</td>\n",
       "      <td>21.4103</td>\n",
       "      <td>mag.dcnormffp_0_82_1951.det.lc.W149</td>\n",
       "      <td>0.006616</td>\n",
       "      <td>0.030897</td>\n",
       "      <td>5.84930</td>\n",
       "      <td>311.463443</td>\n",
       "      <td>1.424360</td>\n",
       "      <td>-0.083867</td>\n",
       "      <td>0.392794</td>\n",
       "      <td>2.458545e+06</td>\n",
       "      <td>2.245617</td>\n",
       "      <td>0.871772</td>\n",
       "      <td>3.0</td>\n",
       "    </tr>\n",
       "    <tr>\n",
       "      <th>1240</th>\n",
       "      <td>4729</td>\n",
       "      <td>1959</td>\n",
       "      <td>1960</td>\n",
       "      <td>22.5827</td>\n",
       "      <td>mag.dcnormffp_0_82_1960.det.lc.W149</td>\n",
       "      <td>0.000009</td>\n",
       "      <td>0.220491</td>\n",
       "      <td>146.53000</td>\n",
       "      <td>1435.829213</td>\n",
       "      <td>0.069920</td>\n",
       "      <td>-0.505557</td>\n",
       "      <td>0.042582</td>\n",
       "      <td>2.459670e+06</td>\n",
       "      <td>0.098032</td>\n",
       "      <td>1.282370</td>\n",
       "      <td>3.0</td>\n",
       "    </tr>\n",
       "    <tr>\n",
       "      <th>1241</th>\n",
       "      <td>4730</td>\n",
       "      <td>1960</td>\n",
       "      <td>1961</td>\n",
       "      <td>24.3617</td>\n",
       "      <td>mag.dcnormffp_0_82_1961.det.lc.W149</td>\n",
       "      <td>0.000014</td>\n",
       "      <td>0.053928</td>\n",
       "      <td>63.60870</td>\n",
       "      <td>1615.574357</td>\n",
       "      <td>0.245094</td>\n",
       "      <td>0.513313</td>\n",
       "      <td>0.129784</td>\n",
       "      <td>2.459850e+06</td>\n",
       "      <td>0.043729</td>\n",
       "      <td>1.000079</td>\n",
       "      <td>3.0</td>\n",
       "    </tr>\n",
       "    <tr>\n",
       "      <th>1242</th>\n",
       "      <td>4731</td>\n",
       "      <td>1961</td>\n",
       "      <td>1962</td>\n",
       "      <td>25.4583</td>\n",
       "      <td>mag.dcnormffp_0_82_1962.det.lc.W149</td>\n",
       "      <td>0.000029</td>\n",
       "      <td>0.147262</td>\n",
       "      <td>101.04300</td>\n",
       "      <td>1804.285133</td>\n",
       "      <td>0.458513</td>\n",
       "      <td>0.093914</td>\n",
       "      <td>0.069648</td>\n",
       "      <td>2.460038e+06</td>\n",
       "      <td>0.161377</td>\n",
       "      <td>0.937973</td>\n",
       "      <td>3.0</td>\n",
       "    </tr>\n",
       "    <tr>\n",
       "      <th>1243</th>\n",
       "      <td>4732</td>\n",
       "      <td>1962</td>\n",
       "      <td>1963</td>\n",
       "      <td>23.3394</td>\n",
       "      <td>mag.dcnormffp_0_82_1963.det.lc.W149</td>\n",
       "      <td>0.000200</td>\n",
       "      <td>0.178465</td>\n",
       "      <td>114.53100</td>\n",
       "      <td>160.318873</td>\n",
       "      <td>0.169163</td>\n",
       "      <td>0.442287</td>\n",
       "      <td>0.095134</td>\n",
       "      <td>2.458394e+06</td>\n",
       "      <td>0.216452</td>\n",
       "      <td>1.155514</td>\n",
       "      <td>3.0</td>\n",
       "    </tr>\n",
       "    <tr>\n",
       "      <th>1244</th>\n",
       "      <td>4734</td>\n",
       "      <td>1964</td>\n",
       "      <td>1965</td>\n",
       "      <td>22.3835</td>\n",
       "      <td>mag.dcnormffp_0_82_1965.det.lc.W149</td>\n",
       "      <td>0.000165</td>\n",
       "      <td>0.093210</td>\n",
       "      <td>42.04820</td>\n",
       "      <td>490.206565</td>\n",
       "      <td>0.119990</td>\n",
       "      <td>-0.213636</td>\n",
       "      <td>0.038409</td>\n",
       "      <td>2.458724e+06</td>\n",
       "      <td>0.344830</td>\n",
       "      <td>0.999304</td>\n",
       "      <td>3.0</td>\n",
       "    </tr>\n",
       "    <tr>\n",
       "      <th>1245</th>\n",
       "      <td>4735</td>\n",
       "      <td>1965</td>\n",
       "      <td>1966</td>\n",
       "      <td>24.2568</td>\n",
       "      <td>mag.dcnormffp_0_82_1966.det.lc.W149</td>\n",
       "      <td>0.000249</td>\n",
       "      <td>0.013263</td>\n",
       "      <td>16.23310</td>\n",
       "      <td>295.323448</td>\n",
       "      <td>0.372328</td>\n",
       "      <td>0.393723</td>\n",
       "      <td>0.156088</td>\n",
       "      <td>2.458529e+06</td>\n",
       "      <td>0.049758</td>\n",
       "      <td>0.960034</td>\n",
       "      <td>3.0</td>\n",
       "    </tr>\n",
       "    <tr>\n",
       "      <th>1246</th>\n",
       "      <td>4736</td>\n",
       "      <td>1966</td>\n",
       "      <td>1967</td>\n",
       "      <td>22.9638</td>\n",
       "      <td>mag.dcnormffp_0_82_1967.det.lc.W149</td>\n",
       "      <td>0.001365</td>\n",
       "      <td>0.011059</td>\n",
       "      <td>5.27998</td>\n",
       "      <td>1420.482749</td>\n",
       "      <td>0.830554</td>\n",
       "      <td>-0.728698</td>\n",
       "      <td>0.625889</td>\n",
       "      <td>2.459654e+06</td>\n",
       "      <td>0.079968</td>\n",
       "      <td>1.207049</td>\n",
       "      <td>3.0</td>\n",
       "    </tr>\n",
       "    <tr>\n",
       "      <th>1247</th>\n",
       "      <td>4737</td>\n",
       "      <td>1967</td>\n",
       "      <td>1968</td>\n",
       "      <td>20.3733</td>\n",
       "      <td>mag.dcnormffp_0_82_1968.det.lc.W149</td>\n",
       "      <td>0.000643</td>\n",
       "      <td>0.087336</td>\n",
       "      <td>3.11613</td>\n",
       "      <td>532.945351</td>\n",
       "      <td>0.464325</td>\n",
       "      <td>0.045738</td>\n",
       "      <td>0.066009</td>\n",
       "      <td>2.458767e+06</td>\n",
       "      <td>1.835456</td>\n",
       "      <td>0.824406</td>\n",
       "      <td>3.0</td>\n",
       "    </tr>\n",
       "    <tr>\n",
       "      <th>1248</th>\n",
       "      <td>4738</td>\n",
       "      <td>1968</td>\n",
       "      <td>1969</td>\n",
       "      <td>25.0155</td>\n",
       "      <td>mag.dcnormffp_0_82_1969.det.lc.W149</td>\n",
       "      <td>0.001275</td>\n",
       "      <td>0.018423</td>\n",
       "      <td>20.55150</td>\n",
       "      <td>312.721399</td>\n",
       "      <td>0.359237</td>\n",
       "      <td>0.704212</td>\n",
       "      <td>0.000000</td>\n",
       "      <td>0.000000e+00</td>\n",
       "      <td>0.000000</td>\n",
       "      <td>0.000000</td>\n",
       "      <td>3.0</td>\n",
       "    </tr>\n",
       "    <tr>\n",
       "      <th>1249</th>\n",
       "      <td>4739</td>\n",
       "      <td>1969</td>\n",
       "      <td>1970</td>\n",
       "      <td>23.1871</td>\n",
       "      <td>mag.dcnormffp_0_82_1970.det.lc.W149</td>\n",
       "      <td>0.001743</td>\n",
       "      <td>0.010600</td>\n",
       "      <td>4.71745</td>\n",
       "      <td>306.743772</td>\n",
       "      <td>1.285930</td>\n",
       "      <td>-0.365544</td>\n",
       "      <td>0.605947</td>\n",
       "      <td>2.458541e+06</td>\n",
       "      <td>0.036645</td>\n",
       "      <td>1.083571</td>\n",
       "      <td>3.0</td>\n",
       "    </tr>\n",
       "    <tr>\n",
       "      <th>1250</th>\n",
       "      <td>4742</td>\n",
       "      <td>1972</td>\n",
       "      <td>1973</td>\n",
       "      <td>23.2728</td>\n",
       "      <td>mag.dcnormffp_0_82_1973.det.lc.W149</td>\n",
       "      <td>0.016491</td>\n",
       "      <td>0.005830</td>\n",
       "      <td>2.72351</td>\n",
       "      <td>1415.960577</td>\n",
       "      <td>1.132250</td>\n",
       "      <td>-0.176167</td>\n",
       "      <td>0.374161</td>\n",
       "      <td>2.459650e+06</td>\n",
       "      <td>0.895475</td>\n",
       "      <td>0.986145</td>\n",
       "      <td>3.0</td>\n",
       "    </tr>\n",
       "    <tr>\n",
       "      <th>1251</th>\n",
       "      <td>4749</td>\n",
       "      <td>1979</td>\n",
       "      <td>1980</td>\n",
       "      <td>24.3198</td>\n",
       "      <td>mag.dcnormffp_0_82_1980.det.lc.W149</td>\n",
       "      <td>0.000021</td>\n",
       "      <td>0.100052</td>\n",
       "      <td>87.19580</td>\n",
       "      <td>325.336631</td>\n",
       "      <td>0.031120</td>\n",
       "      <td>-0.267896</td>\n",
       "      <td>0.010325</td>\n",
       "      <td>2.458559e+06</td>\n",
       "      <td>0.497008</td>\n",
       "      <td>0.936895</td>\n",
       "      <td>3.0</td>\n",
       "    </tr>\n",
       "    <tr>\n",
       "      <th>1252</th>\n",
       "      <td>4750</td>\n",
       "      <td>1980</td>\n",
       "      <td>1981</td>\n",
       "      <td>25.1861</td>\n",
       "      <td>mag.dcnormffp_0_82_1981.det.lc.W149</td>\n",
       "      <td>0.000009</td>\n",
       "      <td>0.101066</td>\n",
       "      <td>42.74170</td>\n",
       "      <td>1577.597144</td>\n",
       "      <td>0.143840</td>\n",
       "      <td>-0.899727</td>\n",
       "      <td>0.000000</td>\n",
       "      <td>0.000000e+00</td>\n",
       "      <td>0.000000</td>\n",
       "      <td>0.000000</td>\n",
       "      <td>3.0</td>\n",
       "    </tr>\n",
       "    <tr>\n",
       "      <th>1253</th>\n",
       "      <td>4751</td>\n",
       "      <td>1981</td>\n",
       "      <td>1982</td>\n",
       "      <td>24.7097</td>\n",
       "      <td>mag.dcnormffp_0_82_1982.det.lc.W149</td>\n",
       "      <td>0.000068</td>\n",
       "      <td>0.056893</td>\n",
       "      <td>74.49290</td>\n",
       "      <td>513.482196</td>\n",
       "      <td>0.061957</td>\n",
       "      <td>0.448887</td>\n",
       "      <td>0.000000</td>\n",
       "      <td>0.000000e+00</td>\n",
       "      <td>0.000000</td>\n",
       "      <td>0.000000</td>\n",
       "      <td>3.0</td>\n",
       "    </tr>\n",
       "    <tr>\n",
       "      <th>1254</th>\n",
       "      <td>4752</td>\n",
       "      <td>1982</td>\n",
       "      <td>1983</td>\n",
       "      <td>21.6366</td>\n",
       "      <td>mag.dcnormffp_0_82_1983.det.lc.W149</td>\n",
       "      <td>0.000058</td>\n",
       "      <td>0.053476</td>\n",
       "      <td>44.43830</td>\n",
       "      <td>1792.786456</td>\n",
       "      <td>0.321264</td>\n",
       "      <td>0.053763</td>\n",
       "      <td>0.044038</td>\n",
       "      <td>2.460027e+06</td>\n",
       "      <td>1.868929</td>\n",
       "      <td>0.770639</td>\n",
       "      <td>3.0</td>\n",
       "    </tr>\n",
       "    <tr>\n",
       "      <th>1255</th>\n",
       "      <td>4753</td>\n",
       "      <td>1983</td>\n",
       "      <td>1984</td>\n",
       "      <td>25.4755</td>\n",
       "      <td>mag.dcnormffp_0_82_1984.det.lc.W149</td>\n",
       "      <td>0.000356</td>\n",
       "      <td>0.042478</td>\n",
       "      <td>49.93720</td>\n",
       "      <td>126.057377</td>\n",
       "      <td>0.127810</td>\n",
       "      <td>0.930429</td>\n",
       "      <td>0.000000</td>\n",
       "      <td>0.000000e+00</td>\n",
       "      <td>0.000000</td>\n",
       "      <td>0.000000</td>\n",
       "      <td>3.0</td>\n",
       "    </tr>\n",
       "    <tr>\n",
       "      <th>1256</th>\n",
       "      <td>4754</td>\n",
       "      <td>1984</td>\n",
       "      <td>1985</td>\n",
       "      <td>24.2476</td>\n",
       "      <td>mag.dcnormffp_0_82_1985.det.lc.W149</td>\n",
       "      <td>0.000158</td>\n",
       "      <td>0.020521</td>\n",
       "      <td>21.44480</td>\n",
       "      <td>362.037499</td>\n",
       "      <td>0.236773</td>\n",
       "      <td>-0.441902</td>\n",
       "      <td>0.130473</td>\n",
       "      <td>2.458596e+06</td>\n",
       "      <td>0.023689</td>\n",
       "      <td>1.232576</td>\n",
       "      <td>3.0</td>\n",
       "    </tr>\n",
       "    <tr>\n",
       "      <th>1257</th>\n",
       "      <td>4755</td>\n",
       "      <td>1985</td>\n",
       "      <td>1986</td>\n",
       "      <td>23.3151</td>\n",
       "      <td>mag.dcnormffp_0_82_1986.det.lc.W149</td>\n",
       "      <td>0.001126</td>\n",
       "      <td>0.041922</td>\n",
       "      <td>10.72540</td>\n",
       "      <td>500.479064</td>\n",
       "      <td>0.395186</td>\n",
       "      <td>0.074192</td>\n",
       "      <td>0.066441</td>\n",
       "      <td>2.458734e+06</td>\n",
       "      <td>1.188730</td>\n",
       "      <td>0.830859</td>\n",
       "      <td>3.0</td>\n",
       "    </tr>\n",
       "    <tr>\n",
       "      <th>1258</th>\n",
       "      <td>4756</td>\n",
       "      <td>1986</td>\n",
       "      <td>1987</td>\n",
       "      <td>25.6738</td>\n",
       "      <td>mag.dcnormffp_0_82_1987.det.lc.W149</td>\n",
       "      <td>0.002002</td>\n",
       "      <td>0.008240</td>\n",
       "      <td>13.89150</td>\n",
       "      <td>1588.222319</td>\n",
       "      <td>0.159892</td>\n",
       "      <td>0.313953</td>\n",
       "      <td>0.068163</td>\n",
       "      <td>2.459822e+06</td>\n",
       "      <td>0.089982</td>\n",
       "      <td>1.351577</td>\n",
       "      <td>3.0</td>\n",
       "    </tr>\n",
       "    <tr>\n",
       "      <th>1259</th>\n",
       "      <td>4757</td>\n",
       "      <td>1987</td>\n",
       "      <td>1988</td>\n",
       "      <td>22.8366</td>\n",
       "      <td>mag.dcnormffp_0_82_1988.det.lc.W149</td>\n",
       "      <td>0.002671</td>\n",
       "      <td>0.015760</td>\n",
       "      <td>12.55570</td>\n",
       "      <td>1781.098248</td>\n",
       "      <td>0.636537</td>\n",
       "      <td>-0.052061</td>\n",
       "      <td>0.078268</td>\n",
       "      <td>2.460015e+06</td>\n",
       "      <td>1.130173</td>\n",
       "      <td>0.793140</td>\n",
       "      <td>3.0</td>\n",
       "    </tr>\n",
       "    <tr>\n",
       "      <th>1260</th>\n",
       "      <td>4758</td>\n",
       "      <td>1988</td>\n",
       "      <td>1989</td>\n",
       "      <td>21.9409</td>\n",
       "      <td>mag.dcnormffp_0_82_1989.det.lc.W149</td>\n",
       "      <td>0.008635</td>\n",
       "      <td>0.015306</td>\n",
       "      <td>7.59583</td>\n",
       "      <td>503.113763</td>\n",
       "      <td>0.799488</td>\n",
       "      <td>-0.279618</td>\n",
       "      <td>0.399417</td>\n",
       "      <td>2.458737e+06</td>\n",
       "      <td>1.145307</td>\n",
       "      <td>1.072262</td>\n",
       "      <td>3.0</td>\n",
       "    </tr>\n",
       "    <tr>\n",
       "      <th>1261</th>\n",
       "      <td>4759</td>\n",
       "      <td>1989</td>\n",
       "      <td>1990</td>\n",
       "      <td>25.4504</td>\n",
       "      <td>mag.dcnormffp_0_82_1990.det.lc.W149</td>\n",
       "      <td>0.001840</td>\n",
       "      <td>0.007996</td>\n",
       "      <td>10.93460</td>\n",
       "      <td>1581.250488</td>\n",
       "      <td>1.039110</td>\n",
       "      <td>0.341641</td>\n",
       "      <td>0.000000</td>\n",
       "      <td>0.000000e+00</td>\n",
       "      <td>0.000000</td>\n",
       "      <td>0.000000</td>\n",
       "      <td>3.0</td>\n",
       "    </tr>\n",
       "    <tr>\n",
       "      <th>1262</th>\n",
       "      <td>4760</td>\n",
       "      <td>1990</td>\n",
       "      <td>1991</td>\n",
       "      <td>22.9480</td>\n",
       "      <td>mag.dcnormffp_0_82_1991.det.lc.W149</td>\n",
       "      <td>0.007509</td>\n",
       "      <td>0.012948</td>\n",
       "      <td>5.31975</td>\n",
       "      <td>1797.286584</td>\n",
       "      <td>0.512019</td>\n",
       "      <td>0.086908</td>\n",
       "      <td>0.079618</td>\n",
       "      <td>2.460031e+06</td>\n",
       "      <td>0.412958</td>\n",
       "      <td>0.850796</td>\n",
       "      <td>3.0</td>\n",
       "    </tr>\n",
       "    <tr>\n",
       "      <th>1263</th>\n",
       "      <td>4761</td>\n",
       "      <td>1991</td>\n",
       "      <td>1992</td>\n",
       "      <td>23.3538</td>\n",
       "      <td>mag.dcnormffp_0_82_1992.det.lc.W149</td>\n",
       "      <td>0.026707</td>\n",
       "      <td>0.013083</td>\n",
       "      <td>6.56867</td>\n",
       "      <td>1459.424874</td>\n",
       "      <td>1.142490</td>\n",
       "      <td>-0.688886</td>\n",
       "      <td>0.836505</td>\n",
       "      <td>2.459693e+06</td>\n",
       "      <td>0.085723</td>\n",
       "      <td>1.126776</td>\n",
       "      <td>3.0</td>\n",
       "    </tr>\n",
       "    <tr>\n",
       "      <th>1264</th>\n",
       "      <td>4762</td>\n",
       "      <td>1992</td>\n",
       "      <td>1993</td>\n",
       "      <td>25.7347</td>\n",
       "      <td>mag.dcnormffp_0_82_1993.det.lc.W149</td>\n",
       "      <td>0.018997</td>\n",
       "      <td>0.003048</td>\n",
       "      <td>4.01133</td>\n",
       "      <td>144.263895</td>\n",
       "      <td>1.693200</td>\n",
       "      <td>-0.533400</td>\n",
       "      <td>0.000000</td>\n",
       "      <td>0.000000e+00</td>\n",
       "      <td>0.000000</td>\n",
       "      <td>0.000000</td>\n",
       "      <td>3.0</td>\n",
       "    </tr>\n",
       "    <tr>\n",
       "      <th>1265</th>\n",
       "      <td>4767</td>\n",
       "      <td>1997</td>\n",
       "      <td>1998</td>\n",
       "      <td>21.3400</td>\n",
       "      <td>mag.dcnormffp_0_82_1998.det.lc.W149</td>\n",
       "      <td>0.293761</td>\n",
       "      <td>0.025987</td>\n",
       "      <td>7.21470</td>\n",
       "      <td>485.569050</td>\n",
       "      <td>1.535950</td>\n",
       "      <td>-0.755971</td>\n",
       "      <td>1.211316</td>\n",
       "      <td>2.458720e+06</td>\n",
       "      <td>0.060290</td>\n",
       "      <td>1.247787</td>\n",
       "      <td>3.0</td>\n",
       "    </tr>\n",
       "  </tbody>\n",
       "</table>\n",
       "<p>1266 rows × 16 columns</p>\n",
       "</div>"
      ],
      "text/plain": [
       "      level_0  index  Unnamed: 0     base  \\\n",
       "0        2770      0           1  24.6738   \n",
       "1        2771      1           2  24.3677   \n",
       "2        2772      2           3  20.0949   \n",
       "3        2773      3           4  25.5147   \n",
       "4        2774      4           5  25.0752   \n",
       "5        2775      5           6  21.4929   \n",
       "6        2776      6           7  21.8158   \n",
       "7        2777      7           8  25.5214   \n",
       "8        2778      8           9  24.0037   \n",
       "9        2784     14          15  24.6988   \n",
       "10       2789     19          20  24.3481   \n",
       "11       2790     20          21  22.0713   \n",
       "12       2791     21          22  21.1978   \n",
       "13       2792     22          23  23.2773   \n",
       "14       2793     23          24  21.3298   \n",
       "15       2794     24          25  22.4432   \n",
       "16       2795     25          26  24.2186   \n",
       "17       2796     26          27  20.6072   \n",
       "18       2797     27          28  24.4002   \n",
       "19       2798     28          29  23.2703   \n",
       "20       2799     29          30  20.6520   \n",
       "21       2800     30          31  25.2038   \n",
       "22       2809     39          40  24.7836   \n",
       "23       2810     40          41  25.6059   \n",
       "24       2811     41          42  21.4964   \n",
       "25       2812     42          43  22.3641   \n",
       "26       2813     43          44  24.0543   \n",
       "27       2814     44          45  25.4617   \n",
       "28       2815     45          46  25.6108   \n",
       "29       2816     46          47  22.4459   \n",
       "...       ...    ...         ...      ...   \n",
       "1236     4717   1947        1948  24.6308   \n",
       "1237     4718   1948        1949  25.3182   \n",
       "1238     4719   1949        1950  24.4806   \n",
       "1239     4720   1950        1951  21.4103   \n",
       "1240     4729   1959        1960  22.5827   \n",
       "1241     4730   1960        1961  24.3617   \n",
       "1242     4731   1961        1962  25.4583   \n",
       "1243     4732   1962        1963  23.3394   \n",
       "1244     4734   1964        1965  22.3835   \n",
       "1245     4735   1965        1966  24.2568   \n",
       "1246     4736   1966        1967  22.9638   \n",
       "1247     4737   1967        1968  20.3733   \n",
       "1248     4738   1968        1969  25.0155   \n",
       "1249     4739   1969        1970  23.1871   \n",
       "1250     4742   1972        1973  23.2728   \n",
       "1251     4749   1979        1980  24.3198   \n",
       "1252     4750   1980        1981  25.1861   \n",
       "1253     4751   1981        1982  24.7097   \n",
       "1254     4752   1982        1983  21.6366   \n",
       "1255     4753   1983        1984  25.4755   \n",
       "1256     4754   1984        1985  24.2476   \n",
       "1257     4755   1985        1986  23.3151   \n",
       "1258     4756   1986        1987  25.6738   \n",
       "1259     4757   1987        1988  22.8366   \n",
       "1260     4758   1988        1989  21.9409   \n",
       "1261     4759   1989        1990  25.4504   \n",
       "1262     4760   1990        1991  22.9480   \n",
       "1263     4761   1991        1992  23.3538   \n",
       "1264     4762   1992        1993  25.7347   \n",
       "1265     4767   1997        1998  21.3400   \n",
       "\n",
       "                                     name         q       rho          s  \\\n",
       "0        mag.dcnormffp_0_82_1.det.lc.W149  0.000063  0.234729  133.30300   \n",
       "1        mag.dcnormffp_0_82_2.det.lc.W149  0.000040  0.045620   51.62650   \n",
       "2        mag.dcnormffp_0_82_3.det.lc.W149  0.000120  0.255900   67.70350   \n",
       "3        mag.dcnormffp_0_82_4.det.lc.W149  0.000072  0.019235   27.71800   \n",
       "4        mag.dcnormffp_0_82_5.det.lc.W149  0.000408  0.029176   34.17960   \n",
       "5        mag.dcnormffp_0_82_6.det.lc.W149  0.000294  0.048696   14.32510   \n",
       "6        mag.dcnormffp_0_82_7.det.lc.W149  0.002002  0.058220   17.23190   \n",
       "7        mag.dcnormffp_0_82_8.det.lc.W149  0.002137  0.009961   13.11770   \n",
       "8        mag.dcnormffp_0_82_9.det.lc.W149  0.001275  0.010971    7.49398   \n",
       "9       mag.dcnormffp_0_82_15.det.lc.W149  0.200249  0.002066    2.24134   \n",
       "10      mag.dcnormffp_0_82_20.det.lc.W149  0.000006  0.166729   91.43900   \n",
       "11      mag.dcnormffp_0_82_21.det.lc.W149  0.000047  0.359628   23.93690   \n",
       "12      mag.dcnormffp_0_82_22.det.lc.W149  0.000068  0.214925   37.94490   \n",
       "13      mag.dcnormffp_0_82_23.det.lc.W149  0.000215  0.034087   36.76530   \n",
       "14      mag.dcnormffp_0_82_24.det.lc.W149  0.000097  0.453858  122.92000   \n",
       "15      mag.dcnormffp_0_82_25.det.lc.W149  0.000122  0.031232    9.22328   \n",
       "16      mag.dcnormffp_0_82_26.det.lc.W149  0.000845  0.038566   22.92630   \n",
       "17      mag.dcnormffp_0_82_27.det.lc.W149  0.000720  0.052816   12.39580   \n",
       "18      mag.dcnormffp_0_82_28.det.lc.W149  0.003237  0.024295   20.20320   \n",
       "19      mag.dcnormffp_0_82_29.det.lc.W149  0.004749  0.017927   12.25680   \n",
       "20      mag.dcnormffp_0_82_30.det.lc.W149  0.005630  0.084669   16.42180   \n",
       "21      mag.dcnormffp_0_82_31.det.lc.W149  0.012015  0.004605    4.58072   \n",
       "22      mag.dcnormffp_0_82_40.det.lc.W149  0.000027  0.346065  279.66700   \n",
       "23      mag.dcnormffp_0_82_41.det.lc.W149  0.000032  0.457328  552.58900   \n",
       "24      mag.dcnormffp_0_82_42.det.lc.W149  0.000044  0.110455   62.03100   \n",
       "25      mag.dcnormffp_0_82_43.det.lc.W149  0.000100  0.107742   37.31730   \n",
       "26      mag.dcnormffp_0_82_44.det.lc.W149  0.000054  0.076745   28.25260   \n",
       "27      mag.dcnormffp_0_82_45.det.lc.W149  0.000896  0.015674   19.51150   \n",
       "28      mag.dcnormffp_0_82_46.det.lc.W149  0.000197  0.024188   29.41010   \n",
       "29      mag.dcnormffp_0_82_47.det.lc.W149  0.002002  0.032093   12.43930   \n",
       "...                                   ...       ...       ...        ...   \n",
       "1236  mag.dcnormffp_0_82_1948.det.lc.W149  0.001206  0.024861   10.78620   \n",
       "1237  mag.dcnormffp_0_82_1949.det.lc.W149  0.003166  0.003661    1.80898   \n",
       "1238  mag.dcnormffp_0_82_1950.det.lc.W149  0.006757  0.009902    8.14825   \n",
       "1239  mag.dcnormffp_0_82_1951.det.lc.W149  0.006616  0.030897    5.84930   \n",
       "1240  mag.dcnormffp_0_82_1960.det.lc.W149  0.000009  0.220491  146.53000   \n",
       "1241  mag.dcnormffp_0_82_1961.det.lc.W149  0.000014  0.053928   63.60870   \n",
       "1242  mag.dcnormffp_0_82_1962.det.lc.W149  0.000029  0.147262  101.04300   \n",
       "1243  mag.dcnormffp_0_82_1963.det.lc.W149  0.000200  0.178465  114.53100   \n",
       "1244  mag.dcnormffp_0_82_1965.det.lc.W149  0.000165  0.093210   42.04820   \n",
       "1245  mag.dcnormffp_0_82_1966.det.lc.W149  0.000249  0.013263   16.23310   \n",
       "1246  mag.dcnormffp_0_82_1967.det.lc.W149  0.001365  0.011059    5.27998   \n",
       "1247  mag.dcnormffp_0_82_1968.det.lc.W149  0.000643  0.087336    3.11613   \n",
       "1248  mag.dcnormffp_0_82_1969.det.lc.W149  0.001275  0.018423   20.55150   \n",
       "1249  mag.dcnormffp_0_82_1970.det.lc.W149  0.001743  0.010600    4.71745   \n",
       "1250  mag.dcnormffp_0_82_1973.det.lc.W149  0.016491  0.005830    2.72351   \n",
       "1251  mag.dcnormffp_0_82_1980.det.lc.W149  0.000021  0.100052   87.19580   \n",
       "1252  mag.dcnormffp_0_82_1981.det.lc.W149  0.000009  0.101066   42.74170   \n",
       "1253  mag.dcnormffp_0_82_1982.det.lc.W149  0.000068  0.056893   74.49290   \n",
       "1254  mag.dcnormffp_0_82_1983.det.lc.W149  0.000058  0.053476   44.43830   \n",
       "1255  mag.dcnormffp_0_82_1984.det.lc.W149  0.000356  0.042478   49.93720   \n",
       "1256  mag.dcnormffp_0_82_1985.det.lc.W149  0.000158  0.020521   21.44480   \n",
       "1257  mag.dcnormffp_0_82_1986.det.lc.W149  0.001126  0.041922   10.72540   \n",
       "1258  mag.dcnormffp_0_82_1987.det.lc.W149  0.002002  0.008240   13.89150   \n",
       "1259  mag.dcnormffp_0_82_1988.det.lc.W149  0.002671  0.015760   12.55570   \n",
       "1260  mag.dcnormffp_0_82_1989.det.lc.W149  0.008635  0.015306    7.59583   \n",
       "1261  mag.dcnormffp_0_82_1990.det.lc.W149  0.001840  0.007996   10.93460   \n",
       "1262  mag.dcnormffp_0_82_1991.det.lc.W149  0.007509  0.012948    5.31975   \n",
       "1263  mag.dcnormffp_0_82_1992.det.lc.W149  0.026707  0.013083    6.56867   \n",
       "1264  mag.dcnormffp_0_82_1993.det.lc.W149  0.018997  0.003048    4.01133   \n",
       "1265  mag.dcnormffp_0_82_1998.det.lc.W149  0.293761  0.025987    7.21470   \n",
       "\n",
       "               t0        tE        u0     tE_ml         t0_ml     am_ml  \\\n",
       "0      329.022772  0.026695 -0.075500  0.001000  2.458563e+06  1.696108   \n",
       "1      484.187275  0.591330  0.362461  0.267712  2.458718e+06  0.021232   \n",
       "2     1774.010804  0.153560  0.923523  0.147162  2.460008e+06  0.303402   \n",
       "3     1593.232339  0.366821  0.077952  0.045619  2.459827e+06  0.259728   \n",
       "4     1396.736013  0.865141  0.625127  0.613256  2.459631e+06  0.061272   \n",
       "5     1601.832206  1.005480  0.414674  0.599989  2.459836e+06  0.721208   \n",
       "6     1419.633569  0.378760  0.239063  0.143291  2.459654e+06  0.494367   \n",
       "7      512.863581  0.705796  0.885716  0.000000  0.000000e+00  0.000000   \n",
       "8     1791.459133  0.705971 -0.843985  0.000000  0.000000e+00  0.000000   \n",
       "9     1626.389784  1.449490  0.703754  1.096182  2.459860e+06  0.083388   \n",
       "10    1392.635915  0.049625 -0.035285  0.006032  2.459627e+06  0.226715   \n",
       "11     523.527394  0.144267 -0.470671  0.085114  2.458758e+06  0.597173   \n",
       "12    1770.752698  0.042794 -0.351542  0.022668  2.460005e+06  0.878284   \n",
       "13    1814.833993  0.273165 -0.214056  0.089481  2.460049e+06  0.355829   \n",
       "14     313.939460  0.040370 -0.693130  0.029335  2.458548e+06  0.129586   \n",
       "15    1796.998932  0.232677 -0.537212  0.145254  2.460031e+06  0.042968   \n",
       "16    1395.860835  0.333861 -0.062701  0.038688  2.459630e+06  0.569705   \n",
       "17     295.899232  0.493913 -0.232742  0.174540  2.458530e+06  0.358123   \n",
       "18     326.977006  0.859044 -0.911618  0.798193  2.458561e+06  0.061267   \n",
       "19     297.212059  0.770687 -0.602371  0.471208  2.458531e+06  0.065293   \n",
       "20    1429.963185  0.362145  0.634891  0.275404  2.459664e+06  0.482132   \n",
       "21    1781.291973  1.829200  0.256893  0.672403  2.460015e+06  0.184645   \n",
       "22    1808.006167  0.021642  0.084908  0.009387  2.460042e+06  0.320256   \n",
       "23    1619.507686  0.012854 -0.395793  0.000000  0.000000e+00  0.000000   \n",
       "24     483.461614  0.460651  0.346785  0.234277  2.458717e+06  0.647252   \n",
       "25     334.883679  0.128474 -0.014672  0.017746  2.458569e+06  0.414263   \n",
       "26     352.143435  0.096863  0.678541  0.000000  0.000000e+00  0.000000   \n",
       "27    1771.041548  0.349616  0.598839  0.000000  0.000000e+00  0.000000   \n",
       "28    1574.604646  0.284158  0.356891  0.000000  0.000000e+00  0.000000   \n",
       "29    1425.764127  0.508383  0.999458  0.462731  2.459660e+06  0.053916   \n",
       "...           ...       ...       ...       ...           ...       ...   \n",
       "1236   119.700184  0.399707 -0.919199  0.000000  0.000000e+00  0.000000   \n",
       "1237  1583.475632  1.103290  0.916040  0.000000  0.000000e+00  0.000000   \n",
       "1238  1615.118378  1.397540 -0.246714  0.523587  2.459849e+06  0.301024   \n",
       "1239   311.463443  1.424360 -0.083867  0.392794  2.458545e+06  2.245617   \n",
       "1240  1435.829213  0.069920 -0.505557  0.042582  2.459670e+06  0.098032   \n",
       "1241  1615.574357  0.245094  0.513313  0.129784  2.459850e+06  0.043729   \n",
       "1242  1804.285133  0.458513  0.093914  0.069648  2.460038e+06  0.161377   \n",
       "1243   160.318873  0.169163  0.442287  0.095134  2.458394e+06  0.216452   \n",
       "1244   490.206565  0.119990 -0.213636  0.038409  2.458724e+06  0.344830   \n",
       "1245   295.323448  0.372328  0.393723  0.156088  2.458529e+06  0.049758   \n",
       "1246  1420.482749  0.830554 -0.728698  0.625889  2.459654e+06  0.079968   \n",
       "1247   532.945351  0.464325  0.045738  0.066009  2.458767e+06  1.835456   \n",
       "1248   312.721399  0.359237  0.704212  0.000000  0.000000e+00  0.000000   \n",
       "1249   306.743772  1.285930 -0.365544  0.605947  2.458541e+06  0.036645   \n",
       "1250  1415.960577  1.132250 -0.176167  0.374161  2.459650e+06  0.895475   \n",
       "1251   325.336631  0.031120 -0.267896  0.010325  2.458559e+06  0.497008   \n",
       "1252  1577.597144  0.143840 -0.899727  0.000000  0.000000e+00  0.000000   \n",
       "1253   513.482196  0.061957  0.448887  0.000000  0.000000e+00  0.000000   \n",
       "1254  1792.786456  0.321264  0.053763  0.044038  2.460027e+06  1.868929   \n",
       "1255   126.057377  0.127810  0.930429  0.000000  0.000000e+00  0.000000   \n",
       "1256   362.037499  0.236773 -0.441902  0.130473  2.458596e+06  0.023689   \n",
       "1257   500.479064  0.395186  0.074192  0.066441  2.458734e+06  1.188730   \n",
       "1258  1588.222319  0.159892  0.313953  0.068163  2.459822e+06  0.089982   \n",
       "1259  1781.098248  0.636537 -0.052061  0.078268  2.460015e+06  1.130173   \n",
       "1260   503.113763  0.799488 -0.279618  0.399417  2.458737e+06  1.145307   \n",
       "1261  1581.250488  1.039110  0.341641  0.000000  0.000000e+00  0.000000   \n",
       "1262  1797.286584  0.512019  0.086908  0.079618  2.460031e+06  0.412958   \n",
       "1263  1459.424874  1.142490 -0.688886  0.836505  2.459693e+06  0.085723   \n",
       "1264   144.263895  1.693200 -0.533400  0.000000  0.000000e+00  0.000000   \n",
       "1265   485.569050  1.535950 -0.755971  1.211316  2.458720e+06  0.060290   \n",
       "\n",
       "          b_ml  type  \n",
       "0     0.907314   3.0  \n",
       "1     1.134451   3.0  \n",
       "2     1.312291   3.0  \n",
       "3     0.791035   3.0  \n",
       "4     1.333160   3.0  \n",
       "5     1.148326   3.0  \n",
       "6     1.040354   3.0  \n",
       "7     0.000000   3.0  \n",
       "8     0.000000   3.0  \n",
       "9     1.203081   3.0  \n",
       "10    0.852105   3.0  \n",
       "11    1.148842   3.0  \n",
       "12    1.129103   3.0  \n",
       "13    0.991808   3.0  \n",
       "14    1.306517   3.0  \n",
       "15    1.206467   3.0  \n",
       "16    0.800924   3.0  \n",
       "17    1.020639   3.0  \n",
       "18    1.494346   3.0  \n",
       "19    1.123211   3.0  \n",
       "20    1.217570   3.0  \n",
       "21    1.029274   3.0  \n",
       "22    2.231813   3.0  \n",
       "23    0.000000   3.0  \n",
       "24    1.095497   3.0  \n",
       "25    1.099434   3.0  \n",
       "26    0.000000   3.0  \n",
       "27    0.000000   3.0  \n",
       "28    0.000000   3.0  \n",
       "29    1.334768   3.0  \n",
       "...        ...   ...  \n",
       "1236  0.000000   3.0  \n",
       "1237  0.000000   3.0  \n",
       "1238  1.010406   3.0  \n",
       "1239  0.871772   3.0  \n",
       "1240  1.282370   3.0  \n",
       "1241  1.000079   3.0  \n",
       "1242  0.937973   3.0  \n",
       "1243  1.155514   3.0  \n",
       "1244  0.999304   3.0  \n",
       "1245  0.960034   3.0  \n",
       "1246  1.207049   3.0  \n",
       "1247  0.824406   3.0  \n",
       "1248  0.000000   3.0  \n",
       "1249  1.083571   3.0  \n",
       "1250  0.986145   3.0  \n",
       "1251  0.936895   3.0  \n",
       "1252  0.000000   3.0  \n",
       "1253  0.000000   3.0  \n",
       "1254  0.770639   3.0  \n",
       "1255  0.000000   3.0  \n",
       "1256  1.232576   3.0  \n",
       "1257  0.830859   3.0  \n",
       "1258  1.351577   3.0  \n",
       "1259  0.793140   3.0  \n",
       "1260  1.072262   3.0  \n",
       "1261  0.000000   3.0  \n",
       "1262  0.850796   3.0  \n",
       "1263  1.126776   3.0  \n",
       "1264  0.000000   3.0  \n",
       "1265  1.247787   3.0  \n",
       "\n",
       "[1266 rows x 16 columns]"
      ]
     },
     "execution_count": 176,
     "metadata": {},
     "output_type": "execute_result"
    }
   ],
   "source": [
    "info_FFP"
   ]
  },
  {
   "cell_type": "code",
   "execution_count": 177,
   "metadata": {
    "collapsed": false
   },
   "outputs": [
    {
     "name": "stderr",
     "output_type": "stream",
     "text": [
      "  1%|          | 7/1266 [00:03<11:04,  1.90it/s]"
     ]
    },
    {
     "name": "stdout",
     "output_type": "stream",
     "text": [
      "error: mag.dcnormffp_0_82_8.det.lc.W149\n",
      "error: mag.dcnormffp_0_82_9.det.lc.W149\n"
     ]
    },
    {
     "name": "stderr",
     "output_type": "stream",
     "text": [
      "  2%|▏         | 23/1266 [00:10<09:03,  2.29it/s]"
     ]
    },
    {
     "name": "stdout",
     "output_type": "stream",
     "text": [
      "error: mag.dcnormffp_0_82_41.det.lc.W149\n"
     ]
    },
    {
     "name": "stderr",
     "output_type": "stream",
     "text": [
      "  2%|▏         | 26/1266 [00:10<08:42,  2.37it/s]"
     ]
    },
    {
     "name": "stdout",
     "output_type": "stream",
     "text": [
      "error: mag.dcnormffp_0_82_44.det.lc.W149\n",
      "error: mag.dcnormffp_0_82_45.det.lc.W149\n",
      "error: mag.dcnormffp_0_82_46.det.lc.W149\n"
     ]
    },
    {
     "name": "stderr",
     "output_type": "stream",
     "text": [
      "  3%|▎         | 36/1266 [00:14<08:22,  2.45it/s]"
     ]
    },
    {
     "name": "stdout",
     "output_type": "stream",
     "text": [
      "error: mag.dcnormffp_0_82_62.det.lc.W149\n",
      "error: mag.dcnormffp_0_82_63.det.lc.W149\n",
      "error: mag.dcnormffp_0_82_64.det.lc.W149\n",
      "error: mag.dcnormffp_0_82_65.det.lc.W149\n"
     ]
    },
    {
     "name": "stderr",
     "output_type": "stream",
     "text": [
      "  5%|▍         | 58/1266 [00:27<09:23,  2.15it/s]"
     ]
    },
    {
     "name": "stdout",
     "output_type": "stream",
     "text": [
      "error: mag.dcnormffp_0_82_88.det.lc.W149\n",
      "error: mag.dcnormffp_0_82_89.det.lc.W149\n"
     ]
    },
    {
     "name": "stderr",
     "output_type": "stream",
     "text": [
      "\r",
      "  5%|▍         | 60/1266 [00:27<09:12,  2.18it/s]"
     ]
    },
    {
     "name": "stdout",
     "output_type": "stream",
     "text": [
      "error: mag.dcnormffp_0_82_92.det.lc.W149\n"
     ]
    },
    {
     "name": "stderr",
     "output_type": "stream",
     "text": [
      "  5%|▌         | 68/1266 [00:31<09:13,  2.16it/s]"
     ]
    },
    {
     "name": "stdout",
     "output_type": "stream",
     "text": [
      "error: mag.dcnormffp_0_82_107.det.lc.W149\n"
     ]
    },
    {
     "name": "stderr",
     "output_type": "stream",
     "text": [
      "  6%|▌         | 74/1266 [00:33<09:05,  2.18it/s]"
     ]
    },
    {
     "name": "stdout",
     "output_type": "stream",
     "text": [
      "error: mag.dcnormffp_0_82_120.det.lc.W149\n"
     ]
    },
    {
     "name": "stderr",
     "output_type": "stream",
     "text": [
      "  7%|▋         | 86/1266 [00:39<09:04,  2.17it/s]"
     ]
    },
    {
     "name": "stdout",
     "output_type": "stream",
     "text": [
      "error: mag.dcnormffp_0_82_140.det.lc.W149\n"
     ]
    },
    {
     "name": "stderr",
     "output_type": "stream",
     "text": [
      "  8%|▊         | 96/1266 [00:44<08:57,  2.18it/s]"
     ]
    },
    {
     "name": "stdout",
     "output_type": "stream",
     "text": [
      "error: mag.dcnormffp_0_82_153.det.lc.W149\n"
     ]
    },
    {
     "name": "stderr",
     "output_type": "stream",
     "text": [
      "  8%|▊         | 100/1266 [00:45<08:49,  2.20it/s]"
     ]
    },
    {
     "name": "stdout",
     "output_type": "stream",
     "text": [
      "error: mag.dcnormffp_0_82_163.det.lc.W149\n"
     ]
    },
    {
     "name": "stderr",
     "output_type": "stream",
     "text": [
      "\r",
      "  8%|▊         | 102/1266 [00:45<08:43,  2.22it/s]"
     ]
    },
    {
     "name": "stdout",
     "output_type": "stream",
     "text": [
      "error: mag.dcnormffp_0_82_165.det.lc.W149\n"
     ]
    },
    {
     "name": "stderr",
     "output_type": "stream",
     "text": [
      "\r",
      "  8%|▊         | 104/1266 [00:46<08:38,  2.24it/s]"
     ]
    },
    {
     "name": "stdout",
     "output_type": "stream",
     "text": [
      "error: mag.dcnormffp_0_82_167.det.lc.W149\n",
      "error: mag.dcnormffp_0_82_168.det.lc.W149\n",
      "error: mag.dcnormffp_0_82_171.det.lc.W149\n",
      "error: mag.dcnormffp_0_82_173.det.lc.W149\n"
     ]
    },
    {
     "name": "stderr",
     "output_type": "stream",
     "text": [
      "  9%|▉         | 113/1266 [00:48<08:19,  2.31it/s]"
     ]
    },
    {
     "name": "stdout",
     "output_type": "stream",
     "text": [
      "error: mag.dcnormffp_0_82_185.det.lc.W149\n"
     ]
    },
    {
     "name": "stderr",
     "output_type": "stream",
     "text": [
      "\r",
      "  9%|▉         | 115/1266 [00:49<08:14,  2.33it/s]"
     ]
    },
    {
     "name": "stdout",
     "output_type": "stream",
     "text": [
      "error: mag.dcnormffp_0_82_187.det.lc.W149\n",
      "error: mag.dcnormffp_0_82_188.det.lc.W149\n"
     ]
    },
    {
     "name": "stderr",
     "output_type": "stream",
     "text": [
      "\r",
      "  9%|▉         | 118/1266 [00:49<08:05,  2.36it/s]"
     ]
    },
    {
     "name": "stdout",
     "output_type": "stream",
     "text": [
      "error: mag.dcnormffp_0_82_190.det.lc.W149\n"
     ]
    },
    {
     "name": "stderr",
     "output_type": "stream",
     "text": [
      " 10%|▉         | 121/1266 [00:50<08:01,  2.38it/s]"
     ]
    },
    {
     "name": "stdout",
     "output_type": "stream",
     "text": [
      "error: mag.dcnormffp_0_82_200.det.lc.W149\n"
     ]
    },
    {
     "name": "stderr",
     "output_type": "stream",
     "text": [
      " 10%|█         | 127/1266 [00:53<07:58,  2.38it/s]"
     ]
    },
    {
     "name": "stdout",
     "output_type": "stream",
     "text": [
      "error: mag.dcnormffp_0_82_206.det.lc.W149\n",
      "error: mag.dcnormffp_0_82_207.det.lc.W149\n"
     ]
    },
    {
     "name": "stderr",
     "output_type": "stream",
     "text": [
      " 10%|█         | 132/1266 [00:55<07:54,  2.39it/s]"
     ]
    },
    {
     "name": "stdout",
     "output_type": "stream",
     "text": [
      "error: mag.dcnormffp_0_82_212.det.lc.W149\n"
     ]
    },
    {
     "name": "stderr",
     "output_type": "stream",
     "text": [
      "\r",
      " 11%|█         | 134/1266 [00:55<07:50,  2.41it/s]"
     ]
    },
    {
     "name": "stdout",
     "output_type": "stream",
     "text": [
      "error: mag.dcnormffp_0_82_221.det.lc.W149\n",
      "error: mag.dcnormffp_0_82_222.det.lc.W149\n"
     ]
    },
    {
     "name": "stderr",
     "output_type": "stream",
     "text": [
      "\r",
      " 11%|█         | 137/1266 [00:56<07:42,  2.44it/s]"
     ]
    },
    {
     "name": "stdout",
     "output_type": "stream",
     "text": [
      "error: mag.dcnormffp_0_82_224.det.lc.W149\n"
     ]
    },
    {
     "name": "stderr",
     "output_type": "stream",
     "text": [
      " 11%|█▏        | 145/1266 [01:00<07:48,  2.39it/s]"
     ]
    },
    {
     "name": "stdout",
     "output_type": "stream",
     "text": [
      "error: mag.dcnormffp_0_82_240.det.lc.W149\n"
     ]
    },
    {
     "name": "stderr",
     "output_type": "stream",
     "text": [
      "\r",
      " 12%|█▏        | 147/1266 [01:01<07:46,  2.40it/s]"
     ]
    },
    {
     "name": "stdout",
     "output_type": "stream",
     "text": [
      "error: mag.dcnormffp_0_82_242.det.lc.W149\n"
     ]
    },
    {
     "name": "stderr",
     "output_type": "stream",
     "text": [
      "\r",
      " 12%|█▏        | 149/1266 [01:01<07:43,  2.41it/s]"
     ]
    },
    {
     "name": "stdout",
     "output_type": "stream",
     "text": [
      "error: mag.dcnormffp_0_82_244.det.lc.W149\n"
     ]
    },
    {
     "name": "stderr",
     "output_type": "stream",
     "text": [
      " 13%|█▎        | 159/1266 [01:06<07:41,  2.40it/s]"
     ]
    },
    {
     "name": "stdout",
     "output_type": "stream",
     "text": [
      "error: mag.dcnormffp_0_82_260.det.lc.W149\n"
     ]
    },
    {
     "name": "stderr",
     "output_type": "stream",
     "text": [
      "\r",
      " 13%|█▎        | 161/1266 [01:06<07:38,  2.41it/s]"
     ]
    },
    {
     "name": "stdout",
     "output_type": "stream",
     "text": [
      "error: mag.dcnormffp_0_82_262.det.lc.W149\n"
     ]
    },
    {
     "name": "stderr",
     "output_type": "stream",
     "text": [
      " 13%|█▎        | 167/1266 [01:09<07:35,  2.41it/s]"
     ]
    },
    {
     "name": "stdout",
     "output_type": "stream",
     "text": [
      "error: mag.dcnormffp_0_82_268.det.lc.W149\n"
     ]
    },
    {
     "name": "stderr",
     "output_type": "stream",
     "text": [
      " 14%|█▍        | 177/1266 [01:13<07:32,  2.41it/s]"
     ]
    },
    {
     "name": "stdout",
     "output_type": "stream",
     "text": [
      "error: mag.dcnormffp_0_82_287.det.lc.W149\n"
     ]
    },
    {
     "name": "stderr",
     "output_type": "stream",
     "text": [
      " 14%|█▍        | 183/1266 [01:16<07:32,  2.39it/s]"
     ]
    },
    {
     "name": "stdout",
     "output_type": "stream",
     "text": [
      "error: mag.dcnormffp_0_82_301.det.lc.W149\n"
     ]
    },
    {
     "name": "stderr",
     "output_type": "stream",
     "text": [
      " 15%|█▍        | 186/1266 [01:17<07:28,  2.41it/s]"
     ]
    },
    {
     "name": "stdout",
     "output_type": "stream",
     "text": [
      "error: mag.dcnormffp_0_82_304.det.lc.W149\n"
     ]
    },
    {
     "name": "stderr",
     "output_type": "stream",
     "text": [
      " 16%|█▌        | 200/1266 [01:24<07:30,  2.37it/s]"
     ]
    },
    {
     "name": "stdout",
     "output_type": "stream",
     "text": [
      "error: mag.dcnormffp_0_82_324.det.lc.W149\n"
     ]
    },
    {
     "name": "stderr",
     "output_type": "stream",
     "text": [
      " 17%|█▋        | 212/1266 [01:30<07:32,  2.33it/s]"
     ]
    },
    {
     "name": "stdout",
     "output_type": "stream",
     "text": [
      "error: mag.dcnormffp_0_82_342.det.lc.W149\n"
     ]
    },
    {
     "name": "stderr",
     "output_type": "stream",
     "text": [
      " 17%|█▋        | 217/1266 [01:32<07:28,  2.34it/s]"
     ]
    },
    {
     "name": "stdout",
     "output_type": "stream",
     "text": [
      "error: mag.dcnormffp_0_82_347.det.lc.W149\n"
     ]
    },
    {
     "name": "stderr",
     "output_type": "stream",
     "text": [
      "\r",
      " 17%|█▋        | 219/1266 [01:33<07:25,  2.35it/s]"
     ]
    },
    {
     "name": "stdout",
     "output_type": "stream",
     "text": [
      "error: mag.dcnormffp_0_82_349.det.lc.W149\n",
      "error: mag.dcnormffp_0_82_350.det.lc.W149\n"
     ]
    },
    {
     "name": "stderr",
     "output_type": "stream",
     "text": [
      " 18%|█▊        | 227/1266 [01:36<07:21,  2.35it/s]"
     ]
    },
    {
     "name": "stdout",
     "output_type": "stream",
     "text": [
      "error: mag.dcnormffp_0_82_364.det.lc.W149\n",
      "error: mag.dcnormffp_0_82_365.det.lc.W149\n"
     ]
    },
    {
     "name": "stderr",
     "output_type": "stream",
     "text": [
      "\r",
      " 18%|█▊        | 230/1266 [01:36<07:16,  2.37it/s]"
     ]
    },
    {
     "name": "stdout",
     "output_type": "stream",
     "text": [
      "error: mag.dcnormffp_0_82_367.det.lc.W149\n"
     ]
    },
    {
     "name": "stderr",
     "output_type": "stream",
     "text": [
      " 19%|█▉        | 239/1266 [01:41<07:14,  2.36it/s]"
     ]
    },
    {
     "name": "stdout",
     "output_type": "stream",
     "text": [
      "error: mag.dcnormffp_0_82_382.det.lc.W149\n"
     ]
    },
    {
     "name": "stderr",
     "output_type": "stream",
     "text": [
      " 19%|█▉        | 242/1266 [01:42<07:11,  2.37it/s]"
     ]
    },
    {
     "name": "stdout",
     "output_type": "stream",
     "text": [
      "error: mag.dcnormffp_0_82_385.det.lc.W149\n"
     ]
    },
    {
     "name": "stderr",
     "output_type": "stream",
     "text": [
      "\r",
      " 19%|█▉        | 244/1266 [01:42<07:08,  2.38it/s]"
     ]
    },
    {
     "name": "stdout",
     "output_type": "stream",
     "text": [
      "error: mag.dcnormffp_0_82_387.det.lc.W149\n"
     ]
    },
    {
     "name": "stderr",
     "output_type": "stream",
     "text": [
      " 20%|█▉        | 253/1266 [01:45<07:02,  2.40it/s]"
     ]
    },
    {
     "name": "stdout",
     "output_type": "stream",
     "text": [
      "error: mag.dcnormffp_0_82_405.det.lc.W149\n",
      "error: mag.dcnormffp_0_82_406.det.lc.W149\n",
      "error: mag.dcnormffp_0_82_407.det.lc.W149\n",
      "error: mag.dcnormffp_0_82_408.det.lc.W149\n"
     ]
    },
    {
     "name": "stderr",
     "output_type": "stream",
     "text": [
      " 21%|██        | 268/1266 [01:50<06:52,  2.42it/s]"
     ]
    },
    {
     "name": "stdout",
     "output_type": "stream",
     "text": [
      "error: mag.dcnormffp_0_82_426.det.lc.W149\n"
     ]
    },
    {
     "name": "stderr",
     "output_type": "stream",
     "text": [
      " 21%|██▏       | 272/1266 [01:52<06:50,  2.42it/s]"
     ]
    },
    {
     "name": "stdout",
     "output_type": "stream",
     "text": [
      "error: mag.dcnormffp_0_82_432.det.lc.W149\n"
     ]
    },
    {
     "name": "stderr",
     "output_type": "stream",
     "text": [
      "\r",
      " 22%|██▏       | 274/1266 [01:52<06:48,  2.43it/s]"
     ]
    },
    {
     "name": "stdout",
     "output_type": "stream",
     "text": [
      "error: mag.dcnormffp_0_82_440.det.lc.W149\n"
     ]
    },
    {
     "name": "stderr",
     "output_type": "stream",
     "text": [
      "\r",
      " 22%|██▏       | 276/1266 [01:53<06:46,  2.44it/s]"
     ]
    },
    {
     "name": "stdout",
     "output_type": "stream",
     "text": [
      "error: mag.dcnormffp_0_82_442.det.lc.W149\n"
     ]
    },
    {
     "name": "stderr",
     "output_type": "stream",
     "text": [
      " 22%|██▏       | 279/1266 [01:54<06:43,  2.45it/s]"
     ]
    },
    {
     "name": "stdout",
     "output_type": "stream",
     "text": [
      "error: mag.dcnormffp_0_82_445.det.lc.W149\n"
     ]
    },
    {
     "name": "stderr",
     "output_type": "stream",
     "text": [
      "\r",
      " 22%|██▏       | 281/1266 [01:54<06:41,  2.46it/s]"
     ]
    },
    {
     "name": "stdout",
     "output_type": "stream",
     "text": [
      "error: mag.dcnormffp_0_82_448.det.lc.W149\n",
      "error: mag.dcnormffp_0_82_449.det.lc.W149\n"
     ]
    },
    {
     "name": "stderr",
     "output_type": "stream",
     "text": [
      " 23%|██▎       | 285/1266 [01:55<06:37,  2.47it/s]"
     ]
    },
    {
     "name": "stdout",
     "output_type": "stream",
     "text": [
      "error: mag.dcnormffp_0_82_460.det.lc.W149\n"
     ]
    },
    {
     "name": "stderr",
     "output_type": "stream",
     "text": [
      " 23%|██▎       | 288/1266 [01:56<06:34,  2.48it/s]"
     ]
    },
    {
     "name": "stdout",
     "output_type": "stream",
     "text": [
      "error: mag.dcnormffp_0_82_463.det.lc.W149\n"
     ]
    },
    {
     "name": "stderr",
     "output_type": "stream",
     "text": [
      " 23%|██▎       | 293/1266 [01:58<06:32,  2.48it/s]"
     ]
    },
    {
     "name": "stdout",
     "output_type": "stream",
     "text": [
      "error: mag.dcnormffp_0_82_468.det.lc.W149\n"
     ]
    },
    {
     "name": "stderr",
     "output_type": "stream",
     "text": [
      " 23%|██▎       | 297/1266 [01:59<06:30,  2.48it/s]"
     ]
    },
    {
     "name": "stdout",
     "output_type": "stream",
     "text": [
      "error: mag.dcnormffp_0_82_474.det.lc.W149\n"
     ]
    },
    {
     "name": "stderr",
     "output_type": "stream",
     "text": [
      " 24%|██▍       | 304/1266 [02:02<06:26,  2.49it/s]"
     ]
    },
    {
     "name": "stdout",
     "output_type": "stream",
     "text": [
      "error: mag.dcnormffp_0_82_487.det.lc.W149\n",
      "error: mag.dcnormffp_0_82_488.det.lc.W149\n"
     ]
    },
    {
     "name": "stderr",
     "output_type": "stream",
     "text": [
      " 25%|██▌       | 317/1266 [02:07<06:21,  2.49it/s]"
     ]
    },
    {
     "name": "stdout",
     "output_type": "stream",
     "text": [
      "error: mag.dcnormffp_0_82_507.det.lc.W149\n"
     ]
    },
    {
     "name": "stderr",
     "output_type": "stream",
     "text": [
      " 26%|██▌       | 324/1266 [02:11<06:21,  2.47it/s]"
     ]
    },
    {
     "name": "stdout",
     "output_type": "stream",
     "text": [
      "error: mag.dcnormffp_0_82_514.det.lc.W149\n"
     ]
    },
    {
     "name": "stderr",
     "output_type": "stream",
     "text": [
      " 26%|██▋       | 333/1266 [02:14<06:17,  2.47it/s]"
     ]
    },
    {
     "name": "stdout",
     "output_type": "stream",
     "text": [
      "error: mag.dcnormffp_0_82_528.det.lc.W149\n"
     ]
    },
    {
     "name": "stderr",
     "output_type": "stream",
     "text": [
      " 27%|██▋       | 336/1266 [02:15<06:15,  2.48it/s]"
     ]
    },
    {
     "name": "stdout",
     "output_type": "stream",
     "text": [
      "error: mag.dcnormffp_0_82_540.det.lc.W149\n"
     ]
    },
    {
     "name": "stderr",
     "output_type": "stream",
     "text": [
      " 27%|██▋       | 347/1266 [02:20<06:11,  2.48it/s]"
     ]
    },
    {
     "name": "stdout",
     "output_type": "stream",
     "text": [
      "error: mag.dcnormffp_0_82_556.det.lc.W149\n"
     ]
    },
    {
     "name": "stderr",
     "output_type": "stream",
     "text": [
      "\r",
      " 28%|██▊       | 349/1266 [02:21<06:12,  2.46it/s]"
     ]
    },
    {
     "name": "stdout",
     "output_type": "stream",
     "text": [
      "error: mag.dcnormffp_0_82_561.det.lc.W149\n",
      "error: mag.dcnormffp_0_82_562.det.lc.W149\n"
     ]
    },
    {
     "name": "stderr",
     "output_type": "stream",
     "text": [
      " 29%|██▊       | 362/1266 [02:27<06:07,  2.46it/s]"
     ]
    },
    {
     "name": "stdout",
     "output_type": "stream",
     "text": [
      "error: mag.dcnormffp_0_82_580.det.lc.W149\n"
     ]
    },
    {
     "name": "stderr",
     "output_type": "stream",
     "text": [
      " 29%|██▉       | 365/1266 [02:28<06:05,  2.46it/s]"
     ]
    },
    {
     "name": "stdout",
     "output_type": "stream",
     "text": [
      "error: mag.dcnormffp_0_82_583.det.lc.W149\n"
     ]
    },
    {
     "name": "stderr",
     "output_type": "stream",
     "text": [
      " 29%|██▉       | 373/1266 [02:31<06:02,  2.46it/s]"
     ]
    },
    {
     "name": "stdout",
     "output_type": "stream",
     "text": [
      "error: mag.dcnormffp_0_82_592.det.lc.W149\n"
     ]
    },
    {
     "name": "stderr",
     "output_type": "stream",
     "text": [
      " 30%|███       | 384/1266 [02:35<05:58,  2.46it/s]"
     ]
    },
    {
     "name": "stdout",
     "output_type": "stream",
     "text": [
      "error: mag.dcnormffp_0_82_611.det.lc.W149\n"
     ]
    },
    {
     "name": "stderr",
     "output_type": "stream",
     "text": [
      "\r",
      " 30%|███       | 386/1266 [02:36<05:56,  2.47it/s]"
     ]
    },
    {
     "name": "stdout",
     "output_type": "stream",
     "text": [
      "error: mag.dcnormffp_0_82_620.det.lc.W149\n"
     ]
    },
    {
     "name": "stderr",
     "output_type": "stream",
     "text": [
      "\r",
      " 31%|███       | 388/1266 [02:36<05:55,  2.47it/s]"
     ]
    },
    {
     "name": "stdout",
     "output_type": "stream",
     "text": [
      "error: mag.dcnormffp_0_82_622.det.lc.W149\n"
     ]
    },
    {
     "name": "stderr",
     "output_type": "stream",
     "text": [
      " 31%|███       | 392/1266 [02:39<05:54,  2.47it/s]"
     ]
    },
    {
     "name": "stdout",
     "output_type": "stream",
     "text": [
      "error: mag.dcnormffp_0_82_626.det.lc.W149\n"
     ]
    },
    {
     "name": "stderr",
     "output_type": "stream",
     "text": [
      " 31%|███▏      | 397/1266 [02:44<06:00,  2.41it/s]"
     ]
    },
    {
     "name": "stdout",
     "output_type": "stream",
     "text": [
      "error: mag.dcnormffp_0_82_631.det.lc.W149\n"
     ]
    },
    {
     "name": "stderr",
     "output_type": "stream",
     "text": [
      " 32%|███▏      | 400/1266 [02:45<05:59,  2.41it/s]"
     ]
    },
    {
     "name": "stdout",
     "output_type": "stream",
     "text": [
      "error: mag.dcnormffp_0_82_643.det.lc.W149\n"
     ]
    },
    {
     "name": "stderr",
     "output_type": "stream",
     "text": [
      " 32%|███▏      | 403/1266 [02:46<05:57,  2.42it/s]"
     ]
    },
    {
     "name": "stdout",
     "output_type": "stream",
     "text": [
      "error: mag.dcnormffp_0_82_646.det.lc.W149\n",
      "error: mag.dcnormffp_0_82_647.det.lc.W149\n",
      "error: mag.dcnormffp_0_82_648.det.lc.W149\n"
     ]
    },
    {
     "name": "stderr",
     "output_type": "stream",
     "text": [
      " 32%|███▏      | 410/1266 [02:48<05:52,  2.43it/s]"
     ]
    },
    {
     "name": "stdout",
     "output_type": "stream",
     "text": [
      "error: mag.dcnormffp_0_82_660.det.lc.W149\n"
     ]
    },
    {
     "name": "stderr",
     "output_type": "stream",
     "text": [
      " 33%|███▎      | 419/1266 [02:52<05:47,  2.43it/s]"
     ]
    },
    {
     "name": "stdout",
     "output_type": "stream",
     "text": [
      "error: mag.dcnormffp_0_82_680.det.lc.W149\n"
     ]
    },
    {
     "name": "stderr",
     "output_type": "stream",
     "text": [
      "\r",
      " 33%|███▎      | 421/1266 [02:52<05:46,  2.44it/s]"
     ]
    },
    {
     "name": "stdout",
     "output_type": "stream",
     "text": [
      "error: mag.dcnormffp_0_82_682.det.lc.W149\n"
     ]
    },
    {
     "name": "stderr",
     "output_type": "stream",
     "text": [
      " 33%|███▎      | 424/1266 [02:53<05:44,  2.44it/s]"
     ]
    },
    {
     "name": "stdout",
     "output_type": "stream",
     "text": [
      "error: mag.dcnormffp_0_82_685.det.lc.W149\n",
      "error: mag.dcnormffp_0_82_686.det.lc.W149\n"
     ]
    },
    {
     "name": "stderr",
     "output_type": "stream",
     "text": [
      " 34%|███▍      | 434/1266 [02:57<05:40,  2.44it/s]"
     ]
    },
    {
     "name": "stdout",
     "output_type": "stream",
     "text": [
      "error: mag.dcnormffp_0_82_702.det.lc.W149\n"
     ]
    },
    {
     "name": "stderr",
     "output_type": "stream",
     "text": [
      " 35%|███▍      | 437/1266 [02:58<05:38,  2.45it/s]"
     ]
    },
    {
     "name": "stdout",
     "output_type": "stream",
     "text": [
      "error: mag.dcnormffp_0_82_705.det.lc.W149\n",
      "error: mag.dcnormffp_0_82_706.det.lc.W149\n"
     ]
    },
    {
     "name": "stderr",
     "output_type": "stream",
     "text": [
      "\r",
      " 35%|███▍      | 440/1266 [02:58<05:35,  2.46it/s]"
     ]
    },
    {
     "name": "stdout",
     "output_type": "stream",
     "text": [
      "error: mag.dcnormffp_0_82_708.det.lc.W149\n"
     ]
    },
    {
     "name": "stderr",
     "output_type": "stream",
     "text": [
      " 35%|███▌      | 445/1266 [03:00<05:33,  2.46it/s]"
     ]
    },
    {
     "name": "stdout",
     "output_type": "stream",
     "text": [
      "error: mag.dcnormffp_0_82_720.det.lc.W149\n",
      "error: mag.dcnormffp_0_82_721.det.lc.W149\n"
     ]
    },
    {
     "name": "stderr",
     "output_type": "stream",
     "text": [
      "\r",
      " 35%|███▌      | 448/1266 [03:01<05:30,  2.47it/s]"
     ]
    },
    {
     "name": "stdout",
     "output_type": "stream",
     "text": [
      "error: mag.dcnormffp_0_82_723.det.lc.W149\n",
      "error: mag.dcnormffp_0_82_724.det.lc.W149\n"
     ]
    },
    {
     "name": "stderr",
     "output_type": "stream",
     "text": [
      " 36%|███▌      | 454/1266 [03:02<05:27,  2.48it/s]"
     ]
    },
    {
     "name": "stdout",
     "output_type": "stream",
     "text": [
      "error: mag.dcnormffp_0_82_729.det.lc.W149\n",
      "error: mag.dcnormffp_0_82_730.det.lc.W149\n"
     ]
    },
    {
     "name": "stderr",
     "output_type": "stream",
     "text": [
      " 36%|███▋      | 459/1266 [03:04<05:23,  2.49it/s]"
     ]
    },
    {
     "name": "stdout",
     "output_type": "stream",
     "text": [
      "error: mag.dcnormffp_0_82_743.det.lc.W149\n"
     ]
    },
    {
     "name": "stderr",
     "output_type": "stream",
     "text": [
      " 37%|███▋      | 463/1266 [03:05<05:22,  2.49it/s]"
     ]
    },
    {
     "name": "stdout",
     "output_type": "stream",
     "text": [
      "error: mag.dcnormffp_0_82_747.det.lc.W149\n"
     ]
    },
    {
     "name": "stderr",
     "output_type": "stream",
     "text": [
      " 37%|███▋      | 466/1266 [03:06<05:20,  2.50it/s]"
     ]
    },
    {
     "name": "stdout",
     "output_type": "stream",
     "text": [
      "error: mag.dcnormffp_0_82_750.det.lc.W149\n"
     ]
    },
    {
     "name": "stderr",
     "output_type": "stream",
     "text": [
      " 37%|███▋      | 470/1266 [03:07<05:17,  2.50it/s]"
     ]
    },
    {
     "name": "stdout",
     "output_type": "stream",
     "text": [
      "error: mag.dcnormffp_0_82_760.det.lc.W149\n"
     ]
    },
    {
     "name": "stderr",
     "output_type": "stream",
     "text": [
      " 37%|███▋      | 473/1266 [03:08<05:16,  2.51it/s]"
     ]
    },
    {
     "name": "stdout",
     "output_type": "stream",
     "text": [
      "error: mag.dcnormffp_0_82_763.det.lc.W149\n",
      "error: mag.dcnormffp_0_82_764.det.lc.W149\n"
     ]
    },
    {
     "name": "stderr",
     "output_type": "stream",
     "text": [
      " 38%|███▊      | 477/1266 [03:09<05:13,  2.52it/s]"
     ]
    },
    {
     "name": "stdout",
     "output_type": "stream",
     "text": [
      "error: mag.dcnormffp_0_82_767.det.lc.W149\n"
     ]
    },
    {
     "name": "stderr",
     "output_type": "stream",
     "text": [
      " 39%|███▊      | 490/1266 [03:14<05:08,  2.52it/s]"
     ]
    },
    {
     "name": "stdout",
     "output_type": "stream",
     "text": [
      "error: mag.dcnormffp_0_82_788.det.lc.W149\n"
     ]
    },
    {
     "name": "stderr",
     "output_type": "stream",
     "text": [
      " 39%|███▉      | 495/1266 [03:16<05:05,  2.52it/s]"
     ]
    },
    {
     "name": "stdout",
     "output_type": "stream",
     "text": [
      "error: mag.dcnormffp_0_82_800.det.lc.W149\n"
     ]
    },
    {
     "name": "stderr",
     "output_type": "stream",
     "text": [
      "\r",
      " 39%|███▉      | 497/1266 [03:17<05:04,  2.52it/s]"
     ]
    },
    {
     "name": "stdout",
     "output_type": "stream",
     "text": [
      "error: mag.dcnormffp_0_82_802.det.lc.W149\n",
      "error: mag.dcnormffp_0_82_803.det.lc.W149\n"
     ]
    },
    {
     "name": "stderr",
     "output_type": "stream",
     "text": [
      " 40%|███▉      | 501/1266 [03:17<05:02,  2.53it/s]"
     ]
    },
    {
     "name": "stdout",
     "output_type": "stream",
     "text": [
      "error: mag.dcnormffp_0_82_806.det.lc.W149\n"
     ]
    },
    {
     "name": "stderr",
     "output_type": "stream",
     "text": [
      " 40%|████      | 509/1266 [03:21<04:58,  2.53it/s]"
     ]
    },
    {
     "name": "stdout",
     "output_type": "stream",
     "text": [
      "error: mag.dcnormffp_0_82_822.det.lc.W149\n"
     ]
    },
    {
     "name": "stderr",
     "output_type": "stream",
     "text": [
      "\r",
      " 40%|████      | 511/1266 [03:21<04:58,  2.53it/s]"
     ]
    },
    {
     "name": "stdout",
     "output_type": "stream",
     "text": [
      "error: mag.dcnormffp_0_82_824.det.lc.W149\n",
      "error: mag.dcnormffp_0_82_825.det.lc.W149\n"
     ]
    },
    {
     "name": "stderr",
     "output_type": "stream",
     "text": [
      " 41%|████      | 519/1266 [03:24<04:54,  2.54it/s]"
     ]
    },
    {
     "name": "stdout",
     "output_type": "stream",
     "text": [
      "error: mag.dcnormffp_0_82_833.det.lc.W149\n"
     ]
    },
    {
     "name": "stderr",
     "output_type": "stream",
     "text": [
      " 41%|████      | 522/1266 [03:25<04:53,  2.54it/s]"
     ]
    },
    {
     "name": "stdout",
     "output_type": "stream",
     "text": [
      "error: mag.dcnormffp_0_82_840.det.lc.W149\n",
      "error: mag.dcnormffp_0_82_841.det.lc.W149\n"
     ]
    },
    {
     "name": "stderr",
     "output_type": "stream",
     "text": [
      " 42%|████▏     | 526/1266 [03:30<04:55,  2.50it/s]"
     ]
    },
    {
     "name": "stdout",
     "output_type": "stream",
     "text": [
      "error: mag.dcnormffp_0_82_843.det.lc.W149\n",
      "error: mag.dcnormffp_0_82_844.det.lc.W149\n",
      "error: mag.dcnormffp_0_82_845.det.lc.W149\n"
     ]
    },
    {
     "name": "stderr",
     "output_type": "stream",
     "text": [
      " 42%|████▏     | 533/1266 [03:33<04:53,  2.50it/s]"
     ]
    },
    {
     "name": "stdout",
     "output_type": "stream",
     "text": [
      "error: mag.dcnormffp_0_82_851.det.lc.W149\n",
      "error: mag.dcnormffp_0_82_860.det.lc.W149\n"
     ]
    },
    {
     "name": "stderr",
     "output_type": "stream",
     "text": [
      " 43%|████▎     | 540/1266 [03:35<04:50,  2.50it/s]"
     ]
    },
    {
     "name": "stdout",
     "output_type": "stream",
     "text": [
      "error: mag.dcnormffp_0_82_866.det.lc.W149\n"
     ]
    },
    {
     "name": "stderr",
     "output_type": "stream",
     "text": [
      " 43%|████▎     | 543/1266 [03:36<04:48,  2.51it/s]"
     ]
    },
    {
     "name": "stdout",
     "output_type": "stream",
     "text": [
      "error: mag.dcnormffp_0_82_869.det.lc.W149\n"
     ]
    },
    {
     "name": "stderr",
     "output_type": "stream",
     "text": [
      " 44%|████▎     | 552/1266 [03:40<04:45,  2.50it/s]"
     ]
    },
    {
     "name": "stdout",
     "output_type": "stream",
     "text": [
      "error: mag.dcnormffp_0_82_885.det.lc.W149\n"
     ]
    },
    {
     "name": "stderr",
     "output_type": "stream",
     "text": [
      " 46%|████▌     | 580/1266 [03:52<04:35,  2.49it/s]"
     ]
    },
    {
     "name": "stdout",
     "output_type": "stream",
     "text": [
      "error: mag.dcnormffp_0_82_925.det.lc.W149\n"
     ]
    },
    {
     "name": "stderr",
     "output_type": "stream",
     "text": [
      " 46%|████▌     | 583/1266 [03:53<04:33,  2.49it/s]"
     ]
    },
    {
     "name": "stdout",
     "output_type": "stream",
     "text": [
      "error: mag.dcnormffp_0_82_928.det.lc.W149\n"
     ]
    },
    {
     "name": "stderr",
     "output_type": "stream",
     "text": [
      " 46%|████▋     | 587/1266 [03:55<04:32,  2.49it/s]"
     ]
    },
    {
     "name": "stdout",
     "output_type": "stream",
     "text": [
      "error: mag.dcnormffp_0_82_935.det.lc.W149\n"
     ]
    },
    {
     "name": "stderr",
     "output_type": "stream",
     "text": [
      " 48%|████▊     | 606/1266 [04:03<04:25,  2.49it/s]"
     ]
    },
    {
     "name": "stdout",
     "output_type": "stream",
     "text": [
      "error: mag.dcnormffp_0_82_966.det.lc.W149\n"
     ]
    },
    {
     "name": "stderr",
     "output_type": "stream",
     "text": [
      " 50%|████▉     | 627/1266 [04:14<04:19,  2.46it/s]"
     ]
    },
    {
     "name": "stdout",
     "output_type": "stream",
     "text": [
      "error: mag.dcnormffp_0_82_1003.det.lc.W149\n"
     ]
    },
    {
     "name": "stderr",
     "output_type": "stream",
     "text": [
      " 50%|████▉     | 630/1266 [04:15<04:17,  2.47it/s]"
     ]
    },
    {
     "name": "stdout",
     "output_type": "stream",
     "text": [
      "error: mag.dcnormffp_0_82_1006.det.lc.W149\n"
     ]
    },
    {
     "name": "stderr",
     "output_type": "stream",
     "text": [
      " 50%|█████     | 635/1266 [04:16<04:15,  2.47it/s]"
     ]
    },
    {
     "name": "stdout",
     "output_type": "stream",
     "text": [
      "error: mag.dcnormffp_0_82_1011.det.lc.W149\n"
     ]
    },
    {
     "name": "stderr",
     "output_type": "stream",
     "text": [
      " 52%|█████▏    | 664/1266 [04:32<04:07,  2.44it/s]"
     ]
    },
    {
     "name": "stdout",
     "output_type": "stream",
     "text": [
      "error: mag.dcnormffp_0_82_1065.det.lc.W149\n"
     ]
    },
    {
     "name": "stderr",
     "output_type": "stream",
     "text": [
      " 53%|█████▎    | 670/1266 [04:35<04:05,  2.43it/s]"
     ]
    },
    {
     "name": "stdout",
     "output_type": "stream",
     "text": [
      "error: mag.dcnormffp_0_82_1072.det.lc.W149\n"
     ]
    },
    {
     "name": "stderr",
     "output_type": "stream",
     "text": [
      " 53%|█████▎    | 675/1266 [04:40<04:05,  2.41it/s]"
     ]
    },
    {
     "name": "stdout",
     "output_type": "stream",
     "text": [
      "error: mag.dcnormffp_0_82_1083.det.lc.W149\n"
     ]
    },
    {
     "name": "stderr",
     "output_type": "stream",
     "text": [
      " 54%|█████▍    | 682/1266 [04:43<04:02,  2.40it/s]"
     ]
    },
    {
     "name": "stdout",
     "output_type": "stream",
     "text": [
      "error: mag.dcnormffp_0_82_1091.det.lc.W149\n"
     ]
    },
    {
     "name": "stderr",
     "output_type": "stream",
     "text": [
      "\r",
      " 54%|█████▍    | 684/1266 [04:44<04:01,  2.41it/s]"
     ]
    },
    {
     "name": "stdout",
     "output_type": "stream",
     "text": [
      "error: mag.dcnormffp_0_82_1093.det.lc.W149\n"
     ]
    },
    {
     "name": "stderr",
     "output_type": "stream",
     "text": [
      " 54%|█████▍    | 687/1266 [04:45<04:00,  2.41it/s]"
     ]
    },
    {
     "name": "stdout",
     "output_type": "stream",
     "text": [
      "error: mag.dcnormffp_0_82_1101.det.lc.W149\n"
     ]
    },
    {
     "name": "stderr",
     "output_type": "stream",
     "text": [
      " 55%|█████▍    | 691/1266 [04:46<03:58,  2.41it/s]"
     ]
    },
    {
     "name": "stdout",
     "output_type": "stream",
     "text": [
      "error: mag.dcnormffp_0_82_1105.det.lc.W149\n"
     ]
    },
    {
     "name": "stderr",
     "output_type": "stream",
     "text": [
      " 55%|█████▌    | 700/1266 [04:50<03:54,  2.41it/s]"
     ]
    },
    {
     "name": "stdout",
     "output_type": "stream",
     "text": [
      "error: mag.dcnormffp_0_82_1115.det.lc.W149\n"
     ]
    },
    {
     "name": "stderr",
     "output_type": "stream",
     "text": [
      " 56%|█████▌    | 705/1266 [04:51<03:52,  2.42it/s]"
     ]
    },
    {
     "name": "stdout",
     "output_type": "stream",
     "text": [
      "error: mag.dcnormffp_0_82_1124.det.lc.W149\n"
     ]
    },
    {
     "name": "stderr",
     "output_type": "stream",
     "text": [
      " 56%|█████▌    | 712/1266 [04:54<03:49,  2.42it/s]"
     ]
    },
    {
     "name": "stdout",
     "output_type": "stream",
     "text": [
      "error: mag.dcnormffp_0_82_1131.det.lc.W149\n"
     ]
    },
    {
     "name": "stderr",
     "output_type": "stream",
     "text": [
      "\r",
      " 56%|█████▋    | 714/1266 [04:54<03:48,  2.42it/s]"
     ]
    },
    {
     "name": "stdout",
     "output_type": "stream",
     "text": [
      "error: mag.dcnormffp_0_82_1133.det.lc.W149\n"
     ]
    },
    {
     "name": "stderr",
     "output_type": "stream",
     "text": [
      " 57%|█████▋    | 723/1266 [04:58<03:44,  2.42it/s]"
     ]
    },
    {
     "name": "stdout",
     "output_type": "stream",
     "text": [
      "error: mag.dcnormffp_0_82_1148.det.lc.W149\n"
     ]
    },
    {
     "name": "stderr",
     "output_type": "stream",
     "text": [
      " 58%|█████▊    | 740/1266 [05:05<03:37,  2.42it/s]"
     ]
    },
    {
     "name": "stdout",
     "output_type": "stream",
     "text": [
      "error: mag.dcnormffp_0_82_1180.det.lc.W149\n",
      "error: mag.dcnormffp_0_82_1181.det.lc.W149\n"
     ]
    },
    {
     "name": "stderr",
     "output_type": "stream",
     "text": [
      " 59%|█████▉    | 745/1266 [05:07<03:35,  2.42it/s]"
     ]
    },
    {
     "name": "stdout",
     "output_type": "stream",
     "text": [
      "error: mag.dcnormffp_0_82_1185.det.lc.W149\n"
     ]
    },
    {
     "name": "stderr",
     "output_type": "stream",
     "text": [
      " 59%|█████▉    | 750/1266 [05:09<03:32,  2.42it/s]"
     ]
    },
    {
     "name": "stdout",
     "output_type": "stream",
     "text": [
      "error: mag.dcnormffp_0_82_1191.det.lc.W149\n",
      "error: mag.dcnormffp_0_82_1192.det.lc.W149\n"
     ]
    },
    {
     "name": "stderr",
     "output_type": "stream",
     "text": [
      " 60%|█████▉    | 754/1266 [05:10<03:30,  2.43it/s]"
     ]
    },
    {
     "name": "stdout",
     "output_type": "stream",
     "text": [
      "error: mag.dcnormffp_0_82_1201.det.lc.W149\n"
     ]
    },
    {
     "name": "stderr",
     "output_type": "stream",
     "text": [
      "\r",
      " 60%|█████▉    | 756/1266 [05:10<03:29,  2.43it/s]"
     ]
    },
    {
     "name": "stdout",
     "output_type": "stream",
     "text": [
      "error: mag.dcnormffp_0_82_1203.det.lc.W149\n"
     ]
    },
    {
     "name": "stderr",
     "output_type": "stream",
     "text": [
      " 60%|██████    | 760/1266 [05:12<03:27,  2.43it/s]"
     ]
    },
    {
     "name": "stdout",
     "output_type": "stream",
     "text": [
      "error: mag.dcnormffp_0_82_1207.det.lc.W149\n"
     ]
    },
    {
     "name": "stderr",
     "output_type": "stream",
     "text": [
      " 60%|██████    | 765/1266 [05:13<03:25,  2.44it/s]"
     ]
    },
    {
     "name": "stdout",
     "output_type": "stream",
     "text": [
      "error: mag.dcnormffp_0_82_1221.det.lc.W149\n"
     ]
    },
    {
     "name": "stderr",
     "output_type": "stream",
     "text": [
      " 61%|██████    | 768/1266 [05:14<03:23,  2.44it/s]"
     ]
    },
    {
     "name": "stdout",
     "output_type": "stream",
     "text": [
      "error: mag.dcnormffp_0_82_1224.det.lc.W149\n"
     ]
    },
    {
     "name": "stderr",
     "output_type": "stream",
     "text": [
      " 61%|██████    | 771/1266 [05:15<03:22,  2.44it/s]"
     ]
    },
    {
     "name": "stdout",
     "output_type": "stream",
     "text": [
      "error: mag.dcnormffp_0_82_1227.det.lc.W149\n"
     ]
    },
    {
     "name": "stderr",
     "output_type": "stream",
     "text": [
      " 62%|██████▏   | 783/1266 [05:20<03:17,  2.44it/s]"
     ]
    },
    {
     "name": "stdout",
     "output_type": "stream",
     "text": [
      "error: mag.dcnormffp_0_82_1246.det.lc.W149\n"
     ]
    },
    {
     "name": "stderr",
     "output_type": "stream",
     "text": [
      " 63%|██████▎   | 793/1266 [05:24<03:13,  2.44it/s]"
     ]
    },
    {
     "name": "stdout",
     "output_type": "stream",
     "text": [
      "error: mag.dcnormffp_0_82_1262.det.lc.W149\n"
     ]
    },
    {
     "name": "stderr",
     "output_type": "stream",
     "text": [
      " 64%|██████▎   | 804/1266 [05:29<03:09,  2.44it/s]"
     ]
    },
    {
     "name": "stdout",
     "output_type": "stream",
     "text": [
      "error: mag.dcnormffp_0_82_1280.det.lc.W149\n"
     ]
    },
    {
     "name": "stderr",
     "output_type": "stream",
     "text": [
      " 64%|██████▍   | 809/1266 [05:31<03:07,  2.44it/s]"
     ]
    },
    {
     "name": "stdout",
     "output_type": "stream",
     "text": [
      "error: mag.dcnormffp_0_82_1285.det.lc.W149\n"
     ]
    },
    {
     "name": "stderr",
     "output_type": "stream",
     "text": [
      " 65%|██████▍   | 820/1266 [05:35<03:02,  2.44it/s]"
     ]
    },
    {
     "name": "stdout",
     "output_type": "stream",
     "text": [
      "error: mag.dcnormffp_0_82_1302.det.lc.W149\n",
      "error: mag.dcnormffp_0_82_1303.det.lc.W149\n"
     ]
    },
    {
     "name": "stderr",
     "output_type": "stream",
     "text": [
      " 65%|██████▌   | 826/1266 [05:37<02:59,  2.45it/s]"
     ]
    },
    {
     "name": "stdout",
     "output_type": "stream",
     "text": [
      "error: mag.dcnormffp_0_82_1309.det.lc.W149\n"
     ]
    },
    {
     "name": "stderr",
     "output_type": "stream",
     "text": [
      " 66%|██████▌   | 830/1266 [05:38<02:57,  2.45it/s]"
     ]
    },
    {
     "name": "stdout",
     "output_type": "stream",
     "text": [
      "error: mag.dcnormffp_0_82_1321.det.lc.W149\n",
      "error: mag.dcnormffp_0_82_1322.det.lc.W149\n"
     ]
    },
    {
     "name": "stderr",
     "output_type": "stream",
     "text": [
      " 66%|██████▋   | 840/1266 [05:42<02:53,  2.46it/s]"
     ]
    },
    {
     "name": "stdout",
     "output_type": "stream",
     "text": [
      "error: mag.dcnormffp_0_82_1331.det.lc.W149\n"
     ]
    },
    {
     "name": "stderr",
     "output_type": "stream",
     "text": [
      " 67%|██████▋   | 843/1266 [05:43<02:52,  2.46it/s]"
     ]
    },
    {
     "name": "stdout",
     "output_type": "stream",
     "text": [
      "error: mag.dcnormffp_0_82_1335.det.lc.W149\n"
     ]
    },
    {
     "name": "stderr",
     "output_type": "stream",
     "text": [
      " 67%|██████▋   | 852/1266 [05:46<02:48,  2.46it/s]"
     ]
    },
    {
     "name": "stdout",
     "output_type": "stream",
     "text": [
      "error: mag.dcnormffp_0_82_1348.det.lc.W149\n"
     ]
    },
    {
     "name": "stderr",
     "output_type": "stream",
     "text": [
      " 68%|██████▊   | 855/1266 [05:47<02:47,  2.46it/s]"
     ]
    },
    {
     "name": "stdout",
     "output_type": "stream",
     "text": [
      "error: mag.dcnormffp_0_82_1353.det.lc.W149\n"
     ]
    },
    {
     "name": "stderr",
     "output_type": "stream",
     "text": [
      " 68%|██████▊   | 861/1266 [05:49<02:44,  2.46it/s]"
     ]
    },
    {
     "name": "stdout",
     "output_type": "stream",
     "text": [
      "error: mag.dcnormffp_0_82_1362.det.lc.W149\n"
     ]
    },
    {
     "name": "stderr",
     "output_type": "stream",
     "text": [
      " 69%|██████▊   | 870/1266 [05:54<02:41,  2.46it/s]"
     ]
    },
    {
     "name": "stdout",
     "output_type": "stream",
     "text": [
      "error: mag.dcnormffp_0_82_1371.det.lc.W149\n"
     ]
    },
    {
     "name": "stderr",
     "output_type": "stream",
     "text": [
      " 69%|██████▉   | 876/1266 [05:56<02:38,  2.46it/s]"
     ]
    },
    {
     "name": "stdout",
     "output_type": "stream",
     "text": [
      "error: mag.dcnormffp_0_82_1384.det.lc.W149\n"
     ]
    },
    {
     "name": "stderr",
     "output_type": "stream",
     "text": [
      " 70%|██████▉   | 884/1266 [05:59<02:35,  2.46it/s]"
     ]
    },
    {
     "name": "stdout",
     "output_type": "stream",
     "text": [
      "error: mag.dcnormffp_0_82_1392.det.lc.W149\n"
     ]
    },
    {
     "name": "stderr",
     "output_type": "stream",
     "text": [
      " 70%|███████   | 887/1266 [06:00<02:33,  2.46it/s]"
     ]
    },
    {
     "name": "stdout",
     "output_type": "stream",
     "text": [
      "error: mag.dcnormffp_0_82_1400.det.lc.W149\n",
      "error: mag.dcnormffp_0_82_1401.det.lc.W149\n"
     ]
    },
    {
     "name": "stderr",
     "output_type": "stream",
     "text": [
      " 71%|███████▏  | 905/1266 [06:07<02:26,  2.46it/s]"
     ]
    },
    {
     "name": "stdout",
     "output_type": "stream",
     "text": [
      "error: mag.dcnormffp_0_82_1424.det.lc.W149\n"
     ]
    },
    {
     "name": "stderr",
     "output_type": "stream",
     "text": [
      "\r",
      " 72%|███████▏  | 907/1266 [06:08<02:25,  2.46it/s]"
     ]
    },
    {
     "name": "stdout",
     "output_type": "stream",
     "text": [
      "error: mag.dcnormffp_0_82_1426.det.lc.W149\n"
     ]
    },
    {
     "name": "stderr",
     "output_type": "stream",
     "text": [
      " 73%|███████▎  | 923/1266 [06:14<02:19,  2.46it/s]"
     ]
    },
    {
     "name": "stdout",
     "output_type": "stream",
     "text": [
      "error: mag.dcnormffp_0_82_1449.det.lc.W149\n"
     ]
    },
    {
     "name": "stderr",
     "output_type": "stream",
     "text": [
      " 73%|███████▎  | 927/1266 [06:16<02:17,  2.46it/s]"
     ]
    },
    {
     "name": "stdout",
     "output_type": "stream",
     "text": [
      "error: mag.dcnormffp_0_82_1460.det.lc.W149\n"
     ]
    },
    {
     "name": "stderr",
     "output_type": "stream",
     "text": [
      " 74%|███████▎  | 932/1266 [06:18<02:15,  2.46it/s]"
     ]
    },
    {
     "name": "stdout",
     "output_type": "stream",
     "text": [
      "error: mag.dcnormffp_0_82_1465.det.lc.W149\n",
      "error: mag.dcnormffp_0_82_1466.det.lc.W149\n"
     ]
    },
    {
     "name": "stderr",
     "output_type": "stream",
     "text": [
      " 74%|███████▍  | 936/1266 [06:19<02:13,  2.47it/s]"
     ]
    },
    {
     "name": "stdout",
     "output_type": "stream",
     "text": [
      "error: mag.dcnormffp_0_82_1470.det.lc.W149\n"
     ]
    },
    {
     "name": "stderr",
     "output_type": "stream",
     "text": [
      " 74%|███████▍  | 939/1266 [06:20<02:12,  2.47it/s]"
     ]
    },
    {
     "name": "stdout",
     "output_type": "stream",
     "text": [
      "error: mag.dcnormffp_0_82_1480.det.lc.W149\n"
     ]
    },
    {
     "name": "stderr",
     "output_type": "stream",
     "text": [
      "\r",
      " 74%|███████▍  | 941/1266 [06:20<02:11,  2.47it/s]"
     ]
    },
    {
     "name": "stdout",
     "output_type": "stream",
     "text": [
      "error: mag.dcnormffp_0_82_1482.det.lc.W149\n",
      "error: mag.dcnormffp_0_82_1483.det.lc.W149\n"
     ]
    },
    {
     "name": "stderr",
     "output_type": "stream",
     "text": [
      " 75%|███████▍  | 946/1266 [06:21<02:09,  2.48it/s]"
     ]
    },
    {
     "name": "stdout",
     "output_type": "stream",
     "text": [
      "error: mag.dcnormffp_0_82_1487.det.lc.W149\n"
     ]
    },
    {
     "name": "stderr",
     "output_type": "stream",
     "text": [
      " 75%|███████▌  | 952/1266 [06:23<02:06,  2.48it/s]"
     ]
    },
    {
     "name": "stdout",
     "output_type": "stream",
     "text": [
      "error: mag.dcnormffp_0_82_1500.det.lc.W149\n"
     ]
    },
    {
     "name": "stderr",
     "output_type": "stream",
     "text": [
      " 76%|███████▌  | 960/1266 [06:27<02:03,  2.48it/s]"
     ]
    },
    {
     "name": "stdout",
     "output_type": "stream",
     "text": [
      "error: mag.dcnormffp_0_82_1508.det.lc.W149\n"
     ]
    },
    {
     "name": "stderr",
     "output_type": "stream",
     "text": [
      " 76%|███████▌  | 963/1266 [06:28<02:02,  2.48it/s]"
     ]
    },
    {
     "name": "stdout",
     "output_type": "stream",
     "text": [
      "error: mag.dcnormffp_0_82_1512.det.lc.W149\n"
     ]
    },
    {
     "name": "stderr",
     "output_type": "stream",
     "text": [
      " 76%|███████▋  | 968/1266 [06:30<02:00,  2.48it/s]"
     ]
    },
    {
     "name": "stdout",
     "output_type": "stream",
     "text": [
      "error: mag.dcnormffp_0_82_1523.det.lc.W149\n",
      "error: mag.dcnormffp_0_82_1524.det.lc.W149\n"
     ]
    },
    {
     "name": "stderr",
     "output_type": "stream",
     "text": [
      " 77%|███████▋  | 980/1266 [06:34<01:55,  2.48it/s]"
     ]
    },
    {
     "name": "stdout",
     "output_type": "stream",
     "text": [
      "error: mag.dcnormffp_0_82_1542.det.lc.W149\n"
     ]
    },
    {
     "name": "stderr",
     "output_type": "stream",
     "text": [
      " 78%|███████▊  | 993/1266 [06:40<01:50,  2.48it/s]"
     ]
    },
    {
     "name": "stdout",
     "output_type": "stream",
     "text": [
      "error: mag.dcnormffp_0_82_1563.det.lc.W149\n"
     ]
    },
    {
     "name": "stderr",
     "output_type": "stream",
     "text": [
      " 79%|███████▊  | 996/1266 [06:41<01:48,  2.48it/s]"
     ]
    },
    {
     "name": "stdout",
     "output_type": "stream",
     "text": [
      "error: mag.dcnormffp_0_82_1567.det.lc.W149\n"
     ]
    },
    {
     "name": "stderr",
     "output_type": "stream",
     "text": [
      " 79%|███████▉  | 1000/1266 [06:42<01:47,  2.48it/s]"
     ]
    },
    {
     "name": "stdout",
     "output_type": "stream",
     "text": [
      "error: mag.dcnormffp_0_82_1572.det.lc.W149\n",
      "error: mag.dcnormffp_0_82_1580.det.lc.W149\n"
     ]
    },
    {
     "name": "stderr",
     "output_type": "stream",
     "text": [
      " 80%|███████▉  | 1012/1266 [06:46<01:42,  2.49it/s]"
     ]
    },
    {
     "name": "stdout",
     "output_type": "stream",
     "text": [
      "error: mag.dcnormffp_0_82_1592.det.lc.W149\n"
     ]
    },
    {
     "name": "stderr",
     "output_type": "stream",
     "text": [
      " 80%|████████  | 1017/1266 [06:48<01:40,  2.49it/s]"
     ]
    },
    {
     "name": "stdout",
     "output_type": "stream",
     "text": [
      "error: mag.dcnormffp_0_82_1603.det.lc.W149\n"
     ]
    },
    {
     "name": "stderr",
     "output_type": "stream",
     "text": [
      " 81%|████████▏ | 1030/1266 [06:54<01:34,  2.49it/s]"
     ]
    },
    {
     "name": "stdout",
     "output_type": "stream",
     "text": [
      "error: mag.dcnormffp_0_82_1626.det.lc.W149\n"
     ]
    },
    {
     "name": "stderr",
     "output_type": "stream",
     "text": [
      " 82%|████████▏ | 1039/1266 [06:57<01:31,  2.49it/s]"
     ]
    },
    {
     "name": "stdout",
     "output_type": "stream",
     "text": [
      "error: mag.dcnormffp_0_82_1640.det.lc.W149\n"
     ]
    },
    {
     "name": "stderr",
     "output_type": "stream",
     "text": [
      "\r",
      " 82%|████████▏ | 1041/1266 [06:58<01:30,  2.49it/s]"
     ]
    },
    {
     "name": "stdout",
     "output_type": "stream",
     "text": [
      "error: mag.dcnormffp_0_82_1642.det.lc.W149\n"
     ]
    },
    {
     "name": "stderr",
     "output_type": "stream",
     "text": [
      " 83%|████████▎ | 1045/1266 [06:59<01:28,  2.49it/s]"
     ]
    },
    {
     "name": "stdout",
     "output_type": "stream",
     "text": [
      "error: mag.dcnormffp_0_82_1646.det.lc.W149\n"
     ]
    },
    {
     "name": "stderr",
     "output_type": "stream",
     "text": [
      " 83%|████████▎ | 1053/1266 [07:02<01:25,  2.49it/s]"
     ]
    },
    {
     "name": "stdout",
     "output_type": "stream",
     "text": [
      "error: mag.dcnormffp_0_82_1661.det.lc.W149\n"
     ]
    },
    {
     "name": "stderr",
     "output_type": "stream",
     "text": [
      " 83%|████████▎ | 1056/1266 [07:03<01:24,  2.49it/s]"
     ]
    },
    {
     "name": "stdout",
     "output_type": "stream",
     "text": [
      "error: mag.dcnormffp_0_82_1664.det.lc.W149\n"
     ]
    },
    {
     "name": "stderr",
     "output_type": "stream",
     "text": [
      "\r",
      " 84%|████████▎ | 1058/1266 [07:04<01:23,  2.49it/s]"
     ]
    },
    {
     "name": "stdout",
     "output_type": "stream",
     "text": [
      "error: mag.dcnormffp_0_82_1666.det.lc.W149\n"
     ]
    },
    {
     "name": "stderr",
     "output_type": "stream",
     "text": [
      " 84%|████████▍ | 1067/1266 [07:07<01:19,  2.49it/s]"
     ]
    },
    {
     "name": "stdout",
     "output_type": "stream",
     "text": [
      "error: mag.dcnormffp_0_82_1683.det.lc.W149\n"
     ]
    },
    {
     "name": "stderr",
     "output_type": "stream",
     "text": [
      " 85%|████████▍ | 1070/1266 [07:08<01:18,  2.50it/s]"
     ]
    },
    {
     "name": "stdout",
     "output_type": "stream",
     "text": [
      "error: mag.dcnormffp_0_82_1686.det.lc.W149\n"
     ]
    },
    {
     "name": "stderr",
     "output_type": "stream",
     "text": [
      "\r",
      " 85%|████████▍ | 1072/1266 [07:09<01:17,  2.50it/s]"
     ]
    },
    {
     "name": "stdout",
     "output_type": "stream",
     "text": [
      "error: mag.dcnormffp_0_82_1688.det.lc.W149\n"
     ]
    },
    {
     "name": "stderr",
     "output_type": "stream",
     "text": [
      " 85%|████████▌ | 1080/1266 [07:12<01:14,  2.49it/s]"
     ]
    },
    {
     "name": "stdout",
     "output_type": "stream",
     "text": [
      "error: mag.dcnormffp_0_82_1703.det.lc.W149\n"
     ]
    },
    {
     "name": "stderr",
     "output_type": "stream",
     "text": [
      "\r",
      " 85%|████████▌ | 1082/1266 [07:13<01:13,  2.50it/s]"
     ]
    },
    {
     "name": "stdout",
     "output_type": "stream",
     "text": [
      "error: mag.dcnormffp_0_82_1705.det.lc.W149\n",
      "error: mag.dcnormffp_0_82_1706.det.lc.W149\n"
     ]
    },
    {
     "name": "stderr",
     "output_type": "stream",
     "text": [
      " 86%|████████▌ | 1086/1266 [07:14<01:11,  2.50it/s]"
     ]
    },
    {
     "name": "stdout",
     "output_type": "stream",
     "text": [
      "error: mag.dcnormffp_0_82_1709.det.lc.W149\n"
     ]
    },
    {
     "name": "stderr",
     "output_type": "stream",
     "text": [
      " 86%|████████▌ | 1090/1266 [07:15<01:10,  2.50it/s]"
     ]
    },
    {
     "name": "stdout",
     "output_type": "stream",
     "text": [
      "error: mag.dcnormffp_0_82_1719.det.lc.W149\n",
      "error: mag.dcnormffp_0_82_1720.det.lc.W149\n"
     ]
    },
    {
     "name": "stderr",
     "output_type": "stream",
     "text": [
      " 87%|████████▋ | 1107/1266 [07:22<01:03,  2.50it/s]"
     ]
    },
    {
     "name": "stdout",
     "output_type": "stream",
     "text": [
      "error: mag.dcnormffp_0_82_1744.det.lc.W149\n"
     ]
    },
    {
     "name": "stderr",
     "output_type": "stream",
     "text": [
      " 88%|████████▊ | 1111/1266 [07:23<01:01,  2.50it/s]"
     ]
    },
    {
     "name": "stdout",
     "output_type": "stream",
     "text": [
      "error: mag.dcnormffp_0_82_1748.det.lc.W149\n"
     ]
    },
    {
     "name": "stderr",
     "output_type": "stream",
     "text": [
      " 88%|████████▊ | 1116/1266 [07:25<00:59,  2.51it/s]"
     ]
    },
    {
     "name": "stdout",
     "output_type": "stream",
     "text": [
      "error: mag.dcnormffp_0_82_1760.det.lc.W149\n"
     ]
    },
    {
     "name": "stderr",
     "output_type": "stream",
     "text": [
      " 88%|████████▊ | 1119/1266 [07:26<00:58,  2.51it/s]"
     ]
    },
    {
     "name": "stdout",
     "output_type": "stream",
     "text": [
      "error: mag.dcnormffp_0_82_1763.det.lc.W149\n"
     ]
    },
    {
     "name": "stderr",
     "output_type": "stream",
     "text": [
      "\r",
      " 89%|████████▊ | 1121/1266 [07:26<00:57,  2.51it/s]"
     ]
    },
    {
     "name": "stdout",
     "output_type": "stream",
     "text": [
      "error: mag.dcnormffp_0_82_1765.det.lc.W149\n",
      "error: mag.dcnormffp_0_82_1766.det.lc.W149\n"
     ]
    },
    {
     "name": "stderr",
     "output_type": "stream",
     "text": [
      " 89%|████████▉ | 1129/1266 [07:29<00:54,  2.51it/s]"
     ]
    },
    {
     "name": "stdout",
     "output_type": "stream",
     "text": [
      "error: mag.dcnormffp_0_82_1780.det.lc.W149\n",
      "error: mag.dcnormffp_0_82_1781.det.lc.W149\n"
     ]
    },
    {
     "name": "stderr",
     "output_type": "stream",
     "text": [
      " 90%|████████▉ | 1137/1266 [07:32<00:51,  2.51it/s]"
     ]
    },
    {
     "name": "stdout",
     "output_type": "stream",
     "text": [
      "error: mag.dcnormffp_0_82_1788.det.lc.W149\n"
     ]
    },
    {
     "name": "stderr",
     "output_type": "stream",
     "text": [
      " 91%|█████████ | 1146/1266 [07:35<00:47,  2.51it/s]"
     ]
    },
    {
     "name": "stdout",
     "output_type": "stream",
     "text": [
      "error: mag.dcnormffp_0_82_1804.det.lc.W149\n"
     ]
    },
    {
     "name": "stderr",
     "output_type": "stream",
     "text": [
      " 91%|█████████ | 1150/1266 [07:37<00:46,  2.52it/s]"
     ]
    },
    {
     "name": "stdout",
     "output_type": "stream",
     "text": [
      "error: mag.dcnormffp_0_82_1809.det.lc.W149\n"
     ]
    },
    {
     "name": "stderr",
     "output_type": "stream",
     "text": [
      " 91%|█████████ | 1155/1266 [07:39<00:44,  2.51it/s]"
     ]
    },
    {
     "name": "stdout",
     "output_type": "stream",
     "text": [
      "error: mag.dcnormffp_0_82_1820.det.lc.W149\n"
     ]
    },
    {
     "name": "stderr",
     "output_type": "stream",
     "text": [
      " 91%|█████████▏| 1158/1266 [07:40<00:42,  2.52it/s]"
     ]
    },
    {
     "name": "stdout",
     "output_type": "stream",
     "text": [
      "error: mag.dcnormffp_0_82_1823.det.lc.W149\n"
     ]
    },
    {
     "name": "stderr",
     "output_type": "stream",
     "text": [
      " 92%|█████████▏| 1170/1266 [07:45<00:38,  2.51it/s]"
     ]
    },
    {
     "name": "stdout",
     "output_type": "stream",
     "text": [
      "error: mag.dcnormffp_0_82_1843.det.lc.W149\n",
      "error: mag.dcnormffp_0_82_1844.det.lc.W149\n"
     ]
    },
    {
     "name": "stderr",
     "output_type": "stream",
     "text": [
      "\r",
      " 93%|█████████▎| 1173/1266 [07:45<00:36,  2.52it/s]"
     ]
    },
    {
     "name": "stdout",
     "output_type": "stream",
     "text": [
      "error: mag.dcnormffp_0_82_1846.det.lc.W149\n",
      "error: mag.dcnormffp_0_82_1847.det.lc.W149\n"
     ]
    },
    {
     "name": "stderr",
     "output_type": "stream",
     "text": [
      " 93%|█████████▎| 1181/1266 [07:48<00:33,  2.52it/s]"
     ]
    },
    {
     "name": "stdout",
     "output_type": "stream",
     "text": [
      "error: mag.dcnormffp_0_82_1861.det.lc.W149\n"
     ]
    },
    {
     "name": "stderr",
     "output_type": "stream",
     "text": [
      " 94%|█████████▍| 1187/1266 [07:50<00:31,  2.52it/s]"
     ]
    },
    {
     "name": "stdout",
     "output_type": "stream",
     "text": [
      "error: mag.dcnormffp_0_82_1867.det.lc.W149\n"
     ]
    },
    {
     "name": "stderr",
     "output_type": "stream",
     "text": [
      " 95%|█████████▍| 1199/1266 [07:55<00:26,  2.52it/s]"
     ]
    },
    {
     "name": "stdout",
     "output_type": "stream",
     "text": [
      "error: mag.dcnormffp_0_82_1887.det.lc.W149\n"
     ]
    },
    {
     "name": "stderr",
     "output_type": "stream",
     "text": [
      " 95%|█████████▌| 1203/1266 [07:56<00:24,  2.52it/s]"
     ]
    },
    {
     "name": "stdout",
     "output_type": "stream",
     "text": [
      "error: mag.dcnormffp_0_82_1895.det.lc.W149\n",
      "error: mag.dcnormffp_0_82_1900.det.lc.W149\n"
     ]
    },
    {
     "name": "stderr",
     "output_type": "stream",
     "text": [
      " 95%|█████████▌| 1209/1266 [07:58<00:22,  2.53it/s]"
     ]
    },
    {
     "name": "stdout",
     "output_type": "stream",
     "text": [
      "error: mag.dcnormffp_0_82_1905.det.lc.W149\n"
     ]
    },
    {
     "name": "stderr",
     "output_type": "stream",
     "text": [
      "\r",
      " 96%|█████████▌| 1211/1266 [07:59<00:21,  2.53it/s]"
     ]
    },
    {
     "name": "stdout",
     "output_type": "stream",
     "text": [
      "error: mag.dcnormffp_0_82_1907.det.lc.W149\n"
     ]
    },
    {
     "name": "stderr",
     "output_type": "stream",
     "text": [
      " 96%|█████████▌| 1214/1266 [07:59<00:20,  2.53it/s]"
     ]
    },
    {
     "name": "stdout",
     "output_type": "stream",
     "text": [
      "error: mag.dcnormffp_0_82_1910.det.lc.W149\n"
     ]
    },
    {
     "name": "stderr",
     "output_type": "stream",
     "text": [
      " 96%|█████████▌| 1217/1266 [08:00<00:19,  2.53it/s]"
     ]
    },
    {
     "name": "stdout",
     "output_type": "stream",
     "text": [
      "error: mag.dcnormffp_0_82_1920.det.lc.W149\n"
     ]
    },
    {
     "name": "stderr",
     "output_type": "stream",
     "text": [
      "\r",
      " 96%|█████████▋| 1219/1266 [08:01<00:18,  2.53it/s]"
     ]
    },
    {
     "name": "stdout",
     "output_type": "stream",
     "text": [
      "error: mag.dcnormffp_0_82_1922.det.lc.W149\n",
      "error: mag.dcnormffp_0_82_1923.det.lc.W149\n"
     ]
    },
    {
     "name": "stderr",
     "output_type": "stream",
     "text": [
      "\r",
      " 97%|█████████▋| 1222/1266 [08:01<00:17,  2.54it/s]"
     ]
    },
    {
     "name": "stdout",
     "output_type": "stream",
     "text": [
      "error: mag.dcnormffp_0_82_1925.det.lc.W149\n"
     ]
    },
    {
     "name": "stderr",
     "output_type": "stream",
     "text": [
      "\r",
      " 97%|█████████▋| 1224/1266 [08:02<00:16,  2.54it/s]"
     ]
    },
    {
     "name": "stdout",
     "output_type": "stream",
     "text": [
      "error: mag.dcnormffp_0_82_1927.det.lc.W149\n"
     ]
    },
    {
     "name": "stderr",
     "output_type": "stream",
     "text": [
      " 97%|█████████▋| 1231/1266 [08:04<00:13,  2.54it/s]"
     ]
    },
    {
     "name": "stdout",
     "output_type": "stream",
     "text": [
      "error: mag.dcnormffp_0_82_1943.det.lc.W149\n",
      "error: mag.dcnormffp_0_82_1944.det.lc.W149\n"
     ]
    },
    {
     "name": "stderr",
     "output_type": "stream",
     "text": [
      " 98%|█████████▊| 1236/1266 [08:06<00:11,  2.54it/s]"
     ]
    },
    {
     "name": "stdout",
     "output_type": "stream",
     "text": [
      "error: mag.dcnormffp_0_82_1948.det.lc.W149\n",
      "error: mag.dcnormffp_0_82_1949.det.lc.W149\n"
     ]
    },
    {
     "name": "stderr",
     "output_type": "stream",
     "text": [
      " 99%|█████████▊| 1248/1266 [08:10<00:07,  2.54it/s]"
     ]
    },
    {
     "name": "stdout",
     "output_type": "stream",
     "text": [
      "error: mag.dcnormffp_0_82_1969.det.lc.W149\n"
     ]
    },
    {
     "name": "stderr",
     "output_type": "stream",
     "text": [
      " 99%|█████████▉| 1252/1266 [08:12<00:05,  2.54it/s]"
     ]
    },
    {
     "name": "stdout",
     "output_type": "stream",
     "text": [
      "error: mag.dcnormffp_0_82_1981.det.lc.W149\n",
      "error: mag.dcnormffp_0_82_1982.det.lc.W149\n"
     ]
    },
    {
     "name": "stderr",
     "output_type": "stream",
     "text": [
      "\r",
      " 99%|█████████▉| 1255/1266 [08:12<00:04,  2.55it/s]"
     ]
    },
    {
     "name": "stdout",
     "output_type": "stream",
     "text": [
      "error: mag.dcnormffp_0_82_1984.det.lc.W149\n"
     ]
    },
    {
     "name": "stderr",
     "output_type": "stream",
     "text": [
      "100%|█████████▉| 1261/1266 [08:14<00:01,  2.55it/s]"
     ]
    },
    {
     "name": "stdout",
     "output_type": "stream",
     "text": [
      "error: mag.dcnormffp_0_82_1990.det.lc.W149\n"
     ]
    },
    {
     "name": "stderr",
     "output_type": "stream",
     "text": [
      "100%|█████████▉| 1264/1266 [08:15<00:00,  2.55it/s]"
     ]
    },
    {
     "name": "stdout",
     "output_type": "stream",
     "text": [
      "error: mag.dcnormffp_0_82_1993.det.lc.W149\n"
     ]
    },
    {
     "name": "stderr",
     "output_type": "stream",
     "text": [
      "\r",
      "100%|██████████| 1266/1266 [08:16<00:00,  2.55it/s]"
     ]
    },
    {
     "name": "stdout",
     "output_type": "stream",
     "text": [
      "done\n"
     ]
    },
    {
     "name": "stderr",
     "output_type": "stream",
     "text": [
      "\n"
     ]
    }
   ],
   "source": [
    "#Fitting Cauchy to Data Challenge light curves of FFP's\n",
    "\n",
    "\n",
    "direc.sort()\n",
    "result_FFP = {'name':[], 't0_ml':[], 'tE_ml':[], 'b_ml':[],'am_ml':[],'guess':[],\n",
    "          'solution':[], 'xdata': [], 'ydata': [], 'yerr': [], 'event': []}\n",
    "c = 0 \n",
    "\n",
    "for f in tqdm(info_FFP['name']):\n",
    "    #print f\n",
    "    \n",
    "    #if  f.endswith('.W149') and f.startswith('mag.'):#f.endswith('.txt') and f.split('_')[2].startswith('W'):\n",
    "        \n",
    "        \n",
    "#         print c\n",
    "    c = c +1\n",
    "\n",
    "    try:\n",
    "        t,m,e = np.loadtxt(temp+str(f),unpack=True, usecols=(0,1, 2))\n",
    "\n",
    "        lightcurve = np.zeros((len(t),3))\n",
    "        lightcurve[:,0] = t\n",
    "        lightcurve[:,1] = m\n",
    "        lightcurve[:,2] = e\n",
    "        peak = t[np.argmin(m)]\n",
    "\n",
    "        (baseline, event, it0) = localize_event(lightcurve, peak,50)\n",
    "\n",
    "\n",
    "\n",
    "        b_init_par = estimate_init_param(lightcurve, peak, 'bellcurve',\n",
    "                                 baseline, event, it0)\n",
    "        b_init_par[1] = 1\n",
    "        #b_init_par = [3.0,1.0,0.0,4.0]\n",
    "\n",
    "        try: \n",
    "            (bfit,bcov) = optimize.curve_fit(bell_curve,lightcurve[:,0]-peak,\n",
    "                                                        -lightcurve[:,1]+np.median(lightcurve[baseline,1]),\n",
    "                                                         p0=b_init_par)\n",
    "        except RuntimeError:\n",
    "                (baseline, event, it0) = localize_event(lightcurve, peak,10)\n",
    "                b_init_par = estimate_init_param(lightcurve, peak, 'bellcurve', baseline, event, it0)\n",
    "                #print b_init_par\n",
    "\n",
    "\n",
    "                (bfit,bcov) = optimize.curve_fit(bell_curve,lightcurve[:,0]-peak,\n",
    "                                                        -lightcurve[:,1]+np.median(lightcurve[baseline,1]),\n",
    "                                                         p0=b_init_par)\n",
    "\n",
    "        #print bfit\n",
    "\n",
    "        guess = np.median(lightcurve[baseline,1]) -bell_curve(lightcurve[:,0]-peaks[0]\n",
    "                                        , b_init_par[0], b_init_par[1],\n",
    "                                         b_init_par[2], b_init_par[3])\n",
    "\n",
    "        bfx = bell_curve(lightcurve[:,0]-peak,bfit[0],bfit[1],bfit[2],bfit[3])\n",
    "        bfx = np.median(lightcurve[baseline,1]) - bfx\n",
    "\n",
    "\n",
    "        result_FFP['name'].append(f)\n",
    "        result_FFP['t0_ml'].append(bfit[2]+peak)\n",
    "        result_FFP['tE_ml'].append(bfit[0])\n",
    "        result_FFP['b_ml'].append(bfit[1])\n",
    "        result_FFP['am_ml'].append(bfit[3])\n",
    "        result_FFP['guess'].append(guess)\n",
    "        result_FFP['solution'].append(bfx)\n",
    "        result_FFP['xdata'].append(t)\n",
    "        result_FFP['ydata'].append(m)\n",
    "        result_FFP['yerr'].append(e)\n",
    "        result_FFP['event'].append(event)\n",
    "\n",
    "    except (RuntimeError, TypeError, NameError, ValueError, IOError):\n",
    "        print 'error: '+f\n",
    "        pass\n",
    "#     if c == 4:\n",
    "#         break\n",
    "\n",
    "print 'done'\n",
    "\n",
    "\n",
    "\n",
    "\n",
    "\n",
    "\n",
    "\n",
    "\n"
   ]
  },
  {
   "cell_type": "code",
   "execution_count": 178,
   "metadata": {
    "collapsed": false
   },
   "outputs": [],
   "source": [
    "info_FFP['t0_ml'] = np.zeros(len(info_FFP))\n",
    "info_FFP['tE_ml'] = np.zeros(len(info_FFP))\n",
    "info_FFP['b_ml'] = np.zeros(len(info_FFP))\n",
    "info_FFP['am_ml'] = np.zeros(len(info_FFP))"
   ]
  },
  {
   "cell_type": "code",
   "execution_count": 179,
   "metadata": {
    "collapsed": true
   },
   "outputs": [],
   "source": [
    "info_FFP = info_FFP.rename(columns={\"index\": \"name\"})\n"
   ]
  },
  {
   "cell_type": "code",
   "execution_count": 180,
   "metadata": {
    "collapsed": true
   },
   "outputs": [],
   "source": [
    "for i in range(len(result_FFP['name'])):\n",
    "\n",
    "    if result_FFP['name'][i].split('.lc')[0].endswith('all'): \n",
    "        result_FFP['name'][i] = result_FFP['name'][i].split('all')[0]+'det'+result_FFP['name'][i].split('all')[1]"
   ]
  },
  {
   "cell_type": "code",
   "execution_count": 181,
   "metadata": {
    "collapsed": false
   },
   "outputs": [],
   "source": [
    "info_FFP = info_FFP.reset_index()"
   ]
  },
  {
   "cell_type": "code",
   "execution_count": 182,
   "metadata": {
    "collapsed": false
   },
   "outputs": [
    {
     "ename": "KeyError",
     "evalue": "8",
     "output_type": "error",
     "traceback": [
      "\u001b[0;31m---------------------------------------------------------------------------\u001b[0m",
      "\u001b[0;31mKeyError\u001b[0m                                  Traceback (most recent call last)",
      "\u001b[0;32m<ipython-input-182-96d3bbce0b71>\u001b[0m in \u001b[0;36m<module>\u001b[0;34m()\u001b[0m\n\u001b[0;32m----> 1\u001b[0;31m \u001b[0minfo_FFP\u001b[0m\u001b[0;34m[\u001b[0m\u001b[0;34m'name'\u001b[0m\u001b[0;34m]\u001b[0m\u001b[0;34m[\u001b[0m\u001b[0;36m8\u001b[0m\u001b[0;34m]\u001b[0m\u001b[0;34m\u001b[0m\u001b[0m\n\u001b[0m",
      "\u001b[0;32m/Users/Research/Library/Enthought/Canopy_64bit/User/lib/python2.7/site-packages/pandas/core/frame.pyc\u001b[0m in \u001b[0;36m__getitem__\u001b[0;34m(self, key)\u001b[0m\n\u001b[1;32m   2925\u001b[0m             \u001b[0;32mif\u001b[0m \u001b[0mself\u001b[0m\u001b[0;34m.\u001b[0m\u001b[0mcolumns\u001b[0m\u001b[0;34m.\u001b[0m\u001b[0mnlevels\u001b[0m \u001b[0;34m>\u001b[0m \u001b[0;36m1\u001b[0m\u001b[0;34m:\u001b[0m\u001b[0;34m\u001b[0m\u001b[0m\n\u001b[1;32m   2926\u001b[0m                 \u001b[0;32mreturn\u001b[0m \u001b[0mself\u001b[0m\u001b[0;34m.\u001b[0m\u001b[0m_getitem_multilevel\u001b[0m\u001b[0;34m(\u001b[0m\u001b[0mkey\u001b[0m\u001b[0;34m)\u001b[0m\u001b[0;34m\u001b[0m\u001b[0m\n\u001b[0;32m-> 2927\u001b[0;31m             \u001b[0mindexer\u001b[0m \u001b[0;34m=\u001b[0m \u001b[0mself\u001b[0m\u001b[0;34m.\u001b[0m\u001b[0mcolumns\u001b[0m\u001b[0;34m.\u001b[0m\u001b[0mget_loc\u001b[0m\u001b[0;34m(\u001b[0m\u001b[0mkey\u001b[0m\u001b[0;34m)\u001b[0m\u001b[0;34m\u001b[0m\u001b[0m\n\u001b[0m\u001b[1;32m   2928\u001b[0m             \u001b[0;32mif\u001b[0m \u001b[0mis_integer\u001b[0m\u001b[0;34m(\u001b[0m\u001b[0mindexer\u001b[0m\u001b[0;34m)\u001b[0m\u001b[0;34m:\u001b[0m\u001b[0;34m\u001b[0m\u001b[0m\n\u001b[1;32m   2929\u001b[0m                 \u001b[0mindexer\u001b[0m \u001b[0;34m=\u001b[0m \u001b[0;34m[\u001b[0m\u001b[0mindexer\u001b[0m\u001b[0;34m]\u001b[0m\u001b[0;34m\u001b[0m\u001b[0m\n",
      "\u001b[0;32m/Users/Research/Library/Enthought/Canopy_64bit/User/lib/python2.7/site-packages/pandas/core/indexes/base.pyc\u001b[0m in \u001b[0;36mget_loc\u001b[0;34m(self, key, method, tolerance)\u001b[0m\n\u001b[1;32m   2657\u001b[0m                 \u001b[0;32mreturn\u001b[0m \u001b[0mself\u001b[0m\u001b[0;34m.\u001b[0m\u001b[0m_engine\u001b[0m\u001b[0;34m.\u001b[0m\u001b[0mget_loc\u001b[0m\u001b[0;34m(\u001b[0m\u001b[0mkey\u001b[0m\u001b[0;34m)\u001b[0m\u001b[0;34m\u001b[0m\u001b[0m\n\u001b[1;32m   2658\u001b[0m             \u001b[0;32mexcept\u001b[0m \u001b[0mKeyError\u001b[0m\u001b[0;34m:\u001b[0m\u001b[0;34m\u001b[0m\u001b[0m\n\u001b[0;32m-> 2659\u001b[0;31m                 \u001b[0;32mreturn\u001b[0m \u001b[0mself\u001b[0m\u001b[0;34m.\u001b[0m\u001b[0m_engine\u001b[0m\u001b[0;34m.\u001b[0m\u001b[0mget_loc\u001b[0m\u001b[0;34m(\u001b[0m\u001b[0mself\u001b[0m\u001b[0;34m.\u001b[0m\u001b[0m_maybe_cast_indexer\u001b[0m\u001b[0;34m(\u001b[0m\u001b[0mkey\u001b[0m\u001b[0;34m)\u001b[0m\u001b[0;34m)\u001b[0m\u001b[0;34m\u001b[0m\u001b[0m\n\u001b[0m\u001b[1;32m   2660\u001b[0m         \u001b[0mindexer\u001b[0m \u001b[0;34m=\u001b[0m \u001b[0mself\u001b[0m\u001b[0;34m.\u001b[0m\u001b[0mget_indexer\u001b[0m\u001b[0;34m(\u001b[0m\u001b[0;34m[\u001b[0m\u001b[0mkey\u001b[0m\u001b[0;34m]\u001b[0m\u001b[0;34m,\u001b[0m \u001b[0mmethod\u001b[0m\u001b[0;34m=\u001b[0m\u001b[0mmethod\u001b[0m\u001b[0;34m,\u001b[0m \u001b[0mtolerance\u001b[0m\u001b[0;34m=\u001b[0m\u001b[0mtolerance\u001b[0m\u001b[0;34m)\u001b[0m\u001b[0;34m\u001b[0m\u001b[0m\n\u001b[1;32m   2661\u001b[0m         \u001b[0;32mif\u001b[0m \u001b[0mindexer\u001b[0m\u001b[0;34m.\u001b[0m\u001b[0mndim\u001b[0m \u001b[0;34m>\u001b[0m \u001b[0;36m1\u001b[0m \u001b[0;32mor\u001b[0m \u001b[0mindexer\u001b[0m\u001b[0;34m.\u001b[0m\u001b[0msize\u001b[0m \u001b[0;34m>\u001b[0m \u001b[0;36m1\u001b[0m\u001b[0;34m:\u001b[0m\u001b[0;34m\u001b[0m\u001b[0m\n",
      "\u001b[0;32mpandas/_libs/index.pyx\u001b[0m in \u001b[0;36mpandas._libs.index.IndexEngine.get_loc\u001b[0;34m()\u001b[0m\n",
      "\u001b[0;32mpandas/_libs/index.pyx\u001b[0m in \u001b[0;36mpandas._libs.index.IndexEngine.get_loc\u001b[0;34m()\u001b[0m\n",
      "\u001b[0;32mpandas/_libs/index.pyx\u001b[0m in \u001b[0;36mpandas._libs.index.IndexEngine._get_loc_duplicates\u001b[0;34m()\u001b[0m\n",
      "\u001b[0;31mKeyError\u001b[0m: 8"
     ]
    }
   ],
   "source": [
    "info_FFP['name'][8]"
   ]
  },
  {
   "cell_type": "code",
   "execution_count": 183,
   "metadata": {
    "collapsed": true
   },
   "outputs": [],
   "source": [
    "for i in range (len(result_FFP['name'])):\n",
    "    \n",
    "    if result_FFP['name'][i] in info_FFP.name:\n",
    "        print result_FFP['name'][i]"
   ]
  },
  {
   "cell_type": "raw",
   "metadata": {},
   "source": []
  },
  {
   "cell_type": "code",
   "execution_count": 184,
   "metadata": {
    "collapsed": false
   },
   "outputs": [
    {
     "name": "stderr",
     "output_type": "stream",
     "text": [
      "\r",
      "  0%|          | 0/1007 [00:00<?, ?it/s]"
     ]
    },
    {
     "name": "stdout",
     "output_type": "stream",
     "text": [
      "mag.dcnormffp_0_82_1.det.lc.W149\n"
     ]
    },
    {
     "name": "stderr",
     "output_type": "stream",
     "text": [
      "\n"
     ]
    },
    {
     "ename": "KeyError",
     "evalue": "u\"None of [Index([(u'n', u'a', u'm', u'e'), (u'n', u'a', u'm', u'e')], dtype='object')] are in the [index]\"",
     "output_type": "error",
     "traceback": [
      "\u001b[0;31m---------------------------------------------------------------------------\u001b[0m",
      "\u001b[0;31mKeyError\u001b[0m                                  Traceback (most recent call last)",
      "\u001b[0;32m<ipython-input-184-96ac3ddf815f>\u001b[0m in \u001b[0;36m<module>\u001b[0;34m()\u001b[0m\n\u001b[1;32m      3\u001b[0m \u001b[0;34m\u001b[0m\u001b[0m\n\u001b[1;32m      4\u001b[0m     \u001b[0;32mprint\u001b[0m \u001b[0mresult_FFP\u001b[0m\u001b[0;34m[\u001b[0m\u001b[0;34m'name'\u001b[0m\u001b[0;34m]\u001b[0m\u001b[0;34m[\u001b[0m\u001b[0mi\u001b[0m\u001b[0;34m]\u001b[0m\u001b[0;34m\u001b[0m\u001b[0m\n\u001b[0;32m----> 5\u001b[0;31m     \u001b[0minfo_FFP\u001b[0m\u001b[0;34m.\u001b[0m\u001b[0mloc\u001b[0m\u001b[0;34m[\u001b[0m\u001b[0minfo_FFP\u001b[0m\u001b[0;34m.\u001b[0m\u001b[0mname\u001b[0m \u001b[0;34m==\u001b[0m \u001b[0mresult_FFP\u001b[0m\u001b[0;34m[\u001b[0m\u001b[0;34m'name'\u001b[0m\u001b[0;34m]\u001b[0m\u001b[0;34m[\u001b[0m\u001b[0mi\u001b[0m\u001b[0;34m]\u001b[0m\u001b[0;34m,\u001b[0m \u001b[0;34m't0_ml'\u001b[0m\u001b[0;34m]\u001b[0m \u001b[0;34m=\u001b[0m \u001b[0mresult_FFP\u001b[0m\u001b[0;34m[\u001b[0m\u001b[0;34m't0_ml'\u001b[0m\u001b[0;34m]\u001b[0m\u001b[0;34m[\u001b[0m\u001b[0mi\u001b[0m\u001b[0;34m]\u001b[0m\u001b[0;34m\u001b[0m\u001b[0m\n\u001b[0m\u001b[1;32m      6\u001b[0m     \u001b[0minfo_FFP\u001b[0m\u001b[0;34m.\u001b[0m\u001b[0mloc\u001b[0m\u001b[0;34m[\u001b[0m\u001b[0minfo_FFP\u001b[0m\u001b[0;34m.\u001b[0m\u001b[0mname\u001b[0m \u001b[0;34m==\u001b[0m \u001b[0mresult_FFP\u001b[0m\u001b[0;34m[\u001b[0m\u001b[0;34m'name'\u001b[0m\u001b[0;34m]\u001b[0m\u001b[0;34m[\u001b[0m\u001b[0mi\u001b[0m\u001b[0;34m]\u001b[0m\u001b[0;34m,\u001b[0m \u001b[0;34m'tE_ml'\u001b[0m\u001b[0;34m]\u001b[0m \u001b[0;34m=\u001b[0m \u001b[0mresult_FFP\u001b[0m\u001b[0;34m[\u001b[0m\u001b[0;34m'tE_ml'\u001b[0m\u001b[0;34m]\u001b[0m\u001b[0;34m[\u001b[0m\u001b[0mi\u001b[0m\u001b[0;34m]\u001b[0m\u001b[0;34m\u001b[0m\u001b[0m\n\u001b[1;32m      7\u001b[0m     \u001b[0minfo_FFP\u001b[0m\u001b[0;34m.\u001b[0m\u001b[0mloc\u001b[0m\u001b[0;34m[\u001b[0m\u001b[0minfo_FFP\u001b[0m\u001b[0;34m.\u001b[0m\u001b[0mname\u001b[0m \u001b[0;34m==\u001b[0m \u001b[0mresult_FFP\u001b[0m\u001b[0;34m[\u001b[0m\u001b[0;34m'name'\u001b[0m\u001b[0;34m]\u001b[0m\u001b[0;34m[\u001b[0m\u001b[0mi\u001b[0m\u001b[0;34m]\u001b[0m\u001b[0;34m,\u001b[0m \u001b[0;34m'b_ml'\u001b[0m\u001b[0;34m]\u001b[0m \u001b[0;34m=\u001b[0m \u001b[0mresult_FFP\u001b[0m\u001b[0;34m[\u001b[0m\u001b[0;34m'b_ml'\u001b[0m\u001b[0;34m]\u001b[0m\u001b[0;34m[\u001b[0m\u001b[0mi\u001b[0m\u001b[0;34m]\u001b[0m\u001b[0;34m\u001b[0m\u001b[0m\n",
      "\u001b[0;32m/Users/Research/Library/Enthought/Canopy_64bit/User/lib/python2.7/site-packages/pandas/core/indexing.pyc\u001b[0m in \u001b[0;36m__setitem__\u001b[0;34m(self, key, value)\u001b[0m\n\u001b[1;32m    187\u001b[0m         \u001b[0;32melse\u001b[0m\u001b[0;34m:\u001b[0m\u001b[0;34m\u001b[0m\u001b[0m\n\u001b[1;32m    188\u001b[0m             \u001b[0mkey\u001b[0m \u001b[0;34m=\u001b[0m \u001b[0mcom\u001b[0m\u001b[0;34m.\u001b[0m\u001b[0mapply_if_callable\u001b[0m\u001b[0;34m(\u001b[0m\u001b[0mkey\u001b[0m\u001b[0;34m,\u001b[0m \u001b[0mself\u001b[0m\u001b[0;34m.\u001b[0m\u001b[0mobj\u001b[0m\u001b[0;34m)\u001b[0m\u001b[0;34m\u001b[0m\u001b[0m\n\u001b[0;32m--> 189\u001b[0;31m         \u001b[0mindexer\u001b[0m \u001b[0;34m=\u001b[0m \u001b[0mself\u001b[0m\u001b[0;34m.\u001b[0m\u001b[0m_get_setitem_indexer\u001b[0m\u001b[0;34m(\u001b[0m\u001b[0mkey\u001b[0m\u001b[0;34m)\u001b[0m\u001b[0;34m\u001b[0m\u001b[0m\n\u001b[0m\u001b[1;32m    190\u001b[0m         \u001b[0mself\u001b[0m\u001b[0;34m.\u001b[0m\u001b[0m_setitem_with_indexer\u001b[0m\u001b[0;34m(\u001b[0m\u001b[0mindexer\u001b[0m\u001b[0;34m,\u001b[0m \u001b[0mvalue\u001b[0m\u001b[0;34m)\u001b[0m\u001b[0;34m\u001b[0m\u001b[0m\n\u001b[1;32m    191\u001b[0m \u001b[0;34m\u001b[0m\u001b[0m\n",
      "\u001b[0;32m/Users/Research/Library/Enthought/Canopy_64bit/User/lib/python2.7/site-packages/pandas/core/indexing.pyc\u001b[0m in \u001b[0;36m_get_setitem_indexer\u001b[0;34m(self, key)\u001b[0m\n\u001b[1;32m    165\u001b[0m         \u001b[0;32mif\u001b[0m \u001b[0misinstance\u001b[0m\u001b[0;34m(\u001b[0m\u001b[0mkey\u001b[0m\u001b[0;34m,\u001b[0m \u001b[0mtuple\u001b[0m\u001b[0;34m)\u001b[0m\u001b[0;34m:\u001b[0m\u001b[0;34m\u001b[0m\u001b[0m\n\u001b[1;32m    166\u001b[0m             \u001b[0;32mtry\u001b[0m\u001b[0;34m:\u001b[0m\u001b[0;34m\u001b[0m\u001b[0m\n\u001b[0;32m--> 167\u001b[0;31m                 \u001b[0;32mreturn\u001b[0m \u001b[0mself\u001b[0m\u001b[0;34m.\u001b[0m\u001b[0m_convert_tuple\u001b[0m\u001b[0;34m(\u001b[0m\u001b[0mkey\u001b[0m\u001b[0;34m,\u001b[0m \u001b[0mis_setter\u001b[0m\u001b[0;34m=\u001b[0m\u001b[0mTrue\u001b[0m\u001b[0;34m)\u001b[0m\u001b[0;34m\u001b[0m\u001b[0m\n\u001b[0m\u001b[1;32m    168\u001b[0m             \u001b[0;32mexcept\u001b[0m \u001b[0mIndexingError\u001b[0m\u001b[0;34m:\u001b[0m\u001b[0;34m\u001b[0m\u001b[0m\n\u001b[1;32m    169\u001b[0m                 \u001b[0;32mpass\u001b[0m\u001b[0;34m\u001b[0m\u001b[0m\n",
      "\u001b[0;32m/Users/Research/Library/Enthought/Canopy_64bit/User/lib/python2.7/site-packages/pandas/core/indexing.pyc\u001b[0m in \u001b[0;36m_convert_tuple\u001b[0;34m(self, key, is_setter)\u001b[0m\n\u001b[1;32m    246\u001b[0m                 \u001b[0;32mif\u001b[0m \u001b[0mi\u001b[0m \u001b[0;34m>=\u001b[0m \u001b[0mself\u001b[0m\u001b[0;34m.\u001b[0m\u001b[0mobj\u001b[0m\u001b[0;34m.\u001b[0m\u001b[0mndim\u001b[0m\u001b[0;34m:\u001b[0m\u001b[0;34m\u001b[0m\u001b[0m\n\u001b[1;32m    247\u001b[0m                     \u001b[0;32mraise\u001b[0m \u001b[0mIndexingError\u001b[0m\u001b[0;34m(\u001b[0m\u001b[0;34m'Too many indexers'\u001b[0m\u001b[0;34m)\u001b[0m\u001b[0;34m\u001b[0m\u001b[0m\n\u001b[0;32m--> 248\u001b[0;31m                 \u001b[0midx\u001b[0m \u001b[0;34m=\u001b[0m \u001b[0mself\u001b[0m\u001b[0;34m.\u001b[0m\u001b[0m_convert_to_indexer\u001b[0m\u001b[0;34m(\u001b[0m\u001b[0mk\u001b[0m\u001b[0;34m,\u001b[0m \u001b[0maxis\u001b[0m\u001b[0;34m=\u001b[0m\u001b[0mi\u001b[0m\u001b[0;34m,\u001b[0m \u001b[0mis_setter\u001b[0m\u001b[0;34m=\u001b[0m\u001b[0mis_setter\u001b[0m\u001b[0;34m)\u001b[0m\u001b[0;34m\u001b[0m\u001b[0m\n\u001b[0m\u001b[1;32m    249\u001b[0m                 \u001b[0mkeyidx\u001b[0m\u001b[0;34m.\u001b[0m\u001b[0mappend\u001b[0m\u001b[0;34m(\u001b[0m\u001b[0midx\u001b[0m\u001b[0;34m)\u001b[0m\u001b[0;34m\u001b[0m\u001b[0m\n\u001b[1;32m    250\u001b[0m         \u001b[0;32mreturn\u001b[0m \u001b[0mtuple\u001b[0m\u001b[0;34m(\u001b[0m\u001b[0mkeyidx\u001b[0m\u001b[0;34m)\u001b[0m\u001b[0;34m\u001b[0m\u001b[0m\n",
      "\u001b[0;32m/Users/Research/Library/Enthought/Canopy_64bit/User/lib/python2.7/site-packages/pandas/core/indexing.pyc\u001b[0m in \u001b[0;36m_convert_to_indexer\u001b[0;34m(self, obj, axis, is_setter, raise_missing)\u001b[0m\n\u001b[1;32m   1352\u001b[0m                 kwargs = {'raise_missing': True if is_setter else\n\u001b[1;32m   1353\u001b[0m                           raise_missing}\n\u001b[0;32m-> 1354\u001b[0;31m                 \u001b[0;32mreturn\u001b[0m \u001b[0mself\u001b[0m\u001b[0;34m.\u001b[0m\u001b[0m_get_listlike_indexer\u001b[0m\u001b[0;34m(\u001b[0m\u001b[0mobj\u001b[0m\u001b[0;34m,\u001b[0m \u001b[0maxis\u001b[0m\u001b[0;34m,\u001b[0m \u001b[0;34m**\u001b[0m\u001b[0mkwargs\u001b[0m\u001b[0;34m)\u001b[0m\u001b[0;34m[\u001b[0m\u001b[0;36m1\u001b[0m\u001b[0;34m]\u001b[0m\u001b[0;34m\u001b[0m\u001b[0m\n\u001b[0m\u001b[1;32m   1355\u001b[0m         \u001b[0;32melse\u001b[0m\u001b[0;34m:\u001b[0m\u001b[0;34m\u001b[0m\u001b[0m\n\u001b[1;32m   1356\u001b[0m             \u001b[0;32mtry\u001b[0m\u001b[0;34m:\u001b[0m\u001b[0;34m\u001b[0m\u001b[0m\n",
      "\u001b[0;32m/Users/Research/Library/Enthought/Canopy_64bit/User/lib/python2.7/site-packages/pandas/core/indexing.pyc\u001b[0m in \u001b[0;36m_get_listlike_indexer\u001b[0;34m(self, key, axis, raise_missing)\u001b[0m\n\u001b[1;32m   1159\u001b[0m         self._validate_read_indexer(keyarr, indexer,\n\u001b[1;32m   1160\u001b[0m                                     \u001b[0mo\u001b[0m\u001b[0;34m.\u001b[0m\u001b[0m_get_axis_number\u001b[0m\u001b[0;34m(\u001b[0m\u001b[0maxis\u001b[0m\u001b[0;34m)\u001b[0m\u001b[0;34m,\u001b[0m\u001b[0;34m\u001b[0m\u001b[0m\n\u001b[0;32m-> 1161\u001b[0;31m                                     raise_missing=raise_missing)\n\u001b[0m\u001b[1;32m   1162\u001b[0m         \u001b[0;32mreturn\u001b[0m \u001b[0mkeyarr\u001b[0m\u001b[0;34m,\u001b[0m \u001b[0mindexer\u001b[0m\u001b[0;34m\u001b[0m\u001b[0m\n\u001b[1;32m   1163\u001b[0m \u001b[0;34m\u001b[0m\u001b[0m\n",
      "\u001b[0;32m/Users/Research/Library/Enthought/Canopy_64bit/User/lib/python2.7/site-packages/pandas/core/indexing.pyc\u001b[0m in \u001b[0;36m_validate_read_indexer\u001b[0;34m(self, key, indexer, axis, raise_missing)\u001b[0m\n\u001b[1;32m   1244\u001b[0m                 raise KeyError(\n\u001b[1;32m   1245\u001b[0m                     u\"None of [{key}] are in the [{axis}]\".format(\n\u001b[0;32m-> 1246\u001b[0;31m                         key=key, axis=self.obj._get_axis_name(axis)))\n\u001b[0m\u001b[1;32m   1247\u001b[0m \u001b[0;34m\u001b[0m\u001b[0m\n\u001b[1;32m   1248\u001b[0m             \u001b[0;31m# We (temporarily) allow for some missing keys with .loc, except in\u001b[0m\u001b[0;34m\u001b[0m\u001b[0;34m\u001b[0m\u001b[0m\n",
      "\u001b[0;31mKeyError\u001b[0m: u\"None of [Index([(u'n', u'a', u'm', u'e'), (u'n', u'a', u'm', u'e')], dtype='object')] are in the [index]\""
     ]
    }
   ],
   "source": [
    "\n",
    "for i in tqdm(range(len(result_FFP['name']))):\n",
    "     \n",
    "    print result_FFP['name'][i]\n",
    "    info_FFP.loc[info_FFP.name == result_FFP['name'][i], 't0_ml'] = result_FFP['t0_ml'][i]\n",
    "    info_FFP.loc[info_FFP.name == result_FFP['name'][i], 'tE_ml'] = result_FFP['tE_ml'][i]\n",
    "    info_FFP.loc[info_FFP.name == result_FFP['name'][i], 'b_ml'] = result_FFP['b_ml'][i]\n",
    "    info_FFP.loc[info_FFP.name == result_FFP['name'][i], 'am_ml'] = result_FFP['am_ml'][i]\n",
    "    \n",
    "    if not result_FFP['name'][i] in info.name.values:\n",
    "        print result_FFP['name'][i]"
   ]
  },
  {
   "cell_type": "code",
   "execution_count": 187,
   "metadata": {
    "collapsed": false
   },
   "outputs": [
    {
     "data": {
      "image/png": "[encoded data removed]",
      "text/plain": [
       "<matplotlib.figure.Figure at 0x353c12c50>"
      ]
     },
     "metadata": {},
     "output_type": "display_data"
    }
   ],
   "source": [
    "# General format for plotting different parameters versus each other \n",
    "\n",
    "plt.figure()\n",
    "ax = plt.gca()\n",
    "x = 'rho'\n",
    "y = 'b_ml'\n",
    "C =1\n",
    "#plt.plot(np.abs(info[x][info.tE_trapezoid>2]), np.abs(info[y][info.tE_trapezoid>2]),'r.', markersize=25)\n",
    "\n",
    "\n",
    "plt.plot(np.abs(info[x]), C*np.abs(info[y]),'g.', markersize=25)\n",
    "plt.plot(np.abs(info[x]), np.abs(info[x]),'k-', markersize=25)\n",
    "# plt.plot(np.abs(info[x]), np.abs(info[x])+0.05,'k-', markersize=25)\n",
    "# plt.plot(np.abs(info[x]), np.abs(info[x])-0.05,'k-', markersize=25)\n",
    "\n",
    "\n",
    "\n",
    "# plt.plot(np.abs(info[x][(info.tE<0.1) & (np.abs(info.tE_trapezoid/4.)<(np.abs(info.tE)+0.05)) & (np.abs(info.tE_trapezoid/4.)>(np.abs(info.tE)-0.05)) & (info.tE_trapezoid !=0)]), \n",
    "#          C*np.abs(info[y][(info.tE<0.1) & (np.abs(info.tE_trapezoid/4.)<(np.abs(info.tE)+0.05)) & (np.abs(info.tE_trapezoid/4.)>(np.abs(info.tE)-0.05)) & (info.tE_trapezoid !=0)]),'b.', markersize=25)\n",
    "\n",
    "\n",
    "\n",
    "# axs[0, 1].tick_params(axis='x',which='both', bottom='off', top='off',labelbottom='off')\n",
    "# axs[0, 1].tick_params(axis='y',which='both', bottom='right', top='left',labelleft='off',length=0)\n",
    "\n",
    "# axs[0, 0].tick_params(axis='y',which='both', labelsize=12)\n",
    "# axs[1, 0].tick_params(axis='both',which='both', labelsize=12)\n",
    "# axs[1, 1].tick_params(axis='x',which='both', labelsize=12)\n",
    "\n",
    "plt.yscale('log')\n",
    "plt.xscale('log')\n",
    "\n",
    "# ax.set_xticklabels( ['', 0.5, 1.0, 1.5,2.0],rotation = 0, fontsize = 22)\n",
    "# ax.set_yticklabels( ['',0.5, 0.1,1.5,2.0,2.5,3],rotation = 90, fontsize = 22)\n",
    "\n",
    "\n",
    "# axs[0, 0].tick_params(axis='x',which='both', bottom='off', top='off',labelbottom='off')\n",
    "# axs[1, 1].tick_params(axis='y',which='both', bottom='right', top='left',labelleft='off', length=0)\n",
    "\n",
    "# plt.xlim(0.01,2)\n",
    "# plt.ylim(0.03,3)\n",
    "\n",
    "plt.grid()\n",
    "\n",
    "# plt.title('Trapezoidal Estimation of $t_E$ Versus True Values of $t_E$', size=30) \n",
    "\n",
    "plt.xlabel(r'$\\rho$',size=30)\n",
    "plt.ylabel( 'Estimated Flatness',size=30)\n",
    "\n",
    "fig = plt.gcf()\n",
    "fig.set_size_inches(15.0,10.0)\n",
    "#fig.savefig('tE_FFP_Trapezoid.png')"
   ]
  },
  {
   "cell_type": "code",
   "execution_count": 188,
   "metadata": {
    "collapsed": false
   },
   "outputs": [],
   "source": [
    "info['t0_ml'] = info['t0_ml'].values-2458234"
   ]
  },
  {
   "cell_type": "code",
   "execution_count": 189,
   "metadata": {
    "collapsed": false
   },
   "outputs": [],
   "source": [
    "info['tE_ml'] = np.abs(info['tE_ml'])"
   ]
  },
  {
   "cell_type": "code",
   "execution_count": 202,
   "metadata": {
    "collapsed": false
   },
   "outputs": [],
   "source": [
    "x = np.array(result_FFP['b_ml'])"
   ]
  },
  {
   "cell_type": "code",
   "execution_count": 203,
   "metadata": {
    "collapsed": false
   },
   "outputs": [
    {
     "data": {
      "text/plain": [
       "734"
      ]
     },
     "execution_count": 203,
     "metadata": {},
     "output_type": "execute_result"
    }
   ],
   "source": [
    "len(x[x>1])"
   ]
  },
  {
   "cell_type": "code",
   "execution_count": 105,
   "metadata": {
    "collapsed": false
   },
   "outputs": [],
   "source": [
    "t= t-2458234\n",
    "index = []\n",
    "for i in range(0,len(info)-1):\n",
    "    \n",
    "    if (info.t0_ml[i] <0) or (info.b_ml[i] >5):\n",
    "        index.append(i)\n",
    "    "
   ]
  },
  {
   "cell_type": "code",
   "execution_count": 106,
   "metadata": {
    "collapsed": false
   },
   "outputs": [],
   "source": [
    "info_new = info.drop(index)\n"
   ]
  },
  {
   "cell_type": "code",
   "execution_count": 107,
   "metadata": {
    "collapsed": false
   },
   "outputs": [
    {
     "data": {
      "text/plain": [
       "463"
      ]
     },
     "execution_count": 107,
     "metadata": {},
     "output_type": "execute_result"
    }
   ],
   "source": [
    "len(info_new)"
   ]
  },
  {
   "cell_type": "code",
   "execution_count": null,
   "metadata": {
    "collapsed": true
   },
   "outputs": [],
   "source": []
  }
 ],
 "metadata": {
  "kernelspec": {
   "display_name": "Python 2",
   "language": "python",
   "name": "python2"
  },
  "language_info": {
   "codemirror_mode": {
    "name": "ipython",
    "version": 2
   },
   "file_extension": ".py",
   "mimetype": "text/x-python",
   "name": "python",
   "nbconvert_exporter": "python",
   "pygments_lexer": "ipython2",
   "version": "2.7.11"
  }
 },
 "nbformat": 4,
 "nbformat_minor": 1
}
