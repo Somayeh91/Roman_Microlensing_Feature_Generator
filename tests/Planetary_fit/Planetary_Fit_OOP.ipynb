{
 "cells": [
  {
   "cell_type": "code",
   "execution_count": 1,
   "metadata": {},
   "outputs": [
    {
     "name": "stdout",
     "output_type": "stream",
     "text": [
      "/Users/Research/Library/Mobile Documents/com~apple~CloudDocs/Research/WFIRST-event-finder/Filters/tests/WFIRST_microlensing_feature_creator\n"
     ]
    }
   ],
   "source": [
    "cd ./WFIRST_microlensing_feature_creator/"
   ]
  },
  {
   "cell_type": "code",
   "execution_count": 2,
   "metadata": {},
   "outputs": [],
   "source": [
    "from Planetary_fit import Planetary_fit"
   ]
  },
  {
   "cell_type": "code",
   "execution_count": 3,
   "metadata": {
    "collapsed": true
   },
   "outputs": [],
   "source": [
    "from lc import lc"
   ]
  },
  {
   "cell_type": "code",
   "execution_count": 4,
   "metadata": {
    "collapsed": true
   },
   "outputs": [],
   "source": [
    "from Common_functions import *"
   ]
  },
  {
   "cell_type": "code",
   "execution_count": 8,
   "metadata": {
    "collapsed": true
   },
   "outputs": [],
   "source": [
    "\n",
    "import glob,os,sys\n",
    "import numpy as np\n",
    "import matplotlib.pyplot as plt\n",
    "import matplotlib\n",
    "from numpy import *\n",
    "import re\n",
    "from tqdm import tqdm\n",
    "import scipy.stats as st\n",
    "from os.path import expanduser\n",
    "import cmath\n",
    "import scipy.optimize as op\n",
    "import time\n",
    "import gzip\n",
    "from scipy.interpolate import interp1d\n",
    "import pandas as pd\n",
    "from scipy.interpolate import interp1d\n",
    "from mpl_toolkits.axes_grid1.inset_locator import zoomed_inset_axes\n",
    "from mpl_toolkits.axes_grid1.inset_locator import (mark_inset,inset_axes,InsetPosition) \n",
    "import traceback\n",
    "from lmfit import minimize, Parameters, Parameter, report_fit\n",
    "import math\n",
    "from sympy.solvers import solve\n",
    "from sympy import Symbol\n",
    "import sympy\n",
    "\n",
    "\n",
    "%matplotlib inline\n",
    "home = os.path.expanduser(\"~\")"
   ]
  },
  {
   "cell_type": "code",
   "execution_count": 9,
   "metadata": {
    "collapsed": true
   },
   "outputs": [],
   "source": [
    "def Planetary_parameters_estimator(f):\n",
    "  # lightcurve = lc(f)\n",
    "  plfit = Planetary_fit(f)\n",
    "  plfit.initial_guess_finder()\n",
    "  plfit.PSPL_fitter_scipy()\n",
    "  plfit.PSPL_residual()\n",
    "  plfit.double_horn_fitter_scipy()\n",
    "  plfit.PSPL_double_horn_fitter_lmfit()\n",
    "  plfit.calculate_s_q()\n",
    "\n",
    "  return plfit"
   ]
  },
  {
   "cell_type": "code",
   "execution_count": 10,
   "metadata": {},
   "outputs": [],
   "source": [
    "temp2 = home+'/Library/Mobile Documents/com~apple~CloudDocs/Microlensing_Data_Challeng/data-challenge-1/alldclc/'#lc/'"
   ]
  },
  {
   "cell_type": "code",
   "execution_count": 12,
   "metadata": {},
   "outputs": [],
   "source": [
    "f = 'mag.omcassan_0_22_526.det.lc.W149'\n",
    "t,m,e = np.loadtxt(temp2+f,unpack=True, usecols=(0,1, 2))"
   ]
  },
  {
   "cell_type": "code",
   "execution_count": 14,
   "metadata": {},
   "outputs": [
    {
     "name": "stdout",
     "output_type": "stream",
     "text": [
      "324.7879431247711\n"
     ]
    }
   ],
   "source": [
    "t_start = time.time()\n",
    "plfit = Planetary_parameters_estimator(temp2+f)\n",
    "t_end = time.time()\n",
    "\n",
    "print (t_end- t_start)"
   ]
  },
  {
   "cell_type": "code",
   "execution_count": null,
   "metadata": {
    "collapsed": true
   },
   "outputs": [],
   "source": []
  }
 ],
 "metadata": {
  "kernelspec": {
   "display_name": "Python 3",
   "language": "python",
   "name": "python3"
  },
  "language_info": {
   "codemirror_mode": {
    "name": "ipython",
    "version": 3
   },
   "file_extension": ".py",
   "mimetype": "text/x-python",
   "name": "python",
   "nbconvert_exporter": "python",
   "pygments_lexer": "ipython3",
   "version": "3.6.1"
  }
 },
 "nbformat": 4,
 "nbformat_minor": 2
}
