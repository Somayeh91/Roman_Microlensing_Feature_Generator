{
 "cells": [
  {
   "cell_type": "code",
   "execution_count": 1,
   "metadata": {
    "collapsed": false
   },
   "outputs": [],
   "source": [
    "from Common_functions import fun, fun2, lnlike, lnlike2, smooth, max_finder, localize_event, prepare, \\\n",
    "                             planetary_fit, count_peaks, PSPL, Gaussian, PSPL_Gaussian"
   ]
  },
  {
   "cell_type": "code",
   "execution_count": 2,
   "metadata": {
    "collapsed": false
   },
   "outputs": [],
   "source": [
    "from Planetary_fits import deviation_finder, initial_guess_finder, PSPL_fitter_scipy, PSPL_plotter,\\\n",
    "                            PSPL_residual, Gaussian_fitter_lmfit, PSPL_Gaussian_fitter_lmfit, calculate_projected_separation\n",
    "                            "
   ]
  },
  {
   "cell_type": "code",
   "execution_count": 3,
   "metadata": {
    "collapsed": false
   },
   "outputs": [],
   "source": [
    "import glob,os,sys\n",
    "import numpy as np\n",
    "import matplotlib.pyplot as plt\n",
    "import matplotlib\n",
    "from numpy import *\n",
    "import re\n",
    "from tqdm import tqdm\n",
    "import scipy.stats as st\n",
    "from os.path import expanduser\n",
    "import cmath\n",
    "import scipy.optimize as op\n",
    "import time\n",
    "import gzip\n",
    "from scipy.interpolate import interp1d\n",
    "import pandas as pd\n",
    "from scipy.interpolate import interp1d\n",
    "from mpl_toolkits.axes_grid1.inset_locator import zoomed_inset_axes\n",
    "from mpl_toolkits.axes_grid1.inset_locator import (mark_inset,inset_axes,InsetPosition) \n",
    "import traceback\n",
    "from lmfit import minimize, Parameters, Parameter, report_fit\n",
    "import math\n",
    "\n",
    "\n",
    "%matplotlib inline\n",
    "home = os.path.expanduser(\"~\")"
   ]
  },
  {
   "cell_type": "code",
   "execution_count": 4,
   "metadata": {
    "collapsed": false
   },
   "outputs": [],
   "source": [
    "# Set up te directory where all microlensing data challenge lightcurves are\n",
    "\n",
    "temp_dir = home+'/Library/Mobile Documents/com~apple~CloudDocs/Microlensing_Data_Challeng/data-challenge-1/alldclc/'\n",
    "direc = os.listdir(temp_dir)"
   ]
  },
  {
   "cell_type": "markdown",
   "metadata": {},
   "source": [
    "# Fitting the PSPL+Gaussian to one of the data challenge light curves"
   ]
  },
  {
   "cell_type": "code",
   "execution_count": 5,
   "metadata": {
    "collapsed": false
   },
   "outputs": [],
   "source": [
    "# Reading in one single lightcurve from the small sample of data challenge light curves\n",
    "\n",
    "f = '/mag.omcassan_0_100_1213.det.lc.W149' #non-binary\n",
    "\n",
    "t,m,e = np.loadtxt(temp_dir+f,unpack=True)\n",
    "\n",
    "lightcurve = np.zeros((len(t),4))\n",
    "lightcurve[:,0] = t\n",
    "lightcurve[:,1] = m\n",
    "lightcurve[:,2] = e\n",
    "peak = t[np.argmin(m)]\n",
    "\n",
    "(baseline, event, it0) = localize_event(lightcurve, peak,50)"
   ]
  },
  {
   "cell_type": "code",
   "execution_count": 6,
   "metadata": {
    "collapsed": false
   },
   "outputs": [],
   "source": [
    "# info[['s','q']][info.name == f.split('/')[1]]"
   ]
  },
  {
   "cell_type": "code",
   "execution_count": 7,
   "metadata": {
    "collapsed": false
   },
   "outputs": [
    {
     "name": "stderr",
     "output_type": "stream",
     "text": [
      "/Users/Research/Library/Enthought/Canopy_64bit/User/lib/python2.7/site-packages/numpy/core/fromnumeric.py:52: FutureWarning: \n",
      "The current behaviour of 'Series.argmax' is deprecated, use 'idxmax'\n",
      "instead.\n",
      "The behavior of 'argmax' will be corrected to return the positional\n",
      "maximum in the future. For now, use 'series.values.argmax' or\n",
      "'np.argmax(np.array(values))' to get the position of the maximum\n",
      "row.\n",
      "  return getattr(obj, method)(*args, **kwds)\n"
     ]
    },
    {
     "name": "stdout",
     "output_type": "stream",
     "text": [
      "2\n"
     ]
    },
    {
     "name": "stderr",
     "output_type": "stream",
     "text": [
      "/Users/Research/Library/Enthought/Canopy_64bit/User/lib/python2.7/site-packages/numpy/core/fromnumeric.py:52: FutureWarning: \n",
      "The current behaviour of 'Series.argmin' is deprecated, use 'idxmin'\n",
      "instead.\n",
      "The behavior of 'argmin' will be corrected to return the positional\n",
      "minimum in the future. For now, use 'series.values.argmin' or\n",
      "'np.argmin(np.array(values))' to get the position of the minimum\n",
      "row.\n",
      "  return getattr(obj, method)(*args, **kwds)\n"
     ]
    }
   ],
   "source": [
    "df, baseline, event, it0, dt = prepare(t,m,e)\n",
    "\n",
    "init = initial_guess_finder (df['t'], df['A'])\n",
    "\n",
    "PSPL_final_params, PSPL_chisqr = PSPL_fitter_scipy (df['t'], df['A'], df['A_err'], init)\n",
    "\n",
    "df['A_residual'], peaks = PSPL_residual (df['t'], df['A'], PSPL_final_params)\n",
    "\n",
    "print len(peaks)\n",
    "\n",
    "Gaussian_final_params = Gaussian_fitter_lmfit (df['t'], df['A'], PSPL_final_params)\n",
    "\n",
    "final_params, final_chisqr = PSPL_Gaussian_fitter_lmfit (df['t'], df['A'], df['A_err'], PSPL_final_params, Gaussian_final_params)"
   ]
  },
  {
   "cell_type": "code",
   "execution_count": 8,
   "metadata": {
    "collapsed": false
   },
   "outputs": [
    {
     "data": {
      "text/plain": [
       "<matplotlib.lines.Line2D at 0x10458aa90>"
      ]
     },
     "execution_count": 8,
     "metadata": {},
     "output_type": "execute_result"
    },
    {
     "data": {
      "image/png": "[encoded data removed]",
      "text/plain": [
       "<matplotlib.figure.Figure at 0x1174227d0>"
      ]
     },
     "metadata": {},
     "output_type": "display_data"
    }
   ],
   "source": [
    "dtt = 10\n",
    "plt.plot(df['t'], df['A'],'b.')\n",
    "plt.axvline(init[0])\n",
    "# plt.xlim(init[0]-dtt, init[0]+dtt)"
   ]
  },
  {
   "cell_type": "code",
   "execution_count": 9,
   "metadata": {
    "collapsed": false
   },
   "outputs": [
    {
     "data": {
      "image/png": "[encoded data removed]",
      "text/plain": [
       "<matplotlib.figure.Figure at 0x1038e6a50>"
      ]
     },
     "metadata": {},
     "output_type": "display_data"
    }
   ],
   "source": [
    "PSPL_plotter (df['t'], df['A'], PSPL_final_params)"
   ]
  },
  {
   "cell_type": "code",
   "execution_count": 10,
   "metadata": {
    "collapsed": false
   },
   "outputs": [
    {
     "data": {
      "text/plain": [
       "(1416.0873219999485, 1456.0873219999485)"
      ]
     },
     "execution_count": 10,
     "metadata": {},
     "output_type": "execute_result"
    },
    {
     "data": {
      "image/png": "[encoded data removed]",
      "text/plain": [
       "<matplotlib.figure.Figure at 0x118617c90>"
      ]
     },
     "metadata": {},
     "output_type": "display_data"
    }
   ],
   "source": [
    "dtt =20\n",
    "t_ = np.asarray(df['t'].values)\n",
    "plt.plot(df['t']-2458234, df['A_residual'], 'b.')\n",
    "plt.axvline(peaks[0]-2458234)\n",
    "plt.axvline(peaks[1]-2458234)\n",
    "\n",
    "\n",
    "plt.xlim(peaks[0]-2458234-dtt, peaks[0]-2458234+dtt)\n",
    "# plt.xlim(480,520)"
   ]
  },
  {
   "cell_type": "code",
   "execution_count": 11,
   "metadata": {
    "collapsed": false
   },
   "outputs": [
    {
     "name": "stdout",
     "output_type": "stream",
     "text": [
      "2.37046962273580\n"
     ]
    }
   ],
   "source": [
    "s, q = calculate_projected_separation (PSPL_final_params[0], PSPL_final_params[1], PSPL_final_params[2], peaks, 0, 0)"
   ]
  },
  {
   "cell_type": "code",
   "execution_count": 12,
   "metadata": {
    "collapsed": false
   },
   "outputs": [
    {
     "name": "stdout",
     "output_type": "stream",
     "text": [
      "2.37046962273580 1.3522321987479946\n"
     ]
    }
   ],
   "source": [
    "print s, q"
   ]
  },
  {
   "cell_type": "code",
   "execution_count": 14,
   "metadata": {
    "collapsed": false
   },
   "outputs": [
    {
     "data": {
      "text/plain": [
       "2.149215259650183"
      ]
     },
     "execution_count": 14,
     "metadata": {},
     "output_type": "execute_result"
    }
   ],
   "source": [
    "np.sqrt(float(s)**2 -1)"
   ]
  },
  {
   "cell_type": "code",
   "execution_count": 13,
   "metadata": {
    "collapsed": false
   },
   "outputs": [
    {
     "ename": "TypeError",
     "evalue": "'function' object has no attribute '__getitem__'",
     "output_type": "error",
     "traceback": [
      "\u001b[0;31m---------------------------------------------------------------------------\u001b[0m",
      "\u001b[0;31mTypeError\u001b[0m                                 Traceback (most recent call last)",
      "\u001b[0;32m<ipython-input-13-8a2ae4ee1bb9>\u001b[0m in \u001b[0;36m<module>\u001b[0;34m()\u001b[0m\n\u001b[0;32m----> 1\u001b[0;31m \u001b[0minfo\u001b[0m\u001b[0;34m[\u001b[0m\u001b[0;34m[\u001b[0m\u001b[0;34m's'\u001b[0m\u001b[0;34m,\u001b[0m\u001b[0;34m'q'\u001b[0m\u001b[0;34m]\u001b[0m\u001b[0;34m]\u001b[0m\u001b[0;34m[\u001b[0m\u001b[0minfo\u001b[0m\u001b[0;34m.\u001b[0m\u001b[0mname\u001b[0m \u001b[0;34m==\u001b[0m \u001b[0;34m'mag.omcassan_0_100_1213.det.lc.W149'\u001b[0m\u001b[0;34m]\u001b[0m\u001b[0;34m\u001b[0m\u001b[0m\n\u001b[0m",
      "\u001b[0;31mTypeError\u001b[0m: 'function' object has no attribute '__getitem__'"
     ]
    }
   ],
   "source": [
    "info[['s','q']][info.name == 'mag.omcassan_0_100_1213.det.lc.W149']"
   ]
  },
  {
   "cell_type": "code",
   "execution_count": 22,
   "metadata": {
    "collapsed": false
   },
   "outputs": [
    {
     "data": {
      "text/plain": [
       "(1414.9232309465297, 1454.9232309465297)"
      ]
     },
     "execution_count": 22,
     "metadata": {},
     "output_type": "execute_result"
    },
    {
     "data": {
      "image/png": "[encoded data removed]",
      "text/plain": [
       "<matplotlib.figure.Figure at 0x11949e310>"
      ]
     },
     "metadata": {},
     "output_type": "display_data"
    }
   ],
   "source": [
    "dtt =20\n",
    "t_ = np.asarray(df['t'].values)\n",
    "plt.plot(df['t']-2458234, df['A_residual'], 'b.')\n",
    "plt.plot(df['t']-2458234, Gaussian(Gaussian_final_params[0], Gaussian_final_params[1],Gaussian_final_params[2], df['t']), 'r-')\n",
    "# plt.plot(df['t']-2458234, Gaussian(t_[f_res.argmin()], 1.5,-0.2, df['t']), 'g-')\n",
    "# plt.axvline(temp[0][np.argmin(temp[1])]['tp']-2458234)\n",
    "plt.xlim(Gaussian_final_params[0]-2458234-dtt, Gaussian_final_params[0]-2458234+dtt)\n",
    "\n",
    "# plt.xlim(160,200)"
   ]
  },
  {
   "cell_type": "code",
   "execution_count": 29,
   "metadata": {
    "collapsed": false
   },
   "outputs": [
    {
     "name": "stdout",
     "output_type": "stream",
     "text": [
      "66721.62127410492 135797.89779574302\n"
     ]
    },
    {
     "data": {
      "image/png": "[encoded data removed]",
      "text/plain": [
       "<matplotlib.figure.Figure at 0x14b312210>"
      ]
     },
     "metadata": {},
     "output_type": "display_data"
    }
   ],
   "source": [
    "dtt =200\n",
    "plt.plot(df['t']-2458234,df['A'],'b.', markersize=25, label='Lightcurve Data')\n",
    "plt.plot(df['t']-2458234,PSPL_Gaussian(final_params[0], final_params[1], final_params[2],\n",
    "                                       final_params[3], final_params[4], final_params[5],\n",
    "                                       final_params[6], df['t']),'r-', label='Lightcurve Data')\n",
    "\n",
    "print PSPL_chisqr, final_chisqr\n",
    "\n",
    "plt.ylabel('Magnification', size=25)\n",
    "plt.xlabel('Time - 2458520', size=25)\n",
    "plt.legend(loc=2,fontsize=20)\n",
    "\n",
    "plt.xticks(fontsize=20)\n",
    "plt.yticks(fontsize=20)\n",
    "plt.xlim(final_params[0]-2458234-dtt, final_params[0]-2458234+dtt)\n",
    "\n",
    "\n",
    "fig = plt.gcf()\n",
    "fig.set_size_inches(15.0,12.0)\n",
    "# plt.savefig('Chebyshevfit_success.png')"
   ]
  },
  {
   "cell_type": "markdown",
   "metadata": {},
   "source": [
    "# Fitting the PSPL+Gaussian to the small sample of data challenge light curves"
   ]
  },
  {
   "cell_type": "code",
   "execution_count": 4,
   "metadata": {
    "collapsed": true
   },
   "outputs": [],
   "source": [
    "# Set up te directory where all microlensing data challenge lightcurves are\n",
    "\n",
    "temp_dir = home+'/Library/Mobile Documents/com~apple~CloudDocs/Microlensing_Data_Challeng/data-challenge-1/lc/'\n",
    "direc_selected = os.listdir(temp_dir)"
   ]
  },
  {
   "cell_type": "code",
   "execution_count": 5,
   "metadata": {
    "collapsed": false
   },
   "outputs": [
    {
     "name": "stderr",
     "output_type": "stream",
     "text": [
      "  0%|          | 0/590 [00:00<?, ?it/s]/Users/Research/Library/Enthought/Canopy_64bit/User/lib/python2.7/site-packages/numpy/core/fromnumeric.py:52: FutureWarning: \n",
      "The current behaviour of 'Series.argmax' is deprecated, use 'idxmax'\n",
      "instead.\n",
      "The behavior of 'argmax' will be corrected to return the positional\n",
      "maximum in the future. For now, use 'series.values.argmax' or\n",
      "'np.argmax(np.array(values))' to get the position of the maximum\n",
      "row.\n",
      "  return getattr(obj, method)(*args, **kwds)\n",
      "/Users/Research/Library/Enthought/Canopy_64bit/User/lib/python2.7/site-packages/numpy/core/fromnumeric.py:52: FutureWarning: \n",
      "The current behaviour of 'Series.argmin' is deprecated, use 'idxmin'\n",
      "instead.\n",
      "The behavior of 'argmin' will be corrected to return the positional\n",
      "minimum in the future. For now, use 'series.values.argmin' or\n",
      "'np.argmin(np.array(values))' to get the position of the minimum\n",
      "row.\n",
      "  return getattr(obj, method)(*args, **kwds)\n",
      "  2%|▏         | 13/590 [00:40<29:40,  3.09s/it]Traceback (most recent call last):\n",
      "  File \"<ipython-input-5-b765644de7e2>\", line 20, in <module>\n",
      "    Gaussian_final_params = Gaussian_fitter_lmfit (df['t'], df['A'], PSPL_final_params)\n",
      "  File \"Planetary_fits.py\", line 151, in Gaussian_fitter_lmfit\n",
      "    return Gaussian_params\n",
      "UnboundLocalError: local variable 'Gaussian_params' referenced before assignment\n",
      "  3%|▎         | 15/590 [00:53<33:53,  3.54s/it]Traceback (most recent call last):\n",
      "  File \"<ipython-input-5-b765644de7e2>\", line 22, in <module>\n",
      "    final_params, final_chisqr = PSPL_Gaussian_fitter_lmfit (df['t'], df['A'], df['A_err'], PSPL_final_params, Gaussian_final_params)\n",
      "  File \"Planetary_fits.py\", line 163, in PSPL_Gaussian_fitter_lmfit\n",
      "    result2 = minimize(PSPL_Gaussian_data, params2, args=(t, A))\n",
      "  File \"/Users/Research/Library/Enthought/Canopy_64bit/User/lib/python2.7/site-packages/lmfit/minimizer.py\", line 2300, in minimize\n",
      "    return fitter.minimize(method=method)\n",
      "  File \"/Users/Research/Library/Enthought/Canopy_64bit/User/lib/python2.7/site-packages/lmfit/minimizer.py\", line 1949, in minimize\n",
      "    return function(**kwargs)\n",
      "  File \"/Users/Research/Library/Enthought/Canopy_64bit/User/lib/python2.7/site-packages/lmfit/minimizer.py\", line 1492, in leastsq\n",
      "    lsout = scipy_leastsq(self.__residual, variables, **lskws)\n",
      "  File \"/Users/Research/Library/Enthought/Canopy_64bit/User/lib/python2.7/site-packages/scipy/optimize/minpack.py\", line 384, in leastsq\n",
      "    shape, dtype = _check_func('leastsq', 'func', func, x0, args, n)\n",
      "  File \"/Users/Research/Library/Enthought/Canopy_64bit/User/lib/python2.7/site-packages/scipy/optimize/minpack.py\", line 26, in _check_func\n",
      "    res = atleast_1d(thefunc(*((x0[:numinputs],) + args)))\n",
      "  File \"/Users/Research/Library/Enthought/Canopy_64bit/User/lib/python2.7/site-packages/lmfit/minimizer.py\", line 538, in __residual\n",
      "    nan_policy=self.nan_policy)\n",
      "  File \"/Users/Research/Library/Enthought/Canopy_64bit/User/lib/python2.7/site-packages/lmfit/minimizer.py\", line 2166, in _nan_policy\n",
      "    raise ValueError(\"The input contains nan values\")\n",
      "ValueError: The input contains nan values\n",
      "  3%|▎         | 19/590 [01:06<33:24,  3.51s/it]Traceback (most recent call last):\n",
      "  File \"<ipython-input-5-b765644de7e2>\", line 20, in <module>\n",
      "    Gaussian_final_params = Gaussian_fitter_lmfit (df['t'], df['A'], PSPL_final_params)\n",
      "  File \"Planetary_fits.py\", line 151, in Gaussian_fitter_lmfit\n",
      "    return Gaussian_params\n",
      "UnboundLocalError: local variable 'Gaussian_params' referenced before assignment\n",
      "  4%|▎         | 21/590 [01:10<31:52,  3.36s/it]Traceback (most recent call last):\n",
      "  File \"<ipython-input-5-b765644de7e2>\", line 22, in <module>\n",
      "    final_params, final_chisqr = PSPL_Gaussian_fitter_lmfit (df['t'], df['A'], df['A_err'], PSPL_final_params, Gaussian_final_params)\n",
      "  File \"Planetary_fits.py\", line 163, in PSPL_Gaussian_fitter_lmfit\n",
      "    result2 = minimize(PSPL_Gaussian_data, params2, args=(t, A))\n",
      "  File \"/Users/Research/Library/Enthought/Canopy_64bit/User/lib/python2.7/site-packages/lmfit/minimizer.py\", line 2300, in minimize\n",
      "    return fitter.minimize(method=method)\n",
      "  File \"/Users/Research/Library/Enthought/Canopy_64bit/User/lib/python2.7/site-packages/lmfit/minimizer.py\", line 1949, in minimize\n",
      "    return function(**kwargs)\n",
      "  File \"/Users/Research/Library/Enthought/Canopy_64bit/User/lib/python2.7/site-packages/lmfit/minimizer.py\", line 1492, in leastsq\n",
      "    lsout = scipy_leastsq(self.__residual, variables, **lskws)\n",
      "  File \"/Users/Research/Library/Enthought/Canopy_64bit/User/lib/python2.7/site-packages/scipy/optimize/minpack.py\", line 384, in leastsq\n",
      "    shape, dtype = _check_func('leastsq', 'func', func, x0, args, n)\n",
      "  File \"/Users/Research/Library/Enthought/Canopy_64bit/User/lib/python2.7/site-packages/scipy/optimize/minpack.py\", line 26, in _check_func\n",
      "    res = atleast_1d(thefunc(*((x0[:numinputs],) + args)))\n",
      "  File \"/Users/Research/Library/Enthought/Canopy_64bit/User/lib/python2.7/site-packages/lmfit/minimizer.py\", line 538, in __residual\n",
      "    nan_policy=self.nan_policy)\n",
      "  File \"/Users/Research/Library/Enthought/Canopy_64bit/User/lib/python2.7/site-packages/lmfit/minimizer.py\", line 2166, in _nan_policy\n",
      "    raise ValueError(\"The input contains nan values\")\n",
      "ValueError: The input contains nan values\n",
      "  5%|▍         | 27/590 [01:41<35:12,  3.75s/it]Traceback (most recent call last):\n",
      "  File \"<ipython-input-5-b765644de7e2>\", line 22, in <module>\n",
      "    final_params, final_chisqr = PSPL_Gaussian_fitter_lmfit (df['t'], df['A'], df['A_err'], PSPL_final_params, Gaussian_final_params)\n",
      "  File \"Planetary_fits.py\", line 163, in PSPL_Gaussian_fitter_lmfit\n",
      "    result2 = minimize(PSPL_Gaussian_data, params2, args=(t, A))\n",
      "  File \"/Users/Research/Library/Enthought/Canopy_64bit/User/lib/python2.7/site-packages/lmfit/minimizer.py\", line 2300, in minimize\n",
      "    return fitter.minimize(method=method)\n",
      "  File \"/Users/Research/Library/Enthought/Canopy_64bit/User/lib/python2.7/site-packages/lmfit/minimizer.py\", line 1949, in minimize\n",
      "    return function(**kwargs)\n",
      "  File \"/Users/Research/Library/Enthought/Canopy_64bit/User/lib/python2.7/site-packages/lmfit/minimizer.py\", line 1492, in leastsq\n",
      "    lsout = scipy_leastsq(self.__residual, variables, **lskws)\n",
      "  File \"/Users/Research/Library/Enthought/Canopy_64bit/User/lib/python2.7/site-packages/scipy/optimize/minpack.py\", line 384, in leastsq\n",
      "    shape, dtype = _check_func('leastsq', 'func', func, x0, args, n)\n",
      "  File \"/Users/Research/Library/Enthought/Canopy_64bit/User/lib/python2.7/site-packages/scipy/optimize/minpack.py\", line 26, in _check_func\n",
      "    res = atleast_1d(thefunc(*((x0[:numinputs],) + args)))\n",
      "  File \"/Users/Research/Library/Enthought/Canopy_64bit/User/lib/python2.7/site-packages/lmfit/minimizer.py\", line 538, in __residual\n",
      "    nan_policy=self.nan_policy)\n",
      "  File \"/Users/Research/Library/Enthought/Canopy_64bit/User/lib/python2.7/site-packages/lmfit/minimizer.py\", line 2166, in _nan_policy\n",
      "    raise ValueError(\"The input contains nan values\")\n",
      "ValueError: The input contains nan values\n",
      "  6%|▌         | 33/590 [01:59<33:44,  3.64s/it]Traceback (most recent call last):\n",
      "  File \"<ipython-input-5-b765644de7e2>\", line 20, in <module>\n",
      "    Gaussian_final_params = Gaussian_fitter_lmfit (df['t'], df['A'], PSPL_final_params)\n",
      "  File \"Planetary_fits.py\", line 151, in Gaussian_fitter_lmfit\n",
      "    return Gaussian_params\n",
      "UnboundLocalError: local variable 'Gaussian_params' referenced before assignment\n",
      "  6%|▋         | 37/590 [02:13<33:15,  3.61s/it]Traceback (most recent call last):\n",
      "  File \"<ipython-input-5-b765644de7e2>\", line 20, in <module>\n",
      "    Gaussian_final_params = Gaussian_fitter_lmfit (df['t'], df['A'], PSPL_final_params)\n",
      "  File \"Planetary_fits.py\", line 151, in Gaussian_fitter_lmfit\n",
      "    return Gaussian_params\n",
      "UnboundLocalError: local variable 'Gaussian_params' referenced before assignment\n",
      "  7%|▋         | 41/590 [02:25<32:24,  3.54s/it]Traceback (most recent call last):\n",
      "  File \"<ipython-input-5-b765644de7e2>\", line 20, in <module>\n",
      "    Gaussian_final_params = Gaussian_fitter_lmfit (df['t'], df['A'], PSPL_final_params)\n",
      "  File \"Planetary_fits.py\", line 151, in Gaussian_fitter_lmfit\n",
      "    return Gaussian_params\n",
      "UnboundLocalError: local variable 'Gaussian_params' referenced before assignment\n",
      "  8%|▊         | 49/590 [02:54<32:11,  3.57s/it]Traceback (most recent call last):\n",
      "  File \"<ipython-input-5-b765644de7e2>\", line 22, in <module>\n",
      "    final_params, final_chisqr = PSPL_Gaussian_fitter_lmfit (df['t'], df['A'], df['A_err'], PSPL_final_params, Gaussian_final_params)\n",
      "  File \"Planetary_fits.py\", line 163, in PSPL_Gaussian_fitter_lmfit\n",
      "    result2 = minimize(PSPL_Gaussian_data, params2, args=(t, A))\n",
      "  File \"/Users/Research/Library/Enthought/Canopy_64bit/User/lib/python2.7/site-packages/lmfit/minimizer.py\", line 2300, in minimize\n",
      "    return fitter.minimize(method=method)\n",
      "  File \"/Users/Research/Library/Enthought/Canopy_64bit/User/lib/python2.7/site-packages/lmfit/minimizer.py\", line 1949, in minimize\n",
      "    return function(**kwargs)\n",
      "  File \"/Users/Research/Library/Enthought/Canopy_64bit/User/lib/python2.7/site-packages/lmfit/minimizer.py\", line 1492, in leastsq\n",
      "    lsout = scipy_leastsq(self.__residual, variables, **lskws)\n",
      "  File \"/Users/Research/Library/Enthought/Canopy_64bit/User/lib/python2.7/site-packages/scipy/optimize/minpack.py\", line 384, in leastsq\n",
      "    shape, dtype = _check_func('leastsq', 'func', func, x0, args, n)\n",
      "  File \"/Users/Research/Library/Enthought/Canopy_64bit/User/lib/python2.7/site-packages/scipy/optimize/minpack.py\", line 26, in _check_func\n",
      "    res = atleast_1d(thefunc(*((x0[:numinputs],) + args)))\n",
      "  File \"/Users/Research/Library/Enthought/Canopy_64bit/User/lib/python2.7/site-packages/lmfit/minimizer.py\", line 538, in __residual\n",
      "    nan_policy=self.nan_policy)\n",
      "  File \"/Users/Research/Library/Enthought/Canopy_64bit/User/lib/python2.7/site-packages/lmfit/minimizer.py\", line 2166, in _nan_policy\n",
      "    raise ValueError(\"The input contains nan values\")\n",
      "ValueError: The input contains nan values\n",
      "  9%|▊         | 51/590 [03:01<32:03,  3.57s/it]Traceback (most recent call last):\n",
      "  File \"<ipython-input-5-b765644de7e2>\", line 20, in <module>\n",
      "    Gaussian_final_params = Gaussian_fitter_lmfit (df['t'], df['A'], PSPL_final_params)\n",
      "  File \"Planetary_fits.py\", line 151, in Gaussian_fitter_lmfit\n",
      "    return Gaussian_params\n",
      "UnboundLocalError: local variable 'Gaussian_params' referenced before assignment\n",
      "  9%|▉         | 55/590 [03:13<31:24,  3.52s/it]Traceback (most recent call last):\n",
      "  File \"<ipython-input-5-b765644de7e2>\", line 20, in <module>\n",
      "    Gaussian_final_params = Gaussian_fitter_lmfit (df['t'], df['A'], PSPL_final_params)\n",
      "  File \"Planetary_fits.py\", line 151, in Gaussian_fitter_lmfit\n",
      "    return Gaussian_params\n",
      "UnboundLocalError: local variable 'Gaussian_params' referenced before assignment\n",
      " 10%|▉         | 57/590 [03:17<30:49,  3.47s/it]Traceback (most recent call last):\n",
      "  File \"<ipython-input-5-b765644de7e2>\", line 20, in <module>\n",
      "    Gaussian_final_params = Gaussian_fitter_lmfit (df['t'], df['A'], PSPL_final_params)\n",
      "  File \"Planetary_fits.py\", line 151, in Gaussian_fitter_lmfit\n",
      "    return Gaussian_params\n",
      "UnboundLocalError: local variable 'Gaussian_params' referenced before assignment\n",
      " 11%|█▏        | 67/590 [03:45<29:22,  3.37s/it]Traceback (most recent call last):\n",
      "  File \"<ipython-input-5-b765644de7e2>\", line 20, in <module>\n",
      "    Gaussian_final_params = Gaussian_fitter_lmfit (df['t'], df['A'], PSPL_final_params)\n",
      "  File \"Planetary_fits.py\", line 151, in Gaussian_fitter_lmfit\n",
      "    return Gaussian_params\n",
      "UnboundLocalError: local variable 'Gaussian_params' referenced before assignment\n",
      " 12%|█▏        | 69/590 [03:50<29:02,  3.34s/it]Traceback (most recent call last):\n",
      "  File \"<ipython-input-5-b765644de7e2>\", line 22, in <module>\n",
      "    final_params, final_chisqr = PSPL_Gaussian_fitter_lmfit (df['t'], df['A'], df['A_err'], PSPL_final_params, Gaussian_final_params)\n",
      "  File \"Planetary_fits.py\", line 163, in PSPL_Gaussian_fitter_lmfit\n",
      "    result2 = minimize(PSPL_Gaussian_data, params2, args=(t, A))\n",
      "  File \"/Users/Research/Library/Enthought/Canopy_64bit/User/lib/python2.7/site-packages/lmfit/minimizer.py\", line 2300, in minimize\n",
      "    return fitter.minimize(method=method)\n",
      "  File \"/Users/Research/Library/Enthought/Canopy_64bit/User/lib/python2.7/site-packages/lmfit/minimizer.py\", line 1949, in minimize\n",
      "    return function(**kwargs)\n",
      "  File \"/Users/Research/Library/Enthought/Canopy_64bit/User/lib/python2.7/site-packages/lmfit/minimizer.py\", line 1492, in leastsq\n",
      "    lsout = scipy_leastsq(self.__residual, variables, **lskws)\n",
      "  File \"/Users/Research/Library/Enthought/Canopy_64bit/User/lib/python2.7/site-packages/scipy/optimize/minpack.py\", line 384, in leastsq\n",
      "    shape, dtype = _check_func('leastsq', 'func', func, x0, args, n)\n",
      "  File \"/Users/Research/Library/Enthought/Canopy_64bit/User/lib/python2.7/site-packages/scipy/optimize/minpack.py\", line 26, in _check_func\n",
      "    res = atleast_1d(thefunc(*((x0[:numinputs],) + args)))\n",
      "  File \"/Users/Research/Library/Enthought/Canopy_64bit/User/lib/python2.7/site-packages/lmfit/minimizer.py\", line 538, in __residual\n",
      "    nan_policy=self.nan_policy)\n",
      "  File \"/Users/Research/Library/Enthought/Canopy_64bit/User/lib/python2.7/site-packages/lmfit/minimizer.py\", line 2166, in _nan_policy\n",
      "    raise ValueError(\"The input contains nan values\")\n",
      "ValueError: The input contains nan values\n",
      " 12%|█▏        | 71/590 [03:58<28:59,  3.35s/it]Traceback (most recent call last):\n",
      "  File \"<ipython-input-5-b765644de7e2>\", line 20, in <module>\n",
      "    Gaussian_final_params = Gaussian_fitter_lmfit (df['t'], df['A'], PSPL_final_params)\n",
      "  File \"Planetary_fits.py\", line 151, in Gaussian_fitter_lmfit\n",
      "    return Gaussian_params\n",
      "UnboundLocalError: local variable 'Gaussian_params' referenced before assignment\n",
      " 13%|█▎        | 75/590 [04:12<28:53,  3.37s/it]Traceback (most recent call last):\n",
      "  File \"<ipython-input-5-b765644de7e2>\", line 20, in <module>\n",
      "    Gaussian_final_params = Gaussian_fitter_lmfit (df['t'], df['A'], PSPL_final_params)\n",
      "  File \"Planetary_fits.py\", line 151, in Gaussian_fitter_lmfit\n",
      "    return Gaussian_params\n",
      "UnboundLocalError: local variable 'Gaussian_params' referenced before assignment\n",
      " 15%|█▍        | 87/590 [05:00<28:56,  3.45s/it]Traceback (most recent call last):\n",
      "  File \"<ipython-input-5-b765644de7e2>\", line 20, in <module>\n",
      "    Gaussian_final_params = Gaussian_fitter_lmfit (df['t'], df['A'], PSPL_final_params)\n",
      "  File \"Planetary_fits.py\", line 151, in Gaussian_fitter_lmfit\n",
      "    return Gaussian_params\n",
      "UnboundLocalError: local variable 'Gaussian_params' referenced before assignment\n",
      " 16%|█▌        | 93/590 [05:10<27:41,  3.34s/it]Traceback (most recent call last):\n",
      "  File \"<ipython-input-5-b765644de7e2>\", line 20, in <module>\n",
      "    Gaussian_final_params = Gaussian_fitter_lmfit (df['t'], df['A'], PSPL_final_params)\n",
      "  File \"Planetary_fits.py\", line 151, in Gaussian_fitter_lmfit\n",
      "    return Gaussian_params\n",
      "UnboundLocalError: local variable 'Gaussian_params' referenced before assignment\n",
      " 17%|█▋        | 99/590 [05:26<26:59,  3.30s/it]Traceback (most recent call last):\n",
      "  File \"<ipython-input-5-b765644de7e2>\", line 20, in <module>\n",
      "    Gaussian_final_params = Gaussian_fitter_lmfit (df['t'], df['A'], PSPL_final_params)\n",
      "  File \"Planetary_fits.py\", line 151, in Gaussian_fitter_lmfit\n",
      "    return Gaussian_params\n",
      "UnboundLocalError: local variable 'Gaussian_params' referenced before assignment\n",
      " 18%|█▊        | 105/590 [05:49<26:52,  3.32s/it]Traceback (most recent call last):\n",
      "  File \"<ipython-input-5-b765644de7e2>\", line 20, in <module>\n",
      "    Gaussian_final_params = Gaussian_fitter_lmfit (df['t'], df['A'], PSPL_final_params)\n",
      "  File \"Planetary_fits.py\", line 151, in Gaussian_fitter_lmfit\n",
      "    return Gaussian_params\n",
      "UnboundLocalError: local variable 'Gaussian_params' referenced before assignment\n",
      " 18%|█▊        | 109/590 [06:05<26:53,  3.36s/it]Traceback (most recent call last):\n",
      "  File \"<ipython-input-5-b765644de7e2>\", line 20, in <module>\n",
      "    Gaussian_final_params = Gaussian_fitter_lmfit (df['t'], df['A'], PSPL_final_params)\n",
      "  File \"Planetary_fits.py\", line 151, in Gaussian_fitter_lmfit\n",
      "    return Gaussian_params\n",
      "UnboundLocalError: local variable 'Gaussian_params' referenced before assignment\n",
      " 20%|█▉        | 117/590 [06:41<27:01,  3.43s/it]Traceback (most recent call last):\n",
      "  File \"<ipython-input-5-b765644de7e2>\", line 20, in <module>\n",
      "    Gaussian_final_params = Gaussian_fitter_lmfit (df['t'], df['A'], PSPL_final_params)\n",
      "  File \"Planetary_fits.py\", line 151, in Gaussian_fitter_lmfit\n",
      "    return Gaussian_params\n",
      "UnboundLocalError: local variable 'Gaussian_params' referenced before assignment\n",
      " 21%|██        | 123/590 [06:54<26:14,  3.37s/it]Traceback (most recent call last):\n",
      "  File \"<ipython-input-5-b765644de7e2>\", line 22, in <module>\n",
      "    final_params, final_chisqr = PSPL_Gaussian_fitter_lmfit (df['t'], df['A'], df['A_err'], PSPL_final_params, Gaussian_final_params)\n",
      "  File \"Planetary_fits.py\", line 163, in PSPL_Gaussian_fitter_lmfit\n",
      "    result2 = minimize(PSPL_Gaussian_data, params2, args=(t, A))\n",
      "  File \"/Users/Research/Library/Enthought/Canopy_64bit/User/lib/python2.7/site-packages/lmfit/minimizer.py\", line 2300, in minimize\n",
      "    return fitter.minimize(method=method)\n",
      "  File \"/Users/Research/Library/Enthought/Canopy_64bit/User/lib/python2.7/site-packages/lmfit/minimizer.py\", line 1949, in minimize\n",
      "    return function(**kwargs)\n",
      "  File \"/Users/Research/Library/Enthought/Canopy_64bit/User/lib/python2.7/site-packages/lmfit/minimizer.py\", line 1492, in leastsq\n",
      "    lsout = scipy_leastsq(self.__residual, variables, **lskws)\n",
      "  File \"/Users/Research/Library/Enthought/Canopy_64bit/User/lib/python2.7/site-packages/scipy/optimize/minpack.py\", line 384, in leastsq\n",
      "    shape, dtype = _check_func('leastsq', 'func', func, x0, args, n)\n",
      "  File \"/Users/Research/Library/Enthought/Canopy_64bit/User/lib/python2.7/site-packages/scipy/optimize/minpack.py\", line 26, in _check_func\n",
      "    res = atleast_1d(thefunc(*((x0[:numinputs],) + args)))\n",
      "  File \"/Users/Research/Library/Enthought/Canopy_64bit/User/lib/python2.7/site-packages/lmfit/minimizer.py\", line 538, in __residual\n",
      "    nan_policy=self.nan_policy)\n",
      "  File \"/Users/Research/Library/Enthought/Canopy_64bit/User/lib/python2.7/site-packages/lmfit/minimizer.py\", line 2166, in _nan_policy\n",
      "    raise ValueError(\"The input contains nan values\")\n",
      "ValueError: The input contains nan values\n",
      " 22%|██▏       | 127/590 [07:15<26:27,  3.43s/it]Traceback (most recent call last):\n",
      "  File \"<ipython-input-5-b765644de7e2>\", line 20, in <module>\n",
      "    Gaussian_final_params = Gaussian_fitter_lmfit (df['t'], df['A'], PSPL_final_params)\n",
      "  File \"Planetary_fits.py\", line 151, in Gaussian_fitter_lmfit\n",
      "    return Gaussian_params\n",
      "UnboundLocalError: local variable 'Gaussian_params' referenced before assignment\n",
      " 22%|██▏       | 129/590 [07:22<26:22,  3.43s/it]Traceback (most recent call last):\n",
      "  File \"<ipython-input-5-b765644de7e2>\", line 22, in <module>\n",
      "    final_params, final_chisqr = PSPL_Gaussian_fitter_lmfit (df['t'], df['A'], df['A_err'], PSPL_final_params, Gaussian_final_params)\n",
      "  File \"Planetary_fits.py\", line 163, in PSPL_Gaussian_fitter_lmfit\n",
      "    result2 = minimize(PSPL_Gaussian_data, params2, args=(t, A))\n",
      "  File \"/Users/Research/Library/Enthought/Canopy_64bit/User/lib/python2.7/site-packages/lmfit/minimizer.py\", line 2300, in minimize\n",
      "    return fitter.minimize(method=method)\n",
      "  File \"/Users/Research/Library/Enthought/Canopy_64bit/User/lib/python2.7/site-packages/lmfit/minimizer.py\", line 1949, in minimize\n",
      "    return function(**kwargs)\n",
      "  File \"/Users/Research/Library/Enthought/Canopy_64bit/User/lib/python2.7/site-packages/lmfit/minimizer.py\", line 1492, in leastsq\n",
      "    lsout = scipy_leastsq(self.__residual, variables, **lskws)\n",
      "  File \"/Users/Research/Library/Enthought/Canopy_64bit/User/lib/python2.7/site-packages/scipy/optimize/minpack.py\", line 384, in leastsq\n",
      "    shape, dtype = _check_func('leastsq', 'func', func, x0, args, n)\n",
      "  File \"/Users/Research/Library/Enthought/Canopy_64bit/User/lib/python2.7/site-packages/scipy/optimize/minpack.py\", line 26, in _check_func\n",
      "    res = atleast_1d(thefunc(*((x0[:numinputs],) + args)))\n",
      "  File \"/Users/Research/Library/Enthought/Canopy_64bit/User/lib/python2.7/site-packages/lmfit/minimizer.py\", line 538, in __residual\n",
      "    nan_policy=self.nan_policy)\n",
      "  File \"/Users/Research/Library/Enthought/Canopy_64bit/User/lib/python2.7/site-packages/lmfit/minimizer.py\", line 2166, in _nan_policy\n",
      "    raise ValueError(\"The input contains nan values\")\n",
      "ValueError: The input contains nan values\n",
      " 22%|██▏       | 131/590 [07:30<26:16,  3.44s/it]Traceback (most recent call last):\n",
      "  File \"<ipython-input-5-b765644de7e2>\", line 20, in <module>\n",
      "    Gaussian_final_params = Gaussian_fitter_lmfit (df['t'], df['A'], PSPL_final_params)\n",
      "  File \"Planetary_fits.py\", line 151, in Gaussian_fitter_lmfit\n",
      "    return Gaussian_params\n",
      "UnboundLocalError: local variable 'Gaussian_params' referenced before assignment\n",
      " 23%|██▎       | 133/590 [07:37<26:10,  3.44s/it]Traceback (most recent call last):\n",
      "  File \"<ipython-input-5-b765644de7e2>\", line 20, in <module>\n",
      "    Gaussian_final_params = Gaussian_fitter_lmfit (df['t'], df['A'], PSPL_final_params)\n",
      "  File \"Planetary_fits.py\", line 151, in Gaussian_fitter_lmfit\n",
      "    return Gaussian_params\n",
      "UnboundLocalError: local variable 'Gaussian_params' referenced before assignment\n",
      " 23%|██▎       | 135/590 [07:43<26:00,  3.43s/it]Traceback (most recent call last):\n",
      "  File \"<ipython-input-5-b765644de7e2>\", line 20, in <module>\n",
      "    Gaussian_final_params = Gaussian_fitter_lmfit (df['t'], df['A'], PSPL_final_params)\n",
      "  File \"Planetary_fits.py\", line 151, in Gaussian_fitter_lmfit\n",
      "    return Gaussian_params\n",
      "UnboundLocalError: local variable 'Gaussian_params' referenced before assignment\n",
      " 23%|██▎       | 137/590 [07:49<25:53,  3.43s/it]"
     ]
    },
    {
     "ename": "KeyboardInterrupt",
     "evalue": "",
     "output_type": "error",
     "traceback": [
      "\u001b[0;31m---------------------------------------------------------------------------\u001b[0m",
      "\u001b[0;31mKeyboardInterrupt\u001b[0m                         Traceback (most recent call last)",
      "\u001b[0;32m<ipython-input-5-b765644de7e2>\u001b[0m in \u001b[0;36m<module>\u001b[0;34m()\u001b[0m\n\u001b[1;32m     16\u001b[0m             \u001b[0mPSPL_final_params\u001b[0m\u001b[0;34m,\u001b[0m \u001b[0mPSPL_chisqr\u001b[0m \u001b[0;34m=\u001b[0m \u001b[0mPSPL_fitter_scipy\u001b[0m \u001b[0;34m(\u001b[0m\u001b[0mdf\u001b[0m\u001b[0;34m[\u001b[0m\u001b[0;34m't'\u001b[0m\u001b[0;34m]\u001b[0m\u001b[0;34m,\u001b[0m \u001b[0mdf\u001b[0m\u001b[0;34m[\u001b[0m\u001b[0;34m'A'\u001b[0m\u001b[0;34m]\u001b[0m\u001b[0;34m,\u001b[0m \u001b[0mdf\u001b[0m\u001b[0;34m[\u001b[0m\u001b[0;34m'A_err'\u001b[0m\u001b[0;34m]\u001b[0m\u001b[0;34m,\u001b[0m \u001b[0minit\u001b[0m\u001b[0;34m)\u001b[0m\u001b[0;34m\u001b[0m\u001b[0m\n\u001b[1;32m     17\u001b[0m \u001b[0;34m\u001b[0m\u001b[0m\n\u001b[0;32m---> 18\u001b[0;31m             \u001b[0mdf\u001b[0m\u001b[0;34m[\u001b[0m\u001b[0;34m'A_residual'\u001b[0m\u001b[0;34m]\u001b[0m\u001b[0;34m,\u001b[0m \u001b[0mpeaks\u001b[0m \u001b[0;34m=\u001b[0m \u001b[0mPSPL_residual\u001b[0m \u001b[0;34m(\u001b[0m\u001b[0mdf\u001b[0m\u001b[0;34m[\u001b[0m\u001b[0;34m't'\u001b[0m\u001b[0;34m]\u001b[0m\u001b[0;34m,\u001b[0m \u001b[0mdf\u001b[0m\u001b[0;34m[\u001b[0m\u001b[0;34m'A'\u001b[0m\u001b[0;34m]\u001b[0m\u001b[0;34m,\u001b[0m \u001b[0mPSPL_final_params\u001b[0m\u001b[0;34m)\u001b[0m\u001b[0;34m\u001b[0m\u001b[0m\n\u001b[0m\u001b[1;32m     19\u001b[0m \u001b[0;34m\u001b[0m\u001b[0m\n\u001b[1;32m     20\u001b[0m             \u001b[0mGaussian_final_params\u001b[0m \u001b[0;34m=\u001b[0m \u001b[0mGaussian_fitter_lmfit\u001b[0m \u001b[0;34m(\u001b[0m\u001b[0mdf\u001b[0m\u001b[0;34m[\u001b[0m\u001b[0;34m't'\u001b[0m\u001b[0;34m]\u001b[0m\u001b[0;34m,\u001b[0m \u001b[0mdf\u001b[0m\u001b[0;34m[\u001b[0m\u001b[0;34m'A'\u001b[0m\u001b[0;34m]\u001b[0m\u001b[0;34m,\u001b[0m \u001b[0mPSPL_final_params\u001b[0m\u001b[0;34m)\u001b[0m\u001b[0;34m\u001b[0m\u001b[0m\n",
      "\u001b[0;32m/Users/Research/Library/Mobile Documents/com~apple~CloudDocs/Research/WFIRST-event-finder/Filters/tests/Planetary_fits.py\u001b[0m in \u001b[0;36mPSPL_residual\u001b[0;34m(t, A, model_params)\u001b[0m\n\u001b[1;32m    121\u001b[0m         \u001b[0mA_residual\u001b[0m \u001b[0;34m=\u001b[0m \u001b[0mA\u001b[0m \u001b[0;34m-\u001b[0m \u001b[0mPSPL\u001b[0m\u001b[0;34m(\u001b[0m\u001b[0mmodel_params\u001b[0m\u001b[0;34m[\u001b[0m\u001b[0;36m0\u001b[0m\u001b[0;34m]\u001b[0m\u001b[0;34m,\u001b[0m\u001b[0mmodel_params\u001b[0m\u001b[0;34m[\u001b[0m\u001b[0;36m1\u001b[0m\u001b[0;34m]\u001b[0m\u001b[0;34m,\u001b[0m\u001b[0mmodel_params\u001b[0m\u001b[0;34m[\u001b[0m\u001b[0;36m2\u001b[0m\u001b[0;34m]\u001b[0m\u001b[0;34m,\u001b[0m\u001b[0mmodel_params\u001b[0m\u001b[0;34m[\u001b[0m\u001b[0;36m3\u001b[0m\u001b[0;34m]\u001b[0m\u001b[0;34m,\u001b[0m \u001b[0mt\u001b[0m\u001b[0;34m)\u001b[0m\u001b[0;34m\u001b[0m\u001b[0m\n\u001b[1;32m    122\u001b[0m \u001b[0;34m\u001b[0m\u001b[0m\n\u001b[0;32m--> 123\u001b[0;31m         \u001b[0mn_peaks\u001b[0m\u001b[0;34m,\u001b[0m \u001b[0mpeaks\u001b[0m \u001b[0;34m=\u001b[0m \u001b[0mdeviation_finder\u001b[0m \u001b[0;34m(\u001b[0m\u001b[0mt\u001b[0m\u001b[0;34m,\u001b[0m \u001b[0mA_residual\u001b[0m \u001b[0;34m,\u001b[0m \u001b[0mmodel_params\u001b[0m\u001b[0;34m)\u001b[0m\u001b[0;34m\u001b[0m\u001b[0m\n\u001b[0m\u001b[1;32m    124\u001b[0m \u001b[0;34m\u001b[0m\u001b[0m\n\u001b[1;32m    125\u001b[0m         \u001b[0;32mreturn\u001b[0m \u001b[0mA_residual\u001b[0m\u001b[0;34m,\u001b[0m \u001b[0mpeaks\u001b[0m\u001b[0;34m\u001b[0m\u001b[0m\n",
      "\u001b[0;32m/Users/Research/Library/Mobile Documents/com~apple~CloudDocs/Research/WFIRST-event-finder/Filters/tests/Planetary_fits.py\u001b[0m in \u001b[0;36mdeviation_finder\u001b[0;34m(t, A_residual, PSPL_params, binsize_initial, threshold_default)\u001b[0m\n\u001b[1;32m     59\u001b[0m \u001b[0;34m\u001b[0m\u001b[0m\n\u001b[1;32m     60\u001b[0m             \u001b[0mb_s\u001b[0m \u001b[0;34m=\u001b[0m \u001b[0mb_s\u001b[0m\u001b[0;34m/\u001b[0m\u001b[0;36m2.\u001b[0m\u001b[0;34m\u001b[0m\u001b[0m\n\u001b[0;32m---> 61\u001b[0;31m             \u001b[0mn_out2\u001b[0m\u001b[0;34m,\u001b[0m \u001b[0mtemp_peaks\u001b[0m \u001b[0;34m=\u001b[0m \u001b[0mcount_peaks\u001b[0m \u001b[0;34m(\u001b[0m\u001b[0mt\u001b[0m\u001b[0;34m,\u001b[0m \u001b[0mA_residual\u001b[0m\u001b[0;34m,\u001b[0m \u001b[0msmooth\u001b[0m\u001b[0;34m=\u001b[0m\u001b[0msmoothie\u001b[0m\u001b[0;34m,\u001b[0m \u001b[0mbin_size\u001b[0m \u001b[0;34m=\u001b[0m\u001b[0mb_s\u001b[0m\u001b[0;34m,\u001b[0m \u001b[0mthreshold\u001b[0m \u001b[0;34m=\u001b[0m \u001b[0;36m3\u001b[0m\u001b[0;34m)\u001b[0m\u001b[0;34m\u001b[0m\u001b[0m\n\u001b[0m\u001b[1;32m     62\u001b[0m             \u001b[0mc\u001b[0m \u001b[0;34m=\u001b[0m \u001b[0mlen\u001b[0m\u001b[0;34m(\u001b[0m\u001b[0mtemp_peaks\u001b[0m\u001b[0;34m)\u001b[0m\u001b[0;34m\u001b[0m\u001b[0m\n\u001b[1;32m     63\u001b[0m \u001b[0;34m\u001b[0m\u001b[0m\n",
      "\u001b[0;32m/Users/Research/Library/Mobile Documents/com~apple~CloudDocs/Research/WFIRST-event-finder/Filters/tests/Common_functions.pyc\u001b[0m in \u001b[0;36mcount_peaks\u001b[0;34m(t, m, smooth, bin_size, threshold)\u001b[0m\n\u001b[1;32m    418\u001b[0m         \u001b[0mc\u001b[0m \u001b[0;34m=\u001b[0m \u001b[0mc\u001b[0m\u001b[0;34m+\u001b[0m\u001b[0;36m1\u001b[0m\u001b[0;34m\u001b[0m\u001b[0m\n\u001b[1;32m    419\u001b[0m         \u001b[0;31m#print i\u001b[0m\u001b[0;34m\u001b[0m\u001b[0;34m\u001b[0m\u001b[0m\n\u001b[0;32m--> 420\u001b[0;31m         \u001b[0mm_\u001b[0m \u001b[0;34m=\u001b[0m \u001b[0mdf_\u001b[0m\u001b[0;34m[\u001b[0m\u001b[0;34m'm'\u001b[0m\u001b[0;34m]\u001b[0m\u001b[0;34m[\u001b[0m\u001b[0mgroups\u001b[0m\u001b[0;34m.\u001b[0m\u001b[0mindices\u001b[0m\u001b[0;34m[\u001b[0m\u001b[0mi\u001b[0m\u001b[0;34m]\u001b[0m\u001b[0;34m]\u001b[0m\u001b[0;34m\u001b[0m\u001b[0m\n\u001b[0m\u001b[1;32m    421\u001b[0m         \u001b[0mt_\u001b[0m \u001b[0;34m=\u001b[0m \u001b[0mdf_\u001b[0m\u001b[0;34m[\u001b[0m\u001b[0;34m't'\u001b[0m\u001b[0;34m]\u001b[0m\u001b[0;34m[\u001b[0m\u001b[0mgroups\u001b[0m\u001b[0;34m.\u001b[0m\u001b[0mindices\u001b[0m\u001b[0;34m[\u001b[0m\u001b[0mi\u001b[0m\u001b[0;34m]\u001b[0m\u001b[0;34m]\u001b[0m\u001b[0;34m\u001b[0m\u001b[0m\n\u001b[1;32m    422\u001b[0m         \u001b[0;31m# std_ = np.std(df_['m'][groups.indices[i]])\u001b[0m\u001b[0;34m\u001b[0m\u001b[0;34m\u001b[0m\u001b[0m\n",
      "\u001b[0;32m/Users/Research/Library/Enthought/Canopy_64bit/User/lib/python2.7/site-packages/pandas/core/series.pyc\u001b[0m in \u001b[0;36m__getitem__\u001b[0;34m(self, key)\u001b[0m\n\u001b[1;32m    909\u001b[0m             \u001b[0mkey\u001b[0m \u001b[0;34m=\u001b[0m \u001b[0mcheck_bool_indexer\u001b[0m\u001b[0;34m(\u001b[0m\u001b[0mself\u001b[0m\u001b[0;34m.\u001b[0m\u001b[0mindex\u001b[0m\u001b[0;34m,\u001b[0m \u001b[0mkey\u001b[0m\u001b[0;34m)\u001b[0m\u001b[0;34m\u001b[0m\u001b[0m\n\u001b[1;32m    910\u001b[0m \u001b[0;34m\u001b[0m\u001b[0m\n\u001b[0;32m--> 911\u001b[0;31m         \u001b[0;32mreturn\u001b[0m \u001b[0mself\u001b[0m\u001b[0;34m.\u001b[0m\u001b[0m_get_with\u001b[0m\u001b[0;34m(\u001b[0m\u001b[0mkey\u001b[0m\u001b[0;34m)\u001b[0m\u001b[0;34m\u001b[0m\u001b[0m\n\u001b[0m\u001b[1;32m    912\u001b[0m \u001b[0;34m\u001b[0m\u001b[0m\n\u001b[1;32m    913\u001b[0m     \u001b[0;32mdef\u001b[0m \u001b[0m_get_with\u001b[0m\u001b[0;34m(\u001b[0m\u001b[0mself\u001b[0m\u001b[0;34m,\u001b[0m \u001b[0mkey\u001b[0m\u001b[0;34m)\u001b[0m\u001b[0;34m:\u001b[0m\u001b[0;34m\u001b[0m\u001b[0m\n",
      "\u001b[0;32m/Users/Research/Library/Enthought/Canopy_64bit/User/lib/python2.7/site-packages/pandas/core/series.pyc\u001b[0m in \u001b[0;36m_get_with\u001b[0;34m(self, key)\u001b[0m\n\u001b[1;32m    940\u001b[0m         \u001b[0;32mif\u001b[0m \u001b[0mkey_type\u001b[0m \u001b[0;34m==\u001b[0m \u001b[0;34m'integer'\u001b[0m\u001b[0;34m:\u001b[0m\u001b[0;34m\u001b[0m\u001b[0m\n\u001b[1;32m    941\u001b[0m             \u001b[0;32mif\u001b[0m \u001b[0mself\u001b[0m\u001b[0;34m.\u001b[0m\u001b[0mindex\u001b[0m\u001b[0;34m.\u001b[0m\u001b[0mis_integer\u001b[0m\u001b[0;34m(\u001b[0m\u001b[0;34m)\u001b[0m \u001b[0;32mor\u001b[0m \u001b[0mself\u001b[0m\u001b[0;34m.\u001b[0m\u001b[0mindex\u001b[0m\u001b[0;34m.\u001b[0m\u001b[0mis_floating\u001b[0m\u001b[0;34m(\u001b[0m\u001b[0;34m)\u001b[0m\u001b[0;34m:\u001b[0m\u001b[0;34m\u001b[0m\u001b[0m\n\u001b[0;32m--> 942\u001b[0;31m                 \u001b[0;32mreturn\u001b[0m \u001b[0mself\u001b[0m\u001b[0;34m.\u001b[0m\u001b[0mloc\u001b[0m\u001b[0;34m[\u001b[0m\u001b[0mkey\u001b[0m\u001b[0;34m]\u001b[0m\u001b[0;34m\u001b[0m\u001b[0m\n\u001b[0m\u001b[1;32m    943\u001b[0m             \u001b[0;32melse\u001b[0m\u001b[0;34m:\u001b[0m\u001b[0;34m\u001b[0m\u001b[0m\n\u001b[1;32m    944\u001b[0m                 \u001b[0;32mreturn\u001b[0m \u001b[0mself\u001b[0m\u001b[0;34m.\u001b[0m\u001b[0m_get_values\u001b[0m\u001b[0;34m(\u001b[0m\u001b[0mkey\u001b[0m\u001b[0;34m)\u001b[0m\u001b[0;34m\u001b[0m\u001b[0m\n",
      "\u001b[0;32m/Users/Research/Library/Enthought/Canopy_64bit/User/lib/python2.7/site-packages/pandas/core/indexing.pyc\u001b[0m in \u001b[0;36m__getitem__\u001b[0;34m(self, key)\u001b[0m\n\u001b[1;32m   1498\u001b[0m \u001b[0;34m\u001b[0m\u001b[0m\n\u001b[1;32m   1499\u001b[0m             \u001b[0mmaybe_callable\u001b[0m \u001b[0;34m=\u001b[0m \u001b[0mcom\u001b[0m\u001b[0;34m.\u001b[0m\u001b[0mapply_if_callable\u001b[0m\u001b[0;34m(\u001b[0m\u001b[0mkey\u001b[0m\u001b[0;34m,\u001b[0m \u001b[0mself\u001b[0m\u001b[0;34m.\u001b[0m\u001b[0mobj\u001b[0m\u001b[0;34m)\u001b[0m\u001b[0;34m\u001b[0m\u001b[0m\n\u001b[0;32m-> 1500\u001b[0;31m             \u001b[0;32mreturn\u001b[0m \u001b[0mself\u001b[0m\u001b[0;34m.\u001b[0m\u001b[0m_getitem_axis\u001b[0m\u001b[0;34m(\u001b[0m\u001b[0mmaybe_callable\u001b[0m\u001b[0;34m,\u001b[0m \u001b[0maxis\u001b[0m\u001b[0;34m=\u001b[0m\u001b[0maxis\u001b[0m\u001b[0;34m)\u001b[0m\u001b[0;34m\u001b[0m\u001b[0m\n\u001b[0m\u001b[1;32m   1501\u001b[0m \u001b[0;34m\u001b[0m\u001b[0m\n\u001b[1;32m   1502\u001b[0m     \u001b[0;32mdef\u001b[0m \u001b[0m_is_scalar_access\u001b[0m\u001b[0;34m(\u001b[0m\u001b[0mself\u001b[0m\u001b[0;34m,\u001b[0m \u001b[0mkey\u001b[0m\u001b[0;34m)\u001b[0m\u001b[0;34m:\u001b[0m\u001b[0;34m\u001b[0m\u001b[0m\n",
      "\u001b[0;32m/Users/Research/Library/Enthought/Canopy_64bit/User/lib/python2.7/site-packages/pandas/core/indexing.pyc\u001b[0m in \u001b[0;36m_getitem_axis\u001b[0;34m(self, key, axis)\u001b[0m\n\u001b[1;32m   1900\u001b[0m                     \u001b[0;32mraise\u001b[0m \u001b[0mValueError\u001b[0m\u001b[0;34m(\u001b[0m\u001b[0;34m'Cannot index with multidimensional key'\u001b[0m\u001b[0;34m)\u001b[0m\u001b[0;34m\u001b[0m\u001b[0m\n\u001b[1;32m   1901\u001b[0m \u001b[0;34m\u001b[0m\u001b[0m\n\u001b[0;32m-> 1902\u001b[0;31m                 \u001b[0;32mreturn\u001b[0m \u001b[0mself\u001b[0m\u001b[0;34m.\u001b[0m\u001b[0m_getitem_iterable\u001b[0m\u001b[0;34m(\u001b[0m\u001b[0mkey\u001b[0m\u001b[0;34m,\u001b[0m \u001b[0maxis\u001b[0m\u001b[0;34m=\u001b[0m\u001b[0maxis\u001b[0m\u001b[0;34m)\u001b[0m\u001b[0;34m\u001b[0m\u001b[0m\n\u001b[0m\u001b[1;32m   1903\u001b[0m \u001b[0;34m\u001b[0m\u001b[0m\n\u001b[1;32m   1904\u001b[0m             \u001b[0;31m# nested tuple slicing\u001b[0m\u001b[0;34m\u001b[0m\u001b[0;34m\u001b[0m\u001b[0m\n",
      "\u001b[0;32m/Users/Research/Library/Enthought/Canopy_64bit/User/lib/python2.7/site-packages/pandas/core/indexing.pyc\u001b[0m in \u001b[0;36m_getitem_iterable\u001b[0;34m(self, key, axis)\u001b[0m\n\u001b[1;32m   1205\u001b[0m                                                          raise_missing=False)\n\u001b[1;32m   1206\u001b[0m             return self.obj._reindex_with_indexers({axis: [keyarr, indexer]},\n\u001b[0;32m-> 1207\u001b[0;31m                                                    copy=True, allow_dups=True)\n\u001b[0m\u001b[1;32m   1208\u001b[0m \u001b[0;34m\u001b[0m\u001b[0m\n\u001b[1;32m   1209\u001b[0m     \u001b[0;32mdef\u001b[0m \u001b[0m_validate_read_indexer\u001b[0m\u001b[0;34m(\u001b[0m\u001b[0mself\u001b[0m\u001b[0;34m,\u001b[0m \u001b[0mkey\u001b[0m\u001b[0;34m,\u001b[0m \u001b[0mindexer\u001b[0m\u001b[0;34m,\u001b[0m \u001b[0maxis\u001b[0m\u001b[0;34m,\u001b[0m \u001b[0mraise_missing\u001b[0m\u001b[0;34m=\u001b[0m\u001b[0mFalse\u001b[0m\u001b[0;34m)\u001b[0m\u001b[0;34m:\u001b[0m\u001b[0;34m\u001b[0m\u001b[0m\n",
      "\u001b[0;32m/Users/Research/Library/Enthought/Canopy_64bit/User/lib/python2.7/site-packages/pandas/core/generic.pyc\u001b[0m in \u001b[0;36m_reindex_with_indexers\u001b[0;34m(self, reindexers, fill_value, copy, allow_dups)\u001b[0m\n\u001b[1;32m   4488\u001b[0m                                                 \u001b[0mfill_value\u001b[0m\u001b[0;34m=\u001b[0m\u001b[0mfill_value\u001b[0m\u001b[0;34m,\u001b[0m\u001b[0;34m\u001b[0m\u001b[0m\n\u001b[1;32m   4489\u001b[0m                                                 \u001b[0mallow_dups\u001b[0m\u001b[0;34m=\u001b[0m\u001b[0mallow_dups\u001b[0m\u001b[0;34m,\u001b[0m\u001b[0;34m\u001b[0m\u001b[0m\n\u001b[0;32m-> 4490\u001b[0;31m                                                 copy=copy)\n\u001b[0m\u001b[1;32m   4491\u001b[0m \u001b[0;34m\u001b[0m\u001b[0m\n\u001b[1;32m   4492\u001b[0m         \u001b[0;32mif\u001b[0m \u001b[0mcopy\u001b[0m \u001b[0;32mand\u001b[0m \u001b[0mnew_data\u001b[0m \u001b[0;32mis\u001b[0m \u001b[0mself\u001b[0m\u001b[0;34m.\u001b[0m\u001b[0m_data\u001b[0m\u001b[0;34m:\u001b[0m\u001b[0;34m\u001b[0m\u001b[0m\n",
      "\u001b[0;32m/Users/Research/Library/Enthought/Canopy_64bit/User/lib/python2.7/site-packages/pandas/core/internals/managers.pyc\u001b[0m in \u001b[0;36mreindex_indexer\u001b[0;34m(self, new_axis, indexer, axis, fill_value, allow_dups, copy)\u001b[0m\n\u001b[1;32m   1229\u001b[0m         \u001b[0;32mif\u001b[0m \u001b[0maxis\u001b[0m \u001b[0;34m==\u001b[0m \u001b[0;36m0\u001b[0m\u001b[0;34m:\u001b[0m\u001b[0;34m\u001b[0m\u001b[0m\n\u001b[1;32m   1230\u001b[0m             new_blocks = self._slice_take_blocks_ax0(indexer,\n\u001b[0;32m-> 1231\u001b[0;31m                                                      fill_tuple=(fill_value,))\n\u001b[0m\u001b[1;32m   1232\u001b[0m         \u001b[0;32melse\u001b[0m\u001b[0;34m:\u001b[0m\u001b[0;34m\u001b[0m\u001b[0m\n\u001b[1;32m   1233\u001b[0m             new_blocks = [blk.take_nd(indexer, axis=axis, fill_tuple=(\n",
      "\u001b[0;32m/Users/Research/Library/Enthought/Canopy_64bit/User/lib/python2.7/site-packages/pandas/core/internals/managers.pyc\u001b[0m in \u001b[0;36m_slice_take_blocks_ax0\u001b[0;34m(self, slice_or_indexer, fill_tuple)\u001b[0m\n\u001b[1;32m   1268\u001b[0m                 return [blk.take_nd(slobj, axis=0,\n\u001b[1;32m   1269\u001b[0m                                     \u001b[0mnew_mgr_locs\u001b[0m\u001b[0;34m=\u001b[0m\u001b[0mslice\u001b[0m\u001b[0;34m(\u001b[0m\u001b[0;36m0\u001b[0m\u001b[0;34m,\u001b[0m \u001b[0msllen\u001b[0m\u001b[0;34m)\u001b[0m\u001b[0;34m,\u001b[0m\u001b[0;34m\u001b[0m\u001b[0m\n\u001b[0;32m-> 1270\u001b[0;31m                                     fill_tuple=fill_tuple)]\n\u001b[0m\u001b[1;32m   1271\u001b[0m \u001b[0;34m\u001b[0m\u001b[0m\n\u001b[1;32m   1272\u001b[0m         \u001b[0;32mif\u001b[0m \u001b[0msl_type\u001b[0m \u001b[0;32min\u001b[0m \u001b[0;34m(\u001b[0m\u001b[0;34m'slice'\u001b[0m\u001b[0;34m,\u001b[0m \u001b[0;34m'mask'\u001b[0m\u001b[0;34m)\u001b[0m\u001b[0;34m:\u001b[0m\u001b[0;34m\u001b[0m\u001b[0m\n",
      "\u001b[0;32m/Users/Research/Library/Enthought/Canopy_64bit/User/lib/python2.7/site-packages/pandas/core/internals/blocks.pyc\u001b[0m in \u001b[0;36mtake_nd\u001b[0;34m(self, indexer, axis, new_mgr_locs, fill_tuple)\u001b[0m\n\u001b[1;32m   1236\u001b[0m             \u001b[0mfill_value\u001b[0m \u001b[0;34m=\u001b[0m \u001b[0mfill_tuple\u001b[0m\u001b[0;34m[\u001b[0m\u001b[0;36m0\u001b[0m\u001b[0;34m]\u001b[0m\u001b[0;34m\u001b[0m\u001b[0m\n\u001b[1;32m   1237\u001b[0m             new_values = algos.take_nd(values, indexer, axis=axis,\n\u001b[0;32m-> 1238\u001b[0;31m                                        allow_fill=True, fill_value=fill_value)\n\u001b[0m\u001b[1;32m   1239\u001b[0m \u001b[0;34m\u001b[0m\u001b[0m\n\u001b[1;32m   1240\u001b[0m         \u001b[0;32mif\u001b[0m \u001b[0mnew_mgr_locs\u001b[0m \u001b[0;32mis\u001b[0m \u001b[0mNone\u001b[0m\u001b[0;34m:\u001b[0m\u001b[0;34m\u001b[0m\u001b[0m\n",
      "\u001b[0;32m/Users/Research/Library/Enthought/Canopy_64bit/User/lib/python2.7/site-packages/pandas/core/algorithms.pyc\u001b[0m in \u001b[0;36mtake_nd\u001b[0;34m(arr, indexer, axis, out, fill_value, mask_info, allow_fill)\u001b[0m\n\u001b[1;32m   1586\u001b[0m     \u001b[0;32melif\u001b[0m \u001b[0mis_datetime64tz_dtype\u001b[0m\u001b[0;34m(\u001b[0m\u001b[0marr\u001b[0m\u001b[0;34m)\u001b[0m\u001b[0;34m:\u001b[0m\u001b[0;34m\u001b[0m\u001b[0m\n\u001b[1;32m   1587\u001b[0m         \u001b[0;32mreturn\u001b[0m \u001b[0marr\u001b[0m\u001b[0;34m.\u001b[0m\u001b[0mtake\u001b[0m\u001b[0;34m(\u001b[0m\u001b[0mindexer\u001b[0m\u001b[0;34m,\u001b[0m \u001b[0mfill_value\u001b[0m\u001b[0;34m=\u001b[0m\u001b[0mfill_value\u001b[0m\u001b[0;34m,\u001b[0m \u001b[0mallow_fill\u001b[0m\u001b[0;34m=\u001b[0m\u001b[0mallow_fill\u001b[0m\u001b[0;34m)\u001b[0m\u001b[0;34m\u001b[0m\u001b[0m\n\u001b[0;32m-> 1588\u001b[0;31m     \u001b[0;32melif\u001b[0m \u001b[0mis_interval_dtype\u001b[0m\u001b[0;34m(\u001b[0m\u001b[0marr\u001b[0m\u001b[0;34m)\u001b[0m\u001b[0;34m:\u001b[0m\u001b[0;34m\u001b[0m\u001b[0m\n\u001b[0m\u001b[1;32m   1589\u001b[0m         \u001b[0;32mreturn\u001b[0m \u001b[0marr\u001b[0m\u001b[0;34m.\u001b[0m\u001b[0mtake\u001b[0m\u001b[0;34m(\u001b[0m\u001b[0mindexer\u001b[0m\u001b[0;34m,\u001b[0m \u001b[0mfill_value\u001b[0m\u001b[0;34m=\u001b[0m\u001b[0mfill_value\u001b[0m\u001b[0;34m,\u001b[0m \u001b[0mallow_fill\u001b[0m\u001b[0;34m=\u001b[0m\u001b[0mallow_fill\u001b[0m\u001b[0;34m)\u001b[0m\u001b[0;34m\u001b[0m\u001b[0m\n\u001b[1;32m   1590\u001b[0m \u001b[0;34m\u001b[0m\u001b[0m\n",
      "\u001b[0;32m/Users/Research/Library/Enthought/Canopy_64bit/User/lib/python2.7/site-packages/pandas/core/dtypes/common.pyc\u001b[0m in \u001b[0;36mis_interval_dtype\u001b[0;34m(arr_or_dtype)\u001b[0m\n\u001b[1;32m    567\u001b[0m     \u001b[0;32mif\u001b[0m \u001b[0marr_or_dtype\u001b[0m \u001b[0;32mis\u001b[0m \u001b[0mNone\u001b[0m\u001b[0;34m:\u001b[0m\u001b[0;34m\u001b[0m\u001b[0m\n\u001b[1;32m    568\u001b[0m         \u001b[0;32mreturn\u001b[0m \u001b[0mFalse\u001b[0m\u001b[0;34m\u001b[0m\u001b[0m\n\u001b[0;32m--> 569\u001b[0;31m     \u001b[0;32mreturn\u001b[0m \u001b[0mIntervalDtype\u001b[0m\u001b[0;34m.\u001b[0m\u001b[0mis_dtype\u001b[0m\u001b[0;34m(\u001b[0m\u001b[0marr_or_dtype\u001b[0m\u001b[0;34m)\u001b[0m\u001b[0;34m\u001b[0m\u001b[0m\n\u001b[0m\u001b[1;32m    570\u001b[0m \u001b[0;34m\u001b[0m\u001b[0m\n\u001b[1;32m    571\u001b[0m \u001b[0;34m\u001b[0m\u001b[0m\n",
      "\u001b[0;31mKeyboardInterrupt\u001b[0m: "
     ]
    }
   ],
   "source": [
    "# Trying it on all light curves of the large sample of data challenge light curves\n",
    "\n",
    "direc_selected.sort()\n",
    "result_n = {'name':[], 't':[], 'A':[], 'Aerr':[], 'params_1':[], 'deviations': [], 'n_deviations': [], 'params_2':[],'chisqr1_tot':[], 'chisqr2_tot':[]}\n",
    "for f in tqdm(direc_selected):\n",
    "    \n",
    "    if f.endswith('.txt') and f.split('_')[2].startswith('W'):\n",
    "        \n",
    "        try:\n",
    "            t,m,e = np.loadtxt(temp_dir+str(f),unpack=True)\n",
    "\n",
    "            df, baseline, event, it0, dt = prepare(t,m,e)\n",
    "\n",
    "            init = initial_guess_finder (df['t'], df['A'])\n",
    "\n",
    "            PSPL_final_params, PSPL_chisqr = PSPL_fitter_scipy (df['t'], df['A'], df['A_err'], init)\n",
    "            \n",
    "            df['A_residual'], peaks = PSPL_residual (df['t'], df['A'], PSPL_final_params)\n",
    "            \n",
    "            Gaussian_final_params = Gaussian_fitter_lmfit (df['t'], df['A'], PSPL_final_params)\n",
    "            \n",
    "            final_params, final_chisqr = PSPL_Gaussian_fitter_lmfit (df['t'], df['A'], df['A_err'], PSPL_final_params, Gaussian_final_params)\n",
    "            \n",
    "            result_n['name'].append(f)\n",
    "            result_n['t'].append(df['t'])\n",
    "            result_n['A'].append(df['A'])\n",
    "            result_n['Aerr'].append(df['A_err'])\n",
    "            result_n['params_1'].append(PSPL_final_params)\n",
    "            result_n['deviations'].append(peaks)\n",
    "            result_n['n_deviations'].append(len(peaks))\n",
    "            result_n['params_2'].append(final_params)\n",
    "            result_n['chisqr1_tot'].append(PSPL_chisqr)\n",
    "            result_n['chisqr2_tot'].append(final_chisqr)\n",
    "        \n",
    "        except (RuntimeError, TypeError, NameError, ValueError):\n",
    "            \n",
    "            traceback.print_exc()\n",
    "            pass\n",
    "        \n",
    "\n",
    "\n",
    "print 'done'"
   ]
  },
  {
   "cell_type": "code",
   "execution_count": 374,
   "metadata": {
    "collapsed": false
   },
   "outputs": [
    {
     "name": "stdout",
     "output_type": "stream",
     "text": [
      "ulwdc1_230_W149.txt\n",
      "45054.60484001483 40770.064252107935\n",
      "3.0\n"
     ]
    },
    {
     "data": {
      "image/png": "[encoded data removed]",
      "text/plain": [
       "<matplotlib.figure.Figure at 0x1190b9750>"
      ]
     },
     "metadata": {},
     "output_type": "display_data"
    }
   ],
   "source": [
    "# Testing individual results \n",
    "\n",
    "i = 227\n",
    "dtt =200\n",
    "print result_n['name'][i]\n",
    "\n",
    "plt.plot(result_n['t'][i]-2458234,result_n['A'][i],'b.', markersize=25, label='Lightcurve Data')\n",
    "plt.plot(result_n['t'][i]-2458234,PSPL_Gaussian(result_n['params_2'][i][0],result_n['params_2'][i][1],result_n['params_2'][i][2],\n",
    "                                       result_n['params_2'][i][3],result_n['params_2'][i][4], result_n['params_2'][i][5],\n",
    "                                       result_n['params_2'][i][6], df['t']),\n",
    "        'r.', markersize=10, label='PSPL+Gaussian Fit')\n",
    "\n",
    "plt.ylabel('Magnification', size=25)\n",
    "plt.xlabel('Time - 2458234', size=25)\n",
    "plt.title('PSPL+Gaussian Fit',size=25)\n",
    "\n",
    "plt.xlim(result_n['params_2'][i][3]-2458234-dtt,result_n['params_2'][i][3]-2458234+dtt)\n",
    "#plt.xlim(100,300)\n",
    "plt.legend(loc=2,fontsize=20)\n",
    "\n",
    "plt.xticks(fontsize=20)\n",
    "plt.yticks(fontsize=20)\n",
    "plt.axvline(result_n['params_2'][i][0]-2458234, color='k')\n",
    "plt.axvline(result_n['params_2'][i][3]-2458234, color = 'g')\n",
    "\n",
    "\n",
    "print result_n['chisqr1_tot'][i], result_n['chisqr2_tot'][i]\n",
    "print info.type[5]\n",
    "\n",
    "fig = plt.gcf()\n",
    "fig.set_size_inches(15.0,12.0)"
   ]
  },
  {
   "cell_type": "code",
   "execution_count": 302,
   "metadata": {
    "collapsed": false
   },
   "outputs": [
    {
     "data": {
      "image/png": "[encoded data removed]",
      "text/plain": [
       "<matplotlib.figure.Figure at 0x118331110>"
      ]
     },
     "metadata": {},
     "output_type": "display_data"
    }
   ],
   "source": [
    "plt.hist(info.sub_chi2_par[info['type']==0], bins = np.logspace(-1,8,20), alpha=0.5, label = 'CV')\n",
    "plt.hist(info.sub_chi2_par[info['type']==1], bins = np.logspace(-1,8,20), alpha=0.5, label = 'Binary')\n",
    "plt.hist(info.sub_chi2_par[info['type']==2], bins = np.logspace(-1,8,20), alpha=0.5, label = 'Planetary')\n",
    "plt.hist(info.sub_chi2_par[info['type']==3], bins = np.logspace(-1,8,20), alpha=0.5, label = 'PSPL')\n",
    "\n",
    "plt.legend()\n",
    "\n",
    "\n",
    "plt.xscale('log')\n",
    "\n",
    "fig = plt.gcf()\n",
    "fig.set_size_inches(15.0,12.0)"
   ]
  },
  {
   "cell_type": "code",
   "execution_count": 342,
   "metadata": {
    "collapsed": true
   },
   "outputs": [],
   "source": [
    "# Read in true information of the data challenge light curves\n",
    "\n",
    "info = pd.read_csv('data_info.csv')\n",
    "info = info.drop(info.index[0])"
   ]
  },
  {
   "cell_type": "code",
   "execution_count": 343,
   "metadata": {
    "collapsed": true
   },
   "outputs": [],
   "source": [
    "# Saving the number of light curves containing specific classes\n",
    "\n",
    "type0 = float(len(info[info['type']==0])) #dcc\n",
    "type1 = float(len(info[info['type']==1])) #Binary-lens\n",
    "type2 = float(len(info[info['type']==2])) # Planetary\n",
    "type3 = float(len(info[info['type']==3])) # PSPL/FFP"
   ]
  },
  {
   "cell_type": "code",
   "execution_count": 666,
   "metadata": {
    "collapsed": false
   },
   "outputs": [],
   "source": [
    "# Adding the test results to the information Data Frame\n",
    "\n",
    "\n",
    "info['chisqr1_tot'] = np.zeros(len(info))\n",
    "info['chisqr2_tot'] = np.zeros(len(info))\n",
    "\n",
    "\n",
    "info['tE_exp'] = np.zeros(len(info))\n",
    "info['t0_exp'] = np.zeros(len(info))\n",
    "info['u0_exp'] = np.zeros(len(info))\n",
    "info['tp_exp'] = np.zeros(len(info))\n",
    "info['tEp_exp'] = np.zeros(len(info))\n",
    "info['am_exp'] = np.zeros(len(info))\n",
    "info['fs_exp'] = np.zeros(len(info))\n",
    "\n",
    "\n",
    "for i in range(len(result_n['A'])):\n",
    "    \n",
    "    \n",
    "    \n",
    "#     info.set_value(j+1,'tE_exp', result_n['params_2'][j][4])\n",
    "#     info.set_value(j+1,'t0_exp', result_n['params_2'][j][3]-2458234)\n",
    "#     info.set_value(j+1, 'u0_exp', result_n['params_2'][j][5])\n",
    "#     info.set_value (j+1, 'tp_exp',  result_n['params_2'][j][0]-2458234)\n",
    "#     info.set_value(j+1, 'tEp_exp', result_n['params_2'][j][1])\n",
    "#     info.set_value(j+1, 'am_exp', result_n['params_2'][j][2])\n",
    "#     info.set_value(j+1, 'fs_exp', result_n['params_2'][j][6])\n",
    "#     info.set_value(j+1, 'chisqr1_tot', result_n['chisqr1_tot'][j])\n",
    "#     info.set_value(j+1, 'chisqr2_tot', result_n['chisqr2_tot'][j])\n",
    "    \n",
    "    info.loc[info.name == result_n['name'][i],'tE_exp'] = result_n['params_2'][i][4]\n",
    "    info.loc[info.name == result_n['name'][i],'t0_exp'] = result_n['params_2'][i][3]-2458234\n",
    "    info.loc[info.name == result_n['name'][i],'u0_exp'] = result_n['params_2'][i][5]\n",
    "    info.loc[info.name == result_n['name'][i],'tp_exp'] = result_n['params_2'][i][0]-2458234\n",
    "    info.loc[info.name == result_n['name'][i], 'tEp_exp'] = result_n['params_2'][i][1]\n",
    "    info.loc[info.name == result_n['name'][i], 'am_exp'] = result_n['params_2'][i][2]\n",
    "    info.loc[info.name == result_n['name'][i], 'fs_exp'] = result_n['params_2'][i][6]\n",
    "#     info.loc[info.name == result['name'][i], 'fb_PSPL'] = result['fb_PSPL'][i].value\n",
    "    info.loc[info.name == result_n['name'][i], 'chisqr1_tot'] = result_n['chisqr1_tot'][i]\n",
    "    info.loc[info.name == result_n['name'][i], 'chisqr2_tot'] = result_n['chisqr2_tot'][i]\n",
    "\n",
    "    "
   ]
  },
  {
   "cell_type": "code",
   "execution_count": 667,
   "metadata": {
    "collapsed": true
   },
   "outputs": [],
   "source": [
    "# Calculating the difference in chi square of the two fits\n",
    "\n",
    "info['sub_chi2_par'] = np.abs(info['chisqr1_tot']-info['chisqr2_tot'])#/ len(df['t'])"
   ]
  },
  {
   "cell_type": "code",
   "execution_count": 668,
   "metadata": {
    "collapsed": true
   },
   "outputs": [],
   "source": [
    "info2 = info.copy(deep=True)"
   ]
  },
  {
   "cell_type": "code",
   "execution_count": 308,
   "metadata": {
    "collapsed": true
   },
   "outputs": [],
   "source": [
    "info = info [(info.t0_exp-info.t0)<10]"
   ]
  },
  {
   "cell_type": "code",
   "execution_count": null,
   "metadata": {
    "collapsed": false
   },
   "outputs": [],
   "source": [
    "# Fitting chi suare 2 versus 1\n",
    "\n",
    "fig, axs = plt.subplots(2, 2, sharex=True, sharey=True)\n",
    "x = 's'\n",
    "y = 's_exp'\n",
    "c_x = 1#1./(38568-6)\n",
    "c_y = 1 #1./(38568-6)\n",
    "\n",
    "axs[0,0].plot((c_x*info[x][(info['type']==0)]),(c_y*info[y][(info['type']==0)]), '.',markersize=18, label= 'CV',color='r')\n",
    "axs[0,0].grid()\n",
    "axs[0,0].legend()\n",
    "axs[0,1].plot((c_x*info[x][(info['type']==1)]),(c_y*info[y][(info['type']==1)]), '.',markersize=18, label= 'Binary', color='g')\n",
    "axs[0,1].grid()\n",
    "axs[0,1].legend()\n",
    "axs[1,0].plot((c_x*info[x][(info['type']==2)]),(c_y*info[y][(info['type']==2)]), '.',markersize=18, label= 'Planetary',  color = 'orange')\n",
    "axs[1,0].plot((c_x*info[x][(info['type']==2)]),(c_y*info[x][(info['type']==2)]), 'k-',markersize=18)\n",
    "\n",
    "\n",
    "axs[1,0].grid()\n",
    "axs[1,0].legend()\n",
    "axs[1,1].plot((c_x*info[x][(info['type']==3)]),(c_y*info[y][(info['type']==3)]), '.',markersize=18, label= 'PSPL/FFP', color='blue')\n",
    "axs[1,1].grid()\n",
    "axs[1,1].legend()\n",
    "\n",
    "\n",
    "axs[0, 1].tick_params(axis='x',which='both', bottom='off', top='off',labelbottom='off')\n",
    "axs[0, 1].tick_params(axis='y',which='both', bottom='right', top='left',labelleft='off',length=0)\n",
    "\n",
    "axs[0, 0].tick_params(axis='y',which='both', labelsize=12)\n",
    "axs[1, 0].tick_params(axis='both',which='both', labelsize=12)\n",
    "axs[1, 1].tick_params(axis='x',which='both', labelsize=12)\n",
    "\n",
    "plt.yscale('log')\n",
    "plt.xscale('log')\n",
    "\n",
    "\n",
    "\n",
    "axs[0, 0].tick_params(axis='x',which='both', bottom='off', top='off',labelbottom='off')\n",
    "axs[1, 1].tick_params(axis='y',which='both', bottom='right', top='left',labelleft='off', length=0)\n",
    "\n",
    "xlim = (8e-1,1e4)\n",
    "ylim = (8e-1,1e4)\n",
    "\n",
    "# axs[0,0].set_ylim(ylim)\n",
    "# axs[0,0].set_xlim(xlim)\n",
    "# axs[0,1].set_ylim(ylim)\n",
    "# axs[0,1].set_xlim(xlim)\n",
    "# axs[1,0].set_ylim(ylim)\n",
    "# axs[1,0].set_xlim(xlim)\n",
    "# axs[1,1].set_ylim(ylim)\n",
    "# axs[1,1].set_xlim(xlim)\n",
    "\n",
    "plt.subplots_adjust(left=None, bottom=None, right=None, top=None,\n",
    "                    wspace=0.05, hspace=0.08) \n",
    "\n",
    "fig.text(0.5, 0.07, x, ha='center',size=30)\n",
    "fig.text(0.07, 0.5, y, va='center', rotation='vertical',size=30)\n",
    "\n",
    "fig = plt.gcf()\n",
    "fig.set_size_inches(20.0,15.0)\n",
    "#fig.savefig('a4-a2.png')"
   ]
  },
  {
   "cell_type": "code",
   "execution_count": 671,
   "metadata": {
    "collapsed": false
   },
   "outputs": [],
   "source": [
    "# Adding q values to the information table\n",
    "\n",
    "info['q_exp'] = (info['tEp_exp']/(2*info['tE_exp']))**2 \n",
    "info['q_exp_log'] = np.log10(info['q_exp'])\n",
    "info['q_log'] = np.log10(info['q'])\n",
    "\n",
    "info['tEp'] = np.sqrt(info.q + (info.rho)**2) * info.tE"
   ]
  },
  {
   "cell_type": "code",
   "execution_count": 672,
   "metadata": {
    "collapsed": false
   },
   "outputs": [
    {
     "name": "stderr",
     "output_type": "stream",
     "text": [
      "/Users/Research/Library/Enthought/Canopy_64bit/User/lib/python2.7/site-packages/ipykernel/__main__.py:8: SettingWithCopyWarning: \n",
      "A value is trying to be set on a copy of a slice from a DataFrame\n",
      "\n",
      "See the caveats in the documentation: http://pandas.pydata.org/pandas-docs/stable/indexing.html#indexing-view-versus-copy\n",
      "/Users/Research/Library/Enthought/Canopy_64bit/User/lib/python2.7/site-packages/ipykernel/__main__.py:9: SettingWithCopyWarning: \n",
      "A value is trying to be set on a copy of a slice from a DataFrame\n",
      "\n",
      "See the caveats in the documentation: http://pandas.pydata.org/pandas-docs/stable/indexing.html#indexing-view-versus-copy\n"
     ]
    }
   ],
   "source": [
    "# Adding s values to the information table\n",
    "\n",
    "info['xc_exp'] = np.sqrt(info['u0_exp']**2 + ((info['t0_exp']-info['tp_exp'])/(2*info['tE_exp']))**2)\n",
    "s1 = ( u + np.sqrt(4+ u**2))/2\n",
    "s2 = ( u - np.sqrt(4+ u**2))/2\n",
    "\n",
    "info['s_exp'] = np.zeros(len(info['type']))\n",
    "info['s_exp'][info.am_exp>0] = s1[info.am_exp>0]\n",
    "info['s_exp'][info.am_exp<0] = s2[info.am_exp<0]\n",
    "\n",
    "\n",
    "\n",
    "# for i in ((info['name'])):\n",
    "    \n",
    "#     if info['am_exp'][info.name] > 0:\n",
    "        \n",
    "#         info.set_value(i+1,'s_exp', s1[i+1])\n",
    "#     else:\n",
    "#         info.set_value(i+1,'s_exp', s2[i+1])\n",
    "\n",
    "info['s_exp_log'] = np.log10(info['s_exp'])\n",
    "info['s_log'] = np.log10(info['s'])"
   ]
  },
  {
   "cell_type": "code",
   "execution_count": 673,
   "metadata": {
    "collapsed": true
   },
   "outputs": [],
   "source": [
    "# Adding Xc values to the information table\n",
    "\n",
    "info['xc2']= ((1.0/info['s'])-info['s'])**2\n",
    "info['xc2_exp']= ((1.0/info['s_exp'])-info['s_exp'])**2"
   ]
  },
  {
   "cell_type": "code",
   "execution_count": 677,
   "metadata": {
    "collapsed": false
   },
   "outputs": [
    {
     "name": "stderr",
     "output_type": "stream",
     "text": [
      "/Users/Research/Library/Enthought/Canopy_64bit/User/lib/python2.7/site-packages/ipykernel/__main__.py:2: SettingWithCopyWarning: \n",
      "A value is trying to be set on a copy of a slice from a DataFrame\n",
      "\n",
      "See the caveats in the documentation: http://pandas.pydata.org/pandas-docs/stable/indexing.html#indexing-view-versus-copy\n",
      "  from ipykernel import kernelapp as app\n"
     ]
    }
   ],
   "source": [
    "info['tEp_exp_fixed'] = info['tEp_exp'].values\n",
    "info['tEp_exp_fixed'][info.tEp_exp == 3.0] = info['tE_exp'][info.tEp_exp == 3.0]"
   ]
  },
  {
   "cell_type": "markdown",
   "metadata": {},
   "source": [
    "# Fitting the PSPL+Gaussian to the large sample of data challenge light curves"
   ]
  },
  {
   "cell_type": "code",
   "execution_count": 4,
   "metadata": {
    "collapsed": true
   },
   "outputs": [],
   "source": [
    "# Path to the larger dataset\n",
    "home = os.path.expanduser(\"~\")\n",
    "\n",
    "temp = home+'/Library/Mobile Documents/com~apple~CloudDocs/Microlensing_Data_Challeng/data-challenge-1/alldclc/'#lc/'\n",
    "direc = os.listdir(temp)"
   ]
  },
  {
   "cell_type": "code",
   "execution_count": 8,
   "metadata": {
    "collapsed": false
   },
   "outputs": [
    {
     "name": "stderr",
     "output_type": "stream",
     "text": [
      "  0%|          | 0/9948 [00:00<?, ?it/s]/Users/Research/Library/Enthought/Canopy_64bit/User/lib/python2.7/site-packages/numpy/core/fromnumeric.py:52: FutureWarning: \n",
      "The current behaviour of 'Series.argmax' is deprecated, use 'idxmax'\n",
      "instead.\n",
      "The behavior of 'argmax' will be corrected to return the positional\n",
      "maximum in the future. For now, use 'series.values.argmax' or\n",
      "'np.argmax(np.array(values))' to get the position of the maximum\n",
      "row.\n",
      "  return getattr(obj, method)(*args, **kwds)\n",
      "/Users/Research/Library/Enthought/Canopy_64bit/User/lib/python2.7/site-packages/numpy/core/fromnumeric.py:52: FutureWarning: \n",
      "The current behaviour of 'Series.argmin' is deprecated, use 'idxmin'\n",
      "instead.\n",
      "The behavior of 'argmin' will be corrected to return the positional\n",
      "minimum in the future. For now, use 'series.values.argmin' or\n",
      "'np.argmin(np.array(values))' to get the position of the minimum\n",
      "row.\n",
      "  return getattr(obj, method)(*args, **kwds)\n",
      " 76%|███████▌  | 7526/9948 [12:49<04:07,  9.78it/s]Traceback (most recent call last):\n",
      "  File \"<ipython-input-8-13308a4645c2>\", line 27, in <module>\n",
      "    final_params, final_chisqr = PSPL_Gaussian_fitter_lmfit (df['t'], df['A'], df['A_err'], PSPL_final_params, Gaussian_final_params)\n",
      "  File \"Planetary_fits.py\", line 163, in PSPL_Gaussian_fitter_lmfit\n",
      "    result2 = minimize(PSPL_Gaussian_data, params2, args=(t, A))\n",
      "  File \"/Users/Research/Library/Enthought/Canopy_64bit/User/lib/python2.7/site-packages/lmfit/minimizer.py\", line 2300, in minimize\n",
      "    return fitter.minimize(method=method)\n",
      "  File \"/Users/Research/Library/Enthought/Canopy_64bit/User/lib/python2.7/site-packages/lmfit/minimizer.py\", line 1949, in minimize\n",
      "    return function(**kwargs)\n",
      "  File \"/Users/Research/Library/Enthought/Canopy_64bit/User/lib/python2.7/site-packages/lmfit/minimizer.py\", line 1492, in leastsq\n",
      "    lsout = scipy_leastsq(self.__residual, variables, **lskws)\n",
      "  File \"/Users/Research/Library/Enthought/Canopy_64bit/User/lib/python2.7/site-packages/scipy/optimize/minpack.py\", line 384, in leastsq\n",
      "    shape, dtype = _check_func('leastsq', 'func', func, x0, args, n)\n",
      "  File \"/Users/Research/Library/Enthought/Canopy_64bit/User/lib/python2.7/site-packages/scipy/optimize/minpack.py\", line 26, in _check_func\n",
      "    res = atleast_1d(thefunc(*((x0[:numinputs],) + args)))\n",
      "  File \"/Users/Research/Library/Enthought/Canopy_64bit/User/lib/python2.7/site-packages/lmfit/minimizer.py\", line 538, in __residual\n",
      "    nan_policy=self.nan_policy)\n",
      "  File \"/Users/Research/Library/Enthought/Canopy_64bit/User/lib/python2.7/site-packages/lmfit/minimizer.py\", line 2166, in _nan_policy\n",
      "    raise ValueError(\"The input contains nan values\")\n",
      "ValueError: The input contains nan values\n",
      " 76%|███████▌  | 7568/9948 [15:51<04:59,  7.95it/s]Traceback (most recent call last):\n",
      "  File \"<ipython-input-8-13308a4645c2>\", line 27, in <module>\n",
      "    final_params, final_chisqr = PSPL_Gaussian_fitter_lmfit (df['t'], df['A'], df['A_err'], PSPL_final_params, Gaussian_final_params)\n",
      "  File \"Planetary_fits.py\", line 163, in PSPL_Gaussian_fitter_lmfit\n",
      "    result2 = minimize(PSPL_Gaussian_data, params2, args=(t, A))\n",
      "  File \"/Users/Research/Library/Enthought/Canopy_64bit/User/lib/python2.7/site-packages/lmfit/minimizer.py\", line 2300, in minimize\n",
      "    return fitter.minimize(method=method)\n",
      "  File \"/Users/Research/Library/Enthought/Canopy_64bit/User/lib/python2.7/site-packages/lmfit/minimizer.py\", line 1949, in minimize\n",
      "    return function(**kwargs)\n",
      "  File \"/Users/Research/Library/Enthought/Canopy_64bit/User/lib/python2.7/site-packages/lmfit/minimizer.py\", line 1492, in leastsq\n",
      "    lsout = scipy_leastsq(self.__residual, variables, **lskws)\n",
      "  File \"/Users/Research/Library/Enthought/Canopy_64bit/User/lib/python2.7/site-packages/scipy/optimize/minpack.py\", line 384, in leastsq\n",
      "    shape, dtype = _check_func('leastsq', 'func', func, x0, args, n)\n",
      "  File \"/Users/Research/Library/Enthought/Canopy_64bit/User/lib/python2.7/site-packages/scipy/optimize/minpack.py\", line 26, in _check_func\n",
      "    res = atleast_1d(thefunc(*((x0[:numinputs],) + args)))\n",
      "  File \"/Users/Research/Library/Enthought/Canopy_64bit/User/lib/python2.7/site-packages/lmfit/minimizer.py\", line 538, in __residual\n",
      "    nan_policy=self.nan_policy)\n",
      "  File \"/Users/Research/Library/Enthought/Canopy_64bit/User/lib/python2.7/site-packages/lmfit/minimizer.py\", line 2166, in _nan_policy\n",
      "    raise ValueError(\"The input contains nan values\")\n",
      "ValueError: The input contains nan values\n",
      " 76%|███████▋  | 7606/9948 [17:53<05:30,  7.08it/s]Traceback (most recent call last):\n",
      "  File \"<ipython-input-8-13308a4645c2>\", line 27, in <module>\n",
      "    final_params, final_chisqr = PSPL_Gaussian_fitter_lmfit (df['t'], df['A'], df['A_err'], PSPL_final_params, Gaussian_final_params)\n",
      "  File \"Planetary_fits.py\", line 163, in PSPL_Gaussian_fitter_lmfit\n",
      "    result2 = minimize(PSPL_Gaussian_data, params2, args=(t, A))\n",
      "  File \"/Users/Research/Library/Enthought/Canopy_64bit/User/lib/python2.7/site-packages/lmfit/minimizer.py\", line 2300, in minimize\n",
      "    return fitter.minimize(method=method)\n",
      "  File \"/Users/Research/Library/Enthought/Canopy_64bit/User/lib/python2.7/site-packages/lmfit/minimizer.py\", line 1949, in minimize\n",
      "    return function(**kwargs)\n",
      "  File \"/Users/Research/Library/Enthought/Canopy_64bit/User/lib/python2.7/site-packages/lmfit/minimizer.py\", line 1492, in leastsq\n",
      "    lsout = scipy_leastsq(self.__residual, variables, **lskws)\n",
      "  File \"/Users/Research/Library/Enthought/Canopy_64bit/User/lib/python2.7/site-packages/scipy/optimize/minpack.py\", line 384, in leastsq\n",
      "    shape, dtype = _check_func('leastsq', 'func', func, x0, args, n)\n",
      "  File \"/Users/Research/Library/Enthought/Canopy_64bit/User/lib/python2.7/site-packages/scipy/optimize/minpack.py\", line 26, in _check_func\n",
      "    res = atleast_1d(thefunc(*((x0[:numinputs],) + args)))\n",
      "  File \"/Users/Research/Library/Enthought/Canopy_64bit/User/lib/python2.7/site-packages/lmfit/minimizer.py\", line 538, in __residual\n",
      "    nan_policy=self.nan_policy)\n",
      "  File \"/Users/Research/Library/Enthought/Canopy_64bit/User/lib/python2.7/site-packages/lmfit/minimizer.py\", line 2166, in _nan_policy\n",
      "    raise ValueError(\"The input contains nan values\")\n",
      "ValueError: The input contains nan values\n",
      " 77%|███████▋  | 7638/9948 [21:22<06:27,  5.96it/s]Traceback (most recent call last):\n",
      "  File \"<ipython-input-8-13308a4645c2>\", line 27, in <module>\n",
      "    final_params, final_chisqr = PSPL_Gaussian_fitter_lmfit (df['t'], df['A'], df['A_err'], PSPL_final_params, Gaussian_final_params)\n",
      "  File \"Planetary_fits.py\", line 163, in PSPL_Gaussian_fitter_lmfit\n",
      "    result2 = minimize(PSPL_Gaussian_data, params2, args=(t, A))\n",
      "  File \"/Users/Research/Library/Enthought/Canopy_64bit/User/lib/python2.7/site-packages/lmfit/minimizer.py\", line 2300, in minimize\n",
      "    return fitter.minimize(method=method)\n",
      "  File \"/Users/Research/Library/Enthought/Canopy_64bit/User/lib/python2.7/site-packages/lmfit/minimizer.py\", line 1949, in minimize\n",
      "    return function(**kwargs)\n",
      "  File \"/Users/Research/Library/Enthought/Canopy_64bit/User/lib/python2.7/site-packages/lmfit/minimizer.py\", line 1492, in leastsq\n",
      "    lsout = scipy_leastsq(self.__residual, variables, **lskws)\n",
      "  File \"/Users/Research/Library/Enthought/Canopy_64bit/User/lib/python2.7/site-packages/scipy/optimize/minpack.py\", line 384, in leastsq\n",
      "    shape, dtype = _check_func('leastsq', 'func', func, x0, args, n)\n",
      "  File \"/Users/Research/Library/Enthought/Canopy_64bit/User/lib/python2.7/site-packages/scipy/optimize/minpack.py\", line 26, in _check_func\n",
      "    res = atleast_1d(thefunc(*((x0[:numinputs],) + args)))\n",
      "  File \"/Users/Research/Library/Enthought/Canopy_64bit/User/lib/python2.7/site-packages/lmfit/minimizer.py\", line 538, in __residual\n",
      "    nan_policy=self.nan_policy)\n",
      "  File \"/Users/Research/Library/Enthought/Canopy_64bit/User/lib/python2.7/site-packages/lmfit/minimizer.py\", line 2166, in _nan_policy\n",
      "    raise ValueError(\"The input contains nan values\")\n",
      "ValueError: The input contains nan values\n",
      " 80%|███████▉  | 7924/9948 [39:48<10:10,  3.32it/s]Traceback (most recent call last):\n",
      "  File \"<ipython-input-8-13308a4645c2>\", line 27, in <module>\n",
      "    final_params, final_chisqr = PSPL_Gaussian_fitter_lmfit (df['t'], df['A'], df['A_err'], PSPL_final_params, Gaussian_final_params)\n",
      "  File \"Planetary_fits.py\", line 163, in PSPL_Gaussian_fitter_lmfit\n",
      "    result2 = minimize(PSPL_Gaussian_data, params2, args=(t, A))\n",
      "  File \"/Users/Research/Library/Enthought/Canopy_64bit/User/lib/python2.7/site-packages/lmfit/minimizer.py\", line 2300, in minimize\n",
      "    return fitter.minimize(method=method)\n",
      "  File \"/Users/Research/Library/Enthought/Canopy_64bit/User/lib/python2.7/site-packages/lmfit/minimizer.py\", line 1949, in minimize\n",
      "    return function(**kwargs)\n",
      "  File \"/Users/Research/Library/Enthought/Canopy_64bit/User/lib/python2.7/site-packages/lmfit/minimizer.py\", line 1492, in leastsq\n",
      "    lsout = scipy_leastsq(self.__residual, variables, **lskws)\n",
      "  File \"/Users/Research/Library/Enthought/Canopy_64bit/User/lib/python2.7/site-packages/scipy/optimize/minpack.py\", line 384, in leastsq\n",
      "    shape, dtype = _check_func('leastsq', 'func', func, x0, args, n)\n",
      "  File \"/Users/Research/Library/Enthought/Canopy_64bit/User/lib/python2.7/site-packages/scipy/optimize/minpack.py\", line 26, in _check_func\n",
      "    res = atleast_1d(thefunc(*((x0[:numinputs],) + args)))\n",
      "  File \"/Users/Research/Library/Enthought/Canopy_64bit/User/lib/python2.7/site-packages/lmfit/minimizer.py\", line 538, in __residual\n",
      "    nan_policy=self.nan_policy)\n",
      "  File \"/Users/Research/Library/Enthought/Canopy_64bit/User/lib/python2.7/site-packages/lmfit/minimizer.py\", line 2166, in _nan_policy\n",
      "    raise ValueError(\"The input contains nan values\")\n",
      "ValueError: The input contains nan values\n",
      " 82%|████████▏ | 8158/9948 [55:33<12:11,  2.45it/s]Traceback (most recent call last):\n",
      "  File \"<ipython-input-8-13308a4645c2>\", line 27, in <module>\n",
      "    final_params, final_chisqr = PSPL_Gaussian_fitter_lmfit (df['t'], df['A'], df['A_err'], PSPL_final_params, Gaussian_final_params)\n",
      "  File \"Planetary_fits.py\", line 163, in PSPL_Gaussian_fitter_lmfit\n",
      "    result2 = minimize(PSPL_Gaussian_data, params2, args=(t, A))\n",
      "  File \"/Users/Research/Library/Enthought/Canopy_64bit/User/lib/python2.7/site-packages/lmfit/minimizer.py\", line 2300, in minimize\n",
      "    return fitter.minimize(method=method)\n",
      "  File \"/Users/Research/Library/Enthought/Canopy_64bit/User/lib/python2.7/site-packages/lmfit/minimizer.py\", line 1949, in minimize\n",
      "    return function(**kwargs)\n",
      "  File \"/Users/Research/Library/Enthought/Canopy_64bit/User/lib/python2.7/site-packages/lmfit/minimizer.py\", line 1492, in leastsq\n",
      "    lsout = scipy_leastsq(self.__residual, variables, **lskws)\n",
      "  File \"/Users/Research/Library/Enthought/Canopy_64bit/User/lib/python2.7/site-packages/scipy/optimize/minpack.py\", line 384, in leastsq\n",
      "    shape, dtype = _check_func('leastsq', 'func', func, x0, args, n)\n",
      "  File \"/Users/Research/Library/Enthought/Canopy_64bit/User/lib/python2.7/site-packages/scipy/optimize/minpack.py\", line 26, in _check_func\n",
      "    res = atleast_1d(thefunc(*((x0[:numinputs],) + args)))\n",
      "  File \"/Users/Research/Library/Enthought/Canopy_64bit/User/lib/python2.7/site-packages/lmfit/minimizer.py\", line 538, in __residual\n",
      "    nan_policy=self.nan_policy)\n",
      "  File \"/Users/Research/Library/Enthought/Canopy_64bit/User/lib/python2.7/site-packages/lmfit/minimizer.py\", line 2166, in _nan_policy\n",
      "    raise ValueError(\"The input contains nan values\")\n",
      "ValueError: The input contains nan values\n",
      " 84%|████████▍ | 8402/9948 [1:08:53<12:40,  2.03it/s]Traceback (most recent call last):\n",
      "  File \"<ipython-input-8-13308a4645c2>\", line 27, in <module>\n",
      "    final_params, final_chisqr = PSPL_Gaussian_fitter_lmfit (df['t'], df['A'], df['A_err'], PSPL_final_params, Gaussian_final_params)\n",
      "  File \"Planetary_fits.py\", line 163, in PSPL_Gaussian_fitter_lmfit\n",
      "    result2 = minimize(PSPL_Gaussian_data, params2, args=(t, A))\n",
      "  File \"/Users/Research/Library/Enthought/Canopy_64bit/User/lib/python2.7/site-packages/lmfit/minimizer.py\", line 2300, in minimize\n",
      "    return fitter.minimize(method=method)\n",
      "  File \"/Users/Research/Library/Enthought/Canopy_64bit/User/lib/python2.7/site-packages/lmfit/minimizer.py\", line 1949, in minimize\n",
      "    return function(**kwargs)\n",
      "  File \"/Users/Research/Library/Enthought/Canopy_64bit/User/lib/python2.7/site-packages/lmfit/minimizer.py\", line 1492, in leastsq\n",
      "    lsout = scipy_leastsq(self.__residual, variables, **lskws)\n",
      "  File \"/Users/Research/Library/Enthought/Canopy_64bit/User/lib/python2.7/site-packages/scipy/optimize/minpack.py\", line 384, in leastsq\n",
      "    shape, dtype = _check_func('leastsq', 'func', func, x0, args, n)\n",
      "  File \"/Users/Research/Library/Enthought/Canopy_64bit/User/lib/python2.7/site-packages/scipy/optimize/minpack.py\", line 26, in _check_func\n",
      "    res = atleast_1d(thefunc(*((x0[:numinputs],) + args)))\n",
      "  File \"/Users/Research/Library/Enthought/Canopy_64bit/User/lib/python2.7/site-packages/lmfit/minimizer.py\", line 538, in __residual\n",
      "    nan_policy=self.nan_policy)\n",
      "  File \"/Users/Research/Library/Enthought/Canopy_64bit/User/lib/python2.7/site-packages/lmfit/minimizer.py\", line 2166, in _nan_policy\n",
      "    raise ValueError(\"The input contains nan values\")\n",
      "ValueError: The input contains nan values\n",
      " 88%|████████▊ | 8714/9948 [1:35:59<13:35,  1.51it/s]Traceback (most recent call last):\n",
      "  File \"<ipython-input-8-13308a4645c2>\", line 27, in <module>\n",
      "    final_params, final_chisqr = PSPL_Gaussian_fitter_lmfit (df['t'], df['A'], df['A_err'], PSPL_final_params, Gaussian_final_params)\n",
      "  File \"Planetary_fits.py\", line 163, in PSPL_Gaussian_fitter_lmfit\n",
      "    result2 = minimize(PSPL_Gaussian_data, params2, args=(t, A))\n",
      "  File \"/Users/Research/Library/Enthought/Canopy_64bit/User/lib/python2.7/site-packages/lmfit/minimizer.py\", line 2300, in minimize\n",
      "    return fitter.minimize(method=method)\n",
      "  File \"/Users/Research/Library/Enthought/Canopy_64bit/User/lib/python2.7/site-packages/lmfit/minimizer.py\", line 1949, in minimize\n",
      "    return function(**kwargs)\n",
      "  File \"/Users/Research/Library/Enthought/Canopy_64bit/User/lib/python2.7/site-packages/lmfit/minimizer.py\", line 1492, in leastsq\n",
      "    lsout = scipy_leastsq(self.__residual, variables, **lskws)\n",
      "  File \"/Users/Research/Library/Enthought/Canopy_64bit/User/lib/python2.7/site-packages/scipy/optimize/minpack.py\", line 384, in leastsq\n",
      "    shape, dtype = _check_func('leastsq', 'func', func, x0, args, n)\n",
      "  File \"/Users/Research/Library/Enthought/Canopy_64bit/User/lib/python2.7/site-packages/scipy/optimize/minpack.py\", line 26, in _check_func\n",
      "    res = atleast_1d(thefunc(*((x0[:numinputs],) + args)))\n",
      "  File \"/Users/Research/Library/Enthought/Canopy_64bit/User/lib/python2.7/site-packages/lmfit/minimizer.py\", line 538, in __residual\n",
      "    nan_policy=self.nan_policy)\n",
      "  File \"/Users/Research/Library/Enthought/Canopy_64bit/User/lib/python2.7/site-packages/lmfit/minimizer.py\", line 2166, in _nan_policy\n",
      "    raise ValueError(\"The input contains nan values\")\n",
      "ValueError: The input contains nan values\n",
      " 92%|█████████▏| 9184/9948 [2:15:54<11:18,  1.13it/s]Traceback (most recent call last):\n",
      "  File \"<ipython-input-8-13308a4645c2>\", line 27, in <module>\n",
      "    final_params, final_chisqr = PSPL_Gaussian_fitter_lmfit (df['t'], df['A'], df['A_err'], PSPL_final_params, Gaussian_final_params)\n",
      "  File \"Planetary_fits.py\", line 163, in PSPL_Gaussian_fitter_lmfit\n",
      "    result2 = minimize(PSPL_Gaussian_data, params2, args=(t, A))\n",
      "  File \"/Users/Research/Library/Enthought/Canopy_64bit/User/lib/python2.7/site-packages/lmfit/minimizer.py\", line 2300, in minimize\n",
      "    return fitter.minimize(method=method)\n",
      "  File \"/Users/Research/Library/Enthought/Canopy_64bit/User/lib/python2.7/site-packages/lmfit/minimizer.py\", line 1949, in minimize\n",
      "    return function(**kwargs)\n",
      "  File \"/Users/Research/Library/Enthought/Canopy_64bit/User/lib/python2.7/site-packages/lmfit/minimizer.py\", line 1492, in leastsq\n",
      "    lsout = scipy_leastsq(self.__residual, variables, **lskws)\n",
      "  File \"/Users/Research/Library/Enthought/Canopy_64bit/User/lib/python2.7/site-packages/scipy/optimize/minpack.py\", line 384, in leastsq\n",
      "    shape, dtype = _check_func('leastsq', 'func', func, x0, args, n)\n",
      "  File \"/Users/Research/Library/Enthought/Canopy_64bit/User/lib/python2.7/site-packages/scipy/optimize/minpack.py\", line 26, in _check_func\n",
      "    res = atleast_1d(thefunc(*((x0[:numinputs],) + args)))\n",
      "  File \"/Users/Research/Library/Enthought/Canopy_64bit/User/lib/python2.7/site-packages/lmfit/minimizer.py\", line 538, in __residual\n",
      "    nan_policy=self.nan_policy)\n",
      "  File \"/Users/Research/Library/Enthought/Canopy_64bit/User/lib/python2.7/site-packages/lmfit/minimizer.py\", line 2166, in _nan_policy\n",
      "    raise ValueError(\"The input contains nan values\")\n",
      "ValueError: The input contains nan values\n",
      "100%|██████████| 9948/9948 [2:24:43<00:00,  1.15it/s]"
     ]
    },
    {
     "name": "stdout",
     "output_type": "stream",
     "text": [
      "done\n"
     ]
    },
    {
     "name": "stderr",
     "output_type": "stream",
     "text": [
      "\n"
     ]
    }
   ],
   "source": [
    "# Trying it on all light curves of the large sample of data challenge light curves\n",
    "\n",
    "direc.sort()\n",
    "result_n = {'name':[], 't':[], 'A':[],'Aerr':[], 'params_1':[],'deviations': [], 'n_deviations': [],\n",
    "            'params_2':[],'chisqr1_tot':[], 'chisqr2_tot':[]}\n",
    "for f in tqdm(direc):\n",
    "    #print f\n",
    "    \n",
    "    if f.endswith('.W149') and f.split('ag')[1].startswith('.omcassan'): #and f.startswith('mag.'): #\n",
    "        #print f\n",
    "        \n",
    "        try:\n",
    "            t,m,e = np.loadtxt(temp+str(f),unpack=True)\n",
    "\n",
    "            df, baseline, event, it0, dt = prepare(t,m,e)\n",
    "\n",
    "            init = initial_guess_finder (df['t'], df['A'])\n",
    "\n",
    "            PSPL_final_params, PSPL_chisqr = PSPL_fitter_scipy (df['t'], df['A'], df['A_err'], init)\n",
    "            \n",
    "            df['A_residual'], peaks = PSPL_residual (df['t'], df['A'], PSPL_final_params)\n",
    "            \n",
    "            if len(peaks) == 1:\n",
    "            \n",
    "                Gaussian_final_params = Gaussian_fitter_lmfit (df['t'], df['A'], PSPL_final_params)\n",
    "            \n",
    "                final_params, final_chisqr = PSPL_Gaussian_fitter_lmfit (df['t'], df['A'], df['A_err'], PSPL_final_params, Gaussian_final_params)\n",
    "            \n",
    "            else:\n",
    "                final_params = [0,0,0,0,0,0,0]\n",
    "                final_chisqr = 0\n",
    "                \n",
    "            result_n['name'].append(f)\n",
    "            result_n['t'].append(df['t'])\n",
    "            result_n['A'].append(df['A'])\n",
    "            result_n['Aerr'].append(df['A_err'])\n",
    "            result_n['params_1'].append(PSPL_final_params)\n",
    "            result_n['deviations'].append(peaks)\n",
    "            result_n['n_deviations'].append(len(peaks))\n",
    "            result_n['params_2'].append(final_params)\n",
    "            result_n['chisqr1_tot'].append(PSPL_chisqr)\n",
    "            result_n['chisqr2_tot'].append(final_chisqr)\n",
    "        \n",
    "        except (RuntimeError, TypeError, NameError, ValueError):\n",
    "            \n",
    "            traceback.print_exc()\n",
    "            pass\n",
    "        \n",
    "\n",
    "\n",
    "print 'done'"
   ]
  },
  {
   "cell_type": "code",
   "execution_count": 24,
   "metadata": {
    "collapsed": false
   },
   "outputs": [
    {
     "data": {
      "text/plain": [
       "963"
      ]
     },
     "execution_count": 24,
     "metadata": {},
     "output_type": "execute_result"
    }
   ],
   "source": [
    "len(result_n[''])"
   ]
  },
  {
   "cell_type": "code",
   "execution_count": 41,
   "metadata": {
    "collapsed": true
   },
   "outputs": [],
   "source": [
    "# info1 = pd.read_csv('ombin.CSV')\n",
    "info = pd.read_csv('omcassan.CSV')\n",
    "# info3 = pd.read_csv('dccv.CSV')\n",
    "# info4 = pd.read_csv('dcnormffp.CSV')"
   ]
  },
  {
   "cell_type": "code",
   "execution_count": 42,
   "metadata": {
    "collapsed": false
   },
   "outputs": [],
   "source": [
    "# frames = [info1, info2, info3, info4]\n",
    "\n",
    "# info = pd.concat(frames)"
   ]
  },
  {
   "cell_type": "code",
   "execution_count": 43,
   "metadata": {
    "collapsed": false
   },
   "outputs": [],
   "source": [
    "info = info.rename(columns={\"index\": \"name\"})"
   ]
  },
  {
   "cell_type": "code",
   "execution_count": 44,
   "metadata": {
    "collapsed": true
   },
   "outputs": [],
   "source": [
    "info = info.reset_index()"
   ]
  },
  {
   "cell_type": "code",
   "execution_count": 45,
   "metadata": {
    "collapsed": false
   },
   "outputs": [],
   "source": [
    "for i in range(len(result_n['name'])):\n",
    "\n",
    "    if result_n['name'][i].split('.lc')[0].endswith('all'): \n",
    "        result_n['name'][i] = result_n['name'][i].split('all')[0]+'det'+result_n['name'][i].split('all')[1]"
   ]
  },
  {
   "cell_type": "code",
   "execution_count": 46,
   "metadata": {
    "collapsed": false
   },
   "outputs": [
    {
     "name": "stdout",
     "output_type": "stream",
     "text": [
      "963 731\n"
     ]
    }
   ],
   "source": [
    "print len(result_n['name']), len (info)"
   ]
  },
  {
   "cell_type": "code",
   "execution_count": 47,
   "metadata": {
    "collapsed": false
   },
   "outputs": [
    {
     "name": "stdout",
     "output_type": "stream",
     "text": [
      "35\n"
     ]
    }
   ],
   "source": [
    "c = 0\n",
    "x = info.name\n",
    "y = result_n['name']\n",
    "for j in range(len(x)):\n",
    "    \n",
    "    if not x[j] in y:\n",
    "        info = info.drop([j])\n",
    "        c = c + 1\n",
    "print c\n",
    "        \n"
   ]
  },
  {
   "cell_type": "code",
   "execution_count": 48,
   "metadata": {
    "collapsed": false
   },
   "outputs": [],
   "source": [
    "info = info.reset_index()"
   ]
  },
  {
   "cell_type": "code",
   "execution_count": 49,
   "metadata": {
    "collapsed": false
   },
   "outputs": [
    {
     "name": "stderr",
     "output_type": "stream",
     "text": [
      "  0%|          | 0/696 [00:00<?, ?it/s]/Users/Research/Library/Enthought/Canopy_64bit/User/lib/python2.7/site-packages/ipykernel/__main__.py:19: FutureWarning: set_value is deprecated and will be removed in a future release. Please use .at[] or .iat[] accessors instead\n",
      "100%|██████████| 696/696 [00:00<00:00, 10431.80it/s]\n"
     ]
    }
   ],
   "source": [
    "info['type'] = np.zeros(len(info))\n",
    "\n",
    "for i in tqdm(range(len(info))):\n",
    "    \n",
    "    if info['name'][i].split('mag')[1].startswith('.ombin'):\n",
    "        \n",
    "        info.set_value(i, 'type', 1)\n",
    "        \n",
    "    if info['name'][i].split('mag')[1].startswith('.dccv'):\n",
    "        \n",
    "        info.set_value(i, 'type', 0)\n",
    "        \n",
    "    if info['name'][i].split('mag')[1].startswith('.dcnormffp'):\n",
    "        \n",
    "        info.set_value(i, 'type', 3)\n",
    "        \n",
    "    if info['name'][i].split('mag')[1].startswith('.omcassan'):\n",
    "        \n",
    "        info.set_value(i, 'type', 2)"
   ]
  },
  {
   "cell_type": "code",
   "execution_count": 51,
   "metadata": {
    "collapsed": false
   },
   "outputs": [
    {
     "name": "stdout",
     "output_type": "stream",
     "text": [
      "done\n"
     ]
    }
   ],
   "source": [
    "info['chisqr1_tot'] = np.zeros(len(info))\n",
    "info['chisqr2_tot'] = np.zeros(len(info))\n",
    "# info['chisqr_base'] = np.zeros(len(info))\n",
    "info['tE_exp1'] = np.zeros(len(info))\n",
    "info['t0_exp1'] = np.zeros(len(info))\n",
    "info['u0_exp1'] = np.zeros(len(info))\n",
    "info['fs_exp1'] = np.zeros(len(info))\n",
    "info['tE_exp2'] = np.zeros(len(info))\n",
    "info['t0_exp2'] = np.zeros(len(info))\n",
    "info['u0_exp2'] = np.zeros(len(info))\n",
    "info['fs_exp2'] = np.zeros(len(info))\n",
    "info['tp_exp'] = np.zeros(len(info))\n",
    "info['tEp_exp'] = np.zeros(len(info))\n",
    "info['amp_exp'] = np.zeros(len(info))\n",
    "info['first_peaks'] = np.zeros(len(info))\n",
    "info['second_peaks'] = np.zeros(len(info))\n",
    "info['n_deviations'] = np.zeros(len(info))\n",
    "\n",
    "for i in range(len(result_n['name'])):\n",
    "    #print i\n",
    "    \n",
    "    info.loc[info.name == result_n['name'][i],'chisqr1_tot'] = result_n['chisqr1_tot'][i]\n",
    "    info.loc[info.name == result_n['name'][i],'chisqr2_tot'] = result_n['chisqr2_tot'][i]\n",
    "    info.loc[info.name == result_n['name'][i],'tE_exp1'] = result_n['params_1'][i][1]\n",
    "    info.loc[info.name == result_n['name'][i],'t0_exp1'] = result_n['params_1'][i][0]-2458234\n",
    "    info.loc[info.name == result_n['name'][i], 'u0_exp1'] = result_n['params_1'][i][2]\n",
    "    info.loc[info.name == result_n['name'][i], 'fs_exp1'] = result_n['params_1'][i][3]\n",
    "    info.loc[info.name == result_n['name'][i],'tE_exp2'] = result_n['params_2'][i][4]\n",
    "    info.loc[info.name == result_n['name'][i],'t0_exp2'] = result_n['params_2'][i][3]-2458234\n",
    "    info.loc[info.name == result_n['name'][i], 'u0_exp2'] = result_n['params_2'][i][5]\n",
    "    info.loc[info.name == result_n['name'][i], 'fs_exp2'] = result_n['params_2'][i][6]\n",
    "    info.loc[info.name == result_n['name'][i], 'tp_exp'] = result_n['params_2'][i][0]-2458234\n",
    "    info.loc[info.name == result_n['name'][i], 'tEp_exp'] = result_n['params_2'][i][1]\n",
    "    info.loc[info.name == result_n['name'][i], 'amp_exp'] = result_n['params_2'][i][2]\n",
    "    info.loc[info.name == result_n['name'][i], 'n_deviations'] = result_n['n_deviations'][i]\n",
    "\n",
    "    if result_n['n_deviations'][i] == 2:\n",
    "        info.loc[info.name == result_n['name'][i], 'first_peak'] = result_n['deviations'][i][0]\n",
    "        info.loc[info.name == result_n['name'][i], 'second_peak'] = result_n['deviations'][i][1]\n",
    "    if result_n['n_deviations'][i] == 1:\n",
    "        info.loc[info.name == result_n['name'][i], 'first_peak'] = result_n['deviations'][i][0]\n",
    "        info.loc[info.name == result_n['name'][i], 'second_peak'] = 0\n",
    "    \n",
    "    \n",
    "print 'done'"
   ]
  },
  {
   "cell_type": "code",
   "execution_count": 52,
   "metadata": {
    "collapsed": false
   },
   "outputs": [],
   "source": [
    "(info['name'][info.n_deviations == 2])"
   ]
  },
  {
   "cell_type": "code",
   "execution_count": 55,
   "metadata": {
    "collapsed": false
   },
   "outputs": [],
   "source": [
    "# # Adding q values to the information table\n",
    "\n",
    "# info['q_exp'] = (info['tEp_exp']/info['tE_exp2'])**2 \n",
    "# info['q_exp_log'] = np.log10(info['q_exp'])\n",
    "# info['q_log'] = np.log10(info['q'])"
   ]
  },
  {
   "cell_type": "code",
   "execution_count": 6,
   "metadata": {
    "collapsed": true
   },
   "outputs": [],
   "source": [
    "# info.to_csv('Cassan_PSPL_Gaussian_result.CSV')"
   ]
  },
  {
   "cell_type": "code",
   "execution_count": 13,
   "metadata": {
    "collapsed": true
   },
   "outputs": [],
   "source": [
    "info = pd.read_csv('Cassan_PSPL_Gaussian_result.CSV')"
   ]
  },
  {
   "cell_type": "code",
   "execution_count": 15,
   "metadata": {
    "collapsed": false
   },
   "outputs": [
    {
     "data": {
      "text/html": [
       "<div>\n",
       "<style scoped>\n",
       "    .dataframe tbody tr th:only-of-type {\n",
       "        vertical-align: middle;\n",
       "    }\n",
       "\n",
       "    .dataframe tbody tr th {\n",
       "        vertical-align: top;\n",
       "    }\n",
       "\n",
       "    .dataframe thead th {\n",
       "        text-align: right;\n",
       "    }\n",
       "</style>\n",
       "<table border=\"1\" class=\"dataframe\">\n",
       "  <thead>\n",
       "    <tr style=\"text-align: right;\">\n",
       "      <th></th>\n",
       "      <th>n_deviations</th>\n",
       "      <th>first_peak</th>\n",
       "      <th>second_peak</th>\n",
       "      <th>tEp_exp</th>\n",
       "    </tr>\n",
       "  </thead>\n",
       "  <tbody>\n",
       "    <tr>\n",
       "      <th>0</th>\n",
       "      <td>2.0</td>\n",
       "      <td>2.459670e+06</td>\n",
       "      <td>2.459662e+06</td>\n",
       "      <td>0.0</td>\n",
       "    </tr>\n",
       "  </tbody>\n",
       "</table>\n",
       "</div>"
      ],
      "text/plain": [
       "   n_deviations    first_peak   second_peak  tEp_exp\n",
       "0           2.0  2.459670e+06  2.459662e+06      0.0"
      ]
     },
     "execution_count": 15,
     "metadata": {},
     "output_type": "execute_result"
    }
   ],
   "source": [
    "info[['n_deviations','first_peak', 'second_peak', 'tEp_exp']][info.name== 'mag.omcassan_0_100_1213.det.lc.W149']"
   ]
  },
  {
   "cell_type": "code",
   "execution_count": null,
   "metadata": {
    "collapsed": true
   },
   "outputs": [],
   "source": []
  },
  {
   "cell_type": "code",
   "execution_count": 14,
   "metadata": {
    "collapsed": false
   },
   "outputs": [
    {
     "name": "stderr",
     "output_type": "stream",
     "text": [
      "  0%|          | 1/696 [00:00<01:23,  8.37it/s]"
     ]
    },
    {
     "name": "stdout",
     "output_type": "stream",
     "text": [
      "mag.omcassan_0_100_1213.det.lc.W149\n",
      "365682.464673493\n",
      "mag.omcassan_0_100_2559.det.lc.W149\n"
     ]
    },
    {
     "name": "stderr",
     "output_type": "stream",
     "text": [
      "\n"
     ]
    },
    {
     "ename": "UnboundLocalError",
     "evalue": "local variable 'xs1' referenced before assignment",
     "output_type": "error",
     "traceback": [
      "\u001b[0;31m---------------------------------------------------------------------------\u001b[0m",
      "\u001b[0;31mUnboundLocalError\u001b[0m                         Traceback (most recent call last)",
      "\u001b[0;32m<ipython-input-14-c7969b4e0e8f>\u001b[0m in \u001b[0;36m<module>\u001b[0;34m()\u001b[0m\n\u001b[1;32m     10\u001b[0m \u001b[0;34m\u001b[0m\u001b[0m\n\u001b[1;32m     11\u001b[0m         s, f = calculate_projected_separation(info['t0_exp2'][i], info['tE_exp2'][i], info['u0_exp2'][i],\n\u001b[0;32m---> 12\u001b[0;31m                                               peaks, info['tEp_exp'][i], info['amp_exp'][i])\n\u001b[0m\u001b[1;32m     13\u001b[0m         \u001b[0ms_temp\u001b[0m\u001b[0;34m.\u001b[0m\u001b[0mappend\u001b[0m\u001b[0;34m(\u001b[0m\u001b[0ms\u001b[0m\u001b[0;34m)\u001b[0m\u001b[0;34m\u001b[0m\u001b[0m\n\u001b[1;32m     14\u001b[0m         \u001b[0mq_temp\u001b[0m\u001b[0;34m.\u001b[0m\u001b[0mappend\u001b[0m\u001b[0;34m(\u001b[0m\u001b[0mq\u001b[0m\u001b[0;34m)\u001b[0m\u001b[0;34m\u001b[0m\u001b[0m\n",
      "\u001b[0;32m/Users/Research/Library/Mobile Documents/com~apple~CloudDocs/Research/WFIRST-event-finder/Filters/tests/Planetary_fits.py\u001b[0m in \u001b[0;36mcalculate_projected_separation\u001b[0;34m(t0, tE, u0, peaks, tEp, amp)\u001b[0m\n\u001b[1;32m    206\u001b[0m                 \u001b[0;32mprint\u001b[0m \u001b[0ms_final\u001b[0m\u001b[0;34m\u001b[0m\u001b[0m\n\u001b[1;32m    207\u001b[0m \u001b[0;34m\u001b[0m\u001b[0m\n\u001b[0;32m--> 208\u001b[0;31m         \u001b[0;32mif\u001b[0m \u001b[0;34m(\u001b[0m\u001b[0mxs1\u001b[0m\u001b[0;34m<\u001b[0m\u001b[0;36m0\u001b[0m\u001b[0;34m)\u001b[0m \u001b[0;32mor\u001b[0m \u001b[0;34m(\u001b[0m\u001b[0mxs1\u001b[0m \u001b[0;34m>\u001b[0m \u001b[0;34m(\u001b[0m\u001b[0;36m2.\u001b[0m\u001b[0;34m/\u001b[0m\u001b[0;34m(\u001b[0m\u001b[0mfloat\u001b[0m\u001b[0;34m(\u001b[0m\u001b[0ms_final\u001b[0m\u001b[0;34m)\u001b[0m\u001b[0;34m*\u001b[0m\u001b[0mnp\u001b[0m\u001b[0;34m.\u001b[0m\u001b[0msqrt\u001b[0m\u001b[0;34m(\u001b[0m\u001b[0mfloat\u001b[0m\u001b[0;34m(\u001b[0m\u001b[0ms_final\u001b[0m\u001b[0;34m)\u001b[0m\u001b[0;34m**\u001b[0m\u001b[0;36m2\u001b[0m \u001b[0;34m-\u001b[0m\u001b[0;36m1\u001b[0m\u001b[0;34m)\u001b[0m\u001b[0;34m)\u001b[0m\u001b[0;34m)\u001b[0m\u001b[0;34m)\u001b[0m\u001b[0;34m:\u001b[0m\u001b[0;34m\u001b[0m\u001b[0m\n\u001b[0m\u001b[1;32m    209\u001b[0m \u001b[0;34m\u001b[0m\u001b[0m\n\u001b[1;32m    210\u001b[0m \u001b[0;34m\u001b[0m\u001b[0m\n",
      "\u001b[0;31mUnboundLocalError\u001b[0m: local variable 'xs1' referenced before assignment"
     ]
    }
   ],
   "source": [
    "s_temp = []\n",
    "q_temp = []\n",
    "\n",
    "for i in tqdm(range(len(info['name']))):\n",
    "    print info.name[i]\n",
    "    \n",
    "    if (info['n_deviations'][i]) == 1:\n",
    "        \n",
    "        peaks = [float(info['first_peak'][i])]\n",
    "    \n",
    "        s, f = calculate_projected_separation(info['t0_exp2'][i], info['tE_exp2'][i], info['u0_exp2'][i],\n",
    "                                              peaks, info['tEp_exp'][i], info['amp_exp'][i])\n",
    "        s_temp.append(s)\n",
    "        q_temp.append(q)\n",
    "        \n",
    "    else: \n",
    "        \n",
    "        peaks = [float(info['first_peak'][i]),float(info['second_peak'][i])]\n",
    "        \n",
    "        s, f = calculate_projected_separation(info['t0_exp1'][i], info['tE_exp1'][i], info['u0_exp1'][i],\n",
    "                                              peaks, 0, 0)\n",
    "                                              \n",
    "        s_temp.append(s)\n",
    "        q_temp.append(q)"
   ]
  },
  {
   "cell_type": "code",
   "execution_count": null,
   "metadata": {
    "collapsed": true
   },
   "outputs": [],
   "source": [
    "PSPL_plotter ()"
   ]
  },
  {
   "cell_type": "code",
   "execution_count": 836,
   "metadata": {
    "collapsed": false
   },
   "outputs": [
    {
     "name": "stderr",
     "output_type": "stream",
     "text": [
      "/Users/Research/Library/Enthought/Canopy_64bit/User/lib/python2.7/site-packages/ipykernel/__main__.py:13: FutureWarning: set_value is deprecated and will be removed in a future release. Please use .at[] or .iat[] accessors instead\n"
     ]
    }
   ],
   "source": [
    "# # Adding s values to the information table\n",
    "\n",
    "# u = np.sqrt(info['u0_exp']**2 + ((info['t0_exp']-info['tp_exp'])/info['tE_exp'])**2)\n",
    "# s1 = ( u + np.sqrt(4+ u**2))/2\n",
    "# s2 = ( u - np.sqrt(4+ u**2))/2\n",
    "\n",
    "# info['s_exp'] = np.zeros(len(info['type']))\n",
    "\n",
    "# for i in range(len(info['type'])):\n",
    "    \n",
    "#     if info['am_exp'][i] > 0:\n",
    "        \n",
    "#         info.set_value(i,'s_exp', s1[i])\n",
    "#     else:\n",
    "#         info.set_value(i,'s_exp', s2[i])\n",
    "\n",
    "# info['s_exp_log'] = np.log10(info['s_exp'])\n",
    "# info['s_log'] = np.log10(info['s'])"
   ]
  },
  {
   "cell_type": "code",
   "execution_count": 837,
   "metadata": {
    "collapsed": true
   },
   "outputs": [],
   "source": [
    "# Adding Xc values to the information table\n",
    "\n",
    "info['xc']= ((1.0/info['s'])-info['s'])**2\n",
    "info['xc_exp']= ((1.0/info['s_exp'])-info['s_exp'])**2"
   ]
  },
  {
   "cell_type": "code",
   "execution_count": 838,
   "metadata": {
    "collapsed": false
   },
   "outputs": [],
   "source": [
    "info['chi_diff'] = np.abs(info.chisqr1_tot - info.chisqr2_tot)"
   ]
  },
  {
   "cell_type": "code",
   "execution_count": 939,
   "metadata": {
    "collapsed": true
   },
   "outputs": [],
   "source": [
    "info['chi_ratio'] = np.abs(info.chisqr2_tot)/np.abs(info.chisqr1_tot)"
   ]
  },
  {
   "cell_type": "code",
   "execution_count": 839,
   "metadata": {
    "collapsed": true
   },
   "outputs": [],
   "source": [
    "info['tEp'] = info.tE * np.sqrt(info.q+(info.rho**2))"
   ]
  },
  {
   "cell_type": "code",
   "execution_count": 59,
   "metadata": {
    "collapsed": true
   },
   "outputs": [],
   "source": [
    "info2 = info.copy()"
   ]
  },
  {
   "cell_type": "code",
   "execution_count": null,
   "metadata": {
    "collapsed": true
   },
   "outputs": [],
   "source": [
    "info['chisqr1_tot_red'] = info.chisqr1_tot * (1.0/(38568-7))\n",
    "info['chisqr2_tot_red'] = info.chisqr2_tot * (1.0/(38568-7))"
   ]
  },
  {
   "cell_type": "code",
   "execution_count": 989,
   "metadata": {
    "collapsed": true
   },
   "outputs": [],
   "source": [
    "info['CV_labeled'] = np.zeros(len(info.name))\n",
    "info['Bin_labeled'] = np.zeros(len(info.name))\n",
    "info['Planet_labeled'] = np.zeros(len(info.name))\n",
    "info['PSPL_labeled'] = np.zeros(len(info.name))\n",
    "info['all_labeled_one'] = np.ones(len(info.name))\n",
    "info['type_label_percent'] = np.ones(len(info.name))"
   ]
  },
  {
   "cell_type": "code",
   "execution_count": 990,
   "metadata": {
    "collapsed": true
   },
   "outputs": [],
   "source": [
    "info.loc[info.type == 0,'CV_labeled'] = 1.0\n",
    "info.loc[info.type == 1,'Bin_labeled'] = 1.0\n",
    "info.loc[info.type == 2,'Planet_labeled'] = 1.0\n",
    "info.loc[info.type == 3,'PSPL_labeled'] = 1.0"
   ]
  },
  {
   "cell_type": "code",
   "execution_count": 992,
   "metadata": {
    "collapsed": false
   },
   "outputs": [],
   "source": [
    "info['CV_labeled'] = (info['CV_labeled']/ len(info[info.type==0]))*100\n",
    "info['Bin_labeled'] = (info['Bin_labeled']/ (len(info[info.type==1])))*100\n",
    "info['Planet_labeled'] = (info['Planet_labeled']/ (len(info[info.type==2])))*100\n",
    "info['PSPL_labeled'] = (info['Bin_labeled'] / (len(info[info.type==3])))*100"
   ]
  },
  {
   "cell_type": "code",
   "execution_count": 951,
   "metadata": {
    "collapsed": true
   },
   "outputs": [],
   "source": [
    "# info.to_csv('PSPL_Gaussian_alllc_lmfit.CSV')"
   ]
  },
  {
   "cell_type": "code",
   "execution_count": 8,
   "metadata": {
    "collapsed": false
   },
   "outputs": [],
   "source": [
    "info = pd.read_csv('PSPL_Gaussian_alllc_lmfit.CSV')"
   ]
  },
  {
   "cell_type": "code",
   "execution_count": 15,
   "metadata": {
    "collapsed": true
   },
   "outputs": [],
   "source": [
    "u = (1./info.s - info.s)**2"
   ]
  },
  {
   "cell_type": "code",
   "execution_count": 16,
   "metadata": {
    "collapsed": false
   },
   "outputs": [
    {
     "name": "stderr",
     "output_type": "stream",
     "text": [
      "/Users/Research/Library/Enthought/Canopy_64bit/User/lib/python2.7/site-packages/ipykernel/__main__.py:1: RuntimeWarning: invalid value encountered in sqrt\n",
      "  if __name__ == '__main__':\n"
     ]
    }
   ],
   "source": [
    "info['|t0-tp|'] = np.sqrt( (u**2 - info.u0**2)* info.tE**2 )"
   ]
  },
  {
   "cell_type": "code",
   "execution_count": 8,
   "metadata": {
    "collapsed": false
   },
   "outputs": [
    {
     "data": {
      "text/plain": [
       "1416.5803241450974"
      ]
     },
     "execution_count": 8,
     "metadata": {},
     "output_type": "execute_result"
    }
   ],
   "source": [
    "max(info['tEp'])"
   ]
  },
  {
   "cell_type": "code",
   "execution_count": 129,
   "metadata": {
    "collapsed": false
   },
   "outputs": [
    {
     "data": {
      "image/png": "[encoded data removed]",
      "text/plain": [
       "<matplotlib.figure.Figure at 0x11c845590>"
      ]
     },
     "metadata": {},
     "output_type": "display_data"
    }
   ],
   "source": [
    "# General format for plotting different parameters versus each other \n",
    "\n",
    "fig, axs = plt.subplots(2, 2, sharex=True, sharey=True)\n",
    "\n",
    "x = 'chisqr1_tot'\n",
    "y = 'chi_ratio'\n",
    "c_y = 1\n",
    "c_x = 1.0/(38568-7)\n",
    "\n",
    "axs[0,0].plot(c_x*(info[x][info['type']==0]).astype(float).abs(),c_y*(info[y][info['type']==0]).astype(float).abs(), '.',markersize=18, label= 'CV',color='r')\n",
    "axs[0,0].grid()\n",
    "axs[0,0].legend()\n",
    "axs[0,1].plot(c_x*(info[x][info['type']==1]).astype(float).abs(),c_y*(info[y][info['type']==1]).astype(float).abs(), '.',markersize=18, label= 'Binary', color='g')\n",
    "axs[0,1].plot(c_x*(info[x][info['type']==1]).astype(float).abs(),c_x*(info[x][info['type']==1]).astype(float).abs(), 'r-')\n",
    "axs[0,1].grid()\n",
    "axs[0,1].legend()\n",
    "axs[1,0].plot(c_x*(info[x][info['type']==2]).astype(float).abs(),c_y*(info[y][info['type']==2]).astype(float).abs(), '.',markersize=18, label= 'Planetary',  color = 'orange')\n",
    "axs[1,0].plot(c_x*(info[x][info['type']==2]).astype(float).abs(),c_x*(info[x][info['type']==2]).astype(float).abs(), 'g-')\n",
    "axs[1,0].grid()\n",
    "axs[1,0].legend()\n",
    "axs[1,1].plot(c_x*(info[x][info['type']==3]).astype(float).abs(),c_y*(info[y][info['type']==3]).astype(float).abs(), '.',markersize=18, label= 'PSPL/FFP', color='blue')\n",
    "axs[1,1].plot(c_x*(info[x][info['type']==3]).astype(float).abs(),c_x*(info[x][info['type']==3]).astype(float).abs(), 'r-')\n",
    "axs[1,1].grid()\n",
    "axs[1,1].legend()\n",
    "\n",
    "\n",
    "axs[0, 1].tick_params(axis='x',which='both', bottom='off', top='off',labelbottom='off')\n",
    "axs[0, 1].tick_params(axis='y',which='both', bottom='right', top='left',labelleft='off',length=0)\n",
    "\n",
    "axs[0, 0].tick_params(axis='y',which='both', labelsize=12)\n",
    "axs[1, 0].tick_params(axis='both',which='both', labelsize=12)\n",
    "axs[1, 1].tick_params(axis='x',which='both', labelsize=12)\n",
    "\n",
    "plt.yscale('log')\n",
    "plt.xscale('log')\n",
    "\n",
    "\n",
    "\n",
    "axs[0, 0].tick_params(axis='x',which='both', bottom='off', top='off',labelbottom='off')\n",
    "axs[1, 1].tick_params(axis='y',which='both', bottom='right', top='left',labelleft='off', length=0)\n",
    "\n",
    "xlim = (1e-1,1e7)\n",
    "ylim = (1e-7,1e10)\n",
    "\n",
    "# axs[0,0].set_ylim(ylim)\n",
    "# axs[0,0].set_xlim(xlim)\n",
    "# axs[0,1].set_ylim(ylim)\n",
    "# axs[0,1].set_xlim(xlim)\n",
    "# axs[1,0].set_ylim(ylim)\n",
    "# axs[1,0].set_xlim(xlim)\n",
    "# axs[1,1].set_ylim(ylim)\n",
    "# axs[1,1].set_xlim(xlim)\n",
    "\n",
    "plt.subplots_adjust(left=None, bottom=None, right=None, top=None,\n",
    "                    wspace=0.05, hspace=0.08) \n",
    "\n",
    "fig.text(0.5, 0.02, x, ha='center',size=30)\n",
    "fig.text(0.02, 0.5, y, va='center', rotation='vertical',size=30)\n",
    "\n",
    "fig = plt.gcf()\n",
    "fig.set_size_inches(20.0,15.0)\n",
    "#fig.savefig('a4-a2.png')"
   ]
  },
  {
   "cell_type": "code",
   "execution_count": 9,
   "metadata": {
    "collapsed": false
   },
   "outputs": [
    {
     "data": {
      "image/png": "[encoded data removed]",
      "text/plain": [
       "<matplotlib.figure.Figure at 0x116b77c10>"
      ]
     },
     "metadata": {},
     "output_type": "display_data"
    }
   ],
   "source": [
    "# plt.plot(c_x*(info[x]).astype(float).abs(),c_y*(info[y]).astype(float).abs(), '.',markersize=18, color='b')\n",
    "x = 'chisqr1_tot'\n",
    "y = 'chi_ratio'\n",
    "c_y = 1.0/(38568-7)\n",
    "c_x = 1.0/(38568-7)\n",
    "\n",
    "\n",
    "plt.plot(c_x*(info[x][(info.type==1) & ((info.t0-info.t0_exp) < 5)& (info.tEp_exp == 3.0)]).astype(float).abs(),\n",
    "         c_y*(info[y][(info.type==1) & ((info.t0-info.t0_exp) < 5)& (info.tEp_exp == 3.0)]).astype(float).abs(), \n",
    "         '.',markersize=18, color='b', label= 'Binary')\n",
    "# plt.plot(c_x*(info[x][(info.type==0) & ((info.t0-info.t0_exp) < 10)]).astype(float).abs(),\n",
    "#          c_y*(info[y][(info.type==0) & ((info.t0-info.t0_exp) < 10)]).astype(float).abs(), \n",
    "#          '.',markersize=18, color='k', label= 'CV')\n",
    "plt.plot(c_x*(info[x][(info.type==2) & ((info.t0-info.t0_exp) < 5)& (info.tEp_exp == 3.0)]).astype(float).abs(),\n",
    "         c_y*(info[y][(info.type==2) & ((info.t0-info.t0_exp) < 5)& (info.tEp_exp == 3.0)]).astype(float).abs(), \n",
    "         '.',markersize=18, color='r', label= 'Planetary')\n",
    "\n",
    "\n",
    "plt.plot(c_x*(info[x][(info.type==3) & ((info.t0-info.t0_exp) < 5)& (info.tEp_exp == 3.0)]).astype(float).abs(),\n",
    "         c_y*(info[y][(info.type==3) & ((info.t0-info.t0_exp) < 5)& (info.tEp_exp == 3.0)]).astype(float).abs(), \n",
    "         '.',markersize=18, color='g', label= 'PSPL/FFP')\n",
    "\n",
    "plt.legend()\n",
    "\n",
    "\n",
    "plt.xlabel(x, size=25)\n",
    "plt.ylabel(y, size=25)\n",
    "\n",
    "# plt.xlim(1.3, 10)\n",
    "# plt.ylim(2e-5,3e-5)\n",
    "plt.yscale('log')\n",
    "plt.xscale('log')\n",
    "\n",
    "fig = plt.gcf()\n",
    "fig.set_size_inches(20.0,15.0)"
   ]
  },
  {
   "cell_type": "code",
   "execution_count": 51,
   "metadata": {
    "collapsed": false
   },
   "outputs": [],
   "source": [
    "info[['name', 't0', 't0_exp','tE','tE_exp','tEp', 'tEp_exp','s', 'q']][(info.type==2) & (info.tEp_exp == 3.0)&(info.chisqr1_tot>10*(38568-7))]"
   ]
  },
  {
   "cell_type": "code",
   "execution_count": 130,
   "metadata": {
    "collapsed": false
   },
   "outputs": [
    {
     "data": {
      "image/png": "[encoded data removed]",
      "text/plain": [
       "<matplotlib.figure.Figure at 0x117f24b90>"
      ]
     },
     "metadata": {},
     "output_type": "display_data"
    }
   ],
   "source": [
    "x = info['tEp'][(info.type==2) & ((info.t0-info.t0_exp) < 5)& (info.tEp_exp < 2.9)]\n",
    "y = info['tEp_exp'][(info.type==2) & ((info.t0-info.t0_exp) < 5)& (info.tEp_exp < 2.9)]*2\n",
    "plt.plot(x, y ,'b.')\n",
    "plt.plot(x, x,'k-')\n",
    "# plt.ylim(2.9,3.1)\n",
    "# plt.xlim(0,5)\n",
    "\n",
    "\n",
    "plt.xscale('log')\n",
    "plt.yscale('log')"
   ]
  },
  {
   "cell_type": "code",
   "execution_count": 18,
   "metadata": {
    "collapsed": false
   },
   "outputs": [
    {
     "data": {
      "text/html": [
       "<div>\n",
       "<style scoped>\n",
       "    .dataframe tbody tr th:only-of-type {\n",
       "        vertical-align: middle;\n",
       "    }\n",
       "\n",
       "    .dataframe tbody tr th {\n",
       "        vertical-align: top;\n",
       "    }\n",
       "\n",
       "    .dataframe thead th {\n",
       "        text-align: right;\n",
       "    }\n",
       "</style>\n",
       "<table border=\"1\" class=\"dataframe\">\n",
       "  <thead>\n",
       "    <tr style=\"text-align: right;\">\n",
       "      <th></th>\n",
       "      <th>name</th>\n",
       "      <th>t0</th>\n",
       "      <th>t0_exp</th>\n",
       "      <th>tE</th>\n",
       "      <th>tE_exp</th>\n",
       "      <th>tEp</th>\n",
       "      <th>tEp_exp</th>\n",
       "      <th>tp_exp</th>\n",
       "      <th>|t0-tp|</th>\n",
       "      <th>s</th>\n",
       "      <th>q</th>\n",
       "    </tr>\n",
       "  </thead>\n",
       "  <tbody>\n",
       "    <tr>\n",
       "      <th>1530</th>\n",
       "      <td>mag.omcassan_10_34_605.det.lc.W149</td>\n",
       "      <td>411.361835</td>\n",
       "      <td>408.988445</td>\n",
       "      <td>40.5432</td>\n",
       "      <td>31.063103</td>\n",
       "      <td>13.364617</td>\n",
       "      <td>2.999817</td>\n",
       "      <td>329.334012</td>\n",
       "      <td>191.722859</td>\n",
       "      <td>0.382123</td>\n",
       "      <td>0.108658</td>\n",
       "    </tr>\n",
       "  </tbody>\n",
       "</table>\n",
       "</div>"
      ],
      "text/plain": [
       "                                    name          t0      t0_exp       tE  \\\n",
       "1530  mag.omcassan_10_34_605.det.lc.W149  411.361835  408.988445  40.5432   \n",
       "\n",
       "         tE_exp        tEp   tEp_exp      tp_exp     |t0-tp|         s  \\\n",
       "1530  31.063103  13.364617  2.999817  329.334012  191.722859  0.382123   \n",
       "\n",
       "             q  \n",
       "1530  0.108658  "
      ]
     },
     "execution_count": 18,
     "metadata": {},
     "output_type": "execute_result"
    }
   ],
   "source": [
    "info[['name','t0','t0_exp','tE','tE_exp','tEp','tEp_exp','tp_exp','|t0-tp|','s','q']][info.name == 'mag.omcassan_10_34_605.det.lc.W149']"
   ]
  },
  {
   "cell_type": "code",
   "execution_count": 9,
   "metadata": {
    "collapsed": false
   },
   "outputs": [
    {
     "data": {
      "text/html": [
       "<div>\n",
       "<style scoped>\n",
       "    .dataframe tbody tr th:only-of-type {\n",
       "        vertical-align: middle;\n",
       "    }\n",
       "\n",
       "    .dataframe tbody tr th {\n",
       "        vertical-align: top;\n",
       "    }\n",
       "\n",
       "    .dataframe thead th {\n",
       "        text-align: right;\n",
       "    }\n",
       "</style>\n",
       "<table border=\"1\" class=\"dataframe\">\n",
       "  <thead>\n",
       "    <tr style=\"text-align: right;\">\n",
       "      <th></th>\n",
       "      <th>name</th>\n",
       "      <th>t0</th>\n",
       "      <th>t0_exp</th>\n",
       "      <th>tE</th>\n",
       "      <th>tE_exp</th>\n",
       "      <th>tEp</th>\n",
       "      <th>tEp_exp</th>\n",
       "      <th>u0</th>\n",
       "      <th>s</th>\n",
       "      <th>q</th>\n",
       "    </tr>\n",
       "  </thead>\n",
       "  <tbody>\n",
       "    <tr>\n",
       "      <th>1445</th>\n",
       "      <td>mag.omcassan_0_109_545.det.lc.W149</td>\n",
       "      <td>509.672087</td>\n",
       "      <td>509.674038</td>\n",
       "      <td>12.76640</td>\n",
       "      <td>2.024374</td>\n",
       "      <td>0.361488</td>\n",
       "      <td>3.0</td>\n",
       "      <td>-0.059480</td>\n",
       "      <td>0.731927</td>\n",
       "      <td>0.000802</td>\n",
       "    </tr>\n",
       "    <tr>\n",
       "      <th>1449</th>\n",
       "      <td>mag.omcassan_0_11_1456.det.lc.W149</td>\n",
       "      <td>1786.188058</td>\n",
       "      <td>1786.184382</td>\n",
       "      <td>44.37130</td>\n",
       "      <td>36.315685</td>\n",
       "      <td>0.444852</td>\n",
       "      <td>3.0</td>\n",
       "      <td>0.015598</td>\n",
       "      <td>1.235610</td>\n",
       "      <td>0.000089</td>\n",
       "    </tr>\n",
       "    <tr>\n",
       "      <th>1450</th>\n",
       "      <td>mag.omcassan_0_11_1883.det.lc.W149</td>\n",
       "      <td>316.327420</td>\n",
       "      <td>316.338885</td>\n",
       "      <td>21.35390</td>\n",
       "      <td>7.699746</td>\n",
       "      <td>0.152206</td>\n",
       "      <td>3.0</td>\n",
       "      <td>-0.148921</td>\n",
       "      <td>0.803341</td>\n",
       "      <td>0.000050</td>\n",
       "    </tr>\n",
       "    <tr>\n",
       "      <th>1451</th>\n",
       "      <td>mag.omcassan_0_111_2254.det.lc.W149</td>\n",
       "      <td>1409.501991</td>\n",
       "      <td>1409.076274</td>\n",
       "      <td>17.65920</td>\n",
       "      <td>6.203704</td>\n",
       "      <td>2.624210</td>\n",
       "      <td>3.0</td>\n",
       "      <td>-0.039137</td>\n",
       "      <td>3.281870</td>\n",
       "      <td>0.022083</td>\n",
       "    </tr>\n",
       "    <tr>\n",
       "      <th>1454</th>\n",
       "      <td>mag.omcassan_0_113_616.det.lc.W149</td>\n",
       "      <td>500.755125</td>\n",
       "      <td>500.756137</td>\n",
       "      <td>11.37150</td>\n",
       "      <td>2.872560</td>\n",
       "      <td>0.125166</td>\n",
       "      <td>3.0</td>\n",
       "      <td>0.079386</td>\n",
       "      <td>0.627200</td>\n",
       "      <td>0.000117</td>\n",
       "    </tr>\n",
       "    <tr>\n",
       "      <th>1462</th>\n",
       "      <td>mag.omcassan_0_22_760.det.lc.W149</td>\n",
       "      <td>1407.613619</td>\n",
       "      <td>1407.611967</td>\n",
       "      <td>32.85510</td>\n",
       "      <td>28.600447</td>\n",
       "      <td>0.814501</td>\n",
       "      <td>3.0</td>\n",
       "      <td>0.113226</td>\n",
       "      <td>0.601308</td>\n",
       "      <td>0.000598</td>\n",
       "    </tr>\n",
       "    <tr>\n",
       "      <th>1463</th>\n",
       "      <td>mag.omcassan_0_22_3190.det.lc.W149</td>\n",
       "      <td>1808.680192</td>\n",
       "      <td>1808.684675</td>\n",
       "      <td>4.12229</td>\n",
       "      <td>1.965469</td>\n",
       "      <td>0.059887</td>\n",
       "      <td>3.0</td>\n",
       "      <td>0.077862</td>\n",
       "      <td>4.923840</td>\n",
       "      <td>0.000194</td>\n",
       "    </tr>\n",
       "    <tr>\n",
       "      <th>1464</th>\n",
       "      <td>mag.omcassan_0_23_2227.det.lc.W149</td>\n",
       "      <td>557.129197</td>\n",
       "      <td>536.590856</td>\n",
       "      <td>17.49500</td>\n",
       "      <td>0.646761</td>\n",
       "      <td>1.072938</td>\n",
       "      <td>3.0</td>\n",
       "      <td>-0.220071</td>\n",
       "      <td>1.745240</td>\n",
       "      <td>0.003756</td>\n",
       "    </tr>\n",
       "    <tr>\n",
       "      <th>1469</th>\n",
       "      <td>mag.omcassan_0_32_977.det.lc.W149</td>\n",
       "      <td>1804.351505</td>\n",
       "      <td>1804.361476</td>\n",
       "      <td>9.50629</td>\n",
       "      <td>0.811606</td>\n",
       "      <td>0.269527</td>\n",
       "      <td>3.0</td>\n",
       "      <td>-0.007867</td>\n",
       "      <td>1.106320</td>\n",
       "      <td>0.000804</td>\n",
       "    </tr>\n",
       "    <tr>\n",
       "      <th>1470</th>\n",
       "      <td>mag.omcassan_0_33_569.det.lc.W149</td>\n",
       "      <td>299.685321</td>\n",
       "      <td>299.686099</td>\n",
       "      <td>10.30470</td>\n",
       "      <td>2.728107</td>\n",
       "      <td>0.117050</td>\n",
       "      <td>3.0</td>\n",
       "      <td>-0.062425</td>\n",
       "      <td>1.150500</td>\n",
       "      <td>0.000129</td>\n",
       "    </tr>\n",
       "    <tr>\n",
       "      <th>1473</th>\n",
       "      <td>mag.omcassan_0_33_1921.det.lc.W149</td>\n",
       "      <td>122.417714</td>\n",
       "      <td>122.417305</td>\n",
       "      <td>11.49970</td>\n",
       "      <td>0.568068</td>\n",
       "      <td>0.025597</td>\n",
       "      <td>3.0</td>\n",
       "      <td>0.010086</td>\n",
       "      <td>0.976540</td>\n",
       "      <td>0.000005</td>\n",
       "    </tr>\n",
       "    <tr>\n",
       "      <th>1476</th>\n",
       "      <td>mag.omcassan_0_36_1082.det.lc.W149</td>\n",
       "      <td>1504.061707</td>\n",
       "      <td>1441.177498</td>\n",
       "      <td>34.92230</td>\n",
       "      <td>0.374786</td>\n",
       "      <td>0.386615</td>\n",
       "      <td>3.0</td>\n",
       "      <td>1.592980</td>\n",
       "      <td>2.744640</td>\n",
       "      <td>0.000121</td>\n",
       "    </tr>\n",
       "    <tr>\n",
       "      <th>1485</th>\n",
       "      <td>mag.omcassan_0_50_326.det.lc.W149</td>\n",
       "      <td>329.345737</td>\n",
       "      <td>329.298959</td>\n",
       "      <td>24.72940</td>\n",
       "      <td>14.652092</td>\n",
       "      <td>0.802699</td>\n",
       "      <td>3.0</td>\n",
       "      <td>0.056957</td>\n",
       "      <td>1.517730</td>\n",
       "      <td>0.001051</td>\n",
       "    </tr>\n",
       "    <tr>\n",
       "      <th>1486</th>\n",
       "      <td>mag.omcassan_0_50_2183.det.lc.W149</td>\n",
       "      <td>529.681914</td>\n",
       "      <td>529.460703</td>\n",
       "      <td>29.68670</td>\n",
       "      <td>20.764292</td>\n",
       "      <td>2.111353</td>\n",
       "      <td>3.0</td>\n",
       "      <td>-0.066895</td>\n",
       "      <td>1.667150</td>\n",
       "      <td>0.005056</td>\n",
       "    </tr>\n",
       "    <tr>\n",
       "      <th>1487</th>\n",
       "      <td>mag.omcassan_0_58_210.det.lc.W149</td>\n",
       "      <td>489.676336</td>\n",
       "      <td>489.673770</td>\n",
       "      <td>9.57430</td>\n",
       "      <td>7.811789</td>\n",
       "      <td>0.128690</td>\n",
       "      <td>3.0</td>\n",
       "      <td>0.077001</td>\n",
       "      <td>1.692670</td>\n",
       "      <td>0.000171</td>\n",
       "    </tr>\n",
       "    <tr>\n",
       "      <th>1489</th>\n",
       "      <td>mag.omcassan_0_59_147.det.lc.W149</td>\n",
       "      <td>1409.974982</td>\n",
       "      <td>1410.003093</td>\n",
       "      <td>12.64870</td>\n",
       "      <td>9.775282</td>\n",
       "      <td>0.074341</td>\n",
       "      <td>3.0</td>\n",
       "      <td>0.512815</td>\n",
       "      <td>0.594247</td>\n",
       "      <td>0.000033</td>\n",
       "    </tr>\n",
       "    <tr>\n",
       "      <th>1493</th>\n",
       "      <td>mag.omcassan_0_7_937.det.lc.W149</td>\n",
       "      <td>1810.665725</td>\n",
       "      <td>1810.632272</td>\n",
       "      <td>15.97680</td>\n",
       "      <td>7.041228</td>\n",
       "      <td>0.050736</td>\n",
       "      <td>3.0</td>\n",
       "      <td>0.334281</td>\n",
       "      <td>1.181640</td>\n",
       "      <td>0.000007</td>\n",
       "    </tr>\n",
       "    <tr>\n",
       "      <th>1494</th>\n",
       "      <td>mag.omcassan_0_7_2860.det.lc.W149</td>\n",
       "      <td>681.273462</td>\n",
       "      <td>654.914503</td>\n",
       "      <td>126.59100</td>\n",
       "      <td>78.793457</td>\n",
       "      <td>7.150112</td>\n",
       "      <td>3.0</td>\n",
       "      <td>0.080632</td>\n",
       "      <td>0.341737</td>\n",
       "      <td>0.003187</td>\n",
       "    </tr>\n",
       "    <tr>\n",
       "      <th>1496</th>\n",
       "      <td>mag.omcassan_0_71_672.det.lc.W149</td>\n",
       "      <td>1447.899481</td>\n",
       "      <td>1447.900232</td>\n",
       "      <td>5.94646</td>\n",
       "      <td>1.785595</td>\n",
       "      <td>0.022388</td>\n",
       "      <td>3.0</td>\n",
       "      <td>0.014415</td>\n",
       "      <td>1.025260</td>\n",
       "      <td>0.000006</td>\n",
       "    </tr>\n",
       "    <tr>\n",
       "      <th>1499</th>\n",
       "      <td>mag.omcassan_0_72_1001.det.lc.W149</td>\n",
       "      <td>1615.492410</td>\n",
       "      <td>1615.451138</td>\n",
       "      <td>53.62950</td>\n",
       "      <td>8.208169</td>\n",
       "      <td>1.463790</td>\n",
       "      <td>3.0</td>\n",
       "      <td>-0.076460</td>\n",
       "      <td>1.120060</td>\n",
       "      <td>0.000745</td>\n",
       "    </tr>\n",
       "    <tr>\n",
       "      <th>1500</th>\n",
       "      <td>mag.omcassan_0_72_2867.det.lc.W149</td>\n",
       "      <td>275.089884</td>\n",
       "      <td>175.293590</td>\n",
       "      <td>25.34960</td>\n",
       "      <td>0.223071</td>\n",
       "      <td>0.351531</td>\n",
       "      <td>3.0</td>\n",
       "      <td>-1.817010</td>\n",
       "      <td>4.635950</td>\n",
       "      <td>0.000192</td>\n",
       "    </tr>\n",
       "    <tr>\n",
       "      <th>1506</th>\n",
       "      <td>mag.omcassan_0_75_1055.det.lc.W149</td>\n",
       "      <td>357.382971</td>\n",
       "      <td>357.380836</td>\n",
       "      <td>15.72000</td>\n",
       "      <td>10.545428</td>\n",
       "      <td>0.248870</td>\n",
       "      <td>3.0</td>\n",
       "      <td>-0.059441</td>\n",
       "      <td>1.287740</td>\n",
       "      <td>0.000248</td>\n",
       "    </tr>\n",
       "    <tr>\n",
       "      <th>1509</th>\n",
       "      <td>mag.omcassan_0_76_852.det.lc.W149</td>\n",
       "      <td>340.278423</td>\n",
       "      <td>340.264057</td>\n",
       "      <td>30.07690</td>\n",
       "      <td>8.152199</td>\n",
       "      <td>0.178276</td>\n",
       "      <td>3.0</td>\n",
       "      <td>-0.119304</td>\n",
       "      <td>1.063980</td>\n",
       "      <td>0.000035</td>\n",
       "    </tr>\n",
       "    <tr>\n",
       "      <th>1511</th>\n",
       "      <td>mag.omcassan_0_8_2076.det.lc.W149</td>\n",
       "      <td>1574.331610</td>\n",
       "      <td>1574.259418</td>\n",
       "      <td>16.98290</td>\n",
       "      <td>6.137573</td>\n",
       "      <td>0.833692</td>\n",
       "      <td>3.0</td>\n",
       "      <td>0.048158</td>\n",
       "      <td>1.826900</td>\n",
       "      <td>0.002408</td>\n",
       "    </tr>\n",
       "    <tr>\n",
       "      <th>1512</th>\n",
       "      <td>mag.omcassan_0_85_143.det.lc.W149</td>\n",
       "      <td>1416.393074</td>\n",
       "      <td>1416.393102</td>\n",
       "      <td>10.05630</td>\n",
       "      <td>0.953683</td>\n",
       "      <td>0.301970</td>\n",
       "      <td>3.0</td>\n",
       "      <td>-0.006246</td>\n",
       "      <td>0.355716</td>\n",
       "      <td>0.000901</td>\n",
       "    </tr>\n",
       "    <tr>\n",
       "      <th>1513</th>\n",
       "      <td>mag.omcassan_0_85_1751.det.lc.W149</td>\n",
       "      <td>304.568646</td>\n",
       "      <td>304.722690</td>\n",
       "      <td>131.50000</td>\n",
       "      <td>17.996587</td>\n",
       "      <td>1.326868</td>\n",
       "      <td>3.0</td>\n",
       "      <td>0.028213</td>\n",
       "      <td>0.734335</td>\n",
       "      <td>0.000102</td>\n",
       "    </tr>\n",
       "    <tr>\n",
       "      <th>1520</th>\n",
       "      <td>mag.omcassan_0_96_1605.det.lc.W149</td>\n",
       "      <td>1612.944750</td>\n",
       "      <td>1612.944410</td>\n",
       "      <td>5.91377</td>\n",
       "      <td>2.636062</td>\n",
       "      <td>0.272599</td>\n",
       "      <td>3.0</td>\n",
       "      <td>-0.014012</td>\n",
       "      <td>0.432450</td>\n",
       "      <td>0.002121</td>\n",
       "    </tr>\n",
       "    <tr>\n",
       "      <th>1523</th>\n",
       "      <td>mag.omcassan_10_109_100.det.lc.W149</td>\n",
       "      <td>1414.892392</td>\n",
       "      <td>1414.915423</td>\n",
       "      <td>27.52590</td>\n",
       "      <td>24.464394</td>\n",
       "      <td>0.433751</td>\n",
       "      <td>3.0</td>\n",
       "      <td>0.244826</td>\n",
       "      <td>1.379880</td>\n",
       "      <td>0.000212</td>\n",
       "    </tr>\n",
       "    <tr>\n",
       "      <th>1533</th>\n",
       "      <td>mag.omcassan_10_50_1055.det.lc.W149</td>\n",
       "      <td>1616.360040</td>\n",
       "      <td>1616.445858</td>\n",
       "      <td>80.95500</td>\n",
       "      <td>40.966026</td>\n",
       "      <td>3.908980</td>\n",
       "      <td>3.0</td>\n",
       "      <td>-0.082511</td>\n",
       "      <td>1.927140</td>\n",
       "      <td>0.002327</td>\n",
       "    </tr>\n",
       "    <tr>\n",
       "      <th>1536</th>\n",
       "      <td>mag.omcassan_10_70_617.det.lc.W149</td>\n",
       "      <td>1816.258718</td>\n",
       "      <td>1820.489795</td>\n",
       "      <td>143.74100</td>\n",
       "      <td>17.608460</td>\n",
       "      <td>0.633673</td>\n",
       "      <td>3.0</td>\n",
       "      <td>-0.088138</td>\n",
       "      <td>1.130020</td>\n",
       "      <td>0.000019</td>\n",
       "    </tr>\n",
       "    <tr>\n",
       "      <th>...</th>\n",
       "      <td>...</td>\n",
       "      <td>...</td>\n",
       "      <td>...</td>\n",
       "      <td>...</td>\n",
       "      <td>...</td>\n",
       "      <td>...</td>\n",
       "      <td>...</td>\n",
       "      <td>...</td>\n",
       "      <td>...</td>\n",
       "      <td>...</td>\n",
       "    </tr>\n",
       "    <tr>\n",
       "      <th>2054</th>\n",
       "      <td>mag.omcassan_7_76_386.det.lc.W149</td>\n",
       "      <td>498.449681</td>\n",
       "      <td>498.419009</td>\n",
       "      <td>40.92010</td>\n",
       "      <td>36.993694</td>\n",
       "      <td>0.354302</td>\n",
       "      <td>3.0</td>\n",
       "      <td>-0.288427</td>\n",
       "      <td>0.866115</td>\n",
       "      <td>0.000068</td>\n",
       "    </tr>\n",
       "    <tr>\n",
       "      <th>2055</th>\n",
       "      <td>mag.omcassan_7_83_61.det.lc.W149</td>\n",
       "      <td>1586.675393</td>\n",
       "      <td>1586.673951</td>\n",
       "      <td>2.07030</td>\n",
       "      <td>1.783793</td>\n",
       "      <td>0.069966</td>\n",
       "      <td>3.0</td>\n",
       "      <td>0.136002</td>\n",
       "      <td>0.737246</td>\n",
       "      <td>0.001077</td>\n",
       "    </tr>\n",
       "    <tr>\n",
       "      <th>2056</th>\n",
       "      <td>mag.omcassan_7_83_208.det.lc.W149</td>\n",
       "      <td>142.295418</td>\n",
       "      <td>142.455044</td>\n",
       "      <td>88.29820</td>\n",
       "      <td>15.819750</td>\n",
       "      <td>0.589988</td>\n",
       "      <td>3.0</td>\n",
       "      <td>0.050764</td>\n",
       "      <td>0.839141</td>\n",
       "      <td>0.000044</td>\n",
       "    </tr>\n",
       "    <tr>\n",
       "      <th>2058</th>\n",
       "      <td>mag.omcassan_7_84_1003.det.lc.W149</td>\n",
       "      <td>1778.393523</td>\n",
       "      <td>1778.448973</td>\n",
       "      <td>34.43910</td>\n",
       "      <td>28.923479</td>\n",
       "      <td>1.099249</td>\n",
       "      <td>3.0</td>\n",
       "      <td>-0.032621</td>\n",
       "      <td>2.552940</td>\n",
       "      <td>0.001017</td>\n",
       "    </tr>\n",
       "    <tr>\n",
       "      <th>2059</th>\n",
       "      <td>mag.omcassan_7_99_533.det.lc.W149</td>\n",
       "      <td>1776.741047</td>\n",
       "      <td>1776.745967</td>\n",
       "      <td>28.92290</td>\n",
       "      <td>18.360154</td>\n",
       "      <td>0.199753</td>\n",
       "      <td>3.0</td>\n",
       "      <td>0.048359</td>\n",
       "      <td>0.816804</td>\n",
       "      <td>0.000047</td>\n",
       "    </tr>\n",
       "    <tr>\n",
       "      <th>2068</th>\n",
       "      <td>mag.omcassan_8_20_1217.det.lc.W149</td>\n",
       "      <td>170.900080</td>\n",
       "      <td>170.900874</td>\n",
       "      <td>4.63913</td>\n",
       "      <td>1.347622</td>\n",
       "      <td>0.044655</td>\n",
       "      <td>3.0</td>\n",
       "      <td>-0.140147</td>\n",
       "      <td>0.906552</td>\n",
       "      <td>0.000087</td>\n",
       "    </tr>\n",
       "    <tr>\n",
       "      <th>2069</th>\n",
       "      <td>mag.omcassan_8_23_2182.det.lc.W149</td>\n",
       "      <td>1405.578606</td>\n",
       "      <td>1405.571203</td>\n",
       "      <td>47.38940</td>\n",
       "      <td>43.139913</td>\n",
       "      <td>0.264593</td>\n",
       "      <td>3.0</td>\n",
       "      <td>-0.232006</td>\n",
       "      <td>0.916953</td>\n",
       "      <td>0.000011</td>\n",
       "    </tr>\n",
       "    <tr>\n",
       "      <th>2071</th>\n",
       "      <td>mag.omcassan_8_24_937.det.lc.W149</td>\n",
       "      <td>1434.243949</td>\n",
       "      <td>1434.252220</td>\n",
       "      <td>14.65200</td>\n",
       "      <td>6.364503</td>\n",
       "      <td>0.212774</td>\n",
       "      <td>3.0</td>\n",
       "      <td>0.077436</td>\n",
       "      <td>1.012160</td>\n",
       "      <td>0.000208</td>\n",
       "    </tr>\n",
       "    <tr>\n",
       "      <th>2073</th>\n",
       "      <td>mag.omcassan_8_31_903.det.lc.W149</td>\n",
       "      <td>539.981818</td>\n",
       "      <td>539.981899</td>\n",
       "      <td>11.26780</td>\n",
       "      <td>7.370405</td>\n",
       "      <td>0.168280</td>\n",
       "      <td>3.0</td>\n",
       "      <td>0.066272</td>\n",
       "      <td>1.249270</td>\n",
       "      <td>0.000213</td>\n",
       "    </tr>\n",
       "    <tr>\n",
       "      <th>2074</th>\n",
       "      <td>mag.omcassan_8_37_688.det.lc.W149</td>\n",
       "      <td>1583.197204</td>\n",
       "      <td>1583.204515</td>\n",
       "      <td>22.37690</td>\n",
       "      <td>5.988561</td>\n",
       "      <td>0.756613</td>\n",
       "      <td>3.0</td>\n",
       "      <td>0.118947</td>\n",
       "      <td>0.984483</td>\n",
       "      <td>0.001140</td>\n",
       "    </tr>\n",
       "    <tr>\n",
       "      <th>2075</th>\n",
       "      <td>mag.omcassan_8_45_441.det.lc.W149</td>\n",
       "      <td>1456.932204</td>\n",
       "      <td>1456.929993</td>\n",
       "      <td>12.26780</td>\n",
       "      <td>3.694999</td>\n",
       "      <td>0.300832</td>\n",
       "      <td>3.0</td>\n",
       "      <td>-0.062901</td>\n",
       "      <td>1.051450</td>\n",
       "      <td>0.000600</td>\n",
       "    </tr>\n",
       "    <tr>\n",
       "      <th>2077</th>\n",
       "      <td>mag.omcassan_8_45_729.det.lc.W149</td>\n",
       "      <td>1777.449816</td>\n",
       "      <td>1777.400844</td>\n",
       "      <td>56.92920</td>\n",
       "      <td>13.859665</td>\n",
       "      <td>5.304130</td>\n",
       "      <td>3.0</td>\n",
       "      <td>-0.025784</td>\n",
       "      <td>0.432251</td>\n",
       "      <td>0.008680</td>\n",
       "    </tr>\n",
       "    <tr>\n",
       "      <th>2082</th>\n",
       "      <td>mag.omcassan_8_59_155.det.lc.W149</td>\n",
       "      <td>1778.499910</td>\n",
       "      <td>1778.495283</td>\n",
       "      <td>15.26510</td>\n",
       "      <td>9.157353</td>\n",
       "      <td>0.148106</td>\n",
       "      <td>3.0</td>\n",
       "      <td>-0.156932</td>\n",
       "      <td>0.969273</td>\n",
       "      <td>0.000087</td>\n",
       "    </tr>\n",
       "    <tr>\n",
       "      <th>2084</th>\n",
       "      <td>mag.omcassan_8_59_844.det.lc.W149</td>\n",
       "      <td>128.784357</td>\n",
       "      <td>128.779340</td>\n",
       "      <td>245.72800</td>\n",
       "      <td>34.844907</td>\n",
       "      <td>0.397447</td>\n",
       "      <td>3.0</td>\n",
       "      <td>0.057658</td>\n",
       "      <td>0.966189</td>\n",
       "      <td>0.000002</td>\n",
       "    </tr>\n",
       "    <tr>\n",
       "      <th>2091</th>\n",
       "      <td>mag.omcassan_8_71_756.det.lc.W149</td>\n",
       "      <td>1496.836846</td>\n",
       "      <td>1473.859592</td>\n",
       "      <td>27.86800</td>\n",
       "      <td>34.464527</td>\n",
       "      <td>4.586035</td>\n",
       "      <td>3.0</td>\n",
       "      <td>-0.227361</td>\n",
       "      <td>3.807660</td>\n",
       "      <td>0.027080</td>\n",
       "    </tr>\n",
       "    <tr>\n",
       "      <th>2098</th>\n",
       "      <td>mag.omcassan_8_99_909.det.lc.W149</td>\n",
       "      <td>1641.019932</td>\n",
       "      <td>1641.020997</td>\n",
       "      <td>8.44762</td>\n",
       "      <td>0.981800</td>\n",
       "      <td>0.035957</td>\n",
       "      <td>3.0</td>\n",
       "      <td>0.011166</td>\n",
       "      <td>1.022970</td>\n",
       "      <td>0.000018</td>\n",
       "    </tr>\n",
       "    <tr>\n",
       "      <th>2100</th>\n",
       "      <td>mag.omcassan_9_109_230.det.lc.W149</td>\n",
       "      <td>102.396310</td>\n",
       "      <td>112.505461</td>\n",
       "      <td>11.21990</td>\n",
       "      <td>6.097047</td>\n",
       "      <td>0.065820</td>\n",
       "      <td>3.0</td>\n",
       "      <td>0.714015</td>\n",
       "      <td>0.460087</td>\n",
       "      <td>0.000017</td>\n",
       "    </tr>\n",
       "    <tr>\n",
       "      <th>2104</th>\n",
       "      <td>mag.omcassan_9_112_785.det.lc.W149</td>\n",
       "      <td>546.844867</td>\n",
       "      <td>546.784474</td>\n",
       "      <td>8.02162</td>\n",
       "      <td>1.952468</td>\n",
       "      <td>2.227582</td>\n",
       "      <td>3.0</td>\n",
       "      <td>-0.296247</td>\n",
       "      <td>0.847939</td>\n",
       "      <td>0.077044</td>\n",
       "    </tr>\n",
       "    <tr>\n",
       "      <th>2107</th>\n",
       "      <td>mag.omcassan_9_18_311.det.lc.W149</td>\n",
       "      <td>1667.408735</td>\n",
       "      <td>1669.357090</td>\n",
       "      <td>59.11100</td>\n",
       "      <td>53.129184</td>\n",
       "      <td>2.111274</td>\n",
       "      <td>3.0</td>\n",
       "      <td>0.172856</td>\n",
       "      <td>0.633186</td>\n",
       "      <td>0.001267</td>\n",
       "    </tr>\n",
       "    <tr>\n",
       "      <th>2111</th>\n",
       "      <td>mag.omcassan_9_33_384.det.lc.W149</td>\n",
       "      <td>1432.482331</td>\n",
       "      <td>1432.501629</td>\n",
       "      <td>149.89500</td>\n",
       "      <td>93.815865</td>\n",
       "      <td>0.981640</td>\n",
       "      <td>3.0</td>\n",
       "      <td>0.008672</td>\n",
       "      <td>1.628890</td>\n",
       "      <td>0.000041</td>\n",
       "    </tr>\n",
       "    <tr>\n",
       "      <th>2113</th>\n",
       "      <td>mag.omcassan_9_35_175.det.lc.W149</td>\n",
       "      <td>1427.999336</td>\n",
       "      <td>1428.748509</td>\n",
       "      <td>3.97948</td>\n",
       "      <td>3.462607</td>\n",
       "      <td>0.879979</td>\n",
       "      <td>3.0</td>\n",
       "      <td>-0.099898</td>\n",
       "      <td>5.350260</td>\n",
       "      <td>0.048583</td>\n",
       "    </tr>\n",
       "    <tr>\n",
       "      <th>2117</th>\n",
       "      <td>mag.omcassan_9_45_853.det.lc.W149</td>\n",
       "      <td>1759.633924</td>\n",
       "      <td>1759.654591</td>\n",
       "      <td>29.50690</td>\n",
       "      <td>10.846714</td>\n",
       "      <td>0.184799</td>\n",
       "      <td>3.0</td>\n",
       "      <td>0.047669</td>\n",
       "      <td>1.057580</td>\n",
       "      <td>0.000039</td>\n",
       "    </tr>\n",
       "    <tr>\n",
       "      <th>2124</th>\n",
       "      <td>mag.omcassan_9_50_939.det.lc.W149</td>\n",
       "      <td>1417.600951</td>\n",
       "      <td>1418.216178</td>\n",
       "      <td>136.02100</td>\n",
       "      <td>128.820095</td>\n",
       "      <td>42.097206</td>\n",
       "      <td>3.0</td>\n",
       "      <td>0.052395</td>\n",
       "      <td>0.063796</td>\n",
       "      <td>0.095769</td>\n",
       "    </tr>\n",
       "    <tr>\n",
       "      <th>2126</th>\n",
       "      <td>mag.omcassan_9_58_1068.det.lc.W149</td>\n",
       "      <td>1417.551591</td>\n",
       "      <td>1417.551602</td>\n",
       "      <td>5.47255</td>\n",
       "      <td>2.715196</td>\n",
       "      <td>0.026725</td>\n",
       "      <td>3.0</td>\n",
       "      <td>-0.005730</td>\n",
       "      <td>0.977731</td>\n",
       "      <td>0.000010</td>\n",
       "    </tr>\n",
       "    <tr>\n",
       "      <th>2127</th>\n",
       "      <td>mag.omcassan_9_59_80.det.lc.W149</td>\n",
       "      <td>295.944399</td>\n",
       "      <td>295.943663</td>\n",
       "      <td>8.18085</td>\n",
       "      <td>1.838475</td>\n",
       "      <td>0.312239</td>\n",
       "      <td>3.0</td>\n",
       "      <td>-0.006568</td>\n",
       "      <td>0.320349</td>\n",
       "      <td>0.001455</td>\n",
       "    </tr>\n",
       "    <tr>\n",
       "      <th>2128</th>\n",
       "      <td>mag.omcassan_9_6_980.det.lc.W149</td>\n",
       "      <td>1437.299584</td>\n",
       "      <td>1437.298194</td>\n",
       "      <td>8.16485</td>\n",
       "      <td>2.891254</td>\n",
       "      <td>0.061050</td>\n",
       "      <td>3.0</td>\n",
       "      <td>-0.020290</td>\n",
       "      <td>0.973968</td>\n",
       "      <td>0.000054</td>\n",
       "    </tr>\n",
       "    <tr>\n",
       "      <th>2133</th>\n",
       "      <td>mag.omcassan_9_76_223.det.lc.W149</td>\n",
       "      <td>416.783056</td>\n",
       "      <td>318.312787</td>\n",
       "      <td>47.12250</td>\n",
       "      <td>0.251005</td>\n",
       "      <td>0.637235</td>\n",
       "      <td>3.0</td>\n",
       "      <td>1.661860</td>\n",
       "      <td>3.012050</td>\n",
       "      <td>0.000182</td>\n",
       "    </tr>\n",
       "    <tr>\n",
       "      <th>2134</th>\n",
       "      <td>mag.omcassan_9_8_574.det.lc.W149</td>\n",
       "      <td>1442.341112</td>\n",
       "      <td>1455.615313</td>\n",
       "      <td>15.88300</td>\n",
       "      <td>0.839306</td>\n",
       "      <td>2.433608</td>\n",
       "      <td>3.0</td>\n",
       "      <td>-0.502233</td>\n",
       "      <td>1.589280</td>\n",
       "      <td>0.023477</td>\n",
       "    </tr>\n",
       "    <tr>\n",
       "      <th>2137</th>\n",
       "      <td>mag.omcassan_9_83_1094.det.lc.W149</td>\n",
       "      <td>1417.672355</td>\n",
       "      <td>1417.672699</td>\n",
       "      <td>5.73070</td>\n",
       "      <td>4.485131</td>\n",
       "      <td>0.028727</td>\n",
       "      <td>3.0</td>\n",
       "      <td>0.254850</td>\n",
       "      <td>1.137530</td>\n",
       "      <td>0.000020</td>\n",
       "    </tr>\n",
       "    <tr>\n",
       "      <th>2141</th>\n",
       "      <td>mag.omcassan_9_86_388.det.lc.W149</td>\n",
       "      <td>1797.601313</td>\n",
       "      <td>1797.409402</td>\n",
       "      <td>39.83680</td>\n",
       "      <td>26.176902</td>\n",
       "      <td>0.239868</td>\n",
       "      <td>3.0</td>\n",
       "      <td>-0.288607</td>\n",
       "      <td>1.202460</td>\n",
       "      <td>0.000029</td>\n",
       "    </tr>\n",
       "  </tbody>\n",
       "</table>\n",
       "<p>226 rows × 10 columns</p>\n",
       "</div>"
      ],
      "text/plain": [
       "                                     name           t0       t0_exp  \\\n",
       "1445   mag.omcassan_0_109_545.det.lc.W149   509.672087   509.674038   \n",
       "1449   mag.omcassan_0_11_1456.det.lc.W149  1786.188058  1786.184382   \n",
       "1450   mag.omcassan_0_11_1883.det.lc.W149   316.327420   316.338885   \n",
       "1451  mag.omcassan_0_111_2254.det.lc.W149  1409.501991  1409.076274   \n",
       "1454   mag.omcassan_0_113_616.det.lc.W149   500.755125   500.756137   \n",
       "1462    mag.omcassan_0_22_760.det.lc.W149  1407.613619  1407.611967   \n",
       "1463   mag.omcassan_0_22_3190.det.lc.W149  1808.680192  1808.684675   \n",
       "1464   mag.omcassan_0_23_2227.det.lc.W149   557.129197   536.590856   \n",
       "1469    mag.omcassan_0_32_977.det.lc.W149  1804.351505  1804.361476   \n",
       "1470    mag.omcassan_0_33_569.det.lc.W149   299.685321   299.686099   \n",
       "1473   mag.omcassan_0_33_1921.det.lc.W149   122.417714   122.417305   \n",
       "1476   mag.omcassan_0_36_1082.det.lc.W149  1504.061707  1441.177498   \n",
       "1485    mag.omcassan_0_50_326.det.lc.W149   329.345737   329.298959   \n",
       "1486   mag.omcassan_0_50_2183.det.lc.W149   529.681914   529.460703   \n",
       "1487    mag.omcassan_0_58_210.det.lc.W149   489.676336   489.673770   \n",
       "1489    mag.omcassan_0_59_147.det.lc.W149  1409.974982  1410.003093   \n",
       "1493     mag.omcassan_0_7_937.det.lc.W149  1810.665725  1810.632272   \n",
       "1494    mag.omcassan_0_7_2860.det.lc.W149   681.273462   654.914503   \n",
       "1496    mag.omcassan_0_71_672.det.lc.W149  1447.899481  1447.900232   \n",
       "1499   mag.omcassan_0_72_1001.det.lc.W149  1615.492410  1615.451138   \n",
       "1500   mag.omcassan_0_72_2867.det.lc.W149   275.089884   175.293590   \n",
       "1506   mag.omcassan_0_75_1055.det.lc.W149   357.382971   357.380836   \n",
       "1509    mag.omcassan_0_76_852.det.lc.W149   340.278423   340.264057   \n",
       "1511    mag.omcassan_0_8_2076.det.lc.W149  1574.331610  1574.259418   \n",
       "1512    mag.omcassan_0_85_143.det.lc.W149  1416.393074  1416.393102   \n",
       "1513   mag.omcassan_0_85_1751.det.lc.W149   304.568646   304.722690   \n",
       "1520   mag.omcassan_0_96_1605.det.lc.W149  1612.944750  1612.944410   \n",
       "1523  mag.omcassan_10_109_100.det.lc.W149  1414.892392  1414.915423   \n",
       "1533  mag.omcassan_10_50_1055.det.lc.W149  1616.360040  1616.445858   \n",
       "1536   mag.omcassan_10_70_617.det.lc.W149  1816.258718  1820.489795   \n",
       "...                                   ...          ...          ...   \n",
       "2054    mag.omcassan_7_76_386.det.lc.W149   498.449681   498.419009   \n",
       "2055     mag.omcassan_7_83_61.det.lc.W149  1586.675393  1586.673951   \n",
       "2056    mag.omcassan_7_83_208.det.lc.W149   142.295418   142.455044   \n",
       "2058   mag.omcassan_7_84_1003.det.lc.W149  1778.393523  1778.448973   \n",
       "2059    mag.omcassan_7_99_533.det.lc.W149  1776.741047  1776.745967   \n",
       "2068   mag.omcassan_8_20_1217.det.lc.W149   170.900080   170.900874   \n",
       "2069   mag.omcassan_8_23_2182.det.lc.W149  1405.578606  1405.571203   \n",
       "2071    mag.omcassan_8_24_937.det.lc.W149  1434.243949  1434.252220   \n",
       "2073    mag.omcassan_8_31_903.det.lc.W149   539.981818   539.981899   \n",
       "2074    mag.omcassan_8_37_688.det.lc.W149  1583.197204  1583.204515   \n",
       "2075    mag.omcassan_8_45_441.det.lc.W149  1456.932204  1456.929993   \n",
       "2077    mag.omcassan_8_45_729.det.lc.W149  1777.449816  1777.400844   \n",
       "2082    mag.omcassan_8_59_155.det.lc.W149  1778.499910  1778.495283   \n",
       "2084    mag.omcassan_8_59_844.det.lc.W149   128.784357   128.779340   \n",
       "2091    mag.omcassan_8_71_756.det.lc.W149  1496.836846  1473.859592   \n",
       "2098    mag.omcassan_8_99_909.det.lc.W149  1641.019932  1641.020997   \n",
       "2100   mag.omcassan_9_109_230.det.lc.W149   102.396310   112.505461   \n",
       "2104   mag.omcassan_9_112_785.det.lc.W149   546.844867   546.784474   \n",
       "2107    mag.omcassan_9_18_311.det.lc.W149  1667.408735  1669.357090   \n",
       "2111    mag.omcassan_9_33_384.det.lc.W149  1432.482331  1432.501629   \n",
       "2113    mag.omcassan_9_35_175.det.lc.W149  1427.999336  1428.748509   \n",
       "2117    mag.omcassan_9_45_853.det.lc.W149  1759.633924  1759.654591   \n",
       "2124    mag.omcassan_9_50_939.det.lc.W149  1417.600951  1418.216178   \n",
       "2126   mag.omcassan_9_58_1068.det.lc.W149  1417.551591  1417.551602   \n",
       "2127     mag.omcassan_9_59_80.det.lc.W149   295.944399   295.943663   \n",
       "2128     mag.omcassan_9_6_980.det.lc.W149  1437.299584  1437.298194   \n",
       "2133    mag.omcassan_9_76_223.det.lc.W149   416.783056   318.312787   \n",
       "2134     mag.omcassan_9_8_574.det.lc.W149  1442.341112  1455.615313   \n",
       "2137   mag.omcassan_9_83_1094.det.lc.W149  1417.672355  1417.672699   \n",
       "2141    mag.omcassan_9_86_388.det.lc.W149  1797.601313  1797.409402   \n",
       "\n",
       "             tE      tE_exp        tEp  tEp_exp        u0         s         q  \n",
       "1445   12.76640    2.024374   0.361488      3.0 -0.059480  0.731927  0.000802  \n",
       "1449   44.37130   36.315685   0.444852      3.0  0.015598  1.235610  0.000089  \n",
       "1450   21.35390    7.699746   0.152206      3.0 -0.148921  0.803341  0.000050  \n",
       "1451   17.65920    6.203704   2.624210      3.0 -0.039137  3.281870  0.022083  \n",
       "1454   11.37150    2.872560   0.125166      3.0  0.079386  0.627200  0.000117  \n",
       "1462   32.85510   28.600447   0.814501      3.0  0.113226  0.601308  0.000598  \n",
       "1463    4.12229    1.965469   0.059887      3.0  0.077862  4.923840  0.000194  \n",
       "1464   17.49500    0.646761   1.072938      3.0 -0.220071  1.745240  0.003756  \n",
       "1469    9.50629    0.811606   0.269527      3.0 -0.007867  1.106320  0.000804  \n",
       "1470   10.30470    2.728107   0.117050      3.0 -0.062425  1.150500  0.000129  \n",
       "1473   11.49970    0.568068   0.025597      3.0  0.010086  0.976540  0.000005  \n",
       "1476   34.92230    0.374786   0.386615      3.0  1.592980  2.744640  0.000121  \n",
       "1485   24.72940   14.652092   0.802699      3.0  0.056957  1.517730  0.001051  \n",
       "1486   29.68670   20.764292   2.111353      3.0 -0.066895  1.667150  0.005056  \n",
       "1487    9.57430    7.811789   0.128690      3.0  0.077001  1.692670  0.000171  \n",
       "1489   12.64870    9.775282   0.074341      3.0  0.512815  0.594247  0.000033  \n",
       "1493   15.97680    7.041228   0.050736      3.0  0.334281  1.181640  0.000007  \n",
       "1494  126.59100   78.793457   7.150112      3.0  0.080632  0.341737  0.003187  \n",
       "1496    5.94646    1.785595   0.022388      3.0  0.014415  1.025260  0.000006  \n",
       "1499   53.62950    8.208169   1.463790      3.0 -0.076460  1.120060  0.000745  \n",
       "1500   25.34960    0.223071   0.351531      3.0 -1.817010  4.635950  0.000192  \n",
       "1506   15.72000   10.545428   0.248870      3.0 -0.059441  1.287740  0.000248  \n",
       "1509   30.07690    8.152199   0.178276      3.0 -0.119304  1.063980  0.000035  \n",
       "1511   16.98290    6.137573   0.833692      3.0  0.048158  1.826900  0.002408  \n",
       "1512   10.05630    0.953683   0.301970      3.0 -0.006246  0.355716  0.000901  \n",
       "1513  131.50000   17.996587   1.326868      3.0  0.028213  0.734335  0.000102  \n",
       "1520    5.91377    2.636062   0.272599      3.0 -0.014012  0.432450  0.002121  \n",
       "1523   27.52590   24.464394   0.433751      3.0  0.244826  1.379880  0.000212  \n",
       "1533   80.95500   40.966026   3.908980      3.0 -0.082511  1.927140  0.002327  \n",
       "1536  143.74100   17.608460   0.633673      3.0 -0.088138  1.130020  0.000019  \n",
       "...         ...         ...        ...      ...       ...       ...       ...  \n",
       "2054   40.92010   36.993694   0.354302      3.0 -0.288427  0.866115  0.000068  \n",
       "2055    2.07030    1.783793   0.069966      3.0  0.136002  0.737246  0.001077  \n",
       "2056   88.29820   15.819750   0.589988      3.0  0.050764  0.839141  0.000044  \n",
       "2058   34.43910   28.923479   1.099249      3.0 -0.032621  2.552940  0.001017  \n",
       "2059   28.92290   18.360154   0.199753      3.0  0.048359  0.816804  0.000047  \n",
       "2068    4.63913    1.347622   0.044655      3.0 -0.140147  0.906552  0.000087  \n",
       "2069   47.38940   43.139913   0.264593      3.0 -0.232006  0.916953  0.000011  \n",
       "2071   14.65200    6.364503   0.212774      3.0  0.077436  1.012160  0.000208  \n",
       "2073   11.26780    7.370405   0.168280      3.0  0.066272  1.249270  0.000213  \n",
       "2074   22.37690    5.988561   0.756613      3.0  0.118947  0.984483  0.001140  \n",
       "2075   12.26780    3.694999   0.300832      3.0 -0.062901  1.051450  0.000600  \n",
       "2077   56.92920   13.859665   5.304130      3.0 -0.025784  0.432251  0.008680  \n",
       "2082   15.26510    9.157353   0.148106      3.0 -0.156932  0.969273  0.000087  \n",
       "2084  245.72800   34.844907   0.397447      3.0  0.057658  0.966189  0.000002  \n",
       "2091   27.86800   34.464527   4.586035      3.0 -0.227361  3.807660  0.027080  \n",
       "2098    8.44762    0.981800   0.035957      3.0  0.011166  1.022970  0.000018  \n",
       "2100   11.21990    6.097047   0.065820      3.0  0.714015  0.460087  0.000017  \n",
       "2104    8.02162    1.952468   2.227582      3.0 -0.296247  0.847939  0.077044  \n",
       "2107   59.11100   53.129184   2.111274      3.0  0.172856  0.633186  0.001267  \n",
       "2111  149.89500   93.815865   0.981640      3.0  0.008672  1.628890  0.000041  \n",
       "2113    3.97948    3.462607   0.879979      3.0 -0.099898  5.350260  0.048583  \n",
       "2117   29.50690   10.846714   0.184799      3.0  0.047669  1.057580  0.000039  \n",
       "2124  136.02100  128.820095  42.097206      3.0  0.052395  0.063796  0.095769  \n",
       "2126    5.47255    2.715196   0.026725      3.0 -0.005730  0.977731  0.000010  \n",
       "2127    8.18085    1.838475   0.312239      3.0 -0.006568  0.320349  0.001455  \n",
       "2128    8.16485    2.891254   0.061050      3.0 -0.020290  0.973968  0.000054  \n",
       "2133   47.12250    0.251005   0.637235      3.0  1.661860  3.012050  0.000182  \n",
       "2134   15.88300    0.839306   2.433608      3.0 -0.502233  1.589280  0.023477  \n",
       "2137    5.73070    4.485131   0.028727      3.0  0.254850  1.137530  0.000020  \n",
       "2141   39.83680   26.176902   0.239868      3.0 -0.288607  1.202460  0.000029  \n",
       "\n",
       "[226 rows x 10 columns]"
      ]
     },
     "execution_count": 9,
     "metadata": {},
     "output_type": "execute_result"
    }
   ],
   "source": [
    "info[['name','t0','t0_exp','tE','tE_exp','tEp','tEp_exp','u0','s','q']][(info.type==2) & (info.tEp_exp==3.0)]"
   ]
  },
  {
   "cell_type": "code",
   "execution_count": 872,
   "metadata": {
    "collapsed": false
   },
   "outputs": [
    {
     "name": "stdout",
     "output_type": "stream",
     "text": [
      "2460059.24144\n",
      "2458346.50546\n",
      "[2460043.525942191, 3.0, 3.5288579052445397, 2460020.184382046, 36.31568497813472, 0.019516149280843775, 1.0]\n"
     ]
    },
    {
     "data": {
      "image/png": "[encoded data removed]",
      "text/plain": [
       "<matplotlib.figure.Figure at 0x174f61f50>"
      ]
     },
     "metadata": {},
     "output_type": "display_data"
    }
   ],
   "source": [
    "# Testing individual results \n",
    "test = 'mag.omcassan_0_11_1456.det.lc.W149'\n",
    "\n",
    "dtt = 50\n",
    "\n",
    "for i in range(len(result_n['name'])):\n",
    "    if result_n['name'][i] == test:\n",
    "        \n",
    "        fx = PSPL_Gaussian(result_n['params_2'][i][0],result_n['params_2'][i][1],\n",
    "                                                        result_n['params_2'][i][2],result_n['params_2'][i][3],\n",
    "                                                        result_n['params_2'][i][4],result_n['params_2'][i][5],\n",
    "                                                        result_n['params_2'][i][6], result_n['t'][i])\n",
    "        \n",
    "        print max(result_n['t'][i])\n",
    "        print min(result_n['t'][i])\n",
    "        print result_n['params_2'][i]\n",
    "        plt.plot(result_n['t'][i]-2458234,result_n['A'][i]-fx,'b.', markersize=25, label='Lightcurve Data')\n",
    "        #plt.plot(result_n['t'][i]-2458234,fx,'r.', markersize=10, label='PSPL+Gaussian Fit')\n",
    "\n",
    "        plt.ylabel('Magnification', size=25)\n",
    "        plt.xlabel('Time - 2458234', size=25)\n",
    "        plt.title('PSPL+Gaussian Fit',size=25)\n",
    "\n",
    "        plt.xlim((result_n['params_2'][i][3])-2458234-dtt,(result_n['params_2'][i][3])-2458234+dtt)\n",
    "        plt.axvline(result_n['params_2'][i][0]-2458234)\n",
    "#        plt.legend(loc=2,fontsize=20)\n",
    "        \n",
    "        #plt.xlim(400,500)\n",
    "        plt.xticks(fontsize=20)\n",
    "        plt.yticks(fontsize=20)\n",
    "\n",
    "\n",
    "\n",
    "        fig = plt.gcf()\n",
    "        fig.set_size_inches(15.0,12.0)"
   ]
  },
  {
   "cell_type": "code",
   "execution_count": 956,
   "metadata": {
    "collapsed": true
   },
   "outputs": [],
   "source": [
    "info['chisqr1_tot_red'] = info.chisqr1_tot * (1.0/(38568-7))\n",
    "info['chisqr2_tot_red'] = info.chisqr2_tot * (1.0/(38568-7))\n",
    "\n"
   ]
  },
  {
   "cell_type": "code",
   "execution_count": 999,
   "metadata": {
    "collapsed": false
   },
   "outputs": [],
   "source": [
    "### I was trying to do a hexbin plot but found out it's not very helpful\n",
    "\n",
    "\n",
    "# fig, axs = plt.subplots(2, 2, sharex=True, sharey=True)\n",
    "\n",
    "# x = 'chisqr1_tot'\n",
    "# y = 'chisqr2_tot'\n",
    "\n",
    "# # c_y = 1\n",
    "# # c_x = 1.0/(38568-7)\n",
    "# g = 1000\n",
    "\n",
    "# hb = axs[0,0].hexbin(info.chisqr1_tot_red.values, info.chisqr2_tot_red.values,  C= info.CV_labeled.values,\n",
    "#             gridsize=g,bins='log', xscale='log', yscale='log', cmap=\"viridis\", reduce_C_function = np.sum)\n",
    "# # axs[0,0].legend()\n",
    "# cb = fig.colorbar(hb, ax=axs[0,0])\n",
    "\n",
    "\n",
    "# hb = axs[0,1].hexbin(info.chisqr1_tot_red.values, info.chisqr2_tot_red.values,  C= info.Bin_labeled.values,\n",
    "#             gridsize=g,bins='log', xscale='log', yscale='log', cmap=\"viridis\", reduce_C_function = np.sum)\n",
    "# # axs[0,0].legend()\n",
    "# cb = fig.colorbar(hb, ax=axs[0,1])\n",
    "\n",
    "# hb = axs[1,0].hexbin(info.chisqr1_tot_red.values, info.chisqr2_tot_red.values,  C= info.Planet_labeled.values,\n",
    "#             gridsize=g,bins='log', xscale='log', yscale='log', cmap=\"viridis\", reduce_C_function = np.sum)\n",
    "# # axs[0,0].legend()\n",
    "# cb = fig.colorbar(hb, ax=axs[1,0])\n",
    "\n",
    "# hb = axs[1,1].hexbin(info.chisqr1_tot_red.values, info.chisqr2_tot_red.values,  C= info.PSPL_labeled.values,\n",
    "#             gridsize=g, xscale='log', yscale='log', cmap=\"viridis\", reduce_C_function = np.sum)\n",
    "# # axs[0,0].legend()\n",
    "# cb = fig.colorbar(hb, ax=axs[1,1])\n",
    "\n",
    "# plt.xlim(0.98,1)\n",
    "# plt.ylim(0.98,1)\n",
    "\n",
    "\n",
    "# fig = plt.gcf()\n",
    "\n",
    "# fig.set_size_inches(15.0,12.0)"
   ]
  },
  {
   "cell_type": "code",
   "execution_count": null,
   "metadata": {
    "collapsed": true
   },
   "outputs": [],
   "source": []
  }
 ],
 "metadata": {
  "kernelspec": {
   "display_name": "Python 2",
   "language": "python",
   "name": "python2"
  },
  "language_info": {
   "codemirror_mode": {
    "name": "ipython",
    "version": 2
   },
   "file_extension": ".py",
   "mimetype": "text/x-python",
   "name": "python",
   "nbconvert_exporter": "python",
   "pygments_lexer": "ipython2",
   "version": "2.7.11"
  }
 },
 "nbformat": 4,
 "nbformat_minor": 0
}
