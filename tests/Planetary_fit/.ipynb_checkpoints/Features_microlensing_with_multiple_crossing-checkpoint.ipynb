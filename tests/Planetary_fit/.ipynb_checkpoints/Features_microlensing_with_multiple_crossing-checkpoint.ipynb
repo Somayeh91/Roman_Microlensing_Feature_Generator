{
 "cells": [
  {
   "cell_type": "code",
   "execution_count": 142,
   "metadata": {},
   "outputs": [],
   "source": [
    "import glob,os,sys\n",
    "import numpy as np\n",
    "import matplotlib.pyplot as plt\n",
    "import matplotlib\n",
    "from numpy import *\n",
    "import re\n",
    "import scipy.stats as st\n",
    "from os.path import expanduser\n",
    "import cmath\n",
    "import scipy.optimize as op\n",
    "import time\n",
    "import gzip\n",
    "import pandas as pd\n",
    "from mpl_toolkits.axes_grid1.inset_locator import zoomed_inset_axes\n",
    "from mpl_toolkits.axes_grid1.inset_locator import (mark_inset,inset_axes,InsetPosition)\n",
    "from sympy.solvers import solve\n",
    "from sympy import Symbol"
   ]
  },
  {
   "cell_type": "code",
   "execution_count": 2,
   "metadata": {},
   "outputs": [],
   "source": [
    "# Say, \"the default sans-serif font is COMIC SANS\"\n",
    "matplotlib.rcParams['font.sans-serif'] = \"Times New Roman\"\n",
    "# Then, \"ALWAYS use sans-serif fonts\"\n",
    "matplotlib.rcParams['font.family'] = \"serif\"\n",
    "\n",
    "start = time.time()\n",
    "\n",
    "home = os.path.expanduser(\"~\")\n",
    "\n",
    "direc = os.listdir(\".\")"
   ]
  },
  {
   "cell_type": "code",
   "execution_count": 108,
   "metadata": {},
   "outputs": [],
   "source": [
    "# Smoothing the data\n",
    "\n",
    "def low_pass_filter(y, box_pts, mode='same', base=1):\n",
    "    box = base*(np.ones(box_pts)/box_pts)\n",
    "    y_filtered = np.convolve(y, box, mode=mode)\n",
    "    if mode=='same':\n",
    "        y_filtered[0:int(box_pts/2)]=y_filtered[int(box_pts/2)]\n",
    "        y_filtered[len(y_filtered)-int(box_pts/2):len(y_filtered)]=y_filtered[len(y_filtered)-int(box_pts/2)]\n",
    "    return y_filtered"
   ]
  },
  {
   "cell_type": "code",
   "execution_count": 119,
   "metadata": {},
   "outputs": [],
   "source": [
    "# ASSUMPTION = t and m are panda dataframes\n",
    "# Create a function that: \n",
    "# 1- Smoothes the lightcurve\n",
    "# 2- Divides it into bins of arbitrary sizes\n",
    "# 3- Calculates (m - mean)/std(m)\n",
    "# 4- Counts the number of outliers in each bin with deviations larger than threshold*sigma\n",
    "\n",
    "def count_peaks (t, m, smooth='yes', bin_size = 30, threshold = 3):\n",
    "    \n",
    "    if smooth == 'yes':\n",
    "        m = low_pass_filter(m,8)\n",
    "    else:\n",
    "        pass\n",
    "    \n",
    "    bins = np.linspace(t.min(),t.max(),int((t.max()-t.min())/bin_size))\n",
    "    groups = df.groupby(np.digitize(t, bins))\n",
    "    \n",
    "    std_ = np.std(m)\n",
    "    delta_m = []\n",
    "    t__ = []\n",
    "    c=0\n",
    "    for i in groups.indices:\n",
    "        #print c\n",
    "        c = c+1\n",
    "        #print i\n",
    "        m_ = m[groups.indices[i]]\n",
    "        t_ = t[groups.indices[i]]\n",
    "        #print t,m\n",
    "        del_m = np.asarray((np.abs(m_- m_.mean())/std_))\n",
    "        delta_m.append(del_m)\n",
    "        t__.append(np.asarray(t_))\n",
    "    peaks = []    \n",
    "    n_outliers = []\n",
    "    for j in range(len(delta_m)):\n",
    "        n_temp = len(np.where(delta_m[j]>threshold)[0])\n",
    "        n_outliers.append(n_temp) \n",
    "        if n_temp > 0 :\n",
    "            peaks.append(t__[j][np.argmax(delta_m[j])])\n",
    "    return n_outliers, peaks"
   ]
  },
  {
   "cell_type": "code",
   "execution_count": 203,
   "metadata": {},
   "outputs": [],
   "source": [
    "def empty(df):\n",
    "    return len(df.index) == 0\n",
    "    \n",
    "def fwhm(valuelist, peakpos,base):\n",
    "    peakvalue = valuelist[peakpos]-base\n",
    "    phalf = (peakvalue / 2.0)+base\n",
    "\n",
    "    # go left and right, starting from peakpos\n",
    "    ind1 = peakpos\n",
    "    ind2 = peakpos   \n",
    "\n",
    "    while ind1>2 and valuelist[ind1]<phalf:\n",
    "        ind1=ind1-1\n",
    "    while ind2<len(valuelist)-1 and valuelist[ind2]<phalf:\n",
    "        ind2=ind2+1  \n",
    "    return ind1,ind2\n",
    "\n",
    "def tE_finder (t,m, t0, m_base):\n",
    "    df = pd.DataFrame({'t' : t, 'm' : m})\n",
    "    \n",
    "    m_A134 = m_base - (np.log10(1.34)/0.4) \n",
    "    \n",
    "    \n",
    "    t_max = t0\n",
    "    t_right = df['t'][df['t']>t_max]\n",
    "    \n",
    "    t_left = df['t'][df['t']<t_max]\n",
    "    \n",
    "    \n",
    "    if not len(t_right) == 0  :\n",
    "        \n",
    "        tE_right = np.abs(t_right[(np.abs(df['m'][df['t']>t_max]-(m_A134))).argmin()]-t_max)\n",
    "    else:\n",
    "        tE_right = 1\n",
    "        \n",
    "    if not len(t_left)==0 :\n",
    "        tE_left = np.abs(t_left[(np.abs(df['m'][df['t']<t_max]-(m_A134))).argmin()]-t_max)\n",
    "        \n",
    "    else:\n",
    "        tE_left = 1\n",
    "       \n",
    "    \n",
    "    return max([tE_right,tE_left])\n",
    "\n",
    "def fun (t0,u0,tE, m_base):\n",
    "    u = np.sqrt(u0**2+((df['t']-t0)/tE)**2)\n",
    "    A = ((u**2)+2)/(u*np.sqrt(u**2+4))\n",
    "    return m_base - (np.log10(A)/0.4)\n",
    "\n",
    "def lnlike(theta, t, f, f_err):\n",
    "    t0, u0, tE, base = theta\n",
    "    model = fun(t0, u0, tE, base)\n",
    "    inv_sigma2 = 1.0/(f_err**2)\n",
    "    return -0.5*(np.sum((f-model)**2*inv_sigma2))\n",
    "\n",
    "def smooth(y, box_pts):\n",
    "    box = np.ones(box_pts)/box_pts\n",
    "    y_smooth = np.convolve(y, box, mode='same')\n",
    "    return y_smooth\n"
   ]
  },
  {
   "cell_type": "code",
   "execution_count": 41,
   "metadata": {},
   "outputs": [],
   "source": [
    "def localize_event(lightcurve,t0,tE):\n",
    "    \"\"\"Function to estimate roughly the area around the peak of an event, \n",
    "    and identify which timestamps in the array belong to the event versus\n",
    "    the baseline\n",
    "    \"\"\"\n",
    "    \n",
    "    idx1 = np.where(lightcurve >= t0-tE)[0]\n",
    "    idx2 = np.where(lightcurve <= t0+tE)[0]\n",
    "    event = list(set(idx1).intersection(set(idx2)))\n",
    "    \n",
    "    baseline = np.arange(0,len(lightcurve),1)\n",
    "    baseline = np.delete(baseline,event)\n",
    "    \n",
    "    it0 = np.where(lightcurve == t0)[0][0]\n",
    "    \n",
    "    return baseline, event, it0"
   ]
  },
  {
   "cell_type": "code",
   "execution_count": 207,
   "metadata": {},
   "outputs": [],
   "source": [
    "def s_q_estimator (t, m, m_err ):\n",
    "    \n",
    "    df = pd.DataFrame({'t':t , 'm':m , 'm_err' : m_err})\n",
    "    t0 = df['t'][np.argmin(df['m'][df['m']>np.percentile(df['m'], [0.2,100])[0]])]\n",
    "    baseline, event, it0 = localize_event(df['t'], t0, 30)\n",
    "    base_mag = np.median(df['m'][baseline])\n",
    "    \n",
    "    plt.figure(1)\n",
    "    plt.plot(df['t'][event],df['m'][event],'b.')\n",
    "    plt.plot(df['t'][baseline],df['m'][baseline],'r.')\n",
    "    plt.axvline(t0)\n",
    "    plt.xlim(t0-60, t0+60)\n",
    "    plt.gca().invert_yaxis()\n",
    "    \n",
    "    m_max = df['m'][np.argmin(df['m'][df['m']>np.percentile(df['m'], [0.2,100])[0]])]\n",
    "    A_max = 10 ** (0.4*(base_mag - m_max))\n",
    "    u0_true = np.sqrt( ( (1+np.sqrt(1+16*(A_max**2)))/(2* A_max) ) - 2 )\n",
    "    ind1, ind2 = fwhm(df['m'],np.argmin(df['m'][df['m']>np.percentile(df['m'], [0.2,100])[0]]),base_mag)\n",
    "    tE_A134 = tE_finder (df['t'],df[ 'm'],t0, base_mag)\n",
    "    tE_true = [tE_A134 , t[ind2]-t[ind1]]\n",
    "    \n",
    "    tE_ = [[],[]]    \n",
    "    for i in tE_true:\n",
    "\n",
    "        nll = lambda *args: -lnlike(*args)\n",
    "        result = op.minimize(nll, [t0_true, u0_true, i, base_mag], args=(df['t'],df[ 'm'], df['m_err']),method = 'Nelder-Mead')\n",
    "        t0_ml, u0_ml, tE_ml, base_ml = result['x']\n",
    "        tE_[0].append(-2*lnlike([t0_ml, u0_ml, tE_ml, base_ml],df['t'],df[ 'm'], df['m_err']))\n",
    "        tE_[1].append([t0_ml, u0_ml, tE_ml, base_ml])\n",
    "        \n",
    "    mm = np.asarray( tE_[0])\n",
    "    tE__ = tE_[1][mm.argmax()]\n",
    "\n",
    "    t0_ml, u0_ml, tE_ml,base_ml = tE__[0],tE__[1],tE__[2],tE__[3]\n",
    "    \n",
    "    f_res = df['m']-fun(t0_ml, u0_ml, tE_ml,base_ml)\n",
    "    \n",
    "    n_out, peaks = count_peaks (t, f_res, smooth='yes', bin_size = 20, threshold = 3)\n",
    "    \n",
    "    plt.figure(2)\n",
    "    plt.plot(df['t'],f_res,'b.')\n",
    "    plt.xlim(t0_ml-tE_ml, t0_ml+tE_ml)\n",
    "    plt.gca().invert_yaxis()\n",
    "    \n",
    "    if len(peaks)==2:\n",
    "        u = []\n",
    "        for peak in peaks:\n",
    "            plt.axvline(peak)\n",
    "            m1 = df['m'][df['t']==peak]\n",
    "            A1 = 10** (0.4*(base_mag-m1))\n",
    "            u1 = np.sqrt( ((peak-t0_ml)/tE_ml)**2 + (u0_ml)**2 )\n",
    "            u.append(u)\n",
    "    elif len(peaks)==1:\n",
    "        \n",
    "        print \"One peak was found in the residual\"\n",
    "        \n",
    "    else:\n",
    "        \n",
    "        print \"More than two peaks were found in the residual.\"\n",
    "        \n",
    "    \n",
    "        \n",
    "    s0s1 = np.sqrt( (u1)**2 + (u0_ml)**2 )\n",
    "    s0s2 = np.sqrt( (u2)**2 + (u0_ml)**2 )\n",
    "    s1s2 = s0s1 - s0s2\n",
    "    xs1 = (s1s2 * s0s1) / u1\n",
    "    Lx = u1 - xs1\n",
    "    \n",
    "    \n",
    "    x = Symbol('x')\n",
    "    s = solve(x-(1/x)-Lx, x)\n",
    "    \n",
    "    #if df['m'][df['t']==peaks] <0 :\n",
    "    \n",
    "    \n",
    "    q = ( xs1*s[1]*np.sqrt(float(s[1]**2 -1))/2 )**2\n",
    "    \n",
    "    return s[1], q\n",
    "\n",
    "\n",
    "    \n",
    "    "
   ]
  },
  {
   "cell_type": "code",
   "execution_count": 191,
   "metadata": {},
   "outputs": [],
   "source": [
    "name = 'OGLE-2012-BLG-0406.txt'  \n",
    "tempdata = 'data/OGLE-2012-BLG-0406/'+str(name)"
   ]
  },
  {
   "cell_type": "code",
   "execution_count": 192,
   "metadata": {},
   "outputs": [],
   "source": [
    "t,m,m_err,seeing,skylevel = np.loadtxt(tempdata,usecols=(0,1,2,3,4),unpack=True)\n",
    "df = pd.DataFrame({'t':t , 'm':m , 'm_err' : m_err , 'seeing': seeing, 'skylevel':skylevel})\n"
   ]
  },
  {
   "cell_type": "code",
   "execution_count": 193,
   "metadata": {},
   "outputs": [
    {
     "data": {
      "image/png": "[encoded data removed]",
      "text/plain": [
       "<Figure size 432x288 with 1 Axes>"
      ]
     },
     "metadata": {},
     "output_type": "display_data"
    }
   ],
   "source": [
    "plt.plot(df['t'],df['m'],'b.')\n",
    "plt.ylim(np.percentile(df['m'], [0.2,100]))\n",
    "plt.axvline(df['t'][np.argmin(df['m'][df['m']>np.percentile(df['m'], [0.2,100])[0]])])\n",
    "plt.gca().invert_yaxis()"
   ]
  },
  {
   "cell_type": "code",
   "execution_count": 194,
   "metadata": {},
   "outputs": [],
   "source": [
    "t0 = df['t'][np.argmin(df['m'][df['m']>np.percentile(df['m'], [0.2,100])[0]])]"
   ]
  },
  {
   "cell_type": "code",
   "execution_count": 195,
   "metadata": {},
   "outputs": [],
   "source": [
    "baseline, event, it0 = localize_event(df['t'], t0,70)"
   ]
  },
  {
   "cell_type": "code",
   "execution_count": 196,
   "metadata": {},
   "outputs": [
    {
     "data": {
      "image/png": "[encoded data removed]",
      "text/plain": [
       "<Figure size 432x288 with 1 Axes>"
      ]
     },
     "metadata": {},
     "output_type": "display_data"
    }
   ],
   "source": [
    "plt.plot(df['t'][event],df['m'][event],'b.')\n",
    "plt.plot(df['t'][baseline],df['m'][baseline],'r.')\n",
    "plt.gca().invert_yaxis()"
   ]
  },
  {
   "cell_type": "code",
   "execution_count": 204,
   "metadata": {},
   "outputs": [
    {
     "name": "stderr",
     "output_type": "stream",
     "text": [
      "/usr/local/lib/python2.7/site-packages/ipykernel_launcher.py:32: FutureWarning: 'argmin' is deprecated, use 'idxmin' instead. The behavior of 'argmin'\n",
      "will be corrected to return the positional minimum in the future.\n",
      "Use 'series.values.argmin' to get the position of the minimum now.\n",
      "/usr/local/lib/python2.7/site-packages/ipykernel_launcher.py:37: FutureWarning: 'argmin' is deprecated, use 'idxmin' instead. The behavior of 'argmin'\n",
      "will be corrected to return the positional minimum in the future.\n",
      "Use 'series.values.argmin' to get the position of the minimum now.\n"
     ]
    }
   ],
   "source": [
    "base_mag = np.median(df['m'][baseline])\n",
    "m_max = df['m'][np.argmin(df['m'][df['m']>np.percentile(df['m'], [0.2,100])[0]])]\n",
    "A_max = 10 ** (0.4*(base_mag - m_max))\n",
    "u0_true = np.sqrt( ( (1+np.sqrt(1+16*(A_max**2)))/(2* A_max) ) - 2 )\n",
    "t0_true =  t0\n",
    "ind1, ind2 = fwhm(df['m'],np.argmin(df['m'][df['m']>np.percentile(df['m'], [0.2,100])[0]]),base_mag)\n",
    "tE_true = [tE_finder (df['t'],df[ 'm'],t0, base_mag), t[ind2]-t[ind1]]"
   ]
  },
  {
   "cell_type": "code",
   "execution_count": 187,
   "metadata": {},
   "outputs": [],
   "source": [
    "x = np.reshape(df['t'].values, [1,len(df['t'])])"
   ]
  },
  {
   "cell_type": "code",
   "execution_count": 190,
   "metadata": {},
   "outputs": [
    {
     "ename": "ValueError",
     "evalue": "sequence too large; cannot be greater than 32",
     "output_type": "error",
     "traceback": [
      "\u001b[0;31m---------------------------------------------------------------------------\u001b[0m",
      "\u001b[0;31mValueError\u001b[0m                                Traceback (most recent call last)",
      "\u001b[0;32m<ipython-input-190-e7da88dd407b>\u001b[0m in \u001b[0;36m<module>\u001b[0;34m()\u001b[0m\n\u001b[0;32m----> 1\u001b[0;31m \u001b[0mempty\u001b[0m\u001b[0;34m(\u001b[0m\u001b[0mnp\u001b[0m\u001b[0;34m.\u001b[0m\u001b[0masarray\u001b[0m\u001b[0;34m(\u001b[0m\u001b[0mdf\u001b[0m\u001b[0;34m[\u001b[0m\u001b[0;34m't'\u001b[0m\u001b[0;34m]\u001b[0m\u001b[0;34m)\u001b[0m\u001b[0;34m)\u001b[0m\u001b[0;34m\u001b[0m\u001b[0m\n\u001b[0m",
      "\u001b[0;31mValueError\u001b[0m: sequence too large; cannot be greater than 32"
     ]
    }
   ],
   "source": [
    "empty(np.asarray(df['t']))"
   ]
  },
  {
   "cell_type": "code",
   "execution_count": 96,
   "metadata": {},
   "outputs": [],
   "source": [
    "tE_ = [[],[]]    \n",
    "for i in tE_true:\n",
    "               \n",
    "    nll = lambda *args: -lnlike(*args)\n",
    "    result = op.minimize(nll, [t0_true, u0_true, i, base_mag], args=(df['t'],df[ 'm'], df['m_err']),method = 'Nelder-Mead')\n",
    "    t0_ml, u0_ml, tE_ml, base_ml = result['x']\n",
    "    tE_[0].append(-2*lnlike([t0_ml, u0_ml, tE_ml, base_ml],df['t'],df[ 'm'], df['m_err']))\n",
    "    tE_[1].append([t0_ml, u0_ml, tE_ml, base_ml])"
   ]
  },
  {
   "cell_type": "code",
   "execution_count": 97,
   "metadata": {},
   "outputs": [
    {
     "data": {
      "text/plain": [
       "[57428.5707189566, 57428.57071939806]"
      ]
     },
     "execution_count": 97,
     "metadata": {},
     "output_type": "execute_result"
    }
   ],
   "source": [
    "tE_[0]"
   ]
  },
  {
   "cell_type": "code",
   "execution_count": 99,
   "metadata": {},
   "outputs": [],
   "source": [
    "#print tE_[1]\n",
    "mm = np.asarray( tE_[0])\n",
    "tE__ = tE_[1][mm.argmax()]\n",
    "\n",
    "t0_ml, u0_ml, tE_ml,base_ml = tE__[0],tE__[1],tE__[2],tE__[3]\n"
   ]
  },
  {
   "cell_type": "code",
   "execution_count": 100,
   "metadata": {},
   "outputs": [
    {
     "data": {
      "image/png": "[encoded data removed]",
      "text/plain": [
       "<Figure size 432x288 with 1 Axes>"
      ]
     },
     "metadata": {},
     "output_type": "display_data"
    }
   ],
   "source": [
    "plt.plot(df['t'],df['m'],'b.')\n",
    "plt.plot(df['t'],fun(t0_ml, u0_ml, tE_ml,base_ml),'r')\n",
    "plt.gca().invert_yaxis()"
   ]
  },
  {
   "cell_type": "code",
   "execution_count": 103,
   "metadata": {},
   "outputs": [],
   "source": [
    "f_res = df['m']-fun(t0_ml, u0_ml, tE_ml,base_ml)"
   ]
  },
  {
   "cell_type": "code",
   "execution_count": 126,
   "metadata": {},
   "outputs": [
    {
     "data": {
      "image/png": "[encoded data removed]",
      "text/plain": [
       "<Figure size 432x288 with 1 Axes>"
      ]
     },
     "metadata": {},
     "output_type": "display_data"
    }
   ],
   "source": [
    "plt.plot(df['t'],f_res,'b.')\n",
    "plt.xlim(t0_ml-tE_ml, t0_ml+tE_ml)\n",
    "plt.axvline(peaks[0])\n",
    "plt.axvline(peaks[1])\n",
    "plt.gca().invert_yaxis()"
   ]
  },
  {
   "cell_type": "code",
   "execution_count": 124,
   "metadata": {},
   "outputs": [],
   "source": [
    "n_out, peaks = count_peaks (t, f_res, smooth='yes', bin_size = 20, threshold = 3)"
   ]
  },
  {
   "cell_type": "code",
   "execution_count": 125,
   "metadata": {},
   "outputs": [
    {
     "data": {
      "text/plain": [
       "[2456113.68359, 2456120.77201]"
      ]
     },
     "execution_count": 125,
     "metadata": {},
     "output_type": "execute_result"
    }
   ],
   "source": [
    "peaks"
   ]
  },
  {
   "cell_type": "code",
   "execution_count": 133,
   "metadata": {},
   "outputs": [],
   "source": [
    "# Caustic crossing 1\n",
    "\n",
    "m1 = df['m'][df['t']==peaks[0]]\n",
    "A1 = 10** (0.4*(base_mag-m1))\n",
    "u1 = np.sqrt( ((peaks[0]-t0_ml)/tE_ml)**2 + (u0_ml)**2 )"
   ]
  },
  {
   "cell_type": "code",
   "execution_count": 135,
   "metadata": {},
   "outputs": [],
   "source": [
    "# Caustic crossing 2\n",
    "\n",
    "m2 = df['m'][df['t']==peaks[1]]\n",
    "A2 = 10** (0.4*(base_mag-m2))\n",
    "u2 = np.sqrt( ((peaks[1]-t0_ml)/tE_ml)**2 + (u0_ml)**2 )"
   ]
  },
  {
   "cell_type": "code",
   "execution_count": 138,
   "metadata": {},
   "outputs": [],
   "source": [
    "alpha = np.arcsin(u0_ml/u1)"
   ]
  },
  {
   "cell_type": "code",
   "execution_count": 140,
   "metadata": {},
   "outputs": [],
   "source": [
    "s0s1 = np.sqrt( (u1)**2 + (u0_ml)**2 )\n",
    "s0s2 = np.sqrt( (u2)**2 + (u0_ml)**2 )\n",
    "s1s2 = s0s1 - s0s2\n",
    "xs1 = (s1s2 * s0s1) / u1\n",
    "Lx = u1 - xs1"
   ]
  },
  {
   "cell_type": "code",
   "execution_count": 145,
   "metadata": {},
   "outputs": [],
   "source": [
    "x = Symbol('x')\n",
    "s = solve(x-(1/x)-Lx, x)"
   ]
  },
  {
   "cell_type": "code",
   "execution_count": 152,
   "metadata": {},
   "outputs": [],
   "source": [
    "q = ( xs1*s[1]*np.sqrt(float(s[1]**2 -1))/2 )**2"
   ]
  },
  {
   "cell_type": "code",
   "execution_count": 208,
   "metadata": {},
   "outputs": [
    {
     "name": "stderr",
     "output_type": "stream",
     "text": [
      "/usr/local/lib/python2.7/site-packages/ipykernel_launcher.py:32: FutureWarning: 'argmin' is deprecated, use 'idxmin' instead. The behavior of 'argmin'\n",
      "will be corrected to return the positional minimum in the future.\n",
      "Use 'series.values.argmin' to get the position of the minimum now.\n",
      "/usr/local/lib/python2.7/site-packages/ipykernel_launcher.py:37: FutureWarning: 'argmin' is deprecated, use 'idxmin' instead. The behavior of 'argmin'\n",
      "will be corrected to return the positional minimum in the future.\n",
      "Use 'series.values.argmin' to get the position of the minimum now.\n"
     ]
    },
    {
     "data": {
      "image/png": "[encoded data removed]",
      "text/plain": [
       "<Figure size 432x288 with 1 Axes>"
      ]
     },
     "metadata": {},
     "output_type": "display_data"
    },
    {
     "data": {
      "image/png": "[encoded data removed]",
      "text/plain": [
       "<Figure size 432x288 with 1 Axes>"
      ]
     },
     "metadata": {},
     "output_type": "display_data"
    }
   ],
   "source": [
    "ss, qq = s_q_estimator(df['t'].values, df['m'].values, df['m_err'].values)"
   ]
  },
  {
   "cell_type": "code",
   "execution_count": 202,
   "metadata": {},
   "outputs": [
    {
     "data": {
      "text/plain": [
       "True"
      ]
     },
     "execution_count": 202,
     "metadata": {},
     "output_type": "execute_result"
    }
   ],
   "source": [
    "len(df['t'])==2400"
   ]
  },
  {
   "cell_type": "code",
   "execution_count": null,
   "metadata": {},
   "outputs": [],
   "source": []
  }
 ],
 "metadata": {
  "kernelspec": {
   "display_name": "Python 2",
   "language": "python",
   "name": "python2"
  },
  "language_info": {
   "codemirror_mode": {
    "name": "ipython",
    "version": 2
   },
   "file_extension": ".py",
   "mimetype": "text/x-python",
   "name": "python",
   "nbconvert_exporter": "python",
   "pygments_lexer": "ipython2",
   "version": "2.7.14"
  }
 },
 "nbformat": 4,
 "nbformat_minor": 2
}
