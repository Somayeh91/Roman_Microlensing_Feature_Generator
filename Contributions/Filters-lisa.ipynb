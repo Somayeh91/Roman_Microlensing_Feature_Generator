{
 "cells": [
  {
   "cell_type": "code",
   "execution_count": 1,
   "metadata": {
    "collapsed": true
   },
   "outputs": [],
   "source": [
    "import numpy as np\n",
    "import matplotlib.pyplot as plt\n",
    "\n",
    "import os\n",
    "\n",
    "import scipy.optimize as opt\n",
    "%matplotlib inline"
   ]
  },
  {
   "cell_type": "code",
   "execution_count": 2,
   "metadata": {
    "collapsed": false
   },
   "outputs": [
    {
     "ename": "OSError",
     "evalue": "[Errno 2] No such file or directory: '/Users/ldang/Desktop/HackSession-WFIRST/simulated_data'",
     "output_type": "error",
     "traceback": [
      "\u001b[0;31m---------------------------------------------------------------------------\u001b[0m",
      "\u001b[0;31mOSError\u001b[0m                                   Traceback (most recent call last)",
      "\u001b[0;32m<ipython-input-2-9d96fa4e94a2>\u001b[0m in \u001b[0;36m<module>\u001b[0;34m()\u001b[0m\n\u001b[1;32m      1\u001b[0m \u001b[0;31m# importing the data\u001b[0m\u001b[0;34m\u001b[0m\u001b[0;34m\u001b[0m\u001b[0m\n\u001b[1;32m      2\u001b[0m \u001b[0mpath\u001b[0m \u001b[0;34m=\u001b[0m \u001b[0;34m'/Users/ldang/Desktop/HackSession-WFIRST/simulated_data'\u001b[0m\u001b[0;34m\u001b[0m\u001b[0m\n\u001b[0;32m----> 3\u001b[0;31m \u001b[0mdirs\u001b[0m \u001b[0;34m=\u001b[0m \u001b[0mos\u001b[0m\u001b[0;34m.\u001b[0m\u001b[0mlistdir\u001b[0m\u001b[0;34m(\u001b[0m\u001b[0mpath\u001b[0m\u001b[0;34m)\u001b[0m\u001b[0;34m\u001b[0m\u001b[0m\n\u001b[0m\u001b[1;32m      4\u001b[0m \u001b[0mnb\u001b[0m   \u001b[0;34m=\u001b[0m \u001b[0mlen\u001b[0m\u001b[0;34m(\u001b[0m\u001b[0mdirs\u001b[0m\u001b[0;34m)\u001b[0m\u001b[0;34m\u001b[0m\u001b[0m\n",
      "\u001b[0;31mOSError\u001b[0m: [Errno 2] No such file or directory: '/Users/ldang/Desktop/HackSession-WFIRST/simulated_data'"
     ]
    }
   ],
   "source": [
    "# importing the data\n",
    "path = '/Users/ldang/Desktop/HackSession-WFIRST/simulated_data'\n",
    "dirs = os.listdir(path)\n",
    "nb   = len(dirs)"
   ]
  },
  {
   "cell_type": "code",
   "execution_count": 3,
   "metadata": {
    "collapsed": true
   },
   "outputs": [],
   "source": [
    "def rect(x, t0, tE, am):\n",
    "    '''\n",
    "    x  = time array\n",
    "    t0 = time of center of the top-hat\n",
    "    tE = half duration of the top-hat\n",
    "    am = amplitude\n",
    "    '''\n",
    "    x0 = x - t0\n",
    "    return am*np.where(abs(x0)<=tE, 1, 0)\n",
    "\n",
    "def sinusoid(x, amp, off,P):\n",
    "    '''\n",
    "    amp = amplitude\n",
    "    off = offset\n",
    "    '''\n",
    "    x0 = (x-off)\n",
    "    return amp*np.sin(x0)"
   ]
  },
  {
   "cell_type": "code",
   "execution_count": 7,
   "metadata": {
    "collapsed": false
   },
   "outputs": [
    {
     "data": {
      "text/plain": [
       "[<matplotlib.lines.Line2D at 0x1109df090>]"
      ]
     },
     "execution_count": 7,
     "metadata": {},
     "output_type": "execute_result"
    },
    {
     "data": {
      "image/png": "[encoded data removed]",
      "text/plain": [
       "<matplotlib.figure.Figure at 0x110ae1b50>"
      ]
     },
     "metadata": {},
     "output_type": "display_data"
    }
   ],
   "source": [
    "# example of the top hat function\n",
    "xt = np.linspace(-1,2,100)\n",
    "yt = rect(xt, 0.5, 0.5, 2)\n",
    "plt.plot(xt,yt)\n"
   ]
  },
  {
   "cell_type": "code",
   "execution_count": 96,
   "metadata": {
    "collapsed": false
   },
   "outputs": [
    {
     "data": {
      "text/plain": [
       "[<matplotlib.lines.Line2D at 0x10232f4a20>]"
      ]
     },
     "execution_count": 96,
     "metadata": {},
     "output_type": "execute_result"
    },
    {
     "data": {
      "image/png": "[encoded data removed]",
      "text/plain": [
       "<Figure size 432x288 with 1 Axes>"
      ]
     },
     "metadata": {
      "needs_background": "light"
     },
     "output_type": "display_data"
    }
   ],
   "source": [
    "# making sure the sinusoids behaves...\n",
    "\n",
    "xs = np.linspace(-1,2*np.pi-1,100)\n",
    "ys = sinusoid(xs, 2, 0.0, 3)\n",
    "plt.figure()\n",
    "plt.plot(xs,ys)\n",
    "# plt.axhline(y=0)\n",
    "# plt.axvline(x=0)\n",
    "# plt.axhline(y=np.max(ys))\n",
    "# plt.axvline(x=xs[np.argmax(ys)])"
   ]
  },
  {
   "cell_type": "markdown",
   "metadata": {},
   "source": [
    "###  fitting top-hat\n",
    "I "
   ]
  },
  {
   "cell_type": "code",
   "execution_count": 95,
   "metadata": {
    "collapsed": false
   },
   "outputs": [
    {
     "data": {
      "text/plain": [
       "[<matplotlib.lines.Line2D at 0x10230aa4a8>]"
      ]
     },
     "execution_count": 95,
     "metadata": {},
     "output_type": "execute_result"
    },
    {
     "data": {
      "image/png": "[encoded data removed]",
      "text/plain": [
       "<Figure size 432x288 with 1 Axes>"
      ]
     },
     "metadata": {
      "needs_background": "light"
     },
     "output_type": "display_data"
    }
   ],
   "source": [
    "# generating noisy data\n",
    "xdata = xt\n",
    "ydata = yt+np.random.normal(0.0, 0.2, len(yt))\n",
    "\n",
    "# give p0 [t0, tE, am]\n",
    "t0_ini = xdata[np.argmax(ydata)]\n",
    "tE_ini = 0.5*(xt[1]-xt[0])*len(np.where(abs(ydata-np.median(ydata))>2*np.std(ydata))[0])\n",
    "am_ini = np.max(ydata)\n",
    "\n",
    "paramt = [t0_ini, tE_ini, am_ini]\n",
    "\n",
    "# optmizing\n",
    "popt, pcov = opt.curve_fit(rect, xdata, ydata, p0=paramt)\n",
    "\n",
    "guess    = rect(xdata, *paramt)\n",
    "solution = rect(xdata, *popt)\n",
    "\n",
    "plt.figure()\n",
    "plt.plot(xt, solution)\n",
    "plt.plot(xt, guess)\n",
    "plt.plot(xt, ydata, '.')"
   ]
  },
  {
   "cell_type": "code",
   "execution_count": null,
   "metadata": {
    "collapsed": true
   },
   "outputs": [],
   "source": []
  }
 ],
 "metadata": {
  "kernelspec": {
   "display_name": "Python 2",
   "language": "python",
   "name": "python2"
  },
  "language_info": {
   "codemirror_mode": {
    "name": "ipython",
    "version": 2
   },
   "file_extension": ".py",
   "mimetype": "text/x-python",
   "name": "python",
   "nbconvert_exporter": "python",
   "pygments_lexer": "ipython2",
   "version": "2.7.11"
  }
 },
 "nbformat": 4,
 "nbformat_minor": 2
}
